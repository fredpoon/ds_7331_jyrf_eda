{
 "cells": [
  {
   "cell_type": "markdown",
   "metadata": {},
   "source": [
    "# Project 1 Data Exploration and Analysis\n",
    "##### 5/16/2020\n",
    "##### Yang Zhang, Reannan McDaniel, Jonathan Roach, Fred Poon"
   ]
  },
  {
   "cell_type": "markdown",
   "metadata": {},
   "source": [
    "### Business Understanding - describe the purpose of the data set you selected."
   ]
  },
  {
   "cell_type": "code",
   "execution_count": null,
   "metadata": {},
   "outputs": [],
   "source": [
    "# [10] Describe the purpose of the data set you selected (i.e., why was this data collected in the first place?). Describe how you would define and measure the outcomes from the dataset. That is, why is this data important and how do you know if you have mined useful knowledge from the dataset? How  would you measure the effectiveness of a good prediction algorithm? Be specific."
   ]
  },
  {
   "cell_type": "markdown",
   "metadata": {},
   "source": [
    "### Data Understanding"
   ]
  },
  {
   "cell_type": "markdown",
   "metadata": {},
   "source": [
    "#### Describe the attributes"
   ]
  },
  {
   "cell_type": "code",
   "execution_count": 3,
   "metadata": {},
   "outputs": [
    {
     "output_type": "execute_result",
     "data": {
      "text/plain": "       vphone_ad                   street_ad    scity_ad  szip_ad category_cd  \\\n0  (336)506-4001       1247 Jimmie Kerr Road      Graham  27253.0           H   \n1  (336)578-1366                  2518 NC 54      Graham  27253.0           E   \n2  (336)538-6030                2832 N NC 87        Elon  27244.0           E   \n3  (336)570-6195        2229 Broadview Drive  Burlington  27217.0           M   \n4  (336)538-8700  3720 Bonnar Bridge Parkway  Burlington  27215.0           E   \n\n                       url_ad grade_range_cd  \\\n0   http://amc.abss.k12.nc.us           9-12   \n1   http://awe.abss.k12.nc.us           PK-5   \n2   http://aoe.abss.k12.nc.us            K-5   \n3  http://brm.abss.k12.nc.us/            6-8   \n4   http://hle.abss.k12.nc.us            K-5   \n\n                      calendar_type_txt sna_pgm_type_cd school_type_txt  ...  \\\n0  Regular School, Traditional Calendar               R  Regular School  ...   \n1  Regular School, Traditional Calendar               R  Regular School  ...   \n2  Regular School, Traditional Calendar               R  Regular School  ...   \n3  Regular School, Traditional Calendar               R  Regular School  ...   \n4  Regular School, Traditional Calendar               R  Regular School  ...   \n\n  MinorityFemalePct MinorityMalePct PacificIslandFemalePct  \\\n0          0.243243        0.067568               0.000000   \n1          0.157699        0.163265               0.000000   \n2          0.094096        0.107011               0.001845   \n3          0.445980        0.463568               0.000000   \n4          0.164134        0.173252               0.000000   \n\n  PacificIslandMalePct  PacificIslandPct  TwoOrMoreFemalePct  \\\n0             0.000000           0.00000            0.000000   \n1             0.000000           0.00000            0.014842   \n2             0.001845           0.00369            0.011070   \n3             0.000000           0.00000            0.011307   \n4             0.000000           0.00000            0.019757   \n\n   TwoOrMoreMalePct TwoOrMorePct unit_code  Year  \n0          0.013514     0.013514     10303  2014  \n1          0.020408     0.035250     10304  2014  \n2          0.012915     0.023985     10308  2014  \n3          0.013819     0.025126     10310  2014  \n4          0.028875     0.048632     10312  2014  \n\n[5 rows x 259 columns]",
      "text/html": "<div>\n<style scoped>\n    .dataframe tbody tr th:only-of-type {\n        vertical-align: middle;\n    }\n\n    .dataframe tbody tr th {\n        vertical-align: top;\n    }\n\n    .dataframe thead th {\n        text-align: right;\n    }\n</style>\n<table border=\"1\" class=\"dataframe\">\n  <thead>\n    <tr style=\"text-align: right;\">\n      <th></th>\n      <th>vphone_ad</th>\n      <th>street_ad</th>\n      <th>scity_ad</th>\n      <th>szip_ad</th>\n      <th>category_cd</th>\n      <th>url_ad</th>\n      <th>grade_range_cd</th>\n      <th>calendar_type_txt</th>\n      <th>sna_pgm_type_cd</th>\n      <th>school_type_txt</th>\n      <th>...</th>\n      <th>MinorityFemalePct</th>\n      <th>MinorityMalePct</th>\n      <th>PacificIslandFemalePct</th>\n      <th>PacificIslandMalePct</th>\n      <th>PacificIslandPct</th>\n      <th>TwoOrMoreFemalePct</th>\n      <th>TwoOrMoreMalePct</th>\n      <th>TwoOrMorePct</th>\n      <th>unit_code</th>\n      <th>Year</th>\n    </tr>\n  </thead>\n  <tbody>\n    <tr>\n      <th>0</th>\n      <td>(336)506-4001</td>\n      <td>1247 Jimmie Kerr Road</td>\n      <td>Graham</td>\n      <td>27253.0</td>\n      <td>H</td>\n      <td>http://amc.abss.k12.nc.us</td>\n      <td>9-12</td>\n      <td>Regular School, Traditional Calendar</td>\n      <td>R</td>\n      <td>Regular School</td>\n      <td>...</td>\n      <td>0.243243</td>\n      <td>0.067568</td>\n      <td>0.000000</td>\n      <td>0.000000</td>\n      <td>0.00000</td>\n      <td>0.000000</td>\n      <td>0.013514</td>\n      <td>0.013514</td>\n      <td>10303</td>\n      <td>2014</td>\n    </tr>\n    <tr>\n      <th>1</th>\n      <td>(336)578-1366</td>\n      <td>2518 NC 54</td>\n      <td>Graham</td>\n      <td>27253.0</td>\n      <td>E</td>\n      <td>http://awe.abss.k12.nc.us</td>\n      <td>PK-5</td>\n      <td>Regular School, Traditional Calendar</td>\n      <td>R</td>\n      <td>Regular School</td>\n      <td>...</td>\n      <td>0.157699</td>\n      <td>0.163265</td>\n      <td>0.000000</td>\n      <td>0.000000</td>\n      <td>0.00000</td>\n      <td>0.014842</td>\n      <td>0.020408</td>\n      <td>0.035250</td>\n      <td>10304</td>\n      <td>2014</td>\n    </tr>\n    <tr>\n      <th>2</th>\n      <td>(336)538-6030</td>\n      <td>2832 N NC 87</td>\n      <td>Elon</td>\n      <td>27244.0</td>\n      <td>E</td>\n      <td>http://aoe.abss.k12.nc.us</td>\n      <td>K-5</td>\n      <td>Regular School, Traditional Calendar</td>\n      <td>R</td>\n      <td>Regular School</td>\n      <td>...</td>\n      <td>0.094096</td>\n      <td>0.107011</td>\n      <td>0.001845</td>\n      <td>0.001845</td>\n      <td>0.00369</td>\n      <td>0.011070</td>\n      <td>0.012915</td>\n      <td>0.023985</td>\n      <td>10308</td>\n      <td>2014</td>\n    </tr>\n    <tr>\n      <th>3</th>\n      <td>(336)570-6195</td>\n      <td>2229 Broadview Drive</td>\n      <td>Burlington</td>\n      <td>27217.0</td>\n      <td>M</td>\n      <td>http://brm.abss.k12.nc.us/</td>\n      <td>6-8</td>\n      <td>Regular School, Traditional Calendar</td>\n      <td>R</td>\n      <td>Regular School</td>\n      <td>...</td>\n      <td>0.445980</td>\n      <td>0.463568</td>\n      <td>0.000000</td>\n      <td>0.000000</td>\n      <td>0.00000</td>\n      <td>0.011307</td>\n      <td>0.013819</td>\n      <td>0.025126</td>\n      <td>10310</td>\n      <td>2014</td>\n    </tr>\n    <tr>\n      <th>4</th>\n      <td>(336)538-8700</td>\n      <td>3720 Bonnar Bridge Parkway</td>\n      <td>Burlington</td>\n      <td>27215.0</td>\n      <td>E</td>\n      <td>http://hle.abss.k12.nc.us</td>\n      <td>K-5</td>\n      <td>Regular School, Traditional Calendar</td>\n      <td>R</td>\n      <td>Regular School</td>\n      <td>...</td>\n      <td>0.164134</td>\n      <td>0.173252</td>\n      <td>0.000000</td>\n      <td>0.000000</td>\n      <td>0.00000</td>\n      <td>0.019757</td>\n      <td>0.028875</td>\n      <td>0.048632</td>\n      <td>10312</td>\n      <td>2014</td>\n    </tr>\n  </tbody>\n</table>\n<p>5 rows × 259 columns</p>\n</div>"
     },
     "metadata": {},
     "execution_count": 3
    }
   ],
   "source": [
    "import pandas as pd\n",
    "\n",
    "# [10] Describe the meaning and type of data (scale, values, etc.) for each attribute in the data file.\n",
    "\n",
    "df = pd.read_csv('PublicSchools2014to2017_YZ.csv')\n",
    "df.head()"
   ]
  },
  {
   "cell_type": "markdown",
   "metadata": {},
   "source": [
    "Here's our summary statistics"
   ]
  },
  {
   "cell_type": "code",
   "execution_count": 7,
   "metadata": {},
   "outputs": [
    {
     "output_type": "execute_result",
     "data": {
      "text/plain": "            szip_ad  student_num  lea_avg_student_num  st_avg_student_num  \\\ncount   9731.000000  9731.000000          9731.000000         9731.000000   \nmean   27981.523173   588.443634           588.456171          587.764053   \nstd      517.884899   381.356319           270.983795          150.891747   \nmin    27006.000000     1.000000             0.000000            0.000000   \n25%    27529.000000   346.000000           438.000000          490.000000   \n50%    28052.000000   520.000000           533.000000          496.000000   \n75%    28394.500000   731.000000           698.500000          665.000000   \nmax    28906.000000  2974.000000          1852.000000          860.000000   \n\n       Math I_Size  lea_total_expense_num  lea_salary_expense_pct  \\\ncount  9731.000000            9731.000000             9731.000000   \nmean      8.818107            8992.041761                0.673819   \nstd      11.182555            1023.850284                0.095480   \nmin       0.000000            7282.190000                0.547000   \n25%       0.000000            8362.900000                0.613000   \n50%       0.000000            8779.340000                0.628000   \n75%      20.000000            9326.890000                0.763000   \nmax      43.000000           17801.850000                0.878000   \n\n       lea_services_expense_pct  lea_supplies_expense_pct  \\\ncount               9731.000000               9731.000000   \nmean                   0.080056                  0.079985   \nstd                    0.014983                  0.016110   \nmin                    0.047000                  0.028000   \n25%                    0.069000                  0.069000   \n50%                    0.080000                  0.080000   \n75%                    0.087000                  0.091000   \nmax                    0.153000                  0.143000   \n\n       lea_instruct_equip_exp_pct  ...  MinorityFemalePct  MinorityMalePct  \\\ncount                 9731.000000  ...        9731.000000      9731.000000   \nmean                     0.008898  ...           0.244632         0.257577   \nstd                      0.008045  ...           0.135447         0.145799   \nmin                      0.000000  ...           0.000000         0.000000   \n25%                      0.005000  ...           0.131897         0.135066   \n50%                      0.007000  ...           0.231405         0.241470   \n75%                      0.011000  ...           0.350713         0.368103   \nmax                      0.065000  ...           0.991150         1.000000   \n\n       PacificIslandFemalePct  PacificIslandMalePct  PacificIslandPct  \\\ncount             9731.000000           9731.000000       9731.000000   \nmean                 0.000615              0.000605          0.001220   \nstd                  0.001630              0.001987          0.003048   \nmin                  0.000000              0.000000          0.000000   \n25%                  0.000000              0.000000          0.000000   \n50%                  0.000000              0.000000          0.000000   \n75%                  0.000000              0.000000          0.001656   \nmax                  0.037415              0.076923          0.094595   \n\n       TwoOrMoreFemalePct  TwoOrMoreMalePct  TwoOrMorePct      unit_code  \\\ncount         9731.000000       9731.000000   9731.000000    9731.000000   \nmean             0.018981          0.019518      0.038499  521799.009763   \nstd              0.012153          0.013010      0.022044  277612.242405   \nmin              0.000000          0.000000      0.000000   10303.000000   \n25%              0.010526          0.010851      0.023256  290388.000000   \n50%              0.017214          0.017526      0.035422  510378.000000   \n75%              0.025101          0.025716      0.049874  770348.000000   \nmax              0.095890          0.250000      0.250000  995336.000000   \n\n              Year  \ncount  9731.000000  \nmean   2015.502518  \nstd       1.118410  \nmin    2014.000000  \n25%    2015.000000  \n50%    2016.000000  \n75%    2017.000000  \nmax    2017.000000  \n\n[8 rows x 239 columns]",
      "text/html": "<div>\n<style scoped>\n    .dataframe tbody tr th:only-of-type {\n        vertical-align: middle;\n    }\n\n    .dataframe tbody tr th {\n        vertical-align: top;\n    }\n\n    .dataframe thead th {\n        text-align: right;\n    }\n</style>\n<table border=\"1\" class=\"dataframe\">\n  <thead>\n    <tr style=\"text-align: right;\">\n      <th></th>\n      <th>szip_ad</th>\n      <th>student_num</th>\n      <th>lea_avg_student_num</th>\n      <th>st_avg_student_num</th>\n      <th>Math I_Size</th>\n      <th>lea_total_expense_num</th>\n      <th>lea_salary_expense_pct</th>\n      <th>lea_services_expense_pct</th>\n      <th>lea_supplies_expense_pct</th>\n      <th>lea_instruct_equip_exp_pct</th>\n      <th>...</th>\n      <th>MinorityFemalePct</th>\n      <th>MinorityMalePct</th>\n      <th>PacificIslandFemalePct</th>\n      <th>PacificIslandMalePct</th>\n      <th>PacificIslandPct</th>\n      <th>TwoOrMoreFemalePct</th>\n      <th>TwoOrMoreMalePct</th>\n      <th>TwoOrMorePct</th>\n      <th>unit_code</th>\n      <th>Year</th>\n    </tr>\n  </thead>\n  <tbody>\n    <tr>\n      <th>count</th>\n      <td>9731.000000</td>\n      <td>9731.000000</td>\n      <td>9731.000000</td>\n      <td>9731.000000</td>\n      <td>9731.000000</td>\n      <td>9731.000000</td>\n      <td>9731.000000</td>\n      <td>9731.000000</td>\n      <td>9731.000000</td>\n      <td>9731.000000</td>\n      <td>...</td>\n      <td>9731.000000</td>\n      <td>9731.000000</td>\n      <td>9731.000000</td>\n      <td>9731.000000</td>\n      <td>9731.000000</td>\n      <td>9731.000000</td>\n      <td>9731.000000</td>\n      <td>9731.000000</td>\n      <td>9731.000000</td>\n      <td>9731.000000</td>\n    </tr>\n    <tr>\n      <th>mean</th>\n      <td>27981.523173</td>\n      <td>588.443634</td>\n      <td>588.456171</td>\n      <td>587.764053</td>\n      <td>8.818107</td>\n      <td>8992.041761</td>\n      <td>0.673819</td>\n      <td>0.080056</td>\n      <td>0.079985</td>\n      <td>0.008898</td>\n      <td>...</td>\n      <td>0.244632</td>\n      <td>0.257577</td>\n      <td>0.000615</td>\n      <td>0.000605</td>\n      <td>0.001220</td>\n      <td>0.018981</td>\n      <td>0.019518</td>\n      <td>0.038499</td>\n      <td>521799.009763</td>\n      <td>2015.502518</td>\n    </tr>\n    <tr>\n      <th>std</th>\n      <td>517.884899</td>\n      <td>381.356319</td>\n      <td>270.983795</td>\n      <td>150.891747</td>\n      <td>11.182555</td>\n      <td>1023.850284</td>\n      <td>0.095480</td>\n      <td>0.014983</td>\n      <td>0.016110</td>\n      <td>0.008045</td>\n      <td>...</td>\n      <td>0.135447</td>\n      <td>0.145799</td>\n      <td>0.001630</td>\n      <td>0.001987</td>\n      <td>0.003048</td>\n      <td>0.012153</td>\n      <td>0.013010</td>\n      <td>0.022044</td>\n      <td>277612.242405</td>\n      <td>1.118410</td>\n    </tr>\n    <tr>\n      <th>min</th>\n      <td>27006.000000</td>\n      <td>1.000000</td>\n      <td>0.000000</td>\n      <td>0.000000</td>\n      <td>0.000000</td>\n      <td>7282.190000</td>\n      <td>0.547000</td>\n      <td>0.047000</td>\n      <td>0.028000</td>\n      <td>0.000000</td>\n      <td>...</td>\n      <td>0.000000</td>\n      <td>0.000000</td>\n      <td>0.000000</td>\n      <td>0.000000</td>\n      <td>0.000000</td>\n      <td>0.000000</td>\n      <td>0.000000</td>\n      <td>0.000000</td>\n      <td>10303.000000</td>\n      <td>2014.000000</td>\n    </tr>\n    <tr>\n      <th>25%</th>\n      <td>27529.000000</td>\n      <td>346.000000</td>\n      <td>438.000000</td>\n      <td>490.000000</td>\n      <td>0.000000</td>\n      <td>8362.900000</td>\n      <td>0.613000</td>\n      <td>0.069000</td>\n      <td>0.069000</td>\n      <td>0.005000</td>\n      <td>...</td>\n      <td>0.131897</td>\n      <td>0.135066</td>\n      <td>0.000000</td>\n      <td>0.000000</td>\n      <td>0.000000</td>\n      <td>0.010526</td>\n      <td>0.010851</td>\n      <td>0.023256</td>\n      <td>290388.000000</td>\n      <td>2015.000000</td>\n    </tr>\n    <tr>\n      <th>50%</th>\n      <td>28052.000000</td>\n      <td>520.000000</td>\n      <td>533.000000</td>\n      <td>496.000000</td>\n      <td>0.000000</td>\n      <td>8779.340000</td>\n      <td>0.628000</td>\n      <td>0.080000</td>\n      <td>0.080000</td>\n      <td>0.007000</td>\n      <td>...</td>\n      <td>0.231405</td>\n      <td>0.241470</td>\n      <td>0.000000</td>\n      <td>0.000000</td>\n      <td>0.000000</td>\n      <td>0.017214</td>\n      <td>0.017526</td>\n      <td>0.035422</td>\n      <td>510378.000000</td>\n      <td>2016.000000</td>\n    </tr>\n    <tr>\n      <th>75%</th>\n      <td>28394.500000</td>\n      <td>731.000000</td>\n      <td>698.500000</td>\n      <td>665.000000</td>\n      <td>20.000000</td>\n      <td>9326.890000</td>\n      <td>0.763000</td>\n      <td>0.087000</td>\n      <td>0.091000</td>\n      <td>0.011000</td>\n      <td>...</td>\n      <td>0.350713</td>\n      <td>0.368103</td>\n      <td>0.000000</td>\n      <td>0.000000</td>\n      <td>0.001656</td>\n      <td>0.025101</td>\n      <td>0.025716</td>\n      <td>0.049874</td>\n      <td>770348.000000</td>\n      <td>2017.000000</td>\n    </tr>\n    <tr>\n      <th>max</th>\n      <td>28906.000000</td>\n      <td>2974.000000</td>\n      <td>1852.000000</td>\n      <td>860.000000</td>\n      <td>43.000000</td>\n      <td>17801.850000</td>\n      <td>0.878000</td>\n      <td>0.153000</td>\n      <td>0.143000</td>\n      <td>0.065000</td>\n      <td>...</td>\n      <td>0.991150</td>\n      <td>1.000000</td>\n      <td>0.037415</td>\n      <td>0.076923</td>\n      <td>0.094595</td>\n      <td>0.095890</td>\n      <td>0.250000</td>\n      <td>0.250000</td>\n      <td>995336.000000</td>\n      <td>2017.000000</td>\n    </tr>\n  </tbody>\n</table>\n<p>8 rows × 239 columns</p>\n</div>"
     },
     "metadata": {},
     "execution_count": 7
    }
   ],
   "source": [
    "df.describe()"
   ]
  },
  {
   "cell_type": "markdown",
   "metadata": {},
   "source": [
    "#### Verify data quality"
   ]
  },
  {
   "cell_type": "code",
   "execution_count": null,
   "metadata": {},
   "outputs": [],
   "source": [
    "# [15] Verify data quality: Explain any missing values, duplicate data, and outliers. Are those mistakes? How do you deal with these problems? Give justifications for your methods. "
   ]
  },
  {
   "cell_type": "markdown",
   "metadata": {},
   "source": [
    "#### Visualize appropriate statistics (summary statistics)"
   ]
  },
  {
   "cell_type": "code",
   "execution_count": null,
   "metadata": {},
   "outputs": [],
   "source": [
    "# [10] Visualize appropriate statistics (e.g., range, mode, mean, median, variance, counts) for a subset of attributes. Describe anything meaningful you found from this or if you found something potentially interesting. Note: You can also use data from other sources for comparison. Explain why the statistics run are meaningful. "
   ]
  },
  {
   "cell_type": "markdown",
   "metadata": {},
   "source": [
    "#### Visualize most interesting attributes"
   ]
  },
  {
   "cell_type": "code",
   "execution_count": null,
   "metadata": {},
   "outputs": [],
   "source": [
    "# [15] Visualize the most interesting attributes (at least 5 attributes, your opinion on what is interesting). Important: Interpret the implications for each visualization. Explain for each attribute why the chosen visualization is appropriate. "
   ]
  },
  {
   "cell_type": "markdown",
   "metadata": {},
   "source": [
    "#### Visualize relationships"
   ]
  },
  {
   "cell_type": "code",
   "execution_count": null,
   "metadata": {},
   "outputs": [],
   "source": [
    "# [15] Visualize relationships between attributes: Look at the attributes via scatter plots, correlation, cross-tabulation, group-wise averages, etc. as appropriate. Explain any interesting relationships. "
   ]
  },
  {
   "cell_type": "markdown",
   "metadata": {},
   "source": [
    "Identify and explain interesting relationships"
   ]
  },
  {
   "cell_type": "code",
   "execution_count": null,
   "metadata": {},
   "outputs": [],
   "source": [
    "# [10] Identify and explain interesting relationships between features and the class you are trying to predict (i.e., relationships with variables and the target classification). "
   ]
  },
  {
   "cell_type": "markdown",
   "metadata": {},
   "source": [
    "#### Other features"
   ]
  },
  {
   "cell_type": "code",
   "execution_count": null,
   "metadata": {},
   "outputs": [],
   "source": [
    "# [5] Are there other features that could be added to the data or created from existing features? Which ones? "
   ]
  },
  {
   "cell_type": "markdown",
   "metadata": {},
   "source": [
    "### Exceptional Work"
   ]
  },
  {
   "cell_type": "code",
   "execution_count": null,
   "metadata": {},
   "outputs": [],
   "source": [
    "# [10]\n",
    "# • You have free reign to provide additional analyses.\n",
    "# • One idea: implement dimensionality reduction, then visualize and interpret the results. "
   ]
  }
 ],
 "metadata": {
  "language_info": {
   "codemirror_mode": {
    "name": "ipython",
    "version": 3
   },
   "file_extension": ".py",
   "mimetype": "text/x-python",
   "name": "python",
   "nbconvert_exporter": "python",
   "pygments_lexer": "ipython3",
   "version": "3.7.1-final"
  },
  "orig_nbformat": 2,
  "kernelspec": {
   "name": "python37164bitml1sumr2020condaf1b124117553466b89d65eb9c9f3513c",
   "display_name": "Python 3.7.1 64-bit ('ML1_Sumr2020': conda)"
  }
 },
 "nbformat": 4,
 "nbformat_minor": 2
}