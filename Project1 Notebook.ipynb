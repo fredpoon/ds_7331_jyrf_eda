{
 "cells": [
  {
   "cell_type": "markdown",
   "metadata": {},
   "source": [
    "# Project 1 Data Exploration and Analysis\n",
    "##### 5/16/2020\n",
    "##### Yang Zhang, Reannan McDaniel, Jonathan Roach, Fred Poon"
   ]
  },
  {
   "cell_type": "markdown",
   "metadata": {},
   "source": [
    "### Business Understanding - describe the purpose of the data set you selected."
   ]
  },
  {
   "cell_type": "code",
   "execution_count": null,
   "metadata": {},
   "outputs": [],
   "source": [
    "# [10] Describe the purpose of the data set you selected (i.e., why was this data collected in the first place?). Describe how you would define and measure the outcomes from the dataset. That is, why is this data important and how do you know if you have mined useful knowledge from the dataset? How  would you measure the effectiveness of a good prediction algorithm? Be specific."
   ]
  },
  {
   "cell_type": "markdown",
   "metadata": {},
   "source": [
    "### Data Understanding"
   ]
  },
  {
   "cell_type": "markdown",
   "metadata": {},
   "source": [
    "#### Describe the attributes"
   ]
  },
  {
   "cell_type": "code",
   "execution_count": 8,
   "metadata": {},
   "outputs": [
    {
     "output_type": "stream",
     "name": "stdout",
     "text": "<class 'pandas.core.frame.DataFrame'>\nRangeIndex: 9731 entries, 0 to 9730\nData columns (total 259 columns):\n #   Column                               Dtype  \n---  ------                               -----  \n 0   vphone_ad                            object \n 1   street_ad                            object \n 2   scity_ad                             object \n 3   szip_ad                              float64\n 4   category_cd                          object \n 5   url_ad                               object \n 6   grade_range_cd                       object \n 7   calendar_type_txt                    object \n 8   sna_pgm_type_cd                      object \n 9   school_type_txt                      object \n 10  calendar_only_txt                    object \n 11  title1_type_cd                       object \n 12  District Name                        object \n 13  esea_status                          object \n 14  student_num                          float64\n 15  lea_avg_student_num                  float64\n 16  st_avg_student_num                   float64\n 17  Grad_project_status                  object \n 18  url                                  object \n 19  Math I_Size                          float64\n 20  lea_total_expense_num                float64\n 21  lea_salary_expense_pct               float64\n 22  lea_services_expense_pct             float64\n 23  lea_supplies_expense_pct             float64\n 24  lea_instruct_equip_exp_pct           float64\n 25  lea_federal_perpupil_num             float64\n 26  lea_local_perpupil_num               float64\n 27  lea_state_perpupil_num               float64\n 28  School Name                          object \n 29  SPG Grade                            object \n 30  SPG Score                            float64\n 31  Reading SPG Grade                    object \n 32  EVAAS Growth Status                  object \n 33  EVAAS Growth Score                   float64\n 34  Science Score                        float64\n 35  EOG/EOCSubjects_CACR_All             float64\n 36  EOGGr3_CACR_All                      float64\n 37  EOGGr4_CACR_All                      float64\n 38  EOGGr5_CACR_All                      float64\n 39  EOCMathI_CACR_AmericanIndian         float64\n 40  EOCSubjects_CACR_AmericanIndian      float64\n 41  EOG/EOCSubjects_CACR_AmericanIndian  float64\n 42  EOGGr3_CACR_AmericanIndian           float64\n 43  EOGGr4_CACR_AmericanIndian           float64\n 44  EOGGr5_CACR_AmericanIndian           float64\n 45  EOGMathGr3_CACR_AmericanIndian       float64\n 46  EOGMathGr3-8_CACR_AmericanIndian     float64\n 47  EOGMathGr4_CACR_AmericanIndian       float64\n 48  EOGMathGr5_CACR_AmericanIndian       float64\n 49  EOGReadingGr3-8_CACR_AmericanIndian  float64\n 50  EOGScienceGr5_CACR_AmericanIndian    float64\n 51  EOGScienceGr5&8_CACR_AmericanIndian  float64\n 52  EOGSubjects_CACR_AmericanIndian      float64\n 53  EOCMathI_CACR_Asian                  float64\n 54  EOCSubjects_CACR_Asian               float64\n 55  EOG/EOCSubjects_CACR_Asian           float64\n 56  EOGGr3_CACR_Asian                    float64\n 57  EOGGr4_CACR_Asian                    float64\n 58  EOGGr5_CACR_Asian                    float64\n 59  EOGMathGr3_CACR_Asian                float64\n 60  EOGMathGr3-8_CACR_Asian              float64\n 61  EOGMathGr4_CACR_Asian                float64\n 62  EOGMathGr5_CACR_Asian                float64\n 63  EOGScienceGr5&8_CACR_Asian           float64\n 64  EOGSubjects_CACR_Asian               float64\n 65  EOCMathI_CACR_Black                  float64\n 66  EOG/EOCSubjects_CACR_Black           float64\n 67  EOGGr3_CACR_Black                    float64\n 68  EOGGr4_CACR_Black                    float64\n 69  EOGGr5_CACR_Black                    float64\n 70  EOGMathGr3_CACR_Black                float64\n 71  EOGMathGr3-8_CACR_Black              float64\n 72  EOGMathGr4_CACR_Black                float64\n 73  EOGMathGr5_CACR_Black                float64\n 74  EOGReadingGr3_CACR_Black             float64\n 75  EOGReadingGr3-8_CACR_Black           float64\n 76  EOGReadingGr4_CACR_Black             float64\n 77  EOGReadingGr5_CACR_Black             float64\n 78  EOGScienceGr5_CACR_Black             float64\n 79  EOGScienceGr5&8_CACR_Black           float64\n 80  EOGSubjects_CACR_Black               float64\n 81  EOCMathI_CACR_Hispanic               float64\n 82  EOG/EOCSubjects_CACR_Hispanic        float64\n 83  EOGGr3_CACR_Hispanic                 float64\n 84  EOGGr4_CACR_Hispanic                 float64\n 85  EOGGr5_CACR_Hispanic                 float64\n 86  EOGMathGr3_CACR_Hispanic             float64\n 87  EOGMathGr3-8_CACR_Hispanic           float64\n 88  EOGMathGr4_CACR_Hispanic             float64\n 89  EOGMathGr5_CACR_Hispanic             float64\n 90  EOGReadingGr3_CACR_Hispanic          float64\n 91  EOGReadingGr3-8_CACR_Hispanic        float64\n 92  EOGReadingGr4_CACR_Hispanic          float64\n 93  EOGReadingGr5_CACR_Hispanic          float64\n 94  EOGScienceGr5&8_CACR_Hispanic        float64\n 95  EOGSubjects_CACR_Hispanic            float64\n 96  EOCMathI_CACR_TwoorMoreRaces         float64\n 97  EOCSubjects_CACR_TwoorMoreRaces      float64\n 98  EOG/EOCSubjects_CACR_TwoorMoreRaces  float64\n 99  EOGGr3_CACR_TwoorMoreRaces           float64\n 100 EOGGr4_CACR_TwoorMoreRaces           float64\n 101 EOGGr5_CACR_TwoorMoreRaces           float64\n 102 EOGMathGr3_CACR_TwoorMoreRaces       float64\n 103 EOGMathGr3-8_CACR_TwoorMoreRaces     float64\n 104 EOGMathGr4_CACR_TwoorMoreRaces       float64\n 105 EOGMathGr5_CACR_TwoorMoreRaces       float64\n 106 EOGReadingGr3-8_CACR_TwoorMoreRaces  float64\n 107 EOGScienceGr5&8_CACR_TwoorMoreRaces  float64\n 108 EOGSubjects_CACR_TwoorMoreRaces      float64\n 109 EOG/EOCSubjects_CACR_White           float64\n 110 EOGGr4_CACR_White                    float64\n 111 EOGMathGr3-8_CACR_White              float64\n 112 EOGScienceGr5&8_CACR_White           float64\n 113 EOCMathI_CACR_EDS                    float64\n 114 EOG/EOCSubjects_CACR_EDS             float64\n 115 EOGMathGr3-8_CACR_EDS                float64\n 116 EOGReadingGr3-8_CACR_EDS             float64\n 117 EOGReadingGr5_CACR_EDS               float64\n 118 EOGScienceGr5&8_CACR_EDS             float64\n 119 EOCMathI_CACR_LEP                    float64\n 120 EOCMathI_GLP_LEP                     float64\n 121 EOCSubjects_CACR_LEP                 float64\n 122 EOCSubjects_GLP_LEP                  float64\n 123 EOG/EOCSubjects_CACR_LEP             float64\n 124 EOGGr3_CACR_LEP                      float64\n 125 EOGGr4_CACR_LEP                      float64\n 126 EOGGr5_CACR_LEP                      float64\n 127 EOGMathGr3_CACR_LEP                  float64\n 128 EOGMathGr3-8_CACR_LEP                float64\n 129 EOGMathGr4_CACR_LEP                  float64\n 130 EOGMathGr5_CACR_LEP                  float64\n 131 EOGReadingGr3_CACR_LEP               float64\n 132 EOGReadingGr3-8_CACR_LEP             float64\n 133 EOGReadingGr3-8_GLP_LEP              float64\n 134 EOGReadingGr4_CACR_LEP               float64\n 135 EOGReadingGr4_GLP_LEP                float64\n 136 EOGReadingGr5_CACR_LEP               float64\n 137 EOGReadingGr5_GLP_LEP                float64\n 138 EOGScienceGr5_CACR_LEP               float64\n 139 EOGScienceGr5&8_CACR_LEP             float64\n 140 EOCMathI_CACR_SWD                    float64\n 141 EOCMathI_GLP_SWD                     float64\n 142 EOCSubjects_CACR_SWD                 float64\n 143 EOG/EOCSubjects_CACR_SWD             float64\n 144 EOGGr3_CACR_SWD                      float64\n 145 EOGGr4_CACR_SWD                      float64\n 146 EOGGr5_CACR_SWD                      float64\n 147 EOGMathGr3_CACR_SWD                  float64\n 148 EOGMathGr3_GLP_SWD                   float64\n 149 EOGMathGr3-8_CACR_SWD                float64\n 150 EOGMathGr4_CACR_SWD                  float64\n 151 EOGMathGr5_CACR_SWD                  float64\n 152 EOGReadingGr3_CACR_SWD               float64\n 153 EOGReadingGr3-8_CACR_SWD             float64\n 154 EOGReadingGr3-8_GLP_SWD              float64\n 155 EOGReadingGr4_CACR_SWD               float64\n 156 EOGReadingGr4_GLP_SWD                float64\n 157 EOGReadingGr5_CACR_SWD               float64\n 158 EOGReadingGr5_GLP_SWD                float64\n 159 EOGScienceGr5_CACR_SWD               float64\n 160 EOGScienceGr5&8_CACR_SWD             float64\n 161 EOGSubjects_CACR_SWD                 float64\n 162 EOCMathI_CACR_AIG                    float64\n 163 EOG/EOCSubjects_CACR_AIG             float64\n 164 EOGGr3_CACR_AIG                      float64\n 165 EOGGr4_CACR_AIG                      float64\n 166 EOGGr5_CACR_AIG                      float64\n 167 EOGMathGr3_CACR_AIG                  float64\n 168 EOGMathGr3-8_CACR_AIG                float64\n 169 EOGMathGr4_CACR_AIG                  float64\n 170 EOGMathGr5_CACR_AIG                  float64\n 171 EOGScienceGr5&8_CACR_AIG             float64\n 172 EOGSubjects_CACR_AIG                 float64\n 173 pct_GCE_ALL                          float64\n 174 MathGr3-8_pTarget_PctMet             float64\n 175 SciGr5&8_pTarget_PctMet              float64\n 176 TotalTargets_pTarget_PctMet          float64\n 177 Category_Cd                          object \n 178 lea_sat_avg_score_num                float64\n 179 lea_sat_participation_pct            float64\n 180 lea_ap_participation_pct             float64\n 181 lea_ap_pct_3_or_above                float64\n 182 lea_ib_pct_4_or_above                float64\n 183 avg_daily_attend_pct                 float64\n 184 crime_per_c_num                      float64\n 185 short_susp_per_c_num                 float64\n 186 long_susp_per_c_num                  float64\n 187 expelled_per_c_num                   float64\n 188 stud_internet_comp_num               float64\n 189 lea_avg_daily_attend_pct             float64\n 190 lea_crime_per_c_num                  float64\n 191 lea_short_susp_per_c_num             float64\n 192 lea_long_susp_per_c_num              float64\n 193 lea_expelled_per_c_num               float64\n 194 lea_stud_internet_comp_num           float64\n 195 st_crime_per_c_num                   float64\n 196 flicensed_teach_pct                  float64\n 197 tchyrs_0thru3_pct                    float64\n 198 tchyrs_4thru10_pct                   float64\n 199 tchyrs_11plus_pct                    float64\n 200 nbpts_num                            float64\n 201 advance_dgr_pct                      float64\n 202 _1yr_tchr_trnovr_pct                 float64\n 203 lateral_teach_pct                    float64\n 204 lea_flicensed_teach_pct              float64\n 205 lea_tchyrs_0thru3_pct                float64\n 206 lea_tchyrs_4thru10_pct               float64\n 207 lea_tchyrs_11plus_pct                float64\n 208 lea_nbpts_num                        float64\n 209 lea_advance_dgr_pct                  float64\n 210 lea_1yr_tchr_trnovr_pct              float64\n 211 lea_emer_prov_teach_pct              float64\n 212 st_flicensed_teach_pct               float64\n 213 st_tchyrs_0thru3_pct                 float64\n 214 st_1yr_tchr_trnovr_pct               float64\n 215 st_emer_prov_teach_pct               float64\n 216 0-3 Years_LEA_Exp_Pct_Prin           float64\n 217 10+ Years_LEA_Exp_Pct_Prin           float64\n 218 4-10 Years_LEA_Exp_Pct_Prin          float64\n 219 Accomplished_TCHR_Standard 1_Pct     float64\n 220 Accomplished_TCHR_Standard 2_Pct     float64\n 221 Accomplished_TCHR_Standard 3_Pct     float64\n 222 Accomplished_TCHR_Standard 4_Pct     float64\n 223 Accomplished_TCHR_Standard 5_Pct     float64\n 224 Developing_TCHR_Standard 1_Pct       float64\n 225 Developing_TCHR_Standard 2_Pct       float64\n 226 Developing_TCHR_Standard 3_Pct       float64\n 227 Developing_TCHR_Standard 4_Pct       float64\n 228 Developing_TCHR_Standard 5_Pct       float64\n 229 Distinguished_TCHR_Standard 1_Pct    float64\n 230 Distinguished_TCHR_Standard 2_Pct    float64\n 231 Distinguished_TCHR_Standard 3_Pct    float64\n 232 Distinguished_TCHR_Standard 4_Pct    float64\n 233 Distinguished_TCHR_Standard 5_Pct    float64\n 234 Not Demostrated_TCHR_Standard 1_Pct  float64\n 235 Not Demostrated_TCHR_Standard 2_Pct  float64\n 236 Not Demostrated_TCHR_Standard 4_Pct  float64\n 237 Proficient_TCHR_Standard 1_Pct       float64\n 238 Proficient_TCHR_Standard 2_Pct       float64\n 239 Proficient_TCHR_Standard 3_Pct       float64\n 240 Proficient_TCHR_Standard 4_Pct       float64\n 241 Proficient_TCHR_Standard 5_Pct       float64\n 242 AsianFemalePct                       float64\n 243 AsianMalePct                         float64\n 244 BlackFemalePct                       float64\n 245 BlackMalePct                         float64\n 246 HispanicFemalePct                    float64\n 247 HispanicMalePct                      float64\n 248 IndianFemalePct                      float64\n 249 MinorityFemalePct                    float64\n 250 MinorityMalePct                      float64\n 251 PacificIslandFemalePct               float64\n 252 PacificIslandMalePct                 float64\n 253 PacificIslandPct                     float64\n 254 TwoOrMoreFemalePct                   float64\n 255 TwoOrMoreMalePct                     float64\n 256 TwoOrMorePct                         float64\n 257 unit_code                            int64  \n 258 Year                                 int64  \ndtypes: float64(237), int64(2), object(20)\nmemory usage: 19.2+ MB\n"
    }
   ],
   "source": [
    "import pandas as pd\n",
    "\n",
    "# [10] Describe the meaning and type of data (scale, values, etc.) for each attribute in the data file.\n",
    "\n",
    "df = pd.read_csv('PublicSchools2014to2017_YZ.csv')\n",
    "df.head()\n",
    "df.info(verbose=True)"
   ]
  },
  {
   "cell_type": "code",
   "execution_count": null,
   "metadata": {},
   "outputs": [],
   "source": [
    "# [15] Verify data quality: Explain any missing values, duplicate data, and outliers. Are those mistakes? How do you deal with these problems? Give justifications for your methods. "
   ]
  },
  {
   "cell_type": "markdown",
   "metadata": {},
   "source": [
    "#### Visualize appropriate statistics (summary statistics)"
   ]
  },
  {
   "cell_type": "code",
   "execution_count": null,
   "metadata": {},
   "outputs": [],
   "source": [
    "# [10] Visualize appropriate statistics (e.g., range, mode, mean, median, variance, counts) for a subset of attributes. Describe anything meaningful you found from this or if you found something potentially interesting. Note: You can also use data from other sources for comparison. Explain why the statistics run are meaningful. \n",
    "\n",
    "df.describe()"
   ]
  },
  {
   "cell_type": "markdown",
   "metadata": {},
   "source": [
    "#### Visualize most interesting attributes"
   ]
  },
  {
   "cell_type": "code",
   "execution_count": null,
   "metadata": {},
   "outputs": [],
   "source": [
    "# [15] Visualize the most interesting attributes (at least 5 attributes, your opinion on what is interesting). Important: Interpret the implications for each visualization. Explain for each attribute why the chosen visualization is appropriate. "
   ]
  },
  {
   "cell_type": "markdown",
   "metadata": {},
   "source": [
    "#### Visualize relationships"
   ]
  },
  {
   "cell_type": "code",
   "execution_count": null,
   "metadata": {},
   "outputs": [],
   "source": [
    "# [15] Visualize relationships between attributes: Look at the attributes via scatter plots, correlation, cross-tabulation, group-wise averages, etc. as appropriate. Explain any interesting relationships. "
   ]
  },
  {
   "cell_type": "markdown",
   "metadata": {},
   "source": [
    "Identify and explain interesting relationships"
   ]
  },
  {
   "cell_type": "code",
   "execution_count": null,
   "metadata": {},
   "outputs": [],
   "source": [
    "# [10] Identify and explain interesting relationships between features and the class you are trying to predict (i.e., relationships with variables and the target classification). "
   ]
  },
  {
   "cell_type": "markdown",
   "metadata": {},
   "source": [
    "#### Other features"
   ]
  },
  {
   "cell_type": "code",
   "execution_count": null,
   "metadata": {},
   "outputs": [],
   "source": [
    "# [5] Are there other features that could be added to the data or created from existing features? Which ones? "
   ]
  },
  {
   "cell_type": "markdown",
   "metadata": {},
   "source": [
    "### Exceptional Work"
   ]
  },
  {
   "cell_type": "code",
   "execution_count": 25,
   "metadata": {},
   "outputs": [
    {
     "output_type": "error",
     "ename": "IndexError",
     "evalue": "too many indices for array",
     "traceback": [
      "\u001b[1;31m---------------------------------------------------------------------------\u001b[0m",
      "\u001b[1;31mIndexError\u001b[0m                                Traceback (most recent call last)",
      "\u001b[1;32m<ipython-input-25-d51987ec0455>\u001b[0m in \u001b[0;36m<module>\u001b[1;34m\u001b[0m\n\u001b[0;32m     11\u001b[0m \u001b[0mp\u001b[0m\u001b[1;33m,\u001b[0m \u001b[0ma\u001b[0m \u001b[1;33m=\u001b[0m \u001b[0mmat\u001b[0m\u001b[1;33m.\u001b[0m\u001b[0msubplots\u001b[0m\u001b[1;33m(\u001b[0m\u001b[1;36m1\u001b[0m\u001b[1;33m,\u001b[0m\u001b[1;36m2\u001b[0m\u001b[1;33m)\u001b[0m\u001b[1;33m\u001b[0m\u001b[1;33m\u001b[0m\u001b[0m\n\u001b[0;32m     12\u001b[0m \u001b[1;33m\u001b[0m\u001b[0m\n\u001b[1;32m---> 13\u001b[1;33m \u001b[0msb\u001b[0m\u001b[1;33m.\u001b[0m\u001b[0mlineplot\u001b[0m\u001b[1;33m(\u001b[0m\u001b[0mx\u001b[0m\u001b[1;33m=\u001b[0m\u001b[1;34m\"Year\"\u001b[0m\u001b[1;33m,\u001b[0m \u001b[0my\u001b[0m\u001b[1;33m=\u001b[0m\u001b[1;34m\"SPG Score\"\u001b[0m\u001b[1;33m,\u001b[0m \u001b[0mdata\u001b[0m\u001b[1;33m=\u001b[0m\u001b[0mdf\u001b[0m\u001b[1;33m,\u001b[0m \u001b[0max\u001b[0m\u001b[1;33m=\u001b[0m\u001b[0ma\u001b[0m\u001b[1;33m[\u001b[0m\u001b[1;36m0\u001b[0m\u001b[1;33m,\u001b[0m\u001b[1;36m0\u001b[0m\u001b[1;33m]\u001b[0m\u001b[1;33m)\u001b[0m\u001b[1;33m\u001b[0m\u001b[1;33m\u001b[0m\u001b[0m\n\u001b[0m\u001b[0;32m     14\u001b[0m \u001b[1;33m\u001b[0m\u001b[0m\n\u001b[0;32m     15\u001b[0m \u001b[0msb\u001b[0m\u001b[1;33m.\u001b[0m\u001b[0mlineplot\u001b[0m\u001b[1;33m(\u001b[0m\u001b[0mx\u001b[0m\u001b[1;33m=\u001b[0m\u001b[1;34m\"Year\"\u001b[0m\u001b[1;33m,\u001b[0m \u001b[0my\u001b[0m\u001b[1;33m=\u001b[0m\u001b[1;34m\"SPG Score\"\u001b[0m\u001b[1;33m,\u001b[0m \u001b[0mhue\u001b[0m\u001b[1;33m=\u001b[0m\u001b[1;34m\"category_cd\"\u001b[0m\u001b[1;33m,\u001b[0m \u001b[0mdata\u001b[0m\u001b[1;33m=\u001b[0m\u001b[0mdf\u001b[0m\u001b[1;33m,\u001b[0m \u001b[0max\u001b[0m\u001b[1;33m=\u001b[0m\u001b[0ma\u001b[0m\u001b[1;33m[\u001b[0m\u001b[1;36m0\u001b[0m\u001b[1;33m,\u001b[0m\u001b[1;36m1\u001b[0m\u001b[1;33m]\u001b[0m\u001b[1;33m)\u001b[0m\u001b[1;33m\u001b[0m\u001b[1;33m\u001b[0m\u001b[0m\n",
      "\u001b[1;31mIndexError\u001b[0m: too many indices for array"
     ]
    }
   ],
   "source": [
    "# [10]\n",
    "# • You have free reign to provide additional analyses.\n",
    "# • One idea: implement dimensionality reduction, then visualize and interpret the results. \n",
    "\n",
    "import seaborn as sb\n",
    "\n",
    "# reducing the amount of columns\n",
    "df = df[df[\"school_type_txt\"]!= 0]\n",
    "sb.lineplot(x=\"Year\", y=\"SPG Score\", data=df)"
   ]
  },
  {
   "cell_type": "code",
   "execution_count": null,
   "metadata": {},
   "outputs": [],
   "source": [
    "# trendline by category\n",
    "sb.lineplot(x=\"Year\", y=\"SPG Score\", hue=\"category_cd\", data=df)"
   ]
  }
 ],
 "metadata": {
  "language_info": {
   "codemirror_mode": {
    "name": "ipython",
    "version": 3
   },
   "file_extension": ".py",
   "mimetype": "text/x-python",
   "name": "python",
   "nbconvert_exporter": "python",
   "pygments_lexer": "ipython3",
   "version": "3.7.1-final"
  },
  "orig_nbformat": 2,
  "kernelspec": {
   "name": "python37164bitml1sumr2020condaf1b124117553466b89d65eb9c9f3513c",
   "display_name": "Python 3.7.1 64-bit ('ML1_Sumr2020': conda)"
  }
 },
 "nbformat": 4,
 "nbformat_minor": 2
}