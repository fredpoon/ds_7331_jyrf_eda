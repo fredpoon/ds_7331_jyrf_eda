{
 "cells": [
  {
   "cell_type": "markdown",
   "metadata": {},
   "source": [
    "### Category Available Requirements\n",
    "#### Total Points 100\n",
    "#### Create Models\n",
    "50 - Create a logistic regression model and a support vector machine model for the classification task involved with your dataset. Assess how well each model performs (use 80/20 training/testing split for your data). Adjust parameters of the models to make them more accurate. If your dataset size requires the use of stochastic gradient descent, then linear kernel only is fine to use. That is, the SGDClassifier is fine to use for optimizing logistic regression and linear support vector machines. For many problems, SGD will be required in order to train the SVM model in a reasonable timeframe. \n",
    "#### Model Advantages\n",
    "10 - Discuss the advantages of each model for each classification task. Does one type of model offer superior performance over another in terms of prediction accuracy? In terms of training time or efficiency? Explain in detail.\n",
    "#### Interpret Feature Importance\n",
    "30 - Use the weights from logistic regression to interpret the importance of different features for the classification task. Explain your interpretation in detail. Why do you think some variables are more important?\n",
    "#### Interpret Support Vectors\n",
    "10 - Look at the chosen support vectors for the classification task. Do these provide any insight into the data? Explain. If you used stochastic gradient descent (and therefore did not explicitly solve for support vectors), try subsampling your data to train the SVC model— then analyze the support vectors from the subsampled dataset.\n",
    "\n",
    "#### Project 1 Feedback\n",
    "1. You must include all of your data wrangling code, if you want to receive full credit.  Otherwise, your work is not reproducible.  This is true for all submissions. You are the only group who left this out. I need to see what you started with and all transformations. The dataset must still meet the minimum size after all transformations.  I will not accept future labs without this code included.  \n",
    "\n",
    "2. I have stated multiple times that the minimum dataset size is 15 columns x 30,000 rows = 450,000 elements. My feedback clearly states that what you submitted is currently at 16 * 9731 = 155,696 elements. As I said in the feedback: \"In future labs, you will need to increase the number of fields you use for modeling to achieve at least 15 * 30,000 = 450,000 elements.\". \n",
    "\n",
    "3. Unfortunately for Lab 1, it really makes no difference what your yearly tables may look like at this point, because they were not included in your submission? \n",
    "\n",
    "4. I see above that the dataset you produced for each year has many more fields / columns / features that you could have included to meet the minimum size requirements?  The starting point should have likely been that entire dataset.  I am also slightly concerned about your statement that \"merging is a simple inner join activity\" for a number of reasons. The dataset you started with does not appear to be joined at all.  There is a year column in the dataset.  This gives me the impression that you actually unioned the data by year (which is what I would have expected). However, I really have no clue what you did, because you chose not to share that with me.\n",
    "\n",
    "Thoughts on inner joining this data:\n",
    "A number of public school campuses open and close each school year.  If you are joining by unit_code / agency_code, your analysis will only include school campuses open during the entire duration of the data.\n",
    "Any classification model you create in a \"joined\" dataset will likely have duplicated columns for each year.  This means that the feature importances for the model will be dominated by prior years.  For example, if you build a model to predict graduation rates, the model will use all prior year's graduation rates for the prediction.  It will also be very accurate.  However, I am not sure what benefit such a model would provide to the public school system?\n",
    "Typically, you would not include any graduation rate features in your graduation rate model training data at all. (we can talk about this more, if needed).      \n",
    "\n",
    "### From the Project Sheet\n",
    "**_A note on grading_** - a common mistake I see in this lab is not investigating different input parameters for each model. Try a number of parameter combinations and discuss how the model changed.\n",
    "\n",
    "#### CRISP-DM (Cross Industry standard process for data mining)\n",
    "- Business Understanding\n",
    "- Data Understanding\n",
    "- Data Preparation\n",
    "- Modeling\n",
    "- Evaluation\n",
    "- Deployment"
   ]
  },
  {
   "cell_type": "markdown",
   "metadata": {},
   "source": [
    "# MiniLab SVM and Logistic Regression\n",
    "#### 06/14/2020\n",
    "#### Yang Zhang, Reannan McDaniel, Jonathon Roach, Fred Poon"
   ]
  },
  {
   "cell_type": "markdown",
   "metadata": {},
   "source": [
    "## Business Understanding\n",
    "For this analysis, our group will be working with North Carolina Public Schools Report Card and Statistical Profiles Data sets from the years 2014 to 2017. These data sets encompass information across 4 continuous years of educational attributes in North Carolina, USA.  The data is collected from the State of North Carolina at [http://ncpublicschools.org](http://ncpublicschools.org) and made available from the Belk Endowment Educational Attainment Data Repository for North Carolina Public Schools by Dr. Jake Drew. Among other reasons, the data was collected for evaluation of public-school performance for the purpose of efficiently allocating funds to various educational initiatives. Analyses of such data are important because high-impact educational initiatives that are well-funded contribute to increased graduation rates, increased achievement at the post-secondary level, less crime, and greater economic engagement among young people. For the purpose of this exercise, our focus is on describing and predicting school performance using various school characteristics, such as type of school (elementary, middle, high, or some combination of the three), social demographics, economic demographics, and location between 2014 and 2017. The Belk Foundation's website says, \"Our goal is to empower today’s workforce by creating pathways to and through postsecondary education for underrepresented students\". \n",
    "\n",
    "<!-- For the sake of this analysis, we assume that better performing schools have better outcomes in postsecondary education. With North Carolina's rapidly changing demographics, it is important to take into consideration schools' unique needs when allocating funds to strategic investment initiatives. Here, we explore where funding can be best applied based on educational achievement data.-->\n",
    "\n",
    "We will explore through visual and mathematical modeling which features best predict the School Performance Grade (SPG Grade), a letter grade classification based on test scores and growth measures. The analysis will come in the form of logistic regression model and support vector machine(SVM) model to classify SPG Grade. In this analysis we will observe:\n",
    "\n",
    "- What attributes have the most effect on SPG?\n",
    "- Between SVM and Logistic Regression, which model has a higher accuracy score?\n",
    "\n",
    "<!-- Predicting SPG within 15 points could be beneficial to an organization, like Belk Endowment, to efficiently allocate funds to schools.-->"
   ]
  },
  {
   "cell_type": "markdown",
   "metadata": {},
   "source": [
    "## Data Understanding\n",
    "The data set contains 9,731 records and 259 attributes that are comprised of factors, numbers, and characters. A data definition sheet can be found in Dr. Drew's github repository, [https://github.com/jakemdrew/EducationDataNC](https://github.com/jakemdrew/EducationDataNC/tree/master/Data%20Documentation). To scale the data to be more manageable, our data set includes 50 of the 259 attributes. \n",
    "\n",
    "These variables were chosen after initial EDA and correlation visuals were generated between SPG and all predictors. The data type, category and description are displayed in the following table.\n",
    "\n",
    "# TODO Update Attributes\n",
    "### Attributes\n",
    "| Attribute | DataType | Description |\n",
    "|:---|:---|:---|\n",
    "| SPG Score | float64 | School Performance Grade (number, 0-100) |\n",
    "| SPG Grade | object | School Performance Grade (Letter Grade - A-D, F) |\n",
    "| avg_daily_attend_pct | float64 | Average daily attendance percentage (0.8-1.0) |\n",
    "| category_cd | object | Category Code of the school level E=Elementary, M=Middle, H=High School, I=Elem/Mid Combo, A=All Schools |\n",
    "| category_cd_modified | object | New Feature - simplified category_cd to distinguish between school types vs combined school levels |\n",
    "| crime_per_c_num | float64 | Number of crimes or acts of violence per 100 students at the school level (0-13) |\n",
    "| Majority_Minority | object | New Feature - classifying schools as having majority student body from minority racial groups (0 = Majority of non minority, 1 = Majority of minority |\n",
    "| MinorityFemalePct | float64 | Percentage of female minorities at the school level (0-100) |\n",
    "| MinorityMalePct | float64 | Percentage of male minorities at the school (0-100) |\n",
    "| MinorityOverallPct | float64 | New Feature - Minority Overall Percentage (0-100) |\n",
    "| school_type_txt | object | Description of school type (Regular School, Magnet School, etc.) |\n",
    "| short_susp_per_c_num | float64 | Short term suspensions per 100 students at the school level (0-181) |\n",
    "| student_num | float64 | School size or number of students at the school level (8-2966) |\n",
    "| tchyrs_0thru3_pct | float64 | Percentage of teachers with 0-3 years of teaching experience (0.0-1.0) |\n",
    "| Year | int64 | New Feature - School Year (2014-2017) |"
   ]
  },
  {
   "cell_type": "markdown",
   "metadata": {},
   "source": [
    "## Data Preparation\n",
    "In order to get our data set, we combined multiple years of data.\n",
    "\n",
    "Script to process the dataset 2014 to 2019 seperately\n",
    "https://github.com/fredpoon/ds_7331_jyrf_eda/blob/master/Data_Prep/PublicSchools2014to2019_MLnew.ipynb\n",
    "\n",
    "Our data preparation for this project is displayed below."
   ]
  },
  {
   "cell_type": "code",
   "execution_count": 3,
   "metadata": {},
   "outputs": [
    {
     "ename": "FileNotFoundError",
     "evalue": "[Errno 2] File /EducationDataNC/2014/Machine Learning Datasets/PublicSchools2014_MLnew.csv does not exist: '/EducationDataNC/2014/Machine Learning Datasets/PublicSchools2014_MLnew.csv'",
     "output_type": "error",
     "traceback": [
      "\u001b[1;31m---------------------------------------------------------------------------\u001b[0m",
      "\u001b[1;31mFileNotFoundError\u001b[0m                         Traceback (most recent call last)",
      "\u001b[1;32m<ipython-input-3-35cac8dc7d86>\u001b[0m in \u001b[0;36m<module>\u001b[1;34m\u001b[0m\n\u001b[0;32m      3\u001b[0m \u001b[1;33m\u001b[0m\u001b[0m\n\u001b[0;32m      4\u001b[0m \u001b[1;31m# read in CSV\u001b[0m\u001b[1;33m\u001b[0m\u001b[1;33m\u001b[0m\u001b[1;33m\u001b[0m\u001b[0m\n\u001b[1;32m----> 5\u001b[1;33m \u001b[0mdf2014\u001b[0m \u001b[1;33m=\u001b[0m \u001b[0mpd\u001b[0m\u001b[1;33m.\u001b[0m\u001b[0mread_csv\u001b[0m\u001b[1;33m(\u001b[0m\u001b[1;34m'/EducationDataNC/2014/Machine Learning Datasets/PublicSchools2014_MLnew.csv'\u001b[0m\u001b[1;33m)\u001b[0m\u001b[1;33m\u001b[0m\u001b[1;33m\u001b[0m\u001b[0m\n\u001b[0m\u001b[0;32m      6\u001b[0m \u001b[0mdf2015\u001b[0m \u001b[1;33m=\u001b[0m \u001b[0mpd\u001b[0m\u001b[1;33m.\u001b[0m\u001b[0mread_csv\u001b[0m\u001b[1;33m(\u001b[0m\u001b[1;34m'/EducationDataNC/2015/Machine Learning Datasets/PublicSchools2015_MLnew.csv'\u001b[0m\u001b[1;33m)\u001b[0m\u001b[1;33m\u001b[0m\u001b[1;33m\u001b[0m\u001b[0m\n\u001b[0;32m      7\u001b[0m \u001b[0mdf2016\u001b[0m \u001b[1;33m=\u001b[0m \u001b[0mpd\u001b[0m\u001b[1;33m.\u001b[0m\u001b[0mread_csv\u001b[0m\u001b[1;33m(\u001b[0m\u001b[1;34m'/EducationDataNC/2016/Machine Learning Datasets/PublicSchools2016_MLnew.csv'\u001b[0m\u001b[1;33m)\u001b[0m\u001b[1;33m\u001b[0m\u001b[1;33m\u001b[0m\u001b[0m\n",
      "\u001b[1;32m~\\Anaconda3\\envs\\ML7331\\lib\\site-packages\\pandas\\io\\parsers.py\u001b[0m in \u001b[0;36mparser_f\u001b[1;34m(filepath_or_buffer, sep, delimiter, header, names, index_col, usecols, squeeze, prefix, mangle_dupe_cols, dtype, engine, converters, true_values, false_values, skipinitialspace, skiprows, skipfooter, nrows, na_values, keep_default_na, na_filter, verbose, skip_blank_lines, parse_dates, infer_datetime_format, keep_date_col, date_parser, dayfirst, cache_dates, iterator, chunksize, compression, thousands, decimal, lineterminator, quotechar, quoting, doublequote, escapechar, comment, encoding, dialect, error_bad_lines, warn_bad_lines, delim_whitespace, low_memory, memory_map, float_precision)\u001b[0m\n\u001b[0;32m    674\u001b[0m         )\n\u001b[0;32m    675\u001b[0m \u001b[1;33m\u001b[0m\u001b[0m\n\u001b[1;32m--> 676\u001b[1;33m         \u001b[1;32mreturn\u001b[0m \u001b[0m_read\u001b[0m\u001b[1;33m(\u001b[0m\u001b[0mfilepath_or_buffer\u001b[0m\u001b[1;33m,\u001b[0m \u001b[0mkwds\u001b[0m\u001b[1;33m)\u001b[0m\u001b[1;33m\u001b[0m\u001b[1;33m\u001b[0m\u001b[0m\n\u001b[0m\u001b[0;32m    677\u001b[0m \u001b[1;33m\u001b[0m\u001b[0m\n\u001b[0;32m    678\u001b[0m     \u001b[0mparser_f\u001b[0m\u001b[1;33m.\u001b[0m\u001b[0m__name__\u001b[0m \u001b[1;33m=\u001b[0m \u001b[0mname\u001b[0m\u001b[1;33m\u001b[0m\u001b[1;33m\u001b[0m\u001b[0m\n",
      "\u001b[1;32m~\\Anaconda3\\envs\\ML7331\\lib\\site-packages\\pandas\\io\\parsers.py\u001b[0m in \u001b[0;36m_read\u001b[1;34m(filepath_or_buffer, kwds)\u001b[0m\n\u001b[0;32m    446\u001b[0m \u001b[1;33m\u001b[0m\u001b[0m\n\u001b[0;32m    447\u001b[0m     \u001b[1;31m# Create the parser.\u001b[0m\u001b[1;33m\u001b[0m\u001b[1;33m\u001b[0m\u001b[1;33m\u001b[0m\u001b[0m\n\u001b[1;32m--> 448\u001b[1;33m     \u001b[0mparser\u001b[0m \u001b[1;33m=\u001b[0m \u001b[0mTextFileReader\u001b[0m\u001b[1;33m(\u001b[0m\u001b[0mfp_or_buf\u001b[0m\u001b[1;33m,\u001b[0m \u001b[1;33m**\u001b[0m\u001b[0mkwds\u001b[0m\u001b[1;33m)\u001b[0m\u001b[1;33m\u001b[0m\u001b[1;33m\u001b[0m\u001b[0m\n\u001b[0m\u001b[0;32m    449\u001b[0m \u001b[1;33m\u001b[0m\u001b[0m\n\u001b[0;32m    450\u001b[0m     \u001b[1;32mif\u001b[0m \u001b[0mchunksize\u001b[0m \u001b[1;32mor\u001b[0m \u001b[0miterator\u001b[0m\u001b[1;33m:\u001b[0m\u001b[1;33m\u001b[0m\u001b[1;33m\u001b[0m\u001b[0m\n",
      "\u001b[1;32m~\\Anaconda3\\envs\\ML7331\\lib\\site-packages\\pandas\\io\\parsers.py\u001b[0m in \u001b[0;36m__init__\u001b[1;34m(self, f, engine, **kwds)\u001b[0m\n\u001b[0;32m    878\u001b[0m             \u001b[0mself\u001b[0m\u001b[1;33m.\u001b[0m\u001b[0moptions\u001b[0m\u001b[1;33m[\u001b[0m\u001b[1;34m\"has_index_names\"\u001b[0m\u001b[1;33m]\u001b[0m \u001b[1;33m=\u001b[0m \u001b[0mkwds\u001b[0m\u001b[1;33m[\u001b[0m\u001b[1;34m\"has_index_names\"\u001b[0m\u001b[1;33m]\u001b[0m\u001b[1;33m\u001b[0m\u001b[1;33m\u001b[0m\u001b[0m\n\u001b[0;32m    879\u001b[0m \u001b[1;33m\u001b[0m\u001b[0m\n\u001b[1;32m--> 880\u001b[1;33m         \u001b[0mself\u001b[0m\u001b[1;33m.\u001b[0m\u001b[0m_make_engine\u001b[0m\u001b[1;33m(\u001b[0m\u001b[0mself\u001b[0m\u001b[1;33m.\u001b[0m\u001b[0mengine\u001b[0m\u001b[1;33m)\u001b[0m\u001b[1;33m\u001b[0m\u001b[1;33m\u001b[0m\u001b[0m\n\u001b[0m\u001b[0;32m    881\u001b[0m \u001b[1;33m\u001b[0m\u001b[0m\n\u001b[0;32m    882\u001b[0m     \u001b[1;32mdef\u001b[0m \u001b[0mclose\u001b[0m\u001b[1;33m(\u001b[0m\u001b[0mself\u001b[0m\u001b[1;33m)\u001b[0m\u001b[1;33m:\u001b[0m\u001b[1;33m\u001b[0m\u001b[1;33m\u001b[0m\u001b[0m\n",
      "\u001b[1;32m~\\Anaconda3\\envs\\ML7331\\lib\\site-packages\\pandas\\io\\parsers.py\u001b[0m in \u001b[0;36m_make_engine\u001b[1;34m(self, engine)\u001b[0m\n\u001b[0;32m   1112\u001b[0m     \u001b[1;32mdef\u001b[0m \u001b[0m_make_engine\u001b[0m\u001b[1;33m(\u001b[0m\u001b[0mself\u001b[0m\u001b[1;33m,\u001b[0m \u001b[0mengine\u001b[0m\u001b[1;33m=\u001b[0m\u001b[1;34m\"c\"\u001b[0m\u001b[1;33m)\u001b[0m\u001b[1;33m:\u001b[0m\u001b[1;33m\u001b[0m\u001b[1;33m\u001b[0m\u001b[0m\n\u001b[0;32m   1113\u001b[0m         \u001b[1;32mif\u001b[0m \u001b[0mengine\u001b[0m \u001b[1;33m==\u001b[0m \u001b[1;34m\"c\"\u001b[0m\u001b[1;33m:\u001b[0m\u001b[1;33m\u001b[0m\u001b[1;33m\u001b[0m\u001b[0m\n\u001b[1;32m-> 1114\u001b[1;33m             \u001b[0mself\u001b[0m\u001b[1;33m.\u001b[0m\u001b[0m_engine\u001b[0m \u001b[1;33m=\u001b[0m \u001b[0mCParserWrapper\u001b[0m\u001b[1;33m(\u001b[0m\u001b[0mself\u001b[0m\u001b[1;33m.\u001b[0m\u001b[0mf\u001b[0m\u001b[1;33m,\u001b[0m \u001b[1;33m**\u001b[0m\u001b[0mself\u001b[0m\u001b[1;33m.\u001b[0m\u001b[0moptions\u001b[0m\u001b[1;33m)\u001b[0m\u001b[1;33m\u001b[0m\u001b[1;33m\u001b[0m\u001b[0m\n\u001b[0m\u001b[0;32m   1115\u001b[0m         \u001b[1;32melse\u001b[0m\u001b[1;33m:\u001b[0m\u001b[1;33m\u001b[0m\u001b[1;33m\u001b[0m\u001b[0m\n\u001b[0;32m   1116\u001b[0m             \u001b[1;32mif\u001b[0m \u001b[0mengine\u001b[0m \u001b[1;33m==\u001b[0m \u001b[1;34m\"python\"\u001b[0m\u001b[1;33m:\u001b[0m\u001b[1;33m\u001b[0m\u001b[1;33m\u001b[0m\u001b[0m\n",
      "\u001b[1;32m~\\Anaconda3\\envs\\ML7331\\lib\\site-packages\\pandas\\io\\parsers.py\u001b[0m in \u001b[0;36m__init__\u001b[1;34m(self, src, **kwds)\u001b[0m\n\u001b[0;32m   1889\u001b[0m         \u001b[0mkwds\u001b[0m\u001b[1;33m[\u001b[0m\u001b[1;34m\"usecols\"\u001b[0m\u001b[1;33m]\u001b[0m \u001b[1;33m=\u001b[0m \u001b[0mself\u001b[0m\u001b[1;33m.\u001b[0m\u001b[0musecols\u001b[0m\u001b[1;33m\u001b[0m\u001b[1;33m\u001b[0m\u001b[0m\n\u001b[0;32m   1890\u001b[0m \u001b[1;33m\u001b[0m\u001b[0m\n\u001b[1;32m-> 1891\u001b[1;33m         \u001b[0mself\u001b[0m\u001b[1;33m.\u001b[0m\u001b[0m_reader\u001b[0m \u001b[1;33m=\u001b[0m \u001b[0mparsers\u001b[0m\u001b[1;33m.\u001b[0m\u001b[0mTextReader\u001b[0m\u001b[1;33m(\u001b[0m\u001b[0msrc\u001b[0m\u001b[1;33m,\u001b[0m \u001b[1;33m**\u001b[0m\u001b[0mkwds\u001b[0m\u001b[1;33m)\u001b[0m\u001b[1;33m\u001b[0m\u001b[1;33m\u001b[0m\u001b[0m\n\u001b[0m\u001b[0;32m   1892\u001b[0m         \u001b[0mself\u001b[0m\u001b[1;33m.\u001b[0m\u001b[0munnamed_cols\u001b[0m \u001b[1;33m=\u001b[0m \u001b[0mself\u001b[0m\u001b[1;33m.\u001b[0m\u001b[0m_reader\u001b[0m\u001b[1;33m.\u001b[0m\u001b[0munnamed_cols\u001b[0m\u001b[1;33m\u001b[0m\u001b[1;33m\u001b[0m\u001b[0m\n\u001b[0;32m   1893\u001b[0m \u001b[1;33m\u001b[0m\u001b[0m\n",
      "\u001b[1;32mpandas\\_libs\\parsers.pyx\u001b[0m in \u001b[0;36mpandas._libs.parsers.TextReader.__cinit__\u001b[1;34m()\u001b[0m\n",
      "\u001b[1;32mpandas\\_libs\\parsers.pyx\u001b[0m in \u001b[0;36mpandas._libs.parsers.TextReader._setup_parser_source\u001b[1;34m()\u001b[0m\n",
      "\u001b[1;31mFileNotFoundError\u001b[0m: [Errno 2] File /EducationDataNC/2014/Machine Learning Datasets/PublicSchools2014_MLnew.csv does not exist: '/EducationDataNC/2014/Machine Learning Datasets/PublicSchools2014_MLnew.csv'"
     ]
    }
   ],
   "source": [
    "import pandas as pd\n",
    "import numpy as np\n",
    "\n",
    "# read in CSV\n",
    "df2014 = pd.read_csv('/EducationDataNC/2014/Machine Learning Datasets/PublicSchools2014_MLnew.csv')\n",
    "df2015 = pd.read_csv('/EducationDataNC/2015/Machine Learning Datasets/PublicSchools2015_MLnew.csv') \n",
    "df2016 = pd.read_csv('/EducationDataNC/2016/Machine Learning Datasets/PublicSchools2016_MLnew.csv')\n",
    "df2017 = pd.read_csv('/EducationDataNC/2017/Machine Learning Datasets/PublicSchools2017_MLnew.csv')\n",
    "df2018 = pd.read_csv('/EducationDataNC/2018/Machine Learning Datasets/PublicSchools2018_MLnew.csv')\n",
    "df2019 = pd.read_csv('/EducationDataNC/2019/Machine Learning Datasets/PublicSchools2019_MLnew.csv')\n",
    "\n",
    "df2014.shape\n",
    "df2015.shape\n",
    "df2016.shape\n",
    "df2017.shape\n",
    "df2018.shape\n",
    "df2019.shape"
   ]
  },
  {
   "cell_type": "code",
   "execution_count": 19,
   "metadata": {
    "scrolled": true
   },
   "outputs": [
    {
     "data": {
      "text/plain": [
       "0       2014\n",
       "1       2014\n",
       "2       2014\n",
       "3       2014\n",
       "4       2014\n",
       "        ... \n",
       "9726    2017\n",
       "9727    2017\n",
       "9728    2017\n",
       "9729    2017\n",
       "9730    2017\n",
       "Name: Year, Length: 9731, dtype: int64"
      ]
     },
     "execution_count": 19,
     "metadata": {},
     "output_type": "execute_result"
    }
   ],
   "source": [
    "df2014['Year'] = 2014\n",
    "df2015['Year'] = 2015 \n",
    "df2016['Year'] = 2016 \n",
    "df2017['Year'] = 2017 \n",
    "df2018['Year'] = 2018 \n",
    "df2019['Year'] = 2019 \n",
    "\n",
    "frames = [df2014, df2015, df2016, df2017, df2018, df2019]\n",
    "df_comb_14to19 = pd.concat(frames,join='inner', ignore_index=True)\n",
    "\n",
    "frames = [df2014, df2015, df2016, df2017]\n",
    "df_comb_test = pd.concat(frames,join='inner', ignore_index=True)\n",
    "\n",
    "df_comb_test['Year']"
   ]
  },
  {
   "cell_type": "code",
   "execution_count": null,
   "metadata": {},
   "outputs": [],
   "source": [
    "#Location where the new school datasets will be created.\n",
    "outputDir = 'C:/Users/taniat470s/Desktop/SMU_course/DS7331/'\n",
    "df_comb_test.to_csv(outputDir + 'PublicSchools2014to2017_YZ.csv', sep=',', index=False)"
   ]
  },
  {
   "cell_type": "markdown",
   "metadata": {},
   "source": [
    "The construction of this code chunk above is referenced from Dr. Drew's github repository, [https://github.com/jakemdrew/EducationDataNC](https://github.com/jakemdrew/EducationDataNC/tree/master/Data%20Documentation)"
   ]
  },
  {
   "cell_type": "markdown",
   "metadata": {},
   "source": [
    "### Data Workflow\n",
    "\n",
    "In the starting dataset, all the categoricial variables are stored as \"object\". In order to be able to utilize it in our machine learning model, we conduct a one-hot encoding procedure to convert all of them into continuous variables. The procedure is shown below.\n",
    "\n",
    "<img align=\"center\" src=\"https://github.com/fredpoon/ds_7331_jyrf_eda/blob/master/Data_Workflow.PNG?raw=true\" alt=\"Data Workflow\" />"
   ]
  },
  {
   "cell_type": "markdown",
   "metadata": {},
   "source": [
    "### One-Hot Encoding"
   ]
  },
  {
   "cell_type": "code",
   "execution_count": 4,
   "metadata": {},
   "outputs": [
    {
     "data": {
      "text/html": [
       "<div>\n",
       "<style scoped>\n",
       "    .dataframe tbody tr th:only-of-type {\n",
       "        vertical-align: middle;\n",
       "    }\n",
       "\n",
       "    .dataframe tbody tr th {\n",
       "        vertical-align: top;\n",
       "    }\n",
       "\n",
       "    .dataframe thead th {\n",
       "        text-align: right;\n",
       "    }\n",
       "</style>\n",
       "<table border=\"1\" class=\"dataframe\">\n",
       "  <thead>\n",
       "    <tr style=\"text-align: right;\">\n",
       "      <th></th>\n",
       "      <th>vphone_ad</th>\n",
       "      <th>street_ad</th>\n",
       "      <th>scity_ad</th>\n",
       "      <th>szip_ad</th>\n",
       "      <th>category_cd</th>\n",
       "      <th>url_ad</th>\n",
       "      <th>grade_range_cd</th>\n",
       "      <th>calendar_type_txt</th>\n",
       "      <th>sna_pgm_type_cd</th>\n",
       "      <th>school_type_txt</th>\n",
       "      <th>...</th>\n",
       "      <th>MinorityFemalePct</th>\n",
       "      <th>MinorityMalePct</th>\n",
       "      <th>PacificIslandFemalePct</th>\n",
       "      <th>PacificIslandMalePct</th>\n",
       "      <th>PacificIslandPct</th>\n",
       "      <th>TwoOrMoreFemalePct</th>\n",
       "      <th>TwoOrMoreMalePct</th>\n",
       "      <th>TwoOrMorePct</th>\n",
       "      <th>unit_code</th>\n",
       "      <th>Year</th>\n",
       "    </tr>\n",
       "  </thead>\n",
       "  <tbody>\n",
       "    <tr>\n",
       "      <th>0</th>\n",
       "      <td>(336)506-4001</td>\n",
       "      <td>1247 Jimmie Kerr Road</td>\n",
       "      <td>Graham</td>\n",
       "      <td>27253.0</td>\n",
       "      <td>H</td>\n",
       "      <td>http://amc.abss.k12.nc.us</td>\n",
       "      <td>9-12</td>\n",
       "      <td>Regular School, Traditional Calendar</td>\n",
       "      <td>R</td>\n",
       "      <td>Regular School</td>\n",
       "      <td>...</td>\n",
       "      <td>0.243243</td>\n",
       "      <td>0.067568</td>\n",
       "      <td>0.000000</td>\n",
       "      <td>0.000000</td>\n",
       "      <td>0.00000</td>\n",
       "      <td>0.000000</td>\n",
       "      <td>0.013514</td>\n",
       "      <td>0.013514</td>\n",
       "      <td>10303</td>\n",
       "      <td>2014</td>\n",
       "    </tr>\n",
       "    <tr>\n",
       "      <th>1</th>\n",
       "      <td>(336)578-1366</td>\n",
       "      <td>2518 NC 54</td>\n",
       "      <td>Graham</td>\n",
       "      <td>27253.0</td>\n",
       "      <td>E</td>\n",
       "      <td>http://awe.abss.k12.nc.us</td>\n",
       "      <td>PK-5</td>\n",
       "      <td>Regular School, Traditional Calendar</td>\n",
       "      <td>R</td>\n",
       "      <td>Regular School</td>\n",
       "      <td>...</td>\n",
       "      <td>0.157699</td>\n",
       "      <td>0.163265</td>\n",
       "      <td>0.000000</td>\n",
       "      <td>0.000000</td>\n",
       "      <td>0.00000</td>\n",
       "      <td>0.014842</td>\n",
       "      <td>0.020408</td>\n",
       "      <td>0.035250</td>\n",
       "      <td>10304</td>\n",
       "      <td>2014</td>\n",
       "    </tr>\n",
       "    <tr>\n",
       "      <th>2</th>\n",
       "      <td>(336)538-6030</td>\n",
       "      <td>2832 N NC 87</td>\n",
       "      <td>Elon</td>\n",
       "      <td>27244.0</td>\n",
       "      <td>E</td>\n",
       "      <td>http://aoe.abss.k12.nc.us</td>\n",
       "      <td>K-5</td>\n",
       "      <td>Regular School, Traditional Calendar</td>\n",
       "      <td>R</td>\n",
       "      <td>Regular School</td>\n",
       "      <td>...</td>\n",
       "      <td>0.094096</td>\n",
       "      <td>0.107011</td>\n",
       "      <td>0.001845</td>\n",
       "      <td>0.001845</td>\n",
       "      <td>0.00369</td>\n",
       "      <td>0.011070</td>\n",
       "      <td>0.012915</td>\n",
       "      <td>0.023985</td>\n",
       "      <td>10308</td>\n",
       "      <td>2014</td>\n",
       "    </tr>\n",
       "    <tr>\n",
       "      <th>3</th>\n",
       "      <td>(336)570-6195</td>\n",
       "      <td>2229 Broadview Drive</td>\n",
       "      <td>Burlington</td>\n",
       "      <td>27217.0</td>\n",
       "      <td>M</td>\n",
       "      <td>http://brm.abss.k12.nc.us/</td>\n",
       "      <td>6-8</td>\n",
       "      <td>Regular School, Traditional Calendar</td>\n",
       "      <td>R</td>\n",
       "      <td>Regular School</td>\n",
       "      <td>...</td>\n",
       "      <td>0.445980</td>\n",
       "      <td>0.463568</td>\n",
       "      <td>0.000000</td>\n",
       "      <td>0.000000</td>\n",
       "      <td>0.00000</td>\n",
       "      <td>0.011307</td>\n",
       "      <td>0.013819</td>\n",
       "      <td>0.025126</td>\n",
       "      <td>10310</td>\n",
       "      <td>2014</td>\n",
       "    </tr>\n",
       "    <tr>\n",
       "      <th>4</th>\n",
       "      <td>(336)538-8700</td>\n",
       "      <td>3720 Bonnar Bridge Parkway</td>\n",
       "      <td>Burlington</td>\n",
       "      <td>27215.0</td>\n",
       "      <td>E</td>\n",
       "      <td>http://hle.abss.k12.nc.us</td>\n",
       "      <td>K-5</td>\n",
       "      <td>Regular School, Traditional Calendar</td>\n",
       "      <td>R</td>\n",
       "      <td>Regular School</td>\n",
       "      <td>...</td>\n",
       "      <td>0.164134</td>\n",
       "      <td>0.173252</td>\n",
       "      <td>0.000000</td>\n",
       "      <td>0.000000</td>\n",
       "      <td>0.00000</td>\n",
       "      <td>0.019757</td>\n",
       "      <td>0.028875</td>\n",
       "      <td>0.048632</td>\n",
       "      <td>10312</td>\n",
       "      <td>2014</td>\n",
       "    </tr>\n",
       "  </tbody>\n",
       "</table>\n",
       "<p>5 rows × 259 columns</p>\n",
       "</div>"
      ],
      "text/plain": [
       "       vphone_ad                   street_ad    scity_ad  szip_ad category_cd  \\\n",
       "0  (336)506-4001       1247 Jimmie Kerr Road      Graham  27253.0           H   \n",
       "1  (336)578-1366                  2518 NC 54      Graham  27253.0           E   \n",
       "2  (336)538-6030                2832 N NC 87        Elon  27244.0           E   \n",
       "3  (336)570-6195        2229 Broadview Drive  Burlington  27217.0           M   \n",
       "4  (336)538-8700  3720 Bonnar Bridge Parkway  Burlington  27215.0           E   \n",
       "\n",
       "                       url_ad grade_range_cd  \\\n",
       "0   http://amc.abss.k12.nc.us           9-12   \n",
       "1   http://awe.abss.k12.nc.us           PK-5   \n",
       "2   http://aoe.abss.k12.nc.us            K-5   \n",
       "3  http://brm.abss.k12.nc.us/            6-8   \n",
       "4   http://hle.abss.k12.nc.us            K-5   \n",
       "\n",
       "                      calendar_type_txt sna_pgm_type_cd school_type_txt  ...  \\\n",
       "0  Regular School, Traditional Calendar               R  Regular School  ...   \n",
       "1  Regular School, Traditional Calendar               R  Regular School  ...   \n",
       "2  Regular School, Traditional Calendar               R  Regular School  ...   \n",
       "3  Regular School, Traditional Calendar               R  Regular School  ...   \n",
       "4  Regular School, Traditional Calendar               R  Regular School  ...   \n",
       "\n",
       "  MinorityFemalePct MinorityMalePct PacificIslandFemalePct  \\\n",
       "0          0.243243        0.067568               0.000000   \n",
       "1          0.157699        0.163265               0.000000   \n",
       "2          0.094096        0.107011               0.001845   \n",
       "3          0.445980        0.463568               0.000000   \n",
       "4          0.164134        0.173252               0.000000   \n",
       "\n",
       "  PacificIslandMalePct  PacificIslandPct  TwoOrMoreFemalePct  \\\n",
       "0             0.000000           0.00000            0.000000   \n",
       "1             0.000000           0.00000            0.014842   \n",
       "2             0.001845           0.00369            0.011070   \n",
       "3             0.000000           0.00000            0.011307   \n",
       "4             0.000000           0.00000            0.019757   \n",
       "\n",
       "   TwoOrMoreMalePct TwoOrMorePct unit_code  Year  \n",
       "0          0.013514     0.013514     10303  2014  \n",
       "1          0.020408     0.035250     10304  2014  \n",
       "2          0.012915     0.023985     10308  2014  \n",
       "3          0.013819     0.025126     10310  2014  \n",
       "4          0.028875     0.048632     10312  2014  \n",
       "\n",
       "[5 rows x 259 columns]"
      ]
     },
     "execution_count": 4,
     "metadata": {},
     "output_type": "execute_result"
    }
   ],
   "source": [
    "import matplotlib.pyplot as plt\n",
    "import seaborn as sns\n",
    "import warnings\n",
    "warnings.filterwarnings(\"ignore\")\n",
    "\n",
    "# For multiple line outputs\n",
    "from IPython.core.interactiveshell import InteractiveShell\n",
    "InteractiveShell.ast_node_interactivity = \"all\"\n",
    "\n",
    "# read in the csv file\n",
    "schoolData = pd.read_csv('https://raw.githubusercontent.com/fredpoon/ds_7331_jyrf_eda/master/PublicSchools2014to2017_YZ.csv') \n",
    "\n",
    "schoolData.head()"
   ]
  },
  {
   "cell_type": "code",
   "execution_count": 5,
   "metadata": {},
   "outputs": [
    {
     "name": "stdout",
     "output_type": "stream",
     "text": [
      "*********After: Removing columns with >= uniqueThreshold unique values***********\n",
      "<class 'pandas.core.frame.DataFrame'>\n",
      "RangeIndex: 9731 entries, 0 to 9730\n",
      "Columns: 250 entries, szip_ad to Year\n",
      "dtypes: float64(237), int64(2), object(11)\n",
      "memory usage: 18.6+ MB\n",
      "\r\n",
      "Columns Deleted:  9\n"
     ]
    }
   ],
   "source": [
    "#Locate the categorical variables in dataset\n",
    "sD_nominal = schoolData.loc[:, (schoolData.dtypes == object)]\n",
    "uniqueThreshold = 25\n",
    "\n",
    "#Delete categorical columns with > 25 unique values (Each unique value becomes a column during one-hot encoding)\n",
    "oneHotUniqueValueCounts = schoolData[sD_nominal.columns].apply(lambda x: x.nunique())\n",
    "oneHotUniqueValueCols = oneHotUniqueValueCounts[oneHotUniqueValueCounts >= uniqueThreshold].index\n",
    "schoolData.drop(oneHotUniqueValueCols, axis=1, inplace=True) \n",
    "\n",
    "#Review dataset contents one hot high unique value drops\n",
    "print('*********After: Removing columns with >= uniqueThreshold unique values***********')\n",
    "schoolData.info(verbose=False)\n",
    "print ('\\r\\nColumns Deleted: ', len(oneHotUniqueValueCols))"
   ]
  },
  {
   "cell_type": "markdown",
   "metadata": {},
   "source": [
    "#### SPG Grade - Response Variable\n",
    "\n",
    "\"SPG Grade\" is our response variable and \"SPG Score\" is the continous expression of it. \"SPG Score\" is a composite score calculated from schools' average scores based on multiple assessments. The \"SPG Grade\" is converted from \"SPG Score\" by ranges. We have to remove them from the original dataset."
   ]
  },
  {
   "cell_type": "code",
   "execution_count": 6,
   "metadata": {},
   "outputs": [
    {
     "name": "stdout",
     "output_type": "stream",
     "text": [
      "<class 'pandas.core.frame.DataFrame'>\n",
      "RangeIndex: 9731 entries, 0 to 9730\n",
      "Data columns (total 248 columns):\n",
      " #   Column                               Dtype  \n",
      "---  ------                               -----  \n",
      " 0   szip_ad                              float64\n",
      " 1   category_cd                          object \n",
      " 2   calendar_type_txt                    object \n",
      " 3   sna_pgm_type_cd                      object \n",
      " 4   school_type_txt                      object \n",
      " 5   calendar_only_txt                    object \n",
      " 6   title1_type_cd                       object \n",
      " 7   esea_status                          object \n",
      " 8   student_num                          float64\n",
      " 9   lea_avg_student_num                  float64\n",
      " 10  st_avg_student_num                   float64\n",
      " 11  Grad_project_status                  object \n",
      " 12  Math I_Size                          float64\n",
      " 13  lea_total_expense_num                float64\n",
      " 14  lea_salary_expense_pct               float64\n",
      " 15  lea_services_expense_pct             float64\n",
      " 16  lea_supplies_expense_pct             float64\n",
      " 17  lea_instruct_equip_exp_pct           float64\n",
      " 18  lea_federal_perpupil_num             float64\n",
      " 19  lea_local_perpupil_num               float64\n",
      " 20  lea_state_perpupil_num               float64\n",
      " 21  EVAAS Growth Status                  object \n",
      " 22  EVAAS Growth Score                   float64\n",
      " 23  Science Score                        float64\n",
      " 24  EOG/EOCSubjects_CACR_All             float64\n",
      " 25  EOGGr3_CACR_All                      float64\n",
      " 26  EOGGr4_CACR_All                      float64\n",
      " 27  EOGGr5_CACR_All                      float64\n",
      " 28  EOCMathI_CACR_AmericanIndian         float64\n",
      " 29  EOCSubjects_CACR_AmericanIndian      float64\n",
      " 30  EOG/EOCSubjects_CACR_AmericanIndian  float64\n",
      " 31  EOGGr3_CACR_AmericanIndian           float64\n",
      " 32  EOGGr4_CACR_AmericanIndian           float64\n",
      " 33  EOGGr5_CACR_AmericanIndian           float64\n",
      " 34  EOGMathGr3_CACR_AmericanIndian       float64\n",
      " 35  EOGMathGr3-8_CACR_AmericanIndian     float64\n",
      " 36  EOGMathGr4_CACR_AmericanIndian       float64\n",
      " 37  EOGMathGr5_CACR_AmericanIndian       float64\n",
      " 38  EOGReadingGr3-8_CACR_AmericanIndian  float64\n",
      " 39  EOGScienceGr5_CACR_AmericanIndian    float64\n",
      " 40  EOGScienceGr5&8_CACR_AmericanIndian  float64\n",
      " 41  EOGSubjects_CACR_AmericanIndian      float64\n",
      " 42  EOCMathI_CACR_Asian                  float64\n",
      " 43  EOCSubjects_CACR_Asian               float64\n",
      " 44  EOG/EOCSubjects_CACR_Asian           float64\n",
      " 45  EOGGr3_CACR_Asian                    float64\n",
      " 46  EOGGr4_CACR_Asian                    float64\n",
      " 47  EOGGr5_CACR_Asian                    float64\n",
      " 48  EOGMathGr3_CACR_Asian                float64\n",
      " 49  EOGMathGr3-8_CACR_Asian              float64\n",
      " 50  EOGMathGr4_CACR_Asian                float64\n",
      " 51  EOGMathGr5_CACR_Asian                float64\n",
      " 52  EOGScienceGr5&8_CACR_Asian           float64\n",
      " 53  EOGSubjects_CACR_Asian               float64\n",
      " 54  EOCMathI_CACR_Black                  float64\n",
      " 55  EOG/EOCSubjects_CACR_Black           float64\n",
      " 56  EOGGr3_CACR_Black                    float64\n",
      " 57  EOGGr4_CACR_Black                    float64\n",
      " 58  EOGGr5_CACR_Black                    float64\n",
      " 59  EOGMathGr3_CACR_Black                float64\n",
      " 60  EOGMathGr3-8_CACR_Black              float64\n",
      " 61  EOGMathGr4_CACR_Black                float64\n",
      " 62  EOGMathGr5_CACR_Black                float64\n",
      " 63  EOGReadingGr3_CACR_Black             float64\n",
      " 64  EOGReadingGr3-8_CACR_Black           float64\n",
      " 65  EOGReadingGr4_CACR_Black             float64\n",
      " 66  EOGReadingGr5_CACR_Black             float64\n",
      " 67  EOGScienceGr5_CACR_Black             float64\n",
      " 68  EOGScienceGr5&8_CACR_Black           float64\n",
      " 69  EOGSubjects_CACR_Black               float64\n",
      " 70  EOCMathI_CACR_Hispanic               float64\n",
      " 71  EOG/EOCSubjects_CACR_Hispanic        float64\n",
      " 72  EOGGr3_CACR_Hispanic                 float64\n",
      " 73  EOGGr4_CACR_Hispanic                 float64\n",
      " 74  EOGGr5_CACR_Hispanic                 float64\n",
      " 75  EOGMathGr3_CACR_Hispanic             float64\n",
      " 76  EOGMathGr3-8_CACR_Hispanic           float64\n",
      " 77  EOGMathGr4_CACR_Hispanic             float64\n",
      " 78  EOGMathGr5_CACR_Hispanic             float64\n",
      " 79  EOGReadingGr3_CACR_Hispanic          float64\n",
      " 80  EOGReadingGr3-8_CACR_Hispanic        float64\n",
      " 81  EOGReadingGr4_CACR_Hispanic          float64\n",
      " 82  EOGReadingGr5_CACR_Hispanic          float64\n",
      " 83  EOGScienceGr5&8_CACR_Hispanic        float64\n",
      " 84  EOGSubjects_CACR_Hispanic            float64\n",
      " 85  EOCMathI_CACR_TwoorMoreRaces         float64\n",
      " 86  EOCSubjects_CACR_TwoorMoreRaces      float64\n",
      " 87  EOG/EOCSubjects_CACR_TwoorMoreRaces  float64\n",
      " 88  EOGGr3_CACR_TwoorMoreRaces           float64\n",
      " 89  EOGGr4_CACR_TwoorMoreRaces           float64\n",
      " 90  EOGGr5_CACR_TwoorMoreRaces           float64\n",
      " 91  EOGMathGr3_CACR_TwoorMoreRaces       float64\n",
      " 92  EOGMathGr3-8_CACR_TwoorMoreRaces     float64\n",
      " 93  EOGMathGr4_CACR_TwoorMoreRaces       float64\n",
      " 94  EOGMathGr5_CACR_TwoorMoreRaces       float64\n",
      " 95  EOGReadingGr3-8_CACR_TwoorMoreRaces  float64\n",
      " 96  EOGScienceGr5&8_CACR_TwoorMoreRaces  float64\n",
      " 97  EOGSubjects_CACR_TwoorMoreRaces      float64\n",
      " 98  EOG/EOCSubjects_CACR_White           float64\n",
      " 99  EOGGr4_CACR_White                    float64\n",
      " 100 EOGMathGr3-8_CACR_White              float64\n",
      " 101 EOGScienceGr5&8_CACR_White           float64\n",
      " 102 EOCMathI_CACR_EDS                    float64\n",
      " 103 EOG/EOCSubjects_CACR_EDS             float64\n",
      " 104 EOGMathGr3-8_CACR_EDS                float64\n",
      " 105 EOGReadingGr3-8_CACR_EDS             float64\n",
      " 106 EOGReadingGr5_CACR_EDS               float64\n",
      " 107 EOGScienceGr5&8_CACR_EDS             float64\n",
      " 108 EOCMathI_CACR_LEP                    float64\n",
      " 109 EOCMathI_GLP_LEP                     float64\n",
      " 110 EOCSubjects_CACR_LEP                 float64\n",
      " 111 EOCSubjects_GLP_LEP                  float64\n",
      " 112 EOG/EOCSubjects_CACR_LEP             float64\n",
      " 113 EOGGr3_CACR_LEP                      float64\n",
      " 114 EOGGr4_CACR_LEP                      float64\n",
      " 115 EOGGr5_CACR_LEP                      float64\n",
      " 116 EOGMathGr3_CACR_LEP                  float64\n",
      " 117 EOGMathGr3-8_CACR_LEP                float64\n",
      " 118 EOGMathGr4_CACR_LEP                  float64\n",
      " 119 EOGMathGr5_CACR_LEP                  float64\n",
      " 120 EOGReadingGr3_CACR_LEP               float64\n",
      " 121 EOGReadingGr3-8_CACR_LEP             float64\n",
      " 122 EOGReadingGr3-8_GLP_LEP              float64\n",
      " 123 EOGReadingGr4_CACR_LEP               float64\n",
      " 124 EOGReadingGr4_GLP_LEP                float64\n",
      " 125 EOGReadingGr5_CACR_LEP               float64\n",
      " 126 EOGReadingGr5_GLP_LEP                float64\n",
      " 127 EOGScienceGr5_CACR_LEP               float64\n",
      " 128 EOGScienceGr5&8_CACR_LEP             float64\n",
      " 129 EOCMathI_CACR_SWD                    float64\n",
      " 130 EOCMathI_GLP_SWD                     float64\n",
      " 131 EOCSubjects_CACR_SWD                 float64\n",
      " 132 EOG/EOCSubjects_CACR_SWD             float64\n",
      " 133 EOGGr3_CACR_SWD                      float64\n",
      " 134 EOGGr4_CACR_SWD                      float64\n",
      " 135 EOGGr5_CACR_SWD                      float64\n",
      " 136 EOGMathGr3_CACR_SWD                  float64\n",
      " 137 EOGMathGr3_GLP_SWD                   float64\n",
      " 138 EOGMathGr3-8_CACR_SWD                float64\n",
      " 139 EOGMathGr4_CACR_SWD                  float64\n",
      " 140 EOGMathGr5_CACR_SWD                  float64\n",
      " 141 EOGReadingGr3_CACR_SWD               float64\n",
      " 142 EOGReadingGr3-8_CACR_SWD             float64\n",
      " 143 EOGReadingGr3-8_GLP_SWD              float64\n",
      " 144 EOGReadingGr4_CACR_SWD               float64\n",
      " 145 EOGReadingGr4_GLP_SWD                float64\n",
      " 146 EOGReadingGr5_CACR_SWD               float64\n",
      " 147 EOGReadingGr5_GLP_SWD                float64\n",
      " 148 EOGScienceGr5_CACR_SWD               float64\n",
      " 149 EOGScienceGr5&8_CACR_SWD             float64\n",
      " 150 EOGSubjects_CACR_SWD                 float64\n",
      " 151 EOCMathI_CACR_AIG                    float64\n",
      " 152 EOG/EOCSubjects_CACR_AIG             float64\n",
      " 153 EOGGr3_CACR_AIG                      float64\n",
      " 154 EOGGr4_CACR_AIG                      float64\n",
      " 155 EOGGr5_CACR_AIG                      float64\n",
      " 156 EOGMathGr3_CACR_AIG                  float64\n",
      " 157 EOGMathGr3-8_CACR_AIG                float64\n",
      " 158 EOGMathGr4_CACR_AIG                  float64\n",
      " 159 EOGMathGr5_CACR_AIG                  float64\n",
      " 160 EOGScienceGr5&8_CACR_AIG             float64\n",
      " 161 EOGSubjects_CACR_AIG                 float64\n",
      " 162 pct_GCE_ALL                          float64\n",
      " 163 MathGr3-8_pTarget_PctMet             float64\n",
      " 164 SciGr5&8_pTarget_PctMet              float64\n",
      " 165 TotalTargets_pTarget_PctMet          float64\n",
      " 166 Category_Cd                          object \n",
      " 167 lea_sat_avg_score_num                float64\n",
      " 168 lea_sat_participation_pct            float64\n",
      " 169 lea_ap_participation_pct             float64\n",
      " 170 lea_ap_pct_3_or_above                float64\n",
      " 171 lea_ib_pct_4_or_above                float64\n",
      " 172 avg_daily_attend_pct                 float64\n",
      " 173 crime_per_c_num                      float64\n",
      " 174 short_susp_per_c_num                 float64\n",
      " 175 long_susp_per_c_num                  float64\n",
      " 176 expelled_per_c_num                   float64\n",
      " 177 stud_internet_comp_num               float64\n",
      " 178 lea_avg_daily_attend_pct             float64\n",
      " 179 lea_crime_per_c_num                  float64\n",
      " 180 lea_short_susp_per_c_num             float64\n",
      " 181 lea_long_susp_per_c_num              float64\n",
      " 182 lea_expelled_per_c_num               float64\n",
      " 183 lea_stud_internet_comp_num           float64\n",
      " 184 st_crime_per_c_num                   float64\n",
      " 185 flicensed_teach_pct                  float64\n",
      " 186 tchyrs_0thru3_pct                    float64\n",
      " 187 tchyrs_4thru10_pct                   float64\n",
      " 188 tchyrs_11plus_pct                    float64\n",
      " 189 nbpts_num                            float64\n",
      " 190 advance_dgr_pct                      float64\n",
      " 191 _1yr_tchr_trnovr_pct                 float64\n",
      " 192 lateral_teach_pct                    float64\n",
      " 193 lea_flicensed_teach_pct              float64\n",
      " 194 lea_tchyrs_0thru3_pct                float64\n",
      " 195 lea_tchyrs_4thru10_pct               float64\n",
      " 196 lea_tchyrs_11plus_pct                float64\n",
      " 197 lea_nbpts_num                        float64\n",
      " 198 lea_advance_dgr_pct                  float64\n",
      " 199 lea_1yr_tchr_trnovr_pct              float64\n",
      " 200 lea_emer_prov_teach_pct              float64\n",
      " 201 st_flicensed_teach_pct               float64\n",
      " 202 st_tchyrs_0thru3_pct                 float64\n",
      " 203 st_1yr_tchr_trnovr_pct               float64\n",
      " 204 st_emer_prov_teach_pct               float64\n",
      " 205 0-3 Years_LEA_Exp_Pct_Prin           float64\n",
      " 206 10+ Years_LEA_Exp_Pct_Prin           float64\n",
      " 207 4-10 Years_LEA_Exp_Pct_Prin          float64\n",
      " 208 Accomplished_TCHR_Standard 1_Pct     float64\n",
      " 209 Accomplished_TCHR_Standard 2_Pct     float64\n",
      " 210 Accomplished_TCHR_Standard 3_Pct     float64\n",
      " 211 Accomplished_TCHR_Standard 4_Pct     float64\n",
      " 212 Accomplished_TCHR_Standard 5_Pct     float64\n",
      " 213 Developing_TCHR_Standard 1_Pct       float64\n",
      " 214 Developing_TCHR_Standard 2_Pct       float64\n",
      " 215 Developing_TCHR_Standard 3_Pct       float64\n",
      " 216 Developing_TCHR_Standard 4_Pct       float64\n",
      " 217 Developing_TCHR_Standard 5_Pct       float64\n",
      " 218 Distinguished_TCHR_Standard 1_Pct    float64\n",
      " 219 Distinguished_TCHR_Standard 2_Pct    float64\n",
      " 220 Distinguished_TCHR_Standard 3_Pct    float64\n",
      " 221 Distinguished_TCHR_Standard 4_Pct    float64\n",
      " 222 Distinguished_TCHR_Standard 5_Pct    float64\n",
      " 223 Not Demostrated_TCHR_Standard 1_Pct  float64\n",
      " 224 Not Demostrated_TCHR_Standard 2_Pct  float64\n",
      " 225 Not Demostrated_TCHR_Standard 4_Pct  float64\n",
      " 226 Proficient_TCHR_Standard 1_Pct       float64\n",
      " 227 Proficient_TCHR_Standard 2_Pct       float64\n",
      " 228 Proficient_TCHR_Standard 3_Pct       float64\n",
      " 229 Proficient_TCHR_Standard 4_Pct       float64\n",
      " 230 Proficient_TCHR_Standard 5_Pct       float64\n",
      " 231 AsianFemalePct                       float64\n",
      " 232 AsianMalePct                         float64\n",
      " 233 BlackFemalePct                       float64\n",
      " 234 BlackMalePct                         float64\n",
      " 235 HispanicFemalePct                    float64\n",
      " 236 HispanicMalePct                      float64\n",
      " 237 IndianFemalePct                      float64\n",
      " 238 MinorityFemalePct                    float64\n",
      " 239 MinorityMalePct                      float64\n",
      " 240 PacificIslandFemalePct               float64\n",
      " 241 PacificIslandMalePct                 float64\n",
      " 242 PacificIslandPct                     float64\n",
      " 243 TwoOrMoreFemalePct                   float64\n",
      " 244 TwoOrMoreMalePct                     float64\n",
      " 245 TwoOrMorePct                         float64\n",
      " 246 unit_code                            int64  \n",
      " 247 Year                                 int64  \n",
      "dtypes: float64(236), int64(2), object(10)\n",
      "memory usage: 18.4+ MB\n"
     ]
    }
   ],
   "source": [
    "#Keep an original copy of the Data\n",
    "schoolData_org = schoolData\n",
    "\n",
    "#Pop out the SPG information from the Data\n",
    "schoolData_SPG = schoolData.pop('SPG Grade')\n",
    "schoolData_SPGScore = schoolData.pop('SPG Score')\n",
    "\n",
    "schoolData.info(verbose=True)"
   ]
  },
  {
   "cell_type": "markdown",
   "metadata": {},
   "source": [
    "Per the analysis, we found that a few attributes were directly used to calculate our response variable. With this in mind, we'll remove these attributes from the dataset.  Features which are discarded include end-of-course, end-of-grade scores and any features related to EVAAS growth metrics. For example: EOG_XXX, EOC_XXX.\n",
    "<img align=\"center\" src=\"https://github.com/fredpoon/ds_7331_jyrf_eda/blob/master/SPG_brief.JPG?raw=true\" alt=\"SPG calculators\" />\n",
    "\n",
    "After removing them, we display the information of the variables to make sure we don't have them in the dataset anymore."
   ]
  },
  {
   "cell_type": "code",
   "execution_count": 80,
   "metadata": {},
   "outputs": [
    {
     "name": "stdout",
     "output_type": "stream",
     "text": [
      "<class 'pandas.core.frame.DataFrame'>\n",
      "RangeIndex: 9731 entries, 0 to 9730\n",
      "Data columns (total 107 columns):\n",
      " #   Column                               Dtype  \n",
      "---  ------                               -----  \n",
      " 0   szip_ad                              float64\n",
      " 1   category_cd                          object \n",
      " 2   calendar_type_txt                    object \n",
      " 3   sna_pgm_type_cd                      object \n",
      " 4   school_type_txt                      object \n",
      " 5   calendar_only_txt                    object \n",
      " 6   title1_type_cd                       object \n",
      " 7   esea_status                          object \n",
      " 8   student_num                          float64\n",
      " 9   lea_avg_student_num                  float64\n",
      " 10  st_avg_student_num                   float64\n",
      " 11  Grad_project_status                  object \n",
      " 12  Math I_Size                          float64\n",
      " 13  lea_total_expense_num                float64\n",
      " 14  lea_salary_expense_pct               float64\n",
      " 15  lea_services_expense_pct             float64\n",
      " 16  lea_supplies_expense_pct             float64\n",
      " 17  lea_instruct_equip_exp_pct           float64\n",
      " 18  lea_federal_perpupil_num             float64\n",
      " 19  lea_local_perpupil_num               float64\n",
      " 20  lea_state_perpupil_num               float64\n",
      " 21  pct_GCE_ALL                          float64\n",
      " 22  MathGr3-8_pTarget_PctMet             float64\n",
      " 23  SciGr5&8_pTarget_PctMet              float64\n",
      " 24  TotalTargets_pTarget_PctMet          float64\n",
      " 25  Category_Cd                          object \n",
      " 26  lea_sat_avg_score_num                float64\n",
      " 27  lea_sat_participation_pct            float64\n",
      " 28  lea_ap_participation_pct             float64\n",
      " 29  lea_ap_pct_3_or_above                float64\n",
      " 30  lea_ib_pct_4_or_above                float64\n",
      " 31  avg_daily_attend_pct                 float64\n",
      " 32  crime_per_c_num                      float64\n",
      " 33  short_susp_per_c_num                 float64\n",
      " 34  long_susp_per_c_num                  float64\n",
      " 35  expelled_per_c_num                   float64\n",
      " 36  stud_internet_comp_num               float64\n",
      " 37  lea_avg_daily_attend_pct             float64\n",
      " 38  lea_crime_per_c_num                  float64\n",
      " 39  lea_short_susp_per_c_num             float64\n",
      " 40  lea_long_susp_per_c_num              float64\n",
      " 41  lea_expelled_per_c_num               float64\n",
      " 42  lea_stud_internet_comp_num           float64\n",
      " 43  st_crime_per_c_num                   float64\n",
      " 44  flicensed_teach_pct                  float64\n",
      " 45  tchyrs_0thru3_pct                    float64\n",
      " 46  tchyrs_4thru10_pct                   float64\n",
      " 47  tchyrs_11plus_pct                    float64\n",
      " 48  nbpts_num                            float64\n",
      " 49  advance_dgr_pct                      float64\n",
      " 50  _1yr_tchr_trnovr_pct                 float64\n",
      " 51  lateral_teach_pct                    float64\n",
      " 52  lea_flicensed_teach_pct              float64\n",
      " 53  lea_tchyrs_0thru3_pct                float64\n",
      " 54  lea_tchyrs_4thru10_pct               float64\n",
      " 55  lea_tchyrs_11plus_pct                float64\n",
      " 56  lea_nbpts_num                        float64\n",
      " 57  lea_advance_dgr_pct                  float64\n",
      " 58  lea_1yr_tchr_trnovr_pct              float64\n",
      " 59  lea_emer_prov_teach_pct              float64\n",
      " 60  st_flicensed_teach_pct               float64\n",
      " 61  st_tchyrs_0thru3_pct                 float64\n",
      " 62  st_1yr_tchr_trnovr_pct               float64\n",
      " 63  st_emer_prov_teach_pct               float64\n",
      " 64  0-3 Years_LEA_Exp_Pct_Prin           float64\n",
      " 65  10+ Years_LEA_Exp_Pct_Prin           float64\n",
      " 66  4-10 Years_LEA_Exp_Pct_Prin          float64\n",
      " 67  Accomplished_TCHR_Standard 1_Pct     float64\n",
      " 68  Accomplished_TCHR_Standard 2_Pct     float64\n",
      " 69  Accomplished_TCHR_Standard 3_Pct     float64\n",
      " 70  Accomplished_TCHR_Standard 4_Pct     float64\n",
      " 71  Accomplished_TCHR_Standard 5_Pct     float64\n",
      " 72  Developing_TCHR_Standard 1_Pct       float64\n",
      " 73  Developing_TCHR_Standard 2_Pct       float64\n",
      " 74  Developing_TCHR_Standard 3_Pct       float64\n",
      " 75  Developing_TCHR_Standard 4_Pct       float64\n",
      " 76  Developing_TCHR_Standard 5_Pct       float64\n",
      " 77  Distinguished_TCHR_Standard 1_Pct    float64\n",
      " 78  Distinguished_TCHR_Standard 2_Pct    float64\n",
      " 79  Distinguished_TCHR_Standard 3_Pct    float64\n",
      " 80  Distinguished_TCHR_Standard 4_Pct    float64\n",
      " 81  Distinguished_TCHR_Standard 5_Pct    float64\n",
      " 82  Not Demostrated_TCHR_Standard 1_Pct  float64\n",
      " 83  Not Demostrated_TCHR_Standard 2_Pct  float64\n",
      " 84  Not Demostrated_TCHR_Standard 4_Pct  float64\n",
      " 85  Proficient_TCHR_Standard 1_Pct       float64\n",
      " 86  Proficient_TCHR_Standard 2_Pct       float64\n",
      " 87  Proficient_TCHR_Standard 3_Pct       float64\n",
      " 88  Proficient_TCHR_Standard 4_Pct       float64\n",
      " 89  Proficient_TCHR_Standard 5_Pct       float64\n",
      " 90  AsianFemalePct                       float64\n",
      " 91  AsianMalePct                         float64\n",
      " 92  BlackFemalePct                       float64\n",
      " 93  BlackMalePct                         float64\n",
      " 94  HispanicFemalePct                    float64\n",
      " 95  HispanicMalePct                      float64\n",
      " 96  IndianFemalePct                      float64\n",
      " 97  MinorityFemalePct                    float64\n",
      " 98  MinorityMalePct                      float64\n",
      " 99  PacificIslandFemalePct               float64\n",
      " 100 PacificIslandMalePct                 float64\n",
      " 101 PacificIslandPct                     float64\n",
      " 102 TwoOrMoreFemalePct                   float64\n",
      " 103 TwoOrMoreMalePct                     float64\n",
      " 104 TwoOrMorePct                         float64\n",
      " 105 unit_code                            int64  \n",
      " 106 Year                                 int64  \n",
      "dtypes: float64(96), int64(2), object(9)\n",
      "memory usage: 7.9+ MB\n"
     ]
    }
   ],
   "source": [
    "# Remove All the Columns that directly used to calculate SPG Grade and Score\n",
    "schoolData.drop(schoolData.iloc[:, 21:162], inplace=True, axis=1)\n",
    "schoolData.info(verbose=True)"
   ]
  },
  {
   "cell_type": "markdown",
   "metadata": {},
   "source": [
    "The below procedure do the one-hot encoding for the left categorical variable. As shown below we have a total of 20 categorical variables to encode and we end up with 40 variables after the encoding process."
   ]
  },
  {
   "cell_type": "code",
   "execution_count": 7,
   "metadata": {},
   "outputs": [
    {
     "name": "stdout",
     "output_type": "stream",
     "text": [
      "Columns To One-Hot Encode:  20\n",
      "\r\n",
      "*********After: Adding New Columns Via One-Hot Encoding*************************\n",
      "<class 'pandas.core.frame.DataFrame'>\n",
      "RangeIndex: 9731 entries, 0 to 9730\n",
      "Columns: 288 entries, szip_ad to Category_Cd_T\n",
      "dtypes: float64(236), int64(2), uint8(50)\n",
      "memory usage: 18.1 MB\n",
      "\r\n",
      "New Columns Created Via One-Hot Encoding:  40\n"
     ]
    }
   ],
   "source": [
    "#Isolate remaining categorical variables\n",
    "begColumnCt = len(schoolData.columns)\n",
    "\n",
    "#one hot encode categorical variables\n",
    "schoolData = pd.get_dummies(data=schoolData,drop_first=True)\n",
    "\n",
    "#Determine change in column count\n",
    "endColumnCt = len(schoolData.columns)\n",
    "columnsAdded = endColumnCt - begColumnCt\n",
    "\n",
    "#Review dataset contents one hot high unique value drops\n",
    "print('Columns To One-Hot Encode: ', len(sD_nominal.columns))\n",
    "print('\\r\\n*********After: Adding New Columns Via One-Hot Encoding*************************')\n",
    "schoolData.info(verbose=False)\n",
    "print ('\\r\\nNew Columns Created Via One-Hot Encoding: ', columnsAdded)"
   ]
  },
  {
   "cell_type": "markdown",
   "metadata": {},
   "source": [
    "A dimension check of the dataset after the one-hot encoding process shows that we have a total of 9371 records with 148 seperate variables. All of the variables are in numerical format now."
   ]
  },
  {
   "cell_type": "code",
   "execution_count": 8,
   "metadata": {},
   "outputs": [
    {
     "data": {
      "text/plain": [
       "(9731, 288)"
      ]
     },
     "execution_count": 8,
     "metadata": {},
     "output_type": "execute_result"
    },
    {
     "data": {
      "text/html": [
       "<div>\n",
       "<style scoped>\n",
       "    .dataframe tbody tr th:only-of-type {\n",
       "        vertical-align: middle;\n",
       "    }\n",
       "\n",
       "    .dataframe tbody tr th {\n",
       "        vertical-align: top;\n",
       "    }\n",
       "\n",
       "    .dataframe thead th {\n",
       "        text-align: right;\n",
       "    }\n",
       "</style>\n",
       "<table border=\"1\" class=\"dataframe\">\n",
       "  <thead>\n",
       "    <tr style=\"text-align: right;\">\n",
       "      <th></th>\n",
       "      <th>szip_ad</th>\n",
       "      <th>student_num</th>\n",
       "      <th>lea_avg_student_num</th>\n",
       "      <th>st_avg_student_num</th>\n",
       "      <th>Math I_Size</th>\n",
       "      <th>lea_total_expense_num</th>\n",
       "      <th>lea_salary_expense_pct</th>\n",
       "      <th>lea_services_expense_pct</th>\n",
       "      <th>lea_supplies_expense_pct</th>\n",
       "      <th>lea_instruct_equip_exp_pct</th>\n",
       "      <th>...</th>\n",
       "      <th>Grad_project_status_Y</th>\n",
       "      <th>EVAAS Growth Status_Exceeded</th>\n",
       "      <th>EVAAS Growth Status_Met</th>\n",
       "      <th>EVAAS Growth Status_NotMet</th>\n",
       "      <th>Category_Cd_A</th>\n",
       "      <th>Category_Cd_E</th>\n",
       "      <th>Category_Cd_H</th>\n",
       "      <th>Category_Cd_I</th>\n",
       "      <th>Category_Cd_M</th>\n",
       "      <th>Category_Cd_T</th>\n",
       "    </tr>\n",
       "  </thead>\n",
       "  <tbody>\n",
       "    <tr>\n",
       "      <th>0</th>\n",
       "      <td>27253.0</td>\n",
       "      <td>78.0</td>\n",
       "      <td>954.0</td>\n",
       "      <td>837.0</td>\n",
       "      <td>0.0</td>\n",
       "      <td>8028.59</td>\n",
       "      <td>0.613</td>\n",
       "      <td>0.078</td>\n",
       "      <td>0.086</td>\n",
       "      <td>0.011</td>\n",
       "      <td>...</td>\n",
       "      <td>0</td>\n",
       "      <td>0</td>\n",
       "      <td>0</td>\n",
       "      <td>0</td>\n",
       "      <td>0</td>\n",
       "      <td>0</td>\n",
       "      <td>1</td>\n",
       "      <td>0</td>\n",
       "      <td>0</td>\n",
       "      <td>0</td>\n",
       "    </tr>\n",
       "    <tr>\n",
       "      <th>1</th>\n",
       "      <td>27253.0</td>\n",
       "      <td>539.0</td>\n",
       "      <td>518.0</td>\n",
       "      <td>496.0</td>\n",
       "      <td>0.0</td>\n",
       "      <td>8028.59</td>\n",
       "      <td>0.613</td>\n",
       "      <td>0.078</td>\n",
       "      <td>0.086</td>\n",
       "      <td>0.011</td>\n",
       "      <td>...</td>\n",
       "      <td>0</td>\n",
       "      <td>1</td>\n",
       "      <td>0</td>\n",
       "      <td>0</td>\n",
       "      <td>0</td>\n",
       "      <td>1</td>\n",
       "      <td>0</td>\n",
       "      <td>0</td>\n",
       "      <td>0</td>\n",
       "      <td>0</td>\n",
       "    </tr>\n",
       "    <tr>\n",
       "      <th>2</th>\n",
       "      <td>27244.0</td>\n",
       "      <td>547.0</td>\n",
       "      <td>518.0</td>\n",
       "      <td>496.0</td>\n",
       "      <td>0.0</td>\n",
       "      <td>8028.59</td>\n",
       "      <td>0.613</td>\n",
       "      <td>0.078</td>\n",
       "      <td>0.086</td>\n",
       "      <td>0.011</td>\n",
       "      <td>...</td>\n",
       "      <td>0</td>\n",
       "      <td>0</td>\n",
       "      <td>1</td>\n",
       "      <td>0</td>\n",
       "      <td>0</td>\n",
       "      <td>1</td>\n",
       "      <td>0</td>\n",
       "      <td>0</td>\n",
       "      <td>0</td>\n",
       "      <td>0</td>\n",
       "    </tr>\n",
       "    <tr>\n",
       "      <th>3</th>\n",
       "      <td>27217.0</td>\n",
       "      <td>800.0</td>\n",
       "      <td>768.0</td>\n",
       "      <td>665.0</td>\n",
       "      <td>26.0</td>\n",
       "      <td>8028.59</td>\n",
       "      <td>0.613</td>\n",
       "      <td>0.078</td>\n",
       "      <td>0.086</td>\n",
       "      <td>0.011</td>\n",
       "      <td>...</td>\n",
       "      <td>0</td>\n",
       "      <td>0</td>\n",
       "      <td>0</td>\n",
       "      <td>1</td>\n",
       "      <td>0</td>\n",
       "      <td>0</td>\n",
       "      <td>0</td>\n",
       "      <td>0</td>\n",
       "      <td>1</td>\n",
       "      <td>0</td>\n",
       "    </tr>\n",
       "    <tr>\n",
       "      <th>4</th>\n",
       "      <td>27215.0</td>\n",
       "      <td>664.0</td>\n",
       "      <td>518.0</td>\n",
       "      <td>496.0</td>\n",
       "      <td>0.0</td>\n",
       "      <td>8028.59</td>\n",
       "      <td>0.613</td>\n",
       "      <td>0.078</td>\n",
       "      <td>0.086</td>\n",
       "      <td>0.011</td>\n",
       "      <td>...</td>\n",
       "      <td>0</td>\n",
       "      <td>1</td>\n",
       "      <td>0</td>\n",
       "      <td>0</td>\n",
       "      <td>0</td>\n",
       "      <td>1</td>\n",
       "      <td>0</td>\n",
       "      <td>0</td>\n",
       "      <td>0</td>\n",
       "      <td>0</td>\n",
       "    </tr>\n",
       "  </tbody>\n",
       "</table>\n",
       "<p>5 rows × 288 columns</p>\n",
       "</div>"
      ],
      "text/plain": [
       "   szip_ad  student_num  lea_avg_student_num  st_avg_student_num  Math I_Size  \\\n",
       "0  27253.0         78.0                954.0               837.0          0.0   \n",
       "1  27253.0        539.0                518.0               496.0          0.0   \n",
       "2  27244.0        547.0                518.0               496.0          0.0   \n",
       "3  27217.0        800.0                768.0               665.0         26.0   \n",
       "4  27215.0        664.0                518.0               496.0          0.0   \n",
       "\n",
       "   lea_total_expense_num  lea_salary_expense_pct  lea_services_expense_pct  \\\n",
       "0                8028.59                   0.613                     0.078   \n",
       "1                8028.59                   0.613                     0.078   \n",
       "2                8028.59                   0.613                     0.078   \n",
       "3                8028.59                   0.613                     0.078   \n",
       "4                8028.59                   0.613                     0.078   \n",
       "\n",
       "   lea_supplies_expense_pct  lea_instruct_equip_exp_pct  ...  \\\n",
       "0                     0.086                       0.011  ...   \n",
       "1                     0.086                       0.011  ...   \n",
       "2                     0.086                       0.011  ...   \n",
       "3                     0.086                       0.011  ...   \n",
       "4                     0.086                       0.011  ...   \n",
       "\n",
       "   Grad_project_status_Y  EVAAS Growth Status_Exceeded  \\\n",
       "0                      0                             0   \n",
       "1                      0                             1   \n",
       "2                      0                             0   \n",
       "3                      0                             0   \n",
       "4                      0                             1   \n",
       "\n",
       "   EVAAS Growth Status_Met  EVAAS Growth Status_NotMet  Category_Cd_A  \\\n",
       "0                        0                           0              0   \n",
       "1                        0                           0              0   \n",
       "2                        1                           0              0   \n",
       "3                        0                           1              0   \n",
       "4                        0                           0              0   \n",
       "\n",
       "   Category_Cd_E  Category_Cd_H  Category_Cd_I  Category_Cd_M  Category_Cd_T  \n",
       "0              0              1              0              0              0  \n",
       "1              1              0              0              0              0  \n",
       "2              1              0              0              0              0  \n",
       "3              0              0              0              1              0  \n",
       "4              1              0              0              0              0  \n",
       "\n",
       "[5 rows x 288 columns]"
      ]
     },
     "execution_count": 8,
     "metadata": {},
     "output_type": "execute_result"
    }
   ],
   "source": [
    "# Dimension of Dataset\n",
    "schoolData.shape\n",
    "\n",
    "schoolData.head()"
   ]
  },
  {
   "cell_type": "markdown",
   "metadata": {},
   "source": [
    "### Feature Selection"
   ]
  },
  {
   "cell_type": "markdown",
   "metadata": {},
   "source": [
    "We original have 148 features in the data table. We don't want to include this many features for model feasibility. However, as we have a data size requirement, and we also want the constructing model to be high quality. We decide to conduct a feature selection process to choose the most important features to use.\n",
    "\n",
    "There are many ways to conduct feature selection. In this project we use random forest and plot out feature importances of all features. The work below is not for feasible model construction (we didn't split train/test) but just for picking out the most important variables to use.  "
   ]
  },
  {
   "cell_type": "code",
   "execution_count": 84,
   "metadata": {},
   "outputs": [
    {
     "data": {
      "text/plain": [
       "RandomForestClassifier(bootstrap=True, ccp_alpha=0.0, class_weight=None,\n",
       "                       criterion='gini', max_depth=None, max_features='auto',\n",
       "                       max_leaf_nodes=None, max_samples=None,\n",
       "                       min_impurity_decrease=0.0, min_impurity_split=None,\n",
       "                       min_samples_leaf=1, min_samples_split=2,\n",
       "                       min_weight_fraction_leaf=0.0, n_estimators=100,\n",
       "                       n_jobs=None, oob_score=False, random_state=None,\n",
       "                       verbose=0, warm_start=False)"
      ]
     },
     "execution_count": 84,
     "metadata": {},
     "output_type": "execute_result"
    }
   ],
   "source": [
    "# Random Forest apply to X with all variables\n",
    "from sklearn.ensemble import RandomForestClassifier\n",
    "clfa=RandomForestClassifier(n_estimators=100)\n",
    "clfa.fit(schoolData,schoolData_SPG)\n",
    "y_pred=clfa.predict(schoolData)"
   ]
  },
  {
   "cell_type": "markdown",
   "metadata": {},
   "source": [
    "Accuracy = 1.0 does not surprise us because we didn't to train/test splitting. "
   ]
  },
  {
   "cell_type": "code",
   "execution_count": 85,
   "metadata": {},
   "outputs": [
    {
     "name": "stdout",
     "output_type": "stream",
     "text": [
      "Accuracy: 1.0\n"
     ]
    }
   ],
   "source": [
    "from sklearn import metrics\n",
    "print(\"Accuracy:\",metrics.accuracy_score(schoolData_SPG, y_pred))"
   ]
  },
  {
   "cell_type": "markdown",
   "metadata": {},
   "source": [
    "Below plot reflect what features are important and their according weights."
   ]
  },
  {
   "cell_type": "code",
   "execution_count": 86,
   "metadata": {},
   "outputs": [
    {
     "data": {
      "text/html": [
       "\n",
       "    <style>\n",
       "    table.eli5-weights tr:hover {\n",
       "        filter: brightness(85%);\n",
       "    }\n",
       "</style>\n",
       "\n",
       "\n",
       "\n",
       "    \n",
       "\n",
       "    \n",
       "\n",
       "    \n",
       "\n",
       "    \n",
       "\n",
       "    \n",
       "\n",
       "    \n",
       "\n",
       "\n",
       "    \n",
       "\n",
       "    \n",
       "\n",
       "    \n",
       "\n",
       "    \n",
       "\n",
       "    \n",
       "\n",
       "    \n",
       "\n",
       "\n",
       "    \n",
       "\n",
       "    \n",
       "\n",
       "    \n",
       "\n",
       "    \n",
       "\n",
       "    \n",
       "        <table class=\"eli5-weights eli5-feature-importances\" style=\"border-collapse: collapse; border: none; margin-top: 0em; table-layout: auto;\">\n",
       "    <thead>\n",
       "    <tr style=\"border: none;\">\n",
       "        <th style=\"padding: 0 1em 0 0.5em; text-align: right; border: none;\">Weight</th>\n",
       "        <th style=\"padding: 0 0.5em 0 0.5em; text-align: left; border: none;\">Feature</th>\n",
       "    </tr>\n",
       "    </thead>\n",
       "    <tbody>\n",
       "    \n",
       "        <tr style=\"background-color: hsl(120, 100.00%, 80.00%); border: none;\">\n",
       "            <td style=\"padding: 0 1em 0 0.5em; text-align: right; border: none;\">\n",
       "                0.0412\n",
       "                \n",
       "                    &plusmn; 0.0036\n",
       "                \n",
       "            </td>\n",
       "            <td style=\"padding: 0 0.5em 0 0.5em; text-align: left; border: none;\">\n",
       "                TotalTargets_pTarget_PctMet\n",
       "            </td>\n",
       "        </tr>\n",
       "    \n",
       "        <tr style=\"background-color: hsl(120, 100.00%, 93.02%); border: none;\">\n",
       "            <td style=\"padding: 0 1em 0 0.5em; text-align: right; border: none;\">\n",
       "                0.0091\n",
       "                \n",
       "                    &plusmn; 0.0014\n",
       "                \n",
       "            </td>\n",
       "            <td style=\"padding: 0 0.5em 0 0.5em; text-align: left; border: none;\">\n",
       "                MinorityMalePct\n",
       "            </td>\n",
       "        </tr>\n",
       "    \n",
       "        <tr style=\"background-color: hsl(120, 100.00%, 96.62%); border: none;\">\n",
       "            <td style=\"padding: 0 1em 0 0.5em; text-align: right; border: none;\">\n",
       "                0.0032\n",
       "                \n",
       "                    &plusmn; 0.0006\n",
       "                \n",
       "            </td>\n",
       "            <td style=\"padding: 0 0.5em 0 0.5em; text-align: left; border: none;\">\n",
       "                MinorityFemalePct\n",
       "            </td>\n",
       "        </tr>\n",
       "    \n",
       "        <tr style=\"background-color: hsl(120, 100.00%, 97.43%); border: none;\">\n",
       "            <td style=\"padding: 0 1em 0 0.5em; text-align: right; border: none;\">\n",
       "                0.0022\n",
       "                \n",
       "                    &plusmn; 0.0005\n",
       "                \n",
       "            </td>\n",
       "            <td style=\"padding: 0 0.5em 0 0.5em; text-align: left; border: none;\">\n",
       "                short_susp_per_c_num\n",
       "            </td>\n",
       "        </tr>\n",
       "    \n",
       "        <tr style=\"background-color: hsl(120, 100.00%, 98.03%); border: none;\">\n",
       "            <td style=\"padding: 0 1em 0 0.5em; text-align: right; border: none;\">\n",
       "                0.0015\n",
       "                \n",
       "                    &plusmn; 0.0006\n",
       "                \n",
       "            </td>\n",
       "            <td style=\"padding: 0 0.5em 0 0.5em; text-align: left; border: none;\">\n",
       "                avg_daily_attend_pct\n",
       "            </td>\n",
       "        </tr>\n",
       "    \n",
       "        <tr style=\"background-color: hsl(120, 100.00%, 98.30%); border: none;\">\n",
       "            <td style=\"padding: 0 1em 0 0.5em; text-align: right; border: none;\">\n",
       "                0.0012\n",
       "                \n",
       "                    &plusmn; 0.0004\n",
       "                \n",
       "            </td>\n",
       "            <td style=\"padding: 0 0.5em 0 0.5em; text-align: left; border: none;\">\n",
       "                title1_type_cd_Y\n",
       "            </td>\n",
       "        </tr>\n",
       "    \n",
       "        <tr style=\"background-color: hsl(120, 100.00%, 98.45%); border: none;\">\n",
       "            <td style=\"padding: 0 1em 0 0.5em; text-align: right; border: none;\">\n",
       "                0.0011\n",
       "                \n",
       "                    &plusmn; 0.0003\n",
       "                \n",
       "            </td>\n",
       "            <td style=\"padding: 0 0.5em 0 0.5em; text-align: left; border: none;\">\n",
       "                BlackMalePct\n",
       "            </td>\n",
       "        </tr>\n",
       "    \n",
       "        <tr style=\"background-color: hsl(120, 100.00%, 98.66%); border: none;\">\n",
       "            <td style=\"padding: 0 1em 0 0.5em; text-align: right; border: none;\">\n",
       "                0.0009\n",
       "                \n",
       "                    &plusmn; 0.0005\n",
       "                \n",
       "            </td>\n",
       "            <td style=\"padding: 0 0.5em 0 0.5em; text-align: left; border: none;\">\n",
       "                AsianFemalePct\n",
       "            </td>\n",
       "        </tr>\n",
       "    \n",
       "        <tr style=\"background-color: hsl(120, 100.00%, 99.04%); border: none;\">\n",
       "            <td style=\"padding: 0 1em 0 0.5em; text-align: right; border: none;\">\n",
       "                0.0005\n",
       "                \n",
       "                    &plusmn; 0.0004\n",
       "                \n",
       "            </td>\n",
       "            <td style=\"padding: 0 0.5em 0 0.5em; text-align: left; border: none;\">\n",
       "                BlackFemalePct\n",
       "            </td>\n",
       "        </tr>\n",
       "    \n",
       "        <tr style=\"background-color: hsl(120, 100.00%, 99.26%); border: none;\">\n",
       "            <td style=\"padding: 0 1em 0 0.5em; text-align: right; border: none;\">\n",
       "                0.0004\n",
       "                \n",
       "                    &plusmn; 0.0002\n",
       "                \n",
       "            </td>\n",
       "            <td style=\"padding: 0 0.5em 0 0.5em; text-align: left; border: none;\">\n",
       "                HispanicMalePct\n",
       "            </td>\n",
       "        </tr>\n",
       "    \n",
       "        <tr style=\"background-color: hsl(120, 100.00%, 99.58%); border: none;\">\n",
       "            <td style=\"padding: 0 1em 0 0.5em; text-align: right; border: none;\">\n",
       "                0.0002\n",
       "                \n",
       "                    &plusmn; 0.0002\n",
       "                \n",
       "            </td>\n",
       "            <td style=\"padding: 0 0.5em 0 0.5em; text-align: left; border: none;\">\n",
       "                MathGr3-8_pTarget_PctMet\n",
       "            </td>\n",
       "        </tr>\n",
       "    \n",
       "        <tr style=\"background-color: hsl(120, 100.00%, 99.58%); border: none;\">\n",
       "            <td style=\"padding: 0 1em 0 0.5em; text-align: right; border: none;\">\n",
       "                0.0002\n",
       "                \n",
       "                    &plusmn; 0.0002\n",
       "                \n",
       "            </td>\n",
       "            <td style=\"padding: 0 0.5em 0 0.5em; text-align: left; border: none;\">\n",
       "                AsianMalePct\n",
       "            </td>\n",
       "        </tr>\n",
       "    \n",
       "        <tr style=\"background-color: hsl(120, 100.00%, 99.66%); border: none;\">\n",
       "            <td style=\"padding: 0 1em 0 0.5em; text-align: right; border: none;\">\n",
       "                0.0001\n",
       "                \n",
       "                    &plusmn; 0.0002\n",
       "                \n",
       "            </td>\n",
       "            <td style=\"padding: 0 0.5em 0 0.5em; text-align: left; border: none;\">\n",
       "                SciGr5&amp;8_pTarget_PctMet\n",
       "            </td>\n",
       "        </tr>\n",
       "    \n",
       "        <tr style=\"background-color: hsl(120, 100.00%, 99.74%); border: none;\">\n",
       "            <td style=\"padding: 0 1em 0 0.5em; text-align: right; border: none;\">\n",
       "                0.0001\n",
       "                \n",
       "                    &plusmn; 0.0002\n",
       "                \n",
       "            </td>\n",
       "            <td style=\"padding: 0 0.5em 0 0.5em; text-align: left; border: none;\">\n",
       "                nbpts_num\n",
       "            </td>\n",
       "        </tr>\n",
       "    \n",
       "        <tr style=\"background-color: hsl(120, 100.00%, 99.79%); border: none;\">\n",
       "            <td style=\"padding: 0 1em 0 0.5em; text-align: right; border: none;\">\n",
       "                0.0001\n",
       "                \n",
       "                    &plusmn; 0.0002\n",
       "                \n",
       "            </td>\n",
       "            <td style=\"padding: 0 0.5em 0 0.5em; text-align: left; border: none;\">\n",
       "                lea_sat_avg_score_num\n",
       "            </td>\n",
       "        </tr>\n",
       "    \n",
       "        <tr style=\"background-color: hsl(120, 100.00%, 99.84%); border: none;\">\n",
       "            <td style=\"padding: 0 1em 0 0.5em; text-align: right; border: none;\">\n",
       "                0.0000\n",
       "                \n",
       "                    &plusmn; 0.0001\n",
       "                \n",
       "            </td>\n",
       "            <td style=\"padding: 0 0.5em 0 0.5em; text-align: left; border: none;\">\n",
       "                stud_internet_comp_num\n",
       "            </td>\n",
       "        </tr>\n",
       "    \n",
       "        <tr style=\"background-color: hsl(120, 100.00%, 99.90%); border: none;\">\n",
       "            <td style=\"padding: 0 1em 0 0.5em; text-align: right; border: none;\">\n",
       "                0.0000\n",
       "                \n",
       "                    &plusmn; 0.0001\n",
       "                \n",
       "            </td>\n",
       "            <td style=\"padding: 0 0.5em 0 0.5em; text-align: left; border: none;\">\n",
       "                st_avg_student_num\n",
       "            </td>\n",
       "        </tr>\n",
       "    \n",
       "        <tr style=\"background-color: hsl(120, 100.00%, 99.90%); border: none;\">\n",
       "            <td style=\"padding: 0 1em 0 0.5em; text-align: right; border: none;\">\n",
       "                0.0000\n",
       "                \n",
       "                    &plusmn; 0.0001\n",
       "                \n",
       "            </td>\n",
       "            <td style=\"padding: 0 0.5em 0 0.5em; text-align: left; border: none;\">\n",
       "                HispanicFemalePct\n",
       "            </td>\n",
       "        </tr>\n",
       "    \n",
       "        <tr style=\"background-color: hsl(120, 100.00%, 99.90%); border: none;\">\n",
       "            <td style=\"padding: 0 1em 0 0.5em; text-align: right; border: none;\">\n",
       "                0.0000\n",
       "                \n",
       "                    &plusmn; 0.0001\n",
       "                \n",
       "            </td>\n",
       "            <td style=\"padding: 0 0.5em 0 0.5em; text-align: left; border: none;\">\n",
       "                Accomplished_TCHR_Standard 4_Pct\n",
       "            </td>\n",
       "        </tr>\n",
       "    \n",
       "        <tr style=\"background-color: hsl(0, 100.00%, 100.00%); border: none;\">\n",
       "            <td style=\"padding: 0 1em 0 0.5em; text-align: right; border: none;\">\n",
       "                0\n",
       "                \n",
       "                    &plusmn; 0.0000\n",
       "                \n",
       "            </td>\n",
       "            <td style=\"padding: 0 0.5em 0 0.5em; text-align: left; border: none;\">\n",
       "                Accomplished_TCHR_Standard 3_Pct\n",
       "            </td>\n",
       "        </tr>\n",
       "    \n",
       "        <tr style=\"background-color: hsl(0, 100.00%, 100.00%); border: none;\">\n",
       "            <td style=\"padding: 0 1em 0 0.5em; text-align: right; border: none;\">\n",
       "                0\n",
       "                \n",
       "                    &plusmn; 0.0000\n",
       "                \n",
       "            </td>\n",
       "            <td style=\"padding: 0 0.5em 0 0.5em; text-align: left; border: none;\">\n",
       "                Developing_TCHR_Standard 2_Pct\n",
       "            </td>\n",
       "        </tr>\n",
       "    \n",
       "        <tr style=\"background-color: hsl(0, 100.00%, 100.00%); border: none;\">\n",
       "            <td style=\"padding: 0 1em 0 0.5em; text-align: right; border: none;\">\n",
       "                0\n",
       "                \n",
       "                    &plusmn; 0.0000\n",
       "                \n",
       "            </td>\n",
       "            <td style=\"padding: 0 0.5em 0 0.5em; text-align: left; border: none;\">\n",
       "                Accomplished_TCHR_Standard 5_Pct\n",
       "            </td>\n",
       "        </tr>\n",
       "    \n",
       "        <tr style=\"background-color: hsl(0, 100.00%, 100.00%); border: none;\">\n",
       "            <td style=\"padding: 0 1em 0 0.5em; text-align: right; border: none;\">\n",
       "                0\n",
       "                \n",
       "                    &plusmn; 0.0000\n",
       "                \n",
       "            </td>\n",
       "            <td style=\"padding: 0 0.5em 0 0.5em; text-align: left; border: none;\">\n",
       "                10+ Years_LEA_Exp_Pct_Prin\n",
       "            </td>\n",
       "        </tr>\n",
       "    \n",
       "        <tr style=\"background-color: hsl(0, 100.00%, 100.00%); border: none;\">\n",
       "            <td style=\"padding: 0 1em 0 0.5em; text-align: right; border: none;\">\n",
       "                0\n",
       "                \n",
       "                    &plusmn; 0.0000\n",
       "                \n",
       "            </td>\n",
       "            <td style=\"padding: 0 0.5em 0 0.5em; text-align: left; border: none;\">\n",
       "                4-10 Years_LEA_Exp_Pct_Prin\n",
       "            </td>\n",
       "        </tr>\n",
       "    \n",
       "        <tr style=\"background-color: hsl(0, 100.00%, 100.00%); border: none;\">\n",
       "            <td style=\"padding: 0 1em 0 0.5em; text-align: right; border: none;\">\n",
       "                0\n",
       "                \n",
       "                    &plusmn; 0.0000\n",
       "                \n",
       "            </td>\n",
       "            <td style=\"padding: 0 0.5em 0 0.5em; text-align: left; border: none;\">\n",
       "                Accomplished_TCHR_Standard 1_Pct\n",
       "            </td>\n",
       "        </tr>\n",
       "    \n",
       "        <tr style=\"background-color: hsl(0, 100.00%, 100.00%); border: none;\">\n",
       "            <td style=\"padding: 0 1em 0 0.5em; text-align: right; border: none;\">\n",
       "                0\n",
       "                \n",
       "                    &plusmn; 0.0000\n",
       "                \n",
       "            </td>\n",
       "            <td style=\"padding: 0 0.5em 0 0.5em; text-align: left; border: none;\">\n",
       "                Accomplished_TCHR_Standard 2_Pct\n",
       "            </td>\n",
       "        </tr>\n",
       "    \n",
       "        <tr style=\"background-color: hsl(0, 100.00%, 100.00%); border: none;\">\n",
       "            <td style=\"padding: 0 1em 0 0.5em; text-align: right; border: none;\">\n",
       "                0\n",
       "                \n",
       "                    &plusmn; 0.0000\n",
       "                \n",
       "            </td>\n",
       "            <td style=\"padding: 0 0.5em 0 0.5em; text-align: left; border: none;\">\n",
       "                Developing_TCHR_Standard 1_Pct\n",
       "            </td>\n",
       "        </tr>\n",
       "    \n",
       "        <tr style=\"background-color: hsl(0, 100.00%, 100.00%); border: none;\">\n",
       "            <td style=\"padding: 0 1em 0 0.5em; text-align: right; border: none;\">\n",
       "                0\n",
       "                \n",
       "                    &plusmn; 0.0000\n",
       "                \n",
       "            </td>\n",
       "            <td style=\"padding: 0 0.5em 0 0.5em; text-align: left; border: none;\">\n",
       "                pct_GCE_ALL\n",
       "            </td>\n",
       "        </tr>\n",
       "    \n",
       "        <tr style=\"background-color: hsl(0, 100.00%, 100.00%); border: none;\">\n",
       "            <td style=\"padding: 0 1em 0 0.5em; text-align: right; border: none;\">\n",
       "                0\n",
       "                \n",
       "                    &plusmn; 0.0000\n",
       "                \n",
       "            </td>\n",
       "            <td style=\"padding: 0 0.5em 0 0.5em; text-align: left; border: none;\">\n",
       "                0-3 Years_LEA_Exp_Pct_Prin\n",
       "            </td>\n",
       "        </tr>\n",
       "    \n",
       "        <tr style=\"background-color: hsl(0, 100.00%, 100.00%); border: none;\">\n",
       "            <td style=\"padding: 0 1em 0 0.5em; text-align: right; border: none;\">\n",
       "                0\n",
       "                \n",
       "                    &plusmn; 0.0000\n",
       "                \n",
       "            </td>\n",
       "            <td style=\"padding: 0 0.5em 0 0.5em; text-align: left; border: none;\">\n",
       "                st_emer_prov_teach_pct\n",
       "            </td>\n",
       "        </tr>\n",
       "    \n",
       "        <tr style=\"background-color: hsl(0, 100.00%, 100.00%); border: none;\">\n",
       "            <td style=\"padding: 0 1em 0 0.5em; text-align: right; border: none;\">\n",
       "                0\n",
       "                \n",
       "                    &plusmn; 0.0000\n",
       "                \n",
       "            </td>\n",
       "            <td style=\"padding: 0 0.5em 0 0.5em; text-align: left; border: none;\">\n",
       "                lea_sat_participation_pct\n",
       "            </td>\n",
       "        </tr>\n",
       "    \n",
       "        <tr style=\"background-color: hsl(0, 100.00%, 100.00%); border: none;\">\n",
       "            <td style=\"padding: 0 1em 0 0.5em; text-align: right; border: none;\">\n",
       "                0\n",
       "                \n",
       "                    &plusmn; 0.0000\n",
       "                \n",
       "            </td>\n",
       "            <td style=\"padding: 0 0.5em 0 0.5em; text-align: left; border: none;\">\n",
       "                lea_ap_participation_pct\n",
       "            </td>\n",
       "        </tr>\n",
       "    \n",
       "        <tr style=\"background-color: hsl(0, 100.00%, 100.00%); border: none;\">\n",
       "            <td style=\"padding: 0 1em 0 0.5em; text-align: right; border: none;\">\n",
       "                0\n",
       "                \n",
       "                    &plusmn; 0.0000\n",
       "                \n",
       "            </td>\n",
       "            <td style=\"padding: 0 0.5em 0 0.5em; text-align: left; border: none;\">\n",
       "                lea_federal_perpupil_num\n",
       "            </td>\n",
       "        </tr>\n",
       "    \n",
       "        <tr style=\"background-color: hsl(0, 100.00%, 100.00%); border: none;\">\n",
       "            <td style=\"padding: 0 1em 0 0.5em; text-align: right; border: none;\">\n",
       "                0\n",
       "                \n",
       "                    &plusmn; 0.0000\n",
       "                \n",
       "            </td>\n",
       "            <td style=\"padding: 0 0.5em 0 0.5em; text-align: left; border: none;\">\n",
       "                lea_local_perpupil_num\n",
       "            </td>\n",
       "        </tr>\n",
       "    \n",
       "        <tr style=\"background-color: hsl(0, 100.00%, 100.00%); border: none;\">\n",
       "            <td style=\"padding: 0 1em 0 0.5em; text-align: right; border: none;\">\n",
       "                0\n",
       "                \n",
       "                    &plusmn; 0.0000\n",
       "                \n",
       "            </td>\n",
       "            <td style=\"padding: 0 0.5em 0 0.5em; text-align: left; border: none;\">\n",
       "                advance_dgr_pct\n",
       "            </td>\n",
       "        </tr>\n",
       "    \n",
       "        <tr style=\"background-color: hsl(0, 100.00%, 100.00%); border: none;\">\n",
       "            <td style=\"padding: 0 1em 0 0.5em; text-align: right; border: none;\">\n",
       "                0\n",
       "                \n",
       "                    &plusmn; 0.0000\n",
       "                \n",
       "            </td>\n",
       "            <td style=\"padding: 0 0.5em 0 0.5em; text-align: left; border: none;\">\n",
       "                Developing_TCHR_Standard 5_Pct\n",
       "            </td>\n",
       "        </tr>\n",
       "    \n",
       "        <tr style=\"background-color: hsl(0, 100.00%, 100.00%); border: none;\">\n",
       "            <td style=\"padding: 0 1em 0 0.5em; text-align: right; border: none;\">\n",
       "                0\n",
       "                \n",
       "                    &plusmn; 0.0000\n",
       "                \n",
       "            </td>\n",
       "            <td style=\"padding: 0 0.5em 0 0.5em; text-align: left; border: none;\">\n",
       "                lateral_teach_pct\n",
       "            </td>\n",
       "        </tr>\n",
       "    \n",
       "        <tr style=\"background-color: hsl(0, 100.00%, 100.00%); border: none;\">\n",
       "            <td style=\"padding: 0 1em 0 0.5em; text-align: right; border: none;\">\n",
       "                0\n",
       "                \n",
       "                    &plusmn; 0.0000\n",
       "                \n",
       "            </td>\n",
       "            <td style=\"padding: 0 0.5em 0 0.5em; text-align: left; border: none;\">\n",
       "                lea_flicensed_teach_pct\n",
       "            </td>\n",
       "        </tr>\n",
       "    \n",
       "        <tr style=\"background-color: hsl(0, 100.00%, 100.00%); border: none;\">\n",
       "            <td style=\"padding: 0 1em 0 0.5em; text-align: right; border: none;\">\n",
       "                0\n",
       "                \n",
       "                    &plusmn; 0.0000\n",
       "                \n",
       "            </td>\n",
       "            <td style=\"padding: 0 0.5em 0 0.5em; text-align: left; border: none;\">\n",
       "                Developing_TCHR_Standard 3_Pct\n",
       "            </td>\n",
       "        </tr>\n",
       "    \n",
       "        <tr style=\"background-color: hsl(0, 100.00%, 100.00%); border: none;\">\n",
       "            <td style=\"padding: 0 1em 0 0.5em; text-align: right; border: none;\">\n",
       "                0\n",
       "                \n",
       "                    &plusmn; 0.0000\n",
       "                \n",
       "            </td>\n",
       "            <td style=\"padding: 0 0.5em 0 0.5em; text-align: left; border: none;\">\n",
       "                lea_tchyrs_0thru3_pct\n",
       "            </td>\n",
       "        </tr>\n",
       "    \n",
       "        <tr style=\"background-color: hsl(0, 100.00%, 100.00%); border: none;\">\n",
       "            <td style=\"padding: 0 1em 0 0.5em; text-align: right; border: none;\">\n",
       "                0\n",
       "                \n",
       "                    &plusmn; 0.0000\n",
       "                \n",
       "            </td>\n",
       "            <td style=\"padding: 0 0.5em 0 0.5em; text-align: left; border: none;\">\n",
       "                lea_tchyrs_11plus_pct\n",
       "            </td>\n",
       "        </tr>\n",
       "    \n",
       "        <tr style=\"background-color: hsl(0, 100.00%, 100.00%); border: none;\">\n",
       "            <td style=\"padding: 0 1em 0 0.5em; text-align: right; border: none;\">\n",
       "                0\n",
       "                \n",
       "                    &plusmn; 0.0000\n",
       "                \n",
       "            </td>\n",
       "            <td style=\"padding: 0 0.5em 0 0.5em; text-align: left; border: none;\">\n",
       "                lea_nbpts_num\n",
       "            </td>\n",
       "        </tr>\n",
       "    \n",
       "        <tr style=\"background-color: hsl(0, 100.00%, 100.00%); border: none;\">\n",
       "            <td style=\"padding: 0 1em 0 0.5em; text-align: right; border: none;\">\n",
       "                0\n",
       "                \n",
       "                    &plusmn; 0.0000\n",
       "                \n",
       "            </td>\n",
       "            <td style=\"padding: 0 0.5em 0 0.5em; text-align: left; border: none;\">\n",
       "                lea_advance_dgr_pct\n",
       "            </td>\n",
       "        </tr>\n",
       "    \n",
       "        <tr style=\"background-color: hsl(0, 100.00%, 100.00%); border: none;\">\n",
       "            <td style=\"padding: 0 1em 0 0.5em; text-align: right; border: none;\">\n",
       "                0\n",
       "                \n",
       "                    &plusmn; 0.0000\n",
       "                \n",
       "            </td>\n",
       "            <td style=\"padding: 0 0.5em 0 0.5em; text-align: left; border: none;\">\n",
       "                lea_1yr_tchr_trnovr_pct\n",
       "            </td>\n",
       "        </tr>\n",
       "    \n",
       "        <tr style=\"background-color: hsl(0, 100.00%, 100.00%); border: none;\">\n",
       "            <td style=\"padding: 0 1em 0 0.5em; text-align: right; border: none;\">\n",
       "                0\n",
       "                \n",
       "                    &plusmn; 0.0000\n",
       "                \n",
       "            </td>\n",
       "            <td style=\"padding: 0 0.5em 0 0.5em; text-align: left; border: none;\">\n",
       "                lea_emer_prov_teach_pct\n",
       "            </td>\n",
       "        </tr>\n",
       "    \n",
       "        <tr style=\"background-color: hsl(0, 100.00%, 100.00%); border: none;\">\n",
       "            <td style=\"padding: 0 1em 0 0.5em; text-align: right; border: none;\">\n",
       "                0\n",
       "                \n",
       "                    &plusmn; 0.0000\n",
       "                \n",
       "            </td>\n",
       "            <td style=\"padding: 0 0.5em 0 0.5em; text-align: left; border: none;\">\n",
       "                st_flicensed_teach_pct\n",
       "            </td>\n",
       "        </tr>\n",
       "    \n",
       "        <tr style=\"background-color: hsl(0, 100.00%, 100.00%); border: none;\">\n",
       "            <td style=\"padding: 0 1em 0 0.5em; text-align: right; border: none;\">\n",
       "                0\n",
       "                \n",
       "                    &plusmn; 0.0000\n",
       "                \n",
       "            </td>\n",
       "            <td style=\"padding: 0 0.5em 0 0.5em; text-align: left; border: none;\">\n",
       "                st_tchyrs_0thru3_pct\n",
       "            </td>\n",
       "        </tr>\n",
       "    \n",
       "        <tr style=\"background-color: hsl(0, 100.00%, 100.00%); border: none;\">\n",
       "            <td style=\"padding: 0 1em 0 0.5em; text-align: right; border: none;\">\n",
       "                0\n",
       "                \n",
       "                    &plusmn; 0.0000\n",
       "                \n",
       "            </td>\n",
       "            <td style=\"padding: 0 0.5em 0 0.5em; text-align: left; border: none;\">\n",
       "                st_1yr_tchr_trnovr_pct\n",
       "            </td>\n",
       "        </tr>\n",
       "    \n",
       "        <tr style=\"background-color: hsl(0, 100.00%, 100.00%); border: none;\">\n",
       "            <td style=\"padding: 0 1em 0 0.5em; text-align: right; border: none;\">\n",
       "                0\n",
       "                \n",
       "                    &plusmn; 0.0000\n",
       "                \n",
       "            </td>\n",
       "            <td style=\"padding: 0 0.5em 0 0.5em; text-align: left; border: none;\">\n",
       "                lea_tchyrs_4thru10_pct\n",
       "            </td>\n",
       "        </tr>\n",
       "    \n",
       "        <tr style=\"background-color: hsl(0, 100.00%, 100.00%); border: none;\">\n",
       "            <td style=\"padding: 0 1em 0 0.5em; text-align: right; border: none;\">\n",
       "                0\n",
       "                \n",
       "                    &plusmn; 0.0000\n",
       "                \n",
       "            </td>\n",
       "            <td style=\"padding: 0 0.5em 0 0.5em; text-align: left; border: none;\">\n",
       "                Category_Cd_T\n",
       "            </td>\n",
       "        </tr>\n",
       "    \n",
       "    \n",
       "        \n",
       "            <tr style=\"background-color: hsl(0, 100.00%, 100.00%); border: none;\">\n",
       "                <td colspan=\"2\" style=\"padding: 0 0.5em 0 0.5em; text-align: center; border: none; white-space: nowrap;\">\n",
       "                    <i>&hellip; 95 more &hellip;</i>\n",
       "                </td>\n",
       "            </tr>\n",
       "        \n",
       "    \n",
       "    </tbody>\n",
       "</table>\n",
       "    \n",
       "\n",
       "    \n",
       "\n",
       "\n",
       "    \n",
       "\n",
       "    \n",
       "\n",
       "    \n",
       "\n",
       "    \n",
       "\n",
       "    \n",
       "\n",
       "    \n",
       "\n",
       "\n",
       "\n"
      ],
      "text/plain": [
       "<IPython.core.display.HTML object>"
      ]
     },
     "execution_count": 86,
     "metadata": {},
     "output_type": "execute_result"
    }
   ],
   "source": [
    "#For feature importance\n",
    "import eli5\n",
    "from eli5.sklearn import PermutationImportance\n",
    "perm = PermutationImportance(clfa, random_state=1).fit(schoolData,schoolData_SPG)\n",
    "eli5.show_weights(perm, feature_names = schoolData.columns.tolist(), top=50)"
   ]
  },
  {
   "cell_type": "markdown",
   "metadata": {},
   "source": [
    "To meet the data size requirement, we need to have as least 450,000/9371 = 48 variables to use for the data. \n",
    "\n",
    "To satisfy this we pick the first 50 variables to use. Notice that in the below variable list there are both continuous variables and the categorical variables after one-hot encoding. "
   ]
  },
  {
   "cell_type": "code",
   "execution_count": 9,
   "metadata": {},
   "outputs": [
    {
     "data": {
      "text/plain": [
       "(9731, 50)"
      ]
     },
     "execution_count": 9,
     "metadata": {},
     "output_type": "execute_result"
    }
   ],
   "source": [
    "#Pick and Choose variables\n",
    "schoolData_pick = schoolData[[\n",
    "'TotalTargets_pTarget_PctMet',\n",
    "'MinorityMalePct',\n",
    "'MinorityFemalePct',\n",
    "'short_susp_per_c_num',\n",
    "'avg_daily_attend_pct',\n",
    "'title1_type_cd_Y',\n",
    "'BlackMalePct',\n",
    "'AsianFemalePct',\n",
    "'BlackFemalePct',\n",
    "'HispanicMalePct',\n",
    "'MathGr3-8_pTarget_PctMet',\n",
    "'AsianMalePct',\n",
    "'SciGr5&8_pTarget_PctMet',\n",
    "'nbpts_num',\n",
    "'lea_sat_avg_score_num',\n",
    "'stud_internet_comp_num',\n",
    "'st_avg_student_num',\n",
    "'HispanicFemalePct',\n",
    "'Accomplished_TCHR_Standard 4_Pct',\n",
    "'Accomplished_TCHR_Standard 3_Pct',\n",
    "'Developing_TCHR_Standard 2_Pct',\n",
    "'Accomplished_TCHR_Standard 5_Pct',\n",
    "'10+ Years_LEA_Exp_Pct_Prin',\n",
    "'4-10 Years_LEA_Exp_Pct_Prin',\n",
    "'Accomplished_TCHR_Standard 1_Pct',\n",
    "'Accomplished_TCHR_Standard 2_Pct',\n",
    "'Developing_TCHR_Standard 1_Pct',\n",
    "'pct_GCE_ALL',\n",
    "'0-3 Years_LEA_Exp_Pct_Prin',\n",
    "'st_emer_prov_teach_pct',\n",
    "'lea_sat_participation_pct',\n",
    "'lea_ap_participation_pct',\n",
    "'lea_federal_perpupil_num',\n",
    "'lea_local_perpupil_num',\n",
    "'advance_dgr_pct',\n",
    "'Developing_TCHR_Standard 5_Pct',\n",
    "'lateral_teach_pct',\n",
    "'lea_flicensed_teach_pct',\n",
    "'Developing_TCHR_Standard 3_Pct',\n",
    "'lea_tchyrs_0thru3_pct',\n",
    "'lea_tchyrs_11plus_pct',\n",
    "'lea_nbpts_num',\n",
    "'lea_advance_dgr_pct',\n",
    "'lea_1yr_tchr_trnovr_pct',\n",
    "'lea_emer_prov_teach_pct',\n",
    "'st_flicensed_teach_pct',\n",
    "'st_tchyrs_0thru3_pct',\n",
    "'st_1yr_tchr_trnovr_pct',\n",
    "'lea_tchyrs_4thru10_pct',\n",
    "'Category_Cd_T',\n",
    "]]\n",
    "\n",
    "# Dataset Dimension with picked variables\n",
    "schoolData_pick.shape"
   ]
  },
  {
   "cell_type": "markdown",
   "metadata": {},
   "source": [
    "### Training/Testing Splitting"
   ]
  },
  {
   "cell_type": "markdown",
   "metadata": {},
   "source": [
    "To prepare our official SVM and Logistic regression modeling procedure, we need to split the dataset into training and testing set. We use the ShuffleSplit criteria below. We use a proportion of 80/20 for the training/testing dataset."
   ]
  },
  {
   "cell_type": "code",
   "execution_count": 13,
   "metadata": {},
   "outputs": [
    {
     "name": "stdout",
     "output_type": "stream",
     "text": [
      "ShuffleSplit(n_splits=3, random_state=None, test_size=0.2, train_size=None)\n"
     ]
    }
   ],
   "source": [
    "# Using ShuffleSplit for Training/Testing Split \n",
    "from sklearn.model_selection import ShuffleSplit\n",
    "\n",
    "num_cv_iterations = 3\n",
    "num_instances = len(schoolData_SPG)\n",
    "cv_object = ShuffleSplit(n_splits=num_cv_iterations,\n",
    "                         test_size  = 0.2)\n",
    "                         \n",
    "print(cv_object)"
   ]
  },
  {
   "cell_type": "code",
   "execution_count": 90,
   "metadata": {},
   "outputs": [],
   "source": [
    "# Split X and Y into Training and Testing dataset\n",
    "for train_indices, test_indices in cv_object.split(schoolData_pick,schoolData_SPG): \n",
    "\n",
    "    Xsel_train = schoolData_pick.values[train_indices]\n",
    "    ysel_train = schoolData_SPG.values[train_indices]\n",
    "    Xall_train = schoolData.values[train_indices]\n",
    "    \n",
    "    Xsel_test = schoolData_pick.values[test_indices]\n",
    "    ysel_test = schoolData_SPG.values[test_indices]\n",
    "    Xall_test = schoolData.values[test_indices]"
   ]
  },
  {
   "cell_type": "markdown",
   "metadata": {},
   "source": [
    " With our feature selection (51 variables), check and make sure it contains most information. The way we conduct the validation is by running another random forest and check the accuracy. This accuracy of the current model (acc=0.733) is close to the model utilizing all the variables (acc=0.736). So we varify that our selection is reasonable."
   ]
  },
  {
   "cell_type": "code",
   "execution_count": 91,
   "metadata": {},
   "outputs": [
    {
     "data": {
      "text/plain": [
       "RandomForestClassifier(bootstrap=True, ccp_alpha=0.0, class_weight=None,\n",
       "                       criterion='gini', max_depth=None, max_features='auto',\n",
       "                       max_leaf_nodes=None, max_samples=None,\n",
       "                       min_impurity_decrease=0.0, min_impurity_split=None,\n",
       "                       min_samples_leaf=1, min_samples_split=2,\n",
       "                       min_weight_fraction_leaf=0.0, n_estimators=100,\n",
       "                       n_jobs=None, oob_score=False, random_state=None,\n",
       "                       verbose=0, warm_start=False)"
      ]
     },
     "execution_count": 91,
     "metadata": {},
     "output_type": "execute_result"
    },
    {
     "data": {
      "text/plain": [
       "RandomForestClassifier(bootstrap=True, ccp_alpha=0.0, class_weight=None,\n",
       "                       criterion='gini', max_depth=None, max_features='auto',\n",
       "                       max_leaf_nodes=None, max_samples=None,\n",
       "                       min_impurity_decrease=0.0, min_impurity_split=None,\n",
       "                       min_samples_leaf=1, min_samples_split=2,\n",
       "                       min_weight_fraction_leaf=0.0, n_estimators=100,\n",
       "                       n_jobs=None, oob_score=False, random_state=None,\n",
       "                       verbose=0, warm_start=False)"
      ]
     },
     "execution_count": 91,
     "metadata": {},
     "output_type": "execute_result"
    },
    {
     "name": "stdout",
     "output_type": "stream",
     "text": [
      "Model with Selective Variables Accuracy: 0.7170005136106831\n",
      "Model with All Variables Accuracy: 0.7149460708782742\n"
     ]
    }
   ],
   "source": [
    "# Random Forest fitting with selective variables\n",
    "clf_rf=RandomForestClassifier(n_estimators=100)\n",
    "clf_rf.fit(Xsel_train,ysel_train)\n",
    "y_pred_rf=clf_rf.predict(Xsel_test)\n",
    "\n",
    "# Random Forest fitting with all variables\n",
    "clf_rf_all=RandomForestClassifier(n_estimators=100)\n",
    "clf_rf_all.fit(Xall_train,ysel_train)\n",
    "y_pred_rf_all=clf_rf_all.predict(Xall_test)\n",
    "\n",
    "print(\"Model with Selective Variables Accuracy:\",metrics.accuracy_score(ysel_test, y_pred_rf))\n",
    "print(\"Model with All Variables Accuracy:\",metrics.accuracy_score(ysel_test, y_pred_rf_all))"
   ]
  },
  {
   "cell_type": "markdown",
   "metadata": {},
   "source": [
    "### Solving Data Imbalance"
   ]
  },
  {
   "cell_type": "markdown",
   "metadata": {},
   "source": [
    "We find that our response variable (SPG_Grade) has a data balancing problem: The grade C is dominate the dataset with the largest propertion, followed by B or D. A and F are just a small propertion of the whole dataset. \n",
    "\n",
    "First we investigate the current class of the SPG Grade and found that the class \"A\" and \"A+NG\" are identical so we merge the two.Notice that magnet schools in 2016-2017 are not required to report SPG score. Those schools with incomplete information are marked \"I\". the class \"I\" are removed from the dataset."
   ]
  },
  {
   "cell_type": "code",
   "execution_count": 10,
   "metadata": {
    "scrolled": true
   },
   "outputs": [
    {
     "data": {
      "text/html": [
       "<div>\n",
       "<style scoped>\n",
       "    .dataframe tbody tr th:only-of-type {\n",
       "        vertical-align: middle;\n",
       "    }\n",
       "\n",
       "    .dataframe tbody tr th {\n",
       "        vertical-align: top;\n",
       "    }\n",
       "\n",
       "    .dataframe thead th {\n",
       "        text-align: right;\n",
       "    }\n",
       "</style>\n",
       "<table border=\"1\" class=\"dataframe\">\n",
       "  <thead>\n",
       "    <tr style=\"text-align: right;\">\n",
       "      <th></th>\n",
       "      <th>0</th>\n",
       "    </tr>\n",
       "  </thead>\n",
       "  <tbody>\n",
       "    <tr>\n",
       "      <th>count</th>\n",
       "      <td>9216</td>\n",
       "    </tr>\n",
       "    <tr>\n",
       "      <th>unique</th>\n",
       "      <td>5</td>\n",
       "    </tr>\n",
       "    <tr>\n",
       "      <th>top</th>\n",
       "      <td>C</td>\n",
       "    </tr>\n",
       "    <tr>\n",
       "      <th>freq</th>\n",
       "      <td>3973</td>\n",
       "    </tr>\n",
       "  </tbody>\n",
       "</table>\n",
       "</div>"
      ],
      "text/plain": [
       "           0\n",
       "count   9216\n",
       "unique     5\n",
       "top        C\n",
       "freq    3973"
      ]
     },
     "execution_count": 10,
     "metadata": {},
     "output_type": "execute_result"
    }
   ],
   "source": [
    "schoolData_SPG_org = schoolData_SPG\n",
    "schoolData_SPG = schoolData_SPG_org\n",
    "\n",
    "import numpy as np\n",
    "schoolData_SPG= np.select(\n",
    "    [\n",
    "        schoolData_SPG == 'A', \n",
    "        schoolData_SPG == 'B',\n",
    "        schoolData_SPG == 'C',\n",
    "        schoolData_SPG == 'D',\n",
    "        schoolData_SPG == 'F',\n",
    "        schoolData_SPG == 'A+NG',\n",
    "        schoolData_SPG == 'I'\n",
    "    ], \n",
    "    [\n",
    "        'A', \n",
    "        'B',\n",
    "        'C',\n",
    "        'D',\n",
    "        'F',\n",
    "        'A',\n",
    "        'NA'\n",
    "    ],\n",
    "    default='NA'\n",
    ")\n",
    "\n",
    "#Filter out the sample with \"NA\" on SPG Grade\n",
    "schoolData_SPG_new = schoolData_SPG[schoolData_SPG!='NA']\n",
    "schoolData_pick_new = schoolData_pick[schoolData_SPG!='NA']\n",
    "\n",
    "# Check if the levels of SPG Grade has been altered\n",
    "s = pd.DataFrame(schoolData_SPG_new)\n",
    "s.describe()"
   ]
  },
  {
   "cell_type": "markdown",
   "metadata": {},
   "source": [
    "After merging the class, we can see below a distribution of current SPG Grade. The grade C is dominate the dataset with the largest propertion, followed by B or D. A and F are just a small propertion of the whole dataset. We need to re-balance the data."
   ]
  },
  {
   "cell_type": "code",
   "execution_count": 93,
   "metadata": {},
   "outputs": [
    {
     "data": {
      "text/plain": [
       "<seaborn.axisgrid.FacetGrid at 0x1b4d5d180c8>"
      ]
     },
     "execution_count": 93,
     "metadata": {},
     "output_type": "execute_result"
    },
    {
     "data": {
      "image/png": "[encoded data removed]",
      "text/plain": [
       "<Figure size 720x360 with 1 Axes>"
      ]
     },
     "metadata": {},
     "output_type": "display_data"
    }
   ],
   "source": [
    "#Factor Plot for SPG Grade\n",
    "s.columns=['SPG Grade']\n",
    "                        \n",
    "sns.factorplot(\"SPG Grade\", data=s, aspect=2,\n",
    "                       kind=\"count\", order=['A','B','C','D','F'])\n",
    "\n",
    "plt.show()"
   ]
  },
  {
   "cell_type": "markdown",
   "metadata": {},
   "source": [
    "To solve this problem, we are using the crieteria below.\n",
    "\n",
    "#### Test 3 types of sampler: UnderSample all cases, UnderSample majority class, SMOTE Oversample\n",
    "\n",
    "Below we conduct 3 seperate procedures to produce 3 seperate sets of X and y from the original dataset. Those sets will be evaluate against each other and we will decide the best data balancing strategy to use."
   ]
  },
  {
   "cell_type": "code",
   "execution_count": 94,
   "metadata": {},
   "outputs": [
    {
     "data": {
      "text/plain": [
       "(9216, 50)"
      ]
     },
     "execution_count": 94,
     "metadata": {},
     "output_type": "execute_result"
    },
    {
     "data": {
      "text/plain": [
       "(9216,)"
      ]
     },
     "execution_count": 94,
     "metadata": {},
     "output_type": "execute_result"
    }
   ],
   "source": [
    "# Check the dimension for X and y\n",
    "schoolData_pick_new.shape\n",
    "schoolData_SPG_new.shape"
   ]
  },
  {
   "cell_type": "code",
   "execution_count": 95,
   "metadata": {},
   "outputs": [],
   "source": [
    "from imblearn.under_sampling import RandomUnderSampler\n",
    "\n",
    "# Undersample the dataset using the RandomUnderSampler \n",
    "# Set all class sizes equal to the smallest class.\n",
    "us = RandomUnderSampler()\n",
    "X_us, y_us = us.fit_sample(schoolData_pick_new, pd.DataFrame(schoolData_SPG_new))\n",
    "\n",
    "# Plot the new class distributions for y using the same funnction as above. \n",
    "#plot_class_dist(y_us)"
   ]
  },
  {
   "cell_type": "code",
   "execution_count": 96,
   "metadata": {},
   "outputs": [],
   "source": [
    "from imblearn.under_sampling import RandomUnderSampler\n",
    "\n",
    "# Undersample the dataset using the RandomUnderSampler \n",
    "# Undersample the majority class only\n",
    "us = RandomUnderSampler(sampling_strategy='majority')\n",
    "X_us_maj, y_us_maj = us.fit_sample(schoolData_pick_new, pd.DataFrame(schoolData_SPG_new))\n",
    "\n",
    "# Plot the new class distributions for y using the same funnction as above. \n",
    "#plot_class_dist(y_us_maj)"
   ]
  },
  {
   "cell_type": "code",
   "execution_count": 11,
   "metadata": {},
   "outputs": [],
   "source": [
    "from imblearn.over_sampling import SMOTE\n",
    "\n",
    "# Oversample using SMOTE\n",
    "# Make all classes the same size as the majority class.\n",
    "# WARNING - This can exponentially increase the size of the input dataset.\n",
    "sm = SMOTE(sampling_strategy='not majority')\n",
    "X_sm, y_sm = sm.fit_sample(schoolData_pick_new, pd.DataFrame(schoolData_SPG_new))\n",
    "\n",
    "# Plot the new class distributions for y using the same funnction as above. \n",
    "#plot_class_dist(y_sm)"
   ]
  },
  {
   "cell_type": "markdown",
   "metadata": {},
   "source": [
    "By comparing the results for the 3 different methods dealing with data imbalance, we run random forest with the datasets we generated. Accuracy are measured with the results of the variables. As shown the SMOTE strategy get the highest accuracy. It will be used for the later SVM and Logistic regression fitting."
   ]
  },
  {
   "cell_type": "code",
   "execution_count": 98,
   "metadata": {},
   "outputs": [
    {
     "data": {
      "text/plain": [
       "RandomForestClassifier(bootstrap=True, ccp_alpha=0.0, class_weight=None,\n",
       "                       criterion='gini', max_depth=None, max_features='auto',\n",
       "                       max_leaf_nodes=None, max_samples=None,\n",
       "                       min_impurity_decrease=0.0, min_impurity_split=None,\n",
       "                       min_samples_leaf=1, min_samples_split=2,\n",
       "                       min_weight_fraction_leaf=0.0, n_estimators=100,\n",
       "                       n_jobs=None, oob_score=False, random_state=None,\n",
       "                       verbose=0, warm_start=False)"
      ]
     },
     "execution_count": 98,
     "metadata": {},
     "output_type": "execute_result"
    },
    {
     "name": "stdout",
     "output_type": "stream",
     "text": [
      "Accuracy: 0.6790697674418604\n"
     ]
    }
   ],
   "source": [
    "#Training using Undersample Method1 \n",
    "for train_indices, test_indices in cv_object.split(X_us,y_us): \n",
    "\n",
    "    X_train = X_us.values[train_indices]\n",
    "    y_train = y_us.values[train_indices]\n",
    "    \n",
    "    X_test = X_us.values[test_indices]\n",
    "    y_test = y_us.values[test_indices]\n",
    "    \n",
    "\n",
    "clfus=RandomForestClassifier(n_estimators=100)\n",
    "clfus.fit(X_train,y_train)\n",
    "y_pred_us=clfus.predict(X_test)\n",
    "\n",
    "print(\"Accuracy:\",metrics.accuracy_score(y_test, y_pred_us))"
   ]
  },
  {
   "cell_type": "code",
   "execution_count": 99,
   "metadata": {},
   "outputs": [
    {
     "data": {
      "text/plain": [
       "RandomForestClassifier(bootstrap=True, ccp_alpha=0.0, class_weight=None,\n",
       "                       criterion='gini', max_depth=None, max_features='auto',\n",
       "                       max_leaf_nodes=None, max_samples=None,\n",
       "                       min_impurity_decrease=0.0, min_impurity_split=None,\n",
       "                       min_samples_leaf=1, min_samples_split=2,\n",
       "                       min_weight_fraction_leaf=0.0, n_estimators=100,\n",
       "                       n_jobs=None, oob_score=False, random_state=None,\n",
       "                       verbose=0, warm_start=False)"
      ]
     },
     "execution_count": 99,
     "metadata": {},
     "output_type": "execute_result"
    },
    {
     "name": "stdout",
     "output_type": "stream",
     "text": [
      "Accuracy: 0.788546255506608\n"
     ]
    }
   ],
   "source": [
    "#Training using Undersample Method2\n",
    "for train_indices, test_indices in cv_object.split(X_us_maj,y_us_maj): \n",
    "\n",
    "    X_train = X_us_maj.values[train_indices]\n",
    "    y_train = y_us_maj.values[train_indices]\n",
    "    \n",
    "    X_test = X_us_maj.values[test_indices]\n",
    "    y_test = y_us_maj.values[test_indices]\n",
    "    \n",
    "clfusm=RandomForestClassifier(n_estimators=100)\n",
    "clfusm.fit(X_train,y_train)\n",
    "y_pred_usm=clfusm.predict(X_test)\n",
    "    \n",
    "print(\"Accuracy:\",metrics.accuracy_score(y_test, y_pred_usm))"
   ]
  },
  {
   "cell_type": "code",
   "execution_count": 15,
   "metadata": {},
   "outputs": [
    {
     "data": {
      "text/plain": [
       "RandomForestClassifier(bootstrap=True, ccp_alpha=0.0, class_weight=None,\n",
       "                       criterion='gini', max_depth=None, max_features='auto',\n",
       "                       max_leaf_nodes=None, max_samples=None,\n",
       "                       min_impurity_decrease=0.0, min_impurity_split=None,\n",
       "                       min_samples_leaf=1, min_samples_split=2,\n",
       "                       min_weight_fraction_leaf=0.0, n_estimators=100,\n",
       "                       n_jobs=None, oob_score=False, random_state=None,\n",
       "                       verbose=0, warm_start=False)"
      ]
     },
     "execution_count": 15,
     "metadata": {},
     "output_type": "execute_result"
    },
    {
     "ename": "NameError",
     "evalue": "name 'metrics' is not defined",
     "output_type": "error",
     "traceback": [
      "\u001b[1;31m---------------------------------------------------------------------------\u001b[0m",
      "\u001b[1;31mNameError\u001b[0m                                 Traceback (most recent call last)",
      "\u001b[1;32m<ipython-input-15-a7e5b52a8d3e>\u001b[0m in \u001b[0;36m<module>\u001b[1;34m\u001b[0m\n\u001b[0;32m     13\u001b[0m \u001b[0my_pred_sm\u001b[0m\u001b[1;33m=\u001b[0m\u001b[0mclfsm\u001b[0m\u001b[1;33m.\u001b[0m\u001b[0mpredict\u001b[0m\u001b[1;33m(\u001b[0m\u001b[0mX_test\u001b[0m\u001b[1;33m)\u001b[0m\u001b[1;33m\u001b[0m\u001b[1;33m\u001b[0m\u001b[0m\n\u001b[0;32m     14\u001b[0m \u001b[1;33m\u001b[0m\u001b[0m\n\u001b[1;32m---> 15\u001b[1;33m \u001b[0mprint\u001b[0m\u001b[1;33m(\u001b[0m\u001b[1;34m\"Accuracy:\"\u001b[0m\u001b[1;33m,\u001b[0m\u001b[0mmetrics\u001b[0m\u001b[1;33m.\u001b[0m\u001b[0maccuracy_score\u001b[0m\u001b[1;33m(\u001b[0m\u001b[0my_test\u001b[0m\u001b[1;33m,\u001b[0m \u001b[0my_pred_sm\u001b[0m\u001b[1;33m)\u001b[0m\u001b[1;33m)\u001b[0m\u001b[1;33m\u001b[0m\u001b[1;33m\u001b[0m\u001b[0m\n\u001b[0m",
      "\u001b[1;31mNameError\u001b[0m: name 'metrics' is not defined"
     ]
    }
   ],
   "source": [
    "\n",
    "#Training using Oversample Method\n",
    "for train_indices, test_indices in cv_object.split(X_sm,y_sm): \n",
    "\n",
    "    X_train = X_sm.values[train_indices]\n",
    "    y_train = y_sm.values[train_indices]\n",
    "    \n",
    "    X_test = X_sm.values[test_indices]\n",
    "    y_test = y_sm.values[test_indices]\n",
    "\n",
    "clfsm=RandomForestClassifier(n_estimators=100)\n",
    "clfsm.fit(X_train,y_train)\n",
    "y_pred_sm=clfsm.predict(X_test)\n",
    "\n",
    "print(\"Accuracy:\",metrics.accuracy_score(y_test, y_pred_sm))"
   ]
  },
  {
   "cell_type": "code",
   "execution_count": 25,
   "metadata": {},
   "outputs": [
    {
     "name": "stdout",
     "output_type": "stream",
     "text": [
      "Fitting 5 folds for each of 12 candidates, totalling 60 fits\n",
      "[CV] C=0.1, penalty=l1, solver=liblinear .............................\n"
     ]
    },
    {
     "name": "stderr",
     "output_type": "stream",
     "text": [
      "[Parallel(n_jobs=1)]: Using backend SequentialBackend with 1 concurrent workers.\n"
     ]
    },
    {
     "name": "stdout",
     "output_type": "stream",
     "text": [
      "[CV] .............. C=0.1, penalty=l1, solver=liblinear, total=   5.5s\n",
      "[CV] C=0.1, penalty=l1, solver=liblinear .............................\n"
     ]
    },
    {
     "name": "stderr",
     "output_type": "stream",
     "text": [
      "[Parallel(n_jobs=1)]: Done   1 out of   1 | elapsed:    5.4s remaining:    0.0s\n"
     ]
    },
    {
     "name": "stdout",
     "output_type": "stream",
     "text": [
      "[CV] .............. C=0.1, penalty=l1, solver=liblinear, total=   4.7s\n",
      "[CV] C=0.1, penalty=l1, solver=liblinear .............................\n",
      "[CV] .............. C=0.1, penalty=l1, solver=liblinear, total=   5.5s\n",
      "[CV] C=0.1, penalty=l1, solver=liblinear .............................\n",
      "[CV] .............. C=0.1, penalty=l1, solver=liblinear, total=   5.5s\n",
      "[CV] C=0.1, penalty=l1, solver=liblinear .............................\n",
      "[CV] .............. C=0.1, penalty=l1, solver=liblinear, total=   5.2s\n",
      "[CV] C=0.1, penalty=l1, solver=lbfgs .................................\n",
      "[CV] .................. C=0.1, penalty=l1, solver=lbfgs, total=   0.0s\n",
      "[CV] C=0.1, penalty=l1, solver=lbfgs .................................\n",
      "[CV] .................. C=0.1, penalty=l1, solver=lbfgs, total=   0.0s\n",
      "[CV] C=0.1, penalty=l1, solver=lbfgs .................................\n",
      "[CV] .................. C=0.1, penalty=l1, solver=lbfgs, total=   0.0s\n",
      "[CV] C=0.1, penalty=l1, solver=lbfgs .................................\n",
      "[CV] .................. C=0.1, penalty=l1, solver=lbfgs, total=   0.0s\n",
      "[CV] C=0.1, penalty=l1, solver=lbfgs .................................\n",
      "[CV] .................. C=0.1, penalty=l1, solver=lbfgs, total=   0.0s\n",
      "[CV] C=0.1, penalty=l2, solver=liblinear .............................\n",
      "[CV] .............. C=0.1, penalty=l2, solver=liblinear, total=   4.1s\n",
      "[CV] C=0.1, penalty=l2, solver=liblinear .............................\n",
      "[CV] .............. C=0.1, penalty=l2, solver=liblinear, total=   5.0s\n",
      "[CV] C=0.1, penalty=l2, solver=liblinear .............................\n",
      "[CV] .............. C=0.1, penalty=l2, solver=liblinear, total=   4.6s\n",
      "[CV] C=0.1, penalty=l2, solver=liblinear .............................\n",
      "[CV] .............. C=0.1, penalty=l2, solver=liblinear, total=   4.7s\n",
      "[CV] C=0.1, penalty=l2, solver=liblinear .............................\n",
      "[CV] .............. C=0.1, penalty=l2, solver=liblinear, total=   5.6s\n",
      "[CV] C=0.1, penalty=l2, solver=lbfgs .................................\n",
      "[CV] .................. C=0.1, penalty=l2, solver=lbfgs, total=   1.0s\n",
      "[CV] C=0.1, penalty=l2, solver=lbfgs .................................\n",
      "[CV] .................. C=0.1, penalty=l2, solver=lbfgs, total=   0.8s\n",
      "[CV] C=0.1, penalty=l2, solver=lbfgs .................................\n",
      "[CV] .................. C=0.1, penalty=l2, solver=lbfgs, total=   0.9s\n",
      "[CV] C=0.1, penalty=l2, solver=lbfgs .................................\n",
      "[CV] .................. C=0.1, penalty=l2, solver=lbfgs, total=   1.0s\n",
      "[CV] C=0.1, penalty=l2, solver=lbfgs .................................\n",
      "[CV] .................. C=0.1, penalty=l2, solver=lbfgs, total=   1.1s\n",
      "[CV] C=10, penalty=l1, solver=liblinear ..............................\n",
      "[CV] ............... C=10, penalty=l1, solver=liblinear, total=  30.4s\n",
      "[CV] C=10, penalty=l1, solver=liblinear ..............................\n",
      "[CV] ............... C=10, penalty=l1, solver=liblinear, total=  29.9s\n",
      "[CV] C=10, penalty=l1, solver=liblinear ..............................\n",
      "[CV] ............... C=10, penalty=l1, solver=liblinear, total=  23.8s\n",
      "[CV] C=10, penalty=l1, solver=liblinear ..............................\n",
      "[CV] ............... C=10, penalty=l1, solver=liblinear, total=  26.5s\n",
      "[CV] C=10, penalty=l1, solver=liblinear ..............................\n",
      "[CV] ............... C=10, penalty=l1, solver=liblinear, total=  31.4s\n",
      "[CV] C=10, penalty=l1, solver=lbfgs ..................................\n",
      "[CV] ................... C=10, penalty=l1, solver=lbfgs, total=   0.0s\n",
      "[CV] C=10, penalty=l1, solver=lbfgs ..................................\n",
      "[CV] ................... C=10, penalty=l1, solver=lbfgs, total=   0.0s\n",
      "[CV] C=10, penalty=l1, solver=lbfgs ..................................\n",
      "[CV] ................... C=10, penalty=l1, solver=lbfgs, total=   0.0s\n",
      "[CV] C=10, penalty=l1, solver=lbfgs ..................................\n",
      "[CV] ................... C=10, penalty=l1, solver=lbfgs, total=   0.0s\n",
      "[CV] C=10, penalty=l1, solver=lbfgs ..................................\n",
      "[CV] ................... C=10, penalty=l1, solver=lbfgs, total=   0.0s\n",
      "[CV] C=10, penalty=l2, solver=liblinear ..............................\n",
      "[CV] ............... C=10, penalty=l2, solver=liblinear, total=   5.1s\n",
      "[CV] C=10, penalty=l2, solver=liblinear ..............................\n",
      "[CV] ............... C=10, penalty=l2, solver=liblinear, total=   4.6s\n",
      "[CV] C=10, penalty=l2, solver=liblinear ..............................\n",
      "[CV] ............... C=10, penalty=l2, solver=liblinear, total=   5.1s\n",
      "[CV] C=10, penalty=l2, solver=liblinear ..............................\n",
      "[CV] ............... C=10, penalty=l2, solver=liblinear, total=   5.1s\n",
      "[CV] C=10, penalty=l2, solver=liblinear ..............................\n",
      "[CV] ............... C=10, penalty=l2, solver=liblinear, total=   5.5s\n",
      "[CV] C=10, penalty=l2, solver=lbfgs ..................................\n",
      "[CV] ................... C=10, penalty=l2, solver=lbfgs, total=   1.5s\n",
      "[CV] C=10, penalty=l2, solver=lbfgs ..................................\n",
      "[CV] ................... C=10, penalty=l2, solver=lbfgs, total=   0.9s\n",
      "[CV] C=10, penalty=l2, solver=lbfgs ..................................\n",
      "[CV] ................... C=10, penalty=l2, solver=lbfgs, total=   0.7s\n",
      "[CV] C=10, penalty=l2, solver=lbfgs ..................................\n",
      "[CV] ................... C=10, penalty=l2, solver=lbfgs, total=   0.9s\n",
      "[CV] C=10, penalty=l2, solver=lbfgs ..................................\n",
      "[CV] ................... C=10, penalty=l2, solver=lbfgs, total=   1.0s\n",
      "[CV] C=100, penalty=l1, solver=liblinear .............................\n",
      "[CV] .............. C=100, penalty=l1, solver=liblinear, total=  28.6s\n",
      "[CV] C=100, penalty=l1, solver=liblinear .............................\n",
      "[CV] .............. C=100, penalty=l1, solver=liblinear, total=  19.8s\n",
      "[CV] C=100, penalty=l1, solver=liblinear .............................\n",
      "[CV] .............. C=100, penalty=l1, solver=liblinear, total=  21.5s\n",
      "[CV] C=100, penalty=l1, solver=liblinear .............................\n",
      "[CV] .............. C=100, penalty=l1, solver=liblinear, total=  21.1s\n",
      "[CV] C=100, penalty=l1, solver=liblinear .............................\n",
      "[CV] .............. C=100, penalty=l1, solver=liblinear, total=  17.6s\n",
      "[CV] C=100, penalty=l1, solver=lbfgs .................................\n",
      "[CV] .................. C=100, penalty=l1, solver=lbfgs, total=   0.0s\n",
      "[CV] C=100, penalty=l1, solver=lbfgs .................................\n",
      "[CV] .................. C=100, penalty=l1, solver=lbfgs, total=   0.0s\n",
      "[CV] C=100, penalty=l1, solver=lbfgs .................................\n",
      "[CV] .................. C=100, penalty=l1, solver=lbfgs, total=   0.0s\n",
      "[CV] C=100, penalty=l1, solver=lbfgs .................................\n",
      "[CV] .................. C=100, penalty=l1, solver=lbfgs, total=   0.0s\n",
      "[CV] C=100, penalty=l1, solver=lbfgs .................................\n",
      "[CV] .................. C=100, penalty=l1, solver=lbfgs, total=   0.0s\n",
      "[CV] C=100, penalty=l2, solver=liblinear .............................\n",
      "[CV] .............. C=100, penalty=l2, solver=liblinear, total=   5.0s\n",
      "[CV] C=100, penalty=l2, solver=liblinear .............................\n",
      "[CV] .............. C=100, penalty=l2, solver=liblinear, total=   5.7s\n",
      "[CV] C=100, penalty=l2, solver=liblinear .............................\n",
      "[CV] .............. C=100, penalty=l2, solver=liblinear, total=   5.3s\n",
      "[CV] C=100, penalty=l2, solver=liblinear .............................\n",
      "[CV] .............. C=100, penalty=l2, solver=liblinear, total=   5.6s\n",
      "[CV] C=100, penalty=l2, solver=liblinear .............................\n",
      "[CV] .............. C=100, penalty=l2, solver=liblinear, total=   5.5s\n",
      "[CV] C=100, penalty=l2, solver=lbfgs .................................\n",
      "[CV] .................. C=100, penalty=l2, solver=lbfgs, total=   0.7s\n",
      "[CV] C=100, penalty=l2, solver=lbfgs .................................\n",
      "[CV] .................. C=100, penalty=l2, solver=lbfgs, total=   0.8s\n",
      "[CV] C=100, penalty=l2, solver=lbfgs .................................\n",
      "[CV] .................. C=100, penalty=l2, solver=lbfgs, total=   1.2s\n",
      "[CV] C=100, penalty=l2, solver=lbfgs .................................\n",
      "[CV] .................. C=100, penalty=l2, solver=lbfgs, total=   0.7s\n",
      "[CV] C=100, penalty=l2, solver=lbfgs .................................\n",
      "[CV] .................. C=100, penalty=l2, solver=lbfgs, total=   1.0s\n"
     ]
    },
    {
     "name": "stderr",
     "output_type": "stream",
     "text": [
      "[Parallel(n_jobs=1)]: Done  60 out of  60 | elapsed:  6.1min finished\n"
     ]
    },
    {
     "name": "stdout",
     "output_type": "stream",
     "text": [
      "Wall time: 6min 40s\n"
     ]
    },
    {
     "data": {
      "text/plain": [
       "GridSearchCV(cv=None, error_score=nan,\n",
       "             estimator=LogisticRegression(C=1.0, class_weight=None, dual=False,\n",
       "                                          fit_intercept=True,\n",
       "                                          intercept_scaling=1, l1_ratio=None,\n",
       "                                          max_iter=100, multi_class='auto',\n",
       "                                          n_jobs=None, penalty='l2',\n",
       "                                          random_state=None, solver='lbfgs',\n",
       "                                          tol=0.0001, verbose=0,\n",
       "                                          warm_start=False),\n",
       "             iid='deprecated', n_jobs=None,\n",
       "             param_grid={'C': [0.1, 10, 100], 'penalty': ['l1', 'l2'],\n",
       "                         'solver': ['liblinear', 'lbfgs']},\n",
       "             pre_dispatch='2*n_jobs', refit=True, return_train_score=False,\n",
       "             scoring=None, verbose=2)"
      ]
     },
     "execution_count": 25,
     "metadata": {},
     "output_type": "execute_result"
    }
   ],
   "source": [
    "%%time\n",
    "\n",
    "from sklearn.model_selection import GridSearchCV\n",
    "from sklearn.linear_model import LogisticRegression\n",
    "\n",
    "param_grid = {'C': [0.1, 10, 100], 'penalty': ['l1','l2'], 'solver': ['liblinear', 'lbfgs']}\n",
    "\n",
    "grid = GridSearchCV(LogisticRegression(), param_grid, refit=True, verbose=2)\n",
    "grid.fit(X_train, y_train)"
   ]
  },
  {
   "cell_type": "code",
   "execution_count": 26,
   "metadata": {},
   "outputs": [
    {
     "name": "stdout",
     "output_type": "stream",
     "text": [
      "{'C': 100, 'penalty': 'l1', 'solver': 'liblinear'}\n"
     ]
    }
   ],
   "source": [
    "print(grid.best_params_)"
   ]
  },
  {
   "cell_type": "markdown",
   "metadata": {},
   "source": [
    "Below we will go through 4 different sessions: Create Model, Model Evaluation, Feature Importance an Support Vector Interpretation. The below picture can be used as an model index reference of all models we are fitting with two methodologies. \n",
    "\n",
    "<img align=\"center\" src=\"https://github.com/fredpoon/ds_7331_jyrf_eda/blob/master/Model_List.jpg\" alt=\"Data Workflow\" />"
   ]
  },
  {
   "cell_type": "markdown",
   "metadata": {},
   "source": [
    "## Modeling\n",
    "### Logistic Regression\n",
    "\n",
    "First, let's split the original dataset (with No SMOTE balancing) to train/test, and do Logistic Regression."
   ]
  },
  {
   "cell_type": "code",
   "execution_count": 101,
   "metadata": {},
   "outputs": [],
   "source": [
    "# Split X and Y into Training and Testing dataset\n",
    "for train_indices_org, test_indices_org in cv_object.split(schoolData_pick_new,schoolData_SPG_new): \n",
    "\n",
    "    Xsel_train = schoolData_pick_new.values[train_indices_org]\n",
    "    ysel_train = schoolData_SPG_new[train_indices_org]\n",
    "    \n",
    "    Xsel_test = schoolData_pick_new.values[test_indices_org]\n",
    "    ysel_test = schoolData_SPG_new[test_indices_org]"
   ]
  },
  {
   "cell_type": "code",
   "execution_count": 102,
   "metadata": {},
   "outputs": [
    {
     "data": {
      "text/plain": [
       "LogisticRegression(C=1.0, class_weight=None, dual=False, fit_intercept=True,\n",
       "                   intercept_scaling=1, l1_ratio=None, max_iter=100,\n",
       "                   multi_class='auto', n_jobs=None, penalty='l2',\n",
       "                   random_state=None, solver='lbfgs', tol=0.0001, verbose=0,\n",
       "                   warm_start=False)"
      ]
     },
     "execution_count": 102,
     "metadata": {},
     "output_type": "execute_result"
    },
    {
     "data": {
      "text/plain": [
       "0.4761388286334056"
      ]
     },
     "execution_count": 102,
     "metadata": {},
     "output_type": "execute_result"
    }
   ],
   "source": [
    "#  Logistic regression fit with the original dataset\n",
    "from sklearn.metrics import accuracy_score\n",
    "lr_model_org = LogisticRegression()\n",
    "\n",
    "lr_model_org.fit(Xsel_train, ysel_train)\n",
    "pred_org = lr_model_org.predict(Xsel_test)\n",
    "\n",
    "accuracy_score(ysel_test, pred_org)"
   ]
  },
  {
   "cell_type": "code",
   "execution_count": 103,
   "metadata": {},
   "outputs": [
    {
     "data": {
      "text/plain": [
       "LogisticRegression(C=1.0, class_weight=None, dual=False, fit_intercept=True,\n",
       "                   intercept_scaling=1, l1_ratio=None, max_iter=100,\n",
       "                   multi_class='auto', n_jobs=None, penalty='l2',\n",
       "                   random_state=None, solver='lbfgs', tol=0.0001, verbose=0,\n",
       "                   warm_start=False)"
      ]
     },
     "execution_count": 103,
     "metadata": {},
     "output_type": "execute_result"
    },
    {
     "data": {
      "text/plain": [
       "0.46740498363956706"
      ]
     },
     "execution_count": 103,
     "metadata": {},
     "output_type": "execute_result"
    }
   ],
   "source": [
    "#  Logistic regression fit with the SMOTE dataset\n",
    "lr_model = LogisticRegression()\n",
    "\n",
    "lr_model.fit(X_train, y_train)\n",
    "pred = lr_model.predict(X_test)\n",
    "\n",
    "accuracy_score(y_test, pred)"
   ]
  },
  {
   "cell_type": "code",
   "execution_count": 18,
   "metadata": {},
   "outputs": [
    {
     "data": {
      "text/plain": [
       "LogisticRegression(C=100, class_weight=None, dual=False, fit_intercept=True,\n",
       "                   intercept_scaling=1, l1_ratio=None, max_iter=100,\n",
       "                   multi_class='auto', n_jobs=None, penalty='l1',\n",
       "                   random_state=None, solver='liblinear', tol=0.0001, verbose=0,\n",
       "                   warm_start=False)"
      ]
     },
     "execution_count": 18,
     "metadata": {},
     "output_type": "execute_result"
    },
    {
     "data": {
      "text/plain": [
       "0.667757362194815"
      ]
     },
     "execution_count": 18,
     "metadata": {},
     "output_type": "execute_result"
    }
   ],
   "source": [
    "#Lasso\n",
    "#Using the grid search parameters\n",
    "model2 = LogisticRegression(C=100, penalty='l1', solver='liblinear')\n",
    "\n",
    "model2.fit(X_train, y_train)\n",
    "pred = model2.predict(X_test)\n",
    "\n",
    "accuracy_score(y_test, pred)"
   ]
  },
  {
   "cell_type": "code",
   "execution_count": 106,
   "metadata": {},
   "outputs": [
    {
     "name": "stdout",
     "output_type": "stream",
     "text": [
      "[[664  99   3   6   1]\n",
      " [134 455 168  22   4]\n",
      " [ 12 176 411 195  19]\n",
      " [  0  25 131 424 225]\n",
      " [  0   3  10  97 689]]\n"
     ]
    },
    {
     "data": {
      "text/plain": [
       "<matplotlib.image.AxesImage at 0x1b4804b3208>"
      ]
     },
     "execution_count": 106,
     "metadata": {},
     "output_type": "execute_result"
    },
    {
     "data": {
      "image/png": "[encoded data removed]",
      "text/plain": [
       "<Figure size 576x576 with 1 Axes>"
      ]
     },
     "metadata": {},
     "output_type": "display_data"
    }
   ],
   "source": [
    "# Confusion Matrix\n",
    "conf = mt.confusion_matrix(y_test,pred)\n",
    "\n",
    "print(conf )\n",
    "\n",
    "f = plt.figure(figsize=(8,8))\n",
    "plt.imshow(conf)"
   ]
  },
  {
   "cell_type": "markdown",
   "metadata": {},
   "source": [
    "### Support Vector Machine (SVM)\n",
    "First, let's split the original dataset (with No SMOTE balancing) to train/test, and do SVM."
   ]
  },
  {
   "cell_type": "code",
   "execution_count": 107,
   "metadata": {},
   "outputs": [],
   "source": [
    "from sklearn.preprocessing import StandardScaler\n",
    "from sklearn.pipeline import Pipeline\n",
    "\n",
    "scl_obj = StandardScaler()\n",
    "\n",
    "Xorg_train_scaled = scl_obj.fit_transform(Xsel_train) # apply to training\n",
    "Xorg_test_scaled = scl_obj.fit_transform(Xsel_test) "
   ]
  },
  {
   "cell_type": "code",
   "execution_count": 108,
   "metadata": {},
   "outputs": [
    {
     "name": "stdout",
     "output_type": "stream",
     "text": [
      "accuracy: 0.6670281995661606\n",
      "[[ 63  60   8   0   0]\n",
      " [ 12 269 162   4   0]\n",
      " [  0  66 663  65   0]\n",
      " [  0   1 155 225   3]\n",
      " [  0   0   5  73  10]]\n",
      "Wall time: 5.81 s\n"
     ]
    }
   ],
   "source": [
    "%%time\n",
    "# lets investigate SVMs on the data and play with the parameters and kernels\n",
    "from sklearn.svm import SVC\n",
    "from sklearn import metrics as mt\n",
    "\n",
    "# train the model just as before\n",
    "svm_clf = SVC(C=0.5, kernel='rbf', degree=3, gamma='auto') # get object\n",
    "svm_clf.fit(Xorg_train_scaled, ysel_train)  # train object\n",
    "\n",
    "y_hat = svm_clf.predict(Xorg_test_scaled) # get test set precitions\n",
    "\n",
    "acc = mt.accuracy_score(ysel_test,y_hat)\n",
    "conf = mt.confusion_matrix(ysel_test,y_hat)\n",
    "print('accuracy:', acc )\n",
    "print(conf)"
   ]
  },
  {
   "cell_type": "code",
   "execution_count": 109,
   "metadata": {},
   "outputs": [
    {
     "data": {
      "text/plain": [
       "<matplotlib.image.AxesImage at 0x1b4829c6548>"
      ]
     },
     "execution_count": 109,
     "metadata": {},
     "output_type": "execute_result"
    },
    {
     "data": {
      "image/png": "[encoded data removed]",
      "text/plain": [
       "<Figure size 576x576 with 1 Axes>"
      ]
     },
     "metadata": {},
     "output_type": "display_data"
    }
   ],
   "source": [
    "f = plt.figure(figsize=(8,8))\n",
    "plt.imshow(conf)"
   ]
  },
  {
   "cell_type": "markdown",
   "metadata": {},
   "source": [
    "The accuracy for the above model is below 70%. However the confusion matrix shows that because the data is imbalance, the accuracy across different class are a lot different from each other. For example, the accuracy rate of C is much higher than other class. \n",
    "\n",
    "To solve data imbalance problem we are using the SMOTE balanced dataset for SVM work as shown below:"
   ]
  },
  {
   "cell_type": "code",
   "execution_count": 25,
   "metadata": {},
   "outputs": [],
   "source": [
    "from sklearn.preprocessing import StandardScaler\n",
    "from sklearn.pipeline import Pipeline\n",
    "\n",
    "scl_obj = StandardScaler()\n",
    "\n",
    "Xs2_train_scaled = scl_obj.fit_transform(X_train) # apply to training\n",
    "Xs2_test_scaled = scl_obj.fit_transform(X_test) "
   ]
  },
  {
   "cell_type": "code",
   "execution_count": 111,
   "metadata": {},
   "outputs": [
    {
     "name": "stdout",
     "output_type": "stream",
     "text": [
      "accuracy: 0.7865592751069721\n",
      "[[718  51   3   1   0]\n",
      " [ 95 571 109   7   1]\n",
      " [  5 163 512 131   2]\n",
      " [  0   6 111 585 103]\n",
      " [  0   0   5  55 739]]\n",
      "Wall time: 22.7 s\n"
     ]
    }
   ],
   "source": [
    "%%time\n",
    "# lets investigate SVMs on the data and play with the parameters and kernels\n",
    "from sklearn.svm import SVC\n",
    "from sklearn import metrics as mt\n",
    "\n",
    "# train the model just as before\n",
    "svm_clf = SVC(C=0.5, kernel='rbf', degree=3, gamma='auto') # get object\n",
    "svm_clf.fit(Xs2_train_scaled, y_train)  # train object\n",
    "\n",
    "y_hat = svm_clf.predict(Xs2_test_scaled) # get test set precitions\n",
    "\n",
    "acc = mt.accuracy_score(y_test,y_hat)\n",
    "conf = mt.confusion_matrix(y_test,y_hat)\n",
    "print('accuracy:', acc )\n",
    "print(conf)"
   ]
  },
  {
   "cell_type": "code",
   "execution_count": 112,
   "metadata": {
    "scrolled": true
   },
   "outputs": [
    {
     "data": {
      "text/plain": [
       "<matplotlib.image.AxesImage at 0x1b482b71ec8>"
      ]
     },
     "execution_count": 112,
     "metadata": {},
     "output_type": "execute_result"
    },
    {
     "data": {
      "image/png": "[encoded data removed]",
      "text/plain": [
       "<Figure size 576x576 with 1 Axes>"
      ]
     },
     "metadata": {},
     "output_type": "display_data"
    }
   ],
   "source": [
    "f = plt.figure(figsize=(8,8))\n",
    "plt.imshow(conf)"
   ]
  },
  {
   "cell_type": "markdown",
   "metadata": {},
   "source": [
    "As shown in the above confusion matrix and plot, we don't see that class C has an uniquely high accuracy compared to other classes anymore. Instead, we see that the accuracies are distributed much even across different classes.\n",
    "\n",
    "The accuracy of the model has also raised significantly from previous model."
   ]
  },
  {
   "cell_type": "code",
   "execution_count": 113,
   "metadata": {},
   "outputs": [
    {
     "name": "stdout",
     "output_type": "stream",
     "text": [
      "(10941, 50)\n",
      "(10941,)\n",
      "[1234 2619 2947 2677 1464]\n"
     ]
    }
   ],
   "source": [
    "# look at the support vectors\n",
    "print(svm_clf.support_vectors_.shape)\n",
    "print(svm_clf.support_.shape)\n",
    "print(svm_clf.n_support_ )"
   ]
  },
  {
   "cell_type": "markdown",
   "metadata": {},
   "source": [
    "In order to further optimize our model, we are conducting a grid search for SVM parameters. By running the grid searching below we choose the best parameter sets for SVM: C=10, kernel='rbf',gamma=0.1\n",
    "\n",
    "Just notice that the below run takes a longer time (~20min)."
   ]
  },
  {
   "cell_type": "code",
   "execution_count": 48,
   "metadata": {},
   "outputs": [
    {
     "name": "stdout",
     "output_type": "stream",
     "text": [
      "Fitting 5 folds for each of 32 candidates, totalling 160 fits\n",
      "[CV] C=0.1, gamma=1, kernel=rbf ......................................\n"
     ]
    },
    {
     "name": "stderr",
     "output_type": "stream",
     "text": [
      "[Parallel(n_jobs=1)]: Using backend SequentialBackend with 1 concurrent workers.\n"
     ]
    },
    {
     "name": "stdout",
     "output_type": "stream",
     "text": [
      "[CV] ....................... C=0.1, gamma=1, kernel=rbf, total=  29.1s\n",
      "[CV] C=0.1, gamma=1, kernel=rbf ......................................\n"
     ]
    },
    {
     "name": "stderr",
     "output_type": "stream",
     "text": [
      "[Parallel(n_jobs=1)]: Done   1 out of   1 | elapsed:   29.2s remaining:    0.0s\n"
     ]
    },
    {
     "name": "stdout",
     "output_type": "stream",
     "text": [
      "[CV] ....................... C=0.1, gamma=1, kernel=rbf, total=  29.3s\n",
      "[CV] C=0.1, gamma=1, kernel=rbf ......................................\n",
      "[CV] ....................... C=0.1, gamma=1, kernel=rbf, total=  27.4s\n",
      "[CV] C=0.1, gamma=1, kernel=rbf ......................................\n",
      "[CV] ....................... C=0.1, gamma=1, kernel=rbf, total=  27.1s\n",
      "[CV] C=0.1, gamma=1, kernel=rbf ......................................\n",
      "[CV] ....................... C=0.1, gamma=1, kernel=rbf, total=  27.5s\n",
      "[CV] C=0.1, gamma=1, kernel=sigmoid ..................................\n",
      "[CV] ................... C=0.1, gamma=1, kernel=sigmoid, total=  12.7s\n",
      "[CV] C=0.1, gamma=1, kernel=sigmoid ..................................\n",
      "[CV] ................... C=0.1, gamma=1, kernel=sigmoid, total=  12.8s\n",
      "[CV] C=0.1, gamma=1, kernel=sigmoid ..................................\n",
      "[CV] ................... C=0.1, gamma=1, kernel=sigmoid, total=  12.9s\n",
      "[CV] C=0.1, gamma=1, kernel=sigmoid ..................................\n",
      "[CV] ................... C=0.1, gamma=1, kernel=sigmoid, total=  12.6s\n",
      "[CV] C=0.1, gamma=1, kernel=sigmoid ..................................\n",
      "[CV] ................... C=0.1, gamma=1, kernel=sigmoid, total=  14.2s\n",
      "[CV] C=0.1, gamma=0.1, kernel=rbf ....................................\n",
      "[CV] ..................... C=0.1, gamma=0.1, kernel=rbf, total=  22.3s\n",
      "[CV] C=0.1, gamma=0.1, kernel=rbf ....................................\n",
      "[CV] ..................... C=0.1, gamma=0.1, kernel=rbf, total=  23.1s\n",
      "[CV] C=0.1, gamma=0.1, kernel=rbf ....................................\n",
      "[CV] ..................... C=0.1, gamma=0.1, kernel=rbf, total=  22.7s\n",
      "[CV] C=0.1, gamma=0.1, kernel=rbf ....................................\n",
      "[CV] ..................... C=0.1, gamma=0.1, kernel=rbf, total=  23.7s\n",
      "[CV] C=0.1, gamma=0.1, kernel=rbf ....................................\n",
      "[CV] ..................... C=0.1, gamma=0.1, kernel=rbf, total=  23.6s\n",
      "[CV] C=0.1, gamma=0.1, kernel=sigmoid ................................\n",
      "[CV] ................. C=0.1, gamma=0.1, kernel=sigmoid, total=  13.0s\n",
      "[CV] C=0.1, gamma=0.1, kernel=sigmoid ................................\n",
      "[CV] ................. C=0.1, gamma=0.1, kernel=sigmoid, total=  13.9s\n",
      "[CV] C=0.1, gamma=0.1, kernel=sigmoid ................................\n",
      "[CV] ................. C=0.1, gamma=0.1, kernel=sigmoid, total=  13.3s\n",
      "[CV] C=0.1, gamma=0.1, kernel=sigmoid ................................\n",
      "[CV] ................. C=0.1, gamma=0.1, kernel=sigmoid, total=  13.0s\n",
      "[CV] C=0.1, gamma=0.1, kernel=sigmoid ................................\n",
      "[CV] ................. C=0.1, gamma=0.1, kernel=sigmoid, total=  13.0s\n",
      "[CV] C=0.1, gamma=0.01, kernel=rbf ...................................\n",
      "[CV] .................... C=0.1, gamma=0.01, kernel=rbf, total=  12.3s\n",
      "[CV] C=0.1, gamma=0.01, kernel=rbf ...................................\n",
      "[CV] .................... C=0.1, gamma=0.01, kernel=rbf, total=  12.6s\n",
      "[CV] C=0.1, gamma=0.01, kernel=rbf ...................................\n",
      "[CV] .................... C=0.1, gamma=0.01, kernel=rbf, total=  12.2s\n",
      "[CV] C=0.1, gamma=0.01, kernel=rbf ...................................\n",
      "[CV] .................... C=0.1, gamma=0.01, kernel=rbf, total=  12.2s\n",
      "[CV] C=0.1, gamma=0.01, kernel=rbf ...................................\n",
      "[CV] .................... C=0.1, gamma=0.01, kernel=rbf, total=  12.2s\n",
      "[CV] C=0.1, gamma=0.01, kernel=sigmoid ...............................\n",
      "[CV] ................ C=0.1, gamma=0.01, kernel=sigmoid, total=  13.4s\n",
      "[CV] C=0.1, gamma=0.01, kernel=sigmoid ...............................\n",
      "[CV] ................ C=0.1, gamma=0.01, kernel=sigmoid, total=  14.8s\n",
      "[CV] C=0.1, gamma=0.01, kernel=sigmoid ...............................\n",
      "[CV] ................ C=0.1, gamma=0.01, kernel=sigmoid, total=  16.8s\n",
      "[CV] C=0.1, gamma=0.01, kernel=sigmoid ...............................\n",
      "[CV] ................ C=0.1, gamma=0.01, kernel=sigmoid, total=  16.4s\n",
      "[CV] C=0.1, gamma=0.01, kernel=sigmoid ...............................\n",
      "[CV] ................ C=0.1, gamma=0.01, kernel=sigmoid, total=  15.7s\n",
      "[CV] C=0.1, gamma=0.001, kernel=rbf ..................................\n",
      "[CV] ................... C=0.1, gamma=0.001, kernel=rbf, total=  23.4s\n",
      "[CV] C=0.1, gamma=0.001, kernel=rbf ..................................\n",
      "[CV] ................... C=0.1, gamma=0.001, kernel=rbf, total=  19.1s\n",
      "[CV] C=0.1, gamma=0.001, kernel=rbf ..................................\n",
      "[CV] ................... C=0.1, gamma=0.001, kernel=rbf, total=  21.8s\n",
      "[CV] C=0.1, gamma=0.001, kernel=rbf ..................................\n",
      "[CV] ................... C=0.1, gamma=0.001, kernel=rbf, total=  21.1s\n",
      "[CV] C=0.1, gamma=0.001, kernel=rbf ..................................\n",
      "[CV] ................... C=0.1, gamma=0.001, kernel=rbf, total=  20.4s\n",
      "[CV] C=0.1, gamma=0.001, kernel=sigmoid ..............................\n",
      "[CV] ............... C=0.1, gamma=0.001, kernel=sigmoid, total=  20.8s\n",
      "[CV] C=0.1, gamma=0.001, kernel=sigmoid ..............................\n",
      "[CV] ............... C=0.1, gamma=0.001, kernel=sigmoid, total=  20.5s\n",
      "[CV] C=0.1, gamma=0.001, kernel=sigmoid ..............................\n",
      "[CV] ............... C=0.1, gamma=0.001, kernel=sigmoid, total=  20.2s\n",
      "[CV] C=0.1, gamma=0.001, kernel=sigmoid ..............................\n",
      "[CV] ............... C=0.1, gamma=0.001, kernel=sigmoid, total=  20.6s\n",
      "[CV] C=0.1, gamma=0.001, kernel=sigmoid ..............................\n",
      "[CV] ............... C=0.1, gamma=0.001, kernel=sigmoid, total=  19.8s\n",
      "[CV] C=1, gamma=1, kernel=rbf ........................................\n",
      "[CV] ......................... C=1, gamma=1, kernel=rbf, total=  33.9s\n",
      "[CV] C=1, gamma=1, kernel=rbf ........................................\n",
      "[CV] ......................... C=1, gamma=1, kernel=rbf, total=  34.0s\n",
      "[CV] C=1, gamma=1, kernel=rbf ........................................\n",
      "[CV] ......................... C=1, gamma=1, kernel=rbf, total=  33.8s\n",
      "[CV] C=1, gamma=1, kernel=rbf ........................................\n",
      "[CV] ......................... C=1, gamma=1, kernel=rbf, total=  29.8s\n",
      "[CV] C=1, gamma=1, kernel=rbf ........................................\n",
      "[CV] ......................... C=1, gamma=1, kernel=rbf, total=  31.1s\n",
      "[CV] C=1, gamma=1, kernel=sigmoid ....................................\n",
      "[CV] ..................... C=1, gamma=1, kernel=sigmoid, total=  13.8s\n",
      "[CV] C=1, gamma=1, kernel=sigmoid ....................................\n",
      "[CV] ..................... C=1, gamma=1, kernel=sigmoid, total=  11.9s\n",
      "[CV] C=1, gamma=1, kernel=sigmoid ....................................\n",
      "[CV] ..................... C=1, gamma=1, kernel=sigmoid, total=  11.9s\n",
      "[CV] C=1, gamma=1, kernel=sigmoid ....................................\n",
      "[CV] ..................... C=1, gamma=1, kernel=sigmoid, total=  12.5s\n",
      "[CV] C=1, gamma=1, kernel=sigmoid ....................................\n",
      "[CV] ..................... C=1, gamma=1, kernel=sigmoid, total=  12.7s\n",
      "[CV] C=1, gamma=0.1, kernel=rbf ......................................\n",
      "[CV] ....................... C=1, gamma=0.1, kernel=rbf, total=  18.2s\n",
      "[CV] C=1, gamma=0.1, kernel=rbf ......................................\n",
      "[CV] ....................... C=1, gamma=0.1, kernel=rbf, total=  19.9s\n",
      "[CV] C=1, gamma=0.1, kernel=rbf ......................................\n",
      "[CV] ....................... C=1, gamma=0.1, kernel=rbf, total=  20.0s\n",
      "[CV] C=1, gamma=0.1, kernel=rbf ......................................\n",
      "[CV] ....................... C=1, gamma=0.1, kernel=rbf, total=  18.6s\n",
      "[CV] C=1, gamma=0.1, kernel=rbf ......................................\n",
      "[CV] ....................... C=1, gamma=0.1, kernel=rbf, total=  18.3s\n",
      "[CV] C=1, gamma=0.1, kernel=sigmoid ..................................\n",
      "[CV] ................... C=1, gamma=0.1, kernel=sigmoid, total=  12.1s\n",
      "[CV] C=1, gamma=0.1, kernel=sigmoid ..................................\n",
      "[CV] ................... C=1, gamma=0.1, kernel=sigmoid, total=  13.6s\n",
      "[CV] C=1, gamma=0.1, kernel=sigmoid ..................................\n",
      "[CV] ................... C=1, gamma=0.1, kernel=sigmoid, total=  12.4s\n",
      "[CV] C=1, gamma=0.1, kernel=sigmoid ..................................\n",
      "[CV] ................... C=1, gamma=0.1, kernel=sigmoid, total=  14.0s\n",
      "[CV] C=1, gamma=0.1, kernel=sigmoid ..................................\n",
      "[CV] ................... C=1, gamma=0.1, kernel=sigmoid, total=  15.3s\n",
      "[CV] C=1, gamma=0.01, kernel=rbf .....................................\n",
      "[CV] ...................... C=1, gamma=0.01, kernel=rbf, total=   9.0s\n",
      "[CV] C=1, gamma=0.01, kernel=rbf .....................................\n",
      "[CV] ...................... C=1, gamma=0.01, kernel=rbf, total=   9.1s\n",
      "[CV] C=1, gamma=0.01, kernel=rbf .....................................\n",
      "[CV] ...................... C=1, gamma=0.01, kernel=rbf, total=   9.1s\n",
      "[CV] C=1, gamma=0.01, kernel=rbf .....................................\n",
      "[CV] ...................... C=1, gamma=0.01, kernel=rbf, total=   9.0s\n",
      "[CV] C=1, gamma=0.01, kernel=rbf .....................................\n",
      "[CV] ...................... C=1, gamma=0.01, kernel=rbf, total=   8.8s\n",
      "[CV] C=1, gamma=0.01, kernel=sigmoid .................................\n",
      "[CV] .................. C=1, gamma=0.01, kernel=sigmoid, total=   8.7s\n",
      "[CV] C=1, gamma=0.01, kernel=sigmoid .................................\n",
      "[CV] .................. C=1, gamma=0.01, kernel=sigmoid, total=   8.2s\n",
      "[CV] C=1, gamma=0.01, kernel=sigmoid .................................\n",
      "[CV] .................. C=1, gamma=0.01, kernel=sigmoid, total=   8.9s\n",
      "[CV] C=1, gamma=0.01, kernel=sigmoid .................................\n",
      "[CV] .................. C=1, gamma=0.01, kernel=sigmoid, total=   8.8s\n",
      "[CV] C=1, gamma=0.01, kernel=sigmoid .................................\n",
      "[CV] .................. C=1, gamma=0.01, kernel=sigmoid, total=   9.2s\n",
      "[CV] C=1, gamma=0.001, kernel=rbf ....................................\n",
      "[CV] ..................... C=1, gamma=0.001, kernel=rbf, total=  12.0s\n",
      "[CV] C=1, gamma=0.001, kernel=rbf ....................................\n",
      "[CV] ..................... C=1, gamma=0.001, kernel=rbf, total=  11.9s\n",
      "[CV] C=1, gamma=0.001, kernel=rbf ....................................\n",
      "[CV] ..................... C=1, gamma=0.001, kernel=rbf, total=  11.9s\n",
      "[CV] C=1, gamma=0.001, kernel=rbf ....................................\n",
      "[CV] ..................... C=1, gamma=0.001, kernel=rbf, total=  12.0s\n",
      "[CV] C=1, gamma=0.001, kernel=rbf ....................................\n",
      "[CV] ..................... C=1, gamma=0.001, kernel=rbf, total=  13.5s\n",
      "[CV] C=1, gamma=0.001, kernel=sigmoid ................................\n",
      "[CV] ................. C=1, gamma=0.001, kernel=sigmoid, total=  12.7s\n",
      "[CV] C=1, gamma=0.001, kernel=sigmoid ................................\n",
      "[CV] ................. C=1, gamma=0.001, kernel=sigmoid, total=  13.0s\n",
      "[CV] C=1, gamma=0.001, kernel=sigmoid ................................\n",
      "[CV] ................. C=1, gamma=0.001, kernel=sigmoid, total=  12.9s\n",
      "[CV] C=1, gamma=0.001, kernel=sigmoid ................................\n",
      "[CV] ................. C=1, gamma=0.001, kernel=sigmoid, total=  13.1s\n",
      "[CV] C=1, gamma=0.001, kernel=sigmoid ................................\n",
      "[CV] ................. C=1, gamma=0.001, kernel=sigmoid, total=  12.8s\n",
      "[CV] C=10, gamma=1, kernel=rbf .......................................\n",
      "[CV] ........................ C=10, gamma=1, kernel=rbf, total=  34.9s\n",
      "[CV] C=10, gamma=1, kernel=rbf .......................................\n",
      "[CV] ........................ C=10, gamma=1, kernel=rbf, total=  35.1s\n",
      "[CV] C=10, gamma=1, kernel=rbf .......................................\n",
      "[CV] ........................ C=10, gamma=1, kernel=rbf, total=  34.9s\n",
      "[CV] C=10, gamma=1, kernel=rbf .......................................\n",
      "[CV] ........................ C=10, gamma=1, kernel=rbf, total=  33.2s\n",
      "[CV] C=10, gamma=1, kernel=rbf .......................................\n",
      "[CV] ........................ C=10, gamma=1, kernel=rbf, total=  30.2s\n",
      "[CV] C=10, gamma=1, kernel=sigmoid ...................................\n",
      "[CV] .................... C=10, gamma=1, kernel=sigmoid, total=  12.4s\n",
      "[CV] C=10, gamma=1, kernel=sigmoid ...................................\n",
      "[CV] .................... C=10, gamma=1, kernel=sigmoid, total=  11.7s\n",
      "[CV] C=10, gamma=1, kernel=sigmoid ...................................\n",
      "[CV] .................... C=10, gamma=1, kernel=sigmoid, total=  11.9s\n",
      "[CV] C=10, gamma=1, kernel=sigmoid ...................................\n",
      "[CV] .................... C=10, gamma=1, kernel=sigmoid, total=  12.0s\n",
      "[CV] C=10, gamma=1, kernel=sigmoid ...................................\n",
      "[CV] .................... C=10, gamma=1, kernel=sigmoid, total=  13.1s\n",
      "[CV] C=10, gamma=0.1, kernel=rbf .....................................\n",
      "[CV] ...................... C=10, gamma=0.1, kernel=rbf, total=  21.7s\n",
      "[CV] C=10, gamma=0.1, kernel=rbf .....................................\n",
      "[CV] ...................... C=10, gamma=0.1, kernel=rbf, total=  20.0s\n",
      "[CV] C=10, gamma=0.1, kernel=rbf .....................................\n",
      "[CV] ...................... C=10, gamma=0.1, kernel=rbf, total=  19.6s\n",
      "[CV] C=10, gamma=0.1, kernel=rbf .....................................\n",
      "[CV] ...................... C=10, gamma=0.1, kernel=rbf, total=  20.1s\n",
      "[CV] C=10, gamma=0.1, kernel=rbf .....................................\n",
      "[CV] ...................... C=10, gamma=0.1, kernel=rbf, total=  19.2s\n",
      "[CV] C=10, gamma=0.1, kernel=sigmoid .................................\n",
      "[CV] .................. C=10, gamma=0.1, kernel=sigmoid, total=  10.8s\n",
      "[CV] C=10, gamma=0.1, kernel=sigmoid .................................\n",
      "[CV] .................. C=10, gamma=0.1, kernel=sigmoid, total=  12.0s\n",
      "[CV] C=10, gamma=0.1, kernel=sigmoid .................................\n",
      "[CV] .................. C=10, gamma=0.1, kernel=sigmoid, total=  12.2s\n",
      "[CV] C=10, gamma=0.1, kernel=sigmoid .................................\n",
      "[CV] .................. C=10, gamma=0.1, kernel=sigmoid, total=  12.0s\n",
      "[CV] C=10, gamma=0.1, kernel=sigmoid .................................\n",
      "[CV] .................. C=10, gamma=0.1, kernel=sigmoid, total=  10.7s\n",
      "[CV] C=10, gamma=0.01, kernel=rbf ....................................\n",
      "[CV] ..................... C=10, gamma=0.01, kernel=rbf, total=   7.0s\n",
      "[CV] C=10, gamma=0.01, kernel=rbf ....................................\n",
      "[CV] ..................... C=10, gamma=0.01, kernel=rbf, total=   7.1s\n",
      "[CV] C=10, gamma=0.01, kernel=rbf ....................................\n",
      "[CV] ..................... C=10, gamma=0.01, kernel=rbf, total=   7.3s\n",
      "[CV] C=10, gamma=0.01, kernel=rbf ....................................\n",
      "[CV] ..................... C=10, gamma=0.01, kernel=rbf, total=   7.2s\n",
      "[CV] C=10, gamma=0.01, kernel=rbf ....................................\n",
      "[CV] ..................... C=10, gamma=0.01, kernel=rbf, total=   7.1s\n",
      "[CV] C=10, gamma=0.01, kernel=sigmoid ................................\n",
      "[CV] ................. C=10, gamma=0.01, kernel=sigmoid, total=   5.7s\n",
      "[CV] C=10, gamma=0.01, kernel=sigmoid ................................\n",
      "[CV] ................. C=10, gamma=0.01, kernel=sigmoid, total=   5.6s\n",
      "[CV] C=10, gamma=0.01, kernel=sigmoid ................................\n",
      "[CV] ................. C=10, gamma=0.01, kernel=sigmoid, total=   6.3s\n",
      "[CV] C=10, gamma=0.01, kernel=sigmoid ................................\n",
      "[CV] ................. C=10, gamma=0.01, kernel=sigmoid, total=   5.5s\n",
      "[CV] C=10, gamma=0.01, kernel=sigmoid ................................\n",
      "[CV] ................. C=10, gamma=0.01, kernel=sigmoid, total=   5.9s\n",
      "[CV] C=10, gamma=0.001, kernel=rbf ...................................\n",
      "[CV] .................... C=10, gamma=0.001, kernel=rbf, total=   8.7s\n",
      "[CV] C=10, gamma=0.001, kernel=rbf ...................................\n",
      "[CV] .................... C=10, gamma=0.001, kernel=rbf, total=   8.4s\n",
      "[CV] C=10, gamma=0.001, kernel=rbf ...................................\n",
      "[CV] .................... C=10, gamma=0.001, kernel=rbf, total=   8.6s\n",
      "[CV] C=10, gamma=0.001, kernel=rbf ...................................\n",
      "[CV] .................... C=10, gamma=0.001, kernel=rbf, total=   8.5s\n",
      "[CV] C=10, gamma=0.001, kernel=rbf ...................................\n",
      "[CV] .................... C=10, gamma=0.001, kernel=rbf, total=   8.3s\n",
      "[CV] C=10, gamma=0.001, kernel=sigmoid ...............................\n",
      "[CV] ................ C=10, gamma=0.001, kernel=sigmoid, total=   8.1s\n",
      "[CV] C=10, gamma=0.001, kernel=sigmoid ...............................\n",
      "[CV] ................ C=10, gamma=0.001, kernel=sigmoid, total=   8.0s\n",
      "[CV] C=10, gamma=0.001, kernel=sigmoid ...............................\n",
      "[CV] ................ C=10, gamma=0.001, kernel=sigmoid, total=   8.2s\n",
      "[CV] C=10, gamma=0.001, kernel=sigmoid ...............................\n",
      "[CV] ................ C=10, gamma=0.001, kernel=sigmoid, total=   8.3s\n",
      "[CV] C=10, gamma=0.001, kernel=sigmoid ...............................\n",
      "[CV] ................ C=10, gamma=0.001, kernel=sigmoid, total=   8.1s\n",
      "[CV] C=100, gamma=1, kernel=rbf ......................................\n",
      "[CV] ....................... C=100, gamma=1, kernel=rbf, total=  31.0s\n",
      "[CV] C=100, gamma=1, kernel=rbf ......................................\n",
      "[CV] ....................... C=100, gamma=1, kernel=rbf, total=  31.0s\n",
      "[CV] C=100, gamma=1, kernel=rbf ......................................\n",
      "[CV] ....................... C=100, gamma=1, kernel=rbf, total=  30.4s\n",
      "[CV] C=100, gamma=1, kernel=rbf ......................................\n",
      "[CV] ....................... C=100, gamma=1, kernel=rbf, total=  32.5s\n",
      "[CV] C=100, gamma=1, kernel=rbf ......................................\n",
      "[CV] ....................... C=100, gamma=1, kernel=rbf, total=  33.6s\n",
      "[CV] C=100, gamma=1, kernel=sigmoid ..................................\n",
      "[CV] ................... C=100, gamma=1, kernel=sigmoid, total=  14.6s\n",
      "[CV] C=100, gamma=1, kernel=sigmoid ..................................\n",
      "[CV] ................... C=100, gamma=1, kernel=sigmoid, total=  13.1s\n",
      "[CV] C=100, gamma=1, kernel=sigmoid ..................................\n",
      "[CV] ................... C=100, gamma=1, kernel=sigmoid, total=  13.4s\n",
      "[CV] C=100, gamma=1, kernel=sigmoid ..................................\n",
      "[CV] ................... C=100, gamma=1, kernel=sigmoid, total=  13.5s\n",
      "[CV] C=100, gamma=1, kernel=sigmoid ..................................\n",
      "[CV] ................... C=100, gamma=1, kernel=sigmoid, total=  13.3s\n",
      "[CV] C=100, gamma=0.1, kernel=rbf ....................................\n",
      "[CV] ..................... C=100, gamma=0.1, kernel=rbf, total=  22.8s\n",
      "[CV] C=100, gamma=0.1, kernel=rbf ....................................\n",
      "[CV] ..................... C=100, gamma=0.1, kernel=rbf, total=  21.9s\n",
      "[CV] C=100, gamma=0.1, kernel=rbf ....................................\n",
      "[CV] ..................... C=100, gamma=0.1, kernel=rbf, total=  21.5s\n",
      "[CV] C=100, gamma=0.1, kernel=rbf ....................................\n",
      "[CV] ..................... C=100, gamma=0.1, kernel=rbf, total=  20.6s\n",
      "[CV] C=100, gamma=0.1, kernel=rbf ....................................\n",
      "[CV] ..................... C=100, gamma=0.1, kernel=rbf, total=  21.7s\n",
      "[CV] C=100, gamma=0.1, kernel=sigmoid ................................\n",
      "[CV] ................. C=100, gamma=0.1, kernel=sigmoid, total=  11.6s\n",
      "[CV] C=100, gamma=0.1, kernel=sigmoid ................................\n",
      "[CV] ................. C=100, gamma=0.1, kernel=sigmoid, total=  12.3s\n",
      "[CV] C=100, gamma=0.1, kernel=sigmoid ................................\n",
      "[CV] ................. C=100, gamma=0.1, kernel=sigmoid, total=  12.2s\n",
      "[CV] C=100, gamma=0.1, kernel=sigmoid ................................\n",
      "[CV] ................. C=100, gamma=0.1, kernel=sigmoid, total=  12.8s\n",
      "[CV] C=100, gamma=0.1, kernel=sigmoid ................................\n",
      "[CV] ................. C=100, gamma=0.1, kernel=sigmoid, total=  12.7s\n",
      "[CV] C=100, gamma=0.01, kernel=rbf ...................................\n",
      "[CV] .................... C=100, gamma=0.01, kernel=rbf, total=   9.6s\n",
      "[CV] C=100, gamma=0.01, kernel=rbf ...................................\n",
      "[CV] .................... C=100, gamma=0.01, kernel=rbf, total=   9.3s\n",
      "[CV] C=100, gamma=0.01, kernel=rbf ...................................\n",
      "[CV] .................... C=100, gamma=0.01, kernel=rbf, total=   9.1s\n",
      "[CV] C=100, gamma=0.01, kernel=rbf ...................................\n",
      "[CV] .................... C=100, gamma=0.01, kernel=rbf, total=   9.9s\n",
      "[CV] C=100, gamma=0.01, kernel=rbf ...................................\n",
      "[CV] .................... C=100, gamma=0.01, kernel=rbf, total=   9.7s\n",
      "[CV] C=100, gamma=0.01, kernel=sigmoid ...............................\n",
      "[CV] ................ C=100, gamma=0.01, kernel=sigmoid, total=   6.2s\n",
      "[CV] C=100, gamma=0.01, kernel=sigmoid ...............................\n",
      "[CV] ................ C=100, gamma=0.01, kernel=sigmoid, total=   6.1s\n",
      "[CV] C=100, gamma=0.01, kernel=sigmoid ...............................\n",
      "[CV] ................ C=100, gamma=0.01, kernel=sigmoid, total=   6.3s\n",
      "[CV] C=100, gamma=0.01, kernel=sigmoid ...............................\n",
      "[CV] ................ C=100, gamma=0.01, kernel=sigmoid, total=   5.8s\n",
      "[CV] C=100, gamma=0.01, kernel=sigmoid ...............................\n",
      "[CV] ................ C=100, gamma=0.01, kernel=sigmoid, total=   5.7s\n",
      "[CV] C=100, gamma=0.001, kernel=rbf ..................................\n",
      "[CV] ................... C=100, gamma=0.001, kernel=rbf, total=   8.8s\n",
      "[CV] C=100, gamma=0.001, kernel=rbf ..................................\n",
      "[CV] ................... C=100, gamma=0.001, kernel=rbf, total=   8.6s\n",
      "[CV] C=100, gamma=0.001, kernel=rbf ..................................\n",
      "[CV] ................... C=100, gamma=0.001, kernel=rbf, total=   8.9s\n",
      "[CV] C=100, gamma=0.001, kernel=rbf ..................................\n",
      "[CV] ................... C=100, gamma=0.001, kernel=rbf, total=   8.9s\n",
      "[CV] C=100, gamma=0.001, kernel=rbf ..................................\n",
      "[CV] ................... C=100, gamma=0.001, kernel=rbf, total=   8.7s\n",
      "[CV] C=100, gamma=0.001, kernel=sigmoid ..............................\n",
      "[CV] ............... C=100, gamma=0.001, kernel=sigmoid, total=   8.6s\n",
      "[CV] C=100, gamma=0.001, kernel=sigmoid ..............................\n",
      "[CV] ............... C=100, gamma=0.001, kernel=sigmoid, total=   8.7s\n",
      "[CV] C=100, gamma=0.001, kernel=sigmoid ..............................\n",
      "[CV] ............... C=100, gamma=0.001, kernel=sigmoid, total=   8.7s\n",
      "[CV] C=100, gamma=0.001, kernel=sigmoid ..............................\n",
      "[CV] ............... C=100, gamma=0.001, kernel=sigmoid, total=   8.4s\n",
      "[CV] C=100, gamma=0.001, kernel=sigmoid ..............................\n",
      "[CV] ............... C=100, gamma=0.001, kernel=sigmoid, total=   8.8s\n"
     ]
    },
    {
     "name": "stderr",
     "output_type": "stream",
     "text": [
      "[Parallel(n_jobs=1)]: Done 160 out of 160 | elapsed: 40.5min finished\n"
     ]
    },
    {
     "data": {
      "text/plain": [
       "GridSearchCV(estimator=SVC(),\n",
       "             param_grid={'C': [0.1, 1, 10, 100], 'gamma': [1, 0.1, 0.01, 0.001],\n",
       "                         'kernel': ['rbf', 'sigmoid']},\n",
       "             verbose=2)"
      ]
     },
     "execution_count": 48,
     "metadata": {},
     "output_type": "execute_result"
    }
   ],
   "source": [
    "param_grid = {'C': [0.1, 1, 10, 100], 'gamma': [1, 0.1, 0.01, 0.001], \n",
    "             'kernel': ['rbf', 'sigmoid']}\n",
    "\n",
    "grid = GridSearchCV(SVC(), param_grid, refit=True, verbose=2)\n",
    "grid.fit(Xs2_train_scaled, y_train)"
   ]
  },
  {
   "cell_type": "code",
   "execution_count": 49,
   "metadata": {},
   "outputs": [
    {
     "name": "stdout",
     "output_type": "stream",
     "text": [
      "{'C': 10, 'gamma': 0.1, 'kernel': 'rbf'}\n"
     ]
    }
   ],
   "source": [
    "print(grid.best_params_)"
   ]
  },
  {
   "cell_type": "code",
   "execution_count": 115,
   "metadata": {},
   "outputs": [
    {
     "data": {
      "text/plain": [
       "SVC(C=10, break_ties=False, cache_size=200, class_weight=None, coef0=0.0,\n",
       "    decision_function_shape='ovr', degree=3, gamma=0.1, kernel='rbf',\n",
       "    max_iter=-1, probability=False, random_state=None, shrinking=True,\n",
       "    tol=0.001, verbose=False)"
      ]
     },
     "execution_count": 115,
     "metadata": {},
     "output_type": "execute_result"
    },
    {
     "name": "stdout",
     "output_type": "stream",
     "text": [
      "0.853007802668009\n"
     ]
    }
   ],
   "source": [
    "svm_clf_gs = SVC(C=10, kernel='rbf', degree=3, gamma=0.1) # get object\n",
    "svm_clf_gs.fit(Xorg_train_scaled, ysel_train)  # train object\n",
    "\n",
    "y_hat_gs = svm_clf_gs.predict(Xs2_test_scaled) # get test set precitions\n",
    "\n",
    "#grid_predictions = grid.predict(Xs2_test_scaled)\n",
    "#acc = mt.accuracy_score(y_test, grid_predictions)\n",
    "acc = mt.accuracy_score(y_test, y_hat_gs)\n",
    "\n",
    "print(acc)"
   ]
  },
  {
   "cell_type": "markdown",
   "metadata": {},
   "source": [
    "The resulted model has a significant uplift on accuracy (~10%), with optimized parameters found from Grid Search. The model above is our best model selection for SVM. "
   ]
  },
  {
   "cell_type": "markdown",
   "metadata": {},
   "source": [
    "## Interpret Feature Importance "
   ]
  },
  {
   "cell_type": "code",
   "execution_count": 19,
   "metadata": {},
   "outputs": [
    {
     "name": "stdout",
     "output_type": "stream",
     "text": [
      "TotalTargets_pTarget_PctMet has weight of 5.617373476779934\n",
      "MinorityMalePct has weight of -15.62614315515671\n",
      "MinorityFemalePct has weight of 5.974385292445288\n",
      "short_susp_per_c_num has weight of -0.2595160760644149\n",
      "avg_daily_attend_pct has weight of 12.412224440074278\n",
      "title1_type_cd_Y has weight of -1.5281630718289998\n",
      "BlackMalePct has weight of -1.2581080460215766\n",
      "AsianFemalePct has weight of 15.145210529336934\n",
      "BlackFemalePct has weight of -0.46704846418356316\n",
      "HispanicMalePct has weight of -16.00040621631979\n",
      "MathGr3-8_pTarget_PctMet has weight of 1.0693589270121682\n",
      "AsianMalePct has weight of 15.378304042543906\n",
      "SciGr5&8_pTarget_PctMet has weight of -2.2344004278086214\n",
      "nbpts_num has weight of 0.014385004388839912\n",
      "lea_sat_avg_score_num has weight of 0.0019492078247813247\n",
      "stud_internet_comp_num has weight of -0.17353972567731957\n",
      "st_avg_student_num has weight of 0.0004265712613513729\n",
      "HispanicFemalePct has weight of 5.769135293400371\n",
      "Accomplished_TCHR_Standard 4_Pct has weight of -0.4240687440748297\n",
      "Accomplished_TCHR_Standard 3_Pct has weight of 0.37305665253031967\n",
      "Developing_TCHR_Standard 2_Pct has weight of -1.9139426424909238\n",
      "Accomplished_TCHR_Standard 5_Pct has weight of 2.1027117014717778\n",
      "10+ Years_LEA_Exp_Pct_Prin has weight of -1.740344718321205\n",
      "4-10 Years_LEA_Exp_Pct_Prin has weight of -0.8281625900612137\n",
      "Accomplished_TCHR_Standard 1_Pct has weight of -0.41488317056847546\n",
      "Accomplished_TCHR_Standard 2_Pct has weight of -1.6838410440991591\n",
      "Developing_TCHR_Standard 1_Pct has weight of 2.800852228880344\n",
      "pct_GCE_ALL has weight of -12.40034875682271\n",
      "0-3 Years_LEA_Exp_Pct_Prin has weight of -6.018889842165863\n",
      "st_emer_prov_teach_pct has weight of -31.417955463377655\n",
      "lea_sat_participation_pct has weight of 2.18470314841244\n",
      "lea_ap_participation_pct has weight of 3.4772419127593297\n",
      "lea_federal_perpupil_num has weight of 0.0007521182946161707\n",
      "lea_local_perpupil_num has weight of -0.0004105709643535549\n",
      "advance_dgr_pct has weight of 3.2459904525882384\n",
      "Developing_TCHR_Standard 5_Pct has weight of -3.769257950709063\n",
      "lateral_teach_pct has weight of -4.441968014451932\n",
      "lea_flicensed_teach_pct has weight of -8.706106320146048\n",
      "Developing_TCHR_Standard 3_Pct has weight of 4.274483110745753\n",
      "lea_tchyrs_0thru3_pct has weight of -2.963536842190694\n",
      "lea_tchyrs_11plus_pct has weight of -3.9465789684822195\n",
      "lea_nbpts_num has weight of 0.07505327926754848\n",
      "lea_advance_dgr_pct has weight of -7.75989601443449\n",
      "lea_1yr_tchr_trnovr_pct has weight of 5.097857169099921\n",
      "lea_emer_prov_teach_pct has weight of -17.84557806269097\n",
      "st_flicensed_teach_pct has weight of 0.3786088974347598\n",
      "st_tchyrs_0thru3_pct has weight of -20.028485587936867\n",
      "st_1yr_tchr_trnovr_pct has weight of 12.381625685339987\n",
      "lea_tchyrs_4thru10_pct has weight of 0.9636748512296703\n",
      "Category_Cd_T has weight of -4.051842152913026\n"
     ]
    }
   ],
   "source": [
    "# interpret the weights\n",
    "\n",
    "# iterate over the coefficients\n",
    "weights = model2.coef_.T # take transpose to make a column vector\n",
    "variable_names = schoolData_pick_new.columns\n",
    "for coef, name in zip(weights,variable_names):\n",
    "    print(name, 'has weight of', coef[0])"
   ]
  },
  {
   "cell_type": "code",
   "execution_count": 21,
   "metadata": {},
   "outputs": [
    {
     "data": {
      "text/plain": [
       "StandardScaler(copy=True, with_mean=True, with_std=True)"
      ]
     },
     "execution_count": 21,
     "metadata": {},
     "output_type": "execute_result"
    },
    {
     "data": {
      "text/plain": [
       "LogisticRegression(C=100, class_weight=None, dual=False, fit_intercept=True,\n",
       "                   intercept_scaling=1, l1_ratio=None, max_iter=100,\n",
       "                   multi_class='auto', n_jobs=None, penalty='l1',\n",
       "                   random_state=None, solver='liblinear', tol=0.0001, verbose=0,\n",
       "                   warm_start=False)"
      ]
     },
     "execution_count": 21,
     "metadata": {},
     "output_type": "execute_result"
    },
    {
     "name": "stdout",
     "output_type": "stream",
     "text": [
      "accuracy: 0.6682607601308834\n",
      "[[721  96  12   3   0]\n",
      " [110 466 153  19   0]\n",
      " [ 15 200 387 189  16]\n",
      " [  2  17 160 396 243]\n",
      " [  0   2   6  75 685]]\n",
      "TotalTargets_pTarget_PctMet has weight of 1.1032997002943146\n",
      "MinorityMalePct has weight of -1.8753316831890852\n",
      "MinorityFemalePct has weight of 0.4791036808214181\n",
      "short_susp_per_c_num has weight of -4.503931446415219\n",
      "avg_daily_attend_pct has weight of 0.8128227669982705\n",
      "title1_type_cd_Y has weight of -0.6995246450533195\n",
      "BlackMalePct has weight of -0.560645746082148\n",
      "AsianFemalePct has weight of 0.4082792263120659\n",
      "BlackFemalePct has weight of 0.0918266389048508\n",
      "HispanicMalePct has weight of -1.282069451276227\n",
      "MathGr3-8_pTarget_PctMet has weight of 0.2709401602017986\n",
      "AsianMalePct has weight of 0.36035022003527456\n",
      "SciGr5&8_pTarget_PctMet has weight of -0.9900387323229262\n",
      "nbpts_num has weight of 0.11613363142688218\n",
      "lea_sat_avg_score_num has weight of 0.3606741961511277\n",
      "stud_internet_comp_num has weight of -0.20683635261707725\n",
      "st_avg_student_num has weight of -0.1778866585287534\n",
      "HispanicFemalePct has weight of 0.48962928402212375\n",
      "Accomplished_TCHR_Standard 4_Pct has weight of -0.07610620278605792\n",
      "Accomplished_TCHR_Standard 3_Pct has weight of 0.0831944867506584\n",
      "Developing_TCHR_Standard 2_Pct has weight of -0.0915770458733368\n",
      "Accomplished_TCHR_Standard 5_Pct has weight of 0.45871325329700374\n",
      "10+ Years_LEA_Exp_Pct_Prin has weight of 0.18013727947479022\n",
      "4-10 Years_LEA_Exp_Pct_Prin has weight of 0.31910854720916404\n",
      "Accomplished_TCHR_Standard 1_Pct has weight of -0.07934993169062762\n",
      "Accomplished_TCHR_Standard 2_Pct has weight of -0.3979383397395491\n",
      "Developing_TCHR_Standard 1_Pct has weight of 0.12995712623743352\n",
      "pct_GCE_ALL has weight of -0.9613850164408472\n",
      "0-3 Years_LEA_Exp_Pct_Prin has weight of -0.3790632186333713\n",
      "st_emer_prov_teach_pct has weight of -0.09946694018651081\n",
      "lea_sat_participation_pct has weight of 0.3070645544898545\n",
      "lea_ap_participation_pct has weight of 0.265239468475143\n",
      "lea_federal_perpupil_num has weight of 0.37660933834543486\n",
      "lea_local_perpupil_num has weight of -0.27691718671797\n",
      "advance_dgr_pct has weight of 0.28583309637092974\n",
      "Developing_TCHR_Standard 5_Pct has weight of -0.1814067769007945\n",
      "lateral_teach_pct has weight of -0.38520206533909457\n",
      "lea_flicensed_teach_pct has weight of -0.8018944102877544\n",
      "Developing_TCHR_Standard 3_Pct has weight of 0.24433536201192882\n",
      "lea_tchyrs_0thru3_pct has weight of -0.04473823285914138\n",
      "lea_tchyrs_11plus_pct has weight of 0.11979814766795312\n",
      "lea_nbpts_num has weight of 0.2261333546698774\n",
      "lea_advance_dgr_pct has weight of -0.46950295114169743\n",
      "lea_1yr_tchr_trnovr_pct has weight of 0.27979964026311804\n",
      "lea_emer_prov_teach_pct has weight of -0.2521693965481779\n",
      "st_flicensed_teach_pct has weight of 0.1970595649708379\n",
      "st_tchyrs_0thru3_pct has weight of -0.2614139553281052\n",
      "st_1yr_tchr_trnovr_pct has weight of 0.4042143345301066\n",
      "lea_tchyrs_4thru10_pct has weight of 0.23930066085797716\n",
      "Category_Cd_T has weight of -0.38684507951254454\n"
     ]
    }
   ],
   "source": [
    "from sklearn.preprocessing import StandardScaler\n",
    "\n",
    "# scale attributes by the training set\n",
    "scl_obj = StandardScaler()\n",
    "scl_obj.fit(X_train) # find scalings for each column that make this zero mean and unit std\n",
    "\n",
    "X_train_scaled = scl_obj.transform(X_train) # apply to training\n",
    "X_test_scaled = scl_obj.transform(X_test) # apply those means and std to the test set (without snooping at the test set values)\n",
    "\n",
    "# train the model just as before\n",
    "model2 = LogisticRegression(C=100, penalty='l1', solver='liblinear')\n",
    "model2.fit(X_train_scaled, y_train)\n",
    "pred = model2.predict(X_test_scaled)\n",
    "\n",
    "acc = mt.accuracy_score(y_test,pred)\n",
    "conf = mt.confusion_matrix(y_test,pred)\n",
    "print('accuracy:', acc )\n",
    "print(conf )\n",
    "\n",
    "weights = model2.coef_.T # take transpose to make a column vector\n",
    "variable_names = schoolData_pick_new.columns\n",
    "for coef, name in zip(weights,variable_names):\n",
    "    print(name, 'has weight of', coef[0])"
   ]
  },
  {
   "cell_type": "code",
   "execution_count": 22,
   "metadata": {},
   "outputs": [
    {
     "data": {
      "text/plain": [
       "<matplotlib.axes._subplots.AxesSubplot at 0x1b1593b0b48>"
      ]
     },
     "execution_count": 22,
     "metadata": {},
     "output_type": "execute_result"
    },
    {
     "data": {
      "image/png": "[encoded data removed]",
      "text/plain": [
       "<Figure size 1440x576 with 1 Axes>"
      ]
     },
     "metadata": {},
     "output_type": "display_data"
    }
   ],
   "source": [
    "# now let's make a pandas Series with the names and values, and plot them\n",
    "from matplotlib import pyplot as plt\n",
    "%matplotlib inline\n",
    "plt.style.use('ggplot')\n",
    "\n",
    "weights = pd.Series(model2.coef_[0],index=schoolData_pick_new.columns)\n",
    "weights.plot(kind='bar',figsize=(20,8))\n",
    "plt.show()"
   ]
  },
  {
   "cell_type": "markdown",
   "metadata": {},
   "source": [
    "Unlike Logistic regression, SVM do not have a direct model weight but if we use linear kernel for SVM, it's possible that we get a hyperplane that speperates the classes as best as possible.\n",
    "\n",
    "Just for interpretation purpose, we can use the coefficients from the svm which represent the hyperplane. It gives you the coordinates of a vector which is orthogonal to the hyperplane. Check the plot below for recoginizing the parameters with bigger weights."
   ]
  },
  {
   "cell_type": "code",
   "execution_count": 26,
   "metadata": {},
   "outputs": [
    {
     "data": {
      "text/plain": [
       "SVC(C=1.0, break_ties=False, cache_size=200, class_weight=None, coef0=0.0,\n",
       "    decision_function_shape='ovr', degree=3, gamma='scale', kernel='linear',\n",
       "    max_iter=-1, probability=False, random_state=None, shrinking=True,\n",
       "    tol=0.001, verbose=False)"
      ]
     },
     "execution_count": 26,
     "metadata": {},
     "output_type": "execute_result"
    },
    {
     "name": "stdout",
     "output_type": "stream",
     "text": [
      "accuracy: 0.7173420588975585\n"
     ]
    },
    {
     "data": {
      "text/plain": [
       "(10, 50)"
      ]
     },
     "execution_count": 26,
     "metadata": {},
     "output_type": "execute_result"
    }
   ],
   "source": [
    "%%time\n",
    "#Use the linear kernel to get the set of coefficients for SVM\n",
    "svm = SVC(kernel='linear') \n",
    "svm.fit(Xs2_train_scaled, y_train) \n",
    "y_hat = svm.predict(Xs2_test_scaled) # get test set precitions\n",
    "\n",
    "acc = mt.accuracy_score(y_test,y_hat)\n",
    "print('accuracy:', acc ) #Check the accuracy to make sure the model is still good\n",
    "svm.coef_.shape"
   ]
  },
  {
   "cell_type": "code",
   "execution_count": 27,
   "metadata": {},
   "outputs": [
    {
     "data": {
      "text/plain": [
       "<matplotlib.axes._subplots.AxesSubplot at 0x1b15951fe48>"
      ]
     },
     "execution_count": 27,
     "metadata": {},
     "output_type": "execute_result"
    },
    {
     "data": {
      "image/png": "[encoded data removed]",
      "text/plain": [
       "<Figure size 1440x576 with 1 Axes>"
      ]
     },
     "metadata": {},
     "output_type": "display_data"
    }
   ],
   "source": [
    "#Plot out the weights from the svm_coef for feature importance interpretation.\n",
    "weights = pd.Series(svm.coef_[0],index=schoolData_pick_new.columns)\n",
    "weights.plot(kind='bar',figsize=(20,8))\n",
    "plt.show()"
   ]
  },
  {
   "cell_type": "markdown",
   "metadata": {},
   "source": [
    "From the plot above we can recognize some important features, for example:\n",
    "-short_susp_per_c_num\n",
    "-BlackMalePct\n",
    "-HispanicMalePct\n",
    "-pct_GCE_ALL\n",
    "-lea_flicensed_teach_pct\n",
    "\n",
    "The polarities of the weights can also be interpreted as positively or negatively impact the SPG Grade.\n",
    "\n",
    "For example, the coefficient of short_susp_per_c_num is negative, which means it is negatively correlated with SPG Grade -- The higher the suspension rate, the lower the SPG Grade is. Similiar concepts are applied to other variables."
   ]
  },
  {
   "cell_type": "markdown",
   "metadata": {},
   "source": [
    "## Interpret Support Vectors"
   ]
  },
  {
   "cell_type": "code",
   "execution_count": 116,
   "metadata": {},
   "outputs": [],
   "source": [
    "#Re-assign all colnames for SMOTE dataset\n",
    "schoolData_sm = pd.DataFrame(X_sm)\n",
    "schoolData_sm.columns=['TotalTargets_pTarget_PctMet',\n",
    "'MinorityMalePct',\n",
    "'MinorityFemalePct',\n",
    "'short_susp_per_c_num',\n",
    "'avg_daily_attend_pct',\n",
    "'title1_type_cd_Y',\n",
    "'BlackMalePct',\n",
    "'AsianFemalePct',\n",
    "'BlackFemalePct',\n",
    "'HispanicMalePct',\n",
    "'MathGr3-8_pTarget_PctMet',\n",
    "'AsianMalePct',\n",
    "'SciGr5&8_pTarget_PctMet',\n",
    "'nbpts_num',\n",
    "'lea_sat_avg_score_num',\n",
    "'stud_internet_comp_num',\n",
    "'st_avg_student_num',\n",
    "'HispanicFemalePct',\n",
    "'Accomplished_TCHR_Standard 4_Pct',\n",
    "'Accomplished_TCHR_Standard 3_Pct',\n",
    "'Developing_TCHR_Standard 2_Pct',\n",
    "'Accomplished_TCHR_Standard 5_Pct',\n",
    "'10+ Years_LEA_Exp_Pct_Prin',\n",
    "'4-10 Years_LEA_Exp_Pct_Prin',\n",
    "'Accomplished_TCHR_Standard 1_Pct',\n",
    "'Accomplished_TCHR_Standard 2_Pct',\n",
    "'Developing_TCHR_Standard 1_Pct',\n",
    "'pct_GCE_ALL',\n",
    "'0-3 Years_LEA_Exp_Pct_Prin',\n",
    "'st_emer_prov_teach_pct',\n",
    "'lea_sat_participation_pct',\n",
    "'lea_ap_participation_pct',\n",
    "'lea_federal_perpupil_num',\n",
    "'lea_local_perpupil_num',\n",
    "'advance_dgr_pct',\n",
    "'Developing_TCHR_Standard 5_Pct',\n",
    "'lateral_teach_pct',\n",
    "'lea_flicensed_teach_pct',\n",
    "'Developing_TCHR_Standard 3_Pct',\n",
    "'lea_tchyrs_0thru3_pct',\n",
    "'lea_tchyrs_11plus_pct',\n",
    "'lea_nbpts_num',\n",
    "'lea_advance_dgr_pct',\n",
    "'lea_1yr_tchr_trnovr_pct',\n",
    "'lea_emer_prov_teach_pct',\n",
    "'st_flicensed_teach_pct',\n",
    "'st_tchyrs_0thru3_pct',\n",
    "'st_1yr_tchr_trnovr_pct',\n",
    "'lea_tchyrs_4thru10_pct',\n",
    "'Category_Cd_T',\n",
    "]"
   ]
  },
  {
   "cell_type": "code",
   "execution_count": 117,
   "metadata": {},
   "outputs": [
    {
     "name": "stdout",
     "output_type": "stream",
     "text": [
      "<class 'pandas.core.frame.DataFrame'>\n",
      "Int64Index: 10941 entries, 2826 to 18334\n",
      "Data columns (total 51 columns):\n",
      " #   Column                            Non-Null Count  Dtype  \n",
      "---  ------                            --------------  -----  \n",
      " 0   TotalTargets_pTarget_PctMet       10941 non-null  float64\n",
      " 1   MinorityMalePct                   10941 non-null  float64\n",
      " 2   MinorityFemalePct                 10941 non-null  float64\n",
      " 3   short_susp_per_c_num              10941 non-null  float64\n",
      " 4   avg_daily_attend_pct              10941 non-null  float64\n",
      " 5   title1_type_cd_Y                  10941 non-null  uint8  \n",
      " 6   BlackMalePct                      10941 non-null  float64\n",
      " 7   AsianFemalePct                    10941 non-null  float64\n",
      " 8   BlackFemalePct                    10941 non-null  float64\n",
      " 9   HispanicMalePct                   10941 non-null  float64\n",
      " 10  MathGr3-8_pTarget_PctMet          10941 non-null  float64\n",
      " 11  AsianMalePct                      10941 non-null  float64\n",
      " 12  SciGr5&8_pTarget_PctMet           10941 non-null  float64\n",
      " 13  nbpts_num                         10941 non-null  float64\n",
      " 14  lea_sat_avg_score_num             10941 non-null  float64\n",
      " 15  stud_internet_comp_num            10941 non-null  float64\n",
      " 16  st_avg_student_num                10941 non-null  float64\n",
      " 17  HispanicFemalePct                 10941 non-null  float64\n",
      " 18  Accomplished_TCHR_Standard 4_Pct  10941 non-null  float64\n",
      " 19  Accomplished_TCHR_Standard 3_Pct  10941 non-null  float64\n",
      " 20  Developing_TCHR_Standard 2_Pct    10941 non-null  float64\n",
      " 21  Accomplished_TCHR_Standard 5_Pct  10941 non-null  float64\n",
      " 22  10+ Years_LEA_Exp_Pct_Prin        10941 non-null  float64\n",
      " 23  4-10 Years_LEA_Exp_Pct_Prin       10941 non-null  float64\n",
      " 24  Accomplished_TCHR_Standard 1_Pct  10941 non-null  float64\n",
      " 25  Accomplished_TCHR_Standard 2_Pct  10941 non-null  float64\n",
      " 26  Developing_TCHR_Standard 1_Pct    10941 non-null  float64\n",
      " 27  pct_GCE_ALL                       10941 non-null  float64\n",
      " 28  0-3 Years_LEA_Exp_Pct_Prin        10941 non-null  float64\n",
      " 29  st_emer_prov_teach_pct            10941 non-null  float64\n",
      " 30  lea_sat_participation_pct         10941 non-null  float64\n",
      " 31  lea_ap_participation_pct          10941 non-null  float64\n",
      " 32  lea_federal_perpupil_num          10941 non-null  float64\n",
      " 33  lea_local_perpupil_num            10941 non-null  float64\n",
      " 34  advance_dgr_pct                   10941 non-null  float64\n",
      " 35  Developing_TCHR_Standard 5_Pct    10941 non-null  float64\n",
      " 36  lateral_teach_pct                 10941 non-null  float64\n",
      " 37  lea_flicensed_teach_pct           10941 non-null  float64\n",
      " 38  Developing_TCHR_Standard 3_Pct    10941 non-null  float64\n",
      " 39  lea_tchyrs_0thru3_pct             10941 non-null  float64\n",
      " 40  lea_tchyrs_11plus_pct             10941 non-null  float64\n",
      " 41  lea_nbpts_num                     10941 non-null  float64\n",
      " 42  lea_advance_dgr_pct               10941 non-null  float64\n",
      " 43  lea_1yr_tchr_trnovr_pct           10941 non-null  float64\n",
      " 44  lea_emer_prov_teach_pct           10941 non-null  float64\n",
      " 45  st_flicensed_teach_pct            10941 non-null  float64\n",
      " 46  st_tchyrs_0thru3_pct              10941 non-null  float64\n",
      " 47  st_1yr_tchr_trnovr_pct            10941 non-null  float64\n",
      " 48  lea_tchyrs_4thru10_pct            10941 non-null  float64\n",
      " 49  Category_Cd_T                     10941 non-null  uint8  \n",
      " 50  SPG Grade                         10941 non-null  object \n",
      "dtypes: float64(48), object(1), uint8(2)\n",
      "memory usage: 4.2+ MB\n"
     ]
    }
   ],
   "source": [
    "df_tested_on = schoolData_sm.iloc[train_indices] # saved from above, the indices chosen for training\n",
    "# now get the support vectors from the trained model\n",
    "df_support = df_tested_on.iloc[svm_clf.support_,:]\n",
    "\n",
    "df_support['SPG Grade'] = y_sm.values[svm_clf.support_] # add back in the 'Survived' Column to the pandas dataframe\n",
    "#X_sub['SPG Grade'] = y # also add it back in for the original data\n",
    "schoolData_sm['SPG Grade'] = y_sm # also add it back in for the original \n",
    "df_support.info()"
   ]
  },
  {
   "cell_type": "code",
   "execution_count": 119,
   "metadata": {},
   "outputs": [
    {
     "data": {
      "text/plain": [
       "<Figure size 720x288 with 0 Axes>"
      ]
     },
     "execution_count": 119,
     "metadata": {},
     "output_type": "execute_result"
    },
    {
     "data": {
      "text/plain": [
       "<matplotlib.axes._subplots.AxesSubplot at 0x1b4827e1ac8>"
      ]
     },
     "execution_count": 119,
     "metadata": {},
     "output_type": "execute_result"
    },
    {
     "data": {
      "text/plain": [
       "<matplotlib.legend.Legend at 0x1b4e0d8fb08>"
      ]
     },
     "execution_count": 119,
     "metadata": {},
     "output_type": "execute_result"
    },
    {
     "data": {
      "text/plain": [
       "Text(0.5, 1.0, 'st_tchyrs_0thru3_pct (Instances chosen as Support Vectors)')"
      ]
     },
     "execution_count": 119,
     "metadata": {},
     "output_type": "execute_result"
    },
    {
     "data": {
      "text/plain": [
       "<matplotlib.axes._subplots.AxesSubplot at 0x1b482846788>"
      ]
     },
     "execution_count": 119,
     "metadata": {},
     "output_type": "execute_result"
    },
    {
     "data": {
      "text/plain": [
       "<matplotlib.legend.Legend at 0x1b482842808>"
      ]
     },
     "execution_count": 119,
     "metadata": {},
     "output_type": "execute_result"
    },
    {
     "data": {
      "text/plain": [
       "Text(0.5, 1.0, 'st_tchyrs_0thru3_pct (Original)')"
      ]
     },
     "execution_count": 119,
     "metadata": {},
     "output_type": "execute_result"
    },
    {
     "data": {
      "text/plain": [
       "<Figure size 720x288 with 0 Axes>"
      ]
     },
     "execution_count": 119,
     "metadata": {},
     "output_type": "execute_result"
    },
    {
     "data": {
      "text/plain": [
       "<matplotlib.axes._subplots.AxesSubplot at 0x1b4828b5c48>"
      ]
     },
     "execution_count": 119,
     "metadata": {},
     "output_type": "execute_result"
    },
    {
     "data": {
      "text/plain": [
       "<matplotlib.legend.Legend at 0x1b48280fec8>"
      ]
     },
     "execution_count": 119,
     "metadata": {},
     "output_type": "execute_result"
    },
    {
     "data": {
      "text/plain": [
       "Text(0.5, 1.0, 'avg_daily_attend_pct (Instances chosen as Support Vectors)')"
      ]
     },
     "execution_count": 119,
     "metadata": {},
     "output_type": "execute_result"
    },
    {
     "data": {
      "text/plain": [
       "<matplotlib.axes._subplots.AxesSubplot at 0x1b482961688>"
      ]
     },
     "execution_count": 119,
     "metadata": {},
     "output_type": "execute_result"
    },
    {
     "data": {
      "text/plain": [
       "<matplotlib.legend.Legend at 0x1b482910148>"
      ]
     },
     "execution_count": 119,
     "metadata": {},
     "output_type": "execute_result"
    },
    {
     "data": {
      "text/plain": [
       "Text(0.5, 1.0, 'avg_daily_attend_pct (Original)')"
      ]
     },
     "execution_count": 119,
     "metadata": {},
     "output_type": "execute_result"
    },
    {
     "data": {
      "text/plain": [
       "<Figure size 720x288 with 0 Axes>"
      ]
     },
     "execution_count": 119,
     "metadata": {},
     "output_type": "execute_result"
    },
    {
     "data": {
      "text/plain": [
       "<matplotlib.axes._subplots.AxesSubplot at 0x1b482a30cc8>"
      ]
     },
     "execution_count": 119,
     "metadata": {},
     "output_type": "execute_result"
    },
    {
     "data": {
      "text/plain": [
       "<matplotlib.legend.Legend at 0x1b4829fab88>"
      ]
     },
     "execution_count": 119,
     "metadata": {},
     "output_type": "execute_result"
    },
    {
     "data": {
      "text/plain": [
       "Text(0.5, 1.0, 'short_susp_per_c_num (Instances chosen as Support Vectors)')"
      ]
     },
     "execution_count": 119,
     "metadata": {},
     "output_type": "execute_result"
    },
    {
     "data": {
      "text/plain": [
       "<matplotlib.axes._subplots.AxesSubplot at 0x1b482a29108>"
      ]
     },
     "execution_count": 119,
     "metadata": {},
     "output_type": "execute_result"
    },
    {
     "data": {
      "text/plain": [
       "<matplotlib.legend.Legend at 0x1b482987e48>"
      ]
     },
     "execution_count": 119,
     "metadata": {},
     "output_type": "execute_result"
    },
    {
     "data": {
      "text/plain": [
       "Text(0.5, 1.0, 'short_susp_per_c_num (Original)')"
      ]
     },
     "execution_count": 119,
     "metadata": {},
     "output_type": "execute_result"
    },
    {
     "data": {
      "text/plain": [
       "<Figure size 720x288 with 0 Axes>"
      ]
     },
     "execution_count": 119,
     "metadata": {},
     "output_type": "execute_result"
    },
    {
     "data": {
      "text/plain": [
       "<matplotlib.axes._subplots.AxesSubplot at 0x1b482af3f48>"
      ]
     },
     "execution_count": 119,
     "metadata": {},
     "output_type": "execute_result"
    },
    {
     "data": {
      "text/plain": [
       "<matplotlib.legend.Legend at 0x1b482ae8748>"
      ]
     },
     "execution_count": 119,
     "metadata": {},
     "output_type": "execute_result"
    },
    {
     "data": {
      "text/plain": [
       "Text(0.5, 1.0, 'MinorityFemalePct (Instances chosen as Support Vectors)')"
      ]
     },
     "execution_count": 119,
     "metadata": {},
     "output_type": "execute_result"
    },
    {
     "data": {
      "text/plain": [
       "<matplotlib.axes._subplots.AxesSubplot at 0x1b4866c8508>"
      ]
     },
     "execution_count": 119,
     "metadata": {},
     "output_type": "execute_result"
    },
    {
     "data": {
      "text/plain": [
       "<matplotlib.legend.Legend at 0x1b4866be088>"
      ]
     },
     "execution_count": 119,
     "metadata": {},
     "output_type": "execute_result"
    },
    {
     "data": {
      "text/plain": [
       "Text(0.5, 1.0, 'MinorityFemalePct (Original)')"
      ]
     },
     "execution_count": 119,
     "metadata": {},
     "output_type": "execute_result"
    },
    {
     "data": {
      "image/png": "[encoded data removed]",
      "text/plain": [
       "<Figure size 720x288 with 2 Axes>"
      ]
     },
     "metadata": {},
     "output_type": "display_data"
    },
    {
     "data": {
      "image/png": "[encoded data removed]",
      "text/plain": [
       "<Figure size 720x288 with 2 Axes>"
      ]
     },
     "metadata": {},
     "output_type": "display_data"
    },
    {
     "data": {
      "image/png": "[encoded data removed]",
      "text/plain": [
       "<Figure size 720x288 with 2 Axes>"
      ]
     },
     "metadata": {},
     "output_type": "display_data"
    },
    {
     "data": {
      "image/png": "[encoded data removed]",
      "text/plain": [
       "<Figure size 720x288 with 2 Axes>"
      ]
     },
     "metadata": {},
     "output_type": "display_data"
    }
   ],
   "source": [
    "# now lets see the statistics of these attributes\n",
    "#from pandas.tools.plotting import boxplot\n",
    "from pandas.plotting import boxplot\n",
    "from matplotlib import pyplot as plt\n",
    "\n",
    "# group the original data and the support vectors\n",
    "df_grouped_support = df_support.groupby(['SPG Grade'])\n",
    "#df_grouped = X_sub.groupby(['SPG Grade'])\n",
    "df_grouped = schoolData_sm.groupby(['SPG Grade'])\n",
    "\n",
    "# plot KDE of Different variables\n",
    "###########This is a random selection NOW\n",
    "vars_to_plot = ['st_tchyrs_0thru3_pct','avg_daily_attend_pct','short_susp_per_c_num','MinorityFemalePct']\n",
    "\n",
    "for v in vars_to_plot:\n",
    "    plt.figure(figsize=(10,4))\n",
    "    # plot support vector stats\n",
    "    plt.subplot(1,2,1)\n",
    "    ax = df_grouped_support[v].plot.kde() \n",
    "    plt.legend(['A','B','C','D','F'])\n",
    "    plt.title(v+' (Instances chosen as Support Vectors)')\n",
    "    \n",
    "    # plot original distributions\n",
    "    plt.subplot(1,2,2)\n",
    "    ax = df_grouped[v].plot.kde() \n",
    "    plt.legend(['A','B','C','D','F'])\n",
    "    plt.title(v+' (Original)')"
   ]
  },
  {
   "cell_type": "markdown",
   "metadata": {},
   "source": [
    "The above analysis telling us how is the look for the original statsitics and how is the look for the statistics of the support vectors. The four variables 'st_tchyrs_0thru3_pct','avg_daily_attend_pct','short_susp_per_c_num','MinorityFemalePct' are plotted above. But you can also plot out the other 46 variables for comparison.\n",
    "\n",
    "What we can observe is that the seperation of class-based distribution is apparantly not as large as the original data for all 4 different variables. We can explain that by the principle of support vector composition, which tend to be the instances of either the edge of class or incorrectly classified data."
   ]
  },
  {
   "cell_type": "code",
   "execution_count": null,
   "metadata": {},
   "outputs": [],
   "source": [
    "vars_to_plot_1 = ['tchyrs_0thru3_pct', 'short_susp_per_c_num']\n",
    "vars_to_plot_2 = ['avg_daily_attend_pct','MinorityFemalePct']\n",
    "df_support['SPG Color'] = np.select(\n",
    "    [\n",
    "        df_support['SPG Grade'] == 'A',\n",
    "        df_support['SPG Grade'] == 'B',\n",
    "        df_support['SPG Grade'] == 'C',\n",
    "        df_support['SPG Grade'] == 'D',\n",
    "        df_support['SPG Grade'] == 'F'\n",
    "    ],\n",
    "    [\n",
    "        'blue',\n",
    "        'orange',\n",
    "        'green',\n",
    "        'red',\n",
    "        'purple'\n",
    "    ],\n",
    "    default='NA'\n",
    ")\n",
    "schoolData_sm['SPG Color'] = np.select(\n",
    "    [\n",
    "        schoolData_sm['SPG Grade'] == 'A',\n",
    "        schoolData_sm['SPG Grade'] == 'B',\n",
    "        schoolData_sm['SPG Grade'] == 'C',\n",
    "        schoolData_sm['SPG Grade'] == 'D',\n",
    "        schoolData_sm['SPG Grade'] == 'F'\n",
    "    ],\n",
    "    [\n",
    "        'blue',\n",
    "        'orange',\n",
    "        'green',\n",
    "        'red',\n",
    "        'purple'\n",
    "    ],\n",
    "    default='NA'\n",
    ")\n",
    "for v in zip(vars_to_plot_1, vars_to_plot_2):\n",
    "    plt.figure(figsize=(10,4))\n",
    "    # plot support vector joint relationships\n",
    "    plt.subplot(1,2,1)\n",
    "    plt.scatter(df_support[v[0]], df_support[v[1]], c = df_support['SPG Color'])\n",
    "    plt.xlabel(v[0])\n",
    "    plt.ylabel(v[1])\n",
    "    plt.title('(Support Vectors)')\n",
    "    # plot original joint relationships\n",
    "    plt.subplot(1,2,2)\n",
    "    plt.scatter(schoolData_sm[v[0]], schoolData_sm[v[1]], c = schoolData_sm['SPG Color'])\n",
    "    plt.xlabel(v[0])\n",
    "    plt.ylabel(v[1])\n",
    "    plt.title('(Original)')"
   ]
  },
  {
   "cell_type": "code",
   "execution_count": null,
   "metadata": {},
   "outputs": [],
   "source": [
    "# data clean up\n",
    "\n",
    "# schools2['category_cd'].unique()\n",
    "schoolData_sm['category_cd_modified'] = np.select(\n",
    "    [\n",
    "        schoolData_sm['category_cd'] == 'A', \n",
    "        schoolData_sm['category_cd'] == 'E',\n",
    "        schoolData_sm['category_cd'] == 'H',\n",
    "        schoolData_sm['category_cd'] == 'I',\n",
    "        schoolData_sm['category_cd'] == 'M'\n",
    "    ], \n",
    "    [\n",
    "        'Elem./Mid./High Together', \n",
    "        'Elementary School',\n",
    "        'High School',\n",
    "        'Elem./Mid. Together',\n",
    "        'Middle School'\n",
    "    ],\n",
    "    default='Mid./High Together'\n",
    ")\n",
    "\n",
    "combo = schoolData_sm['category_cd_modified'].str.contains('/', regex=False)\n",
    "\n",
    "schoolData_sm['category_cd_modified'] = np.where(combo, 'Combo', schoolData_sm['category_cd_modified'])\n",
    "schoolData_sm['MinorityOverallPct'] = schoolData_sm['MinorityMalePct'] + schoolData_sm['MinorityFemalePct']\n",
    "schoolData_sm['Majority_Minority'] = np.where(schoolData_sm['MinorityOverallPct'] > .5, 1,0)\n",
    "schoolData_sm = schoolData_sm[schoolData_sm[\"school_type_txt\"] == 'Regular School']\n",
    "\n",
    "combo = schoolData_sm['SPG Grade'].str.contains('A+NG', regex=False)\n",
    "\n",
    "schoolData_sm['SPG Grade'] = np.where(combo, 'A', schoolData_sm['SPG Grade'])\n",
    "# df_final['SPG Grade'].value_counts()\n",
    "schoolData_sm = schoolData_sm[schoolData_sm['SPG Grade'] != 'I']\n",
    "schoolData_sm['SPG Grade'].value_counts()\n",
    "schoolData_sm.info()"
   ]
  },
  {
   "cell_type": "code",
   "execution_count": null,
   "metadata": {},
   "outputs": [],
   "source": [
    "from sklearn.model_selection import GridSearchCV\n",
    "# from sklearn.pipeline import Pipeline\n",
    "# from sklearn.ensemble import RandomForestClassifier\n",
    "# from sklearn.feature_selection import \n",
    "\n",
    "# pipe = Pipeline([RandomForestClassifier(n_estimators=)])\n",
    "\n",
    "param_grid = {'C': [0.1, 10, 100], 'penalty': ['l1','l2'], 'solver': ['liblinear']}\n",
    " \n",
    "\n",
    "grid = GridSearchCV(LogisticRegression(), param_grid, refit=True, verbose=2)\n",
    "grid.fit(X_train_scaled, y_train)"
   ]
  },
  {
   "cell_type": "markdown",
   "metadata": {},
   "source": [
    "## Evaluation"
   ]
  }
 ],
 "metadata": {
  "kernelspec": {
   "display_name": "Python 3",
   "language": "python",
   "name": "python3"
  },
  "language_info": {
   "codemirror_mode": {
    "name": "ipython",
    "version": 3
   },
   "file_extension": ".py",
   "mimetype": "text/x-python",
   "name": "python",
   "nbconvert_exporter": "python",
   "pygments_lexer": "ipython3",
   "version": "3.7.7"
  }
 },
 "nbformat": 4,
 "nbformat_minor": 4
}
