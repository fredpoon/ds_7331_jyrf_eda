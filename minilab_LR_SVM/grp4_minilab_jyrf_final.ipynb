{
 "cells": [
  {
   "cell_type": "markdown",
   "metadata": {},
   "source": [
    "# MiniLab SVM and Logistic Regression\n",
    "#### Yang Zhang, Reannan McDaniel, Jonathon Roach, Fred Poon\n",
    "##### 06/14/2020\n",
    "##### Machine Learning 1 | MSDS_7331"
   ]
  },
  {
   "cell_type": "markdown",
   "metadata": {},
   "source": [
    "## Business Understanding\n",
    "For this analysis, our group will be working with North Carolina Public Schools Report Card and Statistical Profiles Data sets from the years 2014 to 2017. These data sets encompass information across 4 continuous years of educational attributes in North Carolina, USA.  The data is collected from the State of North Carolina at [http://ncpublicschools.org](http://ncpublicschools.org) and made available from the Belk Endowment Educational Attainment Data Repository for North Carolina Public Schools by Dr. Jake Drew. Among other reasons, the data was collected for evaluation of public-school performance for the purpose of efficiently allocating funds to various educational initiatives. Analyses of such data are important because high-impact educational initiatives that are well-funded contribute to increased graduation rates, increased achievement at the post-secondary level, less crime, and greater economic engagement among young people. For the purpose of this exercise, our focus is on describing and predicting school performance using various school characteristics, such as type of school (elementary, middle, high, or some combination of the three), social demographics, economic demographics, and location between 2014 and 2017. The Belk Foundation's website says, \"Our goal is to empower today’s workforce by creating pathways to and through postsecondary education for underrepresented students\". \n",
    "\n",
    "<!-- For the sake of this analysis, we assume that better performing schools have better outcomes in postsecondary education. With North Carolina's rapidly changing demographics, it is important to take into consideration schools' unique needs when allocating funds to strategic investment initiatives. Here, we explore where funding can be best applied based on educational achievement data.-->\n",
    "\n",
    "We will explore through visual and mathematical modeling which features best predict the School Performance Grade (SPG Grade), a letter grade classification based on test scores and growth measures. The analysis will come in the form of logistic regression model and support vector machine(SVM) model to classify SPG Grade. In this analysis we will observe:\n",
    "\n",
    "- What attributes have the most effect on SPG?\n",
    "- Between SVM and Logistic Regression, which model has a higher accuracy score?\n",
    "\n",
    "<!-- Predicting SPG within 15 points could be beneficial to an organization, like Belk Endowment, to efficiently allocate funds to schools.-->"
   ]
  },
  {
   "cell_type": "markdown",
   "metadata": {},
   "source": [
    "## Data Understanding\n",
    "The data set contains 9,731 records and 259 attributes that are comprised of factors, numbers, and characters. A data definition sheet can be found in Dr. Drew's github repository, [https://github.com/jakemdrew/EducationDataNC](https://github.com/jakemdrew/EducationDataNC/tree/master/Data%20Documentation). To scale the data to be more manageable, our data set includes 50 of the 259 attributes. \n",
    "\n",
    "These variables were chosen after initial EDA and correlation visuals were generated between SPG and all predictors. The data type, category and description are displayed in the following table.\n",
    "\n",
    "### Attributes\n",
    "| Attribute | DataType | Description |\n",
    "|:---|:---|:---|\n",
    "| SPG Grade                          | object  | School Performance Grade (Letter Grade - A-D, F) |\n",
    "| MinorityMalePct                    | float64 | Minority Male Perentage |\n",
    "| MinorityFemalePct                  | float64 | Minority Female Percentage |\n",
    "| short_susp_per_c_num               | float64 | Short term suspensions per 100 students at school level |\n",
    "| avg_daily_attend_pct               | float64 | Average daily attendance percentage at school level |\n",
    "| title1_type_cd_Y                   | uint8   | Title 1 Status |\n",
    "| BlackMalePct                       | float64 | Black Male Percentage |\n",
    "| AsianFemalePct                     | float64 | Asian Female Percentage |\n",
    "| BlackFemalePct                     | float64 | Black Female Percentage |\n",
    "| TotalTargets_pTarget_PctMet        | float64 | Percentage of total targets met |\n",
    "| HispanicMalePct                    | float64 | Hispanic Male Percentage |\n",
    "| MathGr3-8_pTarget_PctMet           | float64 | Percentage of students meeting Math target in grade levels 3 thru 8 |\n",
    "| AsianMalePct                       | float64 | Asian Male Percentage |\n",
    "| SciGr5&8_pTarget_PctMet            | float64 | Percentage of students meeting Science target in grade level 5 & 8 |\n",
    "| nbpts_num                          | float64 | Number of National Board Certified Staff at school level |\n",
    "| lea_sat_avg_score_num              | float64 | Average SAT score at LEA level |\n",
    "| stud_internet_comp_num             | float64 | Ratio of students to internet connected computer at school level |\n",
    "| st_avg_student_num                 | float64 | Average school size within the State |\n",
    "| HispanicFemalePct                  | float64 | Hispanic Female Percentage |\n",
    "| Accomplished_TCHR_Standard 4_Pct   | float64 | Percentage of accomplished teachers with teacher evaluation value of 4 |\n",
    "| Accomplished_TCHR_Standard 3_Pct   | float64 | Percentage of accomplished teachers with teacher evaluation value of 3 |\n",
    "| Developing_TCHR_Standard 2_Pct     | float64 | Percentage of developing teachers with teacher evaluation value of 2 |\n",
    "| Accomplished_TCHR_Standard 5_Pct   | float64 | Percentage of accomplished teachers with teacher evaluation value of 5 |\n",
    "| 10+ Years_LEA_Exp_Pct_Prin         | float64 | Percentage of principle with more than 10 years of experience at the LEA level |\n",
    "| 4-10 Years_LEA_Exp_Pct_Prin        | float64 | Percentage of principle with 4-10 years of experience at the LEA level |\n",
    "| Accomplished_TCHR_Standard 1_Pct   | float64 | Percentage of accomplished teachers with teacher evaluation value of 1 |\n",
    "| Accomplished_TCHR_Standard 2_Pct   | float64 | Percentage of accomplished teachers with teacher evaluation value of 2 |\n",
    "| Developing_TCHR_Standard 1_Pct     | float64 | Percentage of developing teachers with teacher evaluation value of 1 |\n",
    "| pct_GCE_ALL                        | float64 | Percentage of Third Grade Students Passed with Good Cause Exemption |\n",
    "| 0-3 Years_LEA_Exp_Pct_Prin         | float64 | Percentage of principle with 0-3 years of experience at the LEA level |\n",
    "| st_emer_prov_teach_pct             | float64 | Emerging teachers at State level |\n",
    "| lea_sat_participation_pct          | float64 | Percentage of HS students taking an SAT exam at the LEA level |\n",
    "| lea_ap_participation_pct           | float64 | Advanced Placement participation at LEA level |\n",
    "| lea_federal_perpupil_num           | float64 | Federal expense per pupil at LEA level |\n",
    "| lea_local_perpupil_num             | float64 | Local expense per pupil at LEA level |\n",
    "| advance_dgr_pct                    | float64 | Percent of teachers with masters or higher degree at school dgr |\n",
    "| Developing_TCHR_Standard 5_Pct     | float64 | Percentage of teacher with level 5 in Developing |\n",
    "| lateral_teach_pct                  | float64 | Lateral entry teacher percentage at school level |\n",
    "| lea_flicensed_teach_pct            | float64 | Average Percent of Teachers that meet NC fully licensed |\n",
    "| Developing_TCHR_Standard 3_Pct     | float64 | Percentage of teacher with level 3 in Developing |\n",
    "| lea_tchyrs_0thru3_pct              | float64 | LEA level Teacher experiences 0 to 3 years  |\n",
    "| lea_tchyrs_11plus_pct              | float64 | LEA level Teacher experiences over 11 years |\n",
    "| lea_nbpts_num                      | float64 | Average number of National Board Certified staff at LEA |\n",
    "| lea_advance_dgr_pct                | float64 | Average percent of teachers with masters or higher degree at LEA level |\n",
    "| lea_1yr_tchr_trnovr_pct            | float64 | One Year Teacher turnover percentage at school level |\n",
    "| lea_emer_prov_teach_pct            | float64 | Emerging teachers at LEA level |\n",
    "| st_flicensed_teach_pct             | float64 | Average Percent of Teachers that meet NC fully licensed |\n",
    "| st_tchyrs_0thru3_pct               | float64 | Percentage of teachers with 4-10 years of experience at the State level |\n",
    "| st_1yr_tchr_trnovr_pct             | float64 | Standardize One Year Teacher turnover percentage at school level |\n",
    "| lea_tchyrs_4thru10_pct             | float64 | Percentage of teachers with 4-10 years of experience at the LEA level |\n",
    "| Category_Cd_T                      | uint8   | School with Category code T (School has middle and high school grades) |"
   ]
  },
  {
   "cell_type": "markdown",
   "metadata": {},
   "source": [
    "## Data Preparation\n",
    "In order to prepare the data set, we combined multiple years of data.\n",
    "\n",
    "Script to process the data set from 2014 to 2019 seperately can be found here.\n",
    "https://github.com/fredpoon/ds_7331_jyrf_eda/blob/master/Data_Prep/PublicSchools2014to2019_MLnew.ipynb\n",
    "\n",
    "Our final merge of the combined years is displayed below."
   ]
  },
  {
   "cell_type": "code",
   "execution_count": 4,
   "metadata": {},
   "outputs": [
    {
     "data": {
      "text/plain": [
       "(2426, 318)"
      ]
     },
     "execution_count": 4,
     "metadata": {},
     "output_type": "execute_result"
    },
    {
     "data": {
      "text/plain": [
       "(2432, 335)"
      ]
     },
     "execution_count": 4,
     "metadata": {},
     "output_type": "execute_result"
    },
    {
     "data": {
      "text/plain": [
       "(2430, 328)"
      ]
     },
     "execution_count": 4,
     "metadata": {},
     "output_type": "execute_result"
    },
    {
     "data": {
      "text/plain": [
       "(2443, 328)"
      ]
     },
     "execution_count": 4,
     "metadata": {},
     "output_type": "execute_result"
    },
    {
     "data": {
      "text/plain": [
       "(2460, 599)"
      ]
     },
     "execution_count": 4,
     "metadata": {},
     "output_type": "execute_result"
    },
    {
     "data": {
      "text/plain": [
       "(2517, 197)"
      ]
     },
     "execution_count": 4,
     "metadata": {},
     "output_type": "execute_result"
    }
   ],
   "source": [
    "import pandas as pd\n",
    "import numpy as np\n",
    "\n",
    "# read in CSV\n",
    "df2014 = pd.read_csv('https://raw.githubusercontent.com/fredpoon/ds_7331_jyrf_eda/master/Data_Prep/PublicSchools2014_MLnew.csv')\n",
    "df2015 = pd.read_csv('https://raw.githubusercontent.com/fredpoon/ds_7331_jyrf_eda/master/Data_Prep/PublicSchools2015_MLnew.csv')\n",
    "df2016 = pd.read_csv('https://raw.githubusercontent.com/fredpoon/ds_7331_jyrf_eda/master/Data_Prep/PublicSchools2016_MLnew.csv')\n",
    "df2017 = pd.read_csv('https://raw.githubusercontent.com/fredpoon/ds_7331_jyrf_eda/master/Data_Prep/PublicSchools2017_MLnew.csv')\n",
    "df2018 = pd.read_csv('https://raw.githubusercontent.com/fredpoon/ds_7331_jyrf_eda/master/Data_Prep/PublicSchools2018_MLnew.csv')\n",
    "df2019 = pd.read_csv('https://raw.githubusercontent.com/fredpoon/ds_7331_jyrf_eda/master/Data_Prep/PublicSchools2019_MLnew.csv')\n",
    "\n",
    "df2014.shape\n",
    "df2015.shape\n",
    "df2016.shape\n",
    "df2017.shape\n",
    "df2018.shape\n",
    "df2019.shape"
   ]
  },
  {
   "cell_type": "code",
   "execution_count": 19,
   "metadata": {
    "scrolled": true
   },
   "outputs": [
    {
     "data": {
      "text/plain": [
       "0       2014\n",
       "1       2014\n",
       "2       2014\n",
       "3       2014\n",
       "4       2014\n",
       "        ... \n",
       "9726    2017\n",
       "9727    2017\n",
       "9728    2017\n",
       "9729    2017\n",
       "9730    2017\n",
       "Name: Year, Length: 9731, dtype: int64"
      ]
     },
     "execution_count": 19,
     "metadata": {},
     "output_type": "execute_result"
    }
   ],
   "source": [
    "df2014['Year'] = 2014\n",
    "df2015['Year'] = 2015 \n",
    "df2016['Year'] = 2016 \n",
    "df2017['Year'] = 2017 \n",
    "df2018['Year'] = 2018 \n",
    "df2019['Year'] = 2019 \n",
    "\n",
    "frames = [df2014, df2015, df2016, df2017, df2018, df2019]\n",
    "df_comb_14to19 = pd.concat(frames,join='inner', ignore_index=True)\n",
    "\n",
    "frames = [df2014, df2015, df2016, df2017]\n",
    "df_comb_test = pd.concat(frames,join='inner', ignore_index=True)\n",
    "\n",
    "df_comb_test['Year']"
   ]
  },
  {
   "cell_type": "code",
   "execution_count": null,
   "metadata": {},
   "outputs": [],
   "source": [
    "#Location where the new school datasets will be created.\n",
    "outputDir = '/SMU_course/DS7331/'\n",
    "df_comb_test.to_csv(outputDir + 'PublicSchools2014to2017_YZ.csv', sep=',', index=False)"
   ]
  },
  {
   "cell_type": "markdown",
   "metadata": {},
   "source": [
    "The construction of this code chunk above is referenced from Dr. Drew's github repository, [https://github.com/jakemdrew/EducationDataNC](https://github.com/jakemdrew/EducationDataNC/tree/master/Data%20Documentation)"
   ]
  },
  {
   "cell_type": "markdown",
   "metadata": {},
   "source": [
    "### Data Workflow\n",
    "In the starting dataset, all the categoricial variables are stored as \"object\". In order to be able to utilize it in our machine learning model, we conduct several procedures to the dataset.\n",
    "\n",
    "<img align=\"center\" src=\"https://github.com/fredpoon/ds_7331_jyrf_eda/blob/master/Data_Workflow.PNG?raw=true\" alt=\"Data Workflow\" />\n",
    "\n",
    "The first step is a one-hot encoding procedure to convert all of them into continuous variables. The procedure is shown below."
   ]
  },
  {
   "cell_type": "markdown",
   "metadata": {},
   "source": [
    "### One-Hot Encoding"
   ]
  },
  {
   "cell_type": "code",
   "execution_count": 3,
   "metadata": {},
   "outputs": [
    {
     "data": {
      "text/html": [
       "<div>\n",
       "<style scoped>\n",
       "    .dataframe tbody tr th:only-of-type {\n",
       "        vertical-align: middle;\n",
       "    }\n",
       "\n",
       "    .dataframe tbody tr th {\n",
       "        vertical-align: top;\n",
       "    }\n",
       "\n",
       "    .dataframe thead th {\n",
       "        text-align: right;\n",
       "    }\n",
       "</style>\n",
       "<table border=\"1\" class=\"dataframe\">\n",
       "  <thead>\n",
       "    <tr style=\"text-align: right;\">\n",
       "      <th></th>\n",
       "      <th>vphone_ad</th>\n",
       "      <th>street_ad</th>\n",
       "      <th>scity_ad</th>\n",
       "      <th>szip_ad</th>\n",
       "      <th>category_cd</th>\n",
       "      <th>url_ad</th>\n",
       "      <th>grade_range_cd</th>\n",
       "      <th>calendar_type_txt</th>\n",
       "      <th>sna_pgm_type_cd</th>\n",
       "      <th>school_type_txt</th>\n",
       "      <th>...</th>\n",
       "      <th>MinorityFemalePct</th>\n",
       "      <th>MinorityMalePct</th>\n",
       "      <th>PacificIslandFemalePct</th>\n",
       "      <th>PacificIslandMalePct</th>\n",
       "      <th>PacificIslandPct</th>\n",
       "      <th>TwoOrMoreFemalePct</th>\n",
       "      <th>TwoOrMoreMalePct</th>\n",
       "      <th>TwoOrMorePct</th>\n",
       "      <th>unit_code</th>\n",
       "      <th>Year</th>\n",
       "    </tr>\n",
       "  </thead>\n",
       "  <tbody>\n",
       "    <tr>\n",
       "      <th>0</th>\n",
       "      <td>(336)506-4001</td>\n",
       "      <td>1247 Jimmie Kerr Road</td>\n",
       "      <td>Graham</td>\n",
       "      <td>27253.0</td>\n",
       "      <td>H</td>\n",
       "      <td>http://amc.abss.k12.nc.us</td>\n",
       "      <td>9-12</td>\n",
       "      <td>Regular School, Traditional Calendar</td>\n",
       "      <td>R</td>\n",
       "      <td>Regular School</td>\n",
       "      <td>...</td>\n",
       "      <td>0.243243</td>\n",
       "      <td>0.067568</td>\n",
       "      <td>0.000000</td>\n",
       "      <td>0.000000</td>\n",
       "      <td>0.00000</td>\n",
       "      <td>0.000000</td>\n",
       "      <td>0.013514</td>\n",
       "      <td>0.013514</td>\n",
       "      <td>10303</td>\n",
       "      <td>2014</td>\n",
       "    </tr>\n",
       "    <tr>\n",
       "      <th>1</th>\n",
       "      <td>(336)578-1366</td>\n",
       "      <td>2518 NC 54</td>\n",
       "      <td>Graham</td>\n",
       "      <td>27253.0</td>\n",
       "      <td>E</td>\n",
       "      <td>http://awe.abss.k12.nc.us</td>\n",
       "      <td>PK-5</td>\n",
       "      <td>Regular School, Traditional Calendar</td>\n",
       "      <td>R</td>\n",
       "      <td>Regular School</td>\n",
       "      <td>...</td>\n",
       "      <td>0.157699</td>\n",
       "      <td>0.163265</td>\n",
       "      <td>0.000000</td>\n",
       "      <td>0.000000</td>\n",
       "      <td>0.00000</td>\n",
       "      <td>0.014842</td>\n",
       "      <td>0.020408</td>\n",
       "      <td>0.035250</td>\n",
       "      <td>10304</td>\n",
       "      <td>2014</td>\n",
       "    </tr>\n",
       "    <tr>\n",
       "      <th>2</th>\n",
       "      <td>(336)538-6030</td>\n",
       "      <td>2832 N NC 87</td>\n",
       "      <td>Elon</td>\n",
       "      <td>27244.0</td>\n",
       "      <td>E</td>\n",
       "      <td>http://aoe.abss.k12.nc.us</td>\n",
       "      <td>K-5</td>\n",
       "      <td>Regular School, Traditional Calendar</td>\n",
       "      <td>R</td>\n",
       "      <td>Regular School</td>\n",
       "      <td>...</td>\n",
       "      <td>0.094096</td>\n",
       "      <td>0.107011</td>\n",
       "      <td>0.001845</td>\n",
       "      <td>0.001845</td>\n",
       "      <td>0.00369</td>\n",
       "      <td>0.011070</td>\n",
       "      <td>0.012915</td>\n",
       "      <td>0.023985</td>\n",
       "      <td>10308</td>\n",
       "      <td>2014</td>\n",
       "    </tr>\n",
       "    <tr>\n",
       "      <th>3</th>\n",
       "      <td>(336)570-6195</td>\n",
       "      <td>2229 Broadview Drive</td>\n",
       "      <td>Burlington</td>\n",
       "      <td>27217.0</td>\n",
       "      <td>M</td>\n",
       "      <td>http://brm.abss.k12.nc.us/</td>\n",
       "      <td>6-8</td>\n",
       "      <td>Regular School, Traditional Calendar</td>\n",
       "      <td>R</td>\n",
       "      <td>Regular School</td>\n",
       "      <td>...</td>\n",
       "      <td>0.445980</td>\n",
       "      <td>0.463568</td>\n",
       "      <td>0.000000</td>\n",
       "      <td>0.000000</td>\n",
       "      <td>0.00000</td>\n",
       "      <td>0.011307</td>\n",
       "      <td>0.013819</td>\n",
       "      <td>0.025126</td>\n",
       "      <td>10310</td>\n",
       "      <td>2014</td>\n",
       "    </tr>\n",
       "    <tr>\n",
       "      <th>4</th>\n",
       "      <td>(336)538-8700</td>\n",
       "      <td>3720 Bonnar Bridge Parkway</td>\n",
       "      <td>Burlington</td>\n",
       "      <td>27215.0</td>\n",
       "      <td>E</td>\n",
       "      <td>http://hle.abss.k12.nc.us</td>\n",
       "      <td>K-5</td>\n",
       "      <td>Regular School, Traditional Calendar</td>\n",
       "      <td>R</td>\n",
       "      <td>Regular School</td>\n",
       "      <td>...</td>\n",
       "      <td>0.164134</td>\n",
       "      <td>0.173252</td>\n",
       "      <td>0.000000</td>\n",
       "      <td>0.000000</td>\n",
       "      <td>0.00000</td>\n",
       "      <td>0.019757</td>\n",
       "      <td>0.028875</td>\n",
       "      <td>0.048632</td>\n",
       "      <td>10312</td>\n",
       "      <td>2014</td>\n",
       "    </tr>\n",
       "  </tbody>\n",
       "</table>\n",
       "<p>5 rows × 259 columns</p>\n",
       "</div>"
      ],
      "text/plain": [
       "       vphone_ad                   street_ad    scity_ad  szip_ad category_cd  \\\n",
       "0  (336)506-4001       1247 Jimmie Kerr Road      Graham  27253.0           H   \n",
       "1  (336)578-1366                  2518 NC 54      Graham  27253.0           E   \n",
       "2  (336)538-6030                2832 N NC 87        Elon  27244.0           E   \n",
       "3  (336)570-6195        2229 Broadview Drive  Burlington  27217.0           M   \n",
       "4  (336)538-8700  3720 Bonnar Bridge Parkway  Burlington  27215.0           E   \n",
       "\n",
       "                       url_ad grade_range_cd  \\\n",
       "0   http://amc.abss.k12.nc.us           9-12   \n",
       "1   http://awe.abss.k12.nc.us           PK-5   \n",
       "2   http://aoe.abss.k12.nc.us            K-5   \n",
       "3  http://brm.abss.k12.nc.us/            6-8   \n",
       "4   http://hle.abss.k12.nc.us            K-5   \n",
       "\n",
       "                      calendar_type_txt sna_pgm_type_cd school_type_txt  ...  \\\n",
       "0  Regular School, Traditional Calendar               R  Regular School  ...   \n",
       "1  Regular School, Traditional Calendar               R  Regular School  ...   \n",
       "2  Regular School, Traditional Calendar               R  Regular School  ...   \n",
       "3  Regular School, Traditional Calendar               R  Regular School  ...   \n",
       "4  Regular School, Traditional Calendar               R  Regular School  ...   \n",
       "\n",
       "  MinorityFemalePct MinorityMalePct PacificIslandFemalePct  \\\n",
       "0          0.243243        0.067568               0.000000   \n",
       "1          0.157699        0.163265               0.000000   \n",
       "2          0.094096        0.107011               0.001845   \n",
       "3          0.445980        0.463568               0.000000   \n",
       "4          0.164134        0.173252               0.000000   \n",
       "\n",
       "  PacificIslandMalePct  PacificIslandPct  TwoOrMoreFemalePct  \\\n",
       "0             0.000000           0.00000            0.000000   \n",
       "1             0.000000           0.00000            0.014842   \n",
       "2             0.001845           0.00369            0.011070   \n",
       "3             0.000000           0.00000            0.011307   \n",
       "4             0.000000           0.00000            0.019757   \n",
       "\n",
       "   TwoOrMoreMalePct TwoOrMorePct unit_code  Year  \n",
       "0          0.013514     0.013514     10303  2014  \n",
       "1          0.020408     0.035250     10304  2014  \n",
       "2          0.012915     0.023985     10308  2014  \n",
       "3          0.013819     0.025126     10310  2014  \n",
       "4          0.028875     0.048632     10312  2014  \n",
       "\n",
       "[5 rows x 259 columns]"
      ]
     },
     "execution_count": 3,
     "metadata": {},
     "output_type": "execute_result"
    }
   ],
   "source": [
    "import pandas as pd\n",
    "import numpy as np\n",
    "import matplotlib.pyplot as plt\n",
    "import seaborn as sns\n",
    "import warnings\n",
    "warnings.filterwarnings(\"ignore\")\n",
    "\n",
    "# For multiple line outputs\n",
    "from IPython.core.interactiveshell import InteractiveShell\n",
    "InteractiveShell.ast_node_interactivity = \"all\"\n",
    "\n",
    "# read in the csv file\n",
    "schoolData = pd.read_csv('https://raw.githubusercontent.com/fredpoon/ds_7331_jyrf_eda/master/PublicSchools2014to2017_YZ.csv') \n",
    "\n",
    "schoolData.head()"
   ]
  },
  {
   "cell_type": "code",
   "execution_count": 4,
   "metadata": {},
   "outputs": [
    {
     "name": "stdout",
     "output_type": "stream",
     "text": [
      "*********After: Removing columns with >= uniqueThreshold unique values***********\n",
      "<class 'pandas.core.frame.DataFrame'>\n",
      "RangeIndex: 9731 entries, 0 to 9730\n",
      "Columns: 250 entries, szip_ad to Year\n",
      "dtypes: float64(237), int64(2), object(11)\n",
      "memory usage: 18.6+ MB\n",
      "\n",
      "Columns Deleted:  9\n"
     ]
    }
   ],
   "source": [
    "#Locate the categorical variables in dataset\n",
    "sD_nominal = schoolData.loc[:, (schoolData.dtypes == object)]\n",
    "uniqueThreshold = 25\n",
    "\n",
    "#Delete categorical columns with > 25 unique values (Each unique value becomes a column during one-hot encoding)\n",
    "oneHotUniqueValueCounts = schoolData[sD_nominal.columns].apply(lambda x: x.nunique())\n",
    "oneHotUniqueValueCols = oneHotUniqueValueCounts[oneHotUniqueValueCounts >= uniqueThreshold].index\n",
    "schoolData.drop(oneHotUniqueValueCols, axis=1, inplace=True) \n",
    "\n",
    "#Review dataset contents one hot high unique value drops\n",
    "print('*********After: Removing columns with >= uniqueThreshold unique values***********')\n",
    "schoolData.info(verbose=False)\n",
    "print ('\\r\\nColumns Deleted: ', len(oneHotUniqueValueCols))"
   ]
  },
  {
   "cell_type": "markdown",
   "metadata": {},
   "source": [
    "#### SPG Grade - Response Variable\n",
    "\n",
    "\"SPG Grade\" is our response variable and \"SPG Score\" is the continous expression of it. \"SPG Score\" is a composite score calculated from schools' average scores based on multiple assessments. The \"SPG Grade\" is converted from \"SPG Score\" by ranges. We have to remove them from the original dataset."
   ]
  },
  {
   "cell_type": "code",
   "execution_count": 5,
   "metadata": {},
   "outputs": [
    {
     "name": "stdout",
     "output_type": "stream",
     "text": [
      "<class 'pandas.core.frame.DataFrame'>\n",
      "RangeIndex: 9731 entries, 0 to 9730\n",
      "Data columns (total 248 columns):\n",
      " #   Column                               Dtype  \n",
      "---  ------                               -----  \n",
      " 0   szip_ad                              float64\n",
      " 1   category_cd                          object \n",
      " 2   calendar_type_txt                    object \n",
      " 3   sna_pgm_type_cd                      object \n",
      " 4   school_type_txt                      object \n",
      " 5   calendar_only_txt                    object \n",
      " 6   title1_type_cd                       object \n",
      " 7   esea_status                          object \n",
      " 8   student_num                          float64\n",
      " 9   lea_avg_student_num                  float64\n",
      " 10  st_avg_student_num                   float64\n",
      " 11  Grad_project_status                  object \n",
      " 12  Math I_Size                          float64\n",
      " 13  lea_total_expense_num                float64\n",
      " 14  lea_salary_expense_pct               float64\n",
      " 15  lea_services_expense_pct             float64\n",
      " 16  lea_supplies_expense_pct             float64\n",
      " 17  lea_instruct_equip_exp_pct           float64\n",
      " 18  lea_federal_perpupil_num             float64\n",
      " 19  lea_local_perpupil_num               float64\n",
      " 20  lea_state_perpupil_num               float64\n",
      " 21  EVAAS Growth Status                  object \n",
      " 22  EVAAS Growth Score                   float64\n",
      " 23  Science Score                        float64\n",
      " 24  EOG/EOCSubjects_CACR_All             float64\n",
      " 25  EOGGr3_CACR_All                      float64\n",
      " 26  EOGGr4_CACR_All                      float64\n",
      " 27  EOGGr5_CACR_All                      float64\n",
      " 28  EOCMathI_CACR_AmericanIndian         float64\n",
      " 29  EOCSubjects_CACR_AmericanIndian      float64\n",
      " 30  EOG/EOCSubjects_CACR_AmericanIndian  float64\n",
      " 31  EOGGr3_CACR_AmericanIndian           float64\n",
      " 32  EOGGr4_CACR_AmericanIndian           float64\n",
      " 33  EOGGr5_CACR_AmericanIndian           float64\n",
      " 34  EOGMathGr3_CACR_AmericanIndian       float64\n",
      " 35  EOGMathGr3-8_CACR_AmericanIndian     float64\n",
      " 36  EOGMathGr4_CACR_AmericanIndian       float64\n",
      " 37  EOGMathGr5_CACR_AmericanIndian       float64\n",
      " 38  EOGReadingGr3-8_CACR_AmericanIndian  float64\n",
      " 39  EOGScienceGr5_CACR_AmericanIndian    float64\n",
      " 40  EOGScienceGr5&8_CACR_AmericanIndian  float64\n",
      " 41  EOGSubjects_CACR_AmericanIndian      float64\n",
      " 42  EOCMathI_CACR_Asian                  float64\n",
      " 43  EOCSubjects_CACR_Asian               float64\n",
      " 44  EOG/EOCSubjects_CACR_Asian           float64\n",
      " 45  EOGGr3_CACR_Asian                    float64\n",
      " 46  EOGGr4_CACR_Asian                    float64\n",
      " 47  EOGGr5_CACR_Asian                    float64\n",
      " 48  EOGMathGr3_CACR_Asian                float64\n",
      " 49  EOGMathGr3-8_CACR_Asian              float64\n",
      " 50  EOGMathGr4_CACR_Asian                float64\n",
      " 51  EOGMathGr5_CACR_Asian                float64\n",
      " 52  EOGScienceGr5&8_CACR_Asian           float64\n",
      " 53  EOGSubjects_CACR_Asian               float64\n",
      " 54  EOCMathI_CACR_Black                  float64\n",
      " 55  EOG/EOCSubjects_CACR_Black           float64\n",
      " 56  EOGGr3_CACR_Black                    float64\n",
      " 57  EOGGr4_CACR_Black                    float64\n",
      " 58  EOGGr5_CACR_Black                    float64\n",
      " 59  EOGMathGr3_CACR_Black                float64\n",
      " 60  EOGMathGr3-8_CACR_Black              float64\n",
      " 61  EOGMathGr4_CACR_Black                float64\n",
      " 62  EOGMathGr5_CACR_Black                float64\n",
      " 63  EOGReadingGr3_CACR_Black             float64\n",
      " 64  EOGReadingGr3-8_CACR_Black           float64\n",
      " 65  EOGReadingGr4_CACR_Black             float64\n",
      " 66  EOGReadingGr5_CACR_Black             float64\n",
      " 67  EOGScienceGr5_CACR_Black             float64\n",
      " 68  EOGScienceGr5&8_CACR_Black           float64\n",
      " 69  EOGSubjects_CACR_Black               float64\n",
      " 70  EOCMathI_CACR_Hispanic               float64\n",
      " 71  EOG/EOCSubjects_CACR_Hispanic        float64\n",
      " 72  EOGGr3_CACR_Hispanic                 float64\n",
      " 73  EOGGr4_CACR_Hispanic                 float64\n",
      " 74  EOGGr5_CACR_Hispanic                 float64\n",
      " 75  EOGMathGr3_CACR_Hispanic             float64\n",
      " 76  EOGMathGr3-8_CACR_Hispanic           float64\n",
      " 77  EOGMathGr4_CACR_Hispanic             float64\n",
      " 78  EOGMathGr5_CACR_Hispanic             float64\n",
      " 79  EOGReadingGr3_CACR_Hispanic          float64\n",
      " 80  EOGReadingGr3-8_CACR_Hispanic        float64\n",
      " 81  EOGReadingGr4_CACR_Hispanic          float64\n",
      " 82  EOGReadingGr5_CACR_Hispanic          float64\n",
      " 83  EOGScienceGr5&8_CACR_Hispanic        float64\n",
      " 84  EOGSubjects_CACR_Hispanic            float64\n",
      " 85  EOCMathI_CACR_TwoorMoreRaces         float64\n",
      " 86  EOCSubjects_CACR_TwoorMoreRaces      float64\n",
      " 87  EOG/EOCSubjects_CACR_TwoorMoreRaces  float64\n",
      " 88  EOGGr3_CACR_TwoorMoreRaces           float64\n",
      " 89  EOGGr4_CACR_TwoorMoreRaces           float64\n",
      " 90  EOGGr5_CACR_TwoorMoreRaces           float64\n",
      " 91  EOGMathGr3_CACR_TwoorMoreRaces       float64\n",
      " 92  EOGMathGr3-8_CACR_TwoorMoreRaces     float64\n",
      " 93  EOGMathGr4_CACR_TwoorMoreRaces       float64\n",
      " 94  EOGMathGr5_CACR_TwoorMoreRaces       float64\n",
      " 95  EOGReadingGr3-8_CACR_TwoorMoreRaces  float64\n",
      " 96  EOGScienceGr5&8_CACR_TwoorMoreRaces  float64\n",
      " 97  EOGSubjects_CACR_TwoorMoreRaces      float64\n",
      " 98  EOG/EOCSubjects_CACR_White           float64\n",
      " 99  EOGGr4_CACR_White                    float64\n",
      " 100 EOGMathGr3-8_CACR_White              float64\n",
      " 101 EOGScienceGr5&8_CACR_White           float64\n",
      " 102 EOCMathI_CACR_EDS                    float64\n",
      " 103 EOG/EOCSubjects_CACR_EDS             float64\n",
      " 104 EOGMathGr3-8_CACR_EDS                float64\n",
      " 105 EOGReadingGr3-8_CACR_EDS             float64\n",
      " 106 EOGReadingGr5_CACR_EDS               float64\n",
      " 107 EOGScienceGr5&8_CACR_EDS             float64\n",
      " 108 EOCMathI_CACR_LEP                    float64\n",
      " 109 EOCMathI_GLP_LEP                     float64\n",
      " 110 EOCSubjects_CACR_LEP                 float64\n",
      " 111 EOCSubjects_GLP_LEP                  float64\n",
      " 112 EOG/EOCSubjects_CACR_LEP             float64\n",
      " 113 EOGGr3_CACR_LEP                      float64\n",
      " 114 EOGGr4_CACR_LEP                      float64\n",
      " 115 EOGGr5_CACR_LEP                      float64\n",
      " 116 EOGMathGr3_CACR_LEP                  float64\n",
      " 117 EOGMathGr3-8_CACR_LEP                float64\n",
      " 118 EOGMathGr4_CACR_LEP                  float64\n",
      " 119 EOGMathGr5_CACR_LEP                  float64\n",
      " 120 EOGReadingGr3_CACR_LEP               float64\n",
      " 121 EOGReadingGr3-8_CACR_LEP             float64\n",
      " 122 EOGReadingGr3-8_GLP_LEP              float64\n",
      " 123 EOGReadingGr4_CACR_LEP               float64\n",
      " 124 EOGReadingGr4_GLP_LEP                float64\n",
      " 125 EOGReadingGr5_CACR_LEP               float64\n",
      " 126 EOGReadingGr5_GLP_LEP                float64\n",
      " 127 EOGScienceGr5_CACR_LEP               float64\n",
      " 128 EOGScienceGr5&8_CACR_LEP             float64\n",
      " 129 EOCMathI_CACR_SWD                    float64\n",
      " 130 EOCMathI_GLP_SWD                     float64\n",
      " 131 EOCSubjects_CACR_SWD                 float64\n",
      " 132 EOG/EOCSubjects_CACR_SWD             float64\n",
      " 133 EOGGr3_CACR_SWD                      float64\n",
      " 134 EOGGr4_CACR_SWD                      float64\n",
      " 135 EOGGr5_CACR_SWD                      float64\n",
      " 136 EOGMathGr3_CACR_SWD                  float64\n",
      " 137 EOGMathGr3_GLP_SWD                   float64\n",
      " 138 EOGMathGr3-8_CACR_SWD                float64\n",
      " 139 EOGMathGr4_CACR_SWD                  float64\n",
      " 140 EOGMathGr5_CACR_SWD                  float64\n",
      " 141 EOGReadingGr3_CACR_SWD               float64\n",
      " 142 EOGReadingGr3-8_CACR_SWD             float64\n",
      " 143 EOGReadingGr3-8_GLP_SWD              float64\n",
      " 144 EOGReadingGr4_CACR_SWD               float64\n",
      " 145 EOGReadingGr4_GLP_SWD                float64\n",
      " 146 EOGReadingGr5_CACR_SWD               float64\n",
      " 147 EOGReadingGr5_GLP_SWD                float64\n",
      " 148 EOGScienceGr5_CACR_SWD               float64\n",
      " 149 EOGScienceGr5&8_CACR_SWD             float64\n",
      " 150 EOGSubjects_CACR_SWD                 float64\n",
      " 151 EOCMathI_CACR_AIG                    float64\n",
      " 152 EOG/EOCSubjects_CACR_AIG             float64\n",
      " 153 EOGGr3_CACR_AIG                      float64\n",
      " 154 EOGGr4_CACR_AIG                      float64\n",
      " 155 EOGGr5_CACR_AIG                      float64\n",
      " 156 EOGMathGr3_CACR_AIG                  float64\n",
      " 157 EOGMathGr3-8_CACR_AIG                float64\n",
      " 158 EOGMathGr4_CACR_AIG                  float64\n",
      " 159 EOGMathGr5_CACR_AIG                  float64\n",
      " 160 EOGScienceGr5&8_CACR_AIG             float64\n",
      " 161 EOGSubjects_CACR_AIG                 float64\n",
      " 162 pct_GCE_ALL                          float64\n",
      " 163 MathGr3-8_pTarget_PctMet             float64\n",
      " 164 SciGr5&8_pTarget_PctMet              float64\n",
      " 165 TotalTargets_pTarget_PctMet          float64\n",
      " 166 Category_Cd                          object \n",
      " 167 lea_sat_avg_score_num                float64\n",
      " 168 lea_sat_participation_pct            float64\n",
      " 169 lea_ap_participation_pct             float64\n",
      " 170 lea_ap_pct_3_or_above                float64\n",
      " 171 lea_ib_pct_4_or_above                float64\n",
      " 172 avg_daily_attend_pct                 float64\n",
      " 173 crime_per_c_num                      float64\n",
      " 174 short_susp_per_c_num                 float64\n",
      " 175 long_susp_per_c_num                  float64\n",
      " 176 expelled_per_c_num                   float64\n",
      " 177 stud_internet_comp_num               float64\n",
      " 178 lea_avg_daily_attend_pct             float64\n",
      " 179 lea_crime_per_c_num                  float64\n",
      " 180 lea_short_susp_per_c_num             float64\n",
      " 181 lea_long_susp_per_c_num              float64\n",
      " 182 lea_expelled_per_c_num               float64\n",
      " 183 lea_stud_internet_comp_num           float64\n",
      " 184 st_crime_per_c_num                   float64\n",
      " 185 flicensed_teach_pct                  float64\n",
      " 186 tchyrs_0thru3_pct                    float64\n",
      " 187 tchyrs_4thru10_pct                   float64\n",
      " 188 tchyrs_11plus_pct                    float64\n",
      " 189 nbpts_num                            float64\n",
      " 190 advance_dgr_pct                      float64\n",
      " 191 _1yr_tchr_trnovr_pct                 float64\n",
      " 192 lateral_teach_pct                    float64\n",
      " 193 lea_flicensed_teach_pct              float64\n",
      " 194 lea_tchyrs_0thru3_pct                float64\n",
      " 195 lea_tchyrs_4thru10_pct               float64\n",
      " 196 lea_tchyrs_11plus_pct                float64\n",
      " 197 lea_nbpts_num                        float64\n",
      " 198 lea_advance_dgr_pct                  float64\n",
      " 199 lea_1yr_tchr_trnovr_pct              float64\n",
      " 200 lea_emer_prov_teach_pct              float64\n",
      " 201 st_flicensed_teach_pct               float64\n",
      " 202 st_tchyrs_0thru3_pct                 float64\n",
      " 203 st_1yr_tchr_trnovr_pct               float64\n",
      " 204 st_emer_prov_teach_pct               float64\n",
      " 205 0-3 Years_LEA_Exp_Pct_Prin           float64\n",
      " 206 10+ Years_LEA_Exp_Pct_Prin           float64\n",
      " 207 4-10 Years_LEA_Exp_Pct_Prin          float64\n",
      " 208 Accomplished_TCHR_Standard 1_Pct     float64\n",
      " 209 Accomplished_TCHR_Standard 2_Pct     float64\n",
      " 210 Accomplished_TCHR_Standard 3_Pct     float64\n",
      " 211 Accomplished_TCHR_Standard 4_Pct     float64\n",
      " 212 Accomplished_TCHR_Standard 5_Pct     float64\n",
      " 213 Developing_TCHR_Standard 1_Pct       float64\n",
      " 214 Developing_TCHR_Standard 2_Pct       float64\n",
      " 215 Developing_TCHR_Standard 3_Pct       float64\n",
      " 216 Developing_TCHR_Standard 4_Pct       float64\n",
      " 217 Developing_TCHR_Standard 5_Pct       float64\n",
      " 218 Distinguished_TCHR_Standard 1_Pct    float64\n",
      " 219 Distinguished_TCHR_Standard 2_Pct    float64\n",
      " 220 Distinguished_TCHR_Standard 3_Pct    float64\n",
      " 221 Distinguished_TCHR_Standard 4_Pct    float64\n",
      " 222 Distinguished_TCHR_Standard 5_Pct    float64\n",
      " 223 Not Demostrated_TCHR_Standard 1_Pct  float64\n",
      " 224 Not Demostrated_TCHR_Standard 2_Pct  float64\n",
      " 225 Not Demostrated_TCHR_Standard 4_Pct  float64\n",
      " 226 Proficient_TCHR_Standard 1_Pct       float64\n",
      " 227 Proficient_TCHR_Standard 2_Pct       float64\n",
      " 228 Proficient_TCHR_Standard 3_Pct       float64\n",
      " 229 Proficient_TCHR_Standard 4_Pct       float64\n",
      " 230 Proficient_TCHR_Standard 5_Pct       float64\n",
      " 231 AsianFemalePct                       float64\n",
      " 232 AsianMalePct                         float64\n",
      " 233 BlackFemalePct                       float64\n",
      " 234 BlackMalePct                         float64\n",
      " 235 HispanicFemalePct                    float64\n",
      " 236 HispanicMalePct                      float64\n",
      " 237 IndianFemalePct                      float64\n",
      " 238 MinorityFemalePct                    float64\n",
      " 239 MinorityMalePct                      float64\n",
      " 240 PacificIslandFemalePct               float64\n",
      " 241 PacificIslandMalePct                 float64\n",
      " 242 PacificIslandPct                     float64\n",
      " 243 TwoOrMoreFemalePct                   float64\n",
      " 244 TwoOrMoreMalePct                     float64\n",
      " 245 TwoOrMorePct                         float64\n",
      " 246 unit_code                            int64  \n",
      " 247 Year                                 int64  \n",
      "dtypes: float64(236), int64(2), object(10)\n",
      "memory usage: 18.4+ MB\n"
     ]
    }
   ],
   "source": [
    "#Keep an original copy of the Data\n",
    "schoolData_org = schoolData\n",
    "\n",
    "#Pop out the SPG information from the Data\n",
    "schoolData_SPG = schoolData.pop('SPG Grade')\n",
    "schoolData_SPGScore = schoolData.pop('SPG Score')\n",
    "\n",
    "schoolData.info(verbose=True)"
   ]
  },
  {
   "cell_type": "markdown",
   "metadata": {},
   "source": [
    "Per the analysis, we found that a few attributes were directly used to calculate our response variable. With this in mind, we'll remove these attributes from the dataset.  Features which are discarded include end-of-course, end-of-grade scores and any features related to EVAAS growth metrics. For example: EOG_XXX, EOC_XXX.\n",
    "<img align=\"center\" src=\"https://github.com/fredpoon/ds_7331_jyrf_eda/blob/master/SPG_brief.JPG?raw=true\" alt=\"SPG calculators\" />\n",
    "\n",
    "After removing them, we display the information of the variables to make sure we don't have them in the dataset anymore."
   ]
  },
  {
   "cell_type": "code",
   "execution_count": 6,
   "metadata": {},
   "outputs": [
    {
     "name": "stdout",
     "output_type": "stream",
     "text": [
      "<class 'pandas.core.frame.DataFrame'>\n",
      "RangeIndex: 9731 entries, 0 to 9730\n",
      "Data columns (total 107 columns):\n",
      " #   Column                               Dtype  \n",
      "---  ------                               -----  \n",
      " 0   szip_ad                              float64\n",
      " 1   category_cd                          object \n",
      " 2   calendar_type_txt                    object \n",
      " 3   sna_pgm_type_cd                      object \n",
      " 4   school_type_txt                      object \n",
      " 5   calendar_only_txt                    object \n",
      " 6   title1_type_cd                       object \n",
      " 7   esea_status                          object \n",
      " 8   student_num                          float64\n",
      " 9   lea_avg_student_num                  float64\n",
      " 10  st_avg_student_num                   float64\n",
      " 11  Grad_project_status                  object \n",
      " 12  Math I_Size                          float64\n",
      " 13  lea_total_expense_num                float64\n",
      " 14  lea_salary_expense_pct               float64\n",
      " 15  lea_services_expense_pct             float64\n",
      " 16  lea_supplies_expense_pct             float64\n",
      " 17  lea_instruct_equip_exp_pct           float64\n",
      " 18  lea_federal_perpupil_num             float64\n",
      " 19  lea_local_perpupil_num               float64\n",
      " 20  lea_state_perpupil_num               float64\n",
      " 21  pct_GCE_ALL                          float64\n",
      " 22  MathGr3-8_pTarget_PctMet             float64\n",
      " 23  SciGr5&8_pTarget_PctMet              float64\n",
      " 24  TotalTargets_pTarget_PctMet          float64\n",
      " 25  Category_Cd                          object \n",
      " 26  lea_sat_avg_score_num                float64\n",
      " 27  lea_sat_participation_pct            float64\n",
      " 28  lea_ap_participation_pct             float64\n",
      " 29  lea_ap_pct_3_or_above                float64\n",
      " 30  lea_ib_pct_4_or_above                float64\n",
      " 31  avg_daily_attend_pct                 float64\n",
      " 32  crime_per_c_num                      float64\n",
      " 33  short_susp_per_c_num                 float64\n",
      " 34  long_susp_per_c_num                  float64\n",
      " 35  expelled_per_c_num                   float64\n",
      " 36  stud_internet_comp_num               float64\n",
      " 37  lea_avg_daily_attend_pct             float64\n",
      " 38  lea_crime_per_c_num                  float64\n",
      " 39  lea_short_susp_per_c_num             float64\n",
      " 40  lea_long_susp_per_c_num              float64\n",
      " 41  lea_expelled_per_c_num               float64\n",
      " 42  lea_stud_internet_comp_num           float64\n",
      " 43  st_crime_per_c_num                   float64\n",
      " 44  flicensed_teach_pct                  float64\n",
      " 45  tchyrs_0thru3_pct                    float64\n",
      " 46  tchyrs_4thru10_pct                   float64\n",
      " 47  tchyrs_11plus_pct                    float64\n",
      " 48  nbpts_num                            float64\n",
      " 49  advance_dgr_pct                      float64\n",
      " 50  _1yr_tchr_trnovr_pct                 float64\n",
      " 51  lateral_teach_pct                    float64\n",
      " 52  lea_flicensed_teach_pct              float64\n",
      " 53  lea_tchyrs_0thru3_pct                float64\n",
      " 54  lea_tchyrs_4thru10_pct               float64\n",
      " 55  lea_tchyrs_11plus_pct                float64\n",
      " 56  lea_nbpts_num                        float64\n",
      " 57  lea_advance_dgr_pct                  float64\n",
      " 58  lea_1yr_tchr_trnovr_pct              float64\n",
      " 59  lea_emer_prov_teach_pct              float64\n",
      " 60  st_flicensed_teach_pct               float64\n",
      " 61  st_tchyrs_0thru3_pct                 float64\n",
      " 62  st_1yr_tchr_trnovr_pct               float64\n",
      " 63  st_emer_prov_teach_pct               float64\n",
      " 64  0-3 Years_LEA_Exp_Pct_Prin           float64\n",
      " 65  10+ Years_LEA_Exp_Pct_Prin           float64\n",
      " 66  4-10 Years_LEA_Exp_Pct_Prin          float64\n",
      " 67  Accomplished_TCHR_Standard 1_Pct     float64\n",
      " 68  Accomplished_TCHR_Standard 2_Pct     float64\n",
      " 69  Accomplished_TCHR_Standard 3_Pct     float64\n",
      " 70  Accomplished_TCHR_Standard 4_Pct     float64\n",
      " 71  Accomplished_TCHR_Standard 5_Pct     float64\n",
      " 72  Developing_TCHR_Standard 1_Pct       float64\n",
      " 73  Developing_TCHR_Standard 2_Pct       float64\n",
      " 74  Developing_TCHR_Standard 3_Pct       float64\n",
      " 75  Developing_TCHR_Standard 4_Pct       float64\n",
      " 76  Developing_TCHR_Standard 5_Pct       float64\n",
      " 77  Distinguished_TCHR_Standard 1_Pct    float64\n",
      " 78  Distinguished_TCHR_Standard 2_Pct    float64\n",
      " 79  Distinguished_TCHR_Standard 3_Pct    float64\n",
      " 80  Distinguished_TCHR_Standard 4_Pct    float64\n",
      " 81  Distinguished_TCHR_Standard 5_Pct    float64\n",
      " 82  Not Demostrated_TCHR_Standard 1_Pct  float64\n",
      " 83  Not Demostrated_TCHR_Standard 2_Pct  float64\n",
      " 84  Not Demostrated_TCHR_Standard 4_Pct  float64\n",
      " 85  Proficient_TCHR_Standard 1_Pct       float64\n",
      " 86  Proficient_TCHR_Standard 2_Pct       float64\n",
      " 87  Proficient_TCHR_Standard 3_Pct       float64\n",
      " 88  Proficient_TCHR_Standard 4_Pct       float64\n",
      " 89  Proficient_TCHR_Standard 5_Pct       float64\n",
      " 90  AsianFemalePct                       float64\n",
      " 91  AsianMalePct                         float64\n",
      " 92  BlackFemalePct                       float64\n",
      " 93  BlackMalePct                         float64\n",
      " 94  HispanicFemalePct                    float64\n",
      " 95  HispanicMalePct                      float64\n",
      " 96  IndianFemalePct                      float64\n",
      " 97  MinorityFemalePct                    float64\n",
      " 98  MinorityMalePct                      float64\n",
      " 99  PacificIslandFemalePct               float64\n",
      " 100 PacificIslandMalePct                 float64\n",
      " 101 PacificIslandPct                     float64\n",
      " 102 TwoOrMoreFemalePct                   float64\n",
      " 103 TwoOrMoreMalePct                     float64\n",
      " 104 TwoOrMorePct                         float64\n",
      " 105 unit_code                            int64  \n",
      " 106 Year                                 int64  \n",
      "dtypes: float64(96), int64(2), object(9)\n",
      "memory usage: 7.9+ MB\n"
     ]
    }
   ],
   "source": [
    "# Remove All the Columns that directly used to calculate SPG Grade and Score\n",
    "schoolData.drop(schoolData.iloc[:, 21:162], inplace=True, axis=1)\n",
    "schoolData.info(verbose=True)"
   ]
  },
  {
   "cell_type": "markdown",
   "metadata": {},
   "source": [
    "The below procedure do the one-hot encoding for the left categorical variable. As shown below we have a total of 20 categorical variables to encode and we end up with 40 variables after the encoding process."
   ]
  },
  {
   "cell_type": "code",
   "execution_count": 7,
   "metadata": {},
   "outputs": [
    {
     "name": "stdout",
     "output_type": "stream",
     "text": [
      "Columns To One-Hot Encode:  20\n",
      "\n",
      "*********After: Adding New Columns Via One-Hot Encoding*************************\n",
      "<class 'pandas.core.frame.DataFrame'>\n",
      "RangeIndex: 9731 entries, 0 to 9730\n",
      "Columns: 145 entries, szip_ad to Category_Cd_T\n",
      "dtypes: float64(96), int64(2), uint8(47)\n",
      "memory usage: 7.7 MB\n",
      "\n",
      "New Columns Created Via One-Hot Encoding:  38\n"
     ]
    }
   ],
   "source": [
    "#Isolate remaining categorical variables\n",
    "begColumnCt = len(schoolData.columns)\n",
    "\n",
    "#one hot encode categorical variables\n",
    "schoolData = pd.get_dummies(data=schoolData,drop_first=True)\n",
    "\n",
    "#Determine change in column count\n",
    "endColumnCt = len(schoolData.columns)\n",
    "columnsAdded = endColumnCt - begColumnCt\n",
    "\n",
    "#Review dataset contents one hot high unique value drops\n",
    "print('Columns To One-Hot Encode: ', len(sD_nominal.columns))\n",
    "print('\\r\\n*********After: Adding New Columns Via One-Hot Encoding*************************')\n",
    "schoolData.info(verbose=False)\n",
    "print ('\\r\\nNew Columns Created Via One-Hot Encoding: ', columnsAdded)"
   ]
  },
  {
   "cell_type": "markdown",
   "metadata": {},
   "source": [
    "A dimension check of the dataset after the one-hot encoding process shows that we have a total of 9371 records with 148 seperate variables. All of the variables are in numerical format now."
   ]
  },
  {
   "cell_type": "code",
   "execution_count": 8,
   "metadata": {},
   "outputs": [
    {
     "data": {
      "text/plain": [
       "(9731, 145)"
      ]
     },
     "execution_count": 8,
     "metadata": {},
     "output_type": "execute_result"
    },
    {
     "data": {
      "text/html": [
       "<div>\n",
       "<style scoped>\n",
       "    .dataframe tbody tr th:only-of-type {\n",
       "        vertical-align: middle;\n",
       "    }\n",
       "\n",
       "    .dataframe tbody tr th {\n",
       "        vertical-align: top;\n",
       "    }\n",
       "\n",
       "    .dataframe thead th {\n",
       "        text-align: right;\n",
       "    }\n",
       "</style>\n",
       "<table border=\"1\" class=\"dataframe\">\n",
       "  <thead>\n",
       "    <tr style=\"text-align: right;\">\n",
       "      <th></th>\n",
       "      <th>szip_ad</th>\n",
       "      <th>student_num</th>\n",
       "      <th>lea_avg_student_num</th>\n",
       "      <th>st_avg_student_num</th>\n",
       "      <th>Math I_Size</th>\n",
       "      <th>lea_total_expense_num</th>\n",
       "      <th>lea_salary_expense_pct</th>\n",
       "      <th>lea_services_expense_pct</th>\n",
       "      <th>lea_supplies_expense_pct</th>\n",
       "      <th>lea_instruct_equip_exp_pct</th>\n",
       "      <th>...</th>\n",
       "      <th>esea_status_RF</th>\n",
       "      <th>esea_status_RP</th>\n",
       "      <th>Grad_project_status_N</th>\n",
       "      <th>Grad_project_status_Y</th>\n",
       "      <th>Category_Cd_A</th>\n",
       "      <th>Category_Cd_E</th>\n",
       "      <th>Category_Cd_H</th>\n",
       "      <th>Category_Cd_I</th>\n",
       "      <th>Category_Cd_M</th>\n",
       "      <th>Category_Cd_T</th>\n",
       "    </tr>\n",
       "  </thead>\n",
       "  <tbody>\n",
       "    <tr>\n",
       "      <th>0</th>\n",
       "      <td>27253.0</td>\n",
       "      <td>78.0</td>\n",
       "      <td>954.0</td>\n",
       "      <td>837.0</td>\n",
       "      <td>0.0</td>\n",
       "      <td>8028.59</td>\n",
       "      <td>0.613</td>\n",
       "      <td>0.078</td>\n",
       "      <td>0.086</td>\n",
       "      <td>0.011</td>\n",
       "      <td>...</td>\n",
       "      <td>0</td>\n",
       "      <td>0</td>\n",
       "      <td>1</td>\n",
       "      <td>0</td>\n",
       "      <td>0</td>\n",
       "      <td>0</td>\n",
       "      <td>1</td>\n",
       "      <td>0</td>\n",
       "      <td>0</td>\n",
       "      <td>0</td>\n",
       "    </tr>\n",
       "    <tr>\n",
       "      <th>1</th>\n",
       "      <td>27253.0</td>\n",
       "      <td>539.0</td>\n",
       "      <td>518.0</td>\n",
       "      <td>496.0</td>\n",
       "      <td>0.0</td>\n",
       "      <td>8028.59</td>\n",
       "      <td>0.613</td>\n",
       "      <td>0.078</td>\n",
       "      <td>0.086</td>\n",
       "      <td>0.011</td>\n",
       "      <td>...</td>\n",
       "      <td>0</td>\n",
       "      <td>0</td>\n",
       "      <td>0</td>\n",
       "      <td>0</td>\n",
       "      <td>0</td>\n",
       "      <td>1</td>\n",
       "      <td>0</td>\n",
       "      <td>0</td>\n",
       "      <td>0</td>\n",
       "      <td>0</td>\n",
       "    </tr>\n",
       "    <tr>\n",
       "      <th>2</th>\n",
       "      <td>27244.0</td>\n",
       "      <td>547.0</td>\n",
       "      <td>518.0</td>\n",
       "      <td>496.0</td>\n",
       "      <td>0.0</td>\n",
       "      <td>8028.59</td>\n",
       "      <td>0.613</td>\n",
       "      <td>0.078</td>\n",
       "      <td>0.086</td>\n",
       "      <td>0.011</td>\n",
       "      <td>...</td>\n",
       "      <td>0</td>\n",
       "      <td>0</td>\n",
       "      <td>0</td>\n",
       "      <td>0</td>\n",
       "      <td>0</td>\n",
       "      <td>1</td>\n",
       "      <td>0</td>\n",
       "      <td>0</td>\n",
       "      <td>0</td>\n",
       "      <td>0</td>\n",
       "    </tr>\n",
       "    <tr>\n",
       "      <th>3</th>\n",
       "      <td>27217.0</td>\n",
       "      <td>800.0</td>\n",
       "      <td>768.0</td>\n",
       "      <td>665.0</td>\n",
       "      <td>26.0</td>\n",
       "      <td>8028.59</td>\n",
       "      <td>0.613</td>\n",
       "      <td>0.078</td>\n",
       "      <td>0.086</td>\n",
       "      <td>0.011</td>\n",
       "      <td>...</td>\n",
       "      <td>0</td>\n",
       "      <td>0</td>\n",
       "      <td>0</td>\n",
       "      <td>0</td>\n",
       "      <td>0</td>\n",
       "      <td>0</td>\n",
       "      <td>0</td>\n",
       "      <td>0</td>\n",
       "      <td>1</td>\n",
       "      <td>0</td>\n",
       "    </tr>\n",
       "    <tr>\n",
       "      <th>4</th>\n",
       "      <td>27215.0</td>\n",
       "      <td>664.0</td>\n",
       "      <td>518.0</td>\n",
       "      <td>496.0</td>\n",
       "      <td>0.0</td>\n",
       "      <td>8028.59</td>\n",
       "      <td>0.613</td>\n",
       "      <td>0.078</td>\n",
       "      <td>0.086</td>\n",
       "      <td>0.011</td>\n",
       "      <td>...</td>\n",
       "      <td>0</td>\n",
       "      <td>0</td>\n",
       "      <td>0</td>\n",
       "      <td>0</td>\n",
       "      <td>0</td>\n",
       "      <td>1</td>\n",
       "      <td>0</td>\n",
       "      <td>0</td>\n",
       "      <td>0</td>\n",
       "      <td>0</td>\n",
       "    </tr>\n",
       "  </tbody>\n",
       "</table>\n",
       "<p>5 rows × 145 columns</p>\n",
       "</div>"
      ],
      "text/plain": [
       "   szip_ad  student_num  lea_avg_student_num  st_avg_student_num  Math I_Size  \\\n",
       "0  27253.0         78.0                954.0               837.0          0.0   \n",
       "1  27253.0        539.0                518.0               496.0          0.0   \n",
       "2  27244.0        547.0                518.0               496.0          0.0   \n",
       "3  27217.0        800.0                768.0               665.0         26.0   \n",
       "4  27215.0        664.0                518.0               496.0          0.0   \n",
       "\n",
       "   lea_total_expense_num  lea_salary_expense_pct  lea_services_expense_pct  \\\n",
       "0                8028.59                   0.613                     0.078   \n",
       "1                8028.59                   0.613                     0.078   \n",
       "2                8028.59                   0.613                     0.078   \n",
       "3                8028.59                   0.613                     0.078   \n",
       "4                8028.59                   0.613                     0.078   \n",
       "\n",
       "   lea_supplies_expense_pct  lea_instruct_equip_exp_pct  ...  esea_status_RF  \\\n",
       "0                     0.086                       0.011  ...               0   \n",
       "1                     0.086                       0.011  ...               0   \n",
       "2                     0.086                       0.011  ...               0   \n",
       "3                     0.086                       0.011  ...               0   \n",
       "4                     0.086                       0.011  ...               0   \n",
       "\n",
       "   esea_status_RP  Grad_project_status_N  Grad_project_status_Y  \\\n",
       "0               0                      1                      0   \n",
       "1               0                      0                      0   \n",
       "2               0                      0                      0   \n",
       "3               0                      0                      0   \n",
       "4               0                      0                      0   \n",
       "\n",
       "   Category_Cd_A  Category_Cd_E  Category_Cd_H  Category_Cd_I  Category_Cd_M  \\\n",
       "0              0              0              1              0              0   \n",
       "1              0              1              0              0              0   \n",
       "2              0              1              0              0              0   \n",
       "3              0              0              0              0              1   \n",
       "4              0              1              0              0              0   \n",
       "\n",
       "   Category_Cd_T  \n",
       "0              0  \n",
       "1              0  \n",
       "2              0  \n",
       "3              0  \n",
       "4              0  \n",
       "\n",
       "[5 rows x 145 columns]"
      ]
     },
     "execution_count": 8,
     "metadata": {},
     "output_type": "execute_result"
    }
   ],
   "source": [
    "# Dimension of Dataset\n",
    "schoolData.shape\n",
    "\n",
    "schoolData.head()"
   ]
  },
  {
   "cell_type": "markdown",
   "metadata": {},
   "source": [
    "### Feature Selection"
   ]
  },
  {
   "cell_type": "markdown",
   "metadata": {},
   "source": [
    "We original have 148 features in the data table. We don't want to include this many features for model feasibility. However, as we have a data size requirement, and we also want the constructing model to be high quality. We decide to conduct a feature selection process to choose the most important features to use.\n",
    "\n",
    "There are many ways to conduct feature selection. In this project we use random forest and plot out feature importances of all features. The work below is not for feasible model construction (we didn't split train/test) but just for picking out the most important variables to use.  "
   ]
  },
  {
   "cell_type": "code",
   "execution_count": 9,
   "metadata": {},
   "outputs": [
    {
     "data": {
      "text/plain": [
       "RandomForestClassifier(bootstrap=True, ccp_alpha=0.0, class_weight=None,\n",
       "                       criterion='gini', max_depth=None, max_features='auto',\n",
       "                       max_leaf_nodes=None, max_samples=None,\n",
       "                       min_impurity_decrease=0.0, min_impurity_split=None,\n",
       "                       min_samples_leaf=1, min_samples_split=2,\n",
       "                       min_weight_fraction_leaf=0.0, n_estimators=100,\n",
       "                       n_jobs=None, oob_score=False, random_state=None,\n",
       "                       verbose=0, warm_start=False)"
      ]
     },
     "execution_count": 9,
     "metadata": {},
     "output_type": "execute_result"
    }
   ],
   "source": [
    "# Random Forest apply to X with all variables\n",
    "from sklearn.ensemble import RandomForestClassifier\n",
    "clfa=RandomForestClassifier(n_estimators=100)\n",
    "clfa.fit(schoolData,schoolData_SPG)\n",
    "y_pred=clfa.predict(schoolData)"
   ]
  },
  {
   "cell_type": "markdown",
   "metadata": {},
   "source": [
    "Accuracy = 1.0 does not surprise us because we didn't to train/test splitting. "
   ]
  },
  {
   "cell_type": "code",
   "execution_count": 10,
   "metadata": {},
   "outputs": [
    {
     "name": "stdout",
     "output_type": "stream",
     "text": [
      "Accuracy: 1.0\n"
     ]
    }
   ],
   "source": [
    "from sklearn import metrics\n",
    "print(\"Accuracy:\",metrics.accuracy_score(schoolData_SPG, y_pred))"
   ]
  },
  {
   "cell_type": "markdown",
   "metadata": {},
   "source": [
    "Below plot reflect what features are important and their according weights."
   ]
  },
  {
   "cell_type": "code",
   "execution_count": 11,
   "metadata": {},
   "outputs": [
    {
     "data": {
      "text/html": [
       "\n",
       "    <style>\n",
       "    table.eli5-weights tr:hover {\n",
       "        filter: brightness(85%);\n",
       "    }\n",
       "</style>\n",
       "\n",
       "\n",
       "\n",
       "    \n",
       "\n",
       "    \n",
       "\n",
       "    \n",
       "\n",
       "    \n",
       "\n",
       "    \n",
       "\n",
       "    \n",
       "\n",
       "\n",
       "    \n",
       "\n",
       "    \n",
       "\n",
       "    \n",
       "\n",
       "    \n",
       "\n",
       "    \n",
       "\n",
       "    \n",
       "\n",
       "\n",
       "    \n",
       "\n",
       "    \n",
       "\n",
       "    \n",
       "\n",
       "    \n",
       "\n",
       "    \n",
       "        <table class=\"eli5-weights eli5-feature-importances\" style=\"border-collapse: collapse; border: none; margin-top: 0em; table-layout: auto;\">\n",
       "    <thead>\n",
       "    <tr style=\"border: none;\">\n",
       "        <th style=\"padding: 0 1em 0 0.5em; text-align: right; border: none;\">Weight</th>\n",
       "        <th style=\"padding: 0 0.5em 0 0.5em; text-align: left; border: none;\">Feature</th>\n",
       "    </tr>\n",
       "    </thead>\n",
       "    <tbody>\n",
       "    \n",
       "        <tr style=\"background-color: hsl(120, 100.00%, 80.00%); border: none;\">\n",
       "            <td style=\"padding: 0 1em 0 0.5em; text-align: right; border: none;\">\n",
       "                0.0368\n",
       "                \n",
       "                    &plusmn; 0.0037\n",
       "                \n",
       "            </td>\n",
       "            <td style=\"padding: 0 0.5em 0 0.5em; text-align: left; border: none;\">\n",
       "                TotalTargets_pTarget_PctMet\n",
       "            </td>\n",
       "        </tr>\n",
       "    \n",
       "        <tr style=\"background-color: hsl(120, 100.00%, 93.96%); border: none;\">\n",
       "            <td style=\"padding: 0 1em 0 0.5em; text-align: right; border: none;\">\n",
       "                0.0067\n",
       "                \n",
       "                    &plusmn; 0.0008\n",
       "                \n",
       "            </td>\n",
       "            <td style=\"padding: 0 0.5em 0 0.5em; text-align: left; border: none;\">\n",
       "                MinorityFemalePct\n",
       "            </td>\n",
       "        </tr>\n",
       "    \n",
       "        <tr style=\"background-color: hsl(120, 100.00%, 94.15%); border: none;\">\n",
       "            <td style=\"padding: 0 1em 0 0.5em; text-align: right; border: none;\">\n",
       "                0.0064\n",
       "                \n",
       "                    &plusmn; 0.0013\n",
       "                \n",
       "            </td>\n",
       "            <td style=\"padding: 0 0.5em 0 0.5em; text-align: left; border: none;\">\n",
       "                MinorityMalePct\n",
       "            </td>\n",
       "        </tr>\n",
       "    \n",
       "        <tr style=\"background-color: hsl(120, 100.00%, 96.97%); border: none;\">\n",
       "            <td style=\"padding: 0 1em 0 0.5em; text-align: right; border: none;\">\n",
       "                0.0025\n",
       "                \n",
       "                    &plusmn; 0.0006\n",
       "                \n",
       "            </td>\n",
       "            <td style=\"padding: 0 0.5em 0 0.5em; text-align: left; border: none;\">\n",
       "                short_susp_per_c_num\n",
       "            </td>\n",
       "        </tr>\n",
       "    \n",
       "        <tr style=\"background-color: hsl(120, 100.00%, 98.06%); border: none;\">\n",
       "            <td style=\"padding: 0 1em 0 0.5em; text-align: right; border: none;\">\n",
       "                0.0013\n",
       "                \n",
       "                    &plusmn; 0.0003\n",
       "                \n",
       "            </td>\n",
       "            <td style=\"padding: 0 0.5em 0 0.5em; text-align: left; border: none;\">\n",
       "                title1_type_cd_Y\n",
       "            </td>\n",
       "        </tr>\n",
       "    \n",
       "        <tr style=\"background-color: hsl(120, 100.00%, 98.41%); border: none;\">\n",
       "            <td style=\"padding: 0 1em 0 0.5em; text-align: right; border: none;\">\n",
       "                0.0010\n",
       "                \n",
       "                    &plusmn; 0.0003\n",
       "                \n",
       "            </td>\n",
       "            <td style=\"padding: 0 0.5em 0 0.5em; text-align: left; border: none;\">\n",
       "                AsianFemalePct\n",
       "            </td>\n",
       "        </tr>\n",
       "    \n",
       "        <tr style=\"background-color: hsl(120, 100.00%, 98.48%); border: none;\">\n",
       "            <td style=\"padding: 0 1em 0 0.5em; text-align: right; border: none;\">\n",
       "                0.0009\n",
       "                \n",
       "                    &plusmn; 0.0003\n",
       "                \n",
       "            </td>\n",
       "            <td style=\"padding: 0 0.5em 0 0.5em; text-align: left; border: none;\">\n",
       "                avg_daily_attend_pct\n",
       "            </td>\n",
       "        </tr>\n",
       "    \n",
       "        <tr style=\"background-color: hsl(120, 100.00%, 98.78%); border: none;\">\n",
       "            <td style=\"padding: 0 1em 0 0.5em; text-align: right; border: none;\">\n",
       "                0.0007\n",
       "                \n",
       "                    &plusmn; 0.0004\n",
       "                \n",
       "            </td>\n",
       "            <td style=\"padding: 0 0.5em 0 0.5em; text-align: left; border: none;\">\n",
       "                BlackMalePct\n",
       "            </td>\n",
       "        </tr>\n",
       "    \n",
       "        <tr style=\"background-color: hsl(120, 100.00%, 99.08%); border: none;\">\n",
       "            <td style=\"padding: 0 1em 0 0.5em; text-align: right; border: none;\">\n",
       "                0.0005\n",
       "                \n",
       "                    &plusmn; 0.0005\n",
       "                \n",
       "            </td>\n",
       "            <td style=\"padding: 0 0.5em 0 0.5em; text-align: left; border: none;\">\n",
       "                HispanicMalePct\n",
       "            </td>\n",
       "        </tr>\n",
       "    \n",
       "        <tr style=\"background-color: hsl(120, 100.00%, 99.14%); border: none;\">\n",
       "            <td style=\"padding: 0 1em 0 0.5em; text-align: right; border: none;\">\n",
       "                0.0004\n",
       "                \n",
       "                    &plusmn; 0.0003\n",
       "                \n",
       "            </td>\n",
       "            <td style=\"padding: 0 0.5em 0 0.5em; text-align: left; border: none;\">\n",
       "                MathGr3-8_pTarget_PctMet\n",
       "            </td>\n",
       "        </tr>\n",
       "    \n",
       "        <tr style=\"background-color: hsl(120, 100.00%, 99.33%); border: none;\">\n",
       "            <td style=\"padding: 0 1em 0 0.5em; text-align: right; border: none;\">\n",
       "                0.0003\n",
       "                \n",
       "                    &plusmn; 0.0002\n",
       "                \n",
       "            </td>\n",
       "            <td style=\"padding: 0 0.5em 0 0.5em; text-align: left; border: none;\">\n",
       "                BlackFemalePct\n",
       "            </td>\n",
       "        </tr>\n",
       "    \n",
       "        <tr style=\"background-color: hsl(120, 100.00%, 99.36%); border: none;\">\n",
       "            <td style=\"padding: 0 1em 0 0.5em; text-align: right; border: none;\">\n",
       "                0.0003\n",
       "                \n",
       "                    &plusmn; 0.0002\n",
       "                \n",
       "            </td>\n",
       "            <td style=\"padding: 0 0.5em 0 0.5em; text-align: left; border: none;\">\n",
       "                nbpts_num\n",
       "            </td>\n",
       "        </tr>\n",
       "    \n",
       "        <tr style=\"background-color: hsl(120, 100.00%, 99.59%); border: none;\">\n",
       "            <td style=\"padding: 0 1em 0 0.5em; text-align: right; border: none;\">\n",
       "                0.0001\n",
       "                \n",
       "                    &plusmn; 0.0001\n",
       "                \n",
       "            </td>\n",
       "            <td style=\"padding: 0 0.5em 0 0.5em; text-align: left; border: none;\">\n",
       "                advance_dgr_pct\n",
       "            </td>\n",
       "        </tr>\n",
       "    \n",
       "        <tr style=\"background-color: hsl(120, 100.00%, 99.63%); border: none;\">\n",
       "            <td style=\"padding: 0 1em 0 0.5em; text-align: right; border: none;\">\n",
       "                0.0001\n",
       "                \n",
       "                    &plusmn; 0.0001\n",
       "                \n",
       "            </td>\n",
       "            <td style=\"padding: 0 0.5em 0 0.5em; text-align: left; border: none;\">\n",
       "                AsianMalePct\n",
       "            </td>\n",
       "        </tr>\n",
       "    \n",
       "        <tr style=\"background-color: hsl(120, 100.00%, 99.63%); border: none;\">\n",
       "            <td style=\"padding: 0 1em 0 0.5em; text-align: right; border: none;\">\n",
       "                0.0001\n",
       "                \n",
       "                    &plusmn; 0.0002\n",
       "                \n",
       "            </td>\n",
       "            <td style=\"padding: 0 0.5em 0 0.5em; text-align: left; border: none;\">\n",
       "                HispanicFemalePct\n",
       "            </td>\n",
       "        </tr>\n",
       "    \n",
       "        <tr style=\"background-color: hsl(120, 100.00%, 99.77%); border: none;\">\n",
       "            <td style=\"padding: 0 1em 0 0.5em; text-align: right; border: none;\">\n",
       "                0.0001\n",
       "                \n",
       "                    &plusmn; 0.0001\n",
       "                \n",
       "            </td>\n",
       "            <td style=\"padding: 0 0.5em 0 0.5em; text-align: left; border: none;\">\n",
       "                SciGr5&amp;8_pTarget_PctMet\n",
       "            </td>\n",
       "        </tr>\n",
       "    \n",
       "        <tr style=\"background-color: hsl(120, 100.00%, 99.77%); border: none;\">\n",
       "            <td style=\"padding: 0 1em 0 0.5em; text-align: right; border: none;\">\n",
       "                0.0001\n",
       "                \n",
       "                    &plusmn; 0.0001\n",
       "                \n",
       "            </td>\n",
       "            <td style=\"padding: 0 0.5em 0 0.5em; text-align: left; border: none;\">\n",
       "                lea_ap_participation_pct\n",
       "            </td>\n",
       "        </tr>\n",
       "    \n",
       "        <tr style=\"background-color: hsl(120, 100.00%, 99.77%); border: none;\">\n",
       "            <td style=\"padding: 0 1em 0 0.5em; text-align: right; border: none;\">\n",
       "                0.0001\n",
       "                \n",
       "                    &plusmn; 0.0001\n",
       "                \n",
       "            </td>\n",
       "            <td style=\"padding: 0 0.5em 0 0.5em; text-align: left; border: none;\">\n",
       "                lea_ap_pct_3_or_above\n",
       "            </td>\n",
       "        </tr>\n",
       "    \n",
       "        <tr style=\"background-color: hsl(120, 100.00%, 99.77%); border: none;\">\n",
       "            <td style=\"padding: 0 1em 0 0.5em; text-align: right; border: none;\">\n",
       "                0.0001\n",
       "                \n",
       "                    &plusmn; 0.0001\n",
       "                \n",
       "            </td>\n",
       "            <td style=\"padding: 0 0.5em 0 0.5em; text-align: left; border: none;\">\n",
       "                unit_code\n",
       "            </td>\n",
       "        </tr>\n",
       "    \n",
       "        <tr style=\"background-color: hsl(120, 100.00%, 99.77%); border: none;\">\n",
       "            <td style=\"padding: 0 1em 0 0.5em; text-align: right; border: none;\">\n",
       "                0.0001\n",
       "                \n",
       "                    &plusmn; 0.0002\n",
       "                \n",
       "            </td>\n",
       "            <td style=\"padding: 0 0.5em 0 0.5em; text-align: left; border: none;\">\n",
       "                _1yr_tchr_trnovr_pct\n",
       "            </td>\n",
       "        </tr>\n",
       "    \n",
       "        <tr style=\"background-color: hsl(120, 100.00%, 99.83%); border: none;\">\n",
       "            <td style=\"padding: 0 1em 0 0.5em; text-align: right; border: none;\">\n",
       "                0.0000\n",
       "                \n",
       "                    &plusmn; 0.0001\n",
       "                \n",
       "            </td>\n",
       "            <td style=\"padding: 0 0.5em 0 0.5em; text-align: left; border: none;\">\n",
       "                tchyrs_0thru3_pct\n",
       "            </td>\n",
       "        </tr>\n",
       "    \n",
       "        <tr style=\"background-color: hsl(120, 100.00%, 99.83%); border: none;\">\n",
       "            <td style=\"padding: 0 1em 0 0.5em; text-align: right; border: none;\">\n",
       "                0.0000\n",
       "                \n",
       "                    &plusmn; 0.0001\n",
       "                \n",
       "            </td>\n",
       "            <td style=\"padding: 0 0.5em 0 0.5em; text-align: left; border: none;\">\n",
       "                tchyrs_11plus_pct\n",
       "            </td>\n",
       "        </tr>\n",
       "    \n",
       "        <tr style=\"background-color: hsl(120, 100.00%, 99.83%); border: none;\">\n",
       "            <td style=\"padding: 0 1em 0 0.5em; text-align: right; border: none;\">\n",
       "                0.0000\n",
       "                \n",
       "                    &plusmn; 0.0001\n",
       "                \n",
       "            </td>\n",
       "            <td style=\"padding: 0 0.5em 0 0.5em; text-align: left; border: none;\">\n",
       "                Proficient_TCHR_Standard 2_Pct\n",
       "            </td>\n",
       "        </tr>\n",
       "    \n",
       "        <tr style=\"background-color: hsl(120, 100.00%, 99.89%); border: none;\">\n",
       "            <td style=\"padding: 0 1em 0 0.5em; text-align: right; border: none;\">\n",
       "                0.0000\n",
       "                \n",
       "                    &plusmn; 0.0001\n",
       "                \n",
       "            </td>\n",
       "            <td style=\"padding: 0 0.5em 0 0.5em; text-align: left; border: none;\">\n",
       "                Proficient_TCHR_Standard 4_Pct\n",
       "            </td>\n",
       "        </tr>\n",
       "    \n",
       "        <tr style=\"background-color: hsl(0, 100.00%, 100.00%); border: none;\">\n",
       "            <td style=\"padding: 0 1em 0 0.5em; text-align: right; border: none;\">\n",
       "                0\n",
       "                \n",
       "                    &plusmn; 0.0000\n",
       "                \n",
       "            </td>\n",
       "            <td style=\"padding: 0 0.5em 0 0.5em; text-align: left; border: none;\">\n",
       "                0-3 Years_LEA_Exp_Pct_Prin\n",
       "            </td>\n",
       "        </tr>\n",
       "    \n",
       "        <tr style=\"background-color: hsl(0, 100.00%, 100.00%); border: none;\">\n",
       "            <td style=\"padding: 0 1em 0 0.5em; text-align: right; border: none;\">\n",
       "                0\n",
       "                \n",
       "                    &plusmn; 0.0000\n",
       "                \n",
       "            </td>\n",
       "            <td style=\"padding: 0 0.5em 0 0.5em; text-align: left; border: none;\">\n",
       "                10+ Years_LEA_Exp_Pct_Prin\n",
       "            </td>\n",
       "        </tr>\n",
       "    \n",
       "        <tr style=\"background-color: hsl(0, 100.00%, 100.00%); border: none;\">\n",
       "            <td style=\"padding: 0 1em 0 0.5em; text-align: right; border: none;\">\n",
       "                0\n",
       "                \n",
       "                    &plusmn; 0.0000\n",
       "                \n",
       "            </td>\n",
       "            <td style=\"padding: 0 0.5em 0 0.5em; text-align: left; border: none;\">\n",
       "                lea_1yr_tchr_trnovr_pct\n",
       "            </td>\n",
       "        </tr>\n",
       "    \n",
       "        <tr style=\"background-color: hsl(0, 100.00%, 100.00%); border: none;\">\n",
       "            <td style=\"padding: 0 1em 0 0.5em; text-align: right; border: none;\">\n",
       "                0\n",
       "                \n",
       "                    &plusmn; 0.0000\n",
       "                \n",
       "            </td>\n",
       "            <td style=\"padding: 0 0.5em 0 0.5em; text-align: left; border: none;\">\n",
       "                lea_instruct_equip_exp_pct\n",
       "            </td>\n",
       "        </tr>\n",
       "    \n",
       "        <tr style=\"background-color: hsl(0, 100.00%, 100.00%); border: none;\">\n",
       "            <td style=\"padding: 0 1em 0 0.5em; text-align: right; border: none;\">\n",
       "                0\n",
       "                \n",
       "                    &plusmn; 0.0000\n",
       "                \n",
       "            </td>\n",
       "            <td style=\"padding: 0 0.5em 0 0.5em; text-align: left; border: none;\">\n",
       "                Accomplished_TCHR_Standard 2_Pct\n",
       "            </td>\n",
       "        </tr>\n",
       "    \n",
       "        <tr style=\"background-color: hsl(0, 100.00%, 100.00%); border: none;\">\n",
       "            <td style=\"padding: 0 1em 0 0.5em; text-align: right; border: none;\">\n",
       "                0\n",
       "                \n",
       "                    &plusmn; 0.0000\n",
       "                \n",
       "            </td>\n",
       "            <td style=\"padding: 0 0.5em 0 0.5em; text-align: left; border: none;\">\n",
       "                Accomplished_TCHR_Standard 3_Pct\n",
       "            </td>\n",
       "        </tr>\n",
       "    \n",
       "        <tr style=\"background-color: hsl(0, 100.00%, 100.00%); border: none;\">\n",
       "            <td style=\"padding: 0 1em 0 0.5em; text-align: right; border: none;\">\n",
       "                0\n",
       "                \n",
       "                    &plusmn; 0.0000\n",
       "                \n",
       "            </td>\n",
       "            <td style=\"padding: 0 0.5em 0 0.5em; text-align: left; border: none;\">\n",
       "                Accomplished_TCHR_Standard 4_Pct\n",
       "            </td>\n",
       "        </tr>\n",
       "    \n",
       "        <tr style=\"background-color: hsl(0, 100.00%, 100.00%); border: none;\">\n",
       "            <td style=\"padding: 0 1em 0 0.5em; text-align: right; border: none;\">\n",
       "                0\n",
       "                \n",
       "                    &plusmn; 0.0000\n",
       "                \n",
       "            </td>\n",
       "            <td style=\"padding: 0 0.5em 0 0.5em; text-align: left; border: none;\">\n",
       "                Accomplished_TCHR_Standard 5_Pct\n",
       "            </td>\n",
       "        </tr>\n",
       "    \n",
       "        <tr style=\"background-color: hsl(0, 100.00%, 100.00%); border: none;\">\n",
       "            <td style=\"padding: 0 1em 0 0.5em; text-align: right; border: none;\">\n",
       "                0\n",
       "                \n",
       "                    &plusmn; 0.0000\n",
       "                \n",
       "            </td>\n",
       "            <td style=\"padding: 0 0.5em 0 0.5em; text-align: left; border: none;\">\n",
       "                Developing_TCHR_Standard 1_Pct\n",
       "            </td>\n",
       "        </tr>\n",
       "    \n",
       "        <tr style=\"background-color: hsl(0, 100.00%, 100.00%); border: none;\">\n",
       "            <td style=\"padding: 0 1em 0 0.5em; text-align: right; border: none;\">\n",
       "                0\n",
       "                \n",
       "                    &plusmn; 0.0000\n",
       "                \n",
       "            </td>\n",
       "            <td style=\"padding: 0 0.5em 0 0.5em; text-align: left; border: none;\">\n",
       "                4-10 Years_LEA_Exp_Pct_Prin\n",
       "            </td>\n",
       "        </tr>\n",
       "    \n",
       "        <tr style=\"background-color: hsl(0, 100.00%, 100.00%); border: none;\">\n",
       "            <td style=\"padding: 0 1em 0 0.5em; text-align: right; border: none;\">\n",
       "                0\n",
       "                \n",
       "                    &plusmn; 0.0000\n",
       "                \n",
       "            </td>\n",
       "            <td style=\"padding: 0 0.5em 0 0.5em; text-align: left; border: none;\">\n",
       "                Accomplished_TCHR_Standard 1_Pct\n",
       "            </td>\n",
       "        </tr>\n",
       "    \n",
       "        <tr style=\"background-color: hsl(0, 100.00%, 100.00%); border: none;\">\n",
       "            <td style=\"padding: 0 1em 0 0.5em; text-align: right; border: none;\">\n",
       "                0\n",
       "                \n",
       "                    &plusmn; 0.0000\n",
       "                \n",
       "            </td>\n",
       "            <td style=\"padding: 0 0.5em 0 0.5em; text-align: left; border: none;\">\n",
       "                Developing_TCHR_Standard 4_Pct\n",
       "            </td>\n",
       "        </tr>\n",
       "    \n",
       "        <tr style=\"background-color: hsl(0, 100.00%, 100.00%); border: none;\">\n",
       "            <td style=\"padding: 0 1em 0 0.5em; text-align: right; border: none;\">\n",
       "                0\n",
       "                \n",
       "                    &plusmn; 0.0000\n",
       "                \n",
       "            </td>\n",
       "            <td style=\"padding: 0 0.5em 0 0.5em; text-align: left; border: none;\">\n",
       "                lateral_teach_pct\n",
       "            </td>\n",
       "        </tr>\n",
       "    \n",
       "        <tr style=\"background-color: hsl(0, 100.00%, 100.00%); border: none;\">\n",
       "            <td style=\"padding: 0 1em 0 0.5em; text-align: right; border: none;\">\n",
       "                0\n",
       "                \n",
       "                    &plusmn; 0.0000\n",
       "                \n",
       "            </td>\n",
       "            <td style=\"padding: 0 0.5em 0 0.5em; text-align: left; border: none;\">\n",
       "                lea_advance_dgr_pct\n",
       "            </td>\n",
       "        </tr>\n",
       "    \n",
       "        <tr style=\"background-color: hsl(0, 100.00%, 100.00%); border: none;\">\n",
       "            <td style=\"padding: 0 1em 0 0.5em; text-align: right; border: none;\">\n",
       "                0\n",
       "                \n",
       "                    &plusmn; 0.0000\n",
       "                \n",
       "            </td>\n",
       "            <td style=\"padding: 0 0.5em 0 0.5em; text-align: left; border: none;\">\n",
       "                lea_tchyrs_0thru3_pct\n",
       "            </td>\n",
       "        </tr>\n",
       "    \n",
       "        <tr style=\"background-color: hsl(0, 100.00%, 100.00%); border: none;\">\n",
       "            <td style=\"padding: 0 1em 0 0.5em; text-align: right; border: none;\">\n",
       "                0\n",
       "                \n",
       "                    &plusmn; 0.0000\n",
       "                \n",
       "            </td>\n",
       "            <td style=\"padding: 0 0.5em 0 0.5em; text-align: left; border: none;\">\n",
       "                lea_tchyrs_4thru10_pct\n",
       "            </td>\n",
       "        </tr>\n",
       "    \n",
       "        <tr style=\"background-color: hsl(0, 100.00%, 100.00%); border: none;\">\n",
       "            <td style=\"padding: 0 1em 0 0.5em; text-align: right; border: none;\">\n",
       "                0\n",
       "                \n",
       "                    &plusmn; 0.0000\n",
       "                \n",
       "            </td>\n",
       "            <td style=\"padding: 0 0.5em 0 0.5em; text-align: left; border: none;\">\n",
       "                lea_tchyrs_11plus_pct\n",
       "            </td>\n",
       "        </tr>\n",
       "    \n",
       "        <tr style=\"background-color: hsl(0, 100.00%, 100.00%); border: none;\">\n",
       "            <td style=\"padding: 0 1em 0 0.5em; text-align: right; border: none;\">\n",
       "                0\n",
       "                \n",
       "                    &plusmn; 0.0000\n",
       "                \n",
       "            </td>\n",
       "            <td style=\"padding: 0 0.5em 0 0.5em; text-align: left; border: none;\">\n",
       "                lea_nbpts_num\n",
       "            </td>\n",
       "        </tr>\n",
       "    \n",
       "        <tr style=\"background-color: hsl(0, 100.00%, 100.00%); border: none;\">\n",
       "            <td style=\"padding: 0 1em 0 0.5em; text-align: right; border: none;\">\n",
       "                0\n",
       "                \n",
       "                    &plusmn; 0.0000\n",
       "                \n",
       "            </td>\n",
       "            <td style=\"padding: 0 0.5em 0 0.5em; text-align: left; border: none;\">\n",
       "                Developing_TCHR_Standard 2_Pct\n",
       "            </td>\n",
       "        </tr>\n",
       "    \n",
       "        <tr style=\"background-color: hsl(0, 100.00%, 100.00%); border: none;\">\n",
       "            <td style=\"padding: 0 1em 0 0.5em; text-align: right; border: none;\">\n",
       "                0\n",
       "                \n",
       "                    &plusmn; 0.0000\n",
       "                \n",
       "            </td>\n",
       "            <td style=\"padding: 0 0.5em 0 0.5em; text-align: left; border: none;\">\n",
       "                st_emer_prov_teach_pct\n",
       "            </td>\n",
       "        </tr>\n",
       "    \n",
       "        <tr style=\"background-color: hsl(0, 100.00%, 100.00%); border: none;\">\n",
       "            <td style=\"padding: 0 1em 0 0.5em; text-align: right; border: none;\">\n",
       "                0\n",
       "                \n",
       "                    &plusmn; 0.0000\n",
       "                \n",
       "            </td>\n",
       "            <td style=\"padding: 0 0.5em 0 0.5em; text-align: left; border: none;\">\n",
       "                st_1yr_tchr_trnovr_pct\n",
       "            </td>\n",
       "        </tr>\n",
       "    \n",
       "        <tr style=\"background-color: hsl(0, 100.00%, 100.00%); border: none;\">\n",
       "            <td style=\"padding: 0 1em 0 0.5em; text-align: right; border: none;\">\n",
       "                0\n",
       "                \n",
       "                    &plusmn; 0.0000\n",
       "                \n",
       "            </td>\n",
       "            <td style=\"padding: 0 0.5em 0 0.5em; text-align: left; border: none;\">\n",
       "                st_tchyrs_0thru3_pct\n",
       "            </td>\n",
       "        </tr>\n",
       "    \n",
       "        <tr style=\"background-color: hsl(0, 100.00%, 100.00%); border: none;\">\n",
       "            <td style=\"padding: 0 1em 0 0.5em; text-align: right; border: none;\">\n",
       "                0\n",
       "                \n",
       "                    &plusmn; 0.0000\n",
       "                \n",
       "            </td>\n",
       "            <td style=\"padding: 0 0.5em 0 0.5em; text-align: left; border: none;\">\n",
       "                st_flicensed_teach_pct\n",
       "            </td>\n",
       "        </tr>\n",
       "    \n",
       "        <tr style=\"background-color: hsl(0, 100.00%, 100.00%); border: none;\">\n",
       "            <td style=\"padding: 0 1em 0 0.5em; text-align: right; border: none;\">\n",
       "                0\n",
       "                \n",
       "                    &plusmn; 0.0000\n",
       "                \n",
       "            </td>\n",
       "            <td style=\"padding: 0 0.5em 0 0.5em; text-align: left; border: none;\">\n",
       "                lea_emer_prov_teach_pct\n",
       "            </td>\n",
       "        </tr>\n",
       "    \n",
       "        <tr style=\"background-color: hsl(0, 100.00%, 100.00%); border: none;\">\n",
       "            <td style=\"padding: 0 1em 0 0.5em; text-align: right; border: none;\">\n",
       "                0\n",
       "                \n",
       "                    &plusmn; 0.0000\n",
       "                \n",
       "            </td>\n",
       "            <td style=\"padding: 0 0.5em 0 0.5em; text-align: left; border: none;\">\n",
       "                lea_federal_perpupil_num\n",
       "            </td>\n",
       "        </tr>\n",
       "    \n",
       "        <tr style=\"background-color: hsl(0, 100.00%, 100.00%); border: none;\">\n",
       "            <td style=\"padding: 0 1em 0 0.5em; text-align: right; border: none;\">\n",
       "                0\n",
       "                \n",
       "                    &plusmn; 0.0000\n",
       "                \n",
       "            </td>\n",
       "            <td style=\"padding: 0 0.5em 0 0.5em; text-align: left; border: none;\">\n",
       "                lea_sat_avg_score_num\n",
       "            </td>\n",
       "        </tr>\n",
       "    \n",
       "    \n",
       "        \n",
       "            <tr style=\"background-color: hsl(0, 100.00%, 100.00%); border: none;\">\n",
       "                <td colspan=\"2\" style=\"padding: 0 0.5em 0 0.5em; text-align: center; border: none; white-space: nowrap;\">\n",
       "                    <i>&hellip; 95 more &hellip;</i>\n",
       "                </td>\n",
       "            </tr>\n",
       "        \n",
       "    \n",
       "    </tbody>\n",
       "</table>\n",
       "    \n",
       "\n",
       "    \n",
       "\n",
       "\n",
       "    \n",
       "\n",
       "    \n",
       "\n",
       "    \n",
       "\n",
       "    \n",
       "\n",
       "    \n",
       "\n",
       "    \n",
       "\n",
       "\n",
       "\n"
      ],
      "text/plain": [
       "<IPython.core.display.HTML object>"
      ]
     },
     "execution_count": 11,
     "metadata": {},
     "output_type": "execute_result"
    }
   ],
   "source": [
    "#For feature importance from RandomForestClassifier()\n",
    "import eli5\n",
    "from eli5.sklearn import PermutationImportance\n",
    "perm = PermutationImportance(clfa, random_state=1).fit(schoolData,schoolData_SPG)\n",
    "eli5.show_weights(perm, feature_names = schoolData.columns.tolist(), top=50)"
   ]
  },
  {
   "cell_type": "markdown",
   "metadata": {},
   "source": [
    "To meet the data size requirement, we need to have as least 450,000/9371 = 48 attributes to use for the data. Above, we used RandomForestClassifer for the purpose of feature selection and each feature importance to identify which attributes to keep and/or remove from our dataset.\n",
    "\n",
    "To satisfy this we pick the first 50 attributes to use. Notice that in the below attributes list there are both continuous attributes and the categorical attributes after one-hot encoding. "
   ]
  },
  {
   "cell_type": "code",
   "execution_count": 12,
   "metadata": {},
   "outputs": [
    {
     "data": {
      "text/plain": [
       "(9731, 50)"
      ]
     },
     "execution_count": 12,
     "metadata": {},
     "output_type": "execute_result"
    }
   ],
   "source": [
    "#Pick and Choose variables\n",
    "schoolData_pick = schoolData[[\n",
    "'TotalTargets_pTarget_PctMet',\n",
    "'MinorityMalePct',\n",
    "'MinorityFemalePct',\n",
    "'short_susp_per_c_num',\n",
    "'avg_daily_attend_pct',\n",
    "'title1_type_cd_Y',\n",
    "'BlackMalePct',\n",
    "'AsianFemalePct',\n",
    "'BlackFemalePct',\n",
    "'HispanicMalePct',\n",
    "'MathGr3-8_pTarget_PctMet',\n",
    "'AsianMalePct',\n",
    "'SciGr5&8_pTarget_PctMet',\n",
    "'nbpts_num',\n",
    "'lea_sat_avg_score_num',\n",
    "'stud_internet_comp_num',\n",
    "'st_avg_student_num',\n",
    "'HispanicFemalePct',\n",
    "'Accomplished_TCHR_Standard 4_Pct',\n",
    "'Accomplished_TCHR_Standard 3_Pct',\n",
    "'Developing_TCHR_Standard 2_Pct',\n",
    "'Accomplished_TCHR_Standard 5_Pct',\n",
    "'10+ Years_LEA_Exp_Pct_Prin',\n",
    "'4-10 Years_LEA_Exp_Pct_Prin',\n",
    "'Accomplished_TCHR_Standard 1_Pct',\n",
    "'Accomplished_TCHR_Standard 2_Pct',\n",
    "'Developing_TCHR_Standard 1_Pct',\n",
    "'pct_GCE_ALL',\n",
    "'0-3 Years_LEA_Exp_Pct_Prin',\n",
    "'st_emer_prov_teach_pct',\n",
    "'lea_sat_participation_pct',\n",
    "'lea_ap_participation_pct',\n",
    "'lea_federal_perpupil_num',\n",
    "'lea_local_perpupil_num',\n",
    "'advance_dgr_pct',\n",
    "'Developing_TCHR_Standard 5_Pct',\n",
    "'lateral_teach_pct',\n",
    "'lea_flicensed_teach_pct',\n",
    "'Developing_TCHR_Standard 3_Pct',\n",
    "'lea_tchyrs_0thru3_pct',\n",
    "'lea_tchyrs_11plus_pct',\n",
    "'lea_nbpts_num',\n",
    "'lea_advance_dgr_pct',\n",
    "'lea_1yr_tchr_trnovr_pct',\n",
    "'lea_emer_prov_teach_pct',\n",
    "'st_flicensed_teach_pct',\n",
    "'st_tchyrs_0thru3_pct',\n",
    "'st_1yr_tchr_trnovr_pct',\n",
    "'lea_tchyrs_4thru10_pct',\n",
    "'Category_Cd_T',\n",
    "]]\n",
    "\n",
    "# Dataset Dimension with picked variables\n",
    "schoolData_pick.shape"
   ]
  },
  {
   "cell_type": "markdown",
   "metadata": {},
   "source": [
    "### Training/Testing Splitting"
   ]
  },
  {
   "cell_type": "markdown",
   "metadata": {},
   "source": [
    "To prepare our official SVM and Logistic regression modeling procedure, we need to split the dataset into training and testing set. We use the ShuffleSplit criteria below. We use a proportion of 80/20 for the training/testing dataset."
   ]
  },
  {
   "cell_type": "code",
   "execution_count": 13,
   "metadata": {},
   "outputs": [
    {
     "name": "stdout",
     "output_type": "stream",
     "text": [
      "ShuffleSplit(n_splits=3, random_state=None, test_size=0.2, train_size=None)\n"
     ]
    }
   ],
   "source": [
    "# Using ShuffleSplit for Training/Testing Split \n",
    "from sklearn.model_selection import ShuffleSplit\n",
    "# set seed\n",
    "np.random.seed(17)\n",
    "\n",
    "num_cv_iterations = 3\n",
    "num_instances = len(schoolData_SPG)\n",
    "cv_object = ShuffleSplit(n_splits=num_cv_iterations,\n",
    "                         test_size  = 0.2)\n",
    "                         \n",
    "print(cv_object)"
   ]
  },
  {
   "cell_type": "code",
   "execution_count": 14,
   "metadata": {},
   "outputs": [],
   "source": [
    "# Split X and Y into Training and Testing dataset\n",
    "for train_indices, test_indices in cv_object.split(schoolData_pick,schoolData_SPG): \n",
    "\n",
    "    Xsel_train = schoolData_pick.values[train_indices]\n",
    "    ysel_train = schoolData_SPG.values[train_indices]\n",
    "    Xall_train = schoolData.values[train_indices]\n",
    "    \n",
    "    Xsel_test = schoolData_pick.values[test_indices]\n",
    "    ysel_test = schoolData_SPG.values[test_indices]\n",
    "    Xall_test = schoolData.values[test_indices]"
   ]
  },
  {
   "cell_type": "markdown",
   "metadata": {},
   "source": [
    " With our feature selection (51 variables), check and make sure it contains most information. The way we conduct the validation is by running another random forest and check the accuracy. This accuracy of the current model (acc=0.727) is close to the model utilizing all the variables (acc=0.720). So we varify that our selection is reasonable."
   ]
  },
  {
   "cell_type": "code",
   "execution_count": 15,
   "metadata": {},
   "outputs": [
    {
     "data": {
      "text/plain": [
       "RandomForestClassifier(bootstrap=True, ccp_alpha=0.0, class_weight=None,\n",
       "                       criterion='gini', max_depth=None, max_features='auto',\n",
       "                       max_leaf_nodes=None, max_samples=None,\n",
       "                       min_impurity_decrease=0.0, min_impurity_split=None,\n",
       "                       min_samples_leaf=1, min_samples_split=2,\n",
       "                       min_weight_fraction_leaf=0.0, n_estimators=100,\n",
       "                       n_jobs=None, oob_score=False, random_state=None,\n",
       "                       verbose=0, warm_start=False)"
      ]
     },
     "execution_count": 15,
     "metadata": {},
     "output_type": "execute_result"
    },
    {
     "data": {
      "text/plain": [
       "RandomForestClassifier(bootstrap=True, ccp_alpha=0.0, class_weight=None,\n",
       "                       criterion='gini', max_depth=None, max_features='auto',\n",
       "                       max_leaf_nodes=None, max_samples=None,\n",
       "                       min_impurity_decrease=0.0, min_impurity_split=None,\n",
       "                       min_samples_leaf=1, min_samples_split=2,\n",
       "                       min_weight_fraction_leaf=0.0, n_estimators=100,\n",
       "                       n_jobs=None, oob_score=False, random_state=None,\n",
       "                       verbose=0, warm_start=False)"
      ]
     },
     "execution_count": 15,
     "metadata": {},
     "output_type": "execute_result"
    },
    {
     "name": "stdout",
     "output_type": "stream",
     "text": [
      "Model with Selective Variables Accuracy: 0.7277863379558295\n",
      "Model with All Variables Accuracy: 0.7200821777092964\n"
     ]
    }
   ],
   "source": [
    "# Random Forest fitting with selective variables\n",
    "clf_rf=RandomForestClassifier(n_estimators=100)\n",
    "clf_rf.fit(Xsel_train,ysel_train)\n",
    "y_pred_rf=clf_rf.predict(Xsel_test)\n",
    "\n",
    "# Random Forest fitting with all variables\n",
    "clf_rf_all=RandomForestClassifier(n_estimators=100)\n",
    "clf_rf_all.fit(Xall_train,ysel_train)\n",
    "y_pred_rf_all=clf_rf_all.predict(Xall_test)\n",
    "\n",
    "print(\"Model with Selective Variables Accuracy:\",metrics.accuracy_score(ysel_test, y_pred_rf))\n",
    "print(\"Model with All Variables Accuracy:\",metrics.accuracy_score(ysel_test, y_pred_rf_all))"
   ]
  },
  {
   "cell_type": "markdown",
   "metadata": {},
   "source": [
    "### Solving Data Imbalance"
   ]
  },
  {
   "cell_type": "markdown",
   "metadata": {},
   "source": [
    "We find that our response variable (SPG_Grade) has a data balancing problem: The grade C is dominate the dataset with the largest propertion, followed by B or D. A and F are just a small propertion of the whole dataset. \n",
    "\n",
    "First we investigate the current class of the SPG Grade and found that the class \"A\" and \"A+NG\" are identical so we merge the two.Notice that magnet schools in 2016-2017 are not required to report SPG score. Those schools with incomplete information are marked \"I\". the class \"I\" are removed from the dataset."
   ]
  },
  {
   "cell_type": "code",
   "execution_count": 16,
   "metadata": {
    "scrolled": true
   },
   "outputs": [
    {
     "data": {
      "text/html": [
       "<div>\n",
       "<style scoped>\n",
       "    .dataframe tbody tr th:only-of-type {\n",
       "        vertical-align: middle;\n",
       "    }\n",
       "\n",
       "    .dataframe tbody tr th {\n",
       "        vertical-align: top;\n",
       "    }\n",
       "\n",
       "    .dataframe thead th {\n",
       "        text-align: right;\n",
       "    }\n",
       "</style>\n",
       "<table border=\"1\" class=\"dataframe\">\n",
       "  <thead>\n",
       "    <tr style=\"text-align: right;\">\n",
       "      <th></th>\n",
       "      <th>0</th>\n",
       "    </tr>\n",
       "  </thead>\n",
       "  <tbody>\n",
       "    <tr>\n",
       "      <th>count</th>\n",
       "      <td>9216</td>\n",
       "    </tr>\n",
       "    <tr>\n",
       "      <th>unique</th>\n",
       "      <td>5</td>\n",
       "    </tr>\n",
       "    <tr>\n",
       "      <th>top</th>\n",
       "      <td>C</td>\n",
       "    </tr>\n",
       "    <tr>\n",
       "      <th>freq</th>\n",
       "      <td>3973</td>\n",
       "    </tr>\n",
       "  </tbody>\n",
       "</table>\n",
       "</div>"
      ],
      "text/plain": [
       "           0\n",
       "count   9216\n",
       "unique     5\n",
       "top        C\n",
       "freq    3973"
      ]
     },
     "execution_count": 16,
     "metadata": {},
     "output_type": "execute_result"
    }
   ],
   "source": [
    "schoolData_SPG_org = schoolData_SPG\n",
    "schoolData_SPG = schoolData_SPG_org\n",
    "\n",
    "import numpy as np\n",
    "schoolData_SPG= np.select(\n",
    "    [\n",
    "        schoolData_SPG == 'A', \n",
    "        schoolData_SPG == 'B',\n",
    "        schoolData_SPG == 'C',\n",
    "        schoolData_SPG == 'D',\n",
    "        schoolData_SPG == 'F',\n",
    "        schoolData_SPG == 'A+NG',\n",
    "        schoolData_SPG == 'I'\n",
    "    ], \n",
    "    [\n",
    "        'A', \n",
    "        'B',\n",
    "        'C',\n",
    "        'D',\n",
    "        'F',\n",
    "        'A',\n",
    "        'NA'\n",
    "    ],\n",
    "    default='NA'\n",
    ")\n",
    "\n",
    "#Filter out the sample with \"NA\" on SPG Grade\n",
    "schoolData_SPG_new = schoolData_SPG[schoolData_SPG!='NA']\n",
    "schoolData_pick_new = schoolData_pick[schoolData_SPG!='NA']\n",
    "\n",
    "# Check if the levels of SPG Grade has been altered\n",
    "s = pd.DataFrame(schoolData_SPG_new)\n",
    "s.describe()"
   ]
  },
  {
   "cell_type": "markdown",
   "metadata": {},
   "source": [
    "After merging the class, we can see below a distribution of current SPG Grade. The grade C is dominate the dataset with the largest propertion, followed by B or D. A and F are just a small propertion of the whole dataset. We need to re-balance the data."
   ]
  },
  {
   "cell_type": "code",
   "execution_count": 17,
   "metadata": {},
   "outputs": [
    {
     "data": {
      "text/plain": [
       "<seaborn.axisgrid.FacetGrid at 0x1a806281b08>"
      ]
     },
     "execution_count": 17,
     "metadata": {},
     "output_type": "execute_result"
    },
    {
     "data": {
      "image/png": "[encoded data removed]",
      "text/plain": [
       "<Figure size 720x360 with 1 Axes>"
      ]
     },
     "metadata": {
      "needs_background": "light"
     },
     "output_type": "display_data"
    }
   ],
   "source": [
    "#Factor Plot for SPG Grade\n",
    "s.columns=['SPG Grade']\n",
    "                        \n",
    "sns.factorplot(\"SPG Grade\", data=s, aspect=2,\n",
    "                       kind=\"count\", order=['A','B','C','D','F'])\n",
    "\n",
    "plt.show()"
   ]
  },
  {
   "cell_type": "markdown",
   "metadata": {},
   "source": [
    "To solve this problem, we are using the crieteria below.\n",
    "\n",
    "#### Test 3 types of sampler: UnderSample all cases, UnderSample majority class, SMOTE Oversample\n",
    "\n",
    "Below we conduct 3 seperate procedures to produce 3 seperate sets of X and y from the original dataset. Those sets will be evaluate against each other and we will decide the best data balancing strategy to use."
   ]
  },
  {
   "cell_type": "code",
   "execution_count": 18,
   "metadata": {},
   "outputs": [
    {
     "data": {
      "text/plain": [
       "(9216, 50)"
      ]
     },
     "execution_count": 18,
     "metadata": {},
     "output_type": "execute_result"
    },
    {
     "data": {
      "text/plain": [
       "(9216,)"
      ]
     },
     "execution_count": 18,
     "metadata": {},
     "output_type": "execute_result"
    }
   ],
   "source": [
    "# Check the dimension for X and y\n",
    "schoolData_pick_new.shape\n",
    "schoolData_SPG_new.shape"
   ]
  },
  {
   "cell_type": "code",
   "execution_count": 19,
   "metadata": {},
   "outputs": [],
   "source": [
    "from imblearn.under_sampling import RandomUnderSampler\n",
    "\n",
    "# Undersample the dataset using the RandomUnderSampler \n",
    "# Set all class sizes equal to the smallest class.\n",
    "us = RandomUnderSampler()\n",
    "X_us, y_us = us.fit_sample(schoolData_pick_new, pd.DataFrame(schoolData_SPG_new))\n",
    "\n",
    "# Plot the new class distributions for y using the same funnction as above. \n",
    "#plot_class_dist(y_us)"
   ]
  },
  {
   "cell_type": "code",
   "execution_count": 20,
   "metadata": {},
   "outputs": [],
   "source": [
    "from imblearn.under_sampling import RandomUnderSampler\n",
    "\n",
    "# Undersample the dataset using the RandomUnderSampler \n",
    "# Undersample the majority class only\n",
    "us = RandomUnderSampler(sampling_strategy='majority')\n",
    "X_us_maj, y_us_maj = us.fit_sample(schoolData_pick_new, pd.DataFrame(schoolData_SPG_new))\n",
    "\n",
    "# Plot the new class distributions for y using the same funnction as above. \n",
    "#plot_class_dist(y_us_maj)"
   ]
  },
  {
   "cell_type": "code",
   "execution_count": 21,
   "metadata": {},
   "outputs": [],
   "source": [
    "from imblearn.over_sampling import SMOTE\n",
    "\n",
    "# Oversample using SMOTE\n",
    "# Make all classes the same size as the majority class.\n",
    "# WARNING - This can exponentially increase the size of the input dataset.\n",
    "sm = SMOTE(sampling_strategy='not majority')\n",
    "X_sm, y_sm = sm.fit_sample(schoolData_pick_new, pd.DataFrame(schoolData_SPG_new))\n",
    "\n",
    "# Plot the new class distributions for y using the same funnction as above. \n",
    "#plot_class_dist(y_sm)"
   ]
  },
  {
   "cell_type": "markdown",
   "metadata": {},
   "source": [
    "By comparing the results for the 3 different methods dealing with data imbalance, we run random forest with the datasets we generated. Accuracy are measured with the results of the variables. As shown the SMOTE strategy get the highest accuracy. It will be used for the later SVM and Logistic regression fitting."
   ]
  },
  {
   "cell_type": "code",
   "execution_count": 22,
   "metadata": {},
   "outputs": [
    {
     "data": {
      "text/plain": [
       "RandomForestClassifier(bootstrap=True, ccp_alpha=0.0, class_weight=None,\n",
       "                       criterion='gini', max_depth=None, max_features='auto',\n",
       "                       max_leaf_nodes=None, max_samples=None,\n",
       "                       min_impurity_decrease=0.0, min_impurity_split=None,\n",
       "                       min_samples_leaf=1, min_samples_split=2,\n",
       "                       min_weight_fraction_leaf=0.0, n_estimators=100,\n",
       "                       n_jobs=None, oob_score=False, random_state=None,\n",
       "                       verbose=0, warm_start=False)"
      ]
     },
     "execution_count": 22,
     "metadata": {},
     "output_type": "execute_result"
    },
    {
     "name": "stdout",
     "output_type": "stream",
     "text": [
      "Accuracy: 0.6651162790697674\n"
     ]
    }
   ],
   "source": [
    "#Training using Undersample Method1 \n",
    "for train_indices, test_indices in cv_object.split(X_us,y_us): \n",
    "\n",
    "    X_train = X_us.values[train_indices]\n",
    "    y_train = y_us.values[train_indices]\n",
    "    \n",
    "    X_test = X_us.values[test_indices]\n",
    "    y_test = y_us.values[test_indices]\n",
    "    \n",
    "\n",
    "clfus=RandomForestClassifier(n_estimators=100)\n",
    "clfus.fit(X_train,y_train)\n",
    "y_pred_us=clfus.predict(X_test)\n",
    "\n",
    "print(\"Accuracy:\",metrics.accuracy_score(y_test, y_pred_us))"
   ]
  },
  {
   "cell_type": "code",
   "execution_count": 23,
   "metadata": {},
   "outputs": [
    {
     "data": {
      "text/plain": [
       "RandomForestClassifier(bootstrap=True, ccp_alpha=0.0, class_weight=None,\n",
       "                       criterion='gini', max_depth=None, max_features='auto',\n",
       "                       max_leaf_nodes=None, max_samples=None,\n",
       "                       min_impurity_decrease=0.0, min_impurity_split=None,\n",
       "                       min_samples_leaf=1, min_samples_split=2,\n",
       "                       min_weight_fraction_leaf=0.0, n_estimators=100,\n",
       "                       n_jobs=None, oob_score=False, random_state=None,\n",
       "                       verbose=0, warm_start=False)"
      ]
     },
     "execution_count": 23,
     "metadata": {},
     "output_type": "execute_result"
    },
    {
     "name": "stdout",
     "output_type": "stream",
     "text": [
      "Accuracy: 0.788546255506608\n"
     ]
    }
   ],
   "source": [
    "#Training using Undersample Method2\n",
    "for train_indices, test_indices in cv_object.split(X_us_maj,y_us_maj): \n",
    "\n",
    "    X_train = X_us_maj.values[train_indices]\n",
    "    y_train = y_us_maj.values[train_indices]\n",
    "    \n",
    "    X_test = X_us_maj.values[test_indices]\n",
    "    y_test = y_us_maj.values[test_indices]\n",
    "    \n",
    "clfusm=RandomForestClassifier(n_estimators=100)\n",
    "clfusm.fit(X_train,y_train)\n",
    "y_pred_usm=clfusm.predict(X_test)\n",
    "    \n",
    "print(\"Accuracy:\",metrics.accuracy_score(y_test, y_pred_usm))"
   ]
  },
  {
   "cell_type": "code",
   "execution_count": 24,
   "metadata": {},
   "outputs": [
    {
     "data": {
      "text/plain": [
       "RandomForestClassifier(bootstrap=True, ccp_alpha=0.0, class_weight=None,\n",
       "                       criterion='gini', max_depth=None, max_features='auto',\n",
       "                       max_leaf_nodes=None, max_samples=None,\n",
       "                       min_impurity_decrease=0.0, min_impurity_split=None,\n",
       "                       min_samples_leaf=1, min_samples_split=2,\n",
       "                       min_weight_fraction_leaf=0.0, n_estimators=100,\n",
       "                       n_jobs=None, oob_score=False, random_state=None,\n",
       "                       verbose=0, warm_start=False)"
      ]
     },
     "execution_count": 24,
     "metadata": {},
     "output_type": "execute_result"
    },
    {
     "name": "stdout",
     "output_type": "stream",
     "text": [
      "Accuracy: 0.876919204631261\n"
     ]
    }
   ],
   "source": [
    "#Training using Oversample Method\n",
    "for train_indices, test_indices in cv_object.split(X_sm,y_sm): \n",
    "\n",
    "    X_train = X_sm.values[train_indices]\n",
    "    y_train = y_sm.values[train_indices]\n",
    "    \n",
    "    X_test = X_sm.values[test_indices]\n",
    "    y_test = y_sm.values[test_indices]\n",
    "\n",
    "clfsm=RandomForestClassifier(n_estimators=100)\n",
    "clfsm.fit(X_train,y_train)\n",
    "y_pred_sm=clfsm.predict(X_test)\n",
    "\n",
    "print(\"Accuracy:\",metrics.accuracy_score(y_test, y_pred_sm))"
   ]
  },
  {
   "cell_type": "code",
   "execution_count": 5,
   "metadata": {},
   "outputs": [
    {
     "name": "stdout",
     "output_type": "stream",
     "text": [
      "<class 'pandas.core.frame.DataFrame'>\n",
      "RangeIndex: 9731 entries, 0 to 9730\n",
      "Data columns (total 248 columns):\n",
      "szip_ad                                float64\n",
      "category_cd                            object\n",
      "calendar_type_txt                      object\n",
      "sna_pgm_type_cd                        object\n",
      "school_type_txt                        object\n",
      "calendar_only_txt                      object\n",
      "title1_type_cd                         object\n",
      "esea_status                            object\n",
      "student_num                            float64\n",
      "lea_avg_student_num                    float64\n",
      "st_avg_student_num                     float64\n",
      "Grad_project_status                    object\n",
      "Math I_Size                            float64\n",
      "lea_total_expense_num                  float64\n",
      "lea_salary_expense_pct                 float64\n",
      "lea_services_expense_pct               float64\n",
      "lea_supplies_expense_pct               float64\n",
      "lea_instruct_equip_exp_pct             float64\n",
      "lea_federal_perpupil_num               float64\n",
      "lea_local_perpupil_num                 float64\n",
      "lea_state_perpupil_num                 float64\n",
      "EVAAS Growth Status                    object\n",
      "EVAAS Growth Score                     float64\n",
      "Science Score                          float64\n",
      "EOG/EOCSubjects_CACR_All               float64\n",
      "EOGGr3_CACR_All                        float64\n",
      "EOGGr4_CACR_All                        float64\n",
      "EOGGr5_CACR_All                        float64\n",
      "EOCMathI_CACR_AmericanIndian           float64\n",
      "EOCSubjects_CACR_AmericanIndian        float64\n",
      "EOG/EOCSubjects_CACR_AmericanIndian    float64\n",
      "EOGGr3_CACR_AmericanIndian             float64\n",
      "EOGGr4_CACR_AmericanIndian             float64\n",
      "EOGGr5_CACR_AmericanIndian             float64\n",
      "EOGMathGr3_CACR_AmericanIndian         float64\n",
      "EOGMathGr3-8_CACR_AmericanIndian       float64\n",
      "EOGMathGr4_CACR_AmericanIndian         float64\n",
      "EOGMathGr5_CACR_AmericanIndian         float64\n",
      "EOGReadingGr3-8_CACR_AmericanIndian    float64\n",
      "EOGScienceGr5_CACR_AmericanIndian      float64\n",
      "EOGScienceGr5&8_CACR_AmericanIndian    float64\n",
      "EOGSubjects_CACR_AmericanIndian        float64\n",
      "EOCMathI_CACR_Asian                    float64\n",
      "EOCSubjects_CACR_Asian                 float64\n",
      "EOG/EOCSubjects_CACR_Asian             float64\n",
      "EOGGr3_CACR_Asian                      float64\n",
      "EOGGr4_CACR_Asian                      float64\n",
      "EOGGr5_CACR_Asian                      float64\n",
      "EOGMathGr3_CACR_Asian                  float64\n",
      "EOGMathGr3-8_CACR_Asian                float64\n",
      "EOGMathGr4_CACR_Asian                  float64\n",
      "EOGMathGr5_CACR_Asian                  float64\n",
      "EOGScienceGr5&8_CACR_Asian             float64\n",
      "EOGSubjects_CACR_Asian                 float64\n",
      "EOCMathI_CACR_Black                    float64\n",
      "EOG/EOCSubjects_CACR_Black             float64\n",
      "EOGGr3_CACR_Black                      float64\n",
      "EOGGr4_CACR_Black                      float64\n",
      "EOGGr5_CACR_Black                      float64\n",
      "EOGMathGr3_CACR_Black                  float64\n",
      "EOGMathGr3-8_CACR_Black                float64\n",
      "EOGMathGr4_CACR_Black                  float64\n",
      "EOGMathGr5_CACR_Black                  float64\n",
      "EOGReadingGr3_CACR_Black               float64\n",
      "EOGReadingGr3-8_CACR_Black             float64\n",
      "EOGReadingGr4_CACR_Black               float64\n",
      "EOGReadingGr5_CACR_Black               float64\n",
      "EOGScienceGr5_CACR_Black               float64\n",
      "EOGScienceGr5&8_CACR_Black             float64\n",
      "EOGSubjects_CACR_Black                 float64\n",
      "EOCMathI_CACR_Hispanic                 float64\n",
      "EOG/EOCSubjects_CACR_Hispanic          float64\n",
      "EOGGr3_CACR_Hispanic                   float64\n",
      "EOGGr4_CACR_Hispanic                   float64\n",
      "EOGGr5_CACR_Hispanic                   float64\n",
      "EOGMathGr3_CACR_Hispanic               float64\n",
      "EOGMathGr3-8_CACR_Hispanic             float64\n",
      "EOGMathGr4_CACR_Hispanic               float64\n",
      "EOGMathGr5_CACR_Hispanic               float64\n",
      "EOGReadingGr3_CACR_Hispanic            float64\n",
      "EOGReadingGr3-8_CACR_Hispanic          float64\n",
      "EOGReadingGr4_CACR_Hispanic            float64\n",
      "EOGReadingGr5_CACR_Hispanic            float64\n",
      "EOGScienceGr5&8_CACR_Hispanic          float64\n",
      "EOGSubjects_CACR_Hispanic              float64\n",
      "EOCMathI_CACR_TwoorMoreRaces           float64\n",
      "EOCSubjects_CACR_TwoorMoreRaces        float64\n",
      "EOG/EOCSubjects_CACR_TwoorMoreRaces    float64\n",
      "EOGGr3_CACR_TwoorMoreRaces             float64\n",
      "EOGGr4_CACR_TwoorMoreRaces             float64\n",
      "EOGGr5_CACR_TwoorMoreRaces             float64\n",
      "EOGMathGr3_CACR_TwoorMoreRaces         float64\n",
      "EOGMathGr3-8_CACR_TwoorMoreRaces       float64\n",
      "EOGMathGr4_CACR_TwoorMoreRaces         float64\n",
      "EOGMathGr5_CACR_TwoorMoreRaces         float64\n",
      "EOGReadingGr3-8_CACR_TwoorMoreRaces    float64\n",
      "EOGScienceGr5&8_CACR_TwoorMoreRaces    float64\n",
      "EOGSubjects_CACR_TwoorMoreRaces        float64\n",
      "EOG/EOCSubjects_CACR_White             float64\n",
      "EOGGr4_CACR_White                      float64\n",
      "EOGMathGr3-8_CACR_White                float64\n",
      "EOGScienceGr5&8_CACR_White             float64\n",
      "EOCMathI_CACR_EDS                      float64\n",
      "EOG/EOCSubjects_CACR_EDS               float64\n",
      "EOGMathGr3-8_CACR_EDS                  float64\n",
      "EOGReadingGr3-8_CACR_EDS               float64\n",
      "EOGReadingGr5_CACR_EDS                 float64\n",
      "EOGScienceGr5&8_CACR_EDS               float64\n",
      "EOCMathI_CACR_LEP                      float64\n",
      "EOCMathI_GLP_LEP                       float64\n",
      "EOCSubjects_CACR_LEP                   float64\n",
      "EOCSubjects_GLP_LEP                    float64\n",
      "EOG/EOCSubjects_CACR_LEP               float64\n",
      "EOGGr3_CACR_LEP                        float64\n",
      "EOGGr4_CACR_LEP                        float64\n",
      "EOGGr5_CACR_LEP                        float64\n",
      "EOGMathGr3_CACR_LEP                    float64\n",
      "EOGMathGr3-8_CACR_LEP                  float64\n",
      "EOGMathGr4_CACR_LEP                    float64\n",
      "EOGMathGr5_CACR_LEP                    float64\n",
      "EOGReadingGr3_CACR_LEP                 float64\n",
      "EOGReadingGr3-8_CACR_LEP               float64\n",
      "EOGReadingGr3-8_GLP_LEP                float64\n",
      "EOGReadingGr4_CACR_LEP                 float64\n",
      "EOGReadingGr4_GLP_LEP                  float64\n",
      "EOGReadingGr5_CACR_LEP                 float64\n",
      "EOGReadingGr5_GLP_LEP                  float64\n",
      "EOGScienceGr5_CACR_LEP                 float64\n",
      "EOGScienceGr5&8_CACR_LEP               float64\n",
      "EOCMathI_CACR_SWD                      float64\n",
      "EOCMathI_GLP_SWD                       float64\n",
      "EOCSubjects_CACR_SWD                   float64\n",
      "EOG/EOCSubjects_CACR_SWD               float64\n",
      "EOGGr3_CACR_SWD                        float64\n",
      "EOGGr4_CACR_SWD                        float64\n",
      "EOGGr5_CACR_SWD                        float64\n",
      "EOGMathGr3_CACR_SWD                    float64\n",
      "EOGMathGr3_GLP_SWD                     float64\n",
      "EOGMathGr3-8_CACR_SWD                  float64\n",
      "EOGMathGr4_CACR_SWD                    float64\n",
      "EOGMathGr5_CACR_SWD                    float64\n",
      "EOGReadingGr3_CACR_SWD                 float64\n",
      "EOGReadingGr3-8_CACR_SWD               float64\n",
      "EOGReadingGr3-8_GLP_SWD                float64\n",
      "EOGReadingGr4_CACR_SWD                 float64\n",
      "EOGReadingGr4_GLP_SWD                  float64\n",
      "EOGReadingGr5_CACR_SWD                 float64\n",
      "EOGReadingGr5_GLP_SWD                  float64\n",
      "EOGScienceGr5_CACR_SWD                 float64\n",
      "EOGScienceGr5&8_CACR_SWD               float64\n",
      "EOGSubjects_CACR_SWD                   float64\n",
      "EOCMathI_CACR_AIG                      float64\n",
      "EOG/EOCSubjects_CACR_AIG               float64\n",
      "EOGGr3_CACR_AIG                        float64\n",
      "EOGGr4_CACR_AIG                        float64\n",
      "EOGGr5_CACR_AIG                        float64\n",
      "EOGMathGr3_CACR_AIG                    float64\n",
      "EOGMathGr3-8_CACR_AIG                  float64\n",
      "EOGMathGr4_CACR_AIG                    float64\n",
      "EOGMathGr5_CACR_AIG                    float64\n",
      "EOGScienceGr5&8_CACR_AIG               float64\n",
      "EOGSubjects_CACR_AIG                   float64\n",
      "pct_GCE_ALL                            float64\n",
      "MathGr3-8_pTarget_PctMet               float64\n",
      "SciGr5&8_pTarget_PctMet                float64\n",
      "TotalTargets_pTarget_PctMet            float64\n",
      "Category_Cd                            object\n",
      "lea_sat_avg_score_num                  float64\n",
      "lea_sat_participation_pct              float64\n",
      "lea_ap_participation_pct               float64\n",
      "lea_ap_pct_3_or_above                  float64\n",
      "lea_ib_pct_4_or_above                  float64\n",
      "avg_daily_attend_pct                   float64\n",
      "crime_per_c_num                        float64\n",
      "short_susp_per_c_num                   float64\n",
      "long_susp_per_c_num                    float64\n",
      "expelled_per_c_num                     float64\n",
      "stud_internet_comp_num                 float64\n",
      "lea_avg_daily_attend_pct               float64\n",
      "lea_crime_per_c_num                    float64\n",
      "lea_short_susp_per_c_num               float64\n",
      "lea_long_susp_per_c_num                float64\n",
      "lea_expelled_per_c_num                 float64\n",
      "lea_stud_internet_comp_num             float64\n",
      "st_crime_per_c_num                     float64\n",
      "flicensed_teach_pct                    float64\n",
      "tchyrs_0thru3_pct                      float64\n",
      "tchyrs_4thru10_pct                     float64\n",
      "tchyrs_11plus_pct                      float64\n",
      "nbpts_num                              float64\n",
      "advance_dgr_pct                        float64\n",
      "_1yr_tchr_trnovr_pct                   float64\n",
      "lateral_teach_pct                      float64\n",
      "lea_flicensed_teach_pct                float64\n",
      "lea_tchyrs_0thru3_pct                  float64\n",
      "lea_tchyrs_4thru10_pct                 float64\n",
      "lea_tchyrs_11plus_pct                  float64\n",
      "lea_nbpts_num                          float64\n",
      "lea_advance_dgr_pct                    float64\n",
      "lea_1yr_tchr_trnovr_pct                float64\n",
      "lea_emer_prov_teach_pct                float64\n",
      "st_flicensed_teach_pct                 float64\n",
      "st_tchyrs_0thru3_pct                   float64\n",
      "st_1yr_tchr_trnovr_pct                 float64\n",
      "st_emer_prov_teach_pct                 float64\n",
      "0-3 Years_LEA_Exp_Pct_Prin             float64\n",
      "10+ Years_LEA_Exp_Pct_Prin             float64\n",
      "4-10 Years_LEA_Exp_Pct_Prin            float64\n",
      "Accomplished_TCHR_Standard 1_Pct       float64\n",
      "Accomplished_TCHR_Standard 2_Pct       float64\n",
      "Accomplished_TCHR_Standard 3_Pct       float64\n",
      "Accomplished_TCHR_Standard 4_Pct       float64\n",
      "Accomplished_TCHR_Standard 5_Pct       float64\n",
      "Developing_TCHR_Standard 1_Pct         float64\n",
      "Developing_TCHR_Standard 2_Pct         float64\n",
      "Developing_TCHR_Standard 3_Pct         float64\n",
      "Developing_TCHR_Standard 4_Pct         float64\n",
      "Developing_TCHR_Standard 5_Pct         float64\n",
      "Distinguished_TCHR_Standard 1_Pct      float64\n",
      "Distinguished_TCHR_Standard 2_Pct      float64\n",
      "Distinguished_TCHR_Standard 3_Pct      float64\n",
      "Distinguished_TCHR_Standard 4_Pct      float64\n",
      "Distinguished_TCHR_Standard 5_Pct      float64\n",
      "Not Demostrated_TCHR_Standard 1_Pct    float64\n",
      "Not Demostrated_TCHR_Standard 2_Pct    float64\n",
      "Not Demostrated_TCHR_Standard 4_Pct    float64\n",
      "Proficient_TCHR_Standard 1_Pct         float64\n",
      "Proficient_TCHR_Standard 2_Pct         float64\n",
      "Proficient_TCHR_Standard 3_Pct         float64\n",
      "Proficient_TCHR_Standard 4_Pct         float64\n",
      "Proficient_TCHR_Standard 5_Pct         float64\n",
      "AsianFemalePct                         float64\n",
      "AsianMalePct                           float64\n",
      "BlackFemalePct                         float64\n",
      "BlackMalePct                           float64\n",
      "HispanicFemalePct                      float64\n",
      "HispanicMalePct                        float64\n",
      "IndianFemalePct                        float64\n",
      "MinorityFemalePct                      float64\n",
      "MinorityMalePct                        float64\n",
      "PacificIslandFemalePct                 float64\n",
      "PacificIslandMalePct                   float64\n",
      "PacificIslandPct                       float64\n",
      "TwoOrMoreFemalePct                     float64\n",
      "TwoOrMoreMalePct                       float64\n",
      "TwoOrMorePct                           float64\n",
      "unit_code                              int64\n",
      "Year                                   int64\n",
      "dtypes: float64(236), int64(2), object(10)\n",
      "memory usage: 18.4+ MB\n"
     ]
    }
   ],
   "source": [
    "schoolData.info(verbose=True)"
   ]
  },
  {
   "cell_type": "code",
   "execution_count": 25,
   "metadata": {},
   "outputs": [
    {
     "name": "stdout",
     "output_type": "stream",
     "text": [
      "Fitting 5 folds for each of 12 candidates, totalling 60 fits\n",
      "[CV] C=0.1, penalty=l1, solver=liblinear .............................\n"
     ]
    },
    {
     "name": "stderr",
     "output_type": "stream",
     "text": [
      "[Parallel(n_jobs=1)]: Using backend SequentialBackend with 1 concurrent workers.\n"
     ]
    },
    {
     "name": "stdout",
     "output_type": "stream",
     "text": [
      "[CV] .............. C=0.1, penalty=l1, solver=liblinear, total=   7.5s\n",
      "[CV] C=0.1, penalty=l1, solver=liblinear .............................\n"
     ]
    },
    {
     "name": "stderr",
     "output_type": "stream",
     "text": [
      "[Parallel(n_jobs=1)]: Done   1 out of   1 | elapsed:    7.4s remaining:    0.0s\n"
     ]
    },
    {
     "name": "stdout",
     "output_type": "stream",
     "text": [
      "[CV] .............. C=0.1, penalty=l1, solver=liblinear, total=   7.6s\n",
      "[CV] C=0.1, penalty=l1, solver=liblinear .............................\n",
      "[CV] .............. C=0.1, penalty=l1, solver=liblinear, total=   6.9s\n",
      "[CV] C=0.1, penalty=l1, solver=liblinear .............................\n",
      "[CV] .............. C=0.1, penalty=l1, solver=liblinear, total=   7.3s\n",
      "[CV] C=0.1, penalty=l1, solver=liblinear .............................\n",
      "[CV] .............. C=0.1, penalty=l1, solver=liblinear, total=   7.1s\n",
      "[CV] C=0.1, penalty=l1, solver=lbfgs .................................\n",
      "[CV] .................. C=0.1, penalty=l1, solver=lbfgs, total=   0.0s\n",
      "[CV] C=0.1, penalty=l1, solver=lbfgs .................................\n",
      "[CV] .................. C=0.1, penalty=l1, solver=lbfgs, total=   0.0s\n",
      "[CV] C=0.1, penalty=l1, solver=lbfgs .................................\n",
      "[CV] .................. C=0.1, penalty=l1, solver=lbfgs, total=   0.0s\n",
      "[CV] C=0.1, penalty=l1, solver=lbfgs .................................\n",
      "[CV] .................. C=0.1, penalty=l1, solver=lbfgs, total=   0.0s\n",
      "[CV] C=0.1, penalty=l1, solver=lbfgs .................................\n",
      "[CV] .................. C=0.1, penalty=l1, solver=lbfgs, total=   0.0s\n",
      "[CV] C=0.1, penalty=l2, solver=liblinear .............................\n",
      "[CV] .............. C=0.1, penalty=l2, solver=liblinear, total=   7.3s\n",
      "[CV] C=0.1, penalty=l2, solver=liblinear .............................\n",
      "[CV] .............. C=0.1, penalty=l2, solver=liblinear, total=   6.9s\n",
      "[CV] C=0.1, penalty=l2, solver=liblinear .............................\n",
      "[CV] .............. C=0.1, penalty=l2, solver=liblinear, total=   6.7s\n",
      "[CV] C=0.1, penalty=l2, solver=liblinear .............................\n",
      "[CV] .............. C=0.1, penalty=l2, solver=liblinear, total=   7.2s\n",
      "[CV] C=0.1, penalty=l2, solver=liblinear .............................\n",
      "[CV] .............. C=0.1, penalty=l2, solver=liblinear, total=   6.2s\n",
      "[CV] C=0.1, penalty=l2, solver=lbfgs .................................\n",
      "[CV] .................. C=0.1, penalty=l2, solver=lbfgs, total=   1.1s\n",
      "[CV] C=0.1, penalty=l2, solver=lbfgs .................................\n",
      "[CV] .................. C=0.1, penalty=l2, solver=lbfgs, total=   1.0s\n",
      "[CV] C=0.1, penalty=l2, solver=lbfgs .................................\n",
      "[CV] .................. C=0.1, penalty=l2, solver=lbfgs, total=   1.0s\n",
      "[CV] C=0.1, penalty=l2, solver=lbfgs .................................\n",
      "[CV] .................. C=0.1, penalty=l2, solver=lbfgs, total=   1.3s\n",
      "[CV] C=0.1, penalty=l2, solver=lbfgs .................................\n",
      "[CV] .................. C=0.1, penalty=l2, solver=lbfgs, total=   1.0s\n",
      "[CV] C=10, penalty=l1, solver=liblinear ..............................\n",
      "[CV] ............... C=10, penalty=l1, solver=liblinear, total=  55.7s\n",
      "[CV] C=10, penalty=l1, solver=liblinear ..............................\n",
      "[CV] ............... C=10, penalty=l1, solver=liblinear, total=  35.2s\n",
      "[CV] C=10, penalty=l1, solver=liblinear ..............................\n",
      "[CV] ............... C=10, penalty=l1, solver=liblinear, total=  51.0s\n",
      "[CV] C=10, penalty=l1, solver=liblinear ..............................\n",
      "[CV] ............... C=10, penalty=l1, solver=liblinear, total=  34.7s\n",
      "[CV] C=10, penalty=l1, solver=liblinear ..............................\n",
      "[CV] ............... C=10, penalty=l1, solver=liblinear, total=  31.9s\n",
      "[CV] C=10, penalty=l1, solver=lbfgs ..................................\n",
      "[CV] ................... C=10, penalty=l1, solver=lbfgs, total=   0.0s\n",
      "[CV] C=10, penalty=l1, solver=lbfgs ..................................\n",
      "[CV] ................... C=10, penalty=l1, solver=lbfgs, total=   0.0s\n",
      "[CV] C=10, penalty=l1, solver=lbfgs ..................................\n",
      "[CV] ................... C=10, penalty=l1, solver=lbfgs, total=   0.0s\n",
      "[CV] C=10, penalty=l1, solver=lbfgs ..................................\n",
      "[CV] ................... C=10, penalty=l1, solver=lbfgs, total=   0.0s\n",
      "[CV] C=10, penalty=l1, solver=lbfgs ..................................\n",
      "[CV] ................... C=10, penalty=l1, solver=lbfgs, total=   0.0s\n",
      "[CV] C=10, penalty=l2, solver=liblinear ..............................\n",
      "[CV] ............... C=10, penalty=l2, solver=liblinear, total=   7.0s\n",
      "[CV] C=10, penalty=l2, solver=liblinear ..............................\n",
      "[CV] ............... C=10, penalty=l2, solver=liblinear, total=   8.5s\n",
      "[CV] C=10, penalty=l2, solver=liblinear ..............................\n",
      "[CV] ............... C=10, penalty=l2, solver=liblinear, total=   9.4s\n",
      "[CV] C=10, penalty=l2, solver=liblinear ..............................\n",
      "[CV] ............... C=10, penalty=l2, solver=liblinear, total=   8.0s\n",
      "[CV] C=10, penalty=l2, solver=liblinear ..............................\n",
      "[CV] ............... C=10, penalty=l2, solver=liblinear, total=   8.2s\n",
      "[CV] C=10, penalty=l2, solver=lbfgs ..................................\n",
      "[CV] ................... C=10, penalty=l2, solver=lbfgs, total=   1.0s\n",
      "[CV] C=10, penalty=l2, solver=lbfgs ..................................\n",
      "[CV] ................... C=10, penalty=l2, solver=lbfgs, total=   1.3s\n",
      "[CV] C=10, penalty=l2, solver=lbfgs ..................................\n",
      "[CV] ................... C=10, penalty=l2, solver=lbfgs, total=   1.0s\n",
      "[CV] C=10, penalty=l2, solver=lbfgs ..................................\n",
      "[CV] ................... C=10, penalty=l2, solver=lbfgs, total=   1.0s\n",
      "[CV] C=10, penalty=l2, solver=lbfgs ..................................\n",
      "[CV] ................... C=10, penalty=l2, solver=lbfgs, total=   1.0s\n",
      "[CV] C=100, penalty=l1, solver=liblinear .............................\n",
      "[CV] .............. C=100, penalty=l1, solver=liblinear, total=  38.2s\n",
      "[CV] C=100, penalty=l1, solver=liblinear .............................\n",
      "[CV] .............. C=100, penalty=l1, solver=liblinear, total=  47.1s\n",
      "[CV] C=100, penalty=l1, solver=liblinear .............................\n",
      "[CV] .............. C=100, penalty=l1, solver=liblinear, total=  34.4s\n",
      "[CV] C=100, penalty=l1, solver=liblinear .............................\n",
      "[CV] .............. C=100, penalty=l1, solver=liblinear, total=  37.0s\n",
      "[CV] C=100, penalty=l1, solver=liblinear .............................\n",
      "[CV] .............. C=100, penalty=l1, solver=liblinear, total=  32.9s\n",
      "[CV] C=100, penalty=l1, solver=lbfgs .................................\n",
      "[CV] .................. C=100, penalty=l1, solver=lbfgs, total=   0.0s\n",
      "[CV] C=100, penalty=l1, solver=lbfgs .................................\n",
      "[CV] .................. C=100, penalty=l1, solver=lbfgs, total=   0.0s\n",
      "[CV] C=100, penalty=l1, solver=lbfgs .................................\n",
      "[CV] .................. C=100, penalty=l1, solver=lbfgs, total=   0.0s\n",
      "[CV] C=100, penalty=l1, solver=lbfgs .................................\n",
      "[CV] .................. C=100, penalty=l1, solver=lbfgs, total=   0.0s\n",
      "[CV] C=100, penalty=l1, solver=lbfgs .................................\n",
      "[CV] .................. C=100, penalty=l1, solver=lbfgs, total=   0.0s\n",
      "[CV] C=100, penalty=l2, solver=liblinear .............................\n",
      "[CV] .............. C=100, penalty=l2, solver=liblinear, total=   7.4s\n",
      "[CV] C=100, penalty=l2, solver=liblinear .............................\n",
      "[CV] .............. C=100, penalty=l2, solver=liblinear, total=   7.8s\n",
      "[CV] C=100, penalty=l2, solver=liblinear .............................\n",
      "[CV] .............. C=100, penalty=l2, solver=liblinear, total=   9.6s\n",
      "[CV] C=100, penalty=l2, solver=liblinear .............................\n",
      "[CV] .............. C=100, penalty=l2, solver=liblinear, total=   8.3s\n",
      "[CV] C=100, penalty=l2, solver=liblinear .............................\n",
      "[CV] .............. C=100, penalty=l2, solver=liblinear, total=   8.7s\n",
      "[CV] C=100, penalty=l2, solver=lbfgs .................................\n",
      "[CV] .................. C=100, penalty=l2, solver=lbfgs, total=   1.0s\n",
      "[CV] C=100, penalty=l2, solver=lbfgs .................................\n",
      "[CV] .................. C=100, penalty=l2, solver=lbfgs, total=   1.2s\n",
      "[CV] C=100, penalty=l2, solver=lbfgs .................................\n",
      "[CV] .................. C=100, penalty=l2, solver=lbfgs, total=   1.0s\n",
      "[CV] C=100, penalty=l2, solver=lbfgs .................................\n",
      "[CV] .................. C=100, penalty=l2, solver=lbfgs, total=   1.0s\n",
      "[CV] C=100, penalty=l2, solver=lbfgs .................................\n",
      "[CV] .................. C=100, penalty=l2, solver=lbfgs, total=   1.1s\n"
     ]
    },
    {
     "name": "stderr",
     "output_type": "stream",
     "text": [
      "[Parallel(n_jobs=1)]: Done  60 out of  60 | elapsed:  9.5min finished\n"
     ]
    },
    {
     "name": "stdout",
     "output_type": "stream",
     "text": [
      "Wall time: 10min 10s\n"
     ]
    },
    {
     "data": {
      "text/plain": [
       "GridSearchCV(cv=None, error_score=nan,\n",
       "             estimator=LogisticRegression(C=1.0, class_weight=None, dual=False,\n",
       "                                          fit_intercept=True,\n",
       "                                          intercept_scaling=1, l1_ratio=None,\n",
       "                                          max_iter=100, multi_class='auto',\n",
       "                                          n_jobs=None, penalty='l2',\n",
       "                                          random_state=None, solver='lbfgs',\n",
       "                                          tol=0.0001, verbose=0,\n",
       "                                          warm_start=False),\n",
       "             iid='deprecated', n_jobs=None,\n",
       "             param_grid={'C': [0.1, 10, 100], 'penalty': ['l1', 'l2'],\n",
       "                         'solver': ['liblinear', 'lbfgs']},\n",
       "             pre_dispatch='2*n_jobs', refit=True, return_train_score=False,\n",
       "             scoring=None, verbose=2)"
      ]
     },
     "execution_count": 25,
     "metadata": {},
     "output_type": "execute_result"
    }
   ],
   "source": [
    "%%time\n",
    "\n",
    "from sklearn.model_selection import GridSearchCV\n",
    "from sklearn.linear_model import LogisticRegression\n",
    "\n",
    "param_grid = {'C': [0.1, 10, 100], 'penalty': ['l1','l2'], 'solver': ['liblinear', 'lbfgs']}\n",
    "\n",
    "grid = GridSearchCV(LogisticRegression(), param_grid, refit=True, verbose=2)\n",
    "grid.fit(X_train, y_train)"
   ]
  },
  {
   "cell_type": "code",
   "execution_count": 26,
   "metadata": {},
   "outputs": [
    {
     "name": "stdout",
     "output_type": "stream",
     "text": [
      "{'C': 10, 'penalty': 'l1', 'solver': 'liblinear'}\n"
     ]
    }
   ],
   "source": [
    "print(grid.best_params_)"
   ]
  },
  {
   "cell_type": "markdown",
   "metadata": {},
   "source": [
    "Below we will go through 4 different sessions: Create Model, Model Evaluation, Feature Importance an Support Vector Interpretation. The below picture can be used as an model index reference of all models we are fitting with two methodologies. \n",
    "\n",
    "<img align=\"center\" src=\"https://github.com/fredpoon/ds_7331_jyrf_eda/blob/master/Model_List_2.jpg?raw=true\" alt=\"Model List\" />"
   ]
  },
  {
   "cell_type": "markdown",
   "metadata": {},
   "source": [
    "## Modeling\n",
    "\n",
    "### Logistic Regression\n",
    "Within statistics there are many ways to fit a model. For the purpose of this project and the dataset we generated a Logistic Regression to best explain SPG Grade. Logistic regression is used to measure probability on a binary or class response variable, like true/false or yes/no. Because the dependent variable is binary this is one of the main differences in logistic regression and linear regression. The dependent variable in our dataset is multinomial meaning there are more than two possible outcomes. Our model is using SPG Grade as the dependent variable with four different possible outcomes, A-F.\n",
    "\n",
    "First, let's split the dataset to train/test, and create 3 models. \n",
    "- Model with Original dataset\n",
    "- Model with SMOTE dataset\n",
    "- Model with optimally tuned parameters using GridSearchCV"
   ]
  },
  {
   "cell_type": "code",
   "execution_count": 27,
   "metadata": {},
   "outputs": [],
   "source": [
    "# Split X and Y into Training and Testing dataset\n",
    "for train_indices_org, test_indices_org in cv_object.split(schoolData_pick_new,schoolData_SPG_new): \n",
    "\n",
    "    Xsel_train = schoolData_pick_new.values[train_indices_org]\n",
    "    ysel_train = schoolData_SPG_new[train_indices_org]\n",
    "    \n",
    "    Xsel_test = schoolData_pick_new.values[test_indices_org]\n",
    "    ysel_test = schoolData_SPG_new[test_indices_org]"
   ]
  },
  {
   "cell_type": "code",
   "execution_count": 32,
   "metadata": {},
   "outputs": [
    {
     "name": "stdout",
     "output_type": "stream",
     "text": [
      "Wall time: 818 ms\n"
     ]
    },
    {
     "data": {
      "text/plain": [
       "0.4793926247288503"
      ]
     },
     "execution_count": 32,
     "metadata": {},
     "output_type": "execute_result"
    }
   ],
   "source": [
    "%%time\n",
    "#  Logistic regression fit with the original dataset\n",
    "from sklearn.metrics import accuracy_score\n",
    "lr_model_org = LogisticRegression()\n",
    "\n",
    "lr_model_org.fit(Xsel_train, ysel_train)\n",
    "pred_org = lr_model_org.predict(Xsel_test)\n",
    "\n",
    "accuracy_score(ysel_test, pred_org)"
   ]
  },
  {
   "cell_type": "code",
   "execution_count": 33,
   "metadata": {},
   "outputs": [
    {
     "name": "stdout",
     "output_type": "stream",
     "text": [
      "Wall time: 2.06 s\n"
     ]
    },
    {
     "data": {
      "text/plain": [
       "0.47143216712811475"
      ]
     },
     "execution_count": 33,
     "metadata": {},
     "output_type": "execute_result"
    }
   ],
   "source": [
    "%%time\n",
    "#  Logistic regression fit with the SMOTE dataset\n",
    "lr_model = LogisticRegression()\n",
    "\n",
    "lr_model.fit(X_train, y_train)\n",
    "pred = lr_model.predict(X_test)\n",
    "\n",
    "accuracy_score(y_test, pred)"
   ]
  },
  {
   "cell_type": "code",
   "execution_count": 34,
   "metadata": {},
   "outputs": [
    {
     "name": "stdout",
     "output_type": "stream",
     "text": [
      "Wall time: 41.8 s\n"
     ]
    },
    {
     "data": {
      "text/plain": [
       "0.6556758117291719"
      ]
     },
     "execution_count": 34,
     "metadata": {},
     "output_type": "execute_result"
    }
   ],
   "source": [
    "%%time\n",
    "#Lasso\n",
    "#Using the grid search parameters\n",
    "model2 = LogisticRegression(C=100, penalty='l1', solver='liblinear')\n",
    "\n",
    "model2.fit(X_train, y_train)\n",
    "pred = model2.predict(X_test)\n",
    "\n",
    "accuracy_score(y_test, pred)"
   ]
  },
  {
   "cell_type": "markdown",
   "metadata": {},
   "source": [
    "As we can see in our models above, our accuracy score of the model trained on the original data is comparatively low. Our model trained on SMOTE data did not do any better. It was not until we ran our GridSearchCV to find the optimal parameters which increased our accuracy score by 20 percentage points. "
   ]
  },
  {
   "cell_type": "code",
   "execution_count": 37,
   "metadata": {},
   "outputs": [
    {
     "name": "stdout",
     "output_type": "stream",
     "text": [
      "[[  0  65  65   0   0]\n",
      " [  1 124 330   5   2]\n",
      " [  1  79 661  44   9]\n",
      " [  0  12 264  94   6]\n",
      " [  0   0  36  41   5]]\n"
     ]
    },
    {
     "data": {
      "text/plain": [
       "<matplotlib.image.AxesImage at 0x1a80637dcc8>"
      ]
     },
     "execution_count": 37,
     "metadata": {},
     "output_type": "execute_result"
    },
    {
     "data": {
      "image/png": "[encoded data removed]",
      "text/plain": [
       "<Figure size 576x576 with 1 Axes>"
      ]
     },
     "metadata": {
      "needs_background": "light"
     },
     "output_type": "display_data"
    }
   ],
   "source": [
    "from sklearn import metrics as mt\n",
    "# Confusion Matrix from model using original data\n",
    "conf = mt.confusion_matrix(ysel_test,pred_org)\n",
    "\n",
    "print(conf )\n",
    "\n",
    "f = plt.figure(figsize=(8,8))\n",
    "plt.imshow(conf)"
   ]
  },
  {
   "cell_type": "code",
   "execution_count": 38,
   "metadata": {},
   "outputs": [
    {
     "name": "stdout",
     "output_type": "stream",
     "text": [
      "[[666 108   9   5   0]\n",
      " [126 434 191  24   1]\n",
      " [ 16 195 396 192  21]\n",
      " [  1  20 175 413 185]\n",
      " [  0   1   6  92 696]]\n"
     ]
    },
    {
     "data": {
      "text/plain": [
       "<matplotlib.image.AxesImage at 0x1a8071c6488>"
      ]
     },
     "execution_count": 38,
     "metadata": {},
     "output_type": "execute_result"
    },
    {
     "data": {
      "image/png": "[encoded data removed]",
      "text/plain": [
       "<Figure size 576x576 with 1 Axes>"
      ]
     },
     "metadata": {
      "needs_background": "light"
     },
     "output_type": "display_data"
    }
   ],
   "source": [
    "# Confusion Matrix from final model\n",
    "\n",
    "conf = mt.confusion_matrix(y_test,pred)\n",
    "\n",
    "print(conf )\n",
    "\n",
    "f = plt.figure(figsize=(8,8))\n",
    "plt.imshow(conf)"
   ]
  },
  {
   "cell_type": "markdown",
   "metadata": {},
   "source": [
    "### Support Vector Machine (SVM)\n",
    "SVM is a learning model used for classification and regression analysis.  It targets in finding hyperplanes in an N-dimensional space that can distinctly classifies the data points.\n",
    "\n",
    "First, let's split the dataset to train/test. We'll use similar comparative strategy as we did in Logistic Regression:\n",
    "- SVM model on original dataset\n",
    "- SVM model on SMOTE dataset\n",
    "- SVM model on optimally tuned parameters using GridSearchCV"
   ]
  },
  {
   "cell_type": "code",
   "execution_count": 39,
   "metadata": {},
   "outputs": [],
   "source": [
    "from sklearn.preprocessing import StandardScaler\n",
    "from sklearn.pipeline import Pipeline\n",
    "\n",
    "scl_obj = StandardScaler()\n",
    "\n",
    "Xorg_train_scaled = scl_obj.fit_transform(Xsel_train) # apply to training\n",
    "Xorg_test_scaled = scl_obj.fit_transform(Xsel_test) "
   ]
  },
  {
   "cell_type": "code",
   "execution_count": 40,
   "metadata": {},
   "outputs": [
    {
     "name": "stdout",
     "output_type": "stream",
     "text": [
      "accuracy: 0.6572668112798264\n",
      "[[ 64  64   1   1   0]\n",
      " [ 13 262 183   4   0]\n",
      " [  1  75 637  80   1]\n",
      " [  0   0 131 241   4]\n",
      " [  0   0   4  70   8]]\n",
      "Wall time: 9.49 s\n"
     ]
    }
   ],
   "source": [
    "%%time\n",
    "# lets investigate SVMs on the data and play with the parameters and kernels\n",
    "from sklearn.svm import SVC\n",
    "from sklearn import metrics as mt\n",
    "\n",
    "# train the model just as before\n",
    "svm_clf = SVC(C=0.5, kernel='rbf', degree=3, gamma='auto') # get object\n",
    "svm_clf.fit(Xorg_train_scaled, ysel_train)  # train object\n",
    "\n",
    "y_hat = svm_clf.predict(Xorg_test_scaled) # get test set precitions\n",
    "\n",
    "acc = mt.accuracy_score(ysel_test,y_hat)\n",
    "conf = mt.confusion_matrix(ysel_test,y_hat)\n",
    "print('accuracy:', acc )\n",
    "print(conf)"
   ]
  },
  {
   "cell_type": "code",
   "execution_count": 41,
   "metadata": {},
   "outputs": [
    {
     "data": {
      "text/plain": [
       "<matplotlib.image.AxesImage at 0x1a809340c88>"
      ]
     },
     "execution_count": 41,
     "metadata": {},
     "output_type": "execute_result"
    },
    {
     "data": {
      "image/png": "[encoded data removed]",
      "text/plain": [
       "<Figure size 576x576 with 1 Axes>"
      ]
     },
     "metadata": {
      "needs_background": "light"
     },
     "output_type": "display_data"
    }
   ],
   "source": [
    "f = plt.figure(figsize=(8,8))\n",
    "plt.imshow(conf)"
   ]
  },
  {
   "cell_type": "markdown",
   "metadata": {},
   "source": [
    "The accuracy for the above model is below 70%. However the confusion matrix shows that because the data is imbalance, the accuracy across different class are a lot different from each other. For example, the accuracy rate of C is much higher than other class. \n",
    "\n",
    "To solve data imbalance problem we are using the SMOTE balanced dataset for SVM work as shown below:"
   ]
  },
  {
   "cell_type": "code",
   "execution_count": 42,
   "metadata": {},
   "outputs": [],
   "source": [
    "from sklearn.preprocessing import StandardScaler\n",
    "from sklearn.pipeline import Pipeline\n",
    "\n",
    "scl_obj = StandardScaler()\n",
    "\n",
    "Xs2_train_scaled = scl_obj.fit_transform(X_train) # apply to training\n",
    "Xs2_test_scaled = scl_obj.fit_transform(X_test) "
   ]
  },
  {
   "cell_type": "code",
   "execution_count": 43,
   "metadata": {},
   "outputs": [
    {
     "name": "stdout",
     "output_type": "stream",
     "text": [
      "accuracy: 0.7938585451799648\n",
      "[[742  46   0   0   0]\n",
      " [ 77 577 105  16   1]\n",
      " [  6 164 497 145   8]\n",
      " [  0   4 124 590  76]\n",
      " [  0   0   3  44 748]]\n",
      "Wall time: 32.9 s\n"
     ]
    }
   ],
   "source": [
    "%%time\n",
    "# lets investigate SVMs on the data and play with the parameters and kernels\n",
    "from sklearn.svm import SVC\n",
    "from sklearn import metrics as mt\n",
    "\n",
    "# train the model just as before\n",
    "svm_clf = SVC(C=0.5, kernel='rbf', degree=3, gamma='auto') # get object\n",
    "svm_clf.fit(Xs2_train_scaled, y_train)  # train object\n",
    "\n",
    "y_hat = svm_clf.predict(Xs2_test_scaled) # get test set precitions\n",
    "\n",
    "acc = mt.accuracy_score(y_test,y_hat)\n",
    "conf = mt.confusion_matrix(y_test,y_hat)\n",
    "print('accuracy:', acc )\n",
    "print(conf)"
   ]
  },
  {
   "cell_type": "code",
   "execution_count": 44,
   "metadata": {
    "scrolled": true
   },
   "outputs": [
    {
     "data": {
      "text/plain": [
       "<matplotlib.image.AxesImage at 0x1a809206388>"
      ]
     },
     "execution_count": 44,
     "metadata": {},
     "output_type": "execute_result"
    },
    {
     "data": {
      "image/png": "[encoded data removed]",
      "text/plain": [
       "<Figure size 576x576 with 1 Axes>"
      ]
     },
     "metadata": {
      "needs_background": "light"
     },
     "output_type": "display_data"
    }
   ],
   "source": [
    "f = plt.figure(figsize=(8,8))\n",
    "plt.imshow(conf)"
   ]
  },
  {
   "cell_type": "markdown",
   "metadata": {},
   "source": [
    "As shown in the above confusion matrix and plot, we don't see that class C has an uniquely high accuracy compared to other classes anymore. Instead, we see that the accuracies are distributed much even across different classes.\n",
    "\n",
    "The accuracy of the model has also raised significantly from previous model."
   ]
  },
  {
   "cell_type": "code",
   "execution_count": 45,
   "metadata": {},
   "outputs": [
    {
     "name": "stdout",
     "output_type": "stream",
     "text": [
      "(11002, 50)\n",
      "(11002,)\n",
      "[1253 2665 2931 2700 1453]\n"
     ]
    }
   ],
   "source": [
    "# look at the support vectors\n",
    "print(svm_clf.support_vectors_.shape)\n",
    "print(svm_clf.support_.shape)\n",
    "print(svm_clf.n_support_ )"
   ]
  },
  {
   "cell_type": "markdown",
   "metadata": {},
   "source": [
    "In order to further optimize our model, we are conducting a grid search for SVM parameters. By running the grid searching below we choose the best parameter sets for SVM: C=10, kernel='rbf',gamma=0.1\n",
    "\n",
    "Just notice that the below run takes a longer time (~20min)."
   ]
  },
  {
   "cell_type": "code",
   "execution_count": 48,
   "metadata": {},
   "outputs": [
    {
     "name": "stdout",
     "output_type": "stream",
     "text": [
      "Fitting 5 folds for each of 32 candidates, totalling 160 fits\n",
      "[CV] C=0.1, gamma=1, kernel=rbf ......................................\n"
     ]
    },
    {
     "name": "stderr",
     "output_type": "stream",
     "text": [
      "[Parallel(n_jobs=1)]: Using backend SequentialBackend with 1 concurrent workers.\n"
     ]
    },
    {
     "name": "stdout",
     "output_type": "stream",
     "text": [
      "[CV] ....................... C=0.1, gamma=1, kernel=rbf, total=  29.1s\n",
      "[CV] C=0.1, gamma=1, kernel=rbf ......................................\n"
     ]
    },
    {
     "name": "stderr",
     "output_type": "stream",
     "text": [
      "[Parallel(n_jobs=1)]: Done   1 out of   1 | elapsed:   29.2s remaining:    0.0s\n"
     ]
    },
    {
     "name": "stdout",
     "output_type": "stream",
     "text": [
      "[CV] ....................... C=0.1, gamma=1, kernel=rbf, total=  29.3s\n",
      "[CV] C=0.1, gamma=1, kernel=rbf ......................................\n",
      "[CV] ....................... C=0.1, gamma=1, kernel=rbf, total=  27.4s\n",
      "[CV] C=0.1, gamma=1, kernel=rbf ......................................\n",
      "[CV] ....................... C=0.1, gamma=1, kernel=rbf, total=  27.1s\n",
      "[CV] C=0.1, gamma=1, kernel=rbf ......................................\n",
      "[CV] ....................... C=0.1, gamma=1, kernel=rbf, total=  27.5s\n",
      "[CV] C=0.1, gamma=1, kernel=sigmoid ..................................\n",
      "[CV] ................... C=0.1, gamma=1, kernel=sigmoid, total=  12.7s\n",
      "[CV] C=0.1, gamma=1, kernel=sigmoid ..................................\n",
      "[CV] ................... C=0.1, gamma=1, kernel=sigmoid, total=  12.8s\n",
      "[CV] C=0.1, gamma=1, kernel=sigmoid ..................................\n",
      "[CV] ................... C=0.1, gamma=1, kernel=sigmoid, total=  12.9s\n",
      "[CV] C=0.1, gamma=1, kernel=sigmoid ..................................\n",
      "[CV] ................... C=0.1, gamma=1, kernel=sigmoid, total=  12.6s\n",
      "[CV] C=0.1, gamma=1, kernel=sigmoid ..................................\n",
      "[CV] ................... C=0.1, gamma=1, kernel=sigmoid, total=  14.2s\n",
      "[CV] C=0.1, gamma=0.1, kernel=rbf ....................................\n",
      "[CV] ..................... C=0.1, gamma=0.1, kernel=rbf, total=  22.3s\n",
      "[CV] C=0.1, gamma=0.1, kernel=rbf ....................................\n",
      "[CV] ..................... C=0.1, gamma=0.1, kernel=rbf, total=  23.1s\n",
      "[CV] C=0.1, gamma=0.1, kernel=rbf ....................................\n",
      "[CV] ..................... C=0.1, gamma=0.1, kernel=rbf, total=  22.7s\n",
      "[CV] C=0.1, gamma=0.1, kernel=rbf ....................................\n",
      "[CV] ..................... C=0.1, gamma=0.1, kernel=rbf, total=  23.7s\n",
      "[CV] C=0.1, gamma=0.1, kernel=rbf ....................................\n",
      "[CV] ..................... C=0.1, gamma=0.1, kernel=rbf, total=  23.6s\n",
      "[CV] C=0.1, gamma=0.1, kernel=sigmoid ................................\n",
      "[CV] ................. C=0.1, gamma=0.1, kernel=sigmoid, total=  13.0s\n",
      "[CV] C=0.1, gamma=0.1, kernel=sigmoid ................................\n",
      "[CV] ................. C=0.1, gamma=0.1, kernel=sigmoid, total=  13.9s\n",
      "[CV] C=0.1, gamma=0.1, kernel=sigmoid ................................\n",
      "[CV] ................. C=0.1, gamma=0.1, kernel=sigmoid, total=  13.3s\n",
      "[CV] C=0.1, gamma=0.1, kernel=sigmoid ................................\n",
      "[CV] ................. C=0.1, gamma=0.1, kernel=sigmoid, total=  13.0s\n",
      "[CV] C=0.1, gamma=0.1, kernel=sigmoid ................................\n",
      "[CV] ................. C=0.1, gamma=0.1, kernel=sigmoid, total=  13.0s\n",
      "[CV] C=0.1, gamma=0.01, kernel=rbf ...................................\n",
      "[CV] .................... C=0.1, gamma=0.01, kernel=rbf, total=  12.3s\n",
      "[CV] C=0.1, gamma=0.01, kernel=rbf ...................................\n",
      "[CV] .................... C=0.1, gamma=0.01, kernel=rbf, total=  12.6s\n",
      "[CV] C=0.1, gamma=0.01, kernel=rbf ...................................\n",
      "[CV] .................... C=0.1, gamma=0.01, kernel=rbf, total=  12.2s\n",
      "[CV] C=0.1, gamma=0.01, kernel=rbf ...................................\n",
      "[CV] .................... C=0.1, gamma=0.01, kernel=rbf, total=  12.2s\n",
      "[CV] C=0.1, gamma=0.01, kernel=rbf ...................................\n",
      "[CV] .................... C=0.1, gamma=0.01, kernel=rbf, total=  12.2s\n",
      "[CV] C=0.1, gamma=0.01, kernel=sigmoid ...............................\n",
      "[CV] ................ C=0.1, gamma=0.01, kernel=sigmoid, total=  13.4s\n",
      "[CV] C=0.1, gamma=0.01, kernel=sigmoid ...............................\n",
      "[CV] ................ C=0.1, gamma=0.01, kernel=sigmoid, total=  14.8s\n",
      "[CV] C=0.1, gamma=0.01, kernel=sigmoid ...............................\n",
      "[CV] ................ C=0.1, gamma=0.01, kernel=sigmoid, total=  16.8s\n",
      "[CV] C=0.1, gamma=0.01, kernel=sigmoid ...............................\n",
      "[CV] ................ C=0.1, gamma=0.01, kernel=sigmoid, total=  16.4s\n",
      "[CV] C=0.1, gamma=0.01, kernel=sigmoid ...............................\n",
      "[CV] ................ C=0.1, gamma=0.01, kernel=sigmoid, total=  15.7s\n",
      "[CV] C=0.1, gamma=0.001, kernel=rbf ..................................\n",
      "[CV] ................... C=0.1, gamma=0.001, kernel=rbf, total=  23.4s\n",
      "[CV] C=0.1, gamma=0.001, kernel=rbf ..................................\n",
      "[CV] ................... C=0.1, gamma=0.001, kernel=rbf, total=  19.1s\n",
      "[CV] C=0.1, gamma=0.001, kernel=rbf ..................................\n",
      "[CV] ................... C=0.1, gamma=0.001, kernel=rbf, total=  21.8s\n",
      "[CV] C=0.1, gamma=0.001, kernel=rbf ..................................\n",
      "[CV] ................... C=0.1, gamma=0.001, kernel=rbf, total=  21.1s\n",
      "[CV] C=0.1, gamma=0.001, kernel=rbf ..................................\n",
      "[CV] ................... C=0.1, gamma=0.001, kernel=rbf, total=  20.4s\n",
      "[CV] C=0.1, gamma=0.001, kernel=sigmoid ..............................\n",
      "[CV] ............... C=0.1, gamma=0.001, kernel=sigmoid, total=  20.8s\n",
      "[CV] C=0.1, gamma=0.001, kernel=sigmoid ..............................\n",
      "[CV] ............... C=0.1, gamma=0.001, kernel=sigmoid, total=  20.5s\n",
      "[CV] C=0.1, gamma=0.001, kernel=sigmoid ..............................\n",
      "[CV] ............... C=0.1, gamma=0.001, kernel=sigmoid, total=  20.2s\n",
      "[CV] C=0.1, gamma=0.001, kernel=sigmoid ..............................\n",
      "[CV] ............... C=0.1, gamma=0.001, kernel=sigmoid, total=  20.6s\n",
      "[CV] C=0.1, gamma=0.001, kernel=sigmoid ..............................\n",
      "[CV] ............... C=0.1, gamma=0.001, kernel=sigmoid, total=  19.8s\n",
      "[CV] C=1, gamma=1, kernel=rbf ........................................\n",
      "[CV] ......................... C=1, gamma=1, kernel=rbf, total=  33.9s\n",
      "[CV] C=1, gamma=1, kernel=rbf ........................................\n",
      "[CV] ......................... C=1, gamma=1, kernel=rbf, total=  34.0s\n",
      "[CV] C=1, gamma=1, kernel=rbf ........................................\n",
      "[CV] ......................... C=1, gamma=1, kernel=rbf, total=  33.8s\n",
      "[CV] C=1, gamma=1, kernel=rbf ........................................\n",
      "[CV] ......................... C=1, gamma=1, kernel=rbf, total=  29.8s\n",
      "[CV] C=1, gamma=1, kernel=rbf ........................................\n",
      "[CV] ......................... C=1, gamma=1, kernel=rbf, total=  31.1s\n",
      "[CV] C=1, gamma=1, kernel=sigmoid ....................................\n",
      "[CV] ..................... C=1, gamma=1, kernel=sigmoid, total=  13.8s\n",
      "[CV] C=1, gamma=1, kernel=sigmoid ....................................\n",
      "[CV] ..................... C=1, gamma=1, kernel=sigmoid, total=  11.9s\n",
      "[CV] C=1, gamma=1, kernel=sigmoid ....................................\n",
      "[CV] ..................... C=1, gamma=1, kernel=sigmoid, total=  11.9s\n",
      "[CV] C=1, gamma=1, kernel=sigmoid ....................................\n",
      "[CV] ..................... C=1, gamma=1, kernel=sigmoid, total=  12.5s\n",
      "[CV] C=1, gamma=1, kernel=sigmoid ....................................\n",
      "[CV] ..................... C=1, gamma=1, kernel=sigmoid, total=  12.7s\n",
      "[CV] C=1, gamma=0.1, kernel=rbf ......................................\n",
      "[CV] ....................... C=1, gamma=0.1, kernel=rbf, total=  18.2s\n",
      "[CV] C=1, gamma=0.1, kernel=rbf ......................................\n",
      "[CV] ....................... C=1, gamma=0.1, kernel=rbf, total=  19.9s\n",
      "[CV] C=1, gamma=0.1, kernel=rbf ......................................\n",
      "[CV] ....................... C=1, gamma=0.1, kernel=rbf, total=  20.0s\n",
      "[CV] C=1, gamma=0.1, kernel=rbf ......................................\n",
      "[CV] ....................... C=1, gamma=0.1, kernel=rbf, total=  18.6s\n",
      "[CV] C=1, gamma=0.1, kernel=rbf ......................................\n",
      "[CV] ....................... C=1, gamma=0.1, kernel=rbf, total=  18.3s\n",
      "[CV] C=1, gamma=0.1, kernel=sigmoid ..................................\n",
      "[CV] ................... C=1, gamma=0.1, kernel=sigmoid, total=  12.1s\n",
      "[CV] C=1, gamma=0.1, kernel=sigmoid ..................................\n",
      "[CV] ................... C=1, gamma=0.1, kernel=sigmoid, total=  13.6s\n",
      "[CV] C=1, gamma=0.1, kernel=sigmoid ..................................\n",
      "[CV] ................... C=1, gamma=0.1, kernel=sigmoid, total=  12.4s\n",
      "[CV] C=1, gamma=0.1, kernel=sigmoid ..................................\n",
      "[CV] ................... C=1, gamma=0.1, kernel=sigmoid, total=  14.0s\n",
      "[CV] C=1, gamma=0.1, kernel=sigmoid ..................................\n",
      "[CV] ................... C=1, gamma=0.1, kernel=sigmoid, total=  15.3s\n",
      "[CV] C=1, gamma=0.01, kernel=rbf .....................................\n",
      "[CV] ...................... C=1, gamma=0.01, kernel=rbf, total=   9.0s\n",
      "[CV] C=1, gamma=0.01, kernel=rbf .....................................\n",
      "[CV] ...................... C=1, gamma=0.01, kernel=rbf, total=   9.1s\n",
      "[CV] C=1, gamma=0.01, kernel=rbf .....................................\n",
      "[CV] ...................... C=1, gamma=0.01, kernel=rbf, total=   9.1s\n",
      "[CV] C=1, gamma=0.01, kernel=rbf .....................................\n",
      "[CV] ...................... C=1, gamma=0.01, kernel=rbf, total=   9.0s\n",
      "[CV] C=1, gamma=0.01, kernel=rbf .....................................\n",
      "[CV] ...................... C=1, gamma=0.01, kernel=rbf, total=   8.8s\n",
      "[CV] C=1, gamma=0.01, kernel=sigmoid .................................\n",
      "[CV] .................. C=1, gamma=0.01, kernel=sigmoid, total=   8.7s\n",
      "[CV] C=1, gamma=0.01, kernel=sigmoid .................................\n",
      "[CV] .................. C=1, gamma=0.01, kernel=sigmoid, total=   8.2s\n",
      "[CV] C=1, gamma=0.01, kernel=sigmoid .................................\n",
      "[CV] .................. C=1, gamma=0.01, kernel=sigmoid, total=   8.9s\n",
      "[CV] C=1, gamma=0.01, kernel=sigmoid .................................\n",
      "[CV] .................. C=1, gamma=0.01, kernel=sigmoid, total=   8.8s\n",
      "[CV] C=1, gamma=0.01, kernel=sigmoid .................................\n",
      "[CV] .................. C=1, gamma=0.01, kernel=sigmoid, total=   9.2s\n",
      "[CV] C=1, gamma=0.001, kernel=rbf ....................................\n",
      "[CV] ..................... C=1, gamma=0.001, kernel=rbf, total=  12.0s\n",
      "[CV] C=1, gamma=0.001, kernel=rbf ....................................\n",
      "[CV] ..................... C=1, gamma=0.001, kernel=rbf, total=  11.9s\n",
      "[CV] C=1, gamma=0.001, kernel=rbf ....................................\n",
      "[CV] ..................... C=1, gamma=0.001, kernel=rbf, total=  11.9s\n",
      "[CV] C=1, gamma=0.001, kernel=rbf ....................................\n",
      "[CV] ..................... C=1, gamma=0.001, kernel=rbf, total=  12.0s\n",
      "[CV] C=1, gamma=0.001, kernel=rbf ....................................\n",
      "[CV] ..................... C=1, gamma=0.001, kernel=rbf, total=  13.5s\n",
      "[CV] C=1, gamma=0.001, kernel=sigmoid ................................\n",
      "[CV] ................. C=1, gamma=0.001, kernel=sigmoid, total=  12.7s\n",
      "[CV] C=1, gamma=0.001, kernel=sigmoid ................................\n",
      "[CV] ................. C=1, gamma=0.001, kernel=sigmoid, total=  13.0s\n",
      "[CV] C=1, gamma=0.001, kernel=sigmoid ................................\n",
      "[CV] ................. C=1, gamma=0.001, kernel=sigmoid, total=  12.9s\n",
      "[CV] C=1, gamma=0.001, kernel=sigmoid ................................\n",
      "[CV] ................. C=1, gamma=0.001, kernel=sigmoid, total=  13.1s\n",
      "[CV] C=1, gamma=0.001, kernel=sigmoid ................................\n",
      "[CV] ................. C=1, gamma=0.001, kernel=sigmoid, total=  12.8s\n",
      "[CV] C=10, gamma=1, kernel=rbf .......................................\n",
      "[CV] ........................ C=10, gamma=1, kernel=rbf, total=  34.9s\n",
      "[CV] C=10, gamma=1, kernel=rbf .......................................\n",
      "[CV] ........................ C=10, gamma=1, kernel=rbf, total=  35.1s\n",
      "[CV] C=10, gamma=1, kernel=rbf .......................................\n",
      "[CV] ........................ C=10, gamma=1, kernel=rbf, total=  34.9s\n",
      "[CV] C=10, gamma=1, kernel=rbf .......................................\n",
      "[CV] ........................ C=10, gamma=1, kernel=rbf, total=  33.2s\n",
      "[CV] C=10, gamma=1, kernel=rbf .......................................\n",
      "[CV] ........................ C=10, gamma=1, kernel=rbf, total=  30.2s\n",
      "[CV] C=10, gamma=1, kernel=sigmoid ...................................\n",
      "[CV] .................... C=10, gamma=1, kernel=sigmoid, total=  12.4s\n",
      "[CV] C=10, gamma=1, kernel=sigmoid ...................................\n",
      "[CV] .................... C=10, gamma=1, kernel=sigmoid, total=  11.7s\n",
      "[CV] C=10, gamma=1, kernel=sigmoid ...................................\n",
      "[CV] .................... C=10, gamma=1, kernel=sigmoid, total=  11.9s\n",
      "[CV] C=10, gamma=1, kernel=sigmoid ...................................\n",
      "[CV] .................... C=10, gamma=1, kernel=sigmoid, total=  12.0s\n",
      "[CV] C=10, gamma=1, kernel=sigmoid ...................................\n",
      "[CV] .................... C=10, gamma=1, kernel=sigmoid, total=  13.1s\n",
      "[CV] C=10, gamma=0.1, kernel=rbf .....................................\n",
      "[CV] ...................... C=10, gamma=0.1, kernel=rbf, total=  21.7s\n",
      "[CV] C=10, gamma=0.1, kernel=rbf .....................................\n",
      "[CV] ...................... C=10, gamma=0.1, kernel=rbf, total=  20.0s\n",
      "[CV] C=10, gamma=0.1, kernel=rbf .....................................\n",
      "[CV] ...................... C=10, gamma=0.1, kernel=rbf, total=  19.6s\n",
      "[CV] C=10, gamma=0.1, kernel=rbf .....................................\n",
      "[CV] ...................... C=10, gamma=0.1, kernel=rbf, total=  20.1s\n",
      "[CV] C=10, gamma=0.1, kernel=rbf .....................................\n",
      "[CV] ...................... C=10, gamma=0.1, kernel=rbf, total=  19.2s\n",
      "[CV] C=10, gamma=0.1, kernel=sigmoid .................................\n",
      "[CV] .................. C=10, gamma=0.1, kernel=sigmoid, total=  10.8s\n",
      "[CV] C=10, gamma=0.1, kernel=sigmoid .................................\n",
      "[CV] .................. C=10, gamma=0.1, kernel=sigmoid, total=  12.0s\n",
      "[CV] C=10, gamma=0.1, kernel=sigmoid .................................\n",
      "[CV] .................. C=10, gamma=0.1, kernel=sigmoid, total=  12.2s\n",
      "[CV] C=10, gamma=0.1, kernel=sigmoid .................................\n",
      "[CV] .................. C=10, gamma=0.1, kernel=sigmoid, total=  12.0s\n",
      "[CV] C=10, gamma=0.1, kernel=sigmoid .................................\n",
      "[CV] .................. C=10, gamma=0.1, kernel=sigmoid, total=  10.7s\n",
      "[CV] C=10, gamma=0.01, kernel=rbf ....................................\n",
      "[CV] ..................... C=10, gamma=0.01, kernel=rbf, total=   7.0s\n",
      "[CV] C=10, gamma=0.01, kernel=rbf ....................................\n",
      "[CV] ..................... C=10, gamma=0.01, kernel=rbf, total=   7.1s\n",
      "[CV] C=10, gamma=0.01, kernel=rbf ....................................\n",
      "[CV] ..................... C=10, gamma=0.01, kernel=rbf, total=   7.3s\n",
      "[CV] C=10, gamma=0.01, kernel=rbf ....................................\n",
      "[CV] ..................... C=10, gamma=0.01, kernel=rbf, total=   7.2s\n",
      "[CV] C=10, gamma=0.01, kernel=rbf ....................................\n",
      "[CV] ..................... C=10, gamma=0.01, kernel=rbf, total=   7.1s\n",
      "[CV] C=10, gamma=0.01, kernel=sigmoid ................................\n",
      "[CV] ................. C=10, gamma=0.01, kernel=sigmoid, total=   5.7s\n",
      "[CV] C=10, gamma=0.01, kernel=sigmoid ................................\n",
      "[CV] ................. C=10, gamma=0.01, kernel=sigmoid, total=   5.6s\n",
      "[CV] C=10, gamma=0.01, kernel=sigmoid ................................\n",
      "[CV] ................. C=10, gamma=0.01, kernel=sigmoid, total=   6.3s\n",
      "[CV] C=10, gamma=0.01, kernel=sigmoid ................................\n",
      "[CV] ................. C=10, gamma=0.01, kernel=sigmoid, total=   5.5s\n",
      "[CV] C=10, gamma=0.01, kernel=sigmoid ................................\n",
      "[CV] ................. C=10, gamma=0.01, kernel=sigmoid, total=   5.9s\n",
      "[CV] C=10, gamma=0.001, kernel=rbf ...................................\n",
      "[CV] .................... C=10, gamma=0.001, kernel=rbf, total=   8.7s\n",
      "[CV] C=10, gamma=0.001, kernel=rbf ...................................\n",
      "[CV] .................... C=10, gamma=0.001, kernel=rbf, total=   8.4s\n",
      "[CV] C=10, gamma=0.001, kernel=rbf ...................................\n",
      "[CV] .................... C=10, gamma=0.001, kernel=rbf, total=   8.6s\n",
      "[CV] C=10, gamma=0.001, kernel=rbf ...................................\n",
      "[CV] .................... C=10, gamma=0.001, kernel=rbf, total=   8.5s\n",
      "[CV] C=10, gamma=0.001, kernel=rbf ...................................\n",
      "[CV] .................... C=10, gamma=0.001, kernel=rbf, total=   8.3s\n",
      "[CV] C=10, gamma=0.001, kernel=sigmoid ...............................\n",
      "[CV] ................ C=10, gamma=0.001, kernel=sigmoid, total=   8.1s\n",
      "[CV] C=10, gamma=0.001, kernel=sigmoid ...............................\n",
      "[CV] ................ C=10, gamma=0.001, kernel=sigmoid, total=   8.0s\n",
      "[CV] C=10, gamma=0.001, kernel=sigmoid ...............................\n",
      "[CV] ................ C=10, gamma=0.001, kernel=sigmoid, total=   8.2s\n",
      "[CV] C=10, gamma=0.001, kernel=sigmoid ...............................\n",
      "[CV] ................ C=10, gamma=0.001, kernel=sigmoid, total=   8.3s\n",
      "[CV] C=10, gamma=0.001, kernel=sigmoid ...............................\n",
      "[CV] ................ C=10, gamma=0.001, kernel=sigmoid, total=   8.1s\n",
      "[CV] C=100, gamma=1, kernel=rbf ......................................\n",
      "[CV] ....................... C=100, gamma=1, kernel=rbf, total=  31.0s\n",
      "[CV] C=100, gamma=1, kernel=rbf ......................................\n",
      "[CV] ....................... C=100, gamma=1, kernel=rbf, total=  31.0s\n",
      "[CV] C=100, gamma=1, kernel=rbf ......................................\n",
      "[CV] ....................... C=100, gamma=1, kernel=rbf, total=  30.4s\n",
      "[CV] C=100, gamma=1, kernel=rbf ......................................\n",
      "[CV] ....................... C=100, gamma=1, kernel=rbf, total=  32.5s\n",
      "[CV] C=100, gamma=1, kernel=rbf ......................................\n",
      "[CV] ....................... C=100, gamma=1, kernel=rbf, total=  33.6s\n",
      "[CV] C=100, gamma=1, kernel=sigmoid ..................................\n",
      "[CV] ................... C=100, gamma=1, kernel=sigmoid, total=  14.6s\n",
      "[CV] C=100, gamma=1, kernel=sigmoid ..................................\n",
      "[CV] ................... C=100, gamma=1, kernel=sigmoid, total=  13.1s\n",
      "[CV] C=100, gamma=1, kernel=sigmoid ..................................\n",
      "[CV] ................... C=100, gamma=1, kernel=sigmoid, total=  13.4s\n",
      "[CV] C=100, gamma=1, kernel=sigmoid ..................................\n",
      "[CV] ................... C=100, gamma=1, kernel=sigmoid, total=  13.5s\n",
      "[CV] C=100, gamma=1, kernel=sigmoid ..................................\n",
      "[CV] ................... C=100, gamma=1, kernel=sigmoid, total=  13.3s\n",
      "[CV] C=100, gamma=0.1, kernel=rbf ....................................\n",
      "[CV] ..................... C=100, gamma=0.1, kernel=rbf, total=  22.8s\n",
      "[CV] C=100, gamma=0.1, kernel=rbf ....................................\n",
      "[CV] ..................... C=100, gamma=0.1, kernel=rbf, total=  21.9s\n",
      "[CV] C=100, gamma=0.1, kernel=rbf ....................................\n",
      "[CV] ..................... C=100, gamma=0.1, kernel=rbf, total=  21.5s\n",
      "[CV] C=100, gamma=0.1, kernel=rbf ....................................\n",
      "[CV] ..................... C=100, gamma=0.1, kernel=rbf, total=  20.6s\n",
      "[CV] C=100, gamma=0.1, kernel=rbf ....................................\n",
      "[CV] ..................... C=100, gamma=0.1, kernel=rbf, total=  21.7s\n",
      "[CV] C=100, gamma=0.1, kernel=sigmoid ................................\n",
      "[CV] ................. C=100, gamma=0.1, kernel=sigmoid, total=  11.6s\n",
      "[CV] C=100, gamma=0.1, kernel=sigmoid ................................\n",
      "[CV] ................. C=100, gamma=0.1, kernel=sigmoid, total=  12.3s\n",
      "[CV] C=100, gamma=0.1, kernel=sigmoid ................................\n",
      "[CV] ................. C=100, gamma=0.1, kernel=sigmoid, total=  12.2s\n",
      "[CV] C=100, gamma=0.1, kernel=sigmoid ................................\n",
      "[CV] ................. C=100, gamma=0.1, kernel=sigmoid, total=  12.8s\n",
      "[CV] C=100, gamma=0.1, kernel=sigmoid ................................\n",
      "[CV] ................. C=100, gamma=0.1, kernel=sigmoid, total=  12.7s\n",
      "[CV] C=100, gamma=0.01, kernel=rbf ...................................\n",
      "[CV] .................... C=100, gamma=0.01, kernel=rbf, total=   9.6s\n",
      "[CV] C=100, gamma=0.01, kernel=rbf ...................................\n",
      "[CV] .................... C=100, gamma=0.01, kernel=rbf, total=   9.3s\n",
      "[CV] C=100, gamma=0.01, kernel=rbf ...................................\n",
      "[CV] .................... C=100, gamma=0.01, kernel=rbf, total=   9.1s\n",
      "[CV] C=100, gamma=0.01, kernel=rbf ...................................\n",
      "[CV] .................... C=100, gamma=0.01, kernel=rbf, total=   9.9s\n",
      "[CV] C=100, gamma=0.01, kernel=rbf ...................................\n",
      "[CV] .................... C=100, gamma=0.01, kernel=rbf, total=   9.7s\n",
      "[CV] C=100, gamma=0.01, kernel=sigmoid ...............................\n",
      "[CV] ................ C=100, gamma=0.01, kernel=sigmoid, total=   6.2s\n",
      "[CV] C=100, gamma=0.01, kernel=sigmoid ...............................\n",
      "[CV] ................ C=100, gamma=0.01, kernel=sigmoid, total=   6.1s\n",
      "[CV] C=100, gamma=0.01, kernel=sigmoid ...............................\n",
      "[CV] ................ C=100, gamma=0.01, kernel=sigmoid, total=   6.3s\n",
      "[CV] C=100, gamma=0.01, kernel=sigmoid ...............................\n",
      "[CV] ................ C=100, gamma=0.01, kernel=sigmoid, total=   5.8s\n",
      "[CV] C=100, gamma=0.01, kernel=sigmoid ...............................\n",
      "[CV] ................ C=100, gamma=0.01, kernel=sigmoid, total=   5.7s\n",
      "[CV] C=100, gamma=0.001, kernel=rbf ..................................\n",
      "[CV] ................... C=100, gamma=0.001, kernel=rbf, total=   8.8s\n",
      "[CV] C=100, gamma=0.001, kernel=rbf ..................................\n",
      "[CV] ................... C=100, gamma=0.001, kernel=rbf, total=   8.6s\n",
      "[CV] C=100, gamma=0.001, kernel=rbf ..................................\n",
      "[CV] ................... C=100, gamma=0.001, kernel=rbf, total=   8.9s\n",
      "[CV] C=100, gamma=0.001, kernel=rbf ..................................\n",
      "[CV] ................... C=100, gamma=0.001, kernel=rbf, total=   8.9s\n",
      "[CV] C=100, gamma=0.001, kernel=rbf ..................................\n",
      "[CV] ................... C=100, gamma=0.001, kernel=rbf, total=   8.7s\n",
      "[CV] C=100, gamma=0.001, kernel=sigmoid ..............................\n",
      "[CV] ............... C=100, gamma=0.001, kernel=sigmoid, total=   8.6s\n",
      "[CV] C=100, gamma=0.001, kernel=sigmoid ..............................\n",
      "[CV] ............... C=100, gamma=0.001, kernel=sigmoid, total=   8.7s\n",
      "[CV] C=100, gamma=0.001, kernel=sigmoid ..............................\n",
      "[CV] ............... C=100, gamma=0.001, kernel=sigmoid, total=   8.7s\n",
      "[CV] C=100, gamma=0.001, kernel=sigmoid ..............................\n",
      "[CV] ............... C=100, gamma=0.001, kernel=sigmoid, total=   8.4s\n",
      "[CV] C=100, gamma=0.001, kernel=sigmoid ..............................\n",
      "[CV] ............... C=100, gamma=0.001, kernel=sigmoid, total=   8.8s\n"
     ]
    },
    {
     "name": "stderr",
     "output_type": "stream",
     "text": [
      "[Parallel(n_jobs=1)]: Done 160 out of 160 | elapsed: 40.5min finished\n"
     ]
    },
    {
     "data": {
      "text/plain": [
       "GridSearchCV(estimator=SVC(),\n",
       "             param_grid={'C': [0.1, 1, 10, 100], 'gamma': [1, 0.1, 0.01, 0.001],\n",
       "                         'kernel': ['rbf', 'sigmoid']},\n",
       "             verbose=2)"
      ]
     },
     "execution_count": 48,
     "metadata": {},
     "output_type": "execute_result"
    }
   ],
   "source": [
    "param_grid = {'C': [0.1, 1, 10, 100], 'gamma': [1, 0.1, 0.01, 0.001], \n",
    "             'kernel': ['rbf', 'sigmoid']}\n",
    "\n",
    "grid = GridSearchCV(SVC(), param_grid, refit=True, verbose=2)\n",
    "grid.fit(Xs2_train_scaled, y_train)"
   ]
  },
  {
   "cell_type": "code",
   "execution_count": 49,
   "metadata": {},
   "outputs": [
    {
     "name": "stdout",
     "output_type": "stream",
     "text": [
      "{'C': 10, 'gamma': 0.1, 'kernel': 'rbf'}\n"
     ]
    }
   ],
   "source": [
    "print(grid.best_params_)"
   ]
  },
  {
   "cell_type": "code",
   "execution_count": 46,
   "metadata": {},
   "outputs": [
    {
     "data": {
      "text/plain": [
       "SVC(C=10, break_ties=False, cache_size=200, class_weight=None, coef0=0.0,\n",
       "    decision_function_shape='ovr', degree=3, gamma=0.1, kernel='rbf',\n",
       "    max_iter=-1, probability=False, random_state=None, shrinking=True,\n",
       "    tol=0.001, verbose=False)"
      ]
     },
     "execution_count": 46,
     "metadata": {},
     "output_type": "execute_result"
    },
    {
     "name": "stdout",
     "output_type": "stream",
     "text": [
      "0.8567832871885225\n"
     ]
    }
   ],
   "source": [
    "svm_clf_gs = SVC(C=10, kernel='rbf', degree=3, gamma=0.1) # get object\n",
    "svm_clf_gs.fit(Xorg_train_scaled, ysel_train)  # train object\n",
    "\n",
    "y_hat_gs = svm_clf_gs.predict(Xs2_test_scaled) # get test set precitions\n",
    "\n",
    "#grid_predictions = grid.predict(Xs2_test_scaled)\n",
    "#acc = mt.accuracy_score(y_test, grid_predictions)\n",
    "acc = mt.accuracy_score(y_test, y_hat_gs)\n",
    "\n",
    "print(acc)"
   ]
  },
  {
   "cell_type": "markdown",
   "metadata": {},
   "source": [
    "As we can see in our models above, our accuracy score of the model trained on the original data is comparatively low. Our model trained on SMOTE data did better and get 14 percentage points uplift for accuracy. It was not until we ran our GridSearchCV to find the optimal parameters which increased our accuracy score approximately 10 percentage points. "
   ]
  },
  {
   "cell_type": "markdown",
   "metadata": {},
   "source": [
    "## Model Advantages\n",
    "\n",
    "In regards to time, our dataset was not very large. Our models all ran within 30 seconds. Because of this we did not run Stochastic Gradient Descent (SGD). When rendering this notebook, GridSearchCV took up to 10 minutes to run for Logistic Regression and up to 20 minutes for SVM. But once we found the optimal parameters, we did not have to re-run the search.\n",
    "\n",
    "Overall, SVM produce higher accuracy results at approximately 85 percentage points with our optimal parameters returned from the grid search. The best accuracy percentage we were able to produce with Logistic Regression was just under 67 percentage points. Looking at our confusion matrix, we can see that Logistic Regression has a harder time distinguishing between SPG grades. One advantage of SVM is using nonlinear kernals, this may add model complexity which can raise the accuracy.\n",
    "\n",
    "If we use original data, we see unbalanced data where SPG Grade favors 'C'. In the confusion matrix plot, we see a discrepancy along the diagonal between 'C' and the other response categories. To counter this, we used <code>imbalanced-learn</code> package and SMOTE to balance our data. With the SMOTE dataset, our confusion matrix plot was more evenly distributed.\n",
    "\n",
    "Despite Logistic Regression losing out in accuracy score, it still has its advantages. Logistic Regression assisted with feature selection in that it allowed us to measure feature importance. In terms of speed, Logistic Regression ran much faster than SVM. With a larger dataset, LR models may still be advantageous from this perspective."
   ]
  },
  {
   "cell_type": "markdown",
   "metadata": {},
   "source": [
    "## Interpret Feature Importance "
   ]
  },
  {
   "cell_type": "code",
   "execution_count": 47,
   "metadata": {},
   "outputs": [
    {
     "data": {
      "text/plain": [
       "StandardScaler(copy=True, with_mean=True, with_std=True)"
      ]
     },
     "execution_count": 47,
     "metadata": {},
     "output_type": "execute_result"
    },
    {
     "data": {
      "text/plain": [
       "LogisticRegression(C=100, class_weight=None, dual=False, fit_intercept=True,\n",
       "                   intercept_scaling=1, l1_ratio=None, max_iter=100,\n",
       "                   multi_class='auto', n_jobs=None, penalty='l1',\n",
       "                   random_state=None, solver='liblinear', tol=0.0001, verbose=0,\n",
       "                   warm_start=False)"
      ]
     },
     "execution_count": 47,
     "metadata": {},
     "output_type": "execute_result"
    },
    {
     "name": "stdout",
     "output_type": "stream",
     "text": [
      "accuracy: 0.6589478983136169\n",
      "[[668 104  11   5   0]\n",
      " [129 435 189  23   0]\n",
      " [ 19 193 402 184  22]\n",
      " [  2  19 171 418 184]\n",
      " [  0   1   6  93 695]]\n",
      "TotalTargets_pTarget_PctMet has weight of 1.2609978455676363\n",
      "MinorityMalePct has weight of -1.645724834627868\n",
      "MinorityFemalePct has weight of 0.9094789951013704\n",
      "short_susp_per_c_num has weight of -3.4970099072323\n",
      "avg_daily_attend_pct has weight of 0.8145213139040627\n",
      "title1_type_cd_Y has weight of -0.6797807409112365\n",
      "BlackMalePct has weight of -0.6158699410642828\n",
      "AsianFemalePct has weight of 0.25043275543010163\n",
      "BlackFemalePct has weight of -0.5188850491038133\n",
      "HispanicMalePct has weight of -1.3576229568951577\n",
      "MathGr3-8_pTarget_PctMet has weight of 0.29804255403138796\n",
      "AsianMalePct has weight of 0.46158223642224366\n",
      "SciGr5&8_pTarget_PctMet has weight of -0.9196166089946315\n",
      "nbpts_num has weight of 0.11478341754877666\n",
      "lea_sat_avg_score_num has weight of 0.3647218472703562\n",
      "stud_internet_comp_num has weight of -0.11305325251234172\n",
      "st_avg_student_num has weight of -0.12805084539459177\n",
      "HispanicFemalePct has weight of 0.32085374686542945\n",
      "Accomplished_TCHR_Standard 4_Pct has weight of -0.13009981632406742\n",
      "Accomplished_TCHR_Standard 3_Pct has weight of -0.007160552829826993\n",
      "Developing_TCHR_Standard 2_Pct has weight of -0.17693116548868498\n",
      "Accomplished_TCHR_Standard 5_Pct has weight of 0.46700030855031494\n",
      "10+ Years_LEA_Exp_Pct_Prin has weight of 0.16638009222985398\n",
      "4-10 Years_LEA_Exp_Pct_Prin has weight of 0.1970154213757543\n",
      "Accomplished_TCHR_Standard 1_Pct has weight of -0.02774855528814281\n",
      "Accomplished_TCHR_Standard 2_Pct has weight of -0.36640995696923695\n",
      "Developing_TCHR_Standard 1_Pct has weight of 0.22907455542226043\n",
      "pct_GCE_ALL has weight of -0.7772572254132943\n",
      "0-3 Years_LEA_Exp_Pct_Prin has weight of -0.36764573021988717\n",
      "st_emer_prov_teach_pct has weight of -0.11714301389904921\n",
      "lea_sat_participation_pct has weight of 0.45251127973556843\n",
      "lea_ap_participation_pct has weight of 0.0591291678902261\n",
      "lea_federal_perpupil_num has weight of 0.41552486531858174\n",
      "lea_local_perpupil_num has weight of -0.2357042336125493\n",
      "advance_dgr_pct has weight of 0.3732457339414925\n",
      "Developing_TCHR_Standard 5_Pct has weight of -0.0988246160460645\n",
      "lateral_teach_pct has weight of -0.4036470903962906\n",
      "lea_flicensed_teach_pct has weight of -0.5593617428206608\n",
      "Developing_TCHR_Standard 3_Pct has weight of 0.1898674427750614\n",
      "lea_tchyrs_0thru3_pct has weight of 0.06838777731675877\n",
      "lea_tchyrs_11plus_pct has weight of 0.11307676739671568\n",
      "lea_nbpts_num has weight of 0.2509926332333744\n",
      "lea_advance_dgr_pct has weight of -0.5145970750871389\n",
      "lea_1yr_tchr_trnovr_pct has weight of 0.25660771322997145\n",
      "lea_emer_prov_teach_pct has weight of -0.2754887857399465\n",
      "st_flicensed_teach_pct has weight of 0.09272837144752323\n",
      "st_tchyrs_0thru3_pct has weight of -0.29886126811956554\n",
      "st_1yr_tchr_trnovr_pct has weight of 0.41637165190260206\n",
      "lea_tchyrs_4thru10_pct has weight of 0.18373781394344185\n",
      "Category_Cd_T has weight of -0.3931252022569254\n"
     ]
    }
   ],
   "source": [
    "from sklearn.preprocessing import StandardScaler\n",
    "\n",
    "# scale attributes by the training set\n",
    "scl_obj = StandardScaler()\n",
    "scl_obj.fit(X_train) # find scalings for each column that make this zero mean and unit std\n",
    "\n",
    "X_train_scaled = scl_obj.transform(X_train) # apply to training\n",
    "X_test_scaled = scl_obj.transform(X_test) # apply those means and std to the test set (without snooping at the test set values)\n",
    "\n",
    "# train the model just as before\n",
    "model2 = LogisticRegression(C=100, penalty='l1', solver='liblinear')\n",
    "model2.fit(X_train_scaled, y_train)\n",
    "pred = model2.predict(X_test_scaled)\n",
    "\n",
    "acc = mt.accuracy_score(y_test,pred)\n",
    "conf = mt.confusion_matrix(y_test,pred)\n",
    "print('accuracy:', acc )\n",
    "print(conf )\n",
    "\n",
    "weights = model2.coef_.T # take transpose to make a column vector\n",
    "variable_names = schoolData_pick_new.columns\n",
    "for coef, name in zip(weights,variable_names):\n",
    "    print(name, 'has weight of', coef[0])"
   ]
  },
  {
   "cell_type": "code",
   "execution_count": 48,
   "metadata": {},
   "outputs": [
    {
     "data": {
      "text/plain": [
       "<matplotlib.axes._subplots.AxesSubplot at 0x1a809286708>"
      ]
     },
     "execution_count": 48,
     "metadata": {},
     "output_type": "execute_result"
    },
    {
     "data": {
      "image/png": "[encoded data removed]",
      "text/plain": [
       "<Figure size 1440x576 with 1 Axes>"
      ]
     },
     "metadata": {},
     "output_type": "display_data"
    }
   ],
   "source": [
    "# now let's make a pandas Series with the names and values, and plot them\n",
    "from matplotlib import pyplot as plt\n",
    "%matplotlib inline\n",
    "plt.style.use('ggplot')\n",
    "\n",
    "weights = pd.Series(model2.coef_[0],index=schoolData_pick_new.columns)\n",
    "weights.plot(kind='bar',figsize=(20,8))\n",
    "plt.show()"
   ]
  },
  {
   "cell_type": "markdown",
   "metadata": {},
   "source": [
    "The weights in Logistic Regressions makes the model more interpretable. To make the weights of all features comparable, we have to normalize the attributes to the same scales. \n",
    "\n",
    "From the plot above we can recognize some important features:\n",
    "- short_susp_per_c_num\n",
    "- MinorityMalePct\n",
    "- HispanicMalePct\n",
    "- TotalTargets_pTarget_PctMet\n",
    "- SciGr5&8_pTarget_PctMet\n",
    "\n",
    "The polarities of the weights can also be interpreted as positively or negatively impact the SPG Grade."
   ]
  },
  {
   "cell_type": "code",
   "execution_count": 49,
   "metadata": {},
   "outputs": [
    {
     "name": "stdout",
     "output_type": "stream",
     "text": [
      "accuracy: 0.704757110495847\n",
      "Wall time: 51 s\n"
     ]
    },
    {
     "data": {
      "text/plain": [
       "(10, 50)"
      ]
     },
     "execution_count": 49,
     "metadata": {},
     "output_type": "execute_result"
    }
   ],
   "source": [
    "%%time\n",
    "#Use the linear kernel to get the set of coefficients for SVM\n",
    "svm = SVC(kernel='linear') \n",
    "svm.fit(Xs2_train_scaled, y_train) \n",
    "y_hat = svm.predict(Xs2_test_scaled) # get test set precitions\n",
    "\n",
    "acc = mt.accuracy_score(y_test,y_hat)\n",
    "print('accuracy:', acc ) #Check the accuracy to make sure the model is still good\n",
    "svm.coef_.shape"
   ]
  },
  {
   "cell_type": "code",
   "execution_count": 50,
   "metadata": {},
   "outputs": [
    {
     "data": {
      "text/plain": [
       "<matplotlib.axes._subplots.AxesSubplot at 0x1a80aa408c8>"
      ]
     },
     "execution_count": 50,
     "metadata": {},
     "output_type": "execute_result"
    },
    {
     "data": {
      "image/png": "[encoded data removed]",
      "text/plain": [
       "<Figure size 1440x576 with 1 Axes>"
      ]
     },
     "metadata": {},
     "output_type": "display_data"
    }
   ],
   "source": [
    "#Plot out the weights from the svm_coef for feature importance interpretation.\n",
    "weights = pd.Series(svm.coef_[0],index=schoolData_pick_new.columns)\n",
    "weights.plot(kind='bar',figsize=(20,8))\n",
    "plt.show()"
   ]
  },
  {
   "cell_type": "markdown",
   "metadata": {},
   "source": [
    "Unlike Logistic regression, SVM do not have a direct model weight but if we use linear kernel for SVM, it's possible that we get a hyperplane that separate the classes as best as possible.\n",
    "\n",
    "Just for interpretation purpose, we can use the coefficients from the svm which represent the hyperplane. It gives you the coordinates of a vector which is orthogonal to the hyperplane. Check the plot below for recoginizing the parameters with bigger weights.\n",
    "\n",
    "From the plot above we can recognize some important features, for example:\n",
    "- short_susp_per_c_num\n",
    "- BlackMalePct\n",
    "- HispanicMalePct\n",
    "- pct_GCE_ALL\n",
    "- lea_flicensed_teach_pct\n",
    "\n",
    "The polarities of the weights can also be interpreted as positively or negatively impact the SPG Grade.\n",
    "\n",
    "For example, the coefficient of short_susp_per_c_num is negative, which means it is negatively correlated with SPG Grade -- The higher the suspension rate, the lower the SPG Grade is. Similiar concepts are applied to other variables.\n",
    "\n",
    "From the two methodologies, we recognize and consider the short_sups_per_c_num is the most important feature. Along this thought, we see that there are similarities between the two classification models and the attribute weights."
   ]
  },
  {
   "cell_type": "markdown",
   "metadata": {},
   "source": [
    "## Interpret Support Vectors"
   ]
  },
  {
   "cell_type": "code",
   "execution_count": 51,
   "metadata": {},
   "outputs": [],
   "source": [
    "#Re-assign all colnames for SMOTE dataset\n",
    "schoolData_sm = pd.DataFrame(X_sm)\n",
    "schoolData_sm.columns=['TotalTargets_pTarget_PctMet',\n",
    "'MinorityMalePct',\n",
    "'MinorityFemalePct',\n",
    "'short_susp_per_c_num',\n",
    "'avg_daily_attend_pct',\n",
    "'title1_type_cd_Y',\n",
    "'BlackMalePct',\n",
    "'AsianFemalePct',\n",
    "'BlackFemalePct',\n",
    "'HispanicMalePct',\n",
    "'MathGr3-8_pTarget_PctMet',\n",
    "'AsianMalePct',\n",
    "'SciGr5&8_pTarget_PctMet',\n",
    "'nbpts_num',\n",
    "'lea_sat_avg_score_num',\n",
    "'stud_internet_comp_num',\n",
    "'st_avg_student_num',\n",
    "'HispanicFemalePct',\n",
    "'Accomplished_TCHR_Standard 4_Pct',\n",
    "'Accomplished_TCHR_Standard 3_Pct',\n",
    "'Developing_TCHR_Standard 2_Pct',\n",
    "'Accomplished_TCHR_Standard 5_Pct',\n",
    "'10+ Years_LEA_Exp_Pct_Prin',\n",
    "'4-10 Years_LEA_Exp_Pct_Prin',\n",
    "'Accomplished_TCHR_Standard 1_Pct',\n",
    "'Accomplished_TCHR_Standard 2_Pct',\n",
    "'Developing_TCHR_Standard 1_Pct',\n",
    "'pct_GCE_ALL',\n",
    "'0-3 Years_LEA_Exp_Pct_Prin',\n",
    "'st_emer_prov_teach_pct',\n",
    "'lea_sat_participation_pct',\n",
    "'lea_ap_participation_pct',\n",
    "'lea_federal_perpupil_num',\n",
    "'lea_local_perpupil_num',\n",
    "'advance_dgr_pct',\n",
    "'Developing_TCHR_Standard 5_Pct',\n",
    "'lateral_teach_pct',\n",
    "'lea_flicensed_teach_pct',\n",
    "'Developing_TCHR_Standard 3_Pct',\n",
    "'lea_tchyrs_0thru3_pct',\n",
    "'lea_tchyrs_11plus_pct',\n",
    "'lea_nbpts_num',\n",
    "'lea_advance_dgr_pct',\n",
    "'lea_1yr_tchr_trnovr_pct',\n",
    "'lea_emer_prov_teach_pct',\n",
    "'st_flicensed_teach_pct',\n",
    "'st_tchyrs_0thru3_pct',\n",
    "'st_1yr_tchr_trnovr_pct',\n",
    "'lea_tchyrs_4thru10_pct',\n",
    "'Category_Cd_T',\n",
    "]"
   ]
  },
  {
   "cell_type": "code",
   "execution_count": 52,
   "metadata": {},
   "outputs": [
    {
     "name": "stdout",
     "output_type": "stream",
     "text": [
      "<class 'pandas.core.frame.DataFrame'>\n",
      "Int64Index: 11002 entries, 10846 to 17380\n",
      "Data columns (total 51 columns):\n",
      " #   Column                            Non-Null Count  Dtype  \n",
      "---  ------                            --------------  -----  \n",
      " 0   TotalTargets_pTarget_PctMet       11002 non-null  float64\n",
      " 1   MinorityMalePct                   11002 non-null  float64\n",
      " 2   MinorityFemalePct                 11002 non-null  float64\n",
      " 3   short_susp_per_c_num              11002 non-null  float64\n",
      " 4   avg_daily_attend_pct              11002 non-null  float64\n",
      " 5   title1_type_cd_Y                  11002 non-null  uint8  \n",
      " 6   BlackMalePct                      11002 non-null  float64\n",
      " 7   AsianFemalePct                    11002 non-null  float64\n",
      " 8   BlackFemalePct                    11002 non-null  float64\n",
      " 9   HispanicMalePct                   11002 non-null  float64\n",
      " 10  MathGr3-8_pTarget_PctMet          11002 non-null  float64\n",
      " 11  AsianMalePct                      11002 non-null  float64\n",
      " 12  SciGr5&8_pTarget_PctMet           11002 non-null  float64\n",
      " 13  nbpts_num                         11002 non-null  float64\n",
      " 14  lea_sat_avg_score_num             11002 non-null  float64\n",
      " 15  stud_internet_comp_num            11002 non-null  float64\n",
      " 16  st_avg_student_num                11002 non-null  float64\n",
      " 17  HispanicFemalePct                 11002 non-null  float64\n",
      " 18  Accomplished_TCHR_Standard 4_Pct  11002 non-null  float64\n",
      " 19  Accomplished_TCHR_Standard 3_Pct  11002 non-null  float64\n",
      " 20  Developing_TCHR_Standard 2_Pct    11002 non-null  float64\n",
      " 21  Accomplished_TCHR_Standard 5_Pct  11002 non-null  float64\n",
      " 22  10+ Years_LEA_Exp_Pct_Prin        11002 non-null  float64\n",
      " 23  4-10 Years_LEA_Exp_Pct_Prin       11002 non-null  float64\n",
      " 24  Accomplished_TCHR_Standard 1_Pct  11002 non-null  float64\n",
      " 25  Accomplished_TCHR_Standard 2_Pct  11002 non-null  float64\n",
      " 26  Developing_TCHR_Standard 1_Pct    11002 non-null  float64\n",
      " 27  pct_GCE_ALL                       11002 non-null  float64\n",
      " 28  0-3 Years_LEA_Exp_Pct_Prin        11002 non-null  float64\n",
      " 29  st_emer_prov_teach_pct            11002 non-null  float64\n",
      " 30  lea_sat_participation_pct         11002 non-null  float64\n",
      " 31  lea_ap_participation_pct          11002 non-null  float64\n",
      " 32  lea_federal_perpupil_num          11002 non-null  float64\n",
      " 33  lea_local_perpupil_num            11002 non-null  float64\n",
      " 34  advance_dgr_pct                   11002 non-null  float64\n",
      " 35  Developing_TCHR_Standard 5_Pct    11002 non-null  float64\n",
      " 36  lateral_teach_pct                 11002 non-null  float64\n",
      " 37  lea_flicensed_teach_pct           11002 non-null  float64\n",
      " 38  Developing_TCHR_Standard 3_Pct    11002 non-null  float64\n",
      " 39  lea_tchyrs_0thru3_pct             11002 non-null  float64\n",
      " 40  lea_tchyrs_11plus_pct             11002 non-null  float64\n",
      " 41  lea_nbpts_num                     11002 non-null  float64\n",
      " 42  lea_advance_dgr_pct               11002 non-null  float64\n",
      " 43  lea_1yr_tchr_trnovr_pct           11002 non-null  float64\n",
      " 44  lea_emer_prov_teach_pct           11002 non-null  float64\n",
      " 45  st_flicensed_teach_pct            11002 non-null  float64\n",
      " 46  st_tchyrs_0thru3_pct              11002 non-null  float64\n",
      " 47  st_1yr_tchr_trnovr_pct            11002 non-null  float64\n",
      " 48  lea_tchyrs_4thru10_pct            11002 non-null  float64\n",
      " 49  Category_Cd_T                     11002 non-null  uint8  \n",
      " 50  SPG Grade                         11002 non-null  object \n",
      "dtypes: float64(48), object(1), uint8(2)\n",
      "memory usage: 4.2+ MB\n"
     ]
    }
   ],
   "source": [
    "df_tested_on = schoolData_sm.iloc[train_indices] # saved from above, the indices chosen for training\n",
    "# now get the support vectors from the trained model\n",
    "df_support = df_tested_on.iloc[svm_clf.support_,:]\n",
    "\n",
    "df_support['SPG Grade'] = y_sm.values[svm_clf.support_] # add back in the 'Survived' Column to the pandas dataframe\n",
    "#X_sub['SPG Grade'] = y # also add it back in for the original data\n",
    "schoolData_sm['SPG Grade'] = y_sm # also add it back in for the original \n",
    "df_support.info()"
   ]
  },
  {
   "cell_type": "code",
   "execution_count": 53,
   "metadata": {},
   "outputs": [
    {
     "data": {
      "text/plain": [
       "<Figure size 720x288 with 0 Axes>"
      ]
     },
     "execution_count": 53,
     "metadata": {},
     "output_type": "execute_result"
    },
    {
     "data": {
      "text/plain": [
       "<matplotlib.axes._subplots.AxesSubplot at 0x1a80abd7608>"
      ]
     },
     "execution_count": 53,
     "metadata": {},
     "output_type": "execute_result"
    },
    {
     "data": {
      "text/plain": [
       "<matplotlib.legend.Legend at 0x1a81b127e48>"
      ]
     },
     "execution_count": 53,
     "metadata": {},
     "output_type": "execute_result"
    },
    {
     "data": {
      "text/plain": [
       "Text(0.5, 1.0, 'st_tchyrs_0thru3_pct (Instances chosen as Support Vectors)')"
      ]
     },
     "execution_count": 53,
     "metadata": {},
     "output_type": "execute_result"
    },
    {
     "data": {
      "text/plain": [
       "<matplotlib.axes._subplots.AxesSubplot at 0x1a81b105648>"
      ]
     },
     "execution_count": 53,
     "metadata": {},
     "output_type": "execute_result"
    },
    {
     "data": {
      "text/plain": [
       "<matplotlib.legend.Legend at 0x1a8092809c8>"
      ]
     },
     "execution_count": 53,
     "metadata": {},
     "output_type": "execute_result"
    },
    {
     "data": {
      "text/plain": [
       "Text(0.5, 1.0, 'st_tchyrs_0thru3_pct (Original)')"
      ]
     },
     "execution_count": 53,
     "metadata": {},
     "output_type": "execute_result"
    },
    {
     "data": {
      "text/plain": [
       "<Figure size 720x288 with 0 Axes>"
      ]
     },
     "execution_count": 53,
     "metadata": {},
     "output_type": "execute_result"
    },
    {
     "data": {
      "text/plain": [
       "<matplotlib.axes._subplots.AxesSubplot at 0x1a81b15fcc8>"
      ]
     },
     "execution_count": 53,
     "metadata": {},
     "output_type": "execute_result"
    },
    {
     "data": {
      "text/plain": [
       "<matplotlib.legend.Legend at 0x1a81b1964c8>"
      ]
     },
     "execution_count": 53,
     "metadata": {},
     "output_type": "execute_result"
    },
    {
     "data": {
      "text/plain": [
       "Text(0.5, 1.0, 'avg_daily_attend_pct (Instances chosen as Support Vectors)')"
      ]
     },
     "execution_count": 53,
     "metadata": {},
     "output_type": "execute_result"
    },
    {
     "data": {
      "text/plain": [
       "<matplotlib.axes._subplots.AxesSubplot at 0x1a81b19a2c8>"
      ]
     },
     "execution_count": 53,
     "metadata": {},
     "output_type": "execute_result"
    },
    {
     "data": {
      "text/plain": [
       "<matplotlib.legend.Legend at 0x1a80abd77c8>"
      ]
     },
     "execution_count": 53,
     "metadata": {},
     "output_type": "execute_result"
    },
    {
     "data": {
      "text/plain": [
       "Text(0.5, 1.0, 'avg_daily_attend_pct (Original)')"
      ]
     },
     "execution_count": 53,
     "metadata": {},
     "output_type": "execute_result"
    },
    {
     "data": {
      "text/plain": [
       "<Figure size 720x288 with 0 Axes>"
      ]
     },
     "execution_count": 53,
     "metadata": {},
     "output_type": "execute_result"
    },
    {
     "data": {
      "text/plain": [
       "<matplotlib.axes._subplots.AxesSubplot at 0x1a81b27f288>"
      ]
     },
     "execution_count": 53,
     "metadata": {},
     "output_type": "execute_result"
    },
    {
     "data": {
      "text/plain": [
       "<matplotlib.legend.Legend at 0x1a81b24bd48>"
      ]
     },
     "execution_count": 53,
     "metadata": {},
     "output_type": "execute_result"
    },
    {
     "data": {
      "text/plain": [
       "Text(0.5, 1.0, 'short_susp_per_c_num (Instances chosen as Support Vectors)')"
      ]
     },
     "execution_count": 53,
     "metadata": {},
     "output_type": "execute_result"
    },
    {
     "data": {
      "text/plain": [
       "<matplotlib.axes._subplots.AxesSubplot at 0x1a81b2a2b88>"
      ]
     },
     "execution_count": 53,
     "metadata": {},
     "output_type": "execute_result"
    },
    {
     "data": {
      "text/plain": [
       "<matplotlib.legend.Legend at 0x1a81b2a8488>"
      ]
     },
     "execution_count": 53,
     "metadata": {},
     "output_type": "execute_result"
    },
    {
     "data": {
      "text/plain": [
       "Text(0.5, 1.0, 'short_susp_per_c_num (Original)')"
      ]
     },
     "execution_count": 53,
     "metadata": {},
     "output_type": "execute_result"
    },
    {
     "data": {
      "text/plain": [
       "<Figure size 720x288 with 0 Axes>"
      ]
     },
     "execution_count": 53,
     "metadata": {},
     "output_type": "execute_result"
    },
    {
     "data": {
      "text/plain": [
       "<matplotlib.axes._subplots.AxesSubplot at 0x1a81b306dc8>"
      ]
     },
     "execution_count": 53,
     "metadata": {},
     "output_type": "execute_result"
    },
    {
     "data": {
      "text/plain": [
       "<matplotlib.legend.Legend at 0x1a81b300c88>"
      ]
     },
     "execution_count": 53,
     "metadata": {},
     "output_type": "execute_result"
    },
    {
     "data": {
      "text/plain": [
       "Text(0.5, 1.0, 'MinorityFemalePct (Instances chosen as Support Vectors)')"
      ]
     },
     "execution_count": 53,
     "metadata": {},
     "output_type": "execute_result"
    },
    {
     "data": {
      "text/plain": [
       "<matplotlib.axes._subplots.AxesSubplot at 0x1a81b361f08>"
      ]
     },
     "execution_count": 53,
     "metadata": {},
     "output_type": "execute_result"
    },
    {
     "data": {
      "text/plain": [
       "<matplotlib.legend.Legend at 0x1a81b27f9c8>"
      ]
     },
     "execution_count": 53,
     "metadata": {},
     "output_type": "execute_result"
    },
    {
     "data": {
      "text/plain": [
       "Text(0.5, 1.0, 'MinorityFemalePct (Original)')"
      ]
     },
     "execution_count": 53,
     "metadata": {},
     "output_type": "execute_result"
    },
    {
     "data": {
      "image/png": "[encoded data removed]",
      "text/plain": [
       "<Figure size 720x288 with 2 Axes>"
      ]
     },
     "metadata": {},
     "output_type": "display_data"
    },
    {
     "data": {
      "image/png": "[encoded data removed]",
      "text/plain": [
       "<Figure size 720x288 with 2 Axes>"
      ]
     },
     "metadata": {},
     "output_type": "display_data"
    },
    {
     "data": {
      "image/png": "[encoded data removed]",
      "text/plain": [
       "<Figure size 720x288 with 2 Axes>"
      ]
     },
     "metadata": {},
     "output_type": "display_data"
    },
    {
     "data": {
      "image/png": "[encoded data removed]",
      "text/plain": [
       "<Figure size 720x288 with 2 Axes>"
      ]
     },
     "metadata": {},
     "output_type": "display_data"
    }
   ],
   "source": [
    "# now lets see the statistics of these attributes\n",
    "#from pandas.tools.plotting import boxplot\n",
    "from pandas.plotting import boxplot\n",
    "from matplotlib import pyplot as plt\n",
    "\n",
    "# group the original data and the support vectors\n",
    "df_grouped_support = df_support.groupby(['SPG Grade'])\n",
    "#df_grouped = X_sub.groupby(['SPG Grade'])\n",
    "df_grouped = schoolData_sm.groupby(['SPG Grade'])\n",
    "\n",
    "# plot KDE of Different variables\n",
    "###########This is a random selection NOW\n",
    "vars_to_plot = ['st_tchyrs_0thru3_pct','avg_daily_attend_pct','short_susp_per_c_num','MinorityFemalePct']\n",
    "\n",
    "for v in vars_to_plot:\n",
    "    plt.figure(figsize=(10,4))\n",
    "    # plot support vector stats\n",
    "    plt.subplot(1,2,1)\n",
    "    ax = df_grouped_support[v].plot.kde() \n",
    "    plt.legend(['A','B','C','D','F'])\n",
    "    plt.title(v+' (Instances chosen as Support Vectors)')\n",
    "    \n",
    "    # plot original distributions\n",
    "    plt.subplot(1,2,2)\n",
    "    ax = df_grouped[v].plot.kde() \n",
    "    plt.legend(['A','B','C','D','F'])\n",
    "    plt.title(v+' (Original)')"
   ]
  },
  {
   "cell_type": "markdown",
   "metadata": {},
   "source": [
    "The above analysis telling us how is the look for the original statsitics and how is the look for the statistics of the support vectors. The four variables 'st_tchyrs_0thru3_pct','avg_daily_attend_pct','short_susp_per_c_num','MinorityFemalePct' are plotted above. But you can also plot out the other 46 variables for comparison.\n",
    "\n",
    "What we can observe is that the seperation of class-based distribution is apparantly not as large as the original data for all 4 different variables. We can explain that by the principle of support vector composition, which tend to be the instances of either the edge of class or incorrectly classified data."
   ]
  },
  {
   "cell_type": "code",
   "execution_count": 54,
   "metadata": {},
   "outputs": [
    {
     "data": {
      "text/plain": [
       "<Figure size 720x288 with 0 Axes>"
      ]
     },
     "execution_count": 54,
     "metadata": {},
     "output_type": "execute_result"
    },
    {
     "data": {
      "text/plain": [
       "<matplotlib.axes._subplots.AxesSubplot at 0x1a81eab7cc8>"
      ]
     },
     "execution_count": 54,
     "metadata": {},
     "output_type": "execute_result"
    },
    {
     "data": {
      "text/plain": [
       "<matplotlib.collections.PathCollection at 0x1a81ead6348>"
      ]
     },
     "execution_count": 54,
     "metadata": {},
     "output_type": "execute_result"
    },
    {
     "data": {
      "text/plain": [
       "Text(0.5, 0, 'st_tchyrs_0thru3_pct')"
      ]
     },
     "execution_count": 54,
     "metadata": {},
     "output_type": "execute_result"
    },
    {
     "data": {
      "text/plain": [
       "Text(0, 0.5, 'avg_daily_attend_pct')"
      ]
     },
     "execution_count": 54,
     "metadata": {},
     "output_type": "execute_result"
    },
    {
     "data": {
      "text/plain": [
       "Text(0.5, 1.0, '(Support Vectors)')"
      ]
     },
     "execution_count": 54,
     "metadata": {},
     "output_type": "execute_result"
    },
    {
     "data": {
      "text/plain": [
       "<matplotlib.axes._subplots.AxesSubplot at 0x1a81eadecc8>"
      ]
     },
     "execution_count": 54,
     "metadata": {},
     "output_type": "execute_result"
    },
    {
     "data": {
      "text/plain": [
       "<matplotlib.collections.PathCollection at 0x1a81ead64c8>"
      ]
     },
     "execution_count": 54,
     "metadata": {},
     "output_type": "execute_result"
    },
    {
     "data": {
      "text/plain": [
       "Text(0.5, 0, 'st_tchyrs_0thru3_pct')"
      ]
     },
     "execution_count": 54,
     "metadata": {},
     "output_type": "execute_result"
    },
    {
     "data": {
      "text/plain": [
       "Text(0, 0.5, 'avg_daily_attend_pct')"
      ]
     },
     "execution_count": 54,
     "metadata": {},
     "output_type": "execute_result"
    },
    {
     "data": {
      "text/plain": [
       "Text(0.5, 1.0, '(Original)')"
      ]
     },
     "execution_count": 54,
     "metadata": {},
     "output_type": "execute_result"
    },
    {
     "data": {
      "text/plain": [
       "<Figure size 720x288 with 0 Axes>"
      ]
     },
     "execution_count": 54,
     "metadata": {},
     "output_type": "execute_result"
    },
    {
     "data": {
      "text/plain": [
       "<matplotlib.axes._subplots.AxesSubplot at 0x1a81eb12d48>"
      ]
     },
     "execution_count": 54,
     "metadata": {},
     "output_type": "execute_result"
    },
    {
     "data": {
      "text/plain": [
       "<matplotlib.collections.PathCollection at 0x1a81eb4b448>"
      ]
     },
     "execution_count": 54,
     "metadata": {},
     "output_type": "execute_result"
    },
    {
     "data": {
      "text/plain": [
       "Text(0.5, 0, 'short_susp_per_c_num')"
      ]
     },
     "execution_count": 54,
     "metadata": {},
     "output_type": "execute_result"
    },
    {
     "data": {
      "text/plain": [
       "Text(0, 0.5, 'MinorityFemalePct')"
      ]
     },
     "execution_count": 54,
     "metadata": {},
     "output_type": "execute_result"
    },
    {
     "data": {
      "text/plain": [
       "Text(0.5, 1.0, '(Support Vectors)')"
      ]
     },
     "execution_count": 54,
     "metadata": {},
     "output_type": "execute_result"
    },
    {
     "data": {
      "text/plain": [
       "<matplotlib.axes._subplots.AxesSubplot at 0x1a81eb4b848>"
      ]
     },
     "execution_count": 54,
     "metadata": {},
     "output_type": "execute_result"
    },
    {
     "data": {
      "text/plain": [
       "<matplotlib.collections.PathCollection at 0x1a81eb87088>"
      ]
     },
     "execution_count": 54,
     "metadata": {},
     "output_type": "execute_result"
    },
    {
     "data": {
      "text/plain": [
       "Text(0.5, 0, 'short_susp_per_c_num')"
      ]
     },
     "execution_count": 54,
     "metadata": {},
     "output_type": "execute_result"
    },
    {
     "data": {
      "text/plain": [
       "Text(0, 0.5, 'MinorityFemalePct')"
      ]
     },
     "execution_count": 54,
     "metadata": {},
     "output_type": "execute_result"
    },
    {
     "data": {
      "text/plain": [
       "Text(0.5, 1.0, '(Original)')"
      ]
     },
     "execution_count": 54,
     "metadata": {},
     "output_type": "execute_result"
    },
    {
     "data": {
      "text/plain": [
       "<Figure size 720x288 with 0 Axes>"
      ]
     },
     "execution_count": 54,
     "metadata": {},
     "output_type": "execute_result"
    },
    {
     "data": {
      "text/plain": [
       "<matplotlib.axes._subplots.AxesSubplot at 0x1a81eb8e608>"
      ]
     },
     "execution_count": 54,
     "metadata": {},
     "output_type": "execute_result"
    },
    {
     "data": {
      "text/plain": [
       "<matplotlib.collections.PathCollection at 0x1a81ebc83c8>"
      ]
     },
     "execution_count": 54,
     "metadata": {},
     "output_type": "execute_result"
    },
    {
     "data": {
      "text/plain": [
       "Text(0.5, 0, 'short_susp_per_c_num')"
      ]
     },
     "execution_count": 54,
     "metadata": {},
     "output_type": "execute_result"
    },
    {
     "data": {
      "text/plain": [
       "Text(0, 0.5, 'MinorityMalePct')"
      ]
     },
     "execution_count": 54,
     "metadata": {},
     "output_type": "execute_result"
    },
    {
     "data": {
      "text/plain": [
       "Text(0.5, 1.0, '(Support Vectors)')"
      ]
     },
     "execution_count": 54,
     "metadata": {},
     "output_type": "execute_result"
    },
    {
     "data": {
      "text/plain": [
       "<matplotlib.axes._subplots.AxesSubplot at 0x1a81eb2ebc8>"
      ]
     },
     "execution_count": 54,
     "metadata": {},
     "output_type": "execute_result"
    },
    {
     "data": {
      "text/plain": [
       "<matplotlib.collections.PathCollection at 0x1a81ec12cc8>"
      ]
     },
     "execution_count": 54,
     "metadata": {},
     "output_type": "execute_result"
    },
    {
     "data": {
      "text/plain": [
       "Text(0.5, 0, 'short_susp_per_c_num')"
      ]
     },
     "execution_count": 54,
     "metadata": {},
     "output_type": "execute_result"
    },
    {
     "data": {
      "text/plain": [
       "Text(0, 0.5, 'MinorityMalePct')"
      ]
     },
     "execution_count": 54,
     "metadata": {},
     "output_type": "execute_result"
    },
    {
     "data": {
      "text/plain": [
       "Text(0.5, 1.0, '(Original)')"
      ]
     },
     "execution_count": 54,
     "metadata": {},
     "output_type": "execute_result"
    },
    {
     "data": {
      "image/png": "[encoded data removed]",
      "text/plain": [
       "<Figure size 720x288 with 2 Axes>"
      ]
     },
     "metadata": {},
     "output_type": "display_data"
    },
    {
     "data": {
      "image/png": "[encoded data removed]",
      "text/plain": [
       "<Figure size 720x288 with 2 Axes>"
      ]
     },
     "metadata": {},
     "output_type": "display_data"
    },
    {
     "data": {
      "image/png": "[encoded data removed]",
      "text/plain": [
       "<Figure size 720x288 with 2 Axes>"
      ]
     },
     "metadata": {},
     "output_type": "display_data"
    }
   ],
   "source": [
    "vars_to_plot_1 = ['st_tchyrs_0thru3_pct', 'short_susp_per_c_num', 'short_susp_per_c_num']\n",
    "vars_to_plot_2 = ['avg_daily_attend_pct','MinorityFemalePct', 'MinorityMalePct']\n",
    "df_support['SPG Color'] = np.select(\n",
    "    [\n",
    "        df_support['SPG Grade'] == 'A',\n",
    "        df_support['SPG Grade'] == 'B',\n",
    "        df_support['SPG Grade'] == 'C',\n",
    "        df_support['SPG Grade'] == 'D',\n",
    "        df_support['SPG Grade'] == 'F'\n",
    "    ],\n",
    "    [\n",
    "        'blue',\n",
    "        'orange',\n",
    "        'green',\n",
    "        'red',\n",
    "        'purple'\n",
    "    ],\n",
    "    default='NA'\n",
    ")\n",
    "schoolData_sm['SPG Color'] = np.select(\n",
    "    [\n",
    "        schoolData_sm['SPG Grade'] == 'A',\n",
    "        schoolData_sm['SPG Grade'] == 'B',\n",
    "        schoolData_sm['SPG Grade'] == 'C',\n",
    "        schoolData_sm['SPG Grade'] == 'D',\n",
    "        schoolData_sm['SPG Grade'] == 'F'\n",
    "    ],\n",
    "    [\n",
    "        'blue',\n",
    "        'orange',\n",
    "        'green',\n",
    "        'red',\n",
    "        'purple'\n",
    "    ],\n",
    "    default='NA'\n",
    ")\n",
    "for v in zip(vars_to_plot_1, vars_to_plot_2):\n",
    "    plt.figure(figsize=(10,4))\n",
    "    # plot support vector joint relationships\n",
    "    plt.subplot(1,2,1)\n",
    "    plt.scatter(df_support[v[0]], df_support[v[1]], c = df_support['SPG Color'])\n",
    "    plt.xlabel(v[0])\n",
    "    plt.ylabel(v[1])\n",
    "    plt.title('(Support Vectors)')\n",
    "    # plot original joint relationships\n",
    "    plt.subplot(1,2,2)\n",
    "    plt.scatter(schoolData_sm[v[0]], schoolData_sm[v[1]], c = schoolData_sm['SPG Color'])\n",
    "    plt.xlabel(v[0])\n",
    "    plt.ylabel(v[1])\n",
    "    plt.title('(Original)')"
   ]
  },
  {
   "cell_type": "markdown",
   "metadata": {},
   "source": [
    "Above, we look at the joint plots of the data and see how relationships have changed. From the scatter plot, we can see that the support vectors have similar overlap among the different SPG Grades compared to the original dataset. There are fewer extreme values in the support vectors as well, when compared to the original dataset."
   ]
  }
 ],
 "metadata": {
  "kernelspec": {
   "display_name": "Python 3",
   "language": "python",
   "name": "python3"
  },
  "language_info": {
   "codemirror_mode": {
    "name": "ipython",
    "version": 3
   },
   "file_extension": ".py",
   "mimetype": "text/x-python",
   "name": "python",
   "nbconvert_exporter": "python",
   "pygments_lexer": "ipython3",
   "version": "3.7.1"
  }
 },
 "nbformat": 4,
 "nbformat_minor": 4
}
