{
 "cells": [
  {
   "cell_type": "markdown",
   "metadata": {},
   "source": [
    "Category \tAvailable \tRequirements\n",
    "Total Points \t100\t\n",
    "Create Models\t50\tCreate a logistic regression model and a support vector machine model for the classification task involved with your dataset. Assess how well each model performs (use 80/20 training/testing split for your data). Adjust parameters of the models to make them more accurate. If your dataset size requires the use of stochastic gradient descent, then linear kernel only is fine to use. That is, the SGDClassifier is fine to use for optimizing logistic regression and linear support vector machines. For many problems, SGD will be required in order to train the SVM model in a reasonable timeframe. \n",
    "Model Advantages\t10\tDiscuss the advantages of each model for each classification task. Does one type of model offer superior performance over another in terms of prediction accuracy? In terms of training time or efficiency? Explain in detail.\n",
    "Interpret Feature Importance\t30\tUse the weights from logistic regression to interpret the importance of different features for the classification task. Explain your interpretation in detail. Why do you think some variables are more important?\n",
    "Interpret Support Vectors\t10\tLook at the chosen support vectors for the classification task. Do these provide any insight into the data? Explain. If you used stochastic gradient descent (and therefore did not explicitly solve for support vectors), try subsampling your data to train the SVC model— then analyze the support vectors from the subsampled dataset."
   ]
  },
  {
   "cell_type": "markdown",
   "metadata": {},
   "source": [
    "1. You must include all of your data wrangling code, if you want to receive full credit.  Otherwise, your work is not reproducible.  This is true for all submissions. You are the only group who left this out. I need to see what you started with and all transformations. The dataset must still meet the minimum size after all transformations.  I will not accept future labs without this code included.  \n",
    "\n",
    "2. I have stated multiple times that the minimum dataset size is 15 columns x 30,000 rows = 450,000 elements. My feedback clearly states that what you submitted is currently at 16 * 9731 = 155,696 elements. As I said in the feedback: \"In future labs, you will need to increase the number of fields you use for modeling to achieve at least 15 * 30,000 = 450,000 elements.\". \n",
    "\n",
    "3. Unfortunately for Lab 1, it really makes no difference what your yearly tables may look like at this point, because they were not included in your submission? \n",
    "\n",
    "4. I see above that the dataset you produced for each year has many more fields / columns / features that you could have included to meet the minimum size requirements?  The starting point should have likely been that entire dataset.  I am also slightly concerned about your statement that \"merging is a simple inner join activity\" for a number of reasons. The dataset you started with does not appear to be joined at all.  There is a year column in the dataset.  This gives me the impression that you actually unioned the data by year (which is what I would have expected). However, I really have no clue what you did, because you chose not to share that with me.\n",
    "\n",
    "Thoughts on inner joining this data:\n",
    "A number of public school campuses open and close each school year.  If you are joining by unit_code / agency_code, your analysis will only include school campuses open during the entire duration of the data.\n",
    "Any classification model you create in a \"joined\" dataset will likely have duplicated columns for each year.  This means that the feature importances for the model will be dominated by prior years.  For example, if you build a model to predict graduation rates, the model will use all prior year's graduation rates for the prediction.  It will also be very accurate.  However, I am not sure what benefit such a model would provide to the public school system?\n",
    "Typically, you would not include any graduation rate features in your graduation rate model training data at all. (we can talk about this more, if needed).      "
   ]
  },
  {
   "cell_type": "markdown",
   "metadata": {},
   "source": [
    "# MiniLab SVM and Logistic Regression\n",
    "#### 06/14/2020\n",
    "#### Yang Zhang, Reannan McDaniel, Jonathon Roach, Fred Poon"
   ]
  },
  {
   "cell_type": "markdown",
   "metadata": {},
   "source": [
    "## Data Preparation\n",
    "\n",
    "### Background\n",
    "\n",
    "For this analysis, our group start with the dataset from Lab1. The dataset contains North Carolina Public Schools Report Card and Statistical Profiles Data sets from the years 2014 to 2017. Currently there are 9371 records with 289 variables in this data. The preparation procedure to get to this dataset from original tables are located here:\n",
    "\n",
    "Script to process the dataset 2014 to 2019 seperately \n",
    "https://github.com/fredpoon/ds_7331_jyrf_eda/blob/master/Data_Prep/PublicSchools2014to2019_MLnew.ipynb\n",
    "\n",
    "Script to merge 2014 to 2017 datasets together\n",
    "https://github.com/fredpoon/ds_7331_jyrf_eda/blob/master/Data_Prep/PublicSchools2014to2019_MLnew_merge.ipynb\n",
    "\n",
    "In the starting dataset, all the categoricial variables are stored as \"object\". In order to be able to utilize it in our machine learning model, we conduct a one-hot encoding procedure to convert all of them into continuous variables. The procedure is shown below.\n",
    "\n",
    "The construction of code chunk is referred to Dr. Drew's github repository, [https://github.com/jakemdrew/EducationDataNC](https://github.com/jakemdrew/EducationDataNC/tree/master/Data%20Documentation)\n",
    "\n",
    "### One-Hot Encoding"
   ]
  },
  {
   "cell_type": "code",
   "execution_count": 119,
   "metadata": {},
   "outputs": [],
   "source": [
    "import pandas as pd\n",
    "import numpy as np\n",
    "import matplotlib.pyplot as plt\n",
    "import seaborn as sns\n",
    "\n",
    "# For multiple line outputs\n",
    "from IPython.core.interactiveshell import InteractiveShell\n",
    "InteractiveShell.ast_node_interactivity = \"all\"\n",
    "\n",
    "schoolData = pd.read_csv('C:/Users/taniat470s/Desktop/SMU_course/DS7331/PublicSchools2014to2017_YZ.csv') # read in the csv file"
   ]
  },
  {
   "cell_type": "code",
   "execution_count": 120,
   "metadata": {},
   "outputs": [
    {
     "name": "stdout",
     "output_type": "stream",
     "text": [
      "*********After: Removing columns with >= uniqueThreshold unique values***********\n",
      "<class 'pandas.core.frame.DataFrame'>\n",
      "RangeIndex: 9731 entries, 0 to 9730\n",
      "Columns: 250 entries, szip_ad to Year\n",
      "dtypes: float64(237), int64(2), object(11)\n",
      "memory usage: 18.6+ MB\n",
      "\r\n",
      "Columns Deleted:  9\n"
     ]
    }
   ],
   "source": [
    "#Locate the categorical variables in dataset\n",
    "sD_nominal = schoolData.loc[:, (schoolData.dtypes == object)]\n",
    "uniqueThreshold = 25\n",
    "\n",
    "#Delete categorical columns with > 25 unique values (Each unique value becomes a column during one-hot encoding)\n",
    "oneHotUniqueValueCounts = schoolData[sD_nominal.columns].apply(lambda x: x.nunique())\n",
    "oneHotUniqueValueCols = oneHotUniqueValueCounts[oneHotUniqueValueCounts >= uniqueThreshold].index\n",
    "schoolData.drop(oneHotUniqueValueCols, axis=1, inplace=True) \n",
    "\n",
    "#Review dataset contents one hot high unique value drops\n",
    "print('*********After: Removing columns with >= uniqueThreshold unique values***********')\n",
    "schoolData.info(verbose=False)\n",
    "print ('\\r\\nColumns Deleted: ', len(oneHotUniqueValueCols))"
   ]
  },
  {
   "cell_type": "markdown",
   "metadata": {},
   "source": [
    "\"SPG Grade\" is our response variable and \"SPG Score\" is the continous expression of it. We have to remove them from the original dataset."
   ]
  },
  {
   "cell_type": "code",
   "execution_count": 121,
   "metadata": {},
   "outputs": [],
   "source": [
    "#Keep an original copy of the Data\n",
    "schoolData_org = schoolData\n",
    "\n",
    "#Pop out the SPG information from the Data\n",
    "schoolData_SPG = schoolData.pop('SPG Grade')\n",
    "schoolData_SPGScore = schoolData.pop('SPG Score')"
   ]
  },
  {
   "cell_type": "code",
   "execution_count": 122,
   "metadata": {},
   "outputs": [
    {
     "name": "stdout",
     "output_type": "stream",
     "text": [
      "<class 'pandas.core.frame.DataFrame'>\n",
      "RangeIndex: 9731 entries, 0 to 9730\n",
      "Data columns (total 248 columns):\n",
      " #   Column                               Dtype  \n",
      "---  ------                               -----  \n",
      " 0   szip_ad                              float64\n",
      " 1   category_cd                          object \n",
      " 2   calendar_type_txt                    object \n",
      " 3   sna_pgm_type_cd                      object \n",
      " 4   school_type_txt                      object \n",
      " 5   calendar_only_txt                    object \n",
      " 6   title1_type_cd                       object \n",
      " 7   esea_status                          object \n",
      " 8   student_num                          float64\n",
      " 9   lea_avg_student_num                  float64\n",
      " 10  st_avg_student_num                   float64\n",
      " 11  Grad_project_status                  object \n",
      " 12  Math I_Size                          float64\n",
      " 13  lea_total_expense_num                float64\n",
      " 14  lea_salary_expense_pct               float64\n",
      " 15  lea_services_expense_pct             float64\n",
      " 16  lea_supplies_expense_pct             float64\n",
      " 17  lea_instruct_equip_exp_pct           float64\n",
      " 18  lea_federal_perpupil_num             float64\n",
      " 19  lea_local_perpupil_num               float64\n",
      " 20  lea_state_perpupil_num               float64\n",
      " 21  EVAAS Growth Status                  object \n",
      " 22  EVAAS Growth Score                   float64\n",
      " 23  Science Score                        float64\n",
      " 24  EOG/EOCSubjects_CACR_All             float64\n",
      " 25  EOGGr3_CACR_All                      float64\n",
      " 26  EOGGr4_CACR_All                      float64\n",
      " 27  EOGGr5_CACR_All                      float64\n",
      " 28  EOCMathI_CACR_AmericanIndian         float64\n",
      " 29  EOCSubjects_CACR_AmericanIndian      float64\n",
      " 30  EOG/EOCSubjects_CACR_AmericanIndian  float64\n",
      " 31  EOGGr3_CACR_AmericanIndian           float64\n",
      " 32  EOGGr4_CACR_AmericanIndian           float64\n",
      " 33  EOGGr5_CACR_AmericanIndian           float64\n",
      " 34  EOGMathGr3_CACR_AmericanIndian       float64\n",
      " 35  EOGMathGr3-8_CACR_AmericanIndian     float64\n",
      " 36  EOGMathGr4_CACR_AmericanIndian       float64\n",
      " 37  EOGMathGr5_CACR_AmericanIndian       float64\n",
      " 38  EOGReadingGr3-8_CACR_AmericanIndian  float64\n",
      " 39  EOGScienceGr5_CACR_AmericanIndian    float64\n",
      " 40  EOGScienceGr5&8_CACR_AmericanIndian  float64\n",
      " 41  EOGSubjects_CACR_AmericanIndian      float64\n",
      " 42  EOCMathI_CACR_Asian                  float64\n",
      " 43  EOCSubjects_CACR_Asian               float64\n",
      " 44  EOG/EOCSubjects_CACR_Asian           float64\n",
      " 45  EOGGr3_CACR_Asian                    float64\n",
      " 46  EOGGr4_CACR_Asian                    float64\n",
      " 47  EOGGr5_CACR_Asian                    float64\n",
      " 48  EOGMathGr3_CACR_Asian                float64\n",
      " 49  EOGMathGr3-8_CACR_Asian              float64\n",
      " 50  EOGMathGr4_CACR_Asian                float64\n",
      " 51  EOGMathGr5_CACR_Asian                float64\n",
      " 52  EOGScienceGr5&8_CACR_Asian           float64\n",
      " 53  EOGSubjects_CACR_Asian               float64\n",
      " 54  EOCMathI_CACR_Black                  float64\n",
      " 55  EOG/EOCSubjects_CACR_Black           float64\n",
      " 56  EOGGr3_CACR_Black                    float64\n",
      " 57  EOGGr4_CACR_Black                    float64\n",
      " 58  EOGGr5_CACR_Black                    float64\n",
      " 59  EOGMathGr3_CACR_Black                float64\n",
      " 60  EOGMathGr3-8_CACR_Black              float64\n",
      " 61  EOGMathGr4_CACR_Black                float64\n",
      " 62  EOGMathGr5_CACR_Black                float64\n",
      " 63  EOGReadingGr3_CACR_Black             float64\n",
      " 64  EOGReadingGr3-8_CACR_Black           float64\n",
      " 65  EOGReadingGr4_CACR_Black             float64\n",
      " 66  EOGReadingGr5_CACR_Black             float64\n",
      " 67  EOGScienceGr5_CACR_Black             float64\n",
      " 68  EOGScienceGr5&8_CACR_Black           float64\n",
      " 69  EOGSubjects_CACR_Black               float64\n",
      " 70  EOCMathI_CACR_Hispanic               float64\n",
      " 71  EOG/EOCSubjects_CACR_Hispanic        float64\n",
      " 72  EOGGr3_CACR_Hispanic                 float64\n",
      " 73  EOGGr4_CACR_Hispanic                 float64\n",
      " 74  EOGGr5_CACR_Hispanic                 float64\n",
      " 75  EOGMathGr3_CACR_Hispanic             float64\n",
      " 76  EOGMathGr3-8_CACR_Hispanic           float64\n",
      " 77  EOGMathGr4_CACR_Hispanic             float64\n",
      " 78  EOGMathGr5_CACR_Hispanic             float64\n",
      " 79  EOGReadingGr3_CACR_Hispanic          float64\n",
      " 80  EOGReadingGr3-8_CACR_Hispanic        float64\n",
      " 81  EOGReadingGr4_CACR_Hispanic          float64\n",
      " 82  EOGReadingGr5_CACR_Hispanic          float64\n",
      " 83  EOGScienceGr5&8_CACR_Hispanic        float64\n",
      " 84  EOGSubjects_CACR_Hispanic            float64\n",
      " 85  EOCMathI_CACR_TwoorMoreRaces         float64\n",
      " 86  EOCSubjects_CACR_TwoorMoreRaces      float64\n",
      " 87  EOG/EOCSubjects_CACR_TwoorMoreRaces  float64\n",
      " 88  EOGGr3_CACR_TwoorMoreRaces           float64\n",
      " 89  EOGGr4_CACR_TwoorMoreRaces           float64\n",
      " 90  EOGGr5_CACR_TwoorMoreRaces           float64\n",
      " 91  EOGMathGr3_CACR_TwoorMoreRaces       float64\n",
      " 92  EOGMathGr3-8_CACR_TwoorMoreRaces     float64\n",
      " 93  EOGMathGr4_CACR_TwoorMoreRaces       float64\n",
      " 94  EOGMathGr5_CACR_TwoorMoreRaces       float64\n",
      " 95  EOGReadingGr3-8_CACR_TwoorMoreRaces  float64\n",
      " 96  EOGScienceGr5&8_CACR_TwoorMoreRaces  float64\n",
      " 97  EOGSubjects_CACR_TwoorMoreRaces      float64\n",
      " 98  EOG/EOCSubjects_CACR_White           float64\n",
      " 99  EOGGr4_CACR_White                    float64\n",
      " 100 EOGMathGr3-8_CACR_White              float64\n",
      " 101 EOGScienceGr5&8_CACR_White           float64\n",
      " 102 EOCMathI_CACR_EDS                    float64\n",
      " 103 EOG/EOCSubjects_CACR_EDS             float64\n",
      " 104 EOGMathGr3-8_CACR_EDS                float64\n",
      " 105 EOGReadingGr3-8_CACR_EDS             float64\n",
      " 106 EOGReadingGr5_CACR_EDS               float64\n",
      " 107 EOGScienceGr5&8_CACR_EDS             float64\n",
      " 108 EOCMathI_CACR_LEP                    float64\n",
      " 109 EOCMathI_GLP_LEP                     float64\n",
      " 110 EOCSubjects_CACR_LEP                 float64\n",
      " 111 EOCSubjects_GLP_LEP                  float64\n",
      " 112 EOG/EOCSubjects_CACR_LEP             float64\n",
      " 113 EOGGr3_CACR_LEP                      float64\n",
      " 114 EOGGr4_CACR_LEP                      float64\n",
      " 115 EOGGr5_CACR_LEP                      float64\n",
      " 116 EOGMathGr3_CACR_LEP                  float64\n",
      " 117 EOGMathGr3-8_CACR_LEP                float64\n",
      " 118 EOGMathGr4_CACR_LEP                  float64\n",
      " 119 EOGMathGr5_CACR_LEP                  float64\n",
      " 120 EOGReadingGr3_CACR_LEP               float64\n",
      " 121 EOGReadingGr3-8_CACR_LEP             float64\n",
      " 122 EOGReadingGr3-8_GLP_LEP              float64\n",
      " 123 EOGReadingGr4_CACR_LEP               float64\n",
      " 124 EOGReadingGr4_GLP_LEP                float64\n",
      " 125 EOGReadingGr5_CACR_LEP               float64\n",
      " 126 EOGReadingGr5_GLP_LEP                float64\n",
      " 127 EOGScienceGr5_CACR_LEP               float64\n",
      " 128 EOGScienceGr5&8_CACR_LEP             float64\n",
      " 129 EOCMathI_CACR_SWD                    float64\n",
      " 130 EOCMathI_GLP_SWD                     float64\n",
      " 131 EOCSubjects_CACR_SWD                 float64\n",
      " 132 EOG/EOCSubjects_CACR_SWD             float64\n",
      " 133 EOGGr3_CACR_SWD                      float64\n",
      " 134 EOGGr4_CACR_SWD                      float64\n",
      " 135 EOGGr5_CACR_SWD                      float64\n",
      " 136 EOGMathGr3_CACR_SWD                  float64\n",
      " 137 EOGMathGr3_GLP_SWD                   float64\n",
      " 138 EOGMathGr3-8_CACR_SWD                float64\n",
      " 139 EOGMathGr4_CACR_SWD                  float64\n",
      " 140 EOGMathGr5_CACR_SWD                  float64\n",
      " 141 EOGReadingGr3_CACR_SWD               float64\n",
      " 142 EOGReadingGr3-8_CACR_SWD             float64\n",
      " 143 EOGReadingGr3-8_GLP_SWD              float64\n",
      " 144 EOGReadingGr4_CACR_SWD               float64\n",
      " 145 EOGReadingGr4_GLP_SWD                float64\n",
      " 146 EOGReadingGr5_CACR_SWD               float64\n",
      " 147 EOGReadingGr5_GLP_SWD                float64\n",
      " 148 EOGScienceGr5_CACR_SWD               float64\n",
      " 149 EOGScienceGr5&8_CACR_SWD             float64\n",
      " 150 EOGSubjects_CACR_SWD                 float64\n",
      " 151 EOCMathI_CACR_AIG                    float64\n",
      " 152 EOG/EOCSubjects_CACR_AIG             float64\n",
      " 153 EOGGr3_CACR_AIG                      float64\n",
      " 154 EOGGr4_CACR_AIG                      float64\n",
      " 155 EOGGr5_CACR_AIG                      float64\n",
      " 156 EOGMathGr3_CACR_AIG                  float64\n",
      " 157 EOGMathGr3-8_CACR_AIG                float64\n",
      " 158 EOGMathGr4_CACR_AIG                  float64\n",
      " 159 EOGMathGr5_CACR_AIG                  float64\n",
      " 160 EOGScienceGr5&8_CACR_AIG             float64\n",
      " 161 EOGSubjects_CACR_AIG                 float64\n",
      " 162 pct_GCE_ALL                          float64\n",
      " 163 MathGr3-8_pTarget_PctMet             float64\n",
      " 164 SciGr5&8_pTarget_PctMet              float64\n",
      " 165 TotalTargets_pTarget_PctMet          float64\n",
      " 166 Category_Cd                          object \n",
      " 167 lea_sat_avg_score_num                float64\n",
      " 168 lea_sat_participation_pct            float64\n",
      " 169 lea_ap_participation_pct             float64\n",
      " 170 lea_ap_pct_3_or_above                float64\n",
      " 171 lea_ib_pct_4_or_above                float64\n",
      " 172 avg_daily_attend_pct                 float64\n",
      " 173 crime_per_c_num                      float64\n",
      " 174 short_susp_per_c_num                 float64\n",
      " 175 long_susp_per_c_num                  float64\n",
      " 176 expelled_per_c_num                   float64\n",
      " 177 stud_internet_comp_num               float64\n",
      " 178 lea_avg_daily_attend_pct             float64\n",
      " 179 lea_crime_per_c_num                  float64\n",
      " 180 lea_short_susp_per_c_num             float64\n",
      " 181 lea_long_susp_per_c_num              float64\n",
      " 182 lea_expelled_per_c_num               float64\n",
      " 183 lea_stud_internet_comp_num           float64\n",
      " 184 st_crime_per_c_num                   float64\n",
      " 185 flicensed_teach_pct                  float64\n",
      " 186 tchyrs_0thru3_pct                    float64\n",
      " 187 tchyrs_4thru10_pct                   float64\n",
      " 188 tchyrs_11plus_pct                    float64\n",
      " 189 nbpts_num                            float64\n",
      " 190 advance_dgr_pct                      float64\n",
      " 191 _1yr_tchr_trnovr_pct                 float64\n",
      " 192 lateral_teach_pct                    float64\n",
      " 193 lea_flicensed_teach_pct              float64\n",
      " 194 lea_tchyrs_0thru3_pct                float64\n",
      " 195 lea_tchyrs_4thru10_pct               float64\n",
      " 196 lea_tchyrs_11plus_pct                float64\n",
      " 197 lea_nbpts_num                        float64\n",
      " 198 lea_advance_dgr_pct                  float64\n",
      " 199 lea_1yr_tchr_trnovr_pct              float64\n",
      " 200 lea_emer_prov_teach_pct              float64\n",
      " 201 st_flicensed_teach_pct               float64\n",
      " 202 st_tchyrs_0thru3_pct                 float64\n",
      " 203 st_1yr_tchr_trnovr_pct               float64\n",
      " 204 st_emer_prov_teach_pct               float64\n",
      " 205 0-3 Years_LEA_Exp_Pct_Prin           float64\n",
      " 206 10+ Years_LEA_Exp_Pct_Prin           float64\n",
      " 207 4-10 Years_LEA_Exp_Pct_Prin          float64\n",
      " 208 Accomplished_TCHR_Standard 1_Pct     float64\n",
      " 209 Accomplished_TCHR_Standard 2_Pct     float64\n",
      " 210 Accomplished_TCHR_Standard 3_Pct     float64\n",
      " 211 Accomplished_TCHR_Standard 4_Pct     float64\n",
      " 212 Accomplished_TCHR_Standard 5_Pct     float64\n",
      " 213 Developing_TCHR_Standard 1_Pct       float64\n",
      " 214 Developing_TCHR_Standard 2_Pct       float64\n",
      " 215 Developing_TCHR_Standard 3_Pct       float64\n",
      " 216 Developing_TCHR_Standard 4_Pct       float64\n",
      " 217 Developing_TCHR_Standard 5_Pct       float64\n",
      " 218 Distinguished_TCHR_Standard 1_Pct    float64\n",
      " 219 Distinguished_TCHR_Standard 2_Pct    float64\n",
      " 220 Distinguished_TCHR_Standard 3_Pct    float64\n",
      " 221 Distinguished_TCHR_Standard 4_Pct    float64\n",
      " 222 Distinguished_TCHR_Standard 5_Pct    float64\n",
      " 223 Not Demostrated_TCHR_Standard 1_Pct  float64\n",
      " 224 Not Demostrated_TCHR_Standard 2_Pct  float64\n",
      " 225 Not Demostrated_TCHR_Standard 4_Pct  float64\n",
      " 226 Proficient_TCHR_Standard 1_Pct       float64\n",
      " 227 Proficient_TCHR_Standard 2_Pct       float64\n",
      " 228 Proficient_TCHR_Standard 3_Pct       float64\n",
      " 229 Proficient_TCHR_Standard 4_Pct       float64\n",
      " 230 Proficient_TCHR_Standard 5_Pct       float64\n",
      " 231 AsianFemalePct                       float64\n",
      " 232 AsianMalePct                         float64\n",
      " 233 BlackFemalePct                       float64\n",
      " 234 BlackMalePct                         float64\n",
      " 235 HispanicFemalePct                    float64\n",
      " 236 HispanicMalePct                      float64\n",
      " 237 IndianFemalePct                      float64\n",
      " 238 MinorityFemalePct                    float64\n",
      " 239 MinorityMalePct                      float64\n",
      " 240 PacificIslandFemalePct               float64\n",
      " 241 PacificIslandMalePct                 float64\n",
      " 242 PacificIslandPct                     float64\n",
      " 243 TwoOrMoreFemalePct                   float64\n",
      " 244 TwoOrMoreMalePct                     float64\n",
      " 245 TwoOrMorePct                         float64\n",
      " 246 unit_code                            int64  \n",
      " 247 Year                                 int64  \n",
      "dtypes: float64(236), int64(2), object(10)\n",
      "memory usage: 18.4+ MB\n"
     ]
    }
   ],
   "source": [
    "schoolData.info(verbose=True)"
   ]
  },
  {
   "cell_type": "markdown",
   "metadata": {},
   "source": [
    "We also need to get rid of all the columns that directly used to calculate SPG Grade and Score. \n",
    "(Expand it)\n",
    "For example: EOG_XXX, EOC_XXX.\n",
    "\n",
    "After removing them, we display the information of the variables to make sure we don't have them in the dataset anymore."
   ]
  },
  {
   "cell_type": "code",
   "execution_count": 123,
   "metadata": {},
   "outputs": [
    {
     "name": "stdout",
     "output_type": "stream",
     "text": [
      "<class 'pandas.core.frame.DataFrame'>\n",
      "RangeIndex: 9731 entries, 0 to 9730\n",
      "Data columns (total 108 columns):\n",
      " #   Column                               Dtype  \n",
      "---  ------                               -----  \n",
      " 0   szip_ad                              float64\n",
      " 1   category_cd                          object \n",
      " 2   calendar_type_txt                    object \n",
      " 3   sna_pgm_type_cd                      object \n",
      " 4   school_type_txt                      object \n",
      " 5   calendar_only_txt                    object \n",
      " 6   title1_type_cd                       object \n",
      " 7   esea_status                          object \n",
      " 8   student_num                          float64\n",
      " 9   lea_avg_student_num                  float64\n",
      " 10  st_avg_student_num                   float64\n",
      " 11  Grad_project_status                  object \n",
      " 12  Math I_Size                          float64\n",
      " 13  lea_total_expense_num                float64\n",
      " 14  lea_salary_expense_pct               float64\n",
      " 15  lea_services_expense_pct             float64\n",
      " 16  lea_supplies_expense_pct             float64\n",
      " 17  lea_instruct_equip_exp_pct           float64\n",
      " 18  lea_federal_perpupil_num             float64\n",
      " 19  lea_local_perpupil_num               float64\n",
      " 20  lea_state_perpupil_num               float64\n",
      " 21  EVAAS Growth Status                  object \n",
      " 22  pct_GCE_ALL                          float64\n",
      " 23  MathGr3-8_pTarget_PctMet             float64\n",
      " 24  SciGr5&8_pTarget_PctMet              float64\n",
      " 25  TotalTargets_pTarget_PctMet          float64\n",
      " 26  Category_Cd                          object \n",
      " 27  lea_sat_avg_score_num                float64\n",
      " 28  lea_sat_participation_pct            float64\n",
      " 29  lea_ap_participation_pct             float64\n",
      " 30  lea_ap_pct_3_or_above                float64\n",
      " 31  lea_ib_pct_4_or_above                float64\n",
      " 32  avg_daily_attend_pct                 float64\n",
      " 33  crime_per_c_num                      float64\n",
      " 34  short_susp_per_c_num                 float64\n",
      " 35  long_susp_per_c_num                  float64\n",
      " 36  expelled_per_c_num                   float64\n",
      " 37  stud_internet_comp_num               float64\n",
      " 38  lea_avg_daily_attend_pct             float64\n",
      " 39  lea_crime_per_c_num                  float64\n",
      " 40  lea_short_susp_per_c_num             float64\n",
      " 41  lea_long_susp_per_c_num              float64\n",
      " 42  lea_expelled_per_c_num               float64\n",
      " 43  lea_stud_internet_comp_num           float64\n",
      " 44  st_crime_per_c_num                   float64\n",
      " 45  flicensed_teach_pct                  float64\n",
      " 46  tchyrs_0thru3_pct                    float64\n",
      " 47  tchyrs_4thru10_pct                   float64\n",
      " 48  tchyrs_11plus_pct                    float64\n",
      " 49  nbpts_num                            float64\n",
      " 50  advance_dgr_pct                      float64\n",
      " 51  _1yr_tchr_trnovr_pct                 float64\n",
      " 52  lateral_teach_pct                    float64\n",
      " 53  lea_flicensed_teach_pct              float64\n",
      " 54  lea_tchyrs_0thru3_pct                float64\n",
      " 55  lea_tchyrs_4thru10_pct               float64\n",
      " 56  lea_tchyrs_11plus_pct                float64\n",
      " 57  lea_nbpts_num                        float64\n",
      " 58  lea_advance_dgr_pct                  float64\n",
      " 59  lea_1yr_tchr_trnovr_pct              float64\n",
      " 60  lea_emer_prov_teach_pct              float64\n",
      " 61  st_flicensed_teach_pct               float64\n",
      " 62  st_tchyrs_0thru3_pct                 float64\n",
      " 63  st_1yr_tchr_trnovr_pct               float64\n",
      " 64  st_emer_prov_teach_pct               float64\n",
      " 65  0-3 Years_LEA_Exp_Pct_Prin           float64\n",
      " 66  10+ Years_LEA_Exp_Pct_Prin           float64\n",
      " 67  4-10 Years_LEA_Exp_Pct_Prin          float64\n",
      " 68  Accomplished_TCHR_Standard 1_Pct     float64\n",
      " 69  Accomplished_TCHR_Standard 2_Pct     float64\n",
      " 70  Accomplished_TCHR_Standard 3_Pct     float64\n",
      " 71  Accomplished_TCHR_Standard 4_Pct     float64\n",
      " 72  Accomplished_TCHR_Standard 5_Pct     float64\n",
      " 73  Developing_TCHR_Standard 1_Pct       float64\n",
      " 74  Developing_TCHR_Standard 2_Pct       float64\n",
      " 75  Developing_TCHR_Standard 3_Pct       float64\n",
      " 76  Developing_TCHR_Standard 4_Pct       float64\n",
      " 77  Developing_TCHR_Standard 5_Pct       float64\n",
      " 78  Distinguished_TCHR_Standard 1_Pct    float64\n",
      " 79  Distinguished_TCHR_Standard 2_Pct    float64\n",
      " 80  Distinguished_TCHR_Standard 3_Pct    float64\n",
      " 81  Distinguished_TCHR_Standard 4_Pct    float64\n",
      " 82  Distinguished_TCHR_Standard 5_Pct    float64\n",
      " 83  Not Demostrated_TCHR_Standard 1_Pct  float64\n",
      " 84  Not Demostrated_TCHR_Standard 2_Pct  float64\n",
      " 85  Not Demostrated_TCHR_Standard 4_Pct  float64\n",
      " 86  Proficient_TCHR_Standard 1_Pct       float64\n",
      " 87  Proficient_TCHR_Standard 2_Pct       float64\n",
      " 88  Proficient_TCHR_Standard 3_Pct       float64\n",
      " 89  Proficient_TCHR_Standard 4_Pct       float64\n",
      " 90  Proficient_TCHR_Standard 5_Pct       float64\n",
      " 91  AsianFemalePct                       float64\n",
      " 92  AsianMalePct                         float64\n",
      " 93  BlackFemalePct                       float64\n",
      " 94  BlackMalePct                         float64\n",
      " 95  HispanicFemalePct                    float64\n",
      " 96  HispanicMalePct                      float64\n",
      " 97  IndianFemalePct                      float64\n",
      " 98  MinorityFemalePct                    float64\n",
      " 99  MinorityMalePct                      float64\n",
      " 100 PacificIslandFemalePct               float64\n",
      " 101 PacificIslandMalePct                 float64\n",
      " 102 PacificIslandPct                     float64\n",
      " 103 TwoOrMoreFemalePct                   float64\n",
      " 104 TwoOrMoreMalePct                     float64\n",
      " 105 TwoOrMorePct                         float64\n",
      " 106 unit_code                            int64  \n",
      " 107 Year                                 int64  \n",
      "dtypes: float64(96), int64(2), object(10)\n",
      "memory usage: 8.0+ MB\n"
     ]
    }
   ],
   "source": [
    "# Remove All the Columns that directly used to calculate SPG Grade and Score\n",
    "schoolData.drop(schoolData.iloc[:, 22:162], inplace=True, axis=1)\n",
    "schoolData.info(verbose=True)"
   ]
  },
  {
   "cell_type": "markdown",
   "metadata": {},
   "source": [
    "The below procedure do the one-hot encoding for the left categorical variable. As shown below we have a total of 20 categorical variables to encode and we end up with 40 variables after the encoding process."
   ]
  },
  {
   "cell_type": "code",
   "execution_count": 124,
   "metadata": {},
   "outputs": [],
   "source": [
    "#Isolate remaining categorical variables\n",
    "begColumnCt = len(schoolData.columns)\n",
    "\n",
    "#one hot encode categorical variables\n",
    "schoolData = pd.get_dummies(data=schoolData,drop_first=True)"
   ]
  },
  {
   "cell_type": "code",
   "execution_count": 125,
   "metadata": {},
   "outputs": [
    {
     "name": "stdout",
     "output_type": "stream",
     "text": [
      "Columns To One-Hot Encode:  20\n",
      "\n",
      "*********After: Adding New Columns Via One-Hot Encoding*************************\n",
      "<class 'pandas.core.frame.DataFrame'>\n",
      "RangeIndex: 9731 entries, 0 to 9730\n",
      "Columns: 148 entries, szip_ad to Category_Cd_T\n",
      "dtypes: float64(96), int64(2), uint8(50)\n",
      "memory usage: 7.7 MB\n",
      "\n",
      "New Columns Created Via One-Hot Encoding:  40\n"
     ]
    }
   ],
   "source": [
    "#Determine change in column count\n",
    "endColumnCt = len(schoolData.columns)\n",
    "columnsAdded = endColumnCt - begColumnCt\n",
    "\n",
    "\n",
    "#Review dataset contents one hot high unique value drops\n",
    "print('Columns To One-Hot Encode: ', len(sD_nominal.columns))\n",
    "print('\\r\\n*********After: Adding New Columns Via One-Hot Encoding*************************')\n",
    "schoolData.info(verbose=False)\n",
    "print ('\\r\\nNew Columns Created Via One-Hot Encoding: ', columnsAdded)"
   ]
  },
  {
   "cell_type": "markdown",
   "metadata": {},
   "source": [
    "A dimension check of the dataset after the one-hot encoding process shows that we have a total of 9371 records with 148 seperate variables. All of the variables are in numerical format now."
   ]
  },
  {
   "cell_type": "code",
   "execution_count": 126,
   "metadata": {},
   "outputs": [
    {
     "data": {
      "text/plain": [
       "(9731, 148)"
      ]
     },
     "execution_count": 126,
     "metadata": {},
     "output_type": "execute_result"
    },
    {
     "data": {
      "text/html": [
       "<div>\n",
       "<style scoped>\n",
       "    .dataframe tbody tr th:only-of-type {\n",
       "        vertical-align: middle;\n",
       "    }\n",
       "\n",
       "    .dataframe tbody tr th {\n",
       "        vertical-align: top;\n",
       "    }\n",
       "\n",
       "    .dataframe thead th {\n",
       "        text-align: right;\n",
       "    }\n",
       "</style>\n",
       "<table border=\"1\" class=\"dataframe\">\n",
       "  <thead>\n",
       "    <tr style=\"text-align: right;\">\n",
       "      <th></th>\n",
       "      <th>szip_ad</th>\n",
       "      <th>student_num</th>\n",
       "      <th>lea_avg_student_num</th>\n",
       "      <th>st_avg_student_num</th>\n",
       "      <th>Math I_Size</th>\n",
       "      <th>lea_total_expense_num</th>\n",
       "      <th>lea_salary_expense_pct</th>\n",
       "      <th>lea_services_expense_pct</th>\n",
       "      <th>lea_supplies_expense_pct</th>\n",
       "      <th>lea_instruct_equip_exp_pct</th>\n",
       "      <th>...</th>\n",
       "      <th>Grad_project_status_Y</th>\n",
       "      <th>EVAAS Growth Status_Exceeded</th>\n",
       "      <th>EVAAS Growth Status_Met</th>\n",
       "      <th>EVAAS Growth Status_NotMet</th>\n",
       "      <th>Category_Cd_A</th>\n",
       "      <th>Category_Cd_E</th>\n",
       "      <th>Category_Cd_H</th>\n",
       "      <th>Category_Cd_I</th>\n",
       "      <th>Category_Cd_M</th>\n",
       "      <th>Category_Cd_T</th>\n",
       "    </tr>\n",
       "  </thead>\n",
       "  <tbody>\n",
       "    <tr>\n",
       "      <th>0</th>\n",
       "      <td>27253.0</td>\n",
       "      <td>78.0</td>\n",
       "      <td>954.0</td>\n",
       "      <td>837.0</td>\n",
       "      <td>0.0</td>\n",
       "      <td>8028.59</td>\n",
       "      <td>0.613</td>\n",
       "      <td>0.078</td>\n",
       "      <td>0.086</td>\n",
       "      <td>0.011</td>\n",
       "      <td>...</td>\n",
       "      <td>0</td>\n",
       "      <td>0</td>\n",
       "      <td>0</td>\n",
       "      <td>0</td>\n",
       "      <td>0</td>\n",
       "      <td>0</td>\n",
       "      <td>1</td>\n",
       "      <td>0</td>\n",
       "      <td>0</td>\n",
       "      <td>0</td>\n",
       "    </tr>\n",
       "    <tr>\n",
       "      <th>1</th>\n",
       "      <td>27253.0</td>\n",
       "      <td>539.0</td>\n",
       "      <td>518.0</td>\n",
       "      <td>496.0</td>\n",
       "      <td>0.0</td>\n",
       "      <td>8028.59</td>\n",
       "      <td>0.613</td>\n",
       "      <td>0.078</td>\n",
       "      <td>0.086</td>\n",
       "      <td>0.011</td>\n",
       "      <td>...</td>\n",
       "      <td>0</td>\n",
       "      <td>1</td>\n",
       "      <td>0</td>\n",
       "      <td>0</td>\n",
       "      <td>0</td>\n",
       "      <td>1</td>\n",
       "      <td>0</td>\n",
       "      <td>0</td>\n",
       "      <td>0</td>\n",
       "      <td>0</td>\n",
       "    </tr>\n",
       "    <tr>\n",
       "      <th>2</th>\n",
       "      <td>27244.0</td>\n",
       "      <td>547.0</td>\n",
       "      <td>518.0</td>\n",
       "      <td>496.0</td>\n",
       "      <td>0.0</td>\n",
       "      <td>8028.59</td>\n",
       "      <td>0.613</td>\n",
       "      <td>0.078</td>\n",
       "      <td>0.086</td>\n",
       "      <td>0.011</td>\n",
       "      <td>...</td>\n",
       "      <td>0</td>\n",
       "      <td>0</td>\n",
       "      <td>1</td>\n",
       "      <td>0</td>\n",
       "      <td>0</td>\n",
       "      <td>1</td>\n",
       "      <td>0</td>\n",
       "      <td>0</td>\n",
       "      <td>0</td>\n",
       "      <td>0</td>\n",
       "    </tr>\n",
       "    <tr>\n",
       "      <th>3</th>\n",
       "      <td>27217.0</td>\n",
       "      <td>800.0</td>\n",
       "      <td>768.0</td>\n",
       "      <td>665.0</td>\n",
       "      <td>26.0</td>\n",
       "      <td>8028.59</td>\n",
       "      <td>0.613</td>\n",
       "      <td>0.078</td>\n",
       "      <td>0.086</td>\n",
       "      <td>0.011</td>\n",
       "      <td>...</td>\n",
       "      <td>0</td>\n",
       "      <td>0</td>\n",
       "      <td>0</td>\n",
       "      <td>1</td>\n",
       "      <td>0</td>\n",
       "      <td>0</td>\n",
       "      <td>0</td>\n",
       "      <td>0</td>\n",
       "      <td>1</td>\n",
       "      <td>0</td>\n",
       "    </tr>\n",
       "    <tr>\n",
       "      <th>4</th>\n",
       "      <td>27215.0</td>\n",
       "      <td>664.0</td>\n",
       "      <td>518.0</td>\n",
       "      <td>496.0</td>\n",
       "      <td>0.0</td>\n",
       "      <td>8028.59</td>\n",
       "      <td>0.613</td>\n",
       "      <td>0.078</td>\n",
       "      <td>0.086</td>\n",
       "      <td>0.011</td>\n",
       "      <td>...</td>\n",
       "      <td>0</td>\n",
       "      <td>1</td>\n",
       "      <td>0</td>\n",
       "      <td>0</td>\n",
       "      <td>0</td>\n",
       "      <td>1</td>\n",
       "      <td>0</td>\n",
       "      <td>0</td>\n",
       "      <td>0</td>\n",
       "      <td>0</td>\n",
       "    </tr>\n",
       "  </tbody>\n",
       "</table>\n",
       "<p>5 rows × 148 columns</p>\n",
       "</div>"
      ],
      "text/plain": [
       "   szip_ad  student_num  lea_avg_student_num  st_avg_student_num  Math I_Size  \\\n",
       "0  27253.0         78.0                954.0               837.0          0.0   \n",
       "1  27253.0        539.0                518.0               496.0          0.0   \n",
       "2  27244.0        547.0                518.0               496.0          0.0   \n",
       "3  27217.0        800.0                768.0               665.0         26.0   \n",
       "4  27215.0        664.0                518.0               496.0          0.0   \n",
       "\n",
       "   lea_total_expense_num  lea_salary_expense_pct  lea_services_expense_pct  \\\n",
       "0                8028.59                   0.613                     0.078   \n",
       "1                8028.59                   0.613                     0.078   \n",
       "2                8028.59                   0.613                     0.078   \n",
       "3                8028.59                   0.613                     0.078   \n",
       "4                8028.59                   0.613                     0.078   \n",
       "\n",
       "   lea_supplies_expense_pct  lea_instruct_equip_exp_pct  ...  \\\n",
       "0                     0.086                       0.011  ...   \n",
       "1                     0.086                       0.011  ...   \n",
       "2                     0.086                       0.011  ...   \n",
       "3                     0.086                       0.011  ...   \n",
       "4                     0.086                       0.011  ...   \n",
       "\n",
       "   Grad_project_status_Y  EVAAS Growth Status_Exceeded  \\\n",
       "0                      0                             0   \n",
       "1                      0                             1   \n",
       "2                      0                             0   \n",
       "3                      0                             0   \n",
       "4                      0                             1   \n",
       "\n",
       "   EVAAS Growth Status_Met  EVAAS Growth Status_NotMet  Category_Cd_A  \\\n",
       "0                        0                           0              0   \n",
       "1                        0                           0              0   \n",
       "2                        1                           0              0   \n",
       "3                        0                           1              0   \n",
       "4                        0                           0              0   \n",
       "\n",
       "   Category_Cd_E  Category_Cd_H  Category_Cd_I  Category_Cd_M  Category_Cd_T  \n",
       "0              0              1              0              0              0  \n",
       "1              1              0              0              0              0  \n",
       "2              1              0              0              0              0  \n",
       "3              0              0              0              1              0  \n",
       "4              1              0              0              0              0  \n",
       "\n",
       "[5 rows x 148 columns]"
      ]
     },
     "execution_count": 126,
     "metadata": {},
     "output_type": "execute_result"
    }
   ],
   "source": [
    "# Dimension of Dataset\n",
    "schoolData.shape\n",
    "\n",
    "schoolData.head()"
   ]
  },
  {
   "cell_type": "markdown",
   "metadata": {},
   "source": [
    "### Feature Selection"
   ]
  },
  {
   "cell_type": "markdown",
   "metadata": {},
   "source": [
    "We original have 148 features in the data table. We don't want to include this many features for model feasibility. However, as we have a data size requirement, and we also want the constructing model to be high quality. We decide to conduct a feature selection process to choose the most important features to use.\n",
    "\n",
    "There are many ways to conduct feature selection. In this project we use random forest and plot out feature importances of all features. The work below is not for feasible model construction (we didn't split train/test) but just for picking out the most important variables to use.  "
   ]
  },
  {
   "cell_type": "code",
   "execution_count": 127,
   "metadata": {},
   "outputs": [
    {
     "data": {
      "text/plain": [
       "RandomForestClassifier(bootstrap=True, ccp_alpha=0.0, class_weight=None,\n",
       "                       criterion='gini', max_depth=None, max_features='auto',\n",
       "                       max_leaf_nodes=None, max_samples=None,\n",
       "                       min_impurity_decrease=0.0, min_impurity_split=None,\n",
       "                       min_samples_leaf=1, min_samples_split=2,\n",
       "                       min_weight_fraction_leaf=0.0, n_estimators=100,\n",
       "                       n_jobs=None, oob_score=False, random_state=None,\n",
       "                       verbose=0, warm_start=False)"
      ]
     },
     "execution_count": 127,
     "metadata": {},
     "output_type": "execute_result"
    }
   ],
   "source": [
    "# Random Forest apply to X with all variables\n",
    "from sklearn.ensemble import RandomForestClassifier\n",
    "clfa=RandomForestClassifier(n_estimators=100)\n",
    "clfa.fit(schoolData,schoolData_SPG)\n",
    "y_pred=clfa.predict(schoolData)"
   ]
  },
  {
   "cell_type": "markdown",
   "metadata": {},
   "source": [
    "Accuracy = 1.0 does not surprise us because we didn't to train/test splitting. "
   ]
  },
  {
   "cell_type": "code",
   "execution_count": 128,
   "metadata": {},
   "outputs": [
    {
     "name": "stdout",
     "output_type": "stream",
     "text": [
      "Accuracy: 1.0\n"
     ]
    }
   ],
   "source": [
    "from sklearn import metrics\n",
    "print(\"Accuracy:\",metrics.accuracy_score(schoolData_SPG, y_pred))"
   ]
  },
  {
   "cell_type": "markdown",
   "metadata": {},
   "source": [
    "Below plot reflect what features are important and their according weights."
   ]
  },
  {
   "cell_type": "code",
   "execution_count": 129,
   "metadata": {},
   "outputs": [
    {
     "data": {
      "text/html": [
       "\n",
       "    <style>\n",
       "    table.eli5-weights tr:hover {\n",
       "        filter: brightness(85%);\n",
       "    }\n",
       "</style>\n",
       "\n",
       "\n",
       "\n",
       "    \n",
       "\n",
       "    \n",
       "\n",
       "    \n",
       "\n",
       "    \n",
       "\n",
       "    \n",
       "\n",
       "    \n",
       "\n",
       "\n",
       "    \n",
       "\n",
       "    \n",
       "\n",
       "    \n",
       "\n",
       "    \n",
       "\n",
       "    \n",
       "\n",
       "    \n",
       "\n",
       "\n",
       "    \n",
       "\n",
       "    \n",
       "\n",
       "    \n",
       "\n",
       "    \n",
       "\n",
       "    \n",
       "        <table class=\"eli5-weights eli5-feature-importances\" style=\"border-collapse: collapse; border: none; margin-top: 0em; table-layout: auto;\">\n",
       "    <thead>\n",
       "    <tr style=\"border: none;\">\n",
       "        <th style=\"padding: 0 1em 0 0.5em; text-align: right; border: none;\">Weight</th>\n",
       "        <th style=\"padding: 0 0.5em 0 0.5em; text-align: left; border: none;\">Feature</th>\n",
       "    </tr>\n",
       "    </thead>\n",
       "    <tbody>\n",
       "    \n",
       "        <tr style=\"background-color: hsl(120, 100.00%, 80.00%); border: none;\">\n",
       "            <td style=\"padding: 0 1em 0 0.5em; text-align: right; border: none;\">\n",
       "                0.0362\n",
       "                \n",
       "                    &plusmn; 0.0018\n",
       "                \n",
       "            </td>\n",
       "            <td style=\"padding: 0 0.5em 0 0.5em; text-align: left; border: none;\">\n",
       "                TotalTargets_pTarget_PctMet\n",
       "            </td>\n",
       "        </tr>\n",
       "    \n",
       "        <tr style=\"background-color: hsl(120, 100.00%, 90.03%); border: none;\">\n",
       "            <td style=\"padding: 0 1em 0 0.5em; text-align: right; border: none;\">\n",
       "                0.0134\n",
       "                \n",
       "                    &plusmn; 0.0010\n",
       "                \n",
       "            </td>\n",
       "            <td style=\"padding: 0 0.5em 0 0.5em; text-align: left; border: none;\">\n",
       "                EVAAS Growth Status_NotMet\n",
       "            </td>\n",
       "        </tr>\n",
       "    \n",
       "        <tr style=\"background-color: hsl(120, 100.00%, 95.65%); border: none;\">\n",
       "            <td style=\"padding: 0 1em 0 0.5em; text-align: right; border: none;\">\n",
       "                0.0041\n",
       "                \n",
       "                    &plusmn; 0.0008\n",
       "                \n",
       "            </td>\n",
       "            <td style=\"padding: 0 0.5em 0 0.5em; text-align: left; border: none;\">\n",
       "                MinorityFemalePct\n",
       "            </td>\n",
       "        </tr>\n",
       "    \n",
       "        <tr style=\"background-color: hsl(120, 100.00%, 96.47%); border: none;\">\n",
       "            <td style=\"padding: 0 1em 0 0.5em; text-align: right; border: none;\">\n",
       "                0.0030\n",
       "                \n",
       "                    &plusmn; 0.0005\n",
       "                \n",
       "            </td>\n",
       "            <td style=\"padding: 0 0.5em 0 0.5em; text-align: left; border: none;\">\n",
       "                MinorityMalePct\n",
       "            </td>\n",
       "        </tr>\n",
       "    \n",
       "        <tr style=\"background-color: hsl(120, 100.00%, 97.37%); border: none;\">\n",
       "            <td style=\"padding: 0 1em 0 0.5em; text-align: right; border: none;\">\n",
       "                0.0020\n",
       "                \n",
       "                    &plusmn; 0.0004\n",
       "                \n",
       "            </td>\n",
       "            <td style=\"padding: 0 0.5em 0 0.5em; text-align: left; border: none;\">\n",
       "                short_susp_per_c_num\n",
       "            </td>\n",
       "        </tr>\n",
       "    \n",
       "        <tr style=\"background-color: hsl(120, 100.00%, 98.06%); border: none;\">\n",
       "            <td style=\"padding: 0 1em 0 0.5em; text-align: right; border: none;\">\n",
       "                0.0013\n",
       "                \n",
       "                    &plusmn; 0.0003\n",
       "                \n",
       "            </td>\n",
       "            <td style=\"padding: 0 0.5em 0 0.5em; text-align: left; border: none;\">\n",
       "                AsianFemalePct\n",
       "            </td>\n",
       "        </tr>\n",
       "    \n",
       "        <tr style=\"background-color: hsl(120, 100.00%, 98.74%); border: none;\">\n",
       "            <td style=\"padding: 0 1em 0 0.5em; text-align: right; border: none;\">\n",
       "                0.0007\n",
       "                \n",
       "                    &plusmn; 0.0003\n",
       "                \n",
       "            </td>\n",
       "            <td style=\"padding: 0 0.5em 0 0.5em; text-align: left; border: none;\">\n",
       "                BlackMalePct\n",
       "            </td>\n",
       "        </tr>\n",
       "    \n",
       "        <tr style=\"background-color: hsl(120, 100.00%, 98.82%); border: none;\">\n",
       "            <td style=\"padding: 0 1em 0 0.5em; text-align: right; border: none;\">\n",
       "                0.0006\n",
       "                \n",
       "                    &plusmn; 0.0001\n",
       "                \n",
       "            </td>\n",
       "            <td style=\"padding: 0 0.5em 0 0.5em; text-align: left; border: none;\">\n",
       "                avg_daily_attend_pct\n",
       "            </td>\n",
       "        </tr>\n",
       "    \n",
       "        <tr style=\"background-color: hsl(120, 100.00%, 99.10%); border: none;\">\n",
       "            <td style=\"padding: 0 1em 0 0.5em; text-align: right; border: none;\">\n",
       "                0.0004\n",
       "                \n",
       "                    &plusmn; 0.0003\n",
       "                \n",
       "            </td>\n",
       "            <td style=\"padding: 0 0.5em 0 0.5em; text-align: left; border: none;\">\n",
       "                title1_type_cd_Y\n",
       "            </td>\n",
       "        </tr>\n",
       "    \n",
       "        <tr style=\"background-color: hsl(120, 100.00%, 99.19%); border: none;\">\n",
       "            <td style=\"padding: 0 1em 0 0.5em; text-align: right; border: none;\">\n",
       "                0.0004\n",
       "                \n",
       "                    &plusmn; 0.0002\n",
       "                \n",
       "            </td>\n",
       "            <td style=\"padding: 0 0.5em 0 0.5em; text-align: left; border: none;\">\n",
       "                EVAAS Growth Status_Exceeded\n",
       "            </td>\n",
       "        </tr>\n",
       "    \n",
       "        <tr style=\"background-color: hsl(120, 100.00%, 99.26%); border: none;\">\n",
       "            <td style=\"padding: 0 1em 0 0.5em; text-align: right; border: none;\">\n",
       "                0.0003\n",
       "                \n",
       "                    &plusmn; 0.0002\n",
       "                \n",
       "            </td>\n",
       "            <td style=\"padding: 0 0.5em 0 0.5em; text-align: left; border: none;\">\n",
       "                BlackFemalePct\n",
       "            </td>\n",
       "        </tr>\n",
       "    \n",
       "        <tr style=\"background-color: hsl(120, 100.00%, 99.32%); border: none;\">\n",
       "            <td style=\"padding: 0 1em 0 0.5em; text-align: right; border: none;\">\n",
       "                0.0003\n",
       "                \n",
       "                    &plusmn; 0.0002\n",
       "                \n",
       "            </td>\n",
       "            <td style=\"padding: 0 0.5em 0 0.5em; text-align: left; border: none;\">\n",
       "                HispanicMalePct\n",
       "            </td>\n",
       "        </tr>\n",
       "    \n",
       "        <tr style=\"background-color: hsl(120, 100.00%, 99.36%); border: none;\">\n",
       "            <td style=\"padding: 0 1em 0 0.5em; text-align: right; border: none;\">\n",
       "                0.0003\n",
       "                \n",
       "                    &plusmn; 0.0002\n",
       "                \n",
       "            </td>\n",
       "            <td style=\"padding: 0 0.5em 0 0.5em; text-align: left; border: none;\">\n",
       "                MathGr3-8_pTarget_PctMet\n",
       "            </td>\n",
       "        </tr>\n",
       "    \n",
       "        <tr style=\"background-color: hsl(120, 100.00%, 99.63%); border: none;\">\n",
       "            <td style=\"padding: 0 1em 0 0.5em; text-align: right; border: none;\">\n",
       "                0.0001\n",
       "                \n",
       "                    &plusmn; 0.0002\n",
       "                \n",
       "            </td>\n",
       "            <td style=\"padding: 0 0.5em 0 0.5em; text-align: left; border: none;\">\n",
       "                AsianMalePct\n",
       "            </td>\n",
       "        </tr>\n",
       "    \n",
       "        <tr style=\"background-color: hsl(120, 100.00%, 99.63%); border: none;\">\n",
       "            <td style=\"padding: 0 1em 0 0.5em; text-align: right; border: none;\">\n",
       "                0.0001\n",
       "                \n",
       "                    &plusmn; 0.0001\n",
       "                \n",
       "            </td>\n",
       "            <td style=\"padding: 0 0.5em 0 0.5em; text-align: left; border: none;\">\n",
       "                nbpts_num\n",
       "            </td>\n",
       "        </tr>\n",
       "    \n",
       "        <tr style=\"background-color: hsl(120, 100.00%, 99.63%); border: none;\">\n",
       "            <td style=\"padding: 0 1em 0 0.5em; text-align: right; border: none;\">\n",
       "                0.0001\n",
       "                \n",
       "                    &plusmn; 0.0002\n",
       "                \n",
       "            </td>\n",
       "            <td style=\"padding: 0 0.5em 0 0.5em; text-align: left; border: none;\">\n",
       "                SciGr5&amp;8_pTarget_PctMet\n",
       "            </td>\n",
       "        </tr>\n",
       "    \n",
       "        <tr style=\"background-color: hsl(120, 100.00%, 99.67%); border: none;\">\n",
       "            <td style=\"padding: 0 1em 0 0.5em; text-align: right; border: none;\">\n",
       "                0.0001\n",
       "                \n",
       "                    &plusmn; 0.0000\n",
       "                \n",
       "            </td>\n",
       "            <td style=\"padding: 0 0.5em 0 0.5em; text-align: left; border: none;\">\n",
       "                lea_ap_participation_pct\n",
       "            </td>\n",
       "        </tr>\n",
       "    \n",
       "        <tr style=\"background-color: hsl(120, 100.00%, 99.77%); border: none;\">\n",
       "            <td style=\"padding: 0 1em 0 0.5em; text-align: right; border: none;\">\n",
       "                0.0001\n",
       "                \n",
       "                    &plusmn; 0.0001\n",
       "                \n",
       "            </td>\n",
       "            <td style=\"padding: 0 0.5em 0 0.5em; text-align: left; border: none;\">\n",
       "                lea_short_susp_per_c_num\n",
       "            </td>\n",
       "        </tr>\n",
       "    \n",
       "        <tr style=\"background-color: hsl(120, 100.00%, 99.77%); border: none;\">\n",
       "            <td style=\"padding: 0 1em 0 0.5em; text-align: right; border: none;\">\n",
       "                0.0001\n",
       "                \n",
       "                    &plusmn; 0.0001\n",
       "                \n",
       "            </td>\n",
       "            <td style=\"padding: 0 0.5em 0 0.5em; text-align: left; border: none;\">\n",
       "                HispanicFemalePct\n",
       "            </td>\n",
       "        </tr>\n",
       "    \n",
       "        <tr style=\"background-color: hsl(120, 100.00%, 99.89%); border: none;\">\n",
       "            <td style=\"padding: 0 1em 0 0.5em; text-align: right; border: none;\">\n",
       "                0.0000\n",
       "                \n",
       "                    &plusmn; 0.0001\n",
       "                \n",
       "            </td>\n",
       "            <td style=\"padding: 0 0.5em 0 0.5em; text-align: left; border: none;\">\n",
       "                lea_sat_avg_score_num\n",
       "            </td>\n",
       "        </tr>\n",
       "    \n",
       "        <tr style=\"background-color: hsl(120, 100.00%, 99.89%); border: none;\">\n",
       "            <td style=\"padding: 0 1em 0 0.5em; text-align: right; border: none;\">\n",
       "                0.0000\n",
       "                \n",
       "                    &plusmn; 0.0001\n",
       "                \n",
       "            </td>\n",
       "            <td style=\"padding: 0 0.5em 0 0.5em; text-align: left; border: none;\">\n",
       "                pct_GCE_ALL\n",
       "            </td>\n",
       "        </tr>\n",
       "    \n",
       "        <tr style=\"background-color: hsl(120, 100.00%, 99.89%); border: none;\">\n",
       "            <td style=\"padding: 0 1em 0 0.5em; text-align: right; border: none;\">\n",
       "                0.0000\n",
       "                \n",
       "                    &plusmn; 0.0001\n",
       "                \n",
       "            </td>\n",
       "            <td style=\"padding: 0 0.5em 0 0.5em; text-align: left; border: none;\">\n",
       "                Proficient_TCHR_Standard 4_Pct\n",
       "            </td>\n",
       "        </tr>\n",
       "    \n",
       "        <tr style=\"background-color: hsl(120, 100.00%, 99.89%); border: none;\">\n",
       "            <td style=\"padding: 0 1em 0 0.5em; text-align: right; border: none;\">\n",
       "                0.0000\n",
       "                \n",
       "                    &plusmn; 0.0001\n",
       "                \n",
       "            </td>\n",
       "            <td style=\"padding: 0 0.5em 0 0.5em; text-align: left; border: none;\">\n",
       "                student_num\n",
       "            </td>\n",
       "        </tr>\n",
       "    \n",
       "        <tr style=\"background-color: hsl(0, 100.00%, 100.00%); border: none;\">\n",
       "            <td style=\"padding: 0 1em 0 0.5em; text-align: right; border: none;\">\n",
       "                0\n",
       "                \n",
       "                    &plusmn; 0.0000\n",
       "                \n",
       "            </td>\n",
       "            <td style=\"padding: 0 0.5em 0 0.5em; text-align: left; border: none;\">\n",
       "                Developing_TCHR_Standard 2_Pct\n",
       "            </td>\n",
       "        </tr>\n",
       "    \n",
       "        <tr style=\"background-color: hsl(0, 100.00%, 100.00%); border: none;\">\n",
       "            <td style=\"padding: 0 1em 0 0.5em; text-align: right; border: none;\">\n",
       "                0\n",
       "                \n",
       "                    &plusmn; 0.0000\n",
       "                \n",
       "            </td>\n",
       "            <td style=\"padding: 0 0.5em 0 0.5em; text-align: left; border: none;\">\n",
       "                Developing_TCHR_Standard 1_Pct\n",
       "            </td>\n",
       "        </tr>\n",
       "    \n",
       "        <tr style=\"background-color: hsl(0, 100.00%, 100.00%); border: none;\">\n",
       "            <td style=\"padding: 0 1em 0 0.5em; text-align: right; border: none;\">\n",
       "                0\n",
       "                \n",
       "                    &plusmn; 0.0000\n",
       "                \n",
       "            </td>\n",
       "            <td style=\"padding: 0 0.5em 0 0.5em; text-align: left; border: none;\">\n",
       "                4-10 Years_LEA_Exp_Pct_Prin\n",
       "            </td>\n",
       "        </tr>\n",
       "    \n",
       "        <tr style=\"background-color: hsl(0, 100.00%, 100.00%); border: none;\">\n",
       "            <td style=\"padding: 0 1em 0 0.5em; text-align: right; border: none;\">\n",
       "                0\n",
       "                \n",
       "                    &plusmn; 0.0000\n",
       "                \n",
       "            </td>\n",
       "            <td style=\"padding: 0 0.5em 0 0.5em; text-align: left; border: none;\">\n",
       "                Accomplished_TCHR_Standard 3_Pct\n",
       "            </td>\n",
       "        </tr>\n",
       "    \n",
       "        <tr style=\"background-color: hsl(0, 100.00%, 100.00%); border: none;\">\n",
       "            <td style=\"padding: 0 1em 0 0.5em; text-align: right; border: none;\">\n",
       "                0\n",
       "                \n",
       "                    &plusmn; 0.0000\n",
       "                \n",
       "            </td>\n",
       "            <td style=\"padding: 0 0.5em 0 0.5em; text-align: left; border: none;\">\n",
       "                Accomplished_TCHR_Standard 2_Pct\n",
       "            </td>\n",
       "        </tr>\n",
       "    \n",
       "        <tr style=\"background-color: hsl(0, 100.00%, 100.00%); border: none;\">\n",
       "            <td style=\"padding: 0 1em 0 0.5em; text-align: right; border: none;\">\n",
       "                0\n",
       "                \n",
       "                    &plusmn; 0.0000\n",
       "                \n",
       "            </td>\n",
       "            <td style=\"padding: 0 0.5em 0 0.5em; text-align: left; border: none;\">\n",
       "                Accomplished_TCHR_Standard 1_Pct\n",
       "            </td>\n",
       "        </tr>\n",
       "    \n",
       "        <tr style=\"background-color: hsl(0, 100.00%, 100.00%); border: none;\">\n",
       "            <td style=\"padding: 0 1em 0 0.5em; text-align: right; border: none;\">\n",
       "                0\n",
       "                \n",
       "                    &plusmn; 0.0000\n",
       "                \n",
       "            </td>\n",
       "            <td style=\"padding: 0 0.5em 0 0.5em; text-align: left; border: none;\">\n",
       "                Accomplished_TCHR_Standard 5_Pct\n",
       "            </td>\n",
       "        </tr>\n",
       "    \n",
       "        <tr style=\"background-color: hsl(0, 100.00%, 100.00%); border: none;\">\n",
       "            <td style=\"padding: 0 1em 0 0.5em; text-align: right; border: none;\">\n",
       "                0\n",
       "                \n",
       "                    &plusmn; 0.0000\n",
       "                \n",
       "            </td>\n",
       "            <td style=\"padding: 0 0.5em 0 0.5em; text-align: left; border: none;\">\n",
       "                Accomplished_TCHR_Standard 4_Pct\n",
       "            </td>\n",
       "        </tr>\n",
       "    \n",
       "        <tr style=\"background-color: hsl(0, 100.00%, 100.00%); border: none;\">\n",
       "            <td style=\"padding: 0 1em 0 0.5em; text-align: right; border: none;\">\n",
       "                0\n",
       "                \n",
       "                    &plusmn; 0.0000\n",
       "                \n",
       "            </td>\n",
       "            <td style=\"padding: 0 0.5em 0 0.5em; text-align: left; border: none;\">\n",
       "                lea_local_perpupil_num\n",
       "            </td>\n",
       "        </tr>\n",
       "    \n",
       "        <tr style=\"background-color: hsl(0, 100.00%, 100.00%); border: none;\">\n",
       "            <td style=\"padding: 0 1em 0 0.5em; text-align: right; border: none;\">\n",
       "                0\n",
       "                \n",
       "                    &plusmn; 0.0000\n",
       "                \n",
       "            </td>\n",
       "            <td style=\"padding: 0 0.5em 0 0.5em; text-align: left; border: none;\">\n",
       "                10+ Years_LEA_Exp_Pct_Prin\n",
       "            </td>\n",
       "        </tr>\n",
       "    \n",
       "        <tr style=\"background-color: hsl(0, 100.00%, 100.00%); border: none;\">\n",
       "            <td style=\"padding: 0 1em 0 0.5em; text-align: right; border: none;\">\n",
       "                0\n",
       "                \n",
       "                    &plusmn; 0.0000\n",
       "                \n",
       "            </td>\n",
       "            <td style=\"padding: 0 0.5em 0 0.5em; text-align: left; border: none;\">\n",
       "                lea_federal_perpupil_num\n",
       "            </td>\n",
       "        </tr>\n",
       "    \n",
       "        <tr style=\"background-color: hsl(0, 100.00%, 100.00%); border: none;\">\n",
       "            <td style=\"padding: 0 1em 0 0.5em; text-align: right; border: none;\">\n",
       "                0\n",
       "                \n",
       "                    &plusmn; 0.0000\n",
       "                \n",
       "            </td>\n",
       "            <td style=\"padding: 0 0.5em 0 0.5em; text-align: left; border: none;\">\n",
       "                lateral_teach_pct\n",
       "            </td>\n",
       "        </tr>\n",
       "    \n",
       "        <tr style=\"background-color: hsl(0, 100.00%, 100.00%); border: none;\">\n",
       "            <td style=\"padding: 0 1em 0 0.5em; text-align: right; border: none;\">\n",
       "                0\n",
       "                \n",
       "                    &plusmn; 0.0000\n",
       "                \n",
       "            </td>\n",
       "            <td style=\"padding: 0 0.5em 0 0.5em; text-align: left; border: none;\">\n",
       "                Developing_TCHR_Standard 5_Pct\n",
       "            </td>\n",
       "        </tr>\n",
       "    \n",
       "        <tr style=\"background-color: hsl(0, 100.00%, 100.00%); border: none;\">\n",
       "            <td style=\"padding: 0 1em 0 0.5em; text-align: right; border: none;\">\n",
       "                0\n",
       "                \n",
       "                    &plusmn; 0.0000\n",
       "                \n",
       "            </td>\n",
       "            <td style=\"padding: 0 0.5em 0 0.5em; text-align: left; border: none;\">\n",
       "                lea_tchyrs_0thru3_pct\n",
       "            </td>\n",
       "        </tr>\n",
       "    \n",
       "        <tr style=\"background-color: hsl(0, 100.00%, 100.00%); border: none;\">\n",
       "            <td style=\"padding: 0 1em 0 0.5em; text-align: right; border: none;\">\n",
       "                0\n",
       "                \n",
       "                    &plusmn; 0.0000\n",
       "                \n",
       "            </td>\n",
       "            <td style=\"padding: 0 0.5em 0 0.5em; text-align: left; border: none;\">\n",
       "                lea_tchyrs_4thru10_pct\n",
       "            </td>\n",
       "        </tr>\n",
       "    \n",
       "        <tr style=\"background-color: hsl(0, 100.00%, 100.00%); border: none;\">\n",
       "            <td style=\"padding: 0 1em 0 0.5em; text-align: right; border: none;\">\n",
       "                0\n",
       "                \n",
       "                    &plusmn; 0.0000\n",
       "                \n",
       "            </td>\n",
       "            <td style=\"padding: 0 0.5em 0 0.5em; text-align: left; border: none;\">\n",
       "                lea_tchyrs_11plus_pct\n",
       "            </td>\n",
       "        </tr>\n",
       "    \n",
       "        <tr style=\"background-color: hsl(0, 100.00%, 100.00%); border: none;\">\n",
       "            <td style=\"padding: 0 1em 0 0.5em; text-align: right; border: none;\">\n",
       "                0\n",
       "                \n",
       "                    &plusmn; 0.0000\n",
       "                \n",
       "            </td>\n",
       "            <td style=\"padding: 0 0.5em 0 0.5em; text-align: left; border: none;\">\n",
       "                lea_nbpts_num\n",
       "            </td>\n",
       "        </tr>\n",
       "    \n",
       "        <tr style=\"background-color: hsl(0, 100.00%, 100.00%); border: none;\">\n",
       "            <td style=\"padding: 0 1em 0 0.5em; text-align: right; border: none;\">\n",
       "                0\n",
       "                \n",
       "                    &plusmn; 0.0000\n",
       "                \n",
       "            </td>\n",
       "            <td style=\"padding: 0 0.5em 0 0.5em; text-align: left; border: none;\">\n",
       "                lea_advance_dgr_pct\n",
       "            </td>\n",
       "        </tr>\n",
       "    \n",
       "        <tr style=\"background-color: hsl(0, 100.00%, 100.00%); border: none;\">\n",
       "            <td style=\"padding: 0 1em 0 0.5em; text-align: right; border: none;\">\n",
       "                0\n",
       "                \n",
       "                    &plusmn; 0.0000\n",
       "                \n",
       "            </td>\n",
       "            <td style=\"padding: 0 0.5em 0 0.5em; text-align: left; border: none;\">\n",
       "                lea_1yr_tchr_trnovr_pct\n",
       "            </td>\n",
       "        </tr>\n",
       "    \n",
       "        <tr style=\"background-color: hsl(0, 100.00%, 100.00%); border: none;\">\n",
       "            <td style=\"padding: 0 1em 0 0.5em; text-align: right; border: none;\">\n",
       "                0\n",
       "                \n",
       "                    &plusmn; 0.0000\n",
       "                \n",
       "            </td>\n",
       "            <td style=\"padding: 0 0.5em 0 0.5em; text-align: left; border: none;\">\n",
       "                lea_emer_prov_teach_pct\n",
       "            </td>\n",
       "        </tr>\n",
       "    \n",
       "        <tr style=\"background-color: hsl(0, 100.00%, 100.00%); border: none;\">\n",
       "            <td style=\"padding: 0 1em 0 0.5em; text-align: right; border: none;\">\n",
       "                0\n",
       "                \n",
       "                    &plusmn; 0.0000\n",
       "                \n",
       "            </td>\n",
       "            <td style=\"padding: 0 0.5em 0 0.5em; text-align: left; border: none;\">\n",
       "                st_flicensed_teach_pct\n",
       "            </td>\n",
       "        </tr>\n",
       "    \n",
       "        <tr style=\"background-color: hsl(0, 100.00%, 100.00%); border: none;\">\n",
       "            <td style=\"padding: 0 1em 0 0.5em; text-align: right; border: none;\">\n",
       "                0\n",
       "                \n",
       "                    &plusmn; 0.0000\n",
       "                \n",
       "            </td>\n",
       "            <td style=\"padding: 0 0.5em 0 0.5em; text-align: left; border: none;\">\n",
       "                st_tchyrs_0thru3_pct\n",
       "            </td>\n",
       "        </tr>\n",
       "    \n",
       "        <tr style=\"background-color: hsl(0, 100.00%, 100.00%); border: none;\">\n",
       "            <td style=\"padding: 0 1em 0 0.5em; text-align: right; border: none;\">\n",
       "                0\n",
       "                \n",
       "                    &plusmn; 0.0000\n",
       "                \n",
       "            </td>\n",
       "            <td style=\"padding: 0 0.5em 0 0.5em; text-align: left; border: none;\">\n",
       "                st_1yr_tchr_trnovr_pct\n",
       "            </td>\n",
       "        </tr>\n",
       "    \n",
       "        <tr style=\"background-color: hsl(0, 100.00%, 100.00%); border: none;\">\n",
       "            <td style=\"padding: 0 1em 0 0.5em; text-align: right; border: none;\">\n",
       "                0\n",
       "                \n",
       "                    &plusmn; 0.0000\n",
       "                \n",
       "            </td>\n",
       "            <td style=\"padding: 0 0.5em 0 0.5em; text-align: left; border: none;\">\n",
       "                st_emer_prov_teach_pct\n",
       "            </td>\n",
       "        </tr>\n",
       "    \n",
       "        <tr style=\"background-color: hsl(0, 100.00%, 100.00%); border: none;\">\n",
       "            <td style=\"padding: 0 1em 0 0.5em; text-align: right; border: none;\">\n",
       "                0\n",
       "                \n",
       "                    &plusmn; 0.0000\n",
       "                \n",
       "            </td>\n",
       "            <td style=\"padding: 0 0.5em 0 0.5em; text-align: left; border: none;\">\n",
       "                0-3 Years_LEA_Exp_Pct_Prin\n",
       "            </td>\n",
       "        </tr>\n",
       "    \n",
       "        <tr style=\"background-color: hsl(0, 100.00%, 100.00%); border: none;\">\n",
       "            <td style=\"padding: 0 1em 0 0.5em; text-align: right; border: none;\">\n",
       "                0\n",
       "                \n",
       "                    &plusmn; 0.0000\n",
       "                \n",
       "            </td>\n",
       "            <td style=\"padding: 0 0.5em 0 0.5em; text-align: left; border: none;\">\n",
       "                Developing_TCHR_Standard 3_Pct\n",
       "            </td>\n",
       "        </tr>\n",
       "    \n",
       "        <tr style=\"background-color: hsl(0, 100.00%, 100.00%); border: none;\">\n",
       "            <td style=\"padding: 0 1em 0 0.5em; text-align: right; border: none;\">\n",
       "                0\n",
       "                \n",
       "                    &plusmn; 0.0000\n",
       "                \n",
       "            </td>\n",
       "            <td style=\"padding: 0 0.5em 0 0.5em; text-align: left; border: none;\">\n",
       "                Category_Cd_T\n",
       "            </td>\n",
       "        </tr>\n",
       "    \n",
       "    \n",
       "        \n",
       "            <tr style=\"background-color: hsl(0, 100.00%, 100.00%); border: none;\">\n",
       "                <td colspan=\"2\" style=\"padding: 0 0.5em 0 0.5em; text-align: center; border: none; white-space: nowrap;\">\n",
       "                    <i>&hellip; 98 more &hellip;</i>\n",
       "                </td>\n",
       "            </tr>\n",
       "        \n",
       "    \n",
       "    </tbody>\n",
       "</table>\n",
       "    \n",
       "\n",
       "    \n",
       "\n",
       "\n",
       "    \n",
       "\n",
       "    \n",
       "\n",
       "    \n",
       "\n",
       "    \n",
       "\n",
       "    \n",
       "\n",
       "    \n",
       "\n",
       "\n",
       "\n"
      ],
      "text/plain": [
       "<IPython.core.display.HTML object>"
      ]
     },
     "execution_count": 129,
     "metadata": {},
     "output_type": "execute_result"
    }
   ],
   "source": [
    "#For feature importance\n",
    "import eli5\n",
    "from eli5.sklearn import PermutationImportance\n",
    "perm = PermutationImportance(clfa, random_state=1).fit(schoolData,schoolData_SPG)\n",
    "eli5.show_weights(perm, feature_names = schoolData.columns.tolist(), top=50)"
   ]
  },
  {
   "cell_type": "markdown",
   "metadata": {},
   "source": [
    "To meet the data size requirement, we need to have as least 450,000/9371 = 48 variables to use for the data. \n",
    "\n",
    "To satisfy this we pick the first 50 variables to use. Notice that in the below variable list there are both continuous variables and the categorical variables after one-hot encoding. "
   ]
  },
  {
   "cell_type": "code",
   "execution_count": 130,
   "metadata": {},
   "outputs": [
    {
     "data": {
      "text/plain": [
       "(9731, 50)"
      ]
     },
     "execution_count": 130,
     "metadata": {},
     "output_type": "execute_result"
    }
   ],
   "source": [
    "#Pick and Choose variables\n",
    "schoolData_pick = schoolData[[\n",
    "'TotalTargets_pTarget_PctMet',\n",
    "'EVAAS Growth Status_NotMet',\n",
    "'MinorityMalePct',\n",
    "'MinorityFemalePct',\n",
    "'title1_type_cd_Y',\n",
    "'avg_daily_attend_pct',\n",
    "'short_susp_per_c_num',\n",
    "'BlackMalePct',\n",
    "'AsianFemalePct',\n",
    "'student_num',\n",
    "'HispanicMalePct',\n",
    "'SciGr5&8_pTarget_PctMet',\n",
    "'tchyrs_0thru3_pct',\n",
    "'tchyrs_11plus_pct',\n",
    "'Accomplished_TCHR_Standard 2_Pct',\n",
    "'Accomplished_TCHR_Standard 1_Pct',\n",
    "'Developing_TCHR_Standard 1_Pct',\n",
    "'Developing_TCHR_Standard 2_Pct',\n",
    "'Developing_TCHR_Standard 3_Pct',\n",
    "'Accomplished_TCHR_Standard 4_Pct',\n",
    "'4-10 Years_LEA_Exp_Pct_Prin',\n",
    "'Developing_TCHR_Standard 4_Pct',\n",
    "'Developing_TCHR_Standard 5_Pct',\n",
    "'10+ Years_LEA_Exp_Pct_Prin',\n",
    "'Accomplished_TCHR_Standard 3_Pct',\n",
    "'Accomplished_TCHR_Standard 5_Pct',\n",
    "'lea_state_perpupil_num',\n",
    "'st_emer_prov_teach_pct',\n",
    "'pct_GCE_ALL',\n",
    "'MathGr3-8_pTarget_PctMet',\n",
    "'lea_sat_avg_score_num',\n",
    "'lea_federal_perpupil_num',\n",
    "'lea_local_perpupil_num',\n",
    "'nbpts_num',\n",
    "'Distinguished_TCHR_Standard 2_Pct',\n",
    "'_1yr_tchr_trnovr_pct',\n",
    "'lateral_teach_pct',\n",
    "'0-3 Years_LEA_Exp_Pct_Prin',\n",
    "'lea_flicensed_teach_pct',\n",
    "'lea_tchyrs_4thru10_pct',\n",
    "'lea_tchyrs_11plus_pct',\n",
    "'lea_nbpts_num',\n",
    "'lea_advance_dgr_pct',\n",
    "'lea_1yr_tchr_trnovr_pct',\n",
    "'lea_emer_prov_teach_pct',\n",
    "'st_flicensed_teach_pct',\n",
    "'st_tchyrs_0thru3_pct',\n",
    "'st_1yr_tchr_trnovr_pct',\n",
    "'lea_tchyrs_0thru3_pct',\n",
    "'Category_Cd_T',\n",
    "]]\n",
    "\n",
    "# Dataset Dimension with picked variables\n",
    "schoolData_pick.shape"
   ]
  },
  {
   "cell_type": "markdown",
   "metadata": {},
   "source": [
    "### Training/Testing Splitting"
   ]
  },
  {
   "cell_type": "markdown",
   "metadata": {},
   "source": [
    "To prepare our official SVM and Logistic regression modeling procedure, we need to split the dataset into training and testing set. We use the ShuffleSplit criteria below. We use a proportion of 80/20 for the training/testing dataset."
   ]
  },
  {
   "cell_type": "code",
   "execution_count": 131,
   "metadata": {},
   "outputs": [
    {
     "name": "stdout",
     "output_type": "stream",
     "text": [
      "ShuffleSplit(n_splits=3, random_state=None, test_size=0.2, train_size=None)\n"
     ]
    }
   ],
   "source": [
    "# Using ShuffleSplit for Training/Testing Split \n",
    "from sklearn.model_selection import ShuffleSplit\n",
    "\n",
    "num_cv_iterations = 3\n",
    "num_instances = len(schoolData_SPG)\n",
    "cv_object = ShuffleSplit(n_splits=num_cv_iterations,\n",
    "                         test_size  = 0.2)\n",
    "                         \n",
    "print(cv_object)"
   ]
  },
  {
   "cell_type": "code",
   "execution_count": 132,
   "metadata": {},
   "outputs": [],
   "source": [
    "# Split X and Y into Training and Testing dataset\n",
    "for train_indices, test_indices in cv_object.split(schoolData_pick,schoolData_SPG): \n",
    "\n",
    "    Xsel_train = schoolData_pick.values[train_indices]\n",
    "    ysel_train = schoolData_SPG.values[train_indices]\n",
    "    Xall_train = schoolData.values[train_indices]\n",
    "    \n",
    "    Xsel_test = schoolData_pick.values[test_indices]\n",
    "    ysel_test = schoolData_SPG.values[test_indices]\n",
    "    Xall_test = schoolData.values[test_indices]"
   ]
  },
  {
   "cell_type": "markdown",
   "metadata": {},
   "source": [
    " With our feature selection (51 variables), check and make sure it contains most information. The way we conduct the validation is by running another random forest and check the accuracy. This accuracy of the current model (acc=0.733) is close to the model utilizing all the variables (acc=0.736). So we varify that our selection is reasonable."
   ]
  },
  {
   "cell_type": "code",
   "execution_count": 133,
   "metadata": {},
   "outputs": [
    {
     "data": {
      "text/plain": [
       "RandomForestClassifier(bootstrap=True, ccp_alpha=0.0, class_weight=None,\n",
       "                       criterion='gini', max_depth=None, max_features='auto',\n",
       "                       max_leaf_nodes=None, max_samples=None,\n",
       "                       min_impurity_decrease=0.0, min_impurity_split=None,\n",
       "                       min_samples_leaf=1, min_samples_split=2,\n",
       "                       min_weight_fraction_leaf=0.0, n_estimators=100,\n",
       "                       n_jobs=None, oob_score=False, random_state=None,\n",
       "                       verbose=0, warm_start=False)"
      ]
     },
     "execution_count": 133,
     "metadata": {},
     "output_type": "execute_result"
    },
    {
     "data": {
      "text/plain": [
       "RandomForestClassifier(bootstrap=True, ccp_alpha=0.0, class_weight=None,\n",
       "                       criterion='gini', max_depth=None, max_features='auto',\n",
       "                       max_leaf_nodes=None, max_samples=None,\n",
       "                       min_impurity_decrease=0.0, min_impurity_split=None,\n",
       "                       min_samples_leaf=1, min_samples_split=2,\n",
       "                       min_weight_fraction_leaf=0.0, n_estimators=100,\n",
       "                       n_jobs=None, oob_score=False, random_state=None,\n",
       "                       verbose=0, warm_start=False)"
      ]
     },
     "execution_count": 133,
     "metadata": {},
     "output_type": "execute_result"
    },
    {
     "name": "stdout",
     "output_type": "stream",
     "text": [
      "Model with Selective Variables Accuracy: 0.7426810477657936\n",
      "Model with All Variables Accuracy: 0.7498715973292245\n"
     ]
    }
   ],
   "source": [
    "# Random Forest fitting with selective variables\n",
    "clf_rf=RandomForestClassifier(n_estimators=100)\n",
    "clf_rf.fit(Xsel_train,ysel_train)\n",
    "y_pred_rf=clf_rf.predict(Xsel_test)\n",
    "\n",
    "# Random Forest fitting with all variables\n",
    "clf_rf_all=RandomForestClassifier(n_estimators=100)\n",
    "clf_rf_all.fit(Xall_train,ysel_train)\n",
    "y_pred_rf_all=clf_rf_all.predict(Xall_test)\n",
    "\n",
    "print(\"Model with Selective Variables Accuracy:\",metrics.accuracy_score(ysel_test, y_pred_rf))\n",
    "print(\"Model with All Variables Accuracy:\",metrics.accuracy_score(ysel_test, y_pred_rf_all))"
   ]
  },
  {
   "cell_type": "markdown",
   "metadata": {},
   "source": [
    "### Solving Data Imbalance"
   ]
  },
  {
   "cell_type": "markdown",
   "metadata": {},
   "source": [
    "We find that our response variable (SPG_Grade) has a data balancing problem: The grade C is dominate the dataset with the largest propertion, followed by B or D. A and F are just a small propertion of the whole dataset. \n",
    "\n",
    "First we investigate the current class of the SPG Grade and found that the class \"A\" and \"A+NG\" are identical so we merge the two, the class \"I\" has incomplete information so we are removing it from the dataset."
   ]
  },
  {
   "cell_type": "code",
   "execution_count": 145,
   "metadata": {
    "scrolled": true
   },
   "outputs": [
    {
     "data": {
      "text/html": [
       "<div>\n",
       "<style scoped>\n",
       "    .dataframe tbody tr th:only-of-type {\n",
       "        vertical-align: middle;\n",
       "    }\n",
       "\n",
       "    .dataframe tbody tr th {\n",
       "        vertical-align: top;\n",
       "    }\n",
       "\n",
       "    .dataframe thead th {\n",
       "        text-align: right;\n",
       "    }\n",
       "</style>\n",
       "<table border=\"1\" class=\"dataframe\">\n",
       "  <thead>\n",
       "    <tr style=\"text-align: right;\">\n",
       "      <th></th>\n",
       "      <th>0</th>\n",
       "    </tr>\n",
       "  </thead>\n",
       "  <tbody>\n",
       "    <tr>\n",
       "      <th>count</th>\n",
       "      <td>9216</td>\n",
       "    </tr>\n",
       "    <tr>\n",
       "      <th>unique</th>\n",
       "      <td>5</td>\n",
       "    </tr>\n",
       "    <tr>\n",
       "      <th>top</th>\n",
       "      <td>C</td>\n",
       "    </tr>\n",
       "    <tr>\n",
       "      <th>freq</th>\n",
       "      <td>3973</td>\n",
       "    </tr>\n",
       "  </tbody>\n",
       "</table>\n",
       "</div>"
      ],
      "text/plain": [
       "           0\n",
       "count   9216\n",
       "unique     5\n",
       "top        C\n",
       "freq    3973"
      ]
     },
     "execution_count": 145,
     "metadata": {},
     "output_type": "execute_result"
    }
   ],
   "source": [
    "#schoolData_SPG_org = schoolData_SPG\n",
    "schoolData_SPG = schoolData_SPG_org\n",
    "\n",
    "import numpy as np\n",
    "schoolData_SPG= np.select(\n",
    "    [\n",
    "        schoolData_SPG == 'A', \n",
    "        schoolData_SPG == 'B',\n",
    "        schoolData_SPG == 'C',\n",
    "        schoolData_SPG == 'D',\n",
    "        schoolData_SPG == 'F',\n",
    "        schoolData_SPG == 'A+NG',\n",
    "        schoolData_SPG == 'I'\n",
    "    ], \n",
    "    [\n",
    "        'A', \n",
    "        'B',\n",
    "        'C',\n",
    "        'D',\n",
    "        'F',\n",
    "        'A',\n",
    "        'NA'\n",
    "    ],\n",
    "    default='NA'\n",
    ")\n",
    "\n",
    "#Filter out the sample with \"NA\" on SPG Grade\n",
    "schoolData_SPG_new = schoolData_SPG[schoolData_SPG!='NA']\n",
    "schoolData_pick_new = schoolData_pick[schoolData_SPG!='NA']\n",
    "\n",
    "# Check if the levels of SPG Grade has been altered\n",
    "s = pd.DataFrame(schoolData_SPG_new)\n",
    "s.describe()"
   ]
  },
  {
   "cell_type": "markdown",
   "metadata": {},
   "source": [
    "After merging the class, we can see below a distribution of current SPG Grade. The grade C is dominate the dataset with the largest propertion, followed by B or D. A and F are just a small propertion of the whole dataset. We need to re-balance the data."
   ]
  },
  {
   "cell_type": "code",
   "execution_count": 75,
   "metadata": {},
   "outputs": [
    {
     "data": {
      "text/plain": [
       "<seaborn.axisgrid.FacetGrid at 0x1c8eed844c8>"
      ]
     },
     "execution_count": 75,
     "metadata": {},
     "output_type": "execute_result"
    },
    {
     "data": {
      "image/png": "[encoded data removed]",
      "text/plain": [
       "<Figure size 720x360 with 1 Axes>"
      ]
     },
     "metadata": {
      "needs_background": "light"
     },
     "output_type": "display_data"
    }
   ],
   "source": [
    "#Factor Plot for SPG Grade\n",
    "s.columns=['SPG Grade']\n",
    "                        \n",
    "sns.factorplot(\"SPG Grade\", data=s, aspect=2,\n",
    "                       kind=\"count\", order=['A','B','C','D','F'])\n",
    "\n",
    "plt.show()"
   ]
  },
  {
   "cell_type": "markdown",
   "metadata": {},
   "source": [
    "To solve this problem, we are using the crieteria below.\n",
    "\n",
    "#### Test 3 types of sampler: UnderSample all cases, UnderSample majority class, SMOTE Oversample\n",
    "\n",
    "Below we conduct 3 seperate procedures to produce 3 seperate sets of X and y from the original dataset. Those sets will be evaluate against each other and we will decide the best data balancing strategy to use."
   ]
  },
  {
   "cell_type": "code",
   "execution_count": 82,
   "metadata": {},
   "outputs": [
    {
     "data": {
      "text/plain": [
       "(9216, 50)"
      ]
     },
     "execution_count": 82,
     "metadata": {},
     "output_type": "execute_result"
    },
    {
     "data": {
      "text/plain": [
       "(9216,)"
      ]
     },
     "execution_count": 82,
     "metadata": {},
     "output_type": "execute_result"
    }
   ],
   "source": [
    "# Check the dimension for X and y\n",
    "schoolData_pick_new.shape\n",
    "schoolData_SPG_new.shape"
   ]
  },
  {
   "cell_type": "code",
   "execution_count": 91,
   "metadata": {},
   "outputs": [],
   "source": [
    "from imblearn.under_sampling import RandomUnderSampler\n",
    "\n",
    "# Undersample the dataset using the RandomUnderSampler \n",
    "# Set all class sizes equal to the smallest class.\n",
    "us = RandomUnderSampler()\n",
    "X_us, y_us = us.fit_sample(schoolData_pick_new, pd.DataFrame(schoolData_SPG_new))\n",
    "\n",
    "# Plot the new class distributions for y using the same funnction as above. \n",
    "#plot_class_dist(y_us)"
   ]
  },
  {
   "cell_type": "code",
   "execution_count": 93,
   "metadata": {},
   "outputs": [],
   "source": [
    "from imblearn.under_sampling import RandomUnderSampler\n",
    "\n",
    "# Undersample the dataset using the RandomUnderSampler \n",
    "# Undersample the majority class only\n",
    "us = RandomUnderSampler(sampling_strategy='majority')\n",
    "X_us_maj, y_us_maj = us.fit_sample(schoolData_pick_new, pd.DataFrame(schoolData_SPG_new))\n",
    "\n",
    "# Plot the new class distributions for y using the same funnction as above. \n",
    "#plot_class_dist(y_us_maj)"
   ]
  },
  {
   "cell_type": "code",
   "execution_count": 94,
   "metadata": {},
   "outputs": [],
   "source": [
    "from imblearn.over_sampling import SMOTE\n",
    "\n",
    "# Oversample using SMOTE\n",
    "# Make all classes the same size as the majority class.\n",
    "# WARNING - This can exponentially increase the size of the input dataset.\n",
    "sm = SMOTE(sampling_strategy='not majority')\n",
    "X_sm, y_sm = sm.fit_sample(schoolData_pick_new, pd.DataFrame(schoolData_SPG_new))\n",
    "\n",
    "# Plot the new class distributions for y using the same funnction as above. \n",
    "#plot_class_dist(y_sm)"
   ]
  },
  {
   "cell_type": "markdown",
   "metadata": {},
   "source": [
    "By comparing the results for the 3 different methods dealing with data imbalance, we run random forest with the datasets we generated. Accuracy are measured with the results of the variables. As shown the SMOTE strategy get the highest accuracy. It will be used for the later SVM and Logistic regression fitting."
   ]
  },
  {
   "cell_type": "code",
   "execution_count": 92,
   "metadata": {},
   "outputs": [
    {
     "name": "stderr",
     "output_type": "stream",
     "text": [
      "C:\\Users\\taniat470s\\Anaconda3\\envs\\ML7331\\lib\\site-packages\\ipykernel_launcher.py:14: DataConversionWarning: A column-vector y was passed when a 1d array was expected. Please change the shape of y to (n_samples,), for example using ravel().\n",
      "  \n"
     ]
    },
    {
     "data": {
      "text/plain": [
       "RandomForestClassifier(bootstrap=True, ccp_alpha=0.0, class_weight=None,\n",
       "                       criterion='gini', max_depth=None, max_features='auto',\n",
       "                       max_leaf_nodes=None, max_samples=None,\n",
       "                       min_impurity_decrease=0.0, min_impurity_split=None,\n",
       "                       min_samples_leaf=1, min_samples_split=2,\n",
       "                       min_weight_fraction_leaf=0.0, n_estimators=100,\n",
       "                       n_jobs=None, oob_score=False, random_state=None,\n",
       "                       verbose=0, warm_start=False)"
      ]
     },
     "execution_count": 92,
     "metadata": {},
     "output_type": "execute_result"
    },
    {
     "name": "stdout",
     "output_type": "stream",
     "text": [
      "Accuracy: 0.6767441860465117\n"
     ]
    }
   ],
   "source": [
    "#Training using Undersample Method1 \n",
    "for train_indices, test_indices in cv_object.split(X_us,y_us): \n",
    "\n",
    "    X_train = X_us.values[train_indices]\n",
    "    y_train = y_us.values[train_indices]\n",
    "    \n",
    "    X_test = X_us.values[test_indices]\n",
    "    y_test = y_us.values[test_indices]\n",
    "    \n",
    "\n",
    "clfus=RandomForestClassifier(n_estimators=100)\n",
    "clfus.fit(X_train,y_train)\n",
    "y_pred_us=clfus.predict(X_test)\n",
    "\n",
    "print(\"Accuracy:\",metrics.accuracy_score(y_test, y_pred_us))"
   ]
  },
  {
   "cell_type": "code",
   "execution_count": 95,
   "metadata": {},
   "outputs": [
    {
     "name": "stderr",
     "output_type": "stream",
     "text": [
      "C:\\Users\\taniat470s\\Anaconda3\\envs\\ML7331\\lib\\site-packages\\ipykernel_launcher.py:13: DataConversionWarning: A column-vector y was passed when a 1d array was expected. Please change the shape of y to (n_samples,), for example using ravel().\n",
      "  del sys.path[0]\n"
     ]
    },
    {
     "data": {
      "text/plain": [
       "RandomForestClassifier(bootstrap=True, ccp_alpha=0.0, class_weight=None,\n",
       "                       criterion='gini', max_depth=None, max_features='auto',\n",
       "                       max_leaf_nodes=None, max_samples=None,\n",
       "                       min_impurity_decrease=0.0, min_impurity_split=None,\n",
       "                       min_samples_leaf=1, min_samples_split=2,\n",
       "                       min_weight_fraction_leaf=0.0, n_estimators=100,\n",
       "                       n_jobs=None, oob_score=False, random_state=None,\n",
       "                       verbose=0, warm_start=False)"
      ]
     },
     "execution_count": 95,
     "metadata": {},
     "output_type": "execute_result"
    },
    {
     "name": "stdout",
     "output_type": "stream",
     "text": [
      "Accuracy: 0.8044052863436123\n"
     ]
    }
   ],
   "source": [
    "#Training using Undersample Method2\n",
    "for train_indices, test_indices in cv_object.split(X_us_maj,y_us_maj): \n",
    "\n",
    "    X_train = X_us_maj.values[train_indices]\n",
    "    y_train = y_us_maj.values[train_indices]\n",
    "    \n",
    "    X_test = X_us_maj.values[test_indices]\n",
    "    y_test = y_us_maj.values[test_indices]\n",
    "    \n",
    "clfusm=RandomForestClassifier(n_estimators=100)\n",
    "clfusm.fit(X_train,y_train)\n",
    "y_pred_usm=clfusm.predict(X_test)\n",
    "    \n",
    "print(\"Accuracy:\",metrics.accuracy_score(y_test, y_pred_usm))"
   ]
  },
  {
   "cell_type": "code",
   "execution_count": 96,
   "metadata": {},
   "outputs": [
    {
     "name": "stderr",
     "output_type": "stream",
     "text": [
      "C:\\Users\\taniat470s\\Anaconda3\\envs\\ML7331\\lib\\site-packages\\ipykernel_launcher.py:13: DataConversionWarning: A column-vector y was passed when a 1d array was expected. Please change the shape of y to (n_samples,), for example using ravel().\n",
      "  del sys.path[0]\n"
     ]
    },
    {
     "data": {
      "text/plain": [
       "RandomForestClassifier(bootstrap=True, ccp_alpha=0.0, class_weight=None,\n",
       "                       criterion='gini', max_depth=None, max_features='auto',\n",
       "                       max_leaf_nodes=None, max_samples=None,\n",
       "                       min_impurity_decrease=0.0, min_impurity_split=None,\n",
       "                       min_samples_leaf=1, min_samples_split=2,\n",
       "                       min_weight_fraction_leaf=0.0, n_estimators=100,\n",
       "                       n_jobs=None, oob_score=False, random_state=None,\n",
       "                       verbose=0, warm_start=False)"
      ]
     },
     "execution_count": 96,
     "metadata": {},
     "output_type": "execute_result"
    },
    {
     "name": "stdout",
     "output_type": "stream",
     "text": [
      "Accuracy: 0.8887490561288699\n"
     ]
    }
   ],
   "source": [
    "#Training using Oversample Method\n",
    "for train_indices, test_indices in cv_object.split(X_sm,y_sm): \n",
    "\n",
    "    X_train = X_sm.values[train_indices]\n",
    "    y_train = y_sm.values[train_indices]\n",
    "    \n",
    "    X_test = X_sm.values[test_indices]\n",
    "    y_test = y_sm.values[test_indices]\n",
    "\n",
    "clfsm=RandomForestClassifier(n_estimators=100)\n",
    "clfsm.fit(X_train,y_train)\n",
    "y_pred_sm=clfsm.predict(X_test)\n",
    "\n",
    "print(\"Accuracy:\",metrics.accuracy_score(y_test, y_pred_sm))"
   ]
  },
  {
   "cell_type": "markdown",
   "metadata": {},
   "source": [
    "## Model Creation\n",
    "### SVM Work\n"
   ]
  },
  {
   "cell_type": "markdown",
   "metadata": {},
   "source": [
    "First, let's split the original dataset (with No SMOTE balancing) to train/test, and do SVM."
   ]
  },
  {
   "cell_type": "code",
   "execution_count": 151,
   "metadata": {},
   "outputs": [],
   "source": [
    "# Split X and Y into Training and Testing dataset\n",
    "for train_indices, test_indices in cv_object.split(schoolData_pick_new,schoolData_SPG_new): \n",
    "\n",
    "    Xsel_train = schoolData_pick_new.values[train_indices]\n",
    "    ysel_train = schoolData_SPG_new[train_indices]\n",
    "    \n",
    "    Xsel_test = schoolData_pick_new.values[test_indices]\n",
    "    ysel_test = schoolData_SPG_new[test_indices]"
   ]
  },
  {
   "cell_type": "code",
   "execution_count": 153,
   "metadata": {},
   "outputs": [],
   "source": [
    "from sklearn.preprocessing import StandardScaler\n",
    "from sklearn.pipeline import Pipeline\n",
    "\n",
    "scl_obj = StandardScaler()\n",
    "\n",
    "Xorg_train_scaled = scl_obj.fit_transform(Xsel_train) # apply to training\n",
    "Xorg_test_scaled = scl_obj.fit_transform(Xsel_test) "
   ]
  },
  {
   "cell_type": "code",
   "execution_count": 154,
   "metadata": {},
   "outputs": [
    {
     "name": "stdout",
     "output_type": "stream",
     "text": [
      "accuracy: 0.7066160520607375\n",
      "[[ 57  51   2   0   0]\n",
      " [ 14 317 142   4   0]\n",
      " [  1  70 653  68   1]\n",
      " [  0   0 123 266   1]\n",
      " [  0   0   2  62  10]]\n",
      "Wall time: 5.38 s\n"
     ]
    }
   ],
   "source": [
    "%%time\n",
    "# lets investigate SVMs on the data and play with the parameters and kernels\n",
    "from sklearn.svm import SVC\n",
    "from sklearn import metrics as mt\n",
    "\n",
    "# train the model just as before\n",
    "svm_clf = SVC(C=0.5, kernel='rbf', degree=3, gamma='auto') # get object\n",
    "svm_clf.fit(Xorg_train_scaled, ysel_train)  # train object\n",
    "\n",
    "y_hat = svm_clf.predict(Xorg_test_scaled) # get test set precitions\n",
    "\n",
    "acc = mt.accuracy_score(ysel_test,y_hat)\n",
    "conf = mt.confusion_matrix(ysel_test,y_hat)\n",
    "print('accuracy:', acc )\n",
    "print(conf)"
   ]
  },
  {
   "cell_type": "code",
   "execution_count": 155,
   "metadata": {},
   "outputs": [
    {
     "data": {
      "text/plain": [
       "<matplotlib.image.AxesImage at 0x1c8e9087a08>"
      ]
     },
     "execution_count": 155,
     "metadata": {},
     "output_type": "execute_result"
    },
    {
     "data": {
      "image/png": "[encoded data removed]",
      "text/plain": [
       "<Figure size 576x576 with 1 Axes>"
      ]
     },
     "metadata": {
      "needs_background": "light"
     },
     "output_type": "display_data"
    }
   ],
   "source": [
    "f = plt.figure(figsize=(8,8))\n",
    "plt.imshow(conf)"
   ]
  },
  {
   "cell_type": "markdown",
   "metadata": {},
   "source": [
    "The accuracy for the above model is around 70%. However the confusion matrix shows that because the data is imbalance, the accuracy across different class are a lot different from each other. For example, the accuracy rate of C is much higher than other class.\n",
    "\n",
    "Below we are using the SMOTE balanced dataset for SVM work:"
   ]
  },
  {
   "cell_type": "code",
   "execution_count": 98,
   "metadata": {},
   "outputs": [],
   "source": [
    "from sklearn.preprocessing import StandardScaler\n",
    "from sklearn.pipeline import Pipeline\n",
    "\n",
    "scl_obj = StandardScaler()\n",
    "\n",
    "Xs2_train_scaled = scl_obj.fit_transform(X_train) # apply to training\n",
    "Xs2_test_scaled = scl_obj.fit_transform(X_test) "
   ]
  },
  {
   "cell_type": "code",
   "execution_count": 101,
   "metadata": {},
   "outputs": [
    {
     "name": "stderr",
     "output_type": "stream",
     "text": [
      "C:\\Users\\taniat470s\\Anaconda3\\envs\\ML7331\\lib\\site-packages\\sklearn\\utils\\validation.py:760: DataConversionWarning: A column-vector y was passed when a 1d array was expected. Please change the shape of y to (n_samples, ), for example using ravel().\n",
      "  y = column_or_1d(y, warn=True)\n"
     ]
    },
    {
     "name": "stdout",
     "output_type": "stream",
     "text": [
      "accuracy: 0.8255726151522779\n",
      "[[751  26   7   0   0]\n",
      " [ 81 597  91   8   1]\n",
      " [  1 115 559  99   3]\n",
      " [  0   5 113 607  75]\n",
      " [  0   2   3  63 766]]\n",
      "Wall time: 22.6 s\n"
     ]
    }
   ],
   "source": [
    "%%time\n",
    "# lets investigate SVMs on the data and play with the parameters and kernels\n",
    "from sklearn.svm import SVC\n",
    "from sklearn import metrics as mt\n",
    "\n",
    "# train the model just as before\n",
    "svm_clf = SVC(C=0.5, kernel='rbf', degree=3, gamma='auto') # get object\n",
    "svm_clf.fit(Xs2_train_scaled, y_train)  # train object\n",
    "\n",
    "y_hat = svm_clf.predict(Xs2_test_scaled) # get test set precitions\n",
    "\n",
    "acc = mt.accuracy_score(y_test,y_hat)\n",
    "conf = mt.confusion_matrix(y_test,y_hat)\n",
    "print('accuracy:', acc )\n",
    "print(conf)"
   ]
  },
  {
   "cell_type": "code",
   "execution_count": 103,
   "metadata": {},
   "outputs": [
    {
     "data": {
      "text/plain": [
       "<matplotlib.image.AxesImage at 0x1c8efdb4108>"
      ]
     },
     "execution_count": 103,
     "metadata": {},
     "output_type": "execute_result"
    },
    {
     "data": {
      "image/png": "[encoded data removed]",
      "text/plain": [
       "<Figure size 576x576 with 1 Axes>"
      ]
     },
     "metadata": {
      "needs_background": "light"
     },
     "output_type": "display_data"
    }
   ],
   "source": [
    "f = plt.figure(figsize=(8,8))\n",
    "plt.imshow(conf)"
   ]
  },
  {
   "cell_type": "code",
   "execution_count": 102,
   "metadata": {},
   "outputs": [
    {
     "name": "stdout",
     "output_type": "stream",
     "text": [
      "(10583, 50)\n",
      "(10583,)\n",
      "[1239 2528 2803 2629 1384]\n"
     ]
    }
   ],
   "source": [
    "# look at the support vectors\n",
    "print(svm_clf.support_vectors_.shape)\n",
    "print(svm_clf.support_.shape)\n",
    "print(svm_clf.n_support_ )"
   ]
  },
  {
   "cell_type": "markdown",
   "metadata": {},
   "source": [
    "*********\n",
    "****I am re-assigning colnames for plotting, let me know if you have a better way to do that."
   ]
  },
  {
   "cell_type": "code",
   "execution_count": 104,
   "metadata": {},
   "outputs": [],
   "source": [
    "schoolData_sm = pd.DataFrame(X_sm)\n",
    "schoolData_sm.columns=['TotalTargets_pTarget_PctMet',\n",
    "'EVAAS Growth Status_NotMet',\n",
    "'MinorityMalePct',\n",
    "'MinorityFemalePct',\n",
    "'title1_type_cd_Y',\n",
    "'avg_daily_attend_pct',\n",
    "'short_susp_per_c_num',\n",
    "'BlackMalePct',\n",
    "'AsianFemalePct',\n",
    "'student_num',\n",
    "'HispanicMalePct',\n",
    "'SciGr5&8_pTarget_PctMet',\n",
    "'tchyrs_0thru3_pct',\n",
    "'tchyrs_11plus_pct',\n",
    "'Accomplished_TCHR_Standard 2_Pct',\n",
    "'Accomplished_TCHR_Standard 1_Pct',\n",
    "'Developing_TCHR_Standard 1_Pct',\n",
    "'Developing_TCHR_Standard 2_Pct',\n",
    "'Developing_TCHR_Standard 3_Pct',\n",
    "'Accomplished_TCHR_Standard 4_Pct',\n",
    "'4-10 Years_LEA_Exp_Pct_Prin',\n",
    "'Developing_TCHR_Standard 4_Pct',\n",
    "'Developing_TCHR_Standard 5_Pct',\n",
    "'10+ Years_LEA_Exp_Pct_Prin',\n",
    "'Accomplished_TCHR_Standard 3_Pct',\n",
    "'Accomplished_TCHR_Standard 5_Pct',\n",
    "'lea_state_perpupil_num',\n",
    "'st_emer_prov_teach_pct',\n",
    "'pct_GCE_ALL',\n",
    "'MathGr3-8_pTarget_PctMet',\n",
    "'lea_sat_avg_score_num',\n",
    "'lea_federal_perpupil_num',\n",
    "'lea_local_perpupil_num',\n",
    "'nbpts_num',\n",
    "'Distinguished_TCHR_Standard 2_Pct',\n",
    "'_1yr_tchr_trnovr_pct',\n",
    "'lateral_teach_pct',\n",
    "'0-3 Years_LEA_Exp_Pct_Prin',\n",
    "'lea_flicensed_teach_pct',\n",
    "'lea_tchyrs_4thru10_pct',\n",
    "'lea_tchyrs_11plus_pct',\n",
    "'lea_nbpts_num',\n",
    "'lea_advance_dgr_pct',\n",
    "'lea_1yr_tchr_trnovr_pct',\n",
    "'lea_emer_prov_teach_pct',\n",
    "'st_flicensed_teach_pct',\n",
    "'st_tchyrs_0thru3_pct',\n",
    "'st_1yr_tchr_trnovr_pct',\n",
    "'lea_tchyrs_0thru3_pct',\n",
    "'Category_Cd_T',\n",
    "]"
   ]
  },
  {
   "cell_type": "code",
   "execution_count": 114,
   "metadata": {},
   "outputs": [
    {
     "data": {
      "text/plain": [
       "array([['C'],\n",
       "       ['C'],\n",
       "       ['C'],\n",
       "       ...,\n",
       "       ['D'],\n",
       "       ['D'],\n",
       "       ['D']], dtype=object)"
      ]
     },
     "execution_count": 114,
     "metadata": {},
     "output_type": "execute_result"
    }
   ],
   "source": [
    "y_sm.values[svm_clf.support_] "
   ]
  },
  {
   "cell_type": "code",
   "execution_count": 115,
   "metadata": {},
   "outputs": [
    {
     "name": "stdout",
     "output_type": "stream",
     "text": [
      "<class 'pandas.core.frame.DataFrame'>\n",
      "Int64Index: 10583 entries, 9473 to 614\n",
      "Data columns (total 51 columns):\n",
      " #   Column                             Non-Null Count  Dtype  \n",
      "---  ------                             --------------  -----  \n",
      " 0   TotalTargets_pTarget_PctMet        10583 non-null  float64\n",
      " 1   EVAAS Growth Status_NotMet         10583 non-null  uint8  \n",
      " 2   MinorityMalePct                    10583 non-null  float64\n",
      " 3   MinorityFemalePct                  10583 non-null  float64\n",
      " 4   title1_type_cd_Y                   10583 non-null  uint8  \n",
      " 5   avg_daily_attend_pct               10583 non-null  float64\n",
      " 6   short_susp_per_c_num               10583 non-null  float64\n",
      " 7   BlackMalePct                       10583 non-null  float64\n",
      " 8   AsianFemalePct                     10583 non-null  float64\n",
      " 9   student_num                        10583 non-null  float64\n",
      " 10  HispanicMalePct                    10583 non-null  float64\n",
      " 11  SciGr5&8_pTarget_PctMet            10583 non-null  float64\n",
      " 12  tchyrs_0thru3_pct                  10583 non-null  float64\n",
      " 13  tchyrs_11plus_pct                  10583 non-null  float64\n",
      " 14  Accomplished_TCHR_Standard 2_Pct   10583 non-null  float64\n",
      " 15  Accomplished_TCHR_Standard 1_Pct   10583 non-null  float64\n",
      " 16  Developing_TCHR_Standard 1_Pct     10583 non-null  float64\n",
      " 17  Developing_TCHR_Standard 2_Pct     10583 non-null  float64\n",
      " 18  Developing_TCHR_Standard 3_Pct     10583 non-null  float64\n",
      " 19  Accomplished_TCHR_Standard 4_Pct   10583 non-null  float64\n",
      " 20  4-10 Years_LEA_Exp_Pct_Prin        10583 non-null  float64\n",
      " 21  Developing_TCHR_Standard 4_Pct     10583 non-null  float64\n",
      " 22  Developing_TCHR_Standard 5_Pct     10583 non-null  float64\n",
      " 23  10+ Years_LEA_Exp_Pct_Prin         10583 non-null  float64\n",
      " 24  Accomplished_TCHR_Standard 3_Pct   10583 non-null  float64\n",
      " 25  Accomplished_TCHR_Standard 5_Pct   10583 non-null  float64\n",
      " 26  lea_state_perpupil_num             10583 non-null  float64\n",
      " 27  st_emer_prov_teach_pct             10583 non-null  float64\n",
      " 28  pct_GCE_ALL                        10583 non-null  float64\n",
      " 29  MathGr3-8_pTarget_PctMet           10583 non-null  float64\n",
      " 30  lea_sat_avg_score_num              10583 non-null  float64\n",
      " 31  lea_federal_perpupil_num           10583 non-null  float64\n",
      " 32  lea_local_perpupil_num             10583 non-null  float64\n",
      " 33  nbpts_num                          10583 non-null  float64\n",
      " 34  Distinguished_TCHR_Standard 2_Pct  10583 non-null  float64\n",
      " 35  _1yr_tchr_trnovr_pct               10583 non-null  float64\n",
      " 36  lateral_teach_pct                  10583 non-null  float64\n",
      " 37  0-3 Years_LEA_Exp_Pct_Prin         10583 non-null  float64\n",
      " 38  lea_flicensed_teach_pct            10583 non-null  float64\n",
      " 39  lea_tchyrs_4thru10_pct             10583 non-null  float64\n",
      " 40  lea_tchyrs_11plus_pct              10583 non-null  float64\n",
      " 41  lea_nbpts_num                      10583 non-null  float64\n",
      " 42  lea_advance_dgr_pct                10583 non-null  float64\n",
      " 43  lea_1yr_tchr_trnovr_pct            10583 non-null  float64\n",
      " 44  lea_emer_prov_teach_pct            10583 non-null  float64\n",
      " 45  st_flicensed_teach_pct             10583 non-null  float64\n",
      " 46  st_tchyrs_0thru3_pct               10583 non-null  float64\n",
      " 47  st_1yr_tchr_trnovr_pct             10583 non-null  float64\n",
      " 48  lea_tchyrs_0thru3_pct              10583 non-null  float64\n",
      " 49  Category_Cd_T                      10583 non-null  uint8  \n",
      " 50  SPG Grade                          10583 non-null  object \n",
      "dtypes: float64(47), object(1), uint8(3)\n",
      "memory usage: 4.0+ MB\n"
     ]
    },
    {
     "name": "stderr",
     "output_type": "stream",
     "text": [
      "C:\\Users\\taniat470s\\Anaconda3\\envs\\ML7331\\lib\\site-packages\\ipykernel_launcher.py:5: SettingWithCopyWarning: \n",
      "A value is trying to be set on a copy of a slice from a DataFrame.\n",
      "Try using .loc[row_indexer,col_indexer] = value instead\n",
      "\n",
      "See the caveats in the documentation: https://pandas.pydata.org/pandas-docs/stable/user_guide/indexing.html#returning-a-view-versus-a-copy\n",
      "  \"\"\"\n"
     ]
    }
   ],
   "source": [
    "df_tested_on = schoolData_sm.iloc[train_indices] # saved from above, the indices chosen for training\n",
    "# now get the support vectors from the trained model\n",
    "df_support = df_tested_on.iloc[svm_clf.support_,:]\n",
    "\n",
    "df_support['SPG Grade'] = y_sm.values[svm_clf.support_] # add back in the 'Survived' Column to the pandas dataframe\n",
    "#X_sub['SPG Grade'] = y # also add it back in for the original data\n",
    "schoolData_sm['SPG Grade'] = y_sm # also add it back in for the original \n",
    "df_support.info()"
   ]
  },
  {
   "cell_type": "code",
   "execution_count": 117,
   "metadata": {},
   "outputs": [
    {
     "data": {
      "text/plain": [
       "<Figure size 720x288 with 0 Axes>"
      ]
     },
     "execution_count": 117,
     "metadata": {},
     "output_type": "execute_result"
    },
    {
     "data": {
      "text/plain": [
       "<matplotlib.axes._subplots.AxesSubplot at 0x1c8ef936ec8>"
      ]
     },
     "execution_count": 117,
     "metadata": {},
     "output_type": "execute_result"
    },
    {
     "data": {
      "text/plain": [
       "<matplotlib.legend.Legend at 0x1c8da706ac8>"
      ]
     },
     "execution_count": 117,
     "metadata": {},
     "output_type": "execute_result"
    },
    {
     "data": {
      "text/plain": [
       "Text(0.5, 1.0, 'tchyrs_0thru3_pct (Instances chosen as Support Vectors)')"
      ]
     },
     "execution_count": 117,
     "metadata": {},
     "output_type": "execute_result"
    },
    {
     "data": {
      "text/plain": [
       "<matplotlib.axes._subplots.AxesSubplot at 0x1c8d03908c8>"
      ]
     },
     "execution_count": 117,
     "metadata": {},
     "output_type": "execute_result"
    },
    {
     "data": {
      "text/plain": [
       "<matplotlib.legend.Legend at 0x1c8da712ac8>"
      ]
     },
     "execution_count": 117,
     "metadata": {},
     "output_type": "execute_result"
    },
    {
     "data": {
      "text/plain": [
       "Text(0.5, 1.0, 'tchyrs_0thru3_pct (Original)')"
      ]
     },
     "execution_count": 117,
     "metadata": {},
     "output_type": "execute_result"
    },
    {
     "data": {
      "text/plain": [
       "<Figure size 720x288 with 0 Axes>"
      ]
     },
     "execution_count": 117,
     "metadata": {},
     "output_type": "execute_result"
    },
    {
     "data": {
      "text/plain": [
       "<matplotlib.axes._subplots.AxesSubplot at 0x1c8efb29ec8>"
      ]
     },
     "execution_count": 117,
     "metadata": {},
     "output_type": "execute_result"
    },
    {
     "data": {
      "text/plain": [
       "<matplotlib.legend.Legend at 0x1c8efb0ecc8>"
      ]
     },
     "execution_count": 117,
     "metadata": {},
     "output_type": "execute_result"
    },
    {
     "data": {
      "text/plain": [
       "Text(0.5, 1.0, 'avg_daily_attend_pct (Instances chosen as Support Vectors)')"
      ]
     },
     "execution_count": 117,
     "metadata": {},
     "output_type": "execute_result"
    },
    {
     "data": {
      "text/plain": [
       "<matplotlib.axes._subplots.AxesSubplot at 0x1c8efb97888>"
      ]
     },
     "execution_count": 117,
     "metadata": {},
     "output_type": "execute_result"
    },
    {
     "data": {
      "text/plain": [
       "<matplotlib.legend.Legend at 0x1c8efafc6c8>"
      ]
     },
     "execution_count": 117,
     "metadata": {},
     "output_type": "execute_result"
    },
    {
     "data": {
      "text/plain": [
       "Text(0.5, 1.0, 'avg_daily_attend_pct (Original)')"
      ]
     },
     "execution_count": 117,
     "metadata": {},
     "output_type": "execute_result"
    },
    {
     "data": {
      "text/plain": [
       "<Figure size 720x288 with 0 Axes>"
      ]
     },
     "execution_count": 117,
     "metadata": {},
     "output_type": "execute_result"
    },
    {
     "data": {
      "text/plain": [
       "<matplotlib.axes._subplots.AxesSubplot at 0x1c8efbecac8>"
      ]
     },
     "execution_count": 117,
     "metadata": {},
     "output_type": "execute_result"
    },
    {
     "data": {
      "text/plain": [
       "<matplotlib.legend.Legend at 0x1c8efc02448>"
      ]
     },
     "execution_count": 117,
     "metadata": {},
     "output_type": "execute_result"
    },
    {
     "data": {
      "text/plain": [
       "Text(0.5, 1.0, 'short_susp_per_c_num (Instances chosen as Support Vectors)')"
      ]
     },
     "execution_count": 117,
     "metadata": {},
     "output_type": "execute_result"
    },
    {
     "data": {
      "text/plain": [
       "<matplotlib.axes._subplots.AxesSubplot at 0x1c8efcf82c8>"
      ]
     },
     "execution_count": 117,
     "metadata": {},
     "output_type": "execute_result"
    },
    {
     "data": {
      "text/plain": [
       "<matplotlib.legend.Legend at 0x1c8efba28c8>"
      ]
     },
     "execution_count": 117,
     "metadata": {},
     "output_type": "execute_result"
    },
    {
     "data": {
      "text/plain": [
       "Text(0.5, 1.0, 'short_susp_per_c_num (Original)')"
      ]
     },
     "execution_count": 117,
     "metadata": {},
     "output_type": "execute_result"
    },
    {
     "data": {
      "text/plain": [
       "<Figure size 720x288 with 0 Axes>"
      ]
     },
     "execution_count": 117,
     "metadata": {},
     "output_type": "execute_result"
    },
    {
     "data": {
      "text/plain": [
       "<matplotlib.axes._subplots.AxesSubplot at 0x1c8efde2208>"
      ]
     },
     "execution_count": 117,
     "metadata": {},
     "output_type": "execute_result"
    },
    {
     "data": {
      "text/plain": [
       "<matplotlib.legend.Legend at 0x1c8efd2c708>"
      ]
     },
     "execution_count": 117,
     "metadata": {},
     "output_type": "execute_result"
    },
    {
     "data": {
      "text/plain": [
       "Text(0.5, 1.0, 'MinorityFemalePct (Instances chosen as Support Vectors)')"
      ]
     },
     "execution_count": 117,
     "metadata": {},
     "output_type": "execute_result"
    },
    {
     "data": {
      "text/plain": [
       "<matplotlib.axes._subplots.AxesSubplot at 0x1c8efde2b88>"
      ]
     },
     "execution_count": 117,
     "metadata": {},
     "output_type": "execute_result"
    },
    {
     "data": {
      "text/plain": [
       "<matplotlib.legend.Legend at 0x1c8ef886188>"
      ]
     },
     "execution_count": 117,
     "metadata": {},
     "output_type": "execute_result"
    },
    {
     "data": {
      "text/plain": [
       "Text(0.5, 1.0, 'MinorityFemalePct (Original)')"
      ]
     },
     "execution_count": 117,
     "metadata": {},
     "output_type": "execute_result"
    },
    {
     "data": {
      "image/png": "[encoded data removed]",
      "text/plain": [
       "<Figure size 720x288 with 2 Axes>"
      ]
     },
     "metadata": {
      "needs_background": "light"
     },
     "output_type": "display_data"
    },
    {
     "data": {
      "image/png": "[encoded data removed]",
      "text/plain": [
       "<Figure size 720x288 with 2 Axes>"
      ]
     },
     "metadata": {
      "needs_background": "light"
     },
     "output_type": "display_data"
    },
    {
     "data": {
      "image/png": "[encoded data removed]",
      "text/plain": [
       "<Figure size 720x288 with 2 Axes>"
      ]
     },
     "metadata": {
      "needs_background": "light"
     },
     "output_type": "display_data"
    },
    {
     "data": {
      "image/png": "[encoded data removed]",
      "text/plain": [
       "<Figure size 720x288 with 2 Axes>"
      ]
     },
     "metadata": {
      "needs_background": "light"
     },
     "output_type": "display_data"
    }
   ],
   "source": [
    "# now lets see the statistics of these attributes\n",
    "#from pandas.tools.plotting import boxplot\n",
    "from pandas.plotting import boxplot\n",
    "from matplotlib import pyplot as plt\n",
    "\n",
    "# group the original data and the support vectors\n",
    "df_grouped_support = df_support.groupby(['SPG Grade'])\n",
    "#df_grouped = X_sub.groupby(['SPG Grade'])\n",
    "df_grouped = schoolData_sm.groupby(['SPG Grade'])\n",
    "\n",
    "# plot KDE of Different variables\n",
    "###########This is a random selection NOW\n",
    "vars_to_plot = ['tchyrs_0thru3_pct','avg_daily_attend_pct','short_susp_per_c_num','MinorityFemalePct']\n",
    "\n",
    "for v in vars_to_plot:\n",
    "    plt.figure(figsize=(10,4))\n",
    "    # plot support vector stats\n",
    "    plt.subplot(1,2,1)\n",
    "    ax = df_grouped_support[v].plot.kde() \n",
    "    plt.legend(['A','B','C','D','F'])\n",
    "    plt.title(v+' (Instances chosen as Support Vectors)')\n",
    "    \n",
    "    # plot original distributions\n",
    "    plt.subplot(1,2,2)\n",
    "    ax = df_grouped[v].plot.kde() \n",
    "    plt.legend(['A','B','C','D','F'])\n",
    "    plt.title(v+' (Original)')\n",
    "\n"
   ]
  },
  {
   "cell_type": "code",
   "execution_count": null,
   "metadata": {},
   "outputs": [],
   "source": []
  },
  {
   "cell_type": "markdown",
   "metadata": {},
   "source": [
    "### Logistic Regression"
   ]
  },
  {
   "cell_type": "markdown",
   "metadata": {},
   "source": [
    "## Input Feature Importance"
   ]
  },
  {
   "cell_type": "markdown",
   "metadata": {},
   "source": [
    "## Support Vectors Interpretation"
   ]
  },
  {
   "cell_type": "markdown",
   "metadata": {},
   "source": [
    "## Model Advantages"
   ]
  },
  {
   "cell_type": "code",
   "execution_count": null,
   "metadata": {},
   "outputs": [],
   "source": []
  }
 ],
 "metadata": {
  "kernelspec": {
   "display_name": "Python 3",
   "language": "python",
   "name": "python3"
  },
  "language_info": {
   "codemirror_mode": {
    "name": "ipython",
    "version": 3
   },
   "file_extension": ".py",
   "mimetype": "text/x-python",
   "name": "python",
   "nbconvert_exporter": "python",
   "pygments_lexer": "ipython3",
   "version": "3.7.7"
  }
 },
 "nbformat": 4,
 "nbformat_minor": 2
}
