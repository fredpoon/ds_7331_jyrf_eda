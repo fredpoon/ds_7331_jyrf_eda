{
 "cells": [
  {
   "cell_type": "markdown",
   "metadata": {},
   "source": [
    "Category \tAvailable \tRequirements\n",
    "Total Points \t100\t\n",
    "Create Models\t50\tCreate a logistic regression model and a support vector machine model for the classification task involved with your dataset. Assess how well each model performs (use 80/20 training/testing split for your data). Adjust parameters of the models to make them more accurate. If your dataset size requires the use of stochastic gradient descent, then linear kernel only is fine to use. That is, the SGDClassifier is fine to use for optimizing logistic regression and linear support vector machines. For many problems, SGD will be required in order to train the SVM model in a reasonable timeframe. \n",
    "Model Advantages\t10\tDiscuss the advantages of each model for each classification task. Does one type of model offer superior performance over another in terms of prediction accuracy? In terms of training time or efficiency? Explain in detail.\n",
    "Interpret Feature Importance\t30\tUse the weights from logistic regression to interpret the importance of different features for the classification task. Explain your interpretation in detail. Why do you think some variables are more important?\n",
    "Interpret Support Vectors\t10\tLook at the chosen support vectors for the classification task. Do these provide any insight into the data? Explain. If you used stochastic gradient descent (and therefore did not explicitly solve for support vectors), try subsampling your data to train the SVC model— then analyze the support vectors from the subsampled dataset."
   ]
  },
  {
   "cell_type": "markdown",
   "metadata": {},
   "source": [
    "1. You must include all of your data wrangling code, if you want to receive full credit.  Otherwise, your work is not reproducible.  This is true for all submissions. You are the only group who left this out. I need to see what you started with and all transformations. The dataset must still meet the minimum size after all transformations.  I will not accept future labs without this code included.  \n",
    "\n",
    "2. I have stated multiple times that the minimum dataset size is 15 columns x 30,000 rows = 450,000 elements. My feedback clearly states that what you submitted is currently at 16 * 9731 = 155,696 elements. As I said in the feedback: \"In future labs, you will need to increase the number of fields you use for modeling to achieve at least 15 * 30,000 = 450,000 elements.\". \n",
    "\n",
    "3. Unfortunately for Lab 1, it really makes no difference what your yearly tables may look like at this point, because they were not included in your submission? \n",
    "\n",
    "4. I see above that the dataset you produced for each year has many more fields / columns / features that you could have included to meet the minimum size requirements?  The starting point should have likely been that entire dataset.  I am also slightly concerned about your statement that \"merging is a simple inner join activity\" for a number of reasons. The dataset you started with does not appear to be joined at all.  There is a year column in the dataset.  This gives me the impression that you actually unioned the data by year (which is what I would have expected). However, I really have no clue what you did, because you chose not to share that with me.\n",
    "\n",
    "Thoughts on inner joining this data:\n",
    "A number of public school campuses open and close each school year.  If you are joining by unit_code / agency_code, your analysis will only include school campuses open during the entire duration of the data.\n",
    "Any classification model you create in a \"joined\" dataset will likely have duplicated columns for each year.  This means that the feature importances for the model will be dominated by prior years.  For example, if you build a model to predict graduation rates, the model will use all prior year's graduation rates for the prediction.  It will also be very accurate.  However, I am not sure what benefit such a model would provide to the public school system?\n",
    "Typically, you would not include any graduation rate features in your graduation rate model training data at all. (we can talk about this more, if needed).      "
   ]
  },
  {
   "cell_type": "markdown",
   "metadata": {},
   "source": [
    "# MiniLab SVM and Logistic Regression\n",
    "#### 06/14/2020\n",
    "#### Yang Zhang, Reannan McDaniel, Jonathon Roach, Fred Poon"
   ]
  },
  {
   "cell_type": "markdown",
   "metadata": {},
   "source": [
    "## Data Preparation\n",
    "\n",
    "### Background\n",
    "\n",
    "For this analysis, our group start with the dataset from Lab1. The dataset contains North Carolina Public Schools Report Card and Statistical Profiles Data sets from the years 2014 to 2017. Currently there are 9371 records with 289 variables in this data. The preparation procedure to get to this dataset from original tables are located here:\n",
    "\n",
    "Script to process the dataset 2014 to 2019 seperately \n",
    "https://github.com/fredpoon/ds_7331_jyrf_eda/blob/master/Data_Prep/PublicSchools2014to2019_MLnew.ipynb\n",
    "\n",
    "Script to merge 2014 to 2017 datasets together\n",
    "https://github.com/fredpoon/ds_7331_jyrf_eda/blob/master/Data_Prep/PublicSchools2014to2019_MLnew_merge.ipynb\n",
    "\n",
    "In the starting dataset, all the categoricial variables are stored as \"object\". In order to be able to utilize it in our machine learning model, we conduct a one-hot encoding procedure to convert all of them into continuous variables. The procedure is shown below.\n",
    "\n",
    "The construction of code chunk is referred to Dr. Drew's github repository, [https://github.com/jakemdrew/EducationDataNC](https://github.com/jakemdrew/EducationDataNC/tree/master/Data%20Documentation)\n",
    "\n",
    "### One-Hot Encoding"
   ]
  },
  {
   "cell_type": "code",
   "execution_count": 73,
   "metadata": {},
   "outputs": [],
   "source": [
    "import pandas as pd\n",
    "import numpy as np\n",
    "import matplotlib.pyplot as plt\n",
    "import seaborn as sns\n",
    "import warnings\n",
    "warnings.filterwarnings(\"ignore\")\n",
    "\n",
    "# For multiple line outputs\n",
    "from IPython.core.interactiveshell import InteractiveShell\n",
    "InteractiveShell.ast_node_interactivity = \"all\"\n",
    "\n",
    "schoolData = pd.read_csv('https://raw.githubusercontent.com/fredpoon/ds_7331_jyrf_eda/master/PublicSchools2014to2017_YZ.csv') # read in the csv file"
   ]
  },
  {
   "cell_type": "code",
   "execution_count": 74,
   "metadata": {},
   "outputs": [
    {
     "name": "stdout",
     "output_type": "stream",
     "text": [
      "*********After: Removing columns with >= uniqueThreshold unique values***********\n",
      "<class 'pandas.core.frame.DataFrame'>\n",
      "RangeIndex: 9731 entries, 0 to 9730\n",
      "Columns: 250 entries, szip_ad to Year\n",
      "dtypes: float64(237), int64(2), object(11)\n",
      "memory usage: 18.6+ MB\n",
      "\r\n",
      "Columns Deleted:  9\n"
     ]
    }
   ],
   "source": [
    "#Locate the categorical variables in dataset\n",
    "sD_nominal = schoolData.loc[:, (schoolData.dtypes == object)]\n",
    "uniqueThreshold = 25\n",
    "\n",
    "#Delete categorical columns with > 25 unique values (Each unique value becomes a column during one-hot encoding)\n",
    "oneHotUniqueValueCounts = schoolData[sD_nominal.columns].apply(lambda x: x.nunique())\n",
    "oneHotUniqueValueCols = oneHotUniqueValueCounts[oneHotUniqueValueCounts >= uniqueThreshold].index\n",
    "schoolData.drop(oneHotUniqueValueCols, axis=1, inplace=True) \n",
    "\n",
    "#Review dataset contents one hot high unique value drops\n",
    "print('*********After: Removing columns with >= uniqueThreshold unique values***********')\n",
    "schoolData.info(verbose=False)\n",
    "print ('\\r\\nColumns Deleted: ', len(oneHotUniqueValueCols))"
   ]
  },
  {
   "cell_type": "markdown",
   "metadata": {},
   "source": [
    "\"SPG Grade\" is our response variable and \"SPG Score\" is the continous expression of it. We have to remove them from the original dataset."
   ]
  },
  {
   "cell_type": "code",
   "execution_count": 75,
   "metadata": {},
   "outputs": [],
   "source": [
    "#Keep an original copy of the Data\n",
    "schoolData_org = schoolData\n",
    "\n",
    "#Pop out the SPG information from the Data\n",
    "schoolData_SPG = schoolData.pop('SPG Grade')\n",
    "schoolData_SPGScore = schoolData.pop('SPG Score')"
   ]
  },
  {
   "cell_type": "code",
   "execution_count": 76,
   "metadata": {},
   "outputs": [
    {
     "name": "stdout",
     "output_type": "stream",
     "text": [
      "<class 'pandas.core.frame.DataFrame'>\n",
      "RangeIndex: 9731 entries, 0 to 9730\n",
      "Data columns (total 248 columns):\n",
      "szip_ad                                float64\n",
      "category_cd                            object\n",
      "calendar_type_txt                      object\n",
      "sna_pgm_type_cd                        object\n",
      "school_type_txt                        object\n",
      "calendar_only_txt                      object\n",
      "title1_type_cd                         object\n",
      "esea_status                            object\n",
      "student_num                            float64\n",
      "lea_avg_student_num                    float64\n",
      "st_avg_student_num                     float64\n",
      "Grad_project_status                    object\n",
      "Math I_Size                            float64\n",
      "lea_total_expense_num                  float64\n",
      "lea_salary_expense_pct                 float64\n",
      "lea_services_expense_pct               float64\n",
      "lea_supplies_expense_pct               float64\n",
      "lea_instruct_equip_exp_pct             float64\n",
      "lea_federal_perpupil_num               float64\n",
      "lea_local_perpupil_num                 float64\n",
      "lea_state_perpupil_num                 float64\n",
      "EVAAS Growth Status                    object\n",
      "EVAAS Growth Score                     float64\n",
      "Science Score                          float64\n",
      "EOG/EOCSubjects_CACR_All               float64\n",
      "EOGGr3_CACR_All                        float64\n",
      "EOGGr4_CACR_All                        float64\n",
      "EOGGr5_CACR_All                        float64\n",
      "EOCMathI_CACR_AmericanIndian           float64\n",
      "EOCSubjects_CACR_AmericanIndian        float64\n",
      "EOG/EOCSubjects_CACR_AmericanIndian    float64\n",
      "EOGGr3_CACR_AmericanIndian             float64\n",
      "EOGGr4_CACR_AmericanIndian             float64\n",
      "EOGGr5_CACR_AmericanIndian             float64\n",
      "EOGMathGr3_CACR_AmericanIndian         float64\n",
      "EOGMathGr3-8_CACR_AmericanIndian       float64\n",
      "EOGMathGr4_CACR_AmericanIndian         float64\n",
      "EOGMathGr5_CACR_AmericanIndian         float64\n",
      "EOGReadingGr3-8_CACR_AmericanIndian    float64\n",
      "EOGScienceGr5_CACR_AmericanIndian      float64\n",
      "EOGScienceGr5&8_CACR_AmericanIndian    float64\n",
      "EOGSubjects_CACR_AmericanIndian        float64\n",
      "EOCMathI_CACR_Asian                    float64\n",
      "EOCSubjects_CACR_Asian                 float64\n",
      "EOG/EOCSubjects_CACR_Asian             float64\n",
      "EOGGr3_CACR_Asian                      float64\n",
      "EOGGr4_CACR_Asian                      float64\n",
      "EOGGr5_CACR_Asian                      float64\n",
      "EOGMathGr3_CACR_Asian                  float64\n",
      "EOGMathGr3-8_CACR_Asian                float64\n",
      "EOGMathGr4_CACR_Asian                  float64\n",
      "EOGMathGr5_CACR_Asian                  float64\n",
      "EOGScienceGr5&8_CACR_Asian             float64\n",
      "EOGSubjects_CACR_Asian                 float64\n",
      "EOCMathI_CACR_Black                    float64\n",
      "EOG/EOCSubjects_CACR_Black             float64\n",
      "EOGGr3_CACR_Black                      float64\n",
      "EOGGr4_CACR_Black                      float64\n",
      "EOGGr5_CACR_Black                      float64\n",
      "EOGMathGr3_CACR_Black                  float64\n",
      "EOGMathGr3-8_CACR_Black                float64\n",
      "EOGMathGr4_CACR_Black                  float64\n",
      "EOGMathGr5_CACR_Black                  float64\n",
      "EOGReadingGr3_CACR_Black               float64\n",
      "EOGReadingGr3-8_CACR_Black             float64\n",
      "EOGReadingGr4_CACR_Black               float64\n",
      "EOGReadingGr5_CACR_Black               float64\n",
      "EOGScienceGr5_CACR_Black               float64\n",
      "EOGScienceGr5&8_CACR_Black             float64\n",
      "EOGSubjects_CACR_Black                 float64\n",
      "EOCMathI_CACR_Hispanic                 float64\n",
      "EOG/EOCSubjects_CACR_Hispanic          float64\n",
      "EOGGr3_CACR_Hispanic                   float64\n",
      "EOGGr4_CACR_Hispanic                   float64\n",
      "EOGGr5_CACR_Hispanic                   float64\n",
      "EOGMathGr3_CACR_Hispanic               float64\n",
      "EOGMathGr3-8_CACR_Hispanic             float64\n",
      "EOGMathGr4_CACR_Hispanic               float64\n",
      "EOGMathGr5_CACR_Hispanic               float64\n",
      "EOGReadingGr3_CACR_Hispanic            float64\n",
      "EOGReadingGr3-8_CACR_Hispanic          float64\n",
      "EOGReadingGr4_CACR_Hispanic            float64\n",
      "EOGReadingGr5_CACR_Hispanic            float64\n",
      "EOGScienceGr5&8_CACR_Hispanic          float64\n",
      "EOGSubjects_CACR_Hispanic              float64\n",
      "EOCMathI_CACR_TwoorMoreRaces           float64\n",
      "EOCSubjects_CACR_TwoorMoreRaces        float64\n",
      "EOG/EOCSubjects_CACR_TwoorMoreRaces    float64\n",
      "EOGGr3_CACR_TwoorMoreRaces             float64\n",
      "EOGGr4_CACR_TwoorMoreRaces             float64\n",
      "EOGGr5_CACR_TwoorMoreRaces             float64\n",
      "EOGMathGr3_CACR_TwoorMoreRaces         float64\n",
      "EOGMathGr3-8_CACR_TwoorMoreRaces       float64\n",
      "EOGMathGr4_CACR_TwoorMoreRaces         float64\n",
      "EOGMathGr5_CACR_TwoorMoreRaces         float64\n",
      "EOGReadingGr3-8_CACR_TwoorMoreRaces    float64\n",
      "EOGScienceGr5&8_CACR_TwoorMoreRaces    float64\n",
      "EOGSubjects_CACR_TwoorMoreRaces        float64\n",
      "EOG/EOCSubjects_CACR_White             float64\n",
      "EOGGr4_CACR_White                      float64\n",
      "EOGMathGr3-8_CACR_White                float64\n",
      "EOGScienceGr5&8_CACR_White             float64\n",
      "EOCMathI_CACR_EDS                      float64\n",
      "EOG/EOCSubjects_CACR_EDS               float64\n",
      "EOGMathGr3-8_CACR_EDS                  float64\n",
      "EOGReadingGr3-8_CACR_EDS               float64\n",
      "EOGReadingGr5_CACR_EDS                 float64\n",
      "EOGScienceGr5&8_CACR_EDS               float64\n",
      "EOCMathI_CACR_LEP                      float64\n",
      "EOCMathI_GLP_LEP                       float64\n",
      "EOCSubjects_CACR_LEP                   float64\n",
      "EOCSubjects_GLP_LEP                    float64\n",
      "EOG/EOCSubjects_CACR_LEP               float64\n",
      "EOGGr3_CACR_LEP                        float64\n",
      "EOGGr4_CACR_LEP                        float64\n",
      "EOGGr5_CACR_LEP                        float64\n",
      "EOGMathGr3_CACR_LEP                    float64\n",
      "EOGMathGr3-8_CACR_LEP                  float64\n",
      "EOGMathGr4_CACR_LEP                    float64\n",
      "EOGMathGr5_CACR_LEP                    float64\n",
      "EOGReadingGr3_CACR_LEP                 float64\n",
      "EOGReadingGr3-8_CACR_LEP               float64\n",
      "EOGReadingGr3-8_GLP_LEP                float64\n",
      "EOGReadingGr4_CACR_LEP                 float64\n",
      "EOGReadingGr4_GLP_LEP                  float64\n",
      "EOGReadingGr5_CACR_LEP                 float64\n",
      "EOGReadingGr5_GLP_LEP                  float64\n",
      "EOGScienceGr5_CACR_LEP                 float64\n",
      "EOGScienceGr5&8_CACR_LEP               float64\n",
      "EOCMathI_CACR_SWD                      float64\n",
      "EOCMathI_GLP_SWD                       float64\n",
      "EOCSubjects_CACR_SWD                   float64\n",
      "EOG/EOCSubjects_CACR_SWD               float64\n",
      "EOGGr3_CACR_SWD                        float64\n",
      "EOGGr4_CACR_SWD                        float64\n",
      "EOGGr5_CACR_SWD                        float64\n",
      "EOGMathGr3_CACR_SWD                    float64\n",
      "EOGMathGr3_GLP_SWD                     float64\n",
      "EOGMathGr3-8_CACR_SWD                  float64\n",
      "EOGMathGr4_CACR_SWD                    float64\n",
      "EOGMathGr5_CACR_SWD                    float64\n",
      "EOGReadingGr3_CACR_SWD                 float64\n",
      "EOGReadingGr3-8_CACR_SWD               float64\n",
      "EOGReadingGr3-8_GLP_SWD                float64\n",
      "EOGReadingGr4_CACR_SWD                 float64\n",
      "EOGReadingGr4_GLP_SWD                  float64\n",
      "EOGReadingGr5_CACR_SWD                 float64\n",
      "EOGReadingGr5_GLP_SWD                  float64\n",
      "EOGScienceGr5_CACR_SWD                 float64\n",
      "EOGScienceGr5&8_CACR_SWD               float64\n",
      "EOGSubjects_CACR_SWD                   float64\n",
      "EOCMathI_CACR_AIG                      float64\n",
      "EOG/EOCSubjects_CACR_AIG               float64\n",
      "EOGGr3_CACR_AIG                        float64\n",
      "EOGGr4_CACR_AIG                        float64\n",
      "EOGGr5_CACR_AIG                        float64\n",
      "EOGMathGr3_CACR_AIG                    float64\n",
      "EOGMathGr3-8_CACR_AIG                  float64\n",
      "EOGMathGr4_CACR_AIG                    float64\n",
      "EOGMathGr5_CACR_AIG                    float64\n",
      "EOGScienceGr5&8_CACR_AIG               float64\n",
      "EOGSubjects_CACR_AIG                   float64\n",
      "pct_GCE_ALL                            float64\n",
      "MathGr3-8_pTarget_PctMet               float64\n",
      "SciGr5&8_pTarget_PctMet                float64\n",
      "TotalTargets_pTarget_PctMet            float64\n",
      "Category_Cd                            object\n",
      "lea_sat_avg_score_num                  float64\n",
      "lea_sat_participation_pct              float64\n",
      "lea_ap_participation_pct               float64\n",
      "lea_ap_pct_3_or_above                  float64\n",
      "lea_ib_pct_4_or_above                  float64\n",
      "avg_daily_attend_pct                   float64\n",
      "crime_per_c_num                        float64\n",
      "short_susp_per_c_num                   float64\n",
      "long_susp_per_c_num                    float64\n",
      "expelled_per_c_num                     float64\n",
      "stud_internet_comp_num                 float64\n",
      "lea_avg_daily_attend_pct               float64\n",
      "lea_crime_per_c_num                    float64\n",
      "lea_short_susp_per_c_num               float64\n",
      "lea_long_susp_per_c_num                float64\n",
      "lea_expelled_per_c_num                 float64\n",
      "lea_stud_internet_comp_num             float64\n",
      "st_crime_per_c_num                     float64\n",
      "flicensed_teach_pct                    float64\n",
      "tchyrs_0thru3_pct                      float64\n",
      "tchyrs_4thru10_pct                     float64\n",
      "tchyrs_11plus_pct                      float64\n",
      "nbpts_num                              float64\n",
      "advance_dgr_pct                        float64\n",
      "_1yr_tchr_trnovr_pct                   float64\n",
      "lateral_teach_pct                      float64\n",
      "lea_flicensed_teach_pct                float64\n",
      "lea_tchyrs_0thru3_pct                  float64\n",
      "lea_tchyrs_4thru10_pct                 float64\n",
      "lea_tchyrs_11plus_pct                  float64\n",
      "lea_nbpts_num                          float64\n",
      "lea_advance_dgr_pct                    float64\n",
      "lea_1yr_tchr_trnovr_pct                float64\n",
      "lea_emer_prov_teach_pct                float64\n",
      "st_flicensed_teach_pct                 float64\n",
      "st_tchyrs_0thru3_pct                   float64\n",
      "st_1yr_tchr_trnovr_pct                 float64\n",
      "st_emer_prov_teach_pct                 float64\n",
      "0-3 Years_LEA_Exp_Pct_Prin             float64\n",
      "10+ Years_LEA_Exp_Pct_Prin             float64\n",
      "4-10 Years_LEA_Exp_Pct_Prin            float64\n",
      "Accomplished_TCHR_Standard 1_Pct       float64\n",
      "Accomplished_TCHR_Standard 2_Pct       float64\n",
      "Accomplished_TCHR_Standard 3_Pct       float64\n",
      "Accomplished_TCHR_Standard 4_Pct       float64\n",
      "Accomplished_TCHR_Standard 5_Pct       float64\n",
      "Developing_TCHR_Standard 1_Pct         float64\n",
      "Developing_TCHR_Standard 2_Pct         float64\n",
      "Developing_TCHR_Standard 3_Pct         float64\n",
      "Developing_TCHR_Standard 4_Pct         float64\n",
      "Developing_TCHR_Standard 5_Pct         float64\n",
      "Distinguished_TCHR_Standard 1_Pct      float64\n",
      "Distinguished_TCHR_Standard 2_Pct      float64\n",
      "Distinguished_TCHR_Standard 3_Pct      float64\n",
      "Distinguished_TCHR_Standard 4_Pct      float64\n",
      "Distinguished_TCHR_Standard 5_Pct      float64\n",
      "Not Demostrated_TCHR_Standard 1_Pct    float64\n",
      "Not Demostrated_TCHR_Standard 2_Pct    float64\n",
      "Not Demostrated_TCHR_Standard 4_Pct    float64\n",
      "Proficient_TCHR_Standard 1_Pct         float64\n",
      "Proficient_TCHR_Standard 2_Pct         float64\n",
      "Proficient_TCHR_Standard 3_Pct         float64\n",
      "Proficient_TCHR_Standard 4_Pct         float64\n",
      "Proficient_TCHR_Standard 5_Pct         float64\n",
      "AsianFemalePct                         float64\n",
      "AsianMalePct                           float64\n",
      "BlackFemalePct                         float64\n",
      "BlackMalePct                           float64\n",
      "HispanicFemalePct                      float64\n",
      "HispanicMalePct                        float64\n",
      "IndianFemalePct                        float64\n",
      "MinorityFemalePct                      float64\n",
      "MinorityMalePct                        float64\n",
      "PacificIslandFemalePct                 float64\n",
      "PacificIslandMalePct                   float64\n",
      "PacificIslandPct                       float64\n",
      "TwoOrMoreFemalePct                     float64\n",
      "TwoOrMoreMalePct                       float64\n",
      "TwoOrMorePct                           float64\n",
      "unit_code                              int64\n",
      "Year                                   int64\n",
      "dtypes: float64(236), int64(2), object(10)\n",
      "memory usage: 18.4+ MB\n"
     ]
    }
   ],
   "source": [
    "schoolData.info(verbose=True)"
   ]
  },
  {
   "cell_type": "markdown",
   "metadata": {},
   "source": [
    "We also need to get rid of all the columns that directly used to calculate SPG Grade and Score. \n",
    "(Expand it)\n",
    "For example: EOG_XXX, EOC_XXX.\n",
    "\n",
    "After removing them, we display the information of the variables to make sure we don't have them in the dataset anymore."
   ]
  },
  {
   "cell_type": "code",
   "execution_count": 77,
   "metadata": {},
   "outputs": [
    {
     "name": "stdout",
     "output_type": "stream",
     "text": [
      "<class 'pandas.core.frame.DataFrame'>\n",
      "RangeIndex: 9731 entries, 0 to 9730\n",
      "Data columns (total 108 columns):\n",
      "szip_ad                                float64\n",
      "category_cd                            object\n",
      "calendar_type_txt                      object\n",
      "sna_pgm_type_cd                        object\n",
      "school_type_txt                        object\n",
      "calendar_only_txt                      object\n",
      "title1_type_cd                         object\n",
      "esea_status                            object\n",
      "student_num                            float64\n",
      "lea_avg_student_num                    float64\n",
      "st_avg_student_num                     float64\n",
      "Grad_project_status                    object\n",
      "Math I_Size                            float64\n",
      "lea_total_expense_num                  float64\n",
      "lea_salary_expense_pct                 float64\n",
      "lea_services_expense_pct               float64\n",
      "lea_supplies_expense_pct               float64\n",
      "lea_instruct_equip_exp_pct             float64\n",
      "lea_federal_perpupil_num               float64\n",
      "lea_local_perpupil_num                 float64\n",
      "lea_state_perpupil_num                 float64\n",
      "EVAAS Growth Status                    object\n",
      "pct_GCE_ALL                            float64\n",
      "MathGr3-8_pTarget_PctMet               float64\n",
      "SciGr5&8_pTarget_PctMet                float64\n",
      "TotalTargets_pTarget_PctMet            float64\n",
      "Category_Cd                            object\n",
      "lea_sat_avg_score_num                  float64\n",
      "lea_sat_participation_pct              float64\n",
      "lea_ap_participation_pct               float64\n",
      "lea_ap_pct_3_or_above                  float64\n",
      "lea_ib_pct_4_or_above                  float64\n",
      "avg_daily_attend_pct                   float64\n",
      "crime_per_c_num                        float64\n",
      "short_susp_per_c_num                   float64\n",
      "long_susp_per_c_num                    float64\n",
      "expelled_per_c_num                     float64\n",
      "stud_internet_comp_num                 float64\n",
      "lea_avg_daily_attend_pct               float64\n",
      "lea_crime_per_c_num                    float64\n",
      "lea_short_susp_per_c_num               float64\n",
      "lea_long_susp_per_c_num                float64\n",
      "lea_expelled_per_c_num                 float64\n",
      "lea_stud_internet_comp_num             float64\n",
      "st_crime_per_c_num                     float64\n",
      "flicensed_teach_pct                    float64\n",
      "tchyrs_0thru3_pct                      float64\n",
      "tchyrs_4thru10_pct                     float64\n",
      "tchyrs_11plus_pct                      float64\n",
      "nbpts_num                              float64\n",
      "advance_dgr_pct                        float64\n",
      "_1yr_tchr_trnovr_pct                   float64\n",
      "lateral_teach_pct                      float64\n",
      "lea_flicensed_teach_pct                float64\n",
      "lea_tchyrs_0thru3_pct                  float64\n",
      "lea_tchyrs_4thru10_pct                 float64\n",
      "lea_tchyrs_11plus_pct                  float64\n",
      "lea_nbpts_num                          float64\n",
      "lea_advance_dgr_pct                    float64\n",
      "lea_1yr_tchr_trnovr_pct                float64\n",
      "lea_emer_prov_teach_pct                float64\n",
      "st_flicensed_teach_pct                 float64\n",
      "st_tchyrs_0thru3_pct                   float64\n",
      "st_1yr_tchr_trnovr_pct                 float64\n",
      "st_emer_prov_teach_pct                 float64\n",
      "0-3 Years_LEA_Exp_Pct_Prin             float64\n",
      "10+ Years_LEA_Exp_Pct_Prin             float64\n",
      "4-10 Years_LEA_Exp_Pct_Prin            float64\n",
      "Accomplished_TCHR_Standard 1_Pct       float64\n",
      "Accomplished_TCHR_Standard 2_Pct       float64\n",
      "Accomplished_TCHR_Standard 3_Pct       float64\n",
      "Accomplished_TCHR_Standard 4_Pct       float64\n",
      "Accomplished_TCHR_Standard 5_Pct       float64\n",
      "Developing_TCHR_Standard 1_Pct         float64\n",
      "Developing_TCHR_Standard 2_Pct         float64\n",
      "Developing_TCHR_Standard 3_Pct         float64\n",
      "Developing_TCHR_Standard 4_Pct         float64\n",
      "Developing_TCHR_Standard 5_Pct         float64\n",
      "Distinguished_TCHR_Standard 1_Pct      float64\n",
      "Distinguished_TCHR_Standard 2_Pct      float64\n",
      "Distinguished_TCHR_Standard 3_Pct      float64\n",
      "Distinguished_TCHR_Standard 4_Pct      float64\n",
      "Distinguished_TCHR_Standard 5_Pct      float64\n",
      "Not Demostrated_TCHR_Standard 1_Pct    float64\n",
      "Not Demostrated_TCHR_Standard 2_Pct    float64\n",
      "Not Demostrated_TCHR_Standard 4_Pct    float64\n",
      "Proficient_TCHR_Standard 1_Pct         float64\n",
      "Proficient_TCHR_Standard 2_Pct         float64\n",
      "Proficient_TCHR_Standard 3_Pct         float64\n",
      "Proficient_TCHR_Standard 4_Pct         float64\n",
      "Proficient_TCHR_Standard 5_Pct         float64\n",
      "AsianFemalePct                         float64\n",
      "AsianMalePct                           float64\n",
      "BlackFemalePct                         float64\n",
      "BlackMalePct                           float64\n",
      "HispanicFemalePct                      float64\n",
      "HispanicMalePct                        float64\n",
      "IndianFemalePct                        float64\n",
      "MinorityFemalePct                      float64\n",
      "MinorityMalePct                        float64\n",
      "PacificIslandFemalePct                 float64\n",
      "PacificIslandMalePct                   float64\n",
      "PacificIslandPct                       float64\n",
      "TwoOrMoreFemalePct                     float64\n",
      "TwoOrMoreMalePct                       float64\n",
      "TwoOrMorePct                           float64\n",
      "unit_code                              int64\n",
      "Year                                   int64\n",
      "dtypes: float64(96), int64(2), object(10)\n",
      "memory usage: 8.0+ MB\n"
     ]
    }
   ],
   "source": [
    "# Remove All the Columns that directly used to calculate SPG Grade and Score\n",
    "schoolData.drop(schoolData.iloc[:, 22:162], inplace=True, axis=1)\n",
    "schoolData.info(verbose=True)"
   ]
  },
  {
   "cell_type": "markdown",
   "metadata": {},
   "source": [
    "The below procedure do the one-hot encoding for the left categorical variable. As shown below we have a total of 20 categorical variables to encode and we end up with 40 variables after the encoding process."
   ]
  },
  {
   "cell_type": "code",
   "execution_count": 78,
   "metadata": {},
   "outputs": [],
   "source": [
    "#Isolate remaining categorical variables\n",
    "begColumnCt = len(schoolData.columns)\n",
    "\n",
    "#one hot encode categorical variables\n",
    "schoolData = pd.get_dummies(data=schoolData,drop_first=True)"
   ]
  },
  {
   "cell_type": "code",
   "execution_count": 79,
   "metadata": {},
   "outputs": [
    {
     "name": "stdout",
     "output_type": "stream",
     "text": [
      "Columns To One-Hot Encode:  20\n",
      "\r\n",
      "*********After: Adding New Columns Via One-Hot Encoding*************************\n",
      "<class 'pandas.core.frame.DataFrame'>\n",
      "RangeIndex: 9731 entries, 0 to 9730\n",
      "Columns: 148 entries, szip_ad to Category_Cd_T\n",
      "dtypes: float64(96), int64(2), uint8(50)\n",
      "memory usage: 7.7 MB\n",
      "\r\n",
      "New Columns Created Via One-Hot Encoding:  40\n"
     ]
    }
   ],
   "source": [
    "#Determine change in column count\n",
    "endColumnCt = len(schoolData.columns)\n",
    "columnsAdded = endColumnCt - begColumnCt\n",
    "\n",
    "\n",
    "#Review dataset contents one hot high unique value drops\n",
    "print('Columns To One-Hot Encode: ', len(sD_nominal.columns))\n",
    "print('\\r\\n*********After: Adding New Columns Via One-Hot Encoding*************************')\n",
    "schoolData.info(verbose=False)\n",
    "print ('\\r\\nNew Columns Created Via One-Hot Encoding: ', columnsAdded)"
   ]
  },
  {
   "cell_type": "markdown",
   "metadata": {},
   "source": [
    "A dimension check of the dataset after the one-hot encoding process shows that we have a total of 9371 records with 148 seperate variables. All of the variables are in numerical format now."
   ]
  },
  {
   "cell_type": "code",
   "execution_count": 80,
   "metadata": {},
   "outputs": [
    {
     "data": {
      "text/plain": [
       "(9731, 148)"
      ]
     },
     "execution_count": 80,
     "metadata": {},
     "output_type": "execute_result"
    },
    {
     "data": {
      "text/html": [
       "<div>\n",
       "<style scoped>\n",
       "    .dataframe tbody tr th:only-of-type {\n",
       "        vertical-align: middle;\n",
       "    }\n",
       "\n",
       "    .dataframe tbody tr th {\n",
       "        vertical-align: top;\n",
       "    }\n",
       "\n",
       "    .dataframe thead th {\n",
       "        text-align: right;\n",
       "    }\n",
       "</style>\n",
       "<table border=\"1\" class=\"dataframe\">\n",
       "  <thead>\n",
       "    <tr style=\"text-align: right;\">\n",
       "      <th></th>\n",
       "      <th>szip_ad</th>\n",
       "      <th>student_num</th>\n",
       "      <th>lea_avg_student_num</th>\n",
       "      <th>st_avg_student_num</th>\n",
       "      <th>Math I_Size</th>\n",
       "      <th>lea_total_expense_num</th>\n",
       "      <th>lea_salary_expense_pct</th>\n",
       "      <th>lea_services_expense_pct</th>\n",
       "      <th>lea_supplies_expense_pct</th>\n",
       "      <th>lea_instruct_equip_exp_pct</th>\n",
       "      <th>...</th>\n",
       "      <th>Grad_project_status_Y</th>\n",
       "      <th>EVAAS Growth Status_Exceeded</th>\n",
       "      <th>EVAAS Growth Status_Met</th>\n",
       "      <th>EVAAS Growth Status_NotMet</th>\n",
       "      <th>Category_Cd_A</th>\n",
       "      <th>Category_Cd_E</th>\n",
       "      <th>Category_Cd_H</th>\n",
       "      <th>Category_Cd_I</th>\n",
       "      <th>Category_Cd_M</th>\n",
       "      <th>Category_Cd_T</th>\n",
       "    </tr>\n",
       "  </thead>\n",
       "  <tbody>\n",
       "    <tr>\n",
       "      <th>0</th>\n",
       "      <td>27253.0</td>\n",
       "      <td>78.0</td>\n",
       "      <td>954.0</td>\n",
       "      <td>837.0</td>\n",
       "      <td>0.0</td>\n",
       "      <td>8028.59</td>\n",
       "      <td>0.613</td>\n",
       "      <td>0.078</td>\n",
       "      <td>0.086</td>\n",
       "      <td>0.011</td>\n",
       "      <td>...</td>\n",
       "      <td>0</td>\n",
       "      <td>0</td>\n",
       "      <td>0</td>\n",
       "      <td>0</td>\n",
       "      <td>0</td>\n",
       "      <td>0</td>\n",
       "      <td>1</td>\n",
       "      <td>0</td>\n",
       "      <td>0</td>\n",
       "      <td>0</td>\n",
       "    </tr>\n",
       "    <tr>\n",
       "      <th>1</th>\n",
       "      <td>27253.0</td>\n",
       "      <td>539.0</td>\n",
       "      <td>518.0</td>\n",
       "      <td>496.0</td>\n",
       "      <td>0.0</td>\n",
       "      <td>8028.59</td>\n",
       "      <td>0.613</td>\n",
       "      <td>0.078</td>\n",
       "      <td>0.086</td>\n",
       "      <td>0.011</td>\n",
       "      <td>...</td>\n",
       "      <td>0</td>\n",
       "      <td>1</td>\n",
       "      <td>0</td>\n",
       "      <td>0</td>\n",
       "      <td>0</td>\n",
       "      <td>1</td>\n",
       "      <td>0</td>\n",
       "      <td>0</td>\n",
       "      <td>0</td>\n",
       "      <td>0</td>\n",
       "    </tr>\n",
       "    <tr>\n",
       "      <th>2</th>\n",
       "      <td>27244.0</td>\n",
       "      <td>547.0</td>\n",
       "      <td>518.0</td>\n",
       "      <td>496.0</td>\n",
       "      <td>0.0</td>\n",
       "      <td>8028.59</td>\n",
       "      <td>0.613</td>\n",
       "      <td>0.078</td>\n",
       "      <td>0.086</td>\n",
       "      <td>0.011</td>\n",
       "      <td>...</td>\n",
       "      <td>0</td>\n",
       "      <td>0</td>\n",
       "      <td>1</td>\n",
       "      <td>0</td>\n",
       "      <td>0</td>\n",
       "      <td>1</td>\n",
       "      <td>0</td>\n",
       "      <td>0</td>\n",
       "      <td>0</td>\n",
       "      <td>0</td>\n",
       "    </tr>\n",
       "    <tr>\n",
       "      <th>3</th>\n",
       "      <td>27217.0</td>\n",
       "      <td>800.0</td>\n",
       "      <td>768.0</td>\n",
       "      <td>665.0</td>\n",
       "      <td>26.0</td>\n",
       "      <td>8028.59</td>\n",
       "      <td>0.613</td>\n",
       "      <td>0.078</td>\n",
       "      <td>0.086</td>\n",
       "      <td>0.011</td>\n",
       "      <td>...</td>\n",
       "      <td>0</td>\n",
       "      <td>0</td>\n",
       "      <td>0</td>\n",
       "      <td>1</td>\n",
       "      <td>0</td>\n",
       "      <td>0</td>\n",
       "      <td>0</td>\n",
       "      <td>0</td>\n",
       "      <td>1</td>\n",
       "      <td>0</td>\n",
       "    </tr>\n",
       "    <tr>\n",
       "      <th>4</th>\n",
       "      <td>27215.0</td>\n",
       "      <td>664.0</td>\n",
       "      <td>518.0</td>\n",
       "      <td>496.0</td>\n",
       "      <td>0.0</td>\n",
       "      <td>8028.59</td>\n",
       "      <td>0.613</td>\n",
       "      <td>0.078</td>\n",
       "      <td>0.086</td>\n",
       "      <td>0.011</td>\n",
       "      <td>...</td>\n",
       "      <td>0</td>\n",
       "      <td>1</td>\n",
       "      <td>0</td>\n",
       "      <td>0</td>\n",
       "      <td>0</td>\n",
       "      <td>1</td>\n",
       "      <td>0</td>\n",
       "      <td>0</td>\n",
       "      <td>0</td>\n",
       "      <td>0</td>\n",
       "    </tr>\n",
       "  </tbody>\n",
       "</table>\n",
       "<p>5 rows × 148 columns</p>\n",
       "</div>"
      ],
      "text/plain": [
       "   szip_ad  student_num  lea_avg_student_num  st_avg_student_num  Math I_Size  \\\n",
       "0  27253.0         78.0                954.0               837.0          0.0   \n",
       "1  27253.0        539.0                518.0               496.0          0.0   \n",
       "2  27244.0        547.0                518.0               496.0          0.0   \n",
       "3  27217.0        800.0                768.0               665.0         26.0   \n",
       "4  27215.0        664.0                518.0               496.0          0.0   \n",
       "\n",
       "   lea_total_expense_num  lea_salary_expense_pct  lea_services_expense_pct  \\\n",
       "0                8028.59                   0.613                     0.078   \n",
       "1                8028.59                   0.613                     0.078   \n",
       "2                8028.59                   0.613                     0.078   \n",
       "3                8028.59                   0.613                     0.078   \n",
       "4                8028.59                   0.613                     0.078   \n",
       "\n",
       "   lea_supplies_expense_pct  lea_instruct_equip_exp_pct  ...  \\\n",
       "0                     0.086                       0.011  ...   \n",
       "1                     0.086                       0.011  ...   \n",
       "2                     0.086                       0.011  ...   \n",
       "3                     0.086                       0.011  ...   \n",
       "4                     0.086                       0.011  ...   \n",
       "\n",
       "   Grad_project_status_Y  EVAAS Growth Status_Exceeded  \\\n",
       "0                      0                             0   \n",
       "1                      0                             1   \n",
       "2                      0                             0   \n",
       "3                      0                             0   \n",
       "4                      0                             1   \n",
       "\n",
       "   EVAAS Growth Status_Met  EVAAS Growth Status_NotMet  Category_Cd_A  \\\n",
       "0                        0                           0              0   \n",
       "1                        0                           0              0   \n",
       "2                        1                           0              0   \n",
       "3                        0                           1              0   \n",
       "4                        0                           0              0   \n",
       "\n",
       "   Category_Cd_E  Category_Cd_H  Category_Cd_I  Category_Cd_M  Category_Cd_T  \n",
       "0              0              1              0              0              0  \n",
       "1              1              0              0              0              0  \n",
       "2              1              0              0              0              0  \n",
       "3              0              0              0              1              0  \n",
       "4              1              0              0              0              0  \n",
       "\n",
       "[5 rows x 148 columns]"
      ]
     },
     "execution_count": 80,
     "metadata": {},
     "output_type": "execute_result"
    }
   ],
   "source": [
    "# Dimension of Dataset\n",
    "schoolData.shape\n",
    "\n",
    "schoolData.head()"
   ]
  },
  {
   "cell_type": "markdown",
   "metadata": {},
   "source": [
    "### Feature Selection"
   ]
  },
  {
   "cell_type": "markdown",
   "metadata": {},
   "source": [
    "We original have 148 features in the data table. We don't want to include this many features for model feasibility. However, as we have a data size requirement, and we also want the constructing model to be high quality. We decide to conduct a feature selection process to choose the most important features to use.\n",
    "\n",
    "There are many ways to conduct feature selection. In this project we use random forest and plot out feature importances of all features. The work below is not for feasible model construction (we didn't split train/test) but just for picking out the most important variables to use.  "
   ]
  },
  {
   "cell_type": "code",
   "execution_count": 81,
   "metadata": {},
   "outputs": [
    {
     "data": {
      "text/plain": [
       "RandomForestClassifier()"
      ]
     },
     "execution_count": 81,
     "metadata": {},
     "output_type": "execute_result"
    }
   ],
   "source": [
    "# Random Forest apply to X with all variables\n",
    "from sklearn.ensemble import RandomForestClassifier\n",
    "clfa=RandomForestClassifier(n_estimators=100)\n",
    "clfa.fit(schoolData,schoolData_SPG)\n",
    "y_pred=clfa.predict(schoolData)"
   ]
  },
  {
   "cell_type": "markdown",
   "metadata": {},
   "source": [
    "Accuracy = 1.0 does not surprise us because we didn't to train/test splitting. "
   ]
  },
  {
   "cell_type": "code",
   "execution_count": 82,
   "metadata": {},
   "outputs": [
    {
     "name": "stdout",
     "output_type": "stream",
     "text": [
      "Accuracy: 1.0\n"
     ]
    }
   ],
   "source": [
    "from sklearn import metrics\n",
    "print(\"Accuracy:\",metrics.accuracy_score(schoolData_SPG, y_pred))"
   ]
  },
  {
   "cell_type": "markdown",
   "metadata": {},
   "source": [
    "Below plot reflect what features are important and their according weights."
   ]
  },
  {
   "cell_type": "code",
   "execution_count": 83,
   "metadata": {},
   "outputs": [
    {
     "data": {
      "text/html": [
       "\n",
       "    <style>\n",
       "    table.eli5-weights tr:hover {\n",
       "        filter: brightness(85%);\n",
       "    }\n",
       "</style>\n",
       "\n",
       "\n",
       "\n",
       "    \n",
       "\n",
       "    \n",
       "\n",
       "    \n",
       "\n",
       "    \n",
       "\n",
       "    \n",
       "\n",
       "    \n",
       "\n",
       "\n",
       "    \n",
       "\n",
       "    \n",
       "\n",
       "    \n",
       "\n",
       "    \n",
       "\n",
       "    \n",
       "\n",
       "    \n",
       "\n",
       "\n",
       "    \n",
       "\n",
       "    \n",
       "\n",
       "    \n",
       "\n",
       "    \n",
       "\n",
       "    \n",
       "        <table class=\"eli5-weights eli5-feature-importances\" style=\"border-collapse: collapse; border: none; margin-top: 0em; table-layout: auto;\">\n",
       "    <thead>\n",
       "    <tr style=\"border: none;\">\n",
       "        <th style=\"padding: 0 1em 0 0.5em; text-align: right; border: none;\">Weight</th>\n",
       "        <th style=\"padding: 0 0.5em 0 0.5em; text-align: left; border: none;\">Feature</th>\n",
       "    </tr>\n",
       "    </thead>\n",
       "    <tbody>\n",
       "    \n",
       "        <tr style=\"background-color: hsl(120, 100.00%, 80.00%); border: none;\">\n",
       "            <td style=\"padding: 0 1em 0 0.5em; text-align: right; border: none;\">\n",
       "                0.0326\n",
       "                \n",
       "                    &plusmn; 0.0021\n",
       "                \n",
       "            </td>\n",
       "            <td style=\"padding: 0 0.5em 0 0.5em; text-align: left; border: none;\">\n",
       "                TotalTargets_pTarget_PctMet\n",
       "            </td>\n",
       "        </tr>\n",
       "    \n",
       "        <tr style=\"background-color: hsl(120, 100.00%, 89.73%); border: none;\">\n",
       "            <td style=\"padding: 0 1em 0 0.5em; text-align: right; border: none;\">\n",
       "                0.0126\n",
       "                \n",
       "                    &plusmn; 0.0016\n",
       "                \n",
       "            </td>\n",
       "            <td style=\"padding: 0 0.5em 0 0.5em; text-align: left; border: none;\">\n",
       "                EVAAS Growth Status_NotMet\n",
       "            </td>\n",
       "        </tr>\n",
       "    \n",
       "        <tr style=\"background-color: hsl(120, 100.00%, 94.55%); border: none;\">\n",
       "            <td style=\"padding: 0 1em 0 0.5em; text-align: right; border: none;\">\n",
       "                0.0051\n",
       "                \n",
       "                    &plusmn; 0.0015\n",
       "                \n",
       "            </td>\n",
       "            <td style=\"padding: 0 0.5em 0 0.5em; text-align: left; border: none;\">\n",
       "                MinorityMalePct\n",
       "            </td>\n",
       "        </tr>\n",
       "    \n",
       "        <tr style=\"background-color: hsl(120, 100.00%, 94.92%); border: none;\">\n",
       "            <td style=\"padding: 0 1em 0 0.5em; text-align: right; border: none;\">\n",
       "                0.0046\n",
       "                \n",
       "                    &plusmn; 0.0009\n",
       "                \n",
       "            </td>\n",
       "            <td style=\"padding: 0 0.5em 0 0.5em; text-align: left; border: none;\">\n",
       "                MinorityFemalePct\n",
       "            </td>\n",
       "        </tr>\n",
       "    \n",
       "        <tr style=\"background-color: hsl(120, 100.00%, 97.73%); border: none;\">\n",
       "            <td style=\"padding: 0 1em 0 0.5em; text-align: right; border: none;\">\n",
       "                0.0015\n",
       "                \n",
       "                    &plusmn; 0.0004\n",
       "                \n",
       "            </td>\n",
       "            <td style=\"padding: 0 0.5em 0 0.5em; text-align: left; border: none;\">\n",
       "                title1_type_cd_Y\n",
       "            </td>\n",
       "        </tr>\n",
       "    \n",
       "        <tr style=\"background-color: hsl(120, 100.00%, 97.77%); border: none;\">\n",
       "            <td style=\"padding: 0 1em 0 0.5em; text-align: right; border: none;\">\n",
       "                0.0014\n",
       "                \n",
       "                    &plusmn; 0.0004\n",
       "                \n",
       "            </td>\n",
       "            <td style=\"padding: 0 0.5em 0 0.5em; text-align: left; border: none;\">\n",
       "                EVAAS Growth Status_Exceeded\n",
       "            </td>\n",
       "        </tr>\n",
       "    \n",
       "        <tr style=\"background-color: hsl(120, 100.00%, 98.00%); border: none;\">\n",
       "            <td style=\"padding: 0 1em 0 0.5em; text-align: right; border: none;\">\n",
       "                0.0012\n",
       "                \n",
       "                    &plusmn; 0.0004\n",
       "                \n",
       "            </td>\n",
       "            <td style=\"padding: 0 0.5em 0 0.5em; text-align: left; border: none;\">\n",
       "                short_susp_per_c_num\n",
       "            </td>\n",
       "        </tr>\n",
       "    \n",
       "        <tr style=\"background-color: hsl(120, 100.00%, 98.25%); border: none;\">\n",
       "            <td style=\"padding: 0 1em 0 0.5em; text-align: right; border: none;\">\n",
       "                0.0010\n",
       "                \n",
       "                    &plusmn; 0.0002\n",
       "                \n",
       "            </td>\n",
       "            <td style=\"padding: 0 0.5em 0 0.5em; text-align: left; border: none;\">\n",
       "                AsianFemalePct\n",
       "            </td>\n",
       "        </tr>\n",
       "    \n",
       "        <tr style=\"background-color: hsl(120, 100.00%, 98.88%); border: none;\">\n",
       "            <td style=\"padding: 0 1em 0 0.5em; text-align: right; border: none;\">\n",
       "                0.0005\n",
       "                \n",
       "                    &plusmn; 0.0003\n",
       "                \n",
       "            </td>\n",
       "            <td style=\"padding: 0 0.5em 0 0.5em; text-align: left; border: none;\">\n",
       "                avg_daily_attend_pct\n",
       "            </td>\n",
       "        </tr>\n",
       "    \n",
       "        <tr style=\"background-color: hsl(120, 100.00%, 99.03%); border: none;\">\n",
       "            <td style=\"padding: 0 1em 0 0.5em; text-align: right; border: none;\">\n",
       "                0.0004\n",
       "                \n",
       "                    &plusmn; 0.0003\n",
       "                \n",
       "            </td>\n",
       "            <td style=\"padding: 0 0.5em 0 0.5em; text-align: left; border: none;\">\n",
       "                BlackMalePct\n",
       "            </td>\n",
       "        </tr>\n",
       "    \n",
       "        <tr style=\"background-color: hsl(120, 100.00%, 99.20%); border: none;\">\n",
       "            <td style=\"padding: 0 1em 0 0.5em; text-align: right; border: none;\">\n",
       "                0.0003\n",
       "                \n",
       "                    &plusmn; 0.0002\n",
       "                \n",
       "            </td>\n",
       "            <td style=\"padding: 0 0.5em 0 0.5em; text-align: left; border: none;\">\n",
       "                MathGr3-8_pTarget_PctMet\n",
       "            </td>\n",
       "        </tr>\n",
       "    \n",
       "        <tr style=\"background-color: hsl(120, 100.00%, 99.27%); border: none;\">\n",
       "            <td style=\"padding: 0 1em 0 0.5em; text-align: right; border: none;\">\n",
       "                0.0003\n",
       "                \n",
       "                    &plusmn; 0.0002\n",
       "                \n",
       "            </td>\n",
       "            <td style=\"padding: 0 0.5em 0 0.5em; text-align: left; border: none;\">\n",
       "                SciGr5&amp;8_pTarget_PctMet\n",
       "            </td>\n",
       "        </tr>\n",
       "    \n",
       "        <tr style=\"background-color: hsl(120, 100.00%, 99.51%); border: none;\">\n",
       "            <td style=\"padding: 0 1em 0 0.5em; text-align: right; border: none;\">\n",
       "                0.0002\n",
       "                \n",
       "                    &plusmn; 0.0002\n",
       "                \n",
       "            </td>\n",
       "            <td style=\"padding: 0 0.5em 0 0.5em; text-align: left; border: none;\">\n",
       "                HispanicMalePct\n",
       "            </td>\n",
       "        </tr>\n",
       "    \n",
       "        <tr style=\"background-color: hsl(120, 100.00%, 99.55%); border: none;\">\n",
       "            <td style=\"padding: 0 1em 0 0.5em; text-align: right; border: none;\">\n",
       "                0.0001\n",
       "                \n",
       "                    &plusmn; 0.0002\n",
       "                \n",
       "            </td>\n",
       "            <td style=\"padding: 0 0.5em 0 0.5em; text-align: left; border: none;\">\n",
       "                HispanicFemalePct\n",
       "            </td>\n",
       "        </tr>\n",
       "    \n",
       "        <tr style=\"background-color: hsl(120, 100.00%, 99.55%); border: none;\">\n",
       "            <td style=\"padding: 0 1em 0 0.5em; text-align: right; border: none;\">\n",
       "                0.0001\n",
       "                \n",
       "                    &plusmn; 0.0002\n",
       "                \n",
       "            </td>\n",
       "            <td style=\"padding: 0 0.5em 0 0.5em; text-align: left; border: none;\">\n",
       "                lea_ap_participation_pct\n",
       "            </td>\n",
       "        </tr>\n",
       "    \n",
       "        <tr style=\"background-color: hsl(120, 100.00%, 99.60%); border: none;\">\n",
       "            <td style=\"padding: 0 1em 0 0.5em; text-align: right; border: none;\">\n",
       "                0.0001\n",
       "                \n",
       "                    &plusmn; 0.0002\n",
       "                \n",
       "            </td>\n",
       "            <td style=\"padding: 0 0.5em 0 0.5em; text-align: left; border: none;\">\n",
       "                nbpts_num\n",
       "            </td>\n",
       "        </tr>\n",
       "    \n",
       "        <tr style=\"background-color: hsl(120, 100.00%, 99.65%); border: none;\">\n",
       "            <td style=\"padding: 0 1em 0 0.5em; text-align: right; border: none;\">\n",
       "                0.0001\n",
       "                \n",
       "                    &plusmn; 0.0000\n",
       "                \n",
       "            </td>\n",
       "            <td style=\"padding: 0 0.5em 0 0.5em; text-align: left; border: none;\">\n",
       "                TwoOrMoreFemalePct\n",
       "            </td>\n",
       "        </tr>\n",
       "    \n",
       "        <tr style=\"background-color: hsl(120, 100.00%, 99.70%); border: none;\">\n",
       "            <td style=\"padding: 0 1em 0 0.5em; text-align: right; border: none;\">\n",
       "                0.0001\n",
       "                \n",
       "                    &plusmn; 0.0001\n",
       "                \n",
       "            </td>\n",
       "            <td style=\"padding: 0 0.5em 0 0.5em; text-align: left; border: none;\">\n",
       "                stud_internet_comp_num\n",
       "            </td>\n",
       "        </tr>\n",
       "    \n",
       "        <tr style=\"background-color: hsl(120, 100.00%, 99.75%); border: none;\">\n",
       "            <td style=\"padding: 0 1em 0 0.5em; text-align: right; border: none;\">\n",
       "                0.0001\n",
       "                \n",
       "                    &plusmn; 0.0001\n",
       "                \n",
       "            </td>\n",
       "            <td style=\"padding: 0 0.5em 0 0.5em; text-align: left; border: none;\">\n",
       "                BlackFemalePct\n",
       "            </td>\n",
       "        </tr>\n",
       "    \n",
       "        <tr style=\"background-color: hsl(120, 100.00%, 99.81%); border: none;\">\n",
       "            <td style=\"padding: 0 1em 0 0.5em; text-align: right; border: none;\">\n",
       "                0.0000\n",
       "                \n",
       "                    &plusmn; 0.0001\n",
       "                \n",
       "            </td>\n",
       "            <td style=\"padding: 0 0.5em 0 0.5em; text-align: left; border: none;\">\n",
       "                AsianMalePct\n",
       "            </td>\n",
       "        </tr>\n",
       "    \n",
       "        <tr style=\"background-color: hsl(0, 100.00%, 100.00%); border: none;\">\n",
       "            <td style=\"padding: 0 1em 0 0.5em; text-align: right; border: none;\">\n",
       "                0\n",
       "                \n",
       "                    &plusmn; 0.0000\n",
       "                \n",
       "            </td>\n",
       "            <td style=\"padding: 0 0.5em 0 0.5em; text-align: left; border: none;\">\n",
       "                4-10 Years_LEA_Exp_Pct_Prin\n",
       "            </td>\n",
       "        </tr>\n",
       "    \n",
       "        <tr style=\"background-color: hsl(0, 100.00%, 100.00%); border: none;\">\n",
       "            <td style=\"padding: 0 1em 0 0.5em; text-align: right; border: none;\">\n",
       "                0\n",
       "                \n",
       "                    &plusmn; 0.0000\n",
       "                \n",
       "            </td>\n",
       "            <td style=\"padding: 0 0.5em 0 0.5em; text-align: left; border: none;\">\n",
       "                Accomplished_TCHR_Standard 1_Pct\n",
       "            </td>\n",
       "        </tr>\n",
       "    \n",
       "        <tr style=\"background-color: hsl(0, 100.00%, 100.00%); border: none;\">\n",
       "            <td style=\"padding: 0 1em 0 0.5em; text-align: right; border: none;\">\n",
       "                0\n",
       "                \n",
       "                    &plusmn; 0.0000\n",
       "                \n",
       "            </td>\n",
       "            <td style=\"padding: 0 0.5em 0 0.5em; text-align: left; border: none;\">\n",
       "                Accomplished_TCHR_Standard 2_Pct\n",
       "            </td>\n",
       "        </tr>\n",
       "    \n",
       "        <tr style=\"background-color: hsl(0, 100.00%, 100.00%); border: none;\">\n",
       "            <td style=\"padding: 0 1em 0 0.5em; text-align: right; border: none;\">\n",
       "                0\n",
       "                \n",
       "                    &plusmn; 0.0000\n",
       "                \n",
       "            </td>\n",
       "            <td style=\"padding: 0 0.5em 0 0.5em; text-align: left; border: none;\">\n",
       "                Accomplished_TCHR_Standard 3_Pct\n",
       "            </td>\n",
       "        </tr>\n",
       "    \n",
       "        <tr style=\"background-color: hsl(0, 100.00%, 100.00%); border: none;\">\n",
       "            <td style=\"padding: 0 1em 0 0.5em; text-align: right; border: none;\">\n",
       "                0\n",
       "                \n",
       "                    &plusmn; 0.0000\n",
       "                \n",
       "            </td>\n",
       "            <td style=\"padding: 0 0.5em 0 0.5em; text-align: left; border: none;\">\n",
       "                Accomplished_TCHR_Standard 4_Pct\n",
       "            </td>\n",
       "        </tr>\n",
       "    \n",
       "        <tr style=\"background-color: hsl(0, 100.00%, 100.00%); border: none;\">\n",
       "            <td style=\"padding: 0 1em 0 0.5em; text-align: right; border: none;\">\n",
       "                0\n",
       "                \n",
       "                    &plusmn; 0.0000\n",
       "                \n",
       "            </td>\n",
       "            <td style=\"padding: 0 0.5em 0 0.5em; text-align: left; border: none;\">\n",
       "                Accomplished_TCHR_Standard 5_Pct\n",
       "            </td>\n",
       "        </tr>\n",
       "    \n",
       "        <tr style=\"background-color: hsl(0, 100.00%, 100.00%); border: none;\">\n",
       "            <td style=\"padding: 0 1em 0 0.5em; text-align: right; border: none;\">\n",
       "                0\n",
       "                \n",
       "                    &plusmn; 0.0000\n",
       "                \n",
       "            </td>\n",
       "            <td style=\"padding: 0 0.5em 0 0.5em; text-align: left; border: none;\">\n",
       "                Developing_TCHR_Standard 1_Pct\n",
       "            </td>\n",
       "        </tr>\n",
       "    \n",
       "        <tr style=\"background-color: hsl(0, 100.00%, 100.00%); border: none;\">\n",
       "            <td style=\"padding: 0 1em 0 0.5em; text-align: right; border: none;\">\n",
       "                0\n",
       "                \n",
       "                    &plusmn; 0.0000\n",
       "                \n",
       "            </td>\n",
       "            <td style=\"padding: 0 0.5em 0 0.5em; text-align: left; border: none;\">\n",
       "                Developing_TCHR_Standard 2_Pct\n",
       "            </td>\n",
       "        </tr>\n",
       "    \n",
       "        <tr style=\"background-color: hsl(0, 100.00%, 100.00%); border: none;\">\n",
       "            <td style=\"padding: 0 1em 0 0.5em; text-align: right; border: none;\">\n",
       "                0\n",
       "                \n",
       "                    &plusmn; 0.0000\n",
       "                \n",
       "            </td>\n",
       "            <td style=\"padding: 0 0.5em 0 0.5em; text-align: left; border: none;\">\n",
       "                10+ Years_LEA_Exp_Pct_Prin\n",
       "            </td>\n",
       "        </tr>\n",
       "    \n",
       "        <tr style=\"background-color: hsl(0, 100.00%, 100.00%); border: none;\">\n",
       "            <td style=\"padding: 0 1em 0 0.5em; text-align: right; border: none;\">\n",
       "                0\n",
       "                \n",
       "                    &plusmn; 0.0000\n",
       "                \n",
       "            </td>\n",
       "            <td style=\"padding: 0 0.5em 0 0.5em; text-align: left; border: none;\">\n",
       "                lea_sat_participation_pct\n",
       "            </td>\n",
       "        </tr>\n",
       "    \n",
       "        <tr style=\"background-color: hsl(0, 100.00%, 100.00%); border: none;\">\n",
       "            <td style=\"padding: 0 1em 0 0.5em; text-align: right; border: none;\">\n",
       "                0\n",
       "                \n",
       "                    &plusmn; 0.0000\n",
       "                \n",
       "            </td>\n",
       "            <td style=\"padding: 0 0.5em 0 0.5em; text-align: left; border: none;\">\n",
       "                0-3 Years_LEA_Exp_Pct_Prin\n",
       "            </td>\n",
       "        </tr>\n",
       "    \n",
       "        <tr style=\"background-color: hsl(0, 100.00%, 100.00%); border: none;\">\n",
       "            <td style=\"padding: 0 1em 0 0.5em; text-align: right; border: none;\">\n",
       "                0\n",
       "                \n",
       "                    &plusmn; 0.0000\n",
       "                \n",
       "            </td>\n",
       "            <td style=\"padding: 0 0.5em 0 0.5em; text-align: left; border: none;\">\n",
       "                st_emer_prov_teach_pct\n",
       "            </td>\n",
       "        </tr>\n",
       "    \n",
       "        <tr style=\"background-color: hsl(0, 100.00%, 100.00%); border: none;\">\n",
       "            <td style=\"padding: 0 1em 0 0.5em; text-align: right; border: none;\">\n",
       "                0\n",
       "                \n",
       "                    &plusmn; 0.0000\n",
       "                \n",
       "            </td>\n",
       "            <td style=\"padding: 0 0.5em 0 0.5em; text-align: left; border: none;\">\n",
       "                lea_federal_perpupil_num\n",
       "            </td>\n",
       "        </tr>\n",
       "    \n",
       "        <tr style=\"background-color: hsl(0, 100.00%, 100.00%); border: none;\">\n",
       "            <td style=\"padding: 0 1em 0 0.5em; text-align: right; border: none;\">\n",
       "                0\n",
       "                \n",
       "                    &plusmn; 0.0000\n",
       "                \n",
       "            </td>\n",
       "            <td style=\"padding: 0 0.5em 0 0.5em; text-align: left; border: none;\">\n",
       "                lea_local_perpupil_num\n",
       "            </td>\n",
       "        </tr>\n",
       "    \n",
       "        <tr style=\"background-color: hsl(0, 100.00%, 100.00%); border: none;\">\n",
       "            <td style=\"padding: 0 1em 0 0.5em; text-align: right; border: none;\">\n",
       "                0\n",
       "                \n",
       "                    &plusmn; 0.0000\n",
       "                \n",
       "            </td>\n",
       "            <td style=\"padding: 0 0.5em 0 0.5em; text-align: left; border: none;\">\n",
       "                advance_dgr_pct\n",
       "            </td>\n",
       "        </tr>\n",
       "    \n",
       "        <tr style=\"background-color: hsl(0, 100.00%, 100.00%); border: none;\">\n",
       "            <td style=\"padding: 0 1em 0 0.5em; text-align: right; border: none;\">\n",
       "                0\n",
       "                \n",
       "                    &plusmn; 0.0000\n",
       "                \n",
       "            </td>\n",
       "            <td style=\"padding: 0 0.5em 0 0.5em; text-align: left; border: none;\">\n",
       "                Developing_TCHR_Standard 5_Pct\n",
       "            </td>\n",
       "        </tr>\n",
       "    \n",
       "        <tr style=\"background-color: hsl(0, 100.00%, 100.00%); border: none;\">\n",
       "            <td style=\"padding: 0 1em 0 0.5em; text-align: right; border: none;\">\n",
       "                0\n",
       "                \n",
       "                    &plusmn; 0.0000\n",
       "                \n",
       "            </td>\n",
       "            <td style=\"padding: 0 0.5em 0 0.5em; text-align: left; border: none;\">\n",
       "                lateral_teach_pct\n",
       "            </td>\n",
       "        </tr>\n",
       "    \n",
       "        <tr style=\"background-color: hsl(0, 100.00%, 100.00%); border: none;\">\n",
       "            <td style=\"padding: 0 1em 0 0.5em; text-align: right; border: none;\">\n",
       "                0\n",
       "                \n",
       "                    &plusmn; 0.0000\n",
       "                \n",
       "            </td>\n",
       "            <td style=\"padding: 0 0.5em 0 0.5em; text-align: left; border: none;\">\n",
       "                lea_flicensed_teach_pct\n",
       "            </td>\n",
       "        </tr>\n",
       "    \n",
       "        <tr style=\"background-color: hsl(0, 100.00%, 100.00%); border: none;\">\n",
       "            <td style=\"padding: 0 1em 0 0.5em; text-align: right; border: none;\">\n",
       "                0\n",
       "                \n",
       "                    &plusmn; 0.0000\n",
       "                \n",
       "            </td>\n",
       "            <td style=\"padding: 0 0.5em 0 0.5em; text-align: left; border: none;\">\n",
       "                lea_tchyrs_0thru3_pct\n",
       "            </td>\n",
       "        </tr>\n",
       "    \n",
       "        <tr style=\"background-color: hsl(0, 100.00%, 100.00%); border: none;\">\n",
       "            <td style=\"padding: 0 1em 0 0.5em; text-align: right; border: none;\">\n",
       "                0\n",
       "                \n",
       "                    &plusmn; 0.0000\n",
       "                \n",
       "            </td>\n",
       "            <td style=\"padding: 0 0.5em 0 0.5em; text-align: left; border: none;\">\n",
       "                Developing_TCHR_Standard 3_Pct\n",
       "            </td>\n",
       "        </tr>\n",
       "    \n",
       "        <tr style=\"background-color: hsl(0, 100.00%, 100.00%); border: none;\">\n",
       "            <td style=\"padding: 0 1em 0 0.5em; text-align: right; border: none;\">\n",
       "                0\n",
       "                \n",
       "                    &plusmn; 0.0000\n",
       "                \n",
       "            </td>\n",
       "            <td style=\"padding: 0 0.5em 0 0.5em; text-align: left; border: none;\">\n",
       "                lea_tchyrs_4thru10_pct\n",
       "            </td>\n",
       "        </tr>\n",
       "    \n",
       "        <tr style=\"background-color: hsl(0, 100.00%, 100.00%); border: none;\">\n",
       "            <td style=\"padding: 0 1em 0 0.5em; text-align: right; border: none;\">\n",
       "                0\n",
       "                \n",
       "                    &plusmn; 0.0000\n",
       "                \n",
       "            </td>\n",
       "            <td style=\"padding: 0 0.5em 0 0.5em; text-align: left; border: none;\">\n",
       "                lea_nbpts_num\n",
       "            </td>\n",
       "        </tr>\n",
       "    \n",
       "        <tr style=\"background-color: hsl(0, 100.00%, 100.00%); border: none;\">\n",
       "            <td style=\"padding: 0 1em 0 0.5em; text-align: right; border: none;\">\n",
       "                0\n",
       "                \n",
       "                    &plusmn; 0.0000\n",
       "                \n",
       "            </td>\n",
       "            <td style=\"padding: 0 0.5em 0 0.5em; text-align: left; border: none;\">\n",
       "                lea_advance_dgr_pct\n",
       "            </td>\n",
       "        </tr>\n",
       "    \n",
       "        <tr style=\"background-color: hsl(0, 100.00%, 100.00%); border: none;\">\n",
       "            <td style=\"padding: 0 1em 0 0.5em; text-align: right; border: none;\">\n",
       "                0\n",
       "                \n",
       "                    &plusmn; 0.0000\n",
       "                \n",
       "            </td>\n",
       "            <td style=\"padding: 0 0.5em 0 0.5em; text-align: left; border: none;\">\n",
       "                lea_1yr_tchr_trnovr_pct\n",
       "            </td>\n",
       "        </tr>\n",
       "    \n",
       "        <tr style=\"background-color: hsl(0, 100.00%, 100.00%); border: none;\">\n",
       "            <td style=\"padding: 0 1em 0 0.5em; text-align: right; border: none;\">\n",
       "                0\n",
       "                \n",
       "                    &plusmn; 0.0000\n",
       "                \n",
       "            </td>\n",
       "            <td style=\"padding: 0 0.5em 0 0.5em; text-align: left; border: none;\">\n",
       "                lea_emer_prov_teach_pct\n",
       "            </td>\n",
       "        </tr>\n",
       "    \n",
       "        <tr style=\"background-color: hsl(0, 100.00%, 100.00%); border: none;\">\n",
       "            <td style=\"padding: 0 1em 0 0.5em; text-align: right; border: none;\">\n",
       "                0\n",
       "                \n",
       "                    &plusmn; 0.0000\n",
       "                \n",
       "            </td>\n",
       "            <td style=\"padding: 0 0.5em 0 0.5em; text-align: left; border: none;\">\n",
       "                st_flicensed_teach_pct\n",
       "            </td>\n",
       "        </tr>\n",
       "    \n",
       "        <tr style=\"background-color: hsl(0, 100.00%, 100.00%); border: none;\">\n",
       "            <td style=\"padding: 0 1em 0 0.5em; text-align: right; border: none;\">\n",
       "                0\n",
       "                \n",
       "                    &plusmn; 0.0000\n",
       "                \n",
       "            </td>\n",
       "            <td style=\"padding: 0 0.5em 0 0.5em; text-align: left; border: none;\">\n",
       "                st_tchyrs_0thru3_pct\n",
       "            </td>\n",
       "        </tr>\n",
       "    \n",
       "        <tr style=\"background-color: hsl(0, 100.00%, 100.00%); border: none;\">\n",
       "            <td style=\"padding: 0 1em 0 0.5em; text-align: right; border: none;\">\n",
       "                0\n",
       "                \n",
       "                    &plusmn; 0.0000\n",
       "                \n",
       "            </td>\n",
       "            <td style=\"padding: 0 0.5em 0 0.5em; text-align: left; border: none;\">\n",
       "                st_1yr_tchr_trnovr_pct\n",
       "            </td>\n",
       "        </tr>\n",
       "    \n",
       "        <tr style=\"background-color: hsl(0, 100.00%, 100.00%); border: none;\">\n",
       "            <td style=\"padding: 0 1em 0 0.5em; text-align: right; border: none;\">\n",
       "                0\n",
       "                \n",
       "                    &plusmn; 0.0000\n",
       "                \n",
       "            </td>\n",
       "            <td style=\"padding: 0 0.5em 0 0.5em; text-align: left; border: none;\">\n",
       "                lea_tchyrs_11plus_pct\n",
       "            </td>\n",
       "        </tr>\n",
       "    \n",
       "        <tr style=\"background-color: hsl(0, 100.00%, 100.00%); border: none;\">\n",
       "            <td style=\"padding: 0 1em 0 0.5em; text-align: right; border: none;\">\n",
       "                0\n",
       "                \n",
       "                    &plusmn; 0.0000\n",
       "                \n",
       "            </td>\n",
       "            <td style=\"padding: 0 0.5em 0 0.5em; text-align: left; border: none;\">\n",
       "                Category_Cd_T\n",
       "            </td>\n",
       "        </tr>\n",
       "    \n",
       "    \n",
       "        \n",
       "            <tr style=\"background-color: hsl(0, 100.00%, 100.00%); border: none;\">\n",
       "                <td colspan=\"2\" style=\"padding: 0 0.5em 0 0.5em; text-align: center; border: none; white-space: nowrap;\">\n",
       "                    <i>&hellip; 98 more &hellip;</i>\n",
       "                </td>\n",
       "            </tr>\n",
       "        \n",
       "    \n",
       "    </tbody>\n",
       "</table>\n",
       "    \n",
       "\n",
       "    \n",
       "\n",
       "\n",
       "    \n",
       "\n",
       "    \n",
       "\n",
       "    \n",
       "\n",
       "    \n",
       "\n",
       "    \n",
       "\n",
       "    \n",
       "\n",
       "\n",
       "\n"
      ],
      "text/plain": [
       "<IPython.core.display.HTML object>"
      ]
     },
     "execution_count": 83,
     "metadata": {},
     "output_type": "execute_result"
    }
   ],
   "source": [
    "#For feature importance\n",
    "import eli5\n",
    "from eli5.sklearn import PermutationImportance\n",
    "perm = PermutationImportance(clfa, random_state=1).fit(schoolData,schoolData_SPG)\n",
    "eli5.show_weights(perm, feature_names = schoolData.columns.tolist(), top=50)"
   ]
  },
  {
   "cell_type": "markdown",
   "metadata": {},
   "source": [
    "To meet the data size requirement, we need to have as least 450,000/9371 = 48 variables to use for the data. \n",
    "\n",
    "To satisfy this we pick the first 50 variables to use. Notice that in the below variable list there are both continuous variables and the categorical variables after one-hot encoding. "
   ]
  },
  {
   "cell_type": "code",
   "execution_count": 84,
   "metadata": {},
   "outputs": [
    {
     "data": {
      "text/plain": [
       "(9731, 50)"
      ]
     },
     "execution_count": 84,
     "metadata": {},
     "output_type": "execute_result"
    }
   ],
   "source": [
    "#Pick and Choose variables\n",
    "schoolData_pick = schoolData[[\n",
    "'TotalTargets_pTarget_PctMet',\n",
    "'EVAAS Growth Status_NotMet',\n",
    "'MinorityMalePct',\n",
    "'MinorityFemalePct',\n",
    "'title1_type_cd_Y',\n",
    "'avg_daily_attend_pct',\n",
    "'short_susp_per_c_num',\n",
    "'BlackMalePct',\n",
    "'AsianFemalePct',\n",
    "'student_num',\n",
    "'HispanicMalePct',\n",
    "'SciGr5&8_pTarget_PctMet',\n",
    "'tchyrs_0thru3_pct',\n",
    "'tchyrs_11plus_pct',\n",
    "'Accomplished_TCHR_Standard 2_Pct',\n",
    "'Accomplished_TCHR_Standard 1_Pct',\n",
    "'Developing_TCHR_Standard 1_Pct',\n",
    "'Developing_TCHR_Standard 2_Pct',\n",
    "'Developing_TCHR_Standard 3_Pct',\n",
    "'Accomplished_TCHR_Standard 4_Pct',\n",
    "'4-10 Years_LEA_Exp_Pct_Prin',\n",
    "'Developing_TCHR_Standard 4_Pct',\n",
    "'Developing_TCHR_Standard 5_Pct',\n",
    "'10+ Years_LEA_Exp_Pct_Prin',\n",
    "'Accomplished_TCHR_Standard 3_Pct',\n",
    "'Accomplished_TCHR_Standard 5_Pct',\n",
    "'lea_state_perpupil_num',\n",
    "'st_emer_prov_teach_pct',\n",
    "'pct_GCE_ALL',\n",
    "'MathGr3-8_pTarget_PctMet',\n",
    "'lea_sat_avg_score_num',\n",
    "'lea_federal_perpupil_num',\n",
    "'lea_local_perpupil_num',\n",
    "'nbpts_num',\n",
    "'Distinguished_TCHR_Standard 2_Pct',\n",
    "'_1yr_tchr_trnovr_pct',\n",
    "'lateral_teach_pct',\n",
    "'0-3 Years_LEA_Exp_Pct_Prin',\n",
    "'lea_flicensed_teach_pct',\n",
    "'lea_tchyrs_4thru10_pct',\n",
    "'lea_tchyrs_11plus_pct',\n",
    "'lea_nbpts_num',\n",
    "'lea_advance_dgr_pct',\n",
    "'lea_1yr_tchr_trnovr_pct',\n",
    "'lea_emer_prov_teach_pct',\n",
    "'st_flicensed_teach_pct',\n",
    "'st_tchyrs_0thru3_pct',\n",
    "'st_1yr_tchr_trnovr_pct',\n",
    "'lea_tchyrs_0thru3_pct',\n",
    "'Category_Cd_T'\n",
    "]]\n",
    "\n",
    "# Dataset Dimension with picked variables\n",
    "schoolData_pick.shape"
   ]
  },
  {
   "cell_type": "markdown",
   "metadata": {},
   "source": [
    "### Training/Testing Splitting"
   ]
  },
  {
   "cell_type": "markdown",
   "metadata": {},
   "source": [
    "To prepare our official SVM and Logistic regression modeling procedure, we need to split the dataset into training and testing set. We use the ShuffleSplit criteria below. We use a proportion of 80/20 for the training/testing dataset."
   ]
  },
  {
   "cell_type": "code",
   "execution_count": 85,
   "metadata": {},
   "outputs": [
    {
     "name": "stdout",
     "output_type": "stream",
     "text": [
      "ShuffleSplit(n_splits=3, random_state=None, test_size=0.2, train_size=None)\n"
     ]
    }
   ],
   "source": [
    "# Using ShuffleSplit for Training/Testing Split \n",
    "from sklearn.model_selection import ShuffleSplit\n",
    "\n",
    "num_cv_iterations = 3\n",
    "num_instances = len(schoolData_SPG)\n",
    "cv_object = ShuffleSplit(n_splits=num_cv_iterations,\n",
    "                         test_size  = 0.2)\n",
    "                         \n",
    "print(cv_object)"
   ]
  },
  {
   "cell_type": "code",
   "execution_count": 86,
   "metadata": {},
   "outputs": [],
   "source": [
    "# Split X and Y into Training and Testing dataset\n",
    "for train_indices, test_indices in cv_object.split(schoolData_pick,schoolData_SPG): \n",
    "\n",
    "    Xsel_train = schoolData_pick.values[train_indices]\n",
    "    ysel_train = schoolData_SPG.values[train_indices]\n",
    "    Xall_train = schoolData.values[train_indices]\n",
    "    \n",
    "    Xsel_test = schoolData_pick.values[test_indices]\n",
    "    ysel_test = schoolData_SPG.values[test_indices]\n",
    "    Xall_test = schoolData.values[test_indices]"
   ]
  },
  {
   "cell_type": "markdown",
   "metadata": {},
   "source": [
    " With our feature selection (51 variables), check and make sure it contains most information. The way we conduct the validation is by running another random forest and check the accuracy. This accuracy of the current model (acc=0.733) is close to the model utilizing all the variables (acc=0.736). So we varify that our selection is reasonable."
   ]
  },
  {
   "cell_type": "code",
   "execution_count": 87,
   "metadata": {},
   "outputs": [
    {
     "data": {
      "text/plain": [
       "RandomForestClassifier()"
      ]
     },
     "execution_count": 87,
     "metadata": {},
     "output_type": "execute_result"
    },
    {
     "data": {
      "text/plain": [
       "RandomForestClassifier()"
      ]
     },
     "execution_count": 87,
     "metadata": {},
     "output_type": "execute_result"
    },
    {
     "name": "stdout",
     "output_type": "stream",
     "text": [
      "Model with Selective Variables Accuracy: 0.7411402157164869\n",
      "Model with All Variables Accuracy: 0.7411402157164869\n"
     ]
    }
   ],
   "source": [
    "# Random Forest fitting with selective variables\n",
    "clf_rf=RandomForestClassifier(n_estimators=100)\n",
    "clf_rf.fit(Xsel_train,ysel_train)\n",
    "y_pred_rf=clf_rf.predict(Xsel_test)\n",
    "\n",
    "# Random Forest fitting with all variables\n",
    "clf_rf_all=RandomForestClassifier(n_estimators=100)\n",
    "clf_rf_all.fit(Xall_train,ysel_train)\n",
    "y_pred_rf_all=clf_rf_all.predict(Xall_test)\n",
    "\n",
    "print(\"Model with Selective Variables Accuracy:\",metrics.accuracy_score(ysel_test, y_pred_rf))\n",
    "print(\"Model with All Variables Accuracy:\",metrics.accuracy_score(ysel_test, y_pred_rf_all))"
   ]
  },
  {
   "cell_type": "markdown",
   "metadata": {},
   "source": [
    "### Solving Data Imbalance"
   ]
  },
  {
   "cell_type": "markdown",
   "metadata": {},
   "source": [
    "We find that our response variable (SPG_Grade) has a data balancing problem: The grade C is dominate the dataset with the largest propertion, followed by B or D. A and F are just a small propertion of the whole dataset. \n",
    "\n",
    "First we investigate the current class of the SPG Grade and found that the class \"A\" and \"A+NG\" are identical so we merge the two, the class \"I\" has incomplete information so we are removing it from the dataset."
   ]
  },
  {
   "cell_type": "code",
   "execution_count": 88,
   "metadata": {
    "scrolled": true
   },
   "outputs": [
    {
     "data": {
      "text/html": [
       "<div>\n",
       "<style scoped>\n",
       "    .dataframe tbody tr th:only-of-type {\n",
       "        vertical-align: middle;\n",
       "    }\n",
       "\n",
       "    .dataframe tbody tr th {\n",
       "        vertical-align: top;\n",
       "    }\n",
       "\n",
       "    .dataframe thead th {\n",
       "        text-align: right;\n",
       "    }\n",
       "</style>\n",
       "<table border=\"1\" class=\"dataframe\">\n",
       "  <thead>\n",
       "    <tr style=\"text-align: right;\">\n",
       "      <th></th>\n",
       "      <th>0</th>\n",
       "    </tr>\n",
       "  </thead>\n",
       "  <tbody>\n",
       "    <tr>\n",
       "      <th>count</th>\n",
       "      <td>9216</td>\n",
       "    </tr>\n",
       "    <tr>\n",
       "      <th>unique</th>\n",
       "      <td>5</td>\n",
       "    </tr>\n",
       "    <tr>\n",
       "      <th>top</th>\n",
       "      <td>C</td>\n",
       "    </tr>\n",
       "    <tr>\n",
       "      <th>freq</th>\n",
       "      <td>3973</td>\n",
       "    </tr>\n",
       "  </tbody>\n",
       "</table>\n",
       "</div>"
      ],
      "text/plain": [
       "           0\n",
       "count   9216\n",
       "unique     5\n",
       "top        C\n",
       "freq    3973"
      ]
     },
     "execution_count": 88,
     "metadata": {},
     "output_type": "execute_result"
    }
   ],
   "source": [
    "schoolData_SPG_org = schoolData_SPG\n",
    "schoolData_SPG = schoolData_SPG_org\n",
    "\n",
    "import numpy as np\n",
    "schoolData_SPG= np.select(\n",
    "    [\n",
    "        schoolData_SPG == 'A', \n",
    "        schoolData_SPG == 'B',\n",
    "        schoolData_SPG == 'C',\n",
    "        schoolData_SPG == 'D',\n",
    "        schoolData_SPG == 'F',\n",
    "        schoolData_SPG == 'A+NG',\n",
    "        schoolData_SPG == 'I'\n",
    "    ], \n",
    "    [\n",
    "        'A', \n",
    "        'B',\n",
    "        'C',\n",
    "        'D',\n",
    "        'F',\n",
    "        'A',\n",
    "        'NA'\n",
    "    ],\n",
    "    default='NA'\n",
    ")\n",
    "\n",
    "#Filter out the sample with \"NA\" on SPG Grade\n",
    "schoolData_SPG_new = schoolData_SPG[schoolData_SPG!='NA']\n",
    "schoolData_pick_new = schoolData_pick[schoolData_SPG!='NA']\n",
    "\n",
    "# Check if the levels of SPG Grade has been altered\n",
    "s = pd.DataFrame(schoolData_SPG_new)\n",
    "s.describe()"
   ]
  },
  {
   "cell_type": "markdown",
   "metadata": {},
   "source": [
    "After merging the class, we can see below a distribution of current SPG Grade. The grade C is dominate the dataset with the largest propertion, followed by B or D. A and F are just a small propertion of the whole dataset. We need to re-balance the data."
   ]
  },
  {
   "cell_type": "code",
   "execution_count": 89,
   "metadata": {},
   "outputs": [
    {
     "name": "stderr",
     "output_type": "stream",
     "text": [
      "/usr/local/lib/python3.7/site-packages/seaborn/categorical.py:3666: UserWarning: The `factorplot` function has been renamed to `catplot`. The original name will be removed in a future release. Please update your code. Note that the default `kind` in `factorplot` (`'point'`) has changed `'strip'` in `catplot`.\n",
      "  warnings.warn(msg)\n"
     ]
    },
    {
     "data": {
      "text/plain": [
       "<seaborn.axisgrid.FacetGrid at 0x12c9f3b90>"
      ]
     },
     "execution_count": 89,
     "metadata": {},
     "output_type": "execute_result"
    },
    {
     "data": {
      "image/png": "[encoded data removed]",
      "text/plain": [
       "<Figure size 720x360 with 1 Axes>"
      ]
     },
     "metadata": {
      "needs_background": "light"
     },
     "output_type": "display_data"
    }
   ],
   "source": [
    "#Factor Plot for SPG Grade\n",
    "s.columns=['SPG Grade']\n",
    "                        \n",
    "sns.factorplot(\"SPG Grade\", data=s, aspect=2,\n",
    "                       kind=\"count\", order=['A','B','C','D','F'])\n",
    "\n",
    "plt.show()"
   ]
  },
  {
   "cell_type": "markdown",
   "metadata": {},
   "source": [
    "To solve this problem, we are using the crieteria below.\n",
    "\n",
    "#### Test 3 types of sampler: UnderSample all cases, UnderSample majority class, SMOTE Oversample\n",
    "\n",
    "Below we conduct 3 seperate procedures to produce 3 seperate sets of X and y from the original dataset. Those sets will be evaluate against each other and we will decide the best data balancing strategy to use."
   ]
  },
  {
   "cell_type": "code",
   "execution_count": 90,
   "metadata": {},
   "outputs": [
    {
     "data": {
      "text/plain": [
       "(9216, 50)"
      ]
     },
     "execution_count": 90,
     "metadata": {},
     "output_type": "execute_result"
    },
    {
     "data": {
      "text/plain": [
       "(9216,)"
      ]
     },
     "execution_count": 90,
     "metadata": {},
     "output_type": "execute_result"
    }
   ],
   "source": [
    "# Check the dimension for X and y\n",
    "schoolData_pick_new.shape\n",
    "schoolData_SPG_new.shape"
   ]
  },
  {
   "cell_type": "code",
   "execution_count": 91,
   "metadata": {},
   "outputs": [],
   "source": [
    "from imblearn.under_sampling import RandomUnderSampler\n",
    "\n",
    "# Undersample the dataset using the RandomUnderSampler \n",
    "# Set all class sizes equal to the smallest class.\n",
    "us = RandomUnderSampler()\n",
    "X_us, y_us = us.fit_sample(schoolData_pick_new, pd.DataFrame(schoolData_SPG_new))\n",
    "\n",
    "# Plot the new class distributions for y using the same funnction as above. \n",
    "#plot_class_dist(y_us)"
   ]
  },
  {
   "cell_type": "code",
   "execution_count": 92,
   "metadata": {},
   "outputs": [],
   "source": [
    "from imblearn.under_sampling import RandomUnderSampler\n",
    "\n",
    "# Undersample the dataset using the RandomUnderSampler \n",
    "# Undersample the majority class only\n",
    "us = RandomUnderSampler(sampling_strategy='majority')\n",
    "X_us_maj, y_us_maj = us.fit_sample(schoolData_pick_new, pd.DataFrame(schoolData_SPG_new))\n",
    "\n",
    "# Plot the new class distributions for y using the same funnction as above. \n",
    "#plot_class_dist(y_us_maj)"
   ]
  },
  {
   "cell_type": "code",
   "execution_count": 93,
   "metadata": {},
   "outputs": [],
   "source": [
    "from imblearn.over_sampling import SMOTE\n",
    "\n",
    "# Oversample using SMOTE\n",
    "# Make all classes the same size as the majority class.\n",
    "# WARNING - This can exponentially increase the size of the input dataset.\n",
    "sm = SMOTE(sampling_strategy='not majority')\n",
    "X_sm, y_sm = sm.fit_sample(schoolData_pick_new, pd.DataFrame(schoolData_SPG_new))\n",
    "\n",
    "# Plot the new class distributions for y using the same funnction as above. \n",
    "#plot_class_dist(y_sm)"
   ]
  },
  {
   "cell_type": "markdown",
   "metadata": {},
   "source": [
    "By comparing the results for the 3 different methods dealing with data imbalance, we run random forest with the datasets we generated. Accuracy are measured with the results of the variables. As shown the SMOTE strategy get the highest accuracy. It will be used for the later SVM and Logistic regression fitting."
   ]
  },
  {
   "cell_type": "code",
   "execution_count": 94,
   "metadata": {},
   "outputs": [
    {
     "name": "stderr",
     "output_type": "stream",
     "text": [
      "/usr/local/lib/python3.7/site-packages/ipykernel_launcher.py:12: DataConversionWarning: A column-vector y was passed when a 1d array was expected. Please change the shape of y to (n_samples,), for example using ravel().\n",
      "  if sys.path[0] == '':\n"
     ]
    },
    {
     "data": {
      "text/plain": [
       "RandomForestClassifier()"
      ]
     },
     "execution_count": 94,
     "metadata": {},
     "output_type": "execute_result"
    },
    {
     "name": "stdout",
     "output_type": "stream",
     "text": [
      "Accuracy: 0.7069767441860465\n"
     ]
    }
   ],
   "source": [
    "#Training using Undersample Method1 \n",
    "for train_indices, test_indices in cv_object.split(X_us,y_us): \n",
    "\n",
    "    X_train = X_us.values[train_indices]\n",
    "    y_train = y_us.values[train_indices]\n",
    "    \n",
    "    X_test = X_us.values[test_indices]\n",
    "    y_test = y_us.values[test_indices]\n",
    "    \n",
    "\n",
    "clfus=RandomForestClassifier(n_estimators=100)\n",
    "clfus.fit(X_train,y_train)\n",
    "y_pred_us=clfus.predict(X_test)\n",
    "\n",
    "print(\"Accuracy:\",metrics.accuracy_score(y_test, y_pred_us))"
   ]
  },
  {
   "cell_type": "code",
   "execution_count": 95,
   "metadata": {},
   "outputs": [
    {
     "name": "stderr",
     "output_type": "stream",
     "text": [
      "/usr/local/lib/python3.7/site-packages/ipykernel_launcher.py:11: DataConversionWarning: A column-vector y was passed when a 1d array was expected. Please change the shape of y to (n_samples,), for example using ravel().\n",
      "  # This is added back by InteractiveShellApp.init_path()\n"
     ]
    },
    {
     "data": {
      "text/plain": [
       "RandomForestClassifier()"
      ]
     },
     "execution_count": 95,
     "metadata": {},
     "output_type": "execute_result"
    },
    {
     "name": "stdout",
     "output_type": "stream",
     "text": [
      "Accuracy: 0.8\n"
     ]
    }
   ],
   "source": [
    "#Training using Undersample Method2\n",
    "for train_indices, test_indices in cv_object.split(X_us_maj,y_us_maj): \n",
    "\n",
    "    X_train = X_us_maj.values[train_indices]\n",
    "    y_train = y_us_maj.values[train_indices]\n",
    "    \n",
    "    X_test = X_us_maj.values[test_indices]\n",
    "    y_test = y_us_maj.values[test_indices]\n",
    "    \n",
    "clfusm=RandomForestClassifier(n_estimators=100)\n",
    "clfusm.fit(X_train,y_train)\n",
    "y_pred_usm=clfusm.predict(X_test)\n",
    "    \n",
    "print(\"Accuracy:\",metrics.accuracy_score(y_test, y_pred_usm))"
   ]
  },
  {
   "cell_type": "code",
   "execution_count": 96,
   "metadata": {},
   "outputs": [
    {
     "name": "stderr",
     "output_type": "stream",
     "text": [
      "/usr/local/lib/python3.7/site-packages/ipykernel_launcher.py:11: DataConversionWarning: A column-vector y was passed when a 1d array was expected. Please change the shape of y to (n_samples,), for example using ravel().\n",
      "  # This is added back by InteractiveShellApp.init_path()\n"
     ]
    },
    {
     "data": {
      "text/plain": [
       "RandomForestClassifier()"
      ]
     },
     "execution_count": 96,
     "metadata": {},
     "output_type": "execute_result"
    },
    {
     "name": "stdout",
     "output_type": "stream",
     "text": [
      "Accuracy: 0.8849735716083564\n"
     ]
    }
   ],
   "source": [
    "#Training using Oversample Method\n",
    "for train_indices, test_indices in cv_object.split(X_sm,y_sm): \n",
    "\n",
    "    X_train = X_sm.values[train_indices]\n",
    "    y_train = y_sm.values[train_indices]\n",
    "    \n",
    "    X_test = X_sm.values[test_indices]\n",
    "    y_test = y_sm.values[test_indices]\n",
    "\n",
    "clfsm=RandomForestClassifier(n_estimators=100)\n",
    "clfsm.fit(X_train,y_train)\n",
    "y_pred_sm=clfsm.predict(X_test)\n",
    "\n",
    "print(\"Accuracy:\",metrics.accuracy_score(y_test, y_pred_sm))"
   ]
  },
  {
   "cell_type": "markdown",
   "metadata": {},
   "source": [
    "## Model Creation\n",
    "### SVM Work\n"
   ]
  },
  {
   "cell_type": "markdown",
   "metadata": {},
   "source": [
    "First, let's split the original dataset (with No SMOTE balancing) to train/test, and do SVM."
   ]
  },
  {
   "cell_type": "code",
   "execution_count": 97,
   "metadata": {},
   "outputs": [],
   "source": [
    "# Split X and Y into Training and Testing dataset\n",
    "for train_indices, test_indices in cv_object.split(schoolData_pick_new,schoolData_SPG_new): \n",
    "\n",
    "    Xsel_train = schoolData_pick_new.values[train_indices]\n",
    "    ysel_train = schoolData_SPG_new[train_indices]\n",
    "    \n",
    "    Xsel_test = schoolData_pick_new.values[test_indices]\n",
    "    ysel_test = schoolData_SPG_new[test_indices]"
   ]
  },
  {
   "cell_type": "code",
   "execution_count": 98,
   "metadata": {},
   "outputs": [],
   "source": [
    "from sklearn.preprocessing import StandardScaler\n",
    "from sklearn.pipeline import Pipeline\n",
    "\n",
    "scl_obj = StandardScaler()\n",
    "\n",
    "Xorg_train_scaled = scl_obj.fit_transform(Xsel_train) # apply to training\n",
    "Xorg_test_scaled = scl_obj.fit_transform(Xsel_test) "
   ]
  },
  {
   "cell_type": "code",
   "execution_count": 99,
   "metadata": {},
   "outputs": [
    {
     "name": "stdout",
     "output_type": "stream",
     "text": [
      "accuracy: 0.7066160520607375\n",
      "[[ 64  42   5   1   0]\n",
      " [ 11 313 147   4   0]\n",
      " [  0  73 651  71   0]\n",
      " [  0   1 110 261   1]\n",
      " [  0   0   2  73  14]]\n",
      "CPU times: user 3.49 s, sys: 54 ms, total: 3.54 s\n",
      "Wall time: 3.56 s\n"
     ]
    }
   ],
   "source": [
    "%%time\n",
    "# lets investigate SVMs on the data and play with the parameters and kernels\n",
    "from sklearn.svm import SVC\n",
    "from sklearn import metrics as mt\n",
    "\n",
    "# train the model just as before\n",
    "svm_clf = SVC(C=0.5, kernel='rbf', degree=3, gamma='auto') # get object\n",
    "svm_clf.fit(Xorg_train_scaled, ysel_train)  # train object\n",
    "\n",
    "y_hat = svm_clf.predict(Xorg_test_scaled) # get test set precitions\n",
    "\n",
    "acc = mt.accuracy_score(ysel_test,y_hat)\n",
    "conf = mt.confusion_matrix(ysel_test,y_hat)\n",
    "print('accuracy:', acc )\n",
    "print(conf)"
   ]
  },
  {
   "cell_type": "code",
   "execution_count": 100,
   "metadata": {},
   "outputs": [
    {
     "data": {
      "text/plain": [
       "<matplotlib.image.AxesImage at 0x13743a5d0>"
      ]
     },
     "execution_count": 100,
     "metadata": {},
     "output_type": "execute_result"
    },
    {
     "data": {
      "image/png": "[encoded data removed]",
      "text/plain": [
       "<Figure size 576x576 with 1 Axes>"
      ]
     },
     "metadata": {
      "needs_background": "light"
     },
     "output_type": "display_data"
    }
   ],
   "source": [
    "f = plt.figure(figsize=(8,8))\n",
    "plt.imshow(conf)"
   ]
  },
  {
   "cell_type": "markdown",
   "metadata": {},
   "source": [
    "The accuracy for the above model is around 70%. However the confusion matrix shows that because the data is imbalance, the accuracy across different class are a lot different from each other. For example, the accuracy rate of C is much higher than other class.\n",
    "\n",
    "Below we are using the SMOTE balanced dataset for SVM work:"
   ]
  },
  {
   "cell_type": "code",
   "execution_count": 101,
   "metadata": {},
   "outputs": [],
   "source": [
    "from sklearn.preprocessing import StandardScaler\n",
    "from sklearn.pipeline import Pipeline\n",
    "\n",
    "scl_obj = StandardScaler()\n",
    "\n",
    "Xs2_train_scaled = scl_obj.fit_transform(X_train) # apply to training\n",
    "Xs2_test_scaled = scl_obj.fit_transform(X_test) "
   ]
  },
  {
   "cell_type": "code",
   "execution_count": 102,
   "metadata": {},
   "outputs": [
    {
     "name": "stderr",
     "output_type": "stream",
     "text": [
      "/usr/local/lib/python3.7/site-packages/sklearn/utils/validation.py:73: DataConversionWarning: A column-vector y was passed when a 1d array was expected. Please change the shape of y to (n_samples, ), for example using ravel().\n",
      "  return f(**kwargs)\n"
     ]
    },
    {
     "name": "stdout",
     "output_type": "stream",
     "text": [
      "accuracy: 0.8099672791341556\n",
      "[[743  38   6   0   0]\n",
      " [ 85 575 103   9   1]\n",
      " [  4 137 541 117   5]\n",
      " [  0   8 105 597  82]\n",
      " [  0   0   1  54 762]]\n",
      "CPU times: user 12.1 s, sys: 94.5 ms, total: 12.2 s\n",
      "Wall time: 12.2 s\n"
     ]
    }
   ],
   "source": [
    "%%time\n",
    "# lets investigate SVMs on the data and play with the parameters and kernels\n",
    "from sklearn.svm import SVC\n",
    "from sklearn import metrics as mt\n",
    "\n",
    "# train the model just as before\n",
    "svm_clf = SVC(C=0.5, kernel='rbf', degree=3, gamma='auto') # get object\n",
    "svm_clf.fit(Xs2_train_scaled, y_train)  # train object\n",
    "\n",
    "y_hat = svm_clf.predict(Xs2_test_scaled) # get test set precitions\n",
    "\n",
    "acc = mt.accuracy_score(y_test,y_hat)\n",
    "conf = mt.confusion_matrix(y_test,y_hat)\n",
    "print('accuracy:', acc)\n",
    "print(conf)"
   ]
  },
  {
   "cell_type": "code",
   "execution_count": 127,
   "metadata": {},
   "outputs": [
    {
     "name": "stdout",
     "output_type": "stream",
     "text": [
      "10604\n"
     ]
    }
   ],
   "source": [
    "#model = svm_clf.fit(Xs2_train_scaled, y_train) \n",
    "\n",
    "# c = np.select(\n",
    "#     [\n",
    "#         y_train == 'A', \n",
    "#         y_train == 'B',\n",
    "#         y_train == 'C',\n",
    "#         y_train == 'D',\n",
    "#         y_train == 'F'\n",
    "#     ], \n",
    "#     [\n",
    "#         'green',\n",
    "#         'yellow',\n",
    "#         'orange',\n",
    "#         'blue',\n",
    "#         'red'\n",
    "#     ],\n",
    "#     default='NA'\n",
    "# )\n",
    "\n",
    "#print(model.support_vectors_)\n"
   ]
  },
  {
   "cell_type": "code",
   "execution_count": 103,
   "metadata": {},
   "outputs": [
    {
     "name": "stdout",
     "output_type": "stream",
     "text": [
      "Fitting 5 folds for each of 24 candidates, totalling 120 fits\n",
      "[CV] C=0.1, gamma=1, kernel=rbf ......................................\n"
     ]
    },
    {
     "name": "stderr",
     "output_type": "stream",
     "text": [
      "[Parallel(n_jobs=1)]: Using backend SequentialBackend with 1 concurrent workers.\n",
      "/usr/local/lib/python3.7/site-packages/sklearn/utils/validation.py:73: DataConversionWarning: A column-vector y was passed when a 1d array was expected. Please change the shape of y to (n_samples, ), for example using ravel().\n",
      "  return f(**kwargs)\n"
     ]
    },
    {
     "name": "stdout",
     "output_type": "stream",
     "text": [
      "[CV] ....................... C=0.1, gamma=1, kernel=rbf, total=  22.6s\n",
      "[CV] C=0.1, gamma=1, kernel=rbf ......................................\n"
     ]
    },
    {
     "name": "stderr",
     "output_type": "stream",
     "text": [
      "[Parallel(n_jobs=1)]: Done   1 out of   1 | elapsed:   22.6s remaining:    0.0s\n",
      "/usr/local/lib/python3.7/site-packages/sklearn/utils/validation.py:73: DataConversionWarning: A column-vector y was passed when a 1d array was expected. Please change the shape of y to (n_samples, ), for example using ravel().\n",
      "  return f(**kwargs)\n"
     ]
    },
    {
     "name": "stdout",
     "output_type": "stream",
     "text": [
      "[CV] ....................... C=0.1, gamma=1, kernel=rbf, total=  22.9s\n",
      "[CV] C=0.1, gamma=1, kernel=rbf ......................................\n"
     ]
    },
    {
     "name": "stderr",
     "output_type": "stream",
     "text": [
      "/usr/local/lib/python3.7/site-packages/sklearn/utils/validation.py:73: DataConversionWarning: A column-vector y was passed when a 1d array was expected. Please change the shape of y to (n_samples, ), for example using ravel().\n",
      "  return f(**kwargs)\n"
     ]
    },
    {
     "name": "stdout",
     "output_type": "stream",
     "text": [
      "[CV] ....................... C=0.1, gamma=1, kernel=rbf, total=  22.8s\n",
      "[CV] C=0.1, gamma=1, kernel=rbf ......................................\n"
     ]
    },
    {
     "name": "stderr",
     "output_type": "stream",
     "text": [
      "/usr/local/lib/python3.7/site-packages/sklearn/utils/validation.py:73: DataConversionWarning: A column-vector y was passed when a 1d array was expected. Please change the shape of y to (n_samples, ), for example using ravel().\n",
      "  return f(**kwargs)\n"
     ]
    },
    {
     "name": "stdout",
     "output_type": "stream",
     "text": [
      "[CV] ....................... C=0.1, gamma=1, kernel=rbf, total=  22.6s\n",
      "[CV] C=0.1, gamma=1, kernel=rbf ......................................\n"
     ]
    },
    {
     "name": "stderr",
     "output_type": "stream",
     "text": [
      "/usr/local/lib/python3.7/site-packages/sklearn/utils/validation.py:73: DataConversionWarning: A column-vector y was passed when a 1d array was expected. Please change the shape of y to (n_samples, ), for example using ravel().\n",
      "  return f(**kwargs)\n"
     ]
    },
    {
     "name": "stdout",
     "output_type": "stream",
     "text": [
      "[CV] ....................... C=0.1, gamma=1, kernel=rbf, total=  22.9s\n",
      "[CV] C=0.1, gamma=1, kernel=sigmoid ..................................\n"
     ]
    },
    {
     "name": "stderr",
     "output_type": "stream",
     "text": [
      "/usr/local/lib/python3.7/site-packages/sklearn/utils/validation.py:73: DataConversionWarning: A column-vector y was passed when a 1d array was expected. Please change the shape of y to (n_samples, ), for example using ravel().\n",
      "  return f(**kwargs)\n"
     ]
    },
    {
     "name": "stdout",
     "output_type": "stream",
     "text": [
      "[CV] ................... C=0.1, gamma=1, kernel=sigmoid, total=  10.6s\n",
      "[CV] C=0.1, gamma=1, kernel=sigmoid ..................................\n"
     ]
    },
    {
     "name": "stderr",
     "output_type": "stream",
     "text": [
      "/usr/local/lib/python3.7/site-packages/sklearn/utils/validation.py:73: DataConversionWarning: A column-vector y was passed when a 1d array was expected. Please change the shape of y to (n_samples, ), for example using ravel().\n",
      "  return f(**kwargs)\n"
     ]
    },
    {
     "name": "stdout",
     "output_type": "stream",
     "text": [
      "[CV] ................... C=0.1, gamma=1, kernel=sigmoid, total=  11.2s\n",
      "[CV] C=0.1, gamma=1, kernel=sigmoid ..................................\n"
     ]
    },
    {
     "name": "stderr",
     "output_type": "stream",
     "text": [
      "/usr/local/lib/python3.7/site-packages/sklearn/utils/validation.py:73: DataConversionWarning: A column-vector y was passed when a 1d array was expected. Please change the shape of y to (n_samples, ), for example using ravel().\n",
      "  return f(**kwargs)\n"
     ]
    },
    {
     "name": "stdout",
     "output_type": "stream",
     "text": [
      "[CV] ................... C=0.1, gamma=1, kernel=sigmoid, total=  10.6s\n",
      "[CV] C=0.1, gamma=1, kernel=sigmoid ..................................\n"
     ]
    },
    {
     "name": "stderr",
     "output_type": "stream",
     "text": [
      "/usr/local/lib/python3.7/site-packages/sklearn/utils/validation.py:73: DataConversionWarning: A column-vector y was passed when a 1d array was expected. Please change the shape of y to (n_samples, ), for example using ravel().\n",
      "  return f(**kwargs)\n"
     ]
    },
    {
     "name": "stdout",
     "output_type": "stream",
     "text": [
      "[CV] ................... C=0.1, gamma=1, kernel=sigmoid, total=  11.3s\n",
      "[CV] C=0.1, gamma=1, kernel=sigmoid ..................................\n"
     ]
    },
    {
     "name": "stderr",
     "output_type": "stream",
     "text": [
      "/usr/local/lib/python3.7/site-packages/sklearn/utils/validation.py:73: DataConversionWarning: A column-vector y was passed when a 1d array was expected. Please change the shape of y to (n_samples, ), for example using ravel().\n",
      "  return f(**kwargs)\n"
     ]
    },
    {
     "name": "stdout",
     "output_type": "stream",
     "text": [
      "[CV] ................... C=0.1, gamma=1, kernel=sigmoid, total=  11.2s\n",
      "[CV] C=0.1, gamma=0.1, kernel=rbf ....................................\n"
     ]
    },
    {
     "name": "stderr",
     "output_type": "stream",
     "text": [
      "/usr/local/lib/python3.7/site-packages/sklearn/utils/validation.py:73: DataConversionWarning: A column-vector y was passed when a 1d array was expected. Please change the shape of y to (n_samples, ), for example using ravel().\n",
      "  return f(**kwargs)\n"
     ]
    },
    {
     "name": "stdout",
     "output_type": "stream",
     "text": [
      "[CV] ..................... C=0.1, gamma=0.1, kernel=rbf, total=  18.9s\n",
      "[CV] C=0.1, gamma=0.1, kernel=rbf ....................................\n"
     ]
    },
    {
     "name": "stderr",
     "output_type": "stream",
     "text": [
      "/usr/local/lib/python3.7/site-packages/sklearn/utils/validation.py:73: DataConversionWarning: A column-vector y was passed when a 1d array was expected. Please change the shape of y to (n_samples, ), for example using ravel().\n",
      "  return f(**kwargs)\n"
     ]
    },
    {
     "name": "stdout",
     "output_type": "stream",
     "text": [
      "[CV] ..................... C=0.1, gamma=0.1, kernel=rbf, total=  18.9s\n",
      "[CV] C=0.1, gamma=0.1, kernel=rbf ....................................\n"
     ]
    },
    {
     "name": "stderr",
     "output_type": "stream",
     "text": [
      "/usr/local/lib/python3.7/site-packages/sklearn/utils/validation.py:73: DataConversionWarning: A column-vector y was passed when a 1d array was expected. Please change the shape of y to (n_samples, ), for example using ravel().\n",
      "  return f(**kwargs)\n"
     ]
    },
    {
     "name": "stdout",
     "output_type": "stream",
     "text": [
      "[CV] ..................... C=0.1, gamma=0.1, kernel=rbf, total=  19.0s\n",
      "[CV] C=0.1, gamma=0.1, kernel=rbf ....................................\n"
     ]
    },
    {
     "name": "stderr",
     "output_type": "stream",
     "text": [
      "/usr/local/lib/python3.7/site-packages/sklearn/utils/validation.py:73: DataConversionWarning: A column-vector y was passed when a 1d array was expected. Please change the shape of y to (n_samples, ), for example using ravel().\n",
      "  return f(**kwargs)\n"
     ]
    },
    {
     "name": "stdout",
     "output_type": "stream",
     "text": [
      "[CV] ..................... C=0.1, gamma=0.1, kernel=rbf, total=  19.0s\n",
      "[CV] C=0.1, gamma=0.1, kernel=rbf ....................................\n"
     ]
    },
    {
     "name": "stderr",
     "output_type": "stream",
     "text": [
      "/usr/local/lib/python3.7/site-packages/sklearn/utils/validation.py:73: DataConversionWarning: A column-vector y was passed when a 1d array was expected. Please change the shape of y to (n_samples, ), for example using ravel().\n",
      "  return f(**kwargs)\n"
     ]
    },
    {
     "name": "stdout",
     "output_type": "stream",
     "text": [
      "[CV] ..................... C=0.1, gamma=0.1, kernel=rbf, total=  18.9s\n",
      "[CV] C=0.1, gamma=0.1, kernel=sigmoid ................................\n"
     ]
    },
    {
     "name": "stderr",
     "output_type": "stream",
     "text": [
      "/usr/local/lib/python3.7/site-packages/sklearn/utils/validation.py:73: DataConversionWarning: A column-vector y was passed when a 1d array was expected. Please change the shape of y to (n_samples, ), for example using ravel().\n",
      "  return f(**kwargs)\n"
     ]
    },
    {
     "name": "stdout",
     "output_type": "stream",
     "text": [
      "[CV] ................. C=0.1, gamma=0.1, kernel=sigmoid, total=  10.1s\n",
      "[CV] C=0.1, gamma=0.1, kernel=sigmoid ................................\n"
     ]
    },
    {
     "name": "stderr",
     "output_type": "stream",
     "text": [
      "/usr/local/lib/python3.7/site-packages/sklearn/utils/validation.py:73: DataConversionWarning: A column-vector y was passed when a 1d array was expected. Please change the shape of y to (n_samples, ), for example using ravel().\n",
      "  return f(**kwargs)\n"
     ]
    },
    {
     "name": "stdout",
     "output_type": "stream",
     "text": [
      "[CV] ................. C=0.1, gamma=0.1, kernel=sigmoid, total=  10.1s\n",
      "[CV] C=0.1, gamma=0.1, kernel=sigmoid ................................\n"
     ]
    },
    {
     "name": "stderr",
     "output_type": "stream",
     "text": [
      "/usr/local/lib/python3.7/site-packages/sklearn/utils/validation.py:73: DataConversionWarning: A column-vector y was passed when a 1d array was expected. Please change the shape of y to (n_samples, ), for example using ravel().\n",
      "  return f(**kwargs)\n"
     ]
    },
    {
     "name": "stdout",
     "output_type": "stream",
     "text": [
      "[CV] ................. C=0.1, gamma=0.1, kernel=sigmoid, total=  10.5s\n",
      "[CV] C=0.1, gamma=0.1, kernel=sigmoid ................................\n"
     ]
    },
    {
     "name": "stderr",
     "output_type": "stream",
     "text": [
      "/usr/local/lib/python3.7/site-packages/sklearn/utils/validation.py:73: DataConversionWarning: A column-vector y was passed when a 1d array was expected. Please change the shape of y to (n_samples, ), for example using ravel().\n",
      "  return f(**kwargs)\n"
     ]
    },
    {
     "name": "stdout",
     "output_type": "stream",
     "text": [
      "[CV] ................. C=0.1, gamma=0.1, kernel=sigmoid, total=  10.6s\n",
      "[CV] C=0.1, gamma=0.1, kernel=sigmoid ................................\n"
     ]
    },
    {
     "name": "stderr",
     "output_type": "stream",
     "text": [
      "/usr/local/lib/python3.7/site-packages/sklearn/utils/validation.py:73: DataConversionWarning: A column-vector y was passed when a 1d array was expected. Please change the shape of y to (n_samples, ), for example using ravel().\n",
      "  return f(**kwargs)\n"
     ]
    },
    {
     "name": "stdout",
     "output_type": "stream",
     "text": [
      "[CV] ................. C=0.1, gamma=0.1, kernel=sigmoid, total=  10.1s\n",
      "[CV] C=0.1, gamma=0.01, kernel=rbf ...................................\n"
     ]
    },
    {
     "name": "stderr",
     "output_type": "stream",
     "text": [
      "/usr/local/lib/python3.7/site-packages/sklearn/utils/validation.py:73: DataConversionWarning: A column-vector y was passed when a 1d array was expected. Please change the shape of y to (n_samples, ), for example using ravel().\n",
      "  return f(**kwargs)\n"
     ]
    },
    {
     "name": "stdout",
     "output_type": "stream",
     "text": [
      "[CV] .................... C=0.1, gamma=0.01, kernel=rbf, total=  10.6s\n",
      "[CV] C=0.1, gamma=0.01, kernel=rbf ...................................\n"
     ]
    },
    {
     "name": "stderr",
     "output_type": "stream",
     "text": [
      "/usr/local/lib/python3.7/site-packages/sklearn/utils/validation.py:73: DataConversionWarning: A column-vector y was passed when a 1d array was expected. Please change the shape of y to (n_samples, ), for example using ravel().\n",
      "  return f(**kwargs)\n"
     ]
    },
    {
     "name": "stdout",
     "output_type": "stream",
     "text": [
      "[CV] .................... C=0.1, gamma=0.01, kernel=rbf, total=  10.6s\n",
      "[CV] C=0.1, gamma=0.01, kernel=rbf ...................................\n"
     ]
    },
    {
     "name": "stderr",
     "output_type": "stream",
     "text": [
      "/usr/local/lib/python3.7/site-packages/sklearn/utils/validation.py:73: DataConversionWarning: A column-vector y was passed when a 1d array was expected. Please change the shape of y to (n_samples, ), for example using ravel().\n",
      "  return f(**kwargs)\n"
     ]
    },
    {
     "name": "stdout",
     "output_type": "stream",
     "text": [
      "[CV] .................... C=0.1, gamma=0.01, kernel=rbf, total=  10.6s\n",
      "[CV] C=0.1, gamma=0.01, kernel=rbf ...................................\n"
     ]
    },
    {
     "name": "stderr",
     "output_type": "stream",
     "text": [
      "/usr/local/lib/python3.7/site-packages/sklearn/utils/validation.py:73: DataConversionWarning: A column-vector y was passed when a 1d array was expected. Please change the shape of y to (n_samples, ), for example using ravel().\n",
      "  return f(**kwargs)\n"
     ]
    },
    {
     "name": "stdout",
     "output_type": "stream",
     "text": [
      "[CV] .................... C=0.1, gamma=0.01, kernel=rbf, total=  10.5s\n",
      "[CV] C=0.1, gamma=0.01, kernel=rbf ...................................\n"
     ]
    },
    {
     "name": "stderr",
     "output_type": "stream",
     "text": [
      "/usr/local/lib/python3.7/site-packages/sklearn/utils/validation.py:73: DataConversionWarning: A column-vector y was passed when a 1d array was expected. Please change the shape of y to (n_samples, ), for example using ravel().\n",
      "  return f(**kwargs)\n"
     ]
    },
    {
     "name": "stdout",
     "output_type": "stream",
     "text": [
      "[CV] .................... C=0.1, gamma=0.01, kernel=rbf, total=  10.7s\n",
      "[CV] C=0.1, gamma=0.01, kernel=sigmoid ...............................\n"
     ]
    },
    {
     "name": "stderr",
     "output_type": "stream",
     "text": [
      "/usr/local/lib/python3.7/site-packages/sklearn/utils/validation.py:73: DataConversionWarning: A column-vector y was passed when a 1d array was expected. Please change the shape of y to (n_samples, ), for example using ravel().\n",
      "  return f(**kwargs)\n"
     ]
    },
    {
     "name": "stdout",
     "output_type": "stream",
     "text": [
      "[CV] ................ C=0.1, gamma=0.01, kernel=sigmoid, total=  11.1s\n",
      "[CV] C=0.1, gamma=0.01, kernel=sigmoid ...............................\n"
     ]
    },
    {
     "name": "stderr",
     "output_type": "stream",
     "text": [
      "/usr/local/lib/python3.7/site-packages/sklearn/utils/validation.py:73: DataConversionWarning: A column-vector y was passed when a 1d array was expected. Please change the shape of y to (n_samples, ), for example using ravel().\n",
      "  return f(**kwargs)\n"
     ]
    },
    {
     "name": "stdout",
     "output_type": "stream",
     "text": [
      "[CV] ................ C=0.1, gamma=0.01, kernel=sigmoid, total=  11.0s\n",
      "[CV] C=0.1, gamma=0.01, kernel=sigmoid ...............................\n"
     ]
    },
    {
     "name": "stderr",
     "output_type": "stream",
     "text": [
      "/usr/local/lib/python3.7/site-packages/sklearn/utils/validation.py:73: DataConversionWarning: A column-vector y was passed when a 1d array was expected. Please change the shape of y to (n_samples, ), for example using ravel().\n",
      "  return f(**kwargs)\n"
     ]
    },
    {
     "name": "stdout",
     "output_type": "stream",
     "text": [
      "[CV] ................ C=0.1, gamma=0.01, kernel=sigmoid, total=  11.2s\n",
      "[CV] C=0.1, gamma=0.01, kernel=sigmoid ...............................\n"
     ]
    },
    {
     "name": "stderr",
     "output_type": "stream",
     "text": [
      "/usr/local/lib/python3.7/site-packages/sklearn/utils/validation.py:73: DataConversionWarning: A column-vector y was passed when a 1d array was expected. Please change the shape of y to (n_samples, ), for example using ravel().\n",
      "  return f(**kwargs)\n"
     ]
    },
    {
     "name": "stdout",
     "output_type": "stream",
     "text": [
      "[CV] ................ C=0.1, gamma=0.01, kernel=sigmoid, total=  11.0s\n",
      "[CV] C=0.1, gamma=0.01, kernel=sigmoid ...............................\n"
     ]
    },
    {
     "name": "stderr",
     "output_type": "stream",
     "text": [
      "/usr/local/lib/python3.7/site-packages/sklearn/utils/validation.py:73: DataConversionWarning: A column-vector y was passed when a 1d array was expected. Please change the shape of y to (n_samples, ), for example using ravel().\n",
      "  return f(**kwargs)\n"
     ]
    },
    {
     "name": "stdout",
     "output_type": "stream",
     "text": [
      "[CV] ................ C=0.1, gamma=0.01, kernel=sigmoid, total=  11.0s\n",
      "[CV] C=0.1, gamma=0.001, kernel=rbf ..................................\n"
     ]
    },
    {
     "name": "stderr",
     "output_type": "stream",
     "text": [
      "/usr/local/lib/python3.7/site-packages/sklearn/utils/validation.py:73: DataConversionWarning: A column-vector y was passed when a 1d array was expected. Please change the shape of y to (n_samples, ), for example using ravel().\n",
      "  return f(**kwargs)\n"
     ]
    },
    {
     "name": "stdout",
     "output_type": "stream",
     "text": [
      "[CV] ................... C=0.1, gamma=0.001, kernel=rbf, total=  15.3s\n",
      "[CV] C=0.1, gamma=0.001, kernel=rbf ..................................\n"
     ]
    },
    {
     "name": "stderr",
     "output_type": "stream",
     "text": [
      "/usr/local/lib/python3.7/site-packages/sklearn/utils/validation.py:73: DataConversionWarning: A column-vector y was passed when a 1d array was expected. Please change the shape of y to (n_samples, ), for example using ravel().\n",
      "  return f(**kwargs)\n"
     ]
    },
    {
     "name": "stdout",
     "output_type": "stream",
     "text": [
      "[CV] ................... C=0.1, gamma=0.001, kernel=rbf, total=  15.4s\n",
      "[CV] C=0.1, gamma=0.001, kernel=rbf ..................................\n"
     ]
    },
    {
     "name": "stderr",
     "output_type": "stream",
     "text": [
      "/usr/local/lib/python3.7/site-packages/sklearn/utils/validation.py:73: DataConversionWarning: A column-vector y was passed when a 1d array was expected. Please change the shape of y to (n_samples, ), for example using ravel().\n",
      "  return f(**kwargs)\n"
     ]
    },
    {
     "name": "stdout",
     "output_type": "stream",
     "text": [
      "[CV] ................... C=0.1, gamma=0.001, kernel=rbf, total=  15.3s\n",
      "[CV] C=0.1, gamma=0.001, kernel=rbf ..................................\n"
     ]
    },
    {
     "name": "stderr",
     "output_type": "stream",
     "text": [
      "/usr/local/lib/python3.7/site-packages/sklearn/utils/validation.py:73: DataConversionWarning: A column-vector y was passed when a 1d array was expected. Please change the shape of y to (n_samples, ), for example using ravel().\n",
      "  return f(**kwargs)\n"
     ]
    },
    {
     "name": "stdout",
     "output_type": "stream",
     "text": [
      "[CV] ................... C=0.1, gamma=0.001, kernel=rbf, total=  15.2s\n",
      "[CV] C=0.1, gamma=0.001, kernel=rbf ..................................\n"
     ]
    },
    {
     "name": "stderr",
     "output_type": "stream",
     "text": [
      "/usr/local/lib/python3.7/site-packages/sklearn/utils/validation.py:73: DataConversionWarning: A column-vector y was passed when a 1d array was expected. Please change the shape of y to (n_samples, ), for example using ravel().\n",
      "  return f(**kwargs)\n"
     ]
    },
    {
     "name": "stdout",
     "output_type": "stream",
     "text": [
      "[CV] ................... C=0.1, gamma=0.001, kernel=rbf, total=  15.4s\n",
      "[CV] C=0.1, gamma=0.001, kernel=sigmoid ..............................\n"
     ]
    },
    {
     "name": "stderr",
     "output_type": "stream",
     "text": [
      "/usr/local/lib/python3.7/site-packages/sklearn/utils/validation.py:73: DataConversionWarning: A column-vector y was passed when a 1d array was expected. Please change the shape of y to (n_samples, ), for example using ravel().\n",
      "  return f(**kwargs)\n"
     ]
    },
    {
     "name": "stdout",
     "output_type": "stream",
     "text": [
      "[CV] ............... C=0.1, gamma=0.001, kernel=sigmoid, total=  15.2s\n",
      "[CV] C=0.1, gamma=0.001, kernel=sigmoid ..............................\n"
     ]
    },
    {
     "name": "stderr",
     "output_type": "stream",
     "text": [
      "/usr/local/lib/python3.7/site-packages/sklearn/utils/validation.py:73: DataConversionWarning: A column-vector y was passed when a 1d array was expected. Please change the shape of y to (n_samples, ), for example using ravel().\n",
      "  return f(**kwargs)\n"
     ]
    },
    {
     "name": "stdout",
     "output_type": "stream",
     "text": [
      "[CV] ............... C=0.1, gamma=0.001, kernel=sigmoid, total=  15.2s\n",
      "[CV] C=0.1, gamma=0.001, kernel=sigmoid ..............................\n"
     ]
    },
    {
     "name": "stderr",
     "output_type": "stream",
     "text": [
      "/usr/local/lib/python3.7/site-packages/sklearn/utils/validation.py:73: DataConversionWarning: A column-vector y was passed when a 1d array was expected. Please change the shape of y to (n_samples, ), for example using ravel().\n",
      "  return f(**kwargs)\n"
     ]
    },
    {
     "name": "stdout",
     "output_type": "stream",
     "text": [
      "[CV] ............... C=0.1, gamma=0.001, kernel=sigmoid, total=  15.3s\n",
      "[CV] C=0.1, gamma=0.001, kernel=sigmoid ..............................\n"
     ]
    },
    {
     "name": "stderr",
     "output_type": "stream",
     "text": [
      "/usr/local/lib/python3.7/site-packages/sklearn/utils/validation.py:73: DataConversionWarning: A column-vector y was passed when a 1d array was expected. Please change the shape of y to (n_samples, ), for example using ravel().\n",
      "  return f(**kwargs)\n"
     ]
    },
    {
     "name": "stdout",
     "output_type": "stream",
     "text": [
      "[CV] ............... C=0.1, gamma=0.001, kernel=sigmoid, total=  15.2s\n",
      "[CV] C=0.1, gamma=0.001, kernel=sigmoid ..............................\n"
     ]
    },
    {
     "name": "stderr",
     "output_type": "stream",
     "text": [
      "/usr/local/lib/python3.7/site-packages/sklearn/utils/validation.py:73: DataConversionWarning: A column-vector y was passed when a 1d array was expected. Please change the shape of y to (n_samples, ), for example using ravel().\n",
      "  return f(**kwargs)\n"
     ]
    },
    {
     "name": "stdout",
     "output_type": "stream",
     "text": [
      "[CV] ............... C=0.1, gamma=0.001, kernel=sigmoid, total=  15.3s\n",
      "[CV] C=10, gamma=1, kernel=rbf .......................................\n"
     ]
    },
    {
     "name": "stderr",
     "output_type": "stream",
     "text": [
      "/usr/local/lib/python3.7/site-packages/sklearn/utils/validation.py:73: DataConversionWarning: A column-vector y was passed when a 1d array was expected. Please change the shape of y to (n_samples, ), for example using ravel().\n",
      "  return f(**kwargs)\n"
     ]
    },
    {
     "name": "stdout",
     "output_type": "stream",
     "text": [
      "[CV] ........................ C=10, gamma=1, kernel=rbf, total=  25.4s\n",
      "[CV] C=10, gamma=1, kernel=rbf .......................................\n"
     ]
    },
    {
     "name": "stderr",
     "output_type": "stream",
     "text": [
      "/usr/local/lib/python3.7/site-packages/sklearn/utils/validation.py:73: DataConversionWarning: A column-vector y was passed when a 1d array was expected. Please change the shape of y to (n_samples, ), for example using ravel().\n",
      "  return f(**kwargs)\n"
     ]
    },
    {
     "name": "stdout",
     "output_type": "stream",
     "text": [
      "[CV] ........................ C=10, gamma=1, kernel=rbf, total=  25.3s\n",
      "[CV] C=10, gamma=1, kernel=rbf .......................................\n"
     ]
    },
    {
     "name": "stderr",
     "output_type": "stream",
     "text": [
      "/usr/local/lib/python3.7/site-packages/sklearn/utils/validation.py:73: DataConversionWarning: A column-vector y was passed when a 1d array was expected. Please change the shape of y to (n_samples, ), for example using ravel().\n",
      "  return f(**kwargs)\n"
     ]
    },
    {
     "name": "stdout",
     "output_type": "stream",
     "text": [
      "[CV] ........................ C=10, gamma=1, kernel=rbf, total=  25.1s\n",
      "[CV] C=10, gamma=1, kernel=rbf .......................................\n"
     ]
    },
    {
     "name": "stderr",
     "output_type": "stream",
     "text": [
      "/usr/local/lib/python3.7/site-packages/sklearn/utils/validation.py:73: DataConversionWarning: A column-vector y was passed when a 1d array was expected. Please change the shape of y to (n_samples, ), for example using ravel().\n",
      "  return f(**kwargs)\n"
     ]
    },
    {
     "name": "stdout",
     "output_type": "stream",
     "text": [
      "[CV] ........................ C=10, gamma=1, kernel=rbf, total=  25.3s\n",
      "[CV] C=10, gamma=1, kernel=rbf .......................................\n"
     ]
    },
    {
     "name": "stderr",
     "output_type": "stream",
     "text": [
      "/usr/local/lib/python3.7/site-packages/sklearn/utils/validation.py:73: DataConversionWarning: A column-vector y was passed when a 1d array was expected. Please change the shape of y to (n_samples, ), for example using ravel().\n",
      "  return f(**kwargs)\n"
     ]
    },
    {
     "name": "stdout",
     "output_type": "stream",
     "text": [
      "[CV] ........................ C=10, gamma=1, kernel=rbf, total=  25.3s\n",
      "[CV] C=10, gamma=1, kernel=sigmoid ...................................\n"
     ]
    },
    {
     "name": "stderr",
     "output_type": "stream",
     "text": [
      "/usr/local/lib/python3.7/site-packages/sklearn/utils/validation.py:73: DataConversionWarning: A column-vector y was passed when a 1d array was expected. Please change the shape of y to (n_samples, ), for example using ravel().\n",
      "  return f(**kwargs)\n"
     ]
    },
    {
     "name": "stdout",
     "output_type": "stream",
     "text": [
      "[CV] .................... C=10, gamma=1, kernel=sigmoid, total=  10.3s\n",
      "[CV] C=10, gamma=1, kernel=sigmoid ...................................\n"
     ]
    },
    {
     "name": "stderr",
     "output_type": "stream",
     "text": [
      "/usr/local/lib/python3.7/site-packages/sklearn/utils/validation.py:73: DataConversionWarning: A column-vector y was passed when a 1d array was expected. Please change the shape of y to (n_samples, ), for example using ravel().\n",
      "  return f(**kwargs)\n"
     ]
    },
    {
     "name": "stdout",
     "output_type": "stream",
     "text": [
      "[CV] .................... C=10, gamma=1, kernel=sigmoid, total=  10.8s\n",
      "[CV] C=10, gamma=1, kernel=sigmoid ...................................\n"
     ]
    },
    {
     "name": "stderr",
     "output_type": "stream",
     "text": [
      "/usr/local/lib/python3.7/site-packages/sklearn/utils/validation.py:73: DataConversionWarning: A column-vector y was passed when a 1d array was expected. Please change the shape of y to (n_samples, ), for example using ravel().\n",
      "  return f(**kwargs)\n"
     ]
    },
    {
     "name": "stdout",
     "output_type": "stream",
     "text": [
      "[CV] .................... C=10, gamma=1, kernel=sigmoid, total=  10.2s\n",
      "[CV] C=10, gamma=1, kernel=sigmoid ...................................\n"
     ]
    },
    {
     "name": "stderr",
     "output_type": "stream",
     "text": [
      "/usr/local/lib/python3.7/site-packages/sklearn/utils/validation.py:73: DataConversionWarning: A column-vector y was passed when a 1d array was expected. Please change the shape of y to (n_samples, ), for example using ravel().\n",
      "  return f(**kwargs)\n"
     ]
    },
    {
     "name": "stdout",
     "output_type": "stream",
     "text": [
      "[CV] .................... C=10, gamma=1, kernel=sigmoid, total=  10.9s\n",
      "[CV] C=10, gamma=1, kernel=sigmoid ...................................\n"
     ]
    },
    {
     "name": "stderr",
     "output_type": "stream",
     "text": [
      "/usr/local/lib/python3.7/site-packages/sklearn/utils/validation.py:73: DataConversionWarning: A column-vector y was passed when a 1d array was expected. Please change the shape of y to (n_samples, ), for example using ravel().\n",
      "  return f(**kwargs)\n"
     ]
    },
    {
     "name": "stdout",
     "output_type": "stream",
     "text": [
      "[CV] .................... C=10, gamma=1, kernel=sigmoid, total=  11.0s\n",
      "[CV] C=10, gamma=0.1, kernel=rbf .....................................\n"
     ]
    },
    {
     "name": "stderr",
     "output_type": "stream",
     "text": [
      "/usr/local/lib/python3.7/site-packages/sklearn/utils/validation.py:73: DataConversionWarning: A column-vector y was passed when a 1d array was expected. Please change the shape of y to (n_samples, ), for example using ravel().\n",
      "  return f(**kwargs)\n"
     ]
    },
    {
     "name": "stdout",
     "output_type": "stream",
     "text": [
      "[CV] ...................... C=10, gamma=0.1, kernel=rbf, total=  16.2s\n",
      "[CV] C=10, gamma=0.1, kernel=rbf .....................................\n"
     ]
    },
    {
     "name": "stderr",
     "output_type": "stream",
     "text": [
      "/usr/local/lib/python3.7/site-packages/sklearn/utils/validation.py:73: DataConversionWarning: A column-vector y was passed when a 1d array was expected. Please change the shape of y to (n_samples, ), for example using ravel().\n",
      "  return f(**kwargs)\n"
     ]
    },
    {
     "name": "stdout",
     "output_type": "stream",
     "text": [
      "[CV] ...................... C=10, gamma=0.1, kernel=rbf, total=  15.7s\n",
      "[CV] C=10, gamma=0.1, kernel=rbf .....................................\n"
     ]
    },
    {
     "name": "stderr",
     "output_type": "stream",
     "text": [
      "/usr/local/lib/python3.7/site-packages/sklearn/utils/validation.py:73: DataConversionWarning: A column-vector y was passed when a 1d array was expected. Please change the shape of y to (n_samples, ), for example using ravel().\n",
      "  return f(**kwargs)\n"
     ]
    },
    {
     "name": "stdout",
     "output_type": "stream",
     "text": [
      "[CV] ...................... C=10, gamma=0.1, kernel=rbf, total=  17.1s\n",
      "[CV] C=10, gamma=0.1, kernel=rbf .....................................\n"
     ]
    },
    {
     "name": "stderr",
     "output_type": "stream",
     "text": [
      "/usr/local/lib/python3.7/site-packages/sklearn/utils/validation.py:73: DataConversionWarning: A column-vector y was passed when a 1d array was expected. Please change the shape of y to (n_samples, ), for example using ravel().\n",
      "  return f(**kwargs)\n"
     ]
    },
    {
     "name": "stdout",
     "output_type": "stream",
     "text": [
      "[CV] ...................... C=10, gamma=0.1, kernel=rbf, total=  16.3s\n",
      "[CV] C=10, gamma=0.1, kernel=rbf .....................................\n"
     ]
    },
    {
     "name": "stderr",
     "output_type": "stream",
     "text": [
      "/usr/local/lib/python3.7/site-packages/sklearn/utils/validation.py:73: DataConversionWarning: A column-vector y was passed when a 1d array was expected. Please change the shape of y to (n_samples, ), for example using ravel().\n",
      "  return f(**kwargs)\n"
     ]
    },
    {
     "name": "stdout",
     "output_type": "stream",
     "text": [
      "[CV] ...................... C=10, gamma=0.1, kernel=rbf, total=  16.2s\n",
      "[CV] C=10, gamma=0.1, kernel=sigmoid .................................\n"
     ]
    },
    {
     "name": "stderr",
     "output_type": "stream",
     "text": [
      "/usr/local/lib/python3.7/site-packages/sklearn/utils/validation.py:73: DataConversionWarning: A column-vector y was passed when a 1d array was expected. Please change the shape of y to (n_samples, ), for example using ravel().\n",
      "  return f(**kwargs)\n"
     ]
    },
    {
     "name": "stdout",
     "output_type": "stream",
     "text": [
      "[CV] .................. C=10, gamma=0.1, kernel=sigmoid, total=  10.0s\n",
      "[CV] C=10, gamma=0.1, kernel=sigmoid .................................\n"
     ]
    },
    {
     "name": "stderr",
     "output_type": "stream",
     "text": [
      "/usr/local/lib/python3.7/site-packages/sklearn/utils/validation.py:73: DataConversionWarning: A column-vector y was passed when a 1d array was expected. Please change the shape of y to (n_samples, ), for example using ravel().\n",
      "  return f(**kwargs)\n"
     ]
    },
    {
     "name": "stdout",
     "output_type": "stream",
     "text": [
      "[CV] .................. C=10, gamma=0.1, kernel=sigmoid, total=  10.1s\n",
      "[CV] C=10, gamma=0.1, kernel=sigmoid .................................\n"
     ]
    },
    {
     "name": "stderr",
     "output_type": "stream",
     "text": [
      "/usr/local/lib/python3.7/site-packages/sklearn/utils/validation.py:73: DataConversionWarning: A column-vector y was passed when a 1d array was expected. Please change the shape of y to (n_samples, ), for example using ravel().\n",
      "  return f(**kwargs)\n"
     ]
    },
    {
     "name": "stdout",
     "output_type": "stream",
     "text": [
      "[CV] .................. C=10, gamma=0.1, kernel=sigmoid, total=   9.4s\n",
      "[CV] C=10, gamma=0.1, kernel=sigmoid .................................\n"
     ]
    },
    {
     "name": "stderr",
     "output_type": "stream",
     "text": [
      "/usr/local/lib/python3.7/site-packages/sklearn/utils/validation.py:73: DataConversionWarning: A column-vector y was passed when a 1d array was expected. Please change the shape of y to (n_samples, ), for example using ravel().\n",
      "  return f(**kwargs)\n"
     ]
    },
    {
     "name": "stdout",
     "output_type": "stream",
     "text": [
      "[CV] .................. C=10, gamma=0.1, kernel=sigmoid, total=  10.2s\n",
      "[CV] C=10, gamma=0.1, kernel=sigmoid .................................\n"
     ]
    },
    {
     "name": "stderr",
     "output_type": "stream",
     "text": [
      "/usr/local/lib/python3.7/site-packages/sklearn/utils/validation.py:73: DataConversionWarning: A column-vector y was passed when a 1d array was expected. Please change the shape of y to (n_samples, ), for example using ravel().\n",
      "  return f(**kwargs)\n"
     ]
    },
    {
     "name": "stdout",
     "output_type": "stream",
     "text": [
      "[CV] .................. C=10, gamma=0.1, kernel=sigmoid, total=   9.6s\n",
      "[CV] C=10, gamma=0.01, kernel=rbf ....................................\n"
     ]
    },
    {
     "name": "stderr",
     "output_type": "stream",
     "text": [
      "/usr/local/lib/python3.7/site-packages/sklearn/utils/validation.py:73: DataConversionWarning: A column-vector y was passed when a 1d array was expected. Please change the shape of y to (n_samples, ), for example using ravel().\n",
      "  return f(**kwargs)\n"
     ]
    },
    {
     "name": "stdout",
     "output_type": "stream",
     "text": [
      "[CV] ..................... C=10, gamma=0.01, kernel=rbf, total=   5.8s\n",
      "[CV] C=10, gamma=0.01, kernel=rbf ....................................\n"
     ]
    },
    {
     "name": "stderr",
     "output_type": "stream",
     "text": [
      "/usr/local/lib/python3.7/site-packages/sklearn/utils/validation.py:73: DataConversionWarning: A column-vector y was passed when a 1d array was expected. Please change the shape of y to (n_samples, ), for example using ravel().\n",
      "  return f(**kwargs)\n"
     ]
    },
    {
     "name": "stdout",
     "output_type": "stream",
     "text": [
      "[CV] ..................... C=10, gamma=0.01, kernel=rbf, total=   5.8s\n",
      "[CV] C=10, gamma=0.01, kernel=rbf ....................................\n"
     ]
    },
    {
     "name": "stderr",
     "output_type": "stream",
     "text": [
      "/usr/local/lib/python3.7/site-packages/sklearn/utils/validation.py:73: DataConversionWarning: A column-vector y was passed when a 1d array was expected. Please change the shape of y to (n_samples, ), for example using ravel().\n",
      "  return f(**kwargs)\n"
     ]
    },
    {
     "name": "stdout",
     "output_type": "stream",
     "text": [
      "[CV] ..................... C=10, gamma=0.01, kernel=rbf, total=   5.9s\n",
      "[CV] C=10, gamma=0.01, kernel=rbf ....................................\n"
     ]
    },
    {
     "name": "stderr",
     "output_type": "stream",
     "text": [
      "/usr/local/lib/python3.7/site-packages/sklearn/utils/validation.py:73: DataConversionWarning: A column-vector y was passed when a 1d array was expected. Please change the shape of y to (n_samples, ), for example using ravel().\n",
      "  return f(**kwargs)\n"
     ]
    },
    {
     "name": "stdout",
     "output_type": "stream",
     "text": [
      "[CV] ..................... C=10, gamma=0.01, kernel=rbf, total=   5.9s\n",
      "[CV] C=10, gamma=0.01, kernel=rbf ....................................\n"
     ]
    },
    {
     "name": "stderr",
     "output_type": "stream",
     "text": [
      "/usr/local/lib/python3.7/site-packages/sklearn/utils/validation.py:73: DataConversionWarning: A column-vector y was passed when a 1d array was expected. Please change the shape of y to (n_samples, ), for example using ravel().\n",
      "  return f(**kwargs)\n"
     ]
    },
    {
     "name": "stdout",
     "output_type": "stream",
     "text": [
      "[CV] ..................... C=10, gamma=0.01, kernel=rbf, total=   5.9s\n",
      "[CV] C=10, gamma=0.01, kernel=sigmoid ................................\n"
     ]
    },
    {
     "name": "stderr",
     "output_type": "stream",
     "text": [
      "/usr/local/lib/python3.7/site-packages/sklearn/utils/validation.py:73: DataConversionWarning: A column-vector y was passed when a 1d array was expected. Please change the shape of y to (n_samples, ), for example using ravel().\n",
      "  return f(**kwargs)\n"
     ]
    },
    {
     "name": "stdout",
     "output_type": "stream",
     "text": [
      "[CV] ................. C=10, gamma=0.01, kernel=sigmoid, total=   4.7s\n",
      "[CV] C=10, gamma=0.01, kernel=sigmoid ................................\n"
     ]
    },
    {
     "name": "stderr",
     "output_type": "stream",
     "text": [
      "/usr/local/lib/python3.7/site-packages/sklearn/utils/validation.py:73: DataConversionWarning: A column-vector y was passed when a 1d array was expected. Please change the shape of y to (n_samples, ), for example using ravel().\n",
      "  return f(**kwargs)\n"
     ]
    },
    {
     "name": "stdout",
     "output_type": "stream",
     "text": [
      "[CV] ................. C=10, gamma=0.01, kernel=sigmoid, total=   4.7s\n",
      "[CV] C=10, gamma=0.01, kernel=sigmoid ................................\n"
     ]
    },
    {
     "name": "stderr",
     "output_type": "stream",
     "text": [
      "/usr/local/lib/python3.7/site-packages/sklearn/utils/validation.py:73: DataConversionWarning: A column-vector y was passed when a 1d array was expected. Please change the shape of y to (n_samples, ), for example using ravel().\n",
      "  return f(**kwargs)\n"
     ]
    },
    {
     "name": "stdout",
     "output_type": "stream",
     "text": [
      "[CV] ................. C=10, gamma=0.01, kernel=sigmoid, total=   4.7s\n",
      "[CV] C=10, gamma=0.01, kernel=sigmoid ................................\n"
     ]
    },
    {
     "name": "stderr",
     "output_type": "stream",
     "text": [
      "/usr/local/lib/python3.7/site-packages/sklearn/utils/validation.py:73: DataConversionWarning: A column-vector y was passed when a 1d array was expected. Please change the shape of y to (n_samples, ), for example using ravel().\n",
      "  return f(**kwargs)\n"
     ]
    },
    {
     "name": "stdout",
     "output_type": "stream",
     "text": [
      "[CV] ................. C=10, gamma=0.01, kernel=sigmoid, total=   4.7s\n",
      "[CV] C=10, gamma=0.01, kernel=sigmoid ................................\n"
     ]
    },
    {
     "name": "stderr",
     "output_type": "stream",
     "text": [
      "/usr/local/lib/python3.7/site-packages/sklearn/utils/validation.py:73: DataConversionWarning: A column-vector y was passed when a 1d array was expected. Please change the shape of y to (n_samples, ), for example using ravel().\n",
      "  return f(**kwargs)\n"
     ]
    },
    {
     "name": "stdout",
     "output_type": "stream",
     "text": [
      "[CV] ................. C=10, gamma=0.01, kernel=sigmoid, total=   4.7s\n",
      "[CV] C=10, gamma=0.001, kernel=rbf ...................................\n"
     ]
    },
    {
     "name": "stderr",
     "output_type": "stream",
     "text": [
      "/usr/local/lib/python3.7/site-packages/sklearn/utils/validation.py:73: DataConversionWarning: A column-vector y was passed when a 1d array was expected. Please change the shape of y to (n_samples, ), for example using ravel().\n",
      "  return f(**kwargs)\n"
     ]
    },
    {
     "name": "stdout",
     "output_type": "stream",
     "text": [
      "[CV] .................... C=10, gamma=0.001, kernel=rbf, total=   6.9s\n",
      "[CV] C=10, gamma=0.001, kernel=rbf ...................................\n"
     ]
    },
    {
     "name": "stderr",
     "output_type": "stream",
     "text": [
      "/usr/local/lib/python3.7/site-packages/sklearn/utils/validation.py:73: DataConversionWarning: A column-vector y was passed when a 1d array was expected. Please change the shape of y to (n_samples, ), for example using ravel().\n",
      "  return f(**kwargs)\n"
     ]
    },
    {
     "name": "stdout",
     "output_type": "stream",
     "text": [
      "[CV] .................... C=10, gamma=0.001, kernel=rbf, total=   6.8s\n",
      "[CV] C=10, gamma=0.001, kernel=rbf ...................................\n"
     ]
    },
    {
     "name": "stderr",
     "output_type": "stream",
     "text": [
      "/usr/local/lib/python3.7/site-packages/sklearn/utils/validation.py:73: DataConversionWarning: A column-vector y was passed when a 1d array was expected. Please change the shape of y to (n_samples, ), for example using ravel().\n",
      "  return f(**kwargs)\n"
     ]
    },
    {
     "name": "stdout",
     "output_type": "stream",
     "text": [
      "[CV] .................... C=10, gamma=0.001, kernel=rbf, total=   7.0s\n",
      "[CV] C=10, gamma=0.001, kernel=rbf ...................................\n"
     ]
    },
    {
     "name": "stderr",
     "output_type": "stream",
     "text": [
      "/usr/local/lib/python3.7/site-packages/sklearn/utils/validation.py:73: DataConversionWarning: A column-vector y was passed when a 1d array was expected. Please change the shape of y to (n_samples, ), for example using ravel().\n",
      "  return f(**kwargs)\n"
     ]
    },
    {
     "name": "stdout",
     "output_type": "stream",
     "text": [
      "[CV] .................... C=10, gamma=0.001, kernel=rbf, total=   7.0s\n",
      "[CV] C=10, gamma=0.001, kernel=rbf ...................................\n"
     ]
    },
    {
     "name": "stderr",
     "output_type": "stream",
     "text": [
      "/usr/local/lib/python3.7/site-packages/sklearn/utils/validation.py:73: DataConversionWarning: A column-vector y was passed when a 1d array was expected. Please change the shape of y to (n_samples, ), for example using ravel().\n",
      "  return f(**kwargs)\n"
     ]
    },
    {
     "name": "stdout",
     "output_type": "stream",
     "text": [
      "[CV] .................... C=10, gamma=0.001, kernel=rbf, total=   7.0s\n",
      "[CV] C=10, gamma=0.001, kernel=sigmoid ...............................\n"
     ]
    },
    {
     "name": "stderr",
     "output_type": "stream",
     "text": [
      "/usr/local/lib/python3.7/site-packages/sklearn/utils/validation.py:73: DataConversionWarning: A column-vector y was passed when a 1d array was expected. Please change the shape of y to (n_samples, ), for example using ravel().\n",
      "  return f(**kwargs)\n"
     ]
    },
    {
     "name": "stdout",
     "output_type": "stream",
     "text": [
      "[CV] ................ C=10, gamma=0.001, kernel=sigmoid, total=   6.9s\n",
      "[CV] C=10, gamma=0.001, kernel=sigmoid ...............................\n"
     ]
    },
    {
     "name": "stderr",
     "output_type": "stream",
     "text": [
      "/usr/local/lib/python3.7/site-packages/sklearn/utils/validation.py:73: DataConversionWarning: A column-vector y was passed when a 1d array was expected. Please change the shape of y to (n_samples, ), for example using ravel().\n",
      "  return f(**kwargs)\n"
     ]
    },
    {
     "name": "stdout",
     "output_type": "stream",
     "text": [
      "[CV] ................ C=10, gamma=0.001, kernel=sigmoid, total=   6.6s\n",
      "[CV] C=10, gamma=0.001, kernel=sigmoid ...............................\n"
     ]
    },
    {
     "name": "stderr",
     "output_type": "stream",
     "text": [
      "/usr/local/lib/python3.7/site-packages/sklearn/utils/validation.py:73: DataConversionWarning: A column-vector y was passed when a 1d array was expected. Please change the shape of y to (n_samples, ), for example using ravel().\n",
      "  return f(**kwargs)\n"
     ]
    },
    {
     "name": "stdout",
     "output_type": "stream",
     "text": [
      "[CV] ................ C=10, gamma=0.001, kernel=sigmoid, total=   6.7s\n",
      "[CV] C=10, gamma=0.001, kernel=sigmoid ...............................\n"
     ]
    },
    {
     "name": "stderr",
     "output_type": "stream",
     "text": [
      "/usr/local/lib/python3.7/site-packages/sklearn/utils/validation.py:73: DataConversionWarning: A column-vector y was passed when a 1d array was expected. Please change the shape of y to (n_samples, ), for example using ravel().\n",
      "  return f(**kwargs)\n"
     ]
    },
    {
     "name": "stdout",
     "output_type": "stream",
     "text": [
      "[CV] ................ C=10, gamma=0.001, kernel=sigmoid, total=   6.7s\n",
      "[CV] C=10, gamma=0.001, kernel=sigmoid ...............................\n"
     ]
    },
    {
     "name": "stderr",
     "output_type": "stream",
     "text": [
      "/usr/local/lib/python3.7/site-packages/sklearn/utils/validation.py:73: DataConversionWarning: A column-vector y was passed when a 1d array was expected. Please change the shape of y to (n_samples, ), for example using ravel().\n",
      "  return f(**kwargs)\n"
     ]
    },
    {
     "name": "stdout",
     "output_type": "stream",
     "text": [
      "[CV] ................ C=10, gamma=0.001, kernel=sigmoid, total=   6.5s\n",
      "[CV] C=100, gamma=1, kernel=rbf ......................................\n"
     ]
    },
    {
     "name": "stderr",
     "output_type": "stream",
     "text": [
      "/usr/local/lib/python3.7/site-packages/sklearn/utils/validation.py:73: DataConversionWarning: A column-vector y was passed when a 1d array was expected. Please change the shape of y to (n_samples, ), for example using ravel().\n",
      "  return f(**kwargs)\n"
     ]
    },
    {
     "name": "stdout",
     "output_type": "stream",
     "text": [
      "[CV] ....................... C=100, gamma=1, kernel=rbf, total=  24.3s\n",
      "[CV] C=100, gamma=1, kernel=rbf ......................................\n"
     ]
    },
    {
     "name": "stderr",
     "output_type": "stream",
     "text": [
      "/usr/local/lib/python3.7/site-packages/sklearn/utils/validation.py:73: DataConversionWarning: A column-vector y was passed when a 1d array was expected. Please change the shape of y to (n_samples, ), for example using ravel().\n",
      "  return f(**kwargs)\n"
     ]
    },
    {
     "name": "stdout",
     "output_type": "stream",
     "text": [
      "[CV] ....................... C=100, gamma=1, kernel=rbf, total=  24.4s\n",
      "[CV] C=100, gamma=1, kernel=rbf ......................................\n"
     ]
    },
    {
     "name": "stderr",
     "output_type": "stream",
     "text": [
      "/usr/local/lib/python3.7/site-packages/sklearn/utils/validation.py:73: DataConversionWarning: A column-vector y was passed when a 1d array was expected. Please change the shape of y to (n_samples, ), for example using ravel().\n",
      "  return f(**kwargs)\n"
     ]
    },
    {
     "name": "stdout",
     "output_type": "stream",
     "text": [
      "[CV] ....................... C=100, gamma=1, kernel=rbf, total=  24.2s\n",
      "[CV] C=100, gamma=1, kernel=rbf ......................................\n"
     ]
    },
    {
     "name": "stderr",
     "output_type": "stream",
     "text": [
      "/usr/local/lib/python3.7/site-packages/sklearn/utils/validation.py:73: DataConversionWarning: A column-vector y was passed when a 1d array was expected. Please change the shape of y to (n_samples, ), for example using ravel().\n",
      "  return f(**kwargs)\n"
     ]
    },
    {
     "name": "stdout",
     "output_type": "stream",
     "text": [
      "[CV] ....................... C=100, gamma=1, kernel=rbf, total=  24.3s\n",
      "[CV] C=100, gamma=1, kernel=rbf ......................................\n"
     ]
    },
    {
     "name": "stderr",
     "output_type": "stream",
     "text": [
      "/usr/local/lib/python3.7/site-packages/sklearn/utils/validation.py:73: DataConversionWarning: A column-vector y was passed when a 1d array was expected. Please change the shape of y to (n_samples, ), for example using ravel().\n",
      "  return f(**kwargs)\n"
     ]
    },
    {
     "name": "stdout",
     "output_type": "stream",
     "text": [
      "[CV] ....................... C=100, gamma=1, kernel=rbf, total=  24.4s\n",
      "[CV] C=100, gamma=1, kernel=sigmoid ..................................\n"
     ]
    },
    {
     "name": "stderr",
     "output_type": "stream",
     "text": [
      "/usr/local/lib/python3.7/site-packages/sklearn/utils/validation.py:73: DataConversionWarning: A column-vector y was passed when a 1d array was expected. Please change the shape of y to (n_samples, ), for example using ravel().\n",
      "  return f(**kwargs)\n"
     ]
    },
    {
     "name": "stdout",
     "output_type": "stream",
     "text": [
      "[CV] ................... C=100, gamma=1, kernel=sigmoid, total=  10.6s\n",
      "[CV] C=100, gamma=1, kernel=sigmoid ..................................\n"
     ]
    },
    {
     "name": "stderr",
     "output_type": "stream",
     "text": [
      "/usr/local/lib/python3.7/site-packages/sklearn/utils/validation.py:73: DataConversionWarning: A column-vector y was passed when a 1d array was expected. Please change the shape of y to (n_samples, ), for example using ravel().\n",
      "  return f(**kwargs)\n"
     ]
    },
    {
     "name": "stdout",
     "output_type": "stream",
     "text": [
      "[CV] ................... C=100, gamma=1, kernel=sigmoid, total=  10.8s\n",
      "[CV] C=100, gamma=1, kernel=sigmoid ..................................\n"
     ]
    },
    {
     "name": "stderr",
     "output_type": "stream",
     "text": [
      "/usr/local/lib/python3.7/site-packages/sklearn/utils/validation.py:73: DataConversionWarning: A column-vector y was passed when a 1d array was expected. Please change the shape of y to (n_samples, ), for example using ravel().\n",
      "  return f(**kwargs)\n"
     ]
    },
    {
     "name": "stdout",
     "output_type": "stream",
     "text": [
      "[CV] ................... C=100, gamma=1, kernel=sigmoid, total=  10.0s\n",
      "[CV] C=100, gamma=1, kernel=sigmoid ..................................\n"
     ]
    },
    {
     "name": "stderr",
     "output_type": "stream",
     "text": [
      "/usr/local/lib/python3.7/site-packages/sklearn/utils/validation.py:73: DataConversionWarning: A column-vector y was passed when a 1d array was expected. Please change the shape of y to (n_samples, ), for example using ravel().\n",
      "  return f(**kwargs)\n"
     ]
    },
    {
     "name": "stdout",
     "output_type": "stream",
     "text": [
      "[CV] ................... C=100, gamma=1, kernel=sigmoid, total=  10.3s\n",
      "[CV] C=100, gamma=1, kernel=sigmoid ..................................\n"
     ]
    },
    {
     "name": "stderr",
     "output_type": "stream",
     "text": [
      "/usr/local/lib/python3.7/site-packages/sklearn/utils/validation.py:73: DataConversionWarning: A column-vector y was passed when a 1d array was expected. Please change the shape of y to (n_samples, ), for example using ravel().\n",
      "  return f(**kwargs)\n"
     ]
    },
    {
     "name": "stdout",
     "output_type": "stream",
     "text": [
      "[CV] ................... C=100, gamma=1, kernel=sigmoid, total=  10.9s\n",
      "[CV] C=100, gamma=0.1, kernel=rbf ....................................\n"
     ]
    },
    {
     "name": "stderr",
     "output_type": "stream",
     "text": [
      "/usr/local/lib/python3.7/site-packages/sklearn/utils/validation.py:73: DataConversionWarning: A column-vector y was passed when a 1d array was expected. Please change the shape of y to (n_samples, ), for example using ravel().\n",
      "  return f(**kwargs)\n"
     ]
    },
    {
     "name": "stdout",
     "output_type": "stream",
     "text": [
      "[CV] ..................... C=100, gamma=0.1, kernel=rbf, total=  16.0s\n",
      "[CV] C=100, gamma=0.1, kernel=rbf ....................................\n"
     ]
    },
    {
     "name": "stderr",
     "output_type": "stream",
     "text": [
      "/usr/local/lib/python3.7/site-packages/sklearn/utils/validation.py:73: DataConversionWarning: A column-vector y was passed when a 1d array was expected. Please change the shape of y to (n_samples, ), for example using ravel().\n",
      "  return f(**kwargs)\n"
     ]
    },
    {
     "name": "stdout",
     "output_type": "stream",
     "text": [
      "[CV] ..................... C=100, gamma=0.1, kernel=rbf, total=  15.2s\n",
      "[CV] C=100, gamma=0.1, kernel=rbf ....................................\n"
     ]
    },
    {
     "name": "stderr",
     "output_type": "stream",
     "text": [
      "/usr/local/lib/python3.7/site-packages/sklearn/utils/validation.py:73: DataConversionWarning: A column-vector y was passed when a 1d array was expected. Please change the shape of y to (n_samples, ), for example using ravel().\n",
      "  return f(**kwargs)\n"
     ]
    },
    {
     "name": "stdout",
     "output_type": "stream",
     "text": [
      "[CV] ..................... C=100, gamma=0.1, kernel=rbf, total=  16.4s\n",
      "[CV] C=100, gamma=0.1, kernel=rbf ....................................\n"
     ]
    },
    {
     "name": "stderr",
     "output_type": "stream",
     "text": [
      "/usr/local/lib/python3.7/site-packages/sklearn/utils/validation.py:73: DataConversionWarning: A column-vector y was passed when a 1d array was expected. Please change the shape of y to (n_samples, ), for example using ravel().\n",
      "  return f(**kwargs)\n"
     ]
    },
    {
     "name": "stdout",
     "output_type": "stream",
     "text": [
      "[CV] ..................... C=100, gamma=0.1, kernel=rbf, total=  15.6s\n",
      "[CV] C=100, gamma=0.1, kernel=rbf ....................................\n"
     ]
    },
    {
     "name": "stderr",
     "output_type": "stream",
     "text": [
      "/usr/local/lib/python3.7/site-packages/sklearn/utils/validation.py:73: DataConversionWarning: A column-vector y was passed when a 1d array was expected. Please change the shape of y to (n_samples, ), for example using ravel().\n",
      "  return f(**kwargs)\n"
     ]
    },
    {
     "name": "stdout",
     "output_type": "stream",
     "text": [
      "[CV] ..................... C=100, gamma=0.1, kernel=rbf, total=  15.5s\n",
      "[CV] C=100, gamma=0.1, kernel=sigmoid ................................\n"
     ]
    },
    {
     "name": "stderr",
     "output_type": "stream",
     "text": [
      "/usr/local/lib/python3.7/site-packages/sklearn/utils/validation.py:73: DataConversionWarning: A column-vector y was passed when a 1d array was expected. Please change the shape of y to (n_samples, ), for example using ravel().\n",
      "  return f(**kwargs)\n"
     ]
    },
    {
     "name": "stdout",
     "output_type": "stream",
     "text": [
      "[CV] ................. C=100, gamma=0.1, kernel=sigmoid, total=   9.4s\n",
      "[CV] C=100, gamma=0.1, kernel=sigmoid ................................\n"
     ]
    },
    {
     "name": "stderr",
     "output_type": "stream",
     "text": [
      "/usr/local/lib/python3.7/site-packages/sklearn/utils/validation.py:73: DataConversionWarning: A column-vector y was passed when a 1d array was expected. Please change the shape of y to (n_samples, ), for example using ravel().\n",
      "  return f(**kwargs)\n"
     ]
    },
    {
     "name": "stdout",
     "output_type": "stream",
     "text": [
      "[CV] ................. C=100, gamma=0.1, kernel=sigmoid, total=   9.8s\n",
      "[CV] C=100, gamma=0.1, kernel=sigmoid ................................\n"
     ]
    },
    {
     "name": "stderr",
     "output_type": "stream",
     "text": [
      "/usr/local/lib/python3.7/site-packages/sklearn/utils/validation.py:73: DataConversionWarning: A column-vector y was passed when a 1d array was expected. Please change the shape of y to (n_samples, ), for example using ravel().\n",
      "  return f(**kwargs)\n"
     ]
    },
    {
     "name": "stdout",
     "output_type": "stream",
     "text": [
      "[CV] ................. C=100, gamma=0.1, kernel=sigmoid, total=   9.7s\n",
      "[CV] C=100, gamma=0.1, kernel=sigmoid ................................\n"
     ]
    },
    {
     "name": "stderr",
     "output_type": "stream",
     "text": [
      "/usr/local/lib/python3.7/site-packages/sklearn/utils/validation.py:73: DataConversionWarning: A column-vector y was passed when a 1d array was expected. Please change the shape of y to (n_samples, ), for example using ravel().\n",
      "  return f(**kwargs)\n"
     ]
    },
    {
     "name": "stdout",
     "output_type": "stream",
     "text": [
      "[CV] ................. C=100, gamma=0.1, kernel=sigmoid, total=  10.0s\n",
      "[CV] C=100, gamma=0.1, kernel=sigmoid ................................\n"
     ]
    },
    {
     "name": "stderr",
     "output_type": "stream",
     "text": [
      "/usr/local/lib/python3.7/site-packages/sklearn/utils/validation.py:73: DataConversionWarning: A column-vector y was passed when a 1d array was expected. Please change the shape of y to (n_samples, ), for example using ravel().\n",
      "  return f(**kwargs)\n"
     ]
    },
    {
     "name": "stdout",
     "output_type": "stream",
     "text": [
      "[CV] ................. C=100, gamma=0.1, kernel=sigmoid, total=   9.6s\n",
      "[CV] C=100, gamma=0.01, kernel=rbf ...................................\n"
     ]
    },
    {
     "name": "stderr",
     "output_type": "stream",
     "text": [
      "/usr/local/lib/python3.7/site-packages/sklearn/utils/validation.py:73: DataConversionWarning: A column-vector y was passed when a 1d array was expected. Please change the shape of y to (n_samples, ), for example using ravel().\n",
      "  return f(**kwargs)\n"
     ]
    },
    {
     "name": "stdout",
     "output_type": "stream",
     "text": [
      "[CV] .................... C=100, gamma=0.01, kernel=rbf, total=   7.1s\n",
      "[CV] C=100, gamma=0.01, kernel=rbf ...................................\n"
     ]
    },
    {
     "name": "stderr",
     "output_type": "stream",
     "text": [
      "/usr/local/lib/python3.7/site-packages/sklearn/utils/validation.py:73: DataConversionWarning: A column-vector y was passed when a 1d array was expected. Please change the shape of y to (n_samples, ), for example using ravel().\n",
      "  return f(**kwargs)\n"
     ]
    },
    {
     "name": "stdout",
     "output_type": "stream",
     "text": [
      "[CV] .................... C=100, gamma=0.01, kernel=rbf, total=   7.2s\n",
      "[CV] C=100, gamma=0.01, kernel=rbf ...................................\n"
     ]
    },
    {
     "name": "stderr",
     "output_type": "stream",
     "text": [
      "/usr/local/lib/python3.7/site-packages/sklearn/utils/validation.py:73: DataConversionWarning: A column-vector y was passed when a 1d array was expected. Please change the shape of y to (n_samples, ), for example using ravel().\n",
      "  return f(**kwargs)\n"
     ]
    },
    {
     "name": "stdout",
     "output_type": "stream",
     "text": [
      "[CV] .................... C=100, gamma=0.01, kernel=rbf, total=   7.2s\n",
      "[CV] C=100, gamma=0.01, kernel=rbf ...................................\n"
     ]
    },
    {
     "name": "stderr",
     "output_type": "stream",
     "text": [
      "/usr/local/lib/python3.7/site-packages/sklearn/utils/validation.py:73: DataConversionWarning: A column-vector y was passed when a 1d array was expected. Please change the shape of y to (n_samples, ), for example using ravel().\n",
      "  return f(**kwargs)\n"
     ]
    },
    {
     "name": "stdout",
     "output_type": "stream",
     "text": [
      "[CV] .................... C=100, gamma=0.01, kernel=rbf, total=   7.3s\n",
      "[CV] C=100, gamma=0.01, kernel=rbf ...................................\n"
     ]
    },
    {
     "name": "stderr",
     "output_type": "stream",
     "text": [
      "/usr/local/lib/python3.7/site-packages/sklearn/utils/validation.py:73: DataConversionWarning: A column-vector y was passed when a 1d array was expected. Please change the shape of y to (n_samples, ), for example using ravel().\n",
      "  return f(**kwargs)\n"
     ]
    },
    {
     "name": "stdout",
     "output_type": "stream",
     "text": [
      "[CV] .................... C=100, gamma=0.01, kernel=rbf, total=   7.4s\n",
      "[CV] C=100, gamma=0.01, kernel=sigmoid ...............................\n"
     ]
    },
    {
     "name": "stderr",
     "output_type": "stream",
     "text": [
      "/usr/local/lib/python3.7/site-packages/sklearn/utils/validation.py:73: DataConversionWarning: A column-vector y was passed when a 1d array was expected. Please change the shape of y to (n_samples, ), for example using ravel().\n",
      "  return f(**kwargs)\n"
     ]
    },
    {
     "name": "stdout",
     "output_type": "stream",
     "text": [
      "[CV] ................ C=100, gamma=0.01, kernel=sigmoid, total=   4.3s\n",
      "[CV] C=100, gamma=0.01, kernel=sigmoid ...............................\n"
     ]
    },
    {
     "name": "stderr",
     "output_type": "stream",
     "text": [
      "/usr/local/lib/python3.7/site-packages/sklearn/utils/validation.py:73: DataConversionWarning: A column-vector y was passed when a 1d array was expected. Please change the shape of y to (n_samples, ), for example using ravel().\n",
      "  return f(**kwargs)\n"
     ]
    },
    {
     "name": "stdout",
     "output_type": "stream",
     "text": [
      "[CV] ................ C=100, gamma=0.01, kernel=sigmoid, total=   4.5s\n",
      "[CV] C=100, gamma=0.01, kernel=sigmoid ...............................\n"
     ]
    },
    {
     "name": "stderr",
     "output_type": "stream",
     "text": [
      "/usr/local/lib/python3.7/site-packages/sklearn/utils/validation.py:73: DataConversionWarning: A column-vector y was passed when a 1d array was expected. Please change the shape of y to (n_samples, ), for example using ravel().\n",
      "  return f(**kwargs)\n"
     ]
    },
    {
     "name": "stdout",
     "output_type": "stream",
     "text": [
      "[CV] ................ C=100, gamma=0.01, kernel=sigmoid, total=   4.6s\n",
      "[CV] C=100, gamma=0.01, kernel=sigmoid ...............................\n"
     ]
    },
    {
     "name": "stderr",
     "output_type": "stream",
     "text": [
      "/usr/local/lib/python3.7/site-packages/sklearn/utils/validation.py:73: DataConversionWarning: A column-vector y was passed when a 1d array was expected. Please change the shape of y to (n_samples, ), for example using ravel().\n",
      "  return f(**kwargs)\n"
     ]
    },
    {
     "name": "stdout",
     "output_type": "stream",
     "text": [
      "[CV] ................ C=100, gamma=0.01, kernel=sigmoid, total=   4.3s\n",
      "[CV] C=100, gamma=0.01, kernel=sigmoid ...............................\n"
     ]
    },
    {
     "name": "stderr",
     "output_type": "stream",
     "text": [
      "/usr/local/lib/python3.7/site-packages/sklearn/utils/validation.py:73: DataConversionWarning: A column-vector y was passed when a 1d array was expected. Please change the shape of y to (n_samples, ), for example using ravel().\n",
      "  return f(**kwargs)\n"
     ]
    },
    {
     "name": "stdout",
     "output_type": "stream",
     "text": [
      "[CV] ................ C=100, gamma=0.01, kernel=sigmoid, total=   4.4s\n",
      "[CV] C=100, gamma=0.001, kernel=rbf ..................................\n"
     ]
    },
    {
     "name": "stderr",
     "output_type": "stream",
     "text": [
      "/usr/local/lib/python3.7/site-packages/sklearn/utils/validation.py:73: DataConversionWarning: A column-vector y was passed when a 1d array was expected. Please change the shape of y to (n_samples, ), for example using ravel().\n",
      "  return f(**kwargs)\n"
     ]
    },
    {
     "name": "stdout",
     "output_type": "stream",
     "text": [
      "[CV] ................... C=100, gamma=0.001, kernel=rbf, total=   6.5s\n",
      "[CV] C=100, gamma=0.001, kernel=rbf ..................................\n"
     ]
    },
    {
     "name": "stderr",
     "output_type": "stream",
     "text": [
      "/usr/local/lib/python3.7/site-packages/sklearn/utils/validation.py:73: DataConversionWarning: A column-vector y was passed when a 1d array was expected. Please change the shape of y to (n_samples, ), for example using ravel().\n",
      "  return f(**kwargs)\n"
     ]
    },
    {
     "name": "stdout",
     "output_type": "stream",
     "text": [
      "[CV] ................... C=100, gamma=0.001, kernel=rbf, total=   6.4s\n",
      "[CV] C=100, gamma=0.001, kernel=rbf ..................................\n"
     ]
    },
    {
     "name": "stderr",
     "output_type": "stream",
     "text": [
      "/usr/local/lib/python3.7/site-packages/sklearn/utils/validation.py:73: DataConversionWarning: A column-vector y was passed when a 1d array was expected. Please change the shape of y to (n_samples, ), for example using ravel().\n",
      "  return f(**kwargs)\n"
     ]
    },
    {
     "name": "stdout",
     "output_type": "stream",
     "text": [
      "[CV] ................... C=100, gamma=0.001, kernel=rbf, total=   6.5s\n",
      "[CV] C=100, gamma=0.001, kernel=rbf ..................................\n"
     ]
    },
    {
     "name": "stderr",
     "output_type": "stream",
     "text": [
      "/usr/local/lib/python3.7/site-packages/sklearn/utils/validation.py:73: DataConversionWarning: A column-vector y was passed when a 1d array was expected. Please change the shape of y to (n_samples, ), for example using ravel().\n",
      "  return f(**kwargs)\n"
     ]
    },
    {
     "name": "stdout",
     "output_type": "stream",
     "text": [
      "[CV] ................... C=100, gamma=0.001, kernel=rbf, total=   6.5s\n",
      "[CV] C=100, gamma=0.001, kernel=rbf ..................................\n"
     ]
    },
    {
     "name": "stderr",
     "output_type": "stream",
     "text": [
      "/usr/local/lib/python3.7/site-packages/sklearn/utils/validation.py:73: DataConversionWarning: A column-vector y was passed when a 1d array was expected. Please change the shape of y to (n_samples, ), for example using ravel().\n",
      "  return f(**kwargs)\n"
     ]
    },
    {
     "name": "stdout",
     "output_type": "stream",
     "text": [
      "[CV] ................... C=100, gamma=0.001, kernel=rbf, total=   6.6s\n",
      "[CV] C=100, gamma=0.001, kernel=sigmoid ..............................\n"
     ]
    },
    {
     "name": "stderr",
     "output_type": "stream",
     "text": [
      "/usr/local/lib/python3.7/site-packages/sklearn/utils/validation.py:73: DataConversionWarning: A column-vector y was passed when a 1d array was expected. Please change the shape of y to (n_samples, ), for example using ravel().\n",
      "  return f(**kwargs)\n"
     ]
    },
    {
     "name": "stdout",
     "output_type": "stream",
     "text": [
      "[CV] ............... C=100, gamma=0.001, kernel=sigmoid, total=   6.0s\n",
      "[CV] C=100, gamma=0.001, kernel=sigmoid ..............................\n"
     ]
    },
    {
     "name": "stderr",
     "output_type": "stream",
     "text": [
      "/usr/local/lib/python3.7/site-packages/sklearn/utils/validation.py:73: DataConversionWarning: A column-vector y was passed when a 1d array was expected. Please change the shape of y to (n_samples, ), for example using ravel().\n",
      "  return f(**kwargs)\n"
     ]
    },
    {
     "name": "stdout",
     "output_type": "stream",
     "text": [
      "[CV] ............... C=100, gamma=0.001, kernel=sigmoid, total=   6.1s\n",
      "[CV] C=100, gamma=0.001, kernel=sigmoid ..............................\n"
     ]
    },
    {
     "name": "stderr",
     "output_type": "stream",
     "text": [
      "/usr/local/lib/python3.7/site-packages/sklearn/utils/validation.py:73: DataConversionWarning: A column-vector y was passed when a 1d array was expected. Please change the shape of y to (n_samples, ), for example using ravel().\n",
      "  return f(**kwargs)\n"
     ]
    },
    {
     "name": "stdout",
     "output_type": "stream",
     "text": [
      "[CV] ............... C=100, gamma=0.001, kernel=sigmoid, total=   6.1s\n",
      "[CV] C=100, gamma=0.001, kernel=sigmoid ..............................\n"
     ]
    },
    {
     "name": "stderr",
     "output_type": "stream",
     "text": [
      "/usr/local/lib/python3.7/site-packages/sklearn/utils/validation.py:73: DataConversionWarning: A column-vector y was passed when a 1d array was expected. Please change the shape of y to (n_samples, ), for example using ravel().\n",
      "  return f(**kwargs)\n"
     ]
    },
    {
     "name": "stdout",
     "output_type": "stream",
     "text": [
      "[CV] ............... C=100, gamma=0.001, kernel=sigmoid, total=   6.4s\n",
      "[CV] C=100, gamma=0.001, kernel=sigmoid ..............................\n"
     ]
    },
    {
     "name": "stderr",
     "output_type": "stream",
     "text": [
      "/usr/local/lib/python3.7/site-packages/sklearn/utils/validation.py:73: DataConversionWarning: A column-vector y was passed when a 1d array was expected. Please change the shape of y to (n_samples, ), for example using ravel().\n",
      "  return f(**kwargs)\n"
     ]
    },
    {
     "name": "stdout",
     "output_type": "stream",
     "text": [
      "[CV] ............... C=100, gamma=0.001, kernel=sigmoid, total=   6.3s\n"
     ]
    },
    {
     "name": "stderr",
     "output_type": "stream",
     "text": [
      "[Parallel(n_jobs=1)]: Done 120 out of 120 | elapsed: 23.8min finished\n",
      "/usr/local/lib/python3.7/site-packages/sklearn/utils/validation.py:73: DataConversionWarning: A column-vector y was passed when a 1d array was expected. Please change the shape of y to (n_samples, ), for example using ravel().\n",
      "  return f(**kwargs)\n"
     ]
    },
    {
     "data": {
      "text/plain": [
       "GridSearchCV(estimator=SVC(),\n",
       "             param_grid={'C': [0.1, 10, 100], 'gamma': [1, 0.1, 0.01, 0.001],\n",
       "                         'kernel': ['rbf', 'sigmoid']},\n",
       "             verbose=2)"
      ]
     },
     "execution_count": 103,
     "metadata": {},
     "output_type": "execute_result"
    }
   ],
   "source": [
    "from sklearn.model_selection import GridSearchCV\n",
    "\n",
    "param_grid = {'C': [0.1, 10, 100], 'gamma': [1, 0.1, 0.01, 0.001], \n",
    "             'kernel': ['rbf', 'sigmoid']}\n",
    "\n",
    "grid = GridSearchCV(SVC(), param_grid, refit=True, verbose=2)\n",
    "grid.fit(Xs2_train_scaled, y_train)"
   ]
  },
  {
   "cell_type": "code",
   "execution_count": 109,
   "metadata": {},
   "outputs": [
    {
     "name": "stdout",
     "output_type": "stream",
     "text": [
      "{'C': 10, 'gamma': 0.1, 'kernel': 'rbf'}\n"
     ]
    }
   ],
   "source": [
    "print(grid.best_params_)"
   ]
  },
  {
   "cell_type": "code",
   "execution_count": 113,
   "metadata": {},
   "outputs": [
    {
     "name": "stdout",
     "output_type": "stream",
     "text": [
      "accuracy: 0.8895041530329726\n",
      "[[772   4  11   0   0]\n",
      " [ 11 635 127   0   0]\n",
      " [  0  93 618  93   0]\n",
      " [  0   3  84 697   8]\n",
      " [  0   0   0   5 812]]\n"
     ]
    }
   ],
   "source": [
    "grid_predictions = grid.predict(Xs2_test_scaled)\n",
    "\n",
    "acc = mt.accuracy_score(y_test,grid_predictions)\n",
    "conf = mt.confusion_matrix(y_test,grid_predictions)\n",
    "print('accuracy:', acc )\n",
    "print(conf)\n"
   ]
  },
  {
   "cell_type": "code",
   "execution_count": 122,
   "metadata": {},
   "outputs": [
    {
     "data": {
      "text/plain": [
       "<matplotlib.image.AxesImage at 0x154a98f10>"
      ]
     },
     "execution_count": 122,
     "metadata": {},
     "output_type": "execute_result"
    },
    {
     "data": {
      "image/png": "[encoded data removed]",
      "text/plain": [
       "<Figure size 576x576 with 1 Axes>"
      ]
     },
     "metadata": {
      "needs_background": "light"
     },
     "output_type": "display_data"
    }
   ],
   "source": [
    "f = plt.figure(figsize=(8,8))\n",
    "plt.imshow(conf)"
   ]
  },
  {
   "cell_type": "code",
   "execution_count": 105,
   "metadata": {},
   "outputs": [
    {
     "name": "stdout",
     "output_type": "stream",
     "text": [
      "(10604, 50)\n",
      "(10604,)\n",
      "[1239 2516 2776 2651 1422]\n"
     ]
    }
   ],
   "source": [
    "# look at the support vectors\n",
    "print(svm_clf.support_vectors_.shape)\n",
    "print(svm_clf.support_.shape)\n",
    "print(svm_clf.n_support_ )"
   ]
  },
  {
   "cell_type": "markdown",
   "metadata": {},
   "source": [
    "*********\n",
    "****I am re-assigning colnames for plotting, let me know if you have a better way to do that."
   ]
  },
  {
   "cell_type": "code",
   "execution_count": 106,
   "metadata": {},
   "outputs": [],
   "source": [
    "schoolData_sm = pd.DataFrame(X_sm)\n",
    "schoolData_sm.columns=['TotalTargets_pTarget_PctMet',\n",
    "'EVAAS Growth Status_NotMet',\n",
    "'MinorityMalePct',\n",
    "'MinorityFemalePct',\n",
    "'title1_type_cd_Y',\n",
    "'avg_daily_attend_pct',\n",
    "'short_susp_per_c_num',\n",
    "'BlackMalePct',\n",
    "'AsianFemalePct',\n",
    "'student_num',\n",
    "'HispanicMalePct',\n",
    "'SciGr5&8_pTarget_PctMet',\n",
    "'tchyrs_0thru3_pct',\n",
    "'tchyrs_11plus_pct',\n",
    "'Accomplished_TCHR_Standard 2_Pct',\n",
    "'Accomplished_TCHR_Standard 1_Pct',\n",
    "'Developing_TCHR_Standard 1_Pct',\n",
    "'Developing_TCHR_Standard 2_Pct',\n",
    "'Developing_TCHR_Standard 3_Pct',\n",
    "'Accomplished_TCHR_Standard 4_Pct',\n",
    "'4-10 Years_LEA_Exp_Pct_Prin',\n",
    "'Developing_TCHR_Standard 4_Pct',\n",
    "'Developing_TCHR_Standard 5_Pct',\n",
    "'10+ Years_LEA_Exp_Pct_Prin',\n",
    "'Accomplished_TCHR_Standard 3_Pct',\n",
    "'Accomplished_TCHR_Standard 5_Pct',\n",
    "'lea_state_perpupil_num',\n",
    "'st_emer_prov_teach_pct',\n",
    "'pct_GCE_ALL',\n",
    "'MathGr3-8_pTarget_PctMet',\n",
    "'lea_sat_avg_score_num',\n",
    "'lea_federal_perpupil_num',\n",
    "'lea_local_perpupil_num',\n",
    "'nbpts_num',\n",
    "'Distinguished_TCHR_Standard 2_Pct',\n",
    "'_1yr_tchr_trnovr_pct',\n",
    "'lateral_teach_pct',\n",
    "'0-3 Years_LEA_Exp_Pct_Prin',\n",
    "'lea_flicensed_teach_pct',\n",
    "'lea_tchyrs_4thru10_pct',\n",
    "'lea_tchyrs_11plus_pct',\n",
    "'lea_nbpts_num',\n",
    "'lea_advance_dgr_pct',\n",
    "'lea_1yr_tchr_trnovr_pct',\n",
    "'lea_emer_prov_teach_pct',\n",
    "'st_flicensed_teach_pct',\n",
    "'st_tchyrs_0thru3_pct',\n",
    "'st_1yr_tchr_trnovr_pct',\n",
    "'lea_tchyrs_0thru3_pct',\n",
    "'Category_Cd_T',\n",
    "]"
   ]
  },
  {
   "cell_type": "code",
   "execution_count": 107,
   "metadata": {},
   "outputs": [
    {
     "data": {
      "text/plain": [
       "array([['C'],\n",
       "       ['C'],\n",
       "       ['D'],\n",
       "       ...,\n",
       "       ['D'],\n",
       "       ['D'],\n",
       "       ['D']], dtype=object)"
      ]
     },
     "execution_count": 107,
     "metadata": {},
     "output_type": "execute_result"
    }
   ],
   "source": [
    "y_sm.values[svm_clf.support_] "
   ]
  },
  {
   "cell_type": "code",
   "execution_count": 133,
   "metadata": {},
   "outputs": [
    {
     "name": "stdout",
     "output_type": "stream",
     "text": [
      "<class 'pandas.core.frame.DataFrame'>\n",
      "Int64Index: 10604 entries, 43 to 15890\n",
      "Data columns (total 51 columns):\n",
      "TotalTargets_pTarget_PctMet          4922 non-null float64\n",
      "EVAAS Growth Status_NotMet           4922 non-null float64\n",
      "MinorityMalePct                      4922 non-null float64\n",
      "MinorityFemalePct                    4922 non-null float64\n",
      "title1_type_cd_Y                     4922 non-null float64\n",
      "avg_daily_attend_pct                 4922 non-null float64\n",
      "short_susp_per_c_num                 4922 non-null float64\n",
      "BlackMalePct                         4922 non-null float64\n",
      "AsianFemalePct                       4922 non-null float64\n",
      "student_num                          4922 non-null float64\n",
      "HispanicMalePct                      4922 non-null float64\n",
      "SciGr5&8_pTarget_PctMet              4922 non-null float64\n",
      "tchyrs_0thru3_pct                    4922 non-null float64\n",
      "tchyrs_11plus_pct                    4922 non-null float64\n",
      "Accomplished_TCHR_Standard 2_Pct     4922 non-null float64\n",
      "Accomplished_TCHR_Standard 1_Pct     4922 non-null float64\n",
      "Developing_TCHR_Standard 1_Pct       4922 non-null float64\n",
      "Developing_TCHR_Standard 2_Pct       4922 non-null float64\n",
      "Developing_TCHR_Standard 3_Pct       4922 non-null float64\n",
      "Accomplished_TCHR_Standard 4_Pct     4922 non-null float64\n",
      "4-10 Years_LEA_Exp_Pct_Prin          4922 non-null float64\n",
      "Developing_TCHR_Standard 4_Pct       4922 non-null float64\n",
      "Developing_TCHR_Standard 5_Pct       4922 non-null float64\n",
      "10+ Years_LEA_Exp_Pct_Prin           4922 non-null float64\n",
      "Accomplished_TCHR_Standard 3_Pct     4922 non-null float64\n",
      "Accomplished_TCHR_Standard 5_Pct     4922 non-null float64\n",
      "lea_state_perpupil_num               4922 non-null float64\n",
      "st_emer_prov_teach_pct               4922 non-null float64\n",
      "pct_GCE_ALL                          4922 non-null float64\n",
      "MathGr3-8_pTarget_PctMet             4922 non-null float64\n",
      "lea_sat_avg_score_num                4922 non-null float64\n",
      "lea_federal_perpupil_num             4922 non-null float64\n",
      "lea_local_perpupil_num               4922 non-null float64\n",
      "nbpts_num                            4922 non-null float64\n",
      "Distinguished_TCHR_Standard 2_Pct    4922 non-null float64\n",
      "_1yr_tchr_trnovr_pct                 4922 non-null float64\n",
      "lateral_teach_pct                    4922 non-null float64\n",
      "0-3 Years_LEA_Exp_Pct_Prin           4922 non-null float64\n",
      "lea_flicensed_teach_pct              4922 non-null float64\n",
      "lea_tchyrs_4thru10_pct               4922 non-null float64\n",
      "lea_tchyrs_11plus_pct                4922 non-null float64\n",
      "lea_nbpts_num                        4922 non-null float64\n",
      "lea_advance_dgr_pct                  4922 non-null float64\n",
      "lea_1yr_tchr_trnovr_pct              4922 non-null float64\n",
      "lea_emer_prov_teach_pct              4922 non-null float64\n",
      "st_flicensed_teach_pct               4922 non-null float64\n",
      "st_tchyrs_0thru3_pct                 4922 non-null float64\n",
      "st_1yr_tchr_trnovr_pct               4922 non-null float64\n",
      "lea_tchyrs_0thru3_pct                4922 non-null float64\n",
      "Category_Cd_T                        4922 non-null float64\n",
      "SPG Grade                            10604 non-null object\n",
      "dtypes: float64(50), object(1)\n",
      "memory usage: 4.2+ MB\n"
     ]
    }
   ],
   "source": [
    "df_tested_on = schoolData_sm.iloc[train_indices] # saved from above, the indices chosen for training\n",
    "# now get the support vectors from the trained model\n",
    "df_support = df_tested_on.loc[svm_clf.support_,:]\n",
    "\n",
    "df_support['SPG Grade'] = y_sm.values[svm_clf.support_] # add back in the 'Survived' Column to the pandas dataframe\n",
    "#X_sub['SPG Grade'] = y # also add it back in for the original data\n",
    "schoolData_sm['SPG Grade'] = y_sm # also add it back in for the original \n",
    "df_support.info()"
   ]
  },
  {
   "cell_type": "code",
   "execution_count": 134,
   "metadata": {},
   "outputs": [
    {
     "data": {
      "text/plain": [
       "<Figure size 720x288 with 0 Axes>"
      ]
     },
     "execution_count": 134,
     "metadata": {},
     "output_type": "execute_result"
    },
    {
     "data": {
      "text/plain": [
       "<matplotlib.axes._subplots.AxesSubplot at 0x1562ec250>"
      ]
     },
     "execution_count": 134,
     "metadata": {},
     "output_type": "execute_result"
    },
    {
     "data": {
      "text/plain": [
       "<matplotlib.legend.Legend at 0x1562d7c90>"
      ]
     },
     "execution_count": 134,
     "metadata": {},
     "output_type": "execute_result"
    },
    {
     "data": {
      "text/plain": [
       "Text(0.5, 1.0, 'tchyrs_0thru3_pct (Instances chosen as Support Vectors)')"
      ]
     },
     "execution_count": 134,
     "metadata": {},
     "output_type": "execute_result"
    },
    {
     "data": {
      "text/plain": [
       "<matplotlib.axes._subplots.AxesSubplot at 0x154c3eb90>"
      ]
     },
     "execution_count": 134,
     "metadata": {},
     "output_type": "execute_result"
    },
    {
     "data": {
      "text/plain": [
       "<matplotlib.legend.Legend at 0x155ac7150>"
      ]
     },
     "execution_count": 134,
     "metadata": {},
     "output_type": "execute_result"
    },
    {
     "data": {
      "text/plain": [
       "Text(0.5, 1.0, 'tchyrs_0thru3_pct (Original)')"
      ]
     },
     "execution_count": 134,
     "metadata": {},
     "output_type": "execute_result"
    },
    {
     "data": {
      "text/plain": [
       "<Figure size 720x288 with 0 Axes>"
      ]
     },
     "execution_count": 134,
     "metadata": {},
     "output_type": "execute_result"
    },
    {
     "data": {
      "text/plain": [
       "<matplotlib.axes._subplots.AxesSubplot at 0x155c15410>"
      ]
     },
     "execution_count": 134,
     "metadata": {},
     "output_type": "execute_result"
    },
    {
     "data": {
      "text/plain": [
       "<matplotlib.legend.Legend at 0x155aa1b10>"
      ]
     },
     "execution_count": 134,
     "metadata": {},
     "output_type": "execute_result"
    },
    {
     "data": {
      "text/plain": [
       "Text(0.5, 1.0, 'avg_daily_attend_pct (Instances chosen as Support Vectors)')"
      ]
     },
     "execution_count": 134,
     "metadata": {},
     "output_type": "execute_result"
    },
    {
     "data": {
      "text/plain": [
       "<matplotlib.axes._subplots.AxesSubplot at 0x155d7e3d0>"
      ]
     },
     "execution_count": 134,
     "metadata": {},
     "output_type": "execute_result"
    },
    {
     "data": {
      "text/plain": [
       "<matplotlib.legend.Legend at 0x155b03ed0>"
      ]
     },
     "execution_count": 134,
     "metadata": {},
     "output_type": "execute_result"
    },
    {
     "data": {
      "text/plain": [
       "Text(0.5, 1.0, 'avg_daily_attend_pct (Original)')"
      ]
     },
     "execution_count": 134,
     "metadata": {},
     "output_type": "execute_result"
    },
    {
     "data": {
      "text/plain": [
       "<Figure size 720x288 with 0 Axes>"
      ]
     },
     "execution_count": 134,
     "metadata": {},
     "output_type": "execute_result"
    },
    {
     "data": {
      "text/plain": [
       "<matplotlib.axes._subplots.AxesSubplot at 0x15606ca90>"
      ]
     },
     "execution_count": 134,
     "metadata": {},
     "output_type": "execute_result"
    },
    {
     "data": {
      "text/plain": [
       "<matplotlib.legend.Legend at 0x15604e0d0>"
      ]
     },
     "execution_count": 134,
     "metadata": {},
     "output_type": "execute_result"
    },
    {
     "data": {
      "text/plain": [
       "Text(0.5, 1.0, 'short_susp_per_c_num (Instances chosen as Support Vectors)')"
      ]
     },
     "execution_count": 134,
     "metadata": {},
     "output_type": "execute_result"
    },
    {
     "data": {
      "text/plain": [
       "<matplotlib.axes._subplots.AxesSubplot at 0x1560b6990>"
      ]
     },
     "execution_count": 134,
     "metadata": {},
     "output_type": "execute_result"
    },
    {
     "data": {
      "text/plain": [
       "<matplotlib.legend.Legend at 0x156346110>"
      ]
     },
     "execution_count": 134,
     "metadata": {},
     "output_type": "execute_result"
    },
    {
     "data": {
      "text/plain": [
       "Text(0.5, 1.0, 'short_susp_per_c_num (Original)')"
      ]
     },
     "execution_count": 134,
     "metadata": {},
     "output_type": "execute_result"
    },
    {
     "data": {
      "text/plain": [
       "<Figure size 720x288 with 0 Axes>"
      ]
     },
     "execution_count": 134,
     "metadata": {},
     "output_type": "execute_result"
    },
    {
     "data": {
      "text/plain": [
       "<matplotlib.axes._subplots.AxesSubplot at 0x1563508d0>"
      ]
     },
     "execution_count": 134,
     "metadata": {},
     "output_type": "execute_result"
    },
    {
     "data": {
      "text/plain": [
       "<matplotlib.legend.Legend at 0x156346bd0>"
      ]
     },
     "execution_count": 134,
     "metadata": {},
     "output_type": "execute_result"
    },
    {
     "data": {
      "text/plain": [
       "Text(0.5, 1.0, 'MinorityFemalePct (Instances chosen as Support Vectors)')"
      ]
     },
     "execution_count": 134,
     "metadata": {},
     "output_type": "execute_result"
    },
    {
     "data": {
      "text/plain": [
       "<matplotlib.axes._subplots.AxesSubplot at 0x156460cd0>"
      ]
     },
     "execution_count": 134,
     "metadata": {},
     "output_type": "execute_result"
    },
    {
     "data": {
      "text/plain": [
       "<matplotlib.legend.Legend at 0x156350150>"
      ]
     },
     "execution_count": 134,
     "metadata": {},
     "output_type": "execute_result"
    },
    {
     "data": {
      "text/plain": [
       "Text(0.5, 1.0, 'MinorityFemalePct (Original)')"
      ]
     },
     "execution_count": 134,
     "metadata": {},
     "output_type": "execute_result"
    },
    {
     "data": {
      "image/png": "[encoded data removed]",
      "text/plain": [
       "<Figure size 720x288 with 2 Axes>"
      ]
     },
     "metadata": {
      "needs_background": "light"
     },
     "output_type": "display_data"
    },
    {
     "data": {
      "image/png": "[encoded data removed]",
      "text/plain": [
       "<Figure size 720x288 with 2 Axes>"
      ]
     },
     "metadata": {
      "needs_background": "light"
     },
     "output_type": "display_data"
    },
    {
     "data": {
      "image/png": "[encoded data removed]",
      "text/plain": [
       "<Figure size 720x288 with 2 Axes>"
      ]
     },
     "metadata": {
      "needs_background": "light"
     },
     "output_type": "display_data"
    },
    {
     "data": {
      "image/png": "[encoded data removed]",
      "text/plain": [
       "<Figure size 720x288 with 2 Axes>"
      ]
     },
     "metadata": {
      "needs_background": "light"
     },
     "output_type": "display_data"
    }
   ],
   "source": [
    "# now lets see the statistics of these attributes\n",
    "#from pandas.tools.plotting import boxplot\n",
    "from pandas.plotting import boxplot\n",
    "from matplotlib import pyplot as plt\n",
    "\n",
    "# group the original data and the support vectors\n",
    "df_grouped_support = df_support.groupby(['SPG Grade'])\n",
    "#df_grouped = X_sub.groupby(['SPG Grade'])\n",
    "df_grouped = schoolData_sm.groupby(['SPG Grade'])\n",
    "\n",
    "# plot KDE of Different variables\n",
    "###########This is a random selection NOW\n",
    "vars_to_plot = ['tchyrs_0thru3_pct','avg_daily_attend_pct','short_susp_per_c_num','MinorityFemalePct']\n",
    "\n",
    "for v in vars_to_plot:\n",
    "    plt.figure(figsize=(10,4))\n",
    "    # plot support vector stats\n",
    "    plt.subplot(1,2,1)\n",
    "    ax = df_grouped_support[v].plot.kde() \n",
    "    plt.legend(['A','B','C','D','F'])\n",
    "    plt.title(v+' (Instances chosen as Support Vectors)')\n",
    "    \n",
    "    # plot original distributions\n",
    "    plt.subplot(1,2,2)\n",
    "    ax = df_grouped[v].plot.kde() \n",
    "    plt.legend(['A','B','C','D','F'])\n",
    "    plt.title(v+' (Original)')\n",
    "\n"
   ]
  },
  {
   "cell_type": "code",
   "execution_count": null,
   "metadata": {},
   "outputs": [],
   "source": []
  },
  {
   "cell_type": "markdown",
   "metadata": {},
   "source": [
    "### Logistic Regression"
   ]
  },
  {
   "cell_type": "markdown",
   "metadata": {},
   "source": [
    "## Input Feature Importance"
   ]
  },
  {
   "cell_type": "markdown",
   "metadata": {},
   "source": [
    "## Support Vectors Interpretation"
   ]
  },
  {
   "cell_type": "markdown",
   "metadata": {},
   "source": [
    "## Model Advantages"
   ]
  },
  {
   "cell_type": "code",
   "execution_count": null,
   "metadata": {},
   "outputs": [],
   "source": []
  }
 ],
 "metadata": {
  "kernelspec": {
   "display_name": "Python 3",
   "language": "python",
   "name": "python3"
  },
  "language_info": {
   "codemirror_mode": {
    "name": "ipython",
    "version": 3
   },
   "file_extension": ".py",
   "mimetype": "text/x-python",
   "name": "python",
   "nbconvert_exporter": "python",
   "pygments_lexer": "ipython3",
   "version": "3.7.7"
  }
 },
 "nbformat": 4,
 "nbformat_minor": 2
}
