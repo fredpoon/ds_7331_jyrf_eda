{
 "cells": [
  {
   "cell_type": "markdown",
   "metadata": {},
   "source": [
    "### Appendix"
   ]
  },
  {
   "cell_type": "code",
   "execution_count": null,
   "metadata": {},
   "outputs": [],
   "source": [
    "#Distribution of EVAAS Growth Status\n",
    "sns.factorplot(\"EVAAS Growth Status\", data=schools2, aspect=2,\n",
    "                       kind=\"count\")\n",
    "plt.show()"
   ]
  },
  {
   "cell_type": "code",
   "execution_count": null,
   "metadata": {},
   "outputs": [],
   "source": [
    "g = sns.FacetGrid(SPG, col=\"SPG Grade\",  row=\"Majority_Minority\", col_order=['A','B','C','D','F'])\n",
    "g = g.map(plt.hist, \"Science Score\")"
   ]
  },
  {
   "cell_type": "code",
   "execution_count": null,
   "metadata": {},
   "outputs": [],
   "source": [
    "#Remap SPG_Grade to Pass and Fail\n",
    "remap_cat_dict = {\n",
    "    'C': 1,\n",
    "    'B': 1,\n",
    "    'D': 0,\n",
    "    'F': 0,\n",
    "    'A': 1}\n",
    "\n",
    "SPG[\"SPG_Met\"] = SPG[\"SPG Grade\"].map(remap_cat_dict).astype('category')\n",
    "pd.DataFrame(SPG[\"SPG_Met\"].value_counts())"
   ]
  },
  {
   "cell_type": "code",
   "execution_count": null,
   "metadata": {},
   "outputs": [],
   "source": [
    "# the cross tab operator provides an easy way to get these numbers\n",
    "spg_ct2 = pd.crosstab([ SPG['category_cd_modified'],SPG['Majority_Minority'] ], \n",
    "                       SPG.SPG_Met.astype(bool))\n",
    "# print (spg_ct2)\n",
    "spg_ct2.plot(kind='bar', stacked=True)\n",
    "plt.show()"
   ]
  },
  {
   "cell_type": "code",
   "execution_count": null,
   "metadata": {},
   "outputs": [],
   "source": [
    "spg2_rate = spg_ct2.div(spg_ct2.sum(1).astype(float),\n",
    "                             axis=0) # normalize the value\n",
    "\n",
    "# print survival_rate\n",
    "spg2_rate.plot(kind='barh', \n",
    "                   stacked=True)"
   ]
  },
  {
   "cell_type": "code",
   "execution_count": null,
   "metadata": {},
   "outputs": [],
   "source": []
  }
 ],
 "metadata": {
  "language_info": {
   "codemirror_mode": {
    "name": "ipython",
    "version": 3
   },
   "file_extension": ".py",
   "mimetype": "text/x-python",
   "name": "python",
   "nbconvert_exporter": "python",
   "pygments_lexer": "ipython3",
   "version": 3
  },
  "orig_nbformat": 2
 },
 "nbformat": 4,
 "nbformat_minor": 2
}