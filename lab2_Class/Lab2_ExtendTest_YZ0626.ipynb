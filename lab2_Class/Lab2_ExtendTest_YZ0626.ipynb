{
 "cells": [
  {
   "cell_type": "markdown",
   "metadata": {},
   "source": [
    "## Import Dataset for SPG Classification"
   ]
  },
  {
   "cell_type": "code",
   "execution_count": 3,
   "metadata": {},
   "outputs": [],
   "source": [
    "import pandas as pd\n",
    "import numpy as np\n",
    "import matplotlib.pyplot as plt\n",
    "import seaborn as sns\n",
    "import warnings\n",
    "warnings.filterwarnings(\"ignore\")\n",
    "\n",
    "# For multiple line outputs\n",
    "from IPython.core.interactiveshell import InteractiveShell\n",
    "InteractiveShell.ast_node_interactivity = \"all\"\n",
    "\n",
    "schoolData = pd.read_csv('C:/Users/taniat470s/Desktop/SMU_course/DS7331/PublicSchools2014to2017_4ML_0609.csv') # read in the csv file"
   ]
  },
  {
   "cell_type": "code",
   "execution_count": 4,
   "metadata": {},
   "outputs": [],
   "source": [
    "schoolData_SPG = pd.read_csv('C:/Users/taniat470s/Desktop/SMU_course/DS7331/PublicSchools2014to2017_SPG.csv') # read in the csv file"
   ]
  },
  {
   "cell_type": "markdown",
   "metadata": {},
   "source": [
    "### pick 50 features "
   ]
  },
  {
   "cell_type": "code",
   "execution_count": 5,
   "metadata": {},
   "outputs": [
    {
     "name": "stdout",
     "output_type": "stream",
     "text": [
      "<class 'pandas.core.frame.DataFrame'>\n",
      "RangeIndex: 9731 entries, 0 to 9730\n",
      "Data columns (total 145 columns):\n",
      " #   Column                                                                           Dtype  \n",
      "---  ------                                                                           -----  \n",
      " 0   szip_ad                                                                          float64\n",
      " 1   student_num                                                                      float64\n",
      " 2   lea_avg_student_num                                                              float64\n",
      " 3   st_avg_student_num                                                               float64\n",
      " 4   Math I_Size                                                                      float64\n",
      " 5   lea_total_expense_num                                                            float64\n",
      " 6   lea_salary_expense_pct                                                           float64\n",
      " 7   lea_services_expense_pct                                                         float64\n",
      " 8   lea_supplies_expense_pct                                                         float64\n",
      " 9   lea_instruct_equip_exp_pct                                                       float64\n",
      " 10  lea_federal_perpupil_num                                                         float64\n",
      " 11  lea_local_perpupil_num                                                           float64\n",
      " 12  lea_state_perpupil_num                                                           float64\n",
      " 13  EOGSubjects_CACR_AIG                                                             float64\n",
      " 14  pct_GCE_ALL                                                                      float64\n",
      " 15  MathGr3-8_pTarget_PctMet                                                         float64\n",
      " 16  SciGr5&8_pTarget_PctMet                                                          float64\n",
      " 17  TotalTargets_pTarget_PctMet                                                      float64\n",
      " 18  lea_sat_avg_score_num                                                            float64\n",
      " 19  lea_sat_participation_pct                                                        float64\n",
      " 20  lea_ap_participation_pct                                                         float64\n",
      " 21  lea_ap_pct_3_or_above                                                            float64\n",
      " 22  lea_ib_pct_4_or_above                                                            float64\n",
      " 23  avg_daily_attend_pct                                                             float64\n",
      " 24  crime_per_c_num                                                                  float64\n",
      " 25  short_susp_per_c_num                                                             float64\n",
      " 26  long_susp_per_c_num                                                              float64\n",
      " 27  expelled_per_c_num                                                               float64\n",
      " 28  stud_internet_comp_num                                                           float64\n",
      " 29  lea_avg_daily_attend_pct                                                         float64\n",
      " 30  lea_crime_per_c_num                                                              float64\n",
      " 31  lea_short_susp_per_c_num                                                         float64\n",
      " 32  lea_long_susp_per_c_num                                                          float64\n",
      " 33  lea_expelled_per_c_num                                                           float64\n",
      " 34  lea_stud_internet_comp_num                                                       float64\n",
      " 35  st_crime_per_c_num                                                               float64\n",
      " 36  flicensed_teach_pct                                                              float64\n",
      " 37  tchyrs_0thru3_pct                                                                float64\n",
      " 38  tchyrs_4thru10_pct                                                               float64\n",
      " 39  tchyrs_11plus_pct                                                                float64\n",
      " 40  nbpts_num                                                                        float64\n",
      " 41  advance_dgr_pct                                                                  float64\n",
      " 42  _1yr_tchr_trnovr_pct                                                             float64\n",
      " 43  lateral_teach_pct                                                                float64\n",
      " 44  lea_flicensed_teach_pct                                                          float64\n",
      " 45  lea_tchyrs_0thru3_pct                                                            float64\n",
      " 46  lea_tchyrs_4thru10_pct                                                           float64\n",
      " 47  lea_tchyrs_11plus_pct                                                            float64\n",
      " 48  lea_nbpts_num                                                                    float64\n",
      " 49  lea_advance_dgr_pct                                                              float64\n",
      " 50  lea_1yr_tchr_trnovr_pct                                                          float64\n",
      " 51  lea_emer_prov_teach_pct                                                          float64\n",
      " 52  st_flicensed_teach_pct                                                           float64\n",
      " 53  st_tchyrs_0thru3_pct                                                             float64\n",
      " 54  st_1yr_tchr_trnovr_pct                                                           float64\n",
      " 55  st_emer_prov_teach_pct                                                           float64\n",
      " 56  0-3 Years_LEA_Exp_Pct_Prin                                                       float64\n",
      " 57  10+ Years_LEA_Exp_Pct_Prin                                                       float64\n",
      " 58  4-10 Years_LEA_Exp_Pct_Prin                                                      float64\n",
      " 59  Accomplished_TCHR_Standard 1_Pct                                                 float64\n",
      " 60  Accomplished_TCHR_Standard 2_Pct                                                 float64\n",
      " 61  Accomplished_TCHR_Standard 3_Pct                                                 float64\n",
      " 62  Accomplished_TCHR_Standard 4_Pct                                                 float64\n",
      " 63  Accomplished_TCHR_Standard 5_Pct                                                 float64\n",
      " 64  Developing_TCHR_Standard 1_Pct                                                   float64\n",
      " 65  Developing_TCHR_Standard 2_Pct                                                   float64\n",
      " 66  Developing_TCHR_Standard 3_Pct                                                   float64\n",
      " 67  Developing_TCHR_Standard 4_Pct                                                   float64\n",
      " 68  Developing_TCHR_Standard 5_Pct                                                   float64\n",
      " 69  Distinguished_TCHR_Standard 1_Pct                                                float64\n",
      " 70  Distinguished_TCHR_Standard 2_Pct                                                float64\n",
      " 71  Distinguished_TCHR_Standard 3_Pct                                                float64\n",
      " 72  Distinguished_TCHR_Standard 4_Pct                                                float64\n",
      " 73  Distinguished_TCHR_Standard 5_Pct                                                float64\n",
      " 74  Not Demostrated_TCHR_Standard 1_Pct                                              float64\n",
      " 75  Not Demostrated_TCHR_Standard 2_Pct                                              float64\n",
      " 76  Not Demostrated_TCHR_Standard 4_Pct                                              float64\n",
      " 77  Proficient_TCHR_Standard 1_Pct                                                   float64\n",
      " 78  Proficient_TCHR_Standard 2_Pct                                                   float64\n",
      " 79  Proficient_TCHR_Standard 3_Pct                                                   float64\n",
      " 80  Proficient_TCHR_Standard 4_Pct                                                   float64\n",
      " 81  Proficient_TCHR_Standard 5_Pct                                                   float64\n",
      " 82  AsianFemalePct                                                                   float64\n",
      " 83  AsianMalePct                                                                     float64\n",
      " 84  BlackFemalePct                                                                   float64\n",
      " 85  BlackMalePct                                                                     float64\n",
      " 86  HispanicFemalePct                                                                float64\n",
      " 87  HispanicMalePct                                                                  float64\n",
      " 88  IndianFemalePct                                                                  float64\n",
      " 89  MinorityFemalePct                                                                float64\n",
      " 90  MinorityMalePct                                                                  float64\n",
      " 91  PacificIslandFemalePct                                                           float64\n",
      " 92  PacificIslandMalePct                                                             float64\n",
      " 93  PacificIslandPct                                                                 float64\n",
      " 94  TwoOrMoreFemalePct                                                               float64\n",
      " 95  TwoOrMoreMalePct                                                                 float64\n",
      " 96  TwoOrMorePct                                                                     float64\n",
      " 97  unit_code                                                                        int64  \n",
      " 98  Year                                                                             int64  \n",
      " 99  calendar_type_txt_Alternative Education, Traditional Calendar                    int64  \n",
      " 100 calendar_type_txt_Hospital School                                                int64  \n",
      " 101 calendar_type_txt_Magnet School, Traditional Calendar                            int64  \n",
      " 102 calendar_type_txt_Magnet School, Year-Round Calendar                             int64  \n",
      " 103 calendar_type_txt_Regular School, Traditional Calendar                           int64  \n",
      " 104 calendar_type_txt_Regular School, Traditional Calendar plus Year-Round Calendar  int64  \n",
      " 105 calendar_type_txt_Regular School, Year-Round Calendar                            int64  \n",
      " 106 calendar_type_txt_Special Education, Traditional Calendar                        int64  \n",
      " 107 calendar_type_txt_Vocational Education, Traditional Calendar                     int64  \n",
      " 108 sna_pgm_type_cd_A                                                                int64  \n",
      " 109 sna_pgm_type_cd_H                                                                int64  \n",
      " 110 sna_pgm_type_cd_M                                                                int64  \n",
      " 111 sna_pgm_type_cd_N                                                                int64  \n",
      " 112 sna_pgm_type_cd_R                                                                int64  \n",
      " 113 sna_pgm_type_cd_S                                                                int64  \n",
      " 114 sna_pgm_type_cd_V                                                                int64  \n",
      " 115 sna_pgm_type_cd_X                                                                int64  \n",
      " 116 sna_pgm_type_cd_Y                                                                int64  \n",
      " 117 school_type_txt_Alternative Education                                            int64  \n",
      " 118 school_type_txt_Hospital School                                                  int64  \n",
      " 119 school_type_txt_Magnet School                                                    int64  \n",
      " 120 school_type_txt_Regular School                                                   int64  \n",
      " 121 school_type_txt_Special Education                                                int64  \n",
      " 122 school_type_txt_Vocational Education                                             int64  \n",
      " 123 calendar_only_txt_Traditional Calendar                                           int64  \n",
      " 124 calendar_only_txt_Traditional Calendar plus Year-Round Calendar                  int64  \n",
      " 125 calendar_only_txt_Year-Round Calendar                                            int64  \n",
      " 126 title1_type_cd_Y                                                                 int64  \n",
      " 127 esea_status_F                                                                    int64  \n",
      " 128 esea_status_P                                                                    int64  \n",
      " 129 esea_status_R                                                                    int64  \n",
      " 130 esea_status_RF                                                                   int64  \n",
      " 131 esea_status_RP                                                                   int64  \n",
      " 132 Grad_project_status_N                                                            int64  \n",
      " 133 Grad_project_status_Y                                                            int64  \n",
      " 134 EVAAS Growth Status_NotMet                                                       int64  \n",
      " 135 Category_Cd_A                                                                    int64  \n",
      " 136 Category_Cd_E                                                                    int64  \n",
      " 137 Category_Cd_H                                                                    int64  \n",
      " 138 Category_Cd_I                                                                    int64  \n",
      " 139 Category_Cd_M                                                                    int64  \n",
      " 140 Category_Cd_T                                                                    int64  \n",
      " 141 category_cd_modified_E                                                           int64  \n",
      " 142 category_cd_modified_H                                                           int64  \n",
      " 143 category_cd_modified_M                                                           int64  \n",
      " 144 school_type_txt_modified_Regular School                                          int64  \n",
      "dtypes: float64(97), int64(48)\n",
      "memory usage: 10.8 MB\n"
     ]
    },
    {
     "data": {
      "text/plain": [
       "(9731, 50)"
      ]
     },
     "execution_count": 5,
     "metadata": {},
     "output_type": "execute_result"
    }
   ],
   "source": [
    "# Remove All the Columns that directly used to calculate SPG Grade and Score\n",
    "schoolData.drop(schoolData.iloc[:, 273:275], inplace=True, axis=1)\n",
    "schoolData.drop(schoolData.iloc[:, 13:152], inplace=True, axis=1)\n",
    "schoolData.info(verbose=True)\n",
    "\n",
    "#Pick and Choose variables\n",
    "schoolData_pick = schoolData[[\n",
    "'TotalTargets_pTarget_PctMet',\n",
    "'MinorityMalePct',\n",
    "'MinorityFemalePct',\n",
    "'short_susp_per_c_num',\n",
    "'avg_daily_attend_pct',\n",
    "'title1_type_cd_Y',\n",
    "'BlackMalePct',\n",
    "'AsianFemalePct',\n",
    "'BlackFemalePct',\n",
    "'HispanicMalePct',\n",
    "'MathGr3-8_pTarget_PctMet',\n",
    "'AsianMalePct',\n",
    "'SciGr5&8_pTarget_PctMet',\n",
    "'nbpts_num',\n",
    "'lea_sat_avg_score_num',\n",
    "'stud_internet_comp_num',\n",
    "'st_avg_student_num',\n",
    "'HispanicFemalePct',\n",
    "'Accomplished_TCHR_Standard 4_Pct',\n",
    "'Accomplished_TCHR_Standard 3_Pct',\n",
    "'Developing_TCHR_Standard 2_Pct',\n",
    "'Accomplished_TCHR_Standard 5_Pct',\n",
    "'10+ Years_LEA_Exp_Pct_Prin',\n",
    "'4-10 Years_LEA_Exp_Pct_Prin',\n",
    "'Accomplished_TCHR_Standard 1_Pct',\n",
    "'Accomplished_TCHR_Standard 2_Pct',\n",
    "'Developing_TCHR_Standard 1_Pct',\n",
    "'pct_GCE_ALL',\n",
    "'0-3 Years_LEA_Exp_Pct_Prin',\n",
    "'st_emer_prov_teach_pct',\n",
    "'lea_sat_participation_pct',\n",
    "'lea_ap_participation_pct',\n",
    "'lea_federal_perpupil_num',\n",
    "'lea_local_perpupil_num',\n",
    "'advance_dgr_pct',\n",
    "'Developing_TCHR_Standard 5_Pct',\n",
    "'lateral_teach_pct',\n",
    "'lea_flicensed_teach_pct',\n",
    "'Developing_TCHR_Standard 3_Pct',\n",
    "'lea_tchyrs_0thru3_pct',\n",
    "'lea_tchyrs_11plus_pct',\n",
    "'lea_nbpts_num',\n",
    "'lea_advance_dgr_pct',\n",
    "'lea_1yr_tchr_trnovr_pct',\n",
    "'lea_emer_prov_teach_pct',\n",
    "'st_flicensed_teach_pct',\n",
    "'st_tchyrs_0thru3_pct',\n",
    "'st_1yr_tchr_trnovr_pct',\n",
    "'lea_tchyrs_4thru10_pct',\n",
    "'Category_Cd_T',\n",
    "]]\n",
    "\n",
    "# Dataset Dimension with picked variables\n",
    "schoolData_pick.shape"
   ]
  },
  {
   "cell_type": "markdown",
   "metadata": {},
   "source": [
    "### Simplify the response variable"
   ]
  },
  {
   "cell_type": "code",
   "execution_count": 6,
   "metadata": {},
   "outputs": [
    {
     "data": {
      "text/html": [
       "<div>\n",
       "<style scoped>\n",
       "    .dataframe tbody tr th:only-of-type {\n",
       "        vertical-align: middle;\n",
       "    }\n",
       "\n",
       "    .dataframe tbody tr th {\n",
       "        vertical-align: top;\n",
       "    }\n",
       "\n",
       "    .dataframe thead th {\n",
       "        text-align: right;\n",
       "    }\n",
       "</style>\n",
       "<table border=\"1\" class=\"dataframe\">\n",
       "  <thead>\n",
       "    <tr style=\"text-align: right;\">\n",
       "      <th></th>\n",
       "      <th>0</th>\n",
       "    </tr>\n",
       "  </thead>\n",
       "  <tbody>\n",
       "    <tr>\n",
       "      <th>count</th>\n",
       "      <td>9216</td>\n",
       "    </tr>\n",
       "    <tr>\n",
       "      <th>unique</th>\n",
       "      <td>5</td>\n",
       "    </tr>\n",
       "    <tr>\n",
       "      <th>top</th>\n",
       "      <td>C</td>\n",
       "    </tr>\n",
       "    <tr>\n",
       "      <th>freq</th>\n",
       "      <td>3973</td>\n",
       "    </tr>\n",
       "  </tbody>\n",
       "</table>\n",
       "</div>"
      ],
      "text/plain": [
       "           0\n",
       "count   9216\n",
       "unique     5\n",
       "top        C\n",
       "freq    3973"
      ]
     },
     "execution_count": 6,
     "metadata": {},
     "output_type": "execute_result"
    },
    {
     "data": {
      "text/plain": [
       "<seaborn.axisgrid.FacetGrid at 0x1e9c2a05288>"
      ]
     },
     "execution_count": 6,
     "metadata": {},
     "output_type": "execute_result"
    },
    {
     "data": {
      "image/png": "[encoded data removed]",
      "text/plain": [
       "<Figure size 720x360 with 1 Axes>"
      ]
     },
     "metadata": {
      "needs_background": "light"
     },
     "output_type": "display_data"
    }
   ],
   "source": [
    "schoolData_SPG_org = schoolData_SPG\n",
    "schoolData_SPG = schoolData_SPG_org\n",
    "\n",
    "import numpy as np\n",
    "schoolData_SPG= np.select(\n",
    "    [\n",
    "        schoolData_SPG == 'A', \n",
    "        schoolData_SPG == 'B',\n",
    "        schoolData_SPG == 'C',\n",
    "        schoolData_SPG == 'D',\n",
    "        schoolData_SPG == 'F',\n",
    "        schoolData_SPG == 'A+NG',\n",
    "        schoolData_SPG == 'I'\n",
    "    ], \n",
    "    [\n",
    "        'A', \n",
    "        'B',\n",
    "        'C',\n",
    "        'D',\n",
    "        'F',\n",
    "        'A',\n",
    "        'NA'\n",
    "    ],\n",
    "    default='NA'\n",
    ")\n",
    "\n",
    "#Filter out the sample with \"NA\" on SPG Grade\n",
    "schoolData_SPG_new = schoolData_SPG[schoolData_SPG!='NA']\n",
    "schoolData_pick_new = schoolData_pick[schoolData_SPG!='NA']\n",
    "\n",
    "# Check if the levels of SPG Grade has been altered\n",
    "s = pd.DataFrame(schoolData_SPG_new)\n",
    "s.describe()\n",
    "\n",
    "#Factor Plot for SPG Grade\n",
    "s.columns=['SPG Grade']\n",
    "                        \n",
    "sns.factorplot(\"SPG Grade\", data=s, aspect=2,\n",
    "                       kind=\"count\", order=['A','B','C','D','F'])\n",
    "\n",
    "plt.show()"
   ]
  },
  {
   "cell_type": "code",
   "execution_count": 7,
   "metadata": {},
   "outputs": [
    {
     "data": {
      "text/plain": [
       "0       A\n",
       "1       C\n",
       "2       C\n",
       "3       F\n",
       "4       B\n",
       "       ..\n",
       "9211    B\n",
       "9212    B\n",
       "9213    B\n",
       "9214    B\n",
       "9215    B\n",
       "Length: 9216, dtype: object"
      ]
     },
     "execution_count": 7,
     "metadata": {},
     "output_type": "execute_result"
    }
   ],
   "source": [
    "s = pd.Series(schoolData_SPG_new)\n",
    "s"
   ]
  },
  {
   "cell_type": "code",
   "execution_count": 12,
   "metadata": {},
   "outputs": [],
   "source": [
    "from imblearn.over_sampling import SMOTE\n",
    "\n",
    "# Oversample using SMOTE\n",
    "# Make all classes the same size as the majority class.\n",
    "# WARNING - This can exponentially increase the size of the input dataset.\n",
    "sm = SMOTE(sampling_strategy='not majority')\n",
    "X_sm, y_sm = sm.fit_sample(schoolData_pick_new, pd.DataFrame(schoolData_SPG_new))\n",
    "\n",
    "#plot_class_dist(y_sm)"
   ]
  },
  {
   "cell_type": "code",
   "execution_count": 17,
   "metadata": {},
   "outputs": [],
   "source": [
    "#Location where the new school datasets will be created.\n",
    "outputDir = 'C:/Users/taniat470s/Desktop/SMU_course/DS7331/'\n",
    "X_sm.to_csv(outputDir + 'PublicSchools_2014to20174ML_SPGClassification_inputs.csv', sep=',', index=False)\n",
    "y_sm.to_csv(outputDir + 'PublicSchools_2014to20174ML_SPGClassification_SPGGrade.csv', sep=',', index=False)"
   ]
  },
  {
   "cell_type": "markdown",
   "metadata": {},
   "source": [
    "### Train/Test split using shufflesplit"
   ]
  },
  {
   "cell_type": "code",
   "execution_count": 29,
   "metadata": {},
   "outputs": [
    {
     "name": "stdout",
     "output_type": "stream",
     "text": [
      "ShuffleSplit(n_splits=3, random_state=None, test_size=0.2, train_size=None)\n"
     ]
    }
   ],
   "source": [
    "from sklearn.model_selection import ShuffleSplit\n",
    "num_cv_iterations = 3\n",
    "num_instances = len(schoolData_SPG_new)\n",
    "cv_object = ShuffleSplit(n_splits=num_cv_iterations,\n",
    "                         test_size  = 0.2)\n",
    "                         \n",
    "print(cv_object)"
   ]
  },
  {
   "cell_type": "code",
   "execution_count": 39,
   "metadata": {},
   "outputs": [
    {
     "data": {
      "text/plain": [
       "KNeighborsClassifier(algorithm='auto', leaf_size=30, metric='minkowski',\n",
       "                     metric_params=None, n_jobs=None, n_neighbors=3, p=2,\n",
       "                     weights='uniform')"
      ]
     },
     "execution_count": 39,
     "metadata": {},
     "output_type": "execute_result"
    },
    {
     "data": {
      "text/plain": [
       "KNeighborsClassifier(algorithm='auto', leaf_size=30, metric='minkowski',\n",
       "                     metric_params=None, n_jobs=None, n_neighbors=3, p=2,\n",
       "                     weights='uniform')"
      ]
     },
     "execution_count": 39,
     "metadata": {},
     "output_type": "execute_result"
    },
    {
     "data": {
      "text/plain": [
       "KNeighborsClassifier(algorithm='auto', leaf_size=30, metric='minkowski',\n",
       "                     metric_params=None, n_jobs=None, n_neighbors=3, p=2,\n",
       "                     weights='uniform')"
      ]
     },
     "execution_count": 39,
     "metadata": {},
     "output_type": "execute_result"
    }
   ],
   "source": [
    "for train_indices, test_indices in cv_object.split(schoolData_pick_new,schoolData_SPG_new): \n",
    "\n",
    "    Xsel_train = schoolData_pick_new.values[train_indices]\n",
    "    ysel_train = schoolData_SPG_new.values[train_indices]\n",
    "    \n",
    "    Xsel_test = schoolData_pick_new.values[test_indices]\n",
    "    ysel_test = schoolData_SPG_new.values[test_indices]\n",
    "    \n",
    "    clf.fit(Xsel_train,ysel_train)\n",
    "    y_pred_shf=clf.predict(Xsel_test)"
   ]
  },
  {
   "cell_type": "code",
   "execution_count": 41,
   "metadata": {},
   "outputs": [
    {
     "name": "stdout",
     "output_type": "stream",
     "text": [
      "KNN accuracy 0.4631236442516269\n"
     ]
    }
   ],
   "source": [
    "total_accuracy_shf = mt.accuracy_score(ysel_test, y_pred_shf)\n",
    "print ('KNN accuracy', total_accuracy_shf)"
   ]
  },
  {
   "cell_type": "markdown",
   "metadata": {},
   "source": [
    "### Train/Test split using StratifiedKFold"
   ]
  },
  {
   "cell_type": "code",
   "execution_count": 151,
   "metadata": {},
   "outputs": [
    {
     "name": "stdout",
     "output_type": "stream",
     "text": [
      "Wall time: 112 ms\n"
     ]
    }
   ],
   "source": [
    "%%time\n",
    "from sklearn.neighbors import KNeighborsClassifier\n",
    "from sklearn.model_selection import StratifiedKFold\n",
    "from sklearn.preprocessing import StandardScaler\n",
    "import numpy as np\n",
    "from sklearn import metrics as mt\n",
    "\n",
    "\n",
    "# create variables we are more familiar with\n",
    "X = schoolData_pick_new\n",
    "y = s\n",
    "yhat = np.zeros(y.shape) # we will fill this with predictions\n",
    "\n",
    "scl = StandardScaler()\n",
    "X = scl.fit_transform(X)\n",
    "\n",
    "# create cross validation iterator\n",
    "cv = StratifiedKFold(n_splits=10)\n",
    "\n",
    "# get a handle to the classifier object, which defines the type\n",
    "clf = KNeighborsClassifier(n_neighbors=3)"
   ]
  },
  {
   "cell_type": "code",
   "execution_count": 37,
   "metadata": {},
   "outputs": [
    {
     "data": {
      "text/plain": [
       "KNeighborsClassifier(algorithm='auto', leaf_size=30, metric='minkowski',\n",
       "                     metric_params=None, n_jobs=None, n_neighbors=3, p=2,\n",
       "                     weights='uniform')"
      ]
     },
     "execution_count": 37,
     "metadata": {},
     "output_type": "execute_result"
    },
    {
     "data": {
      "text/plain": [
       "KNeighborsClassifier(algorithm='auto', leaf_size=30, metric='minkowski',\n",
       "                     metric_params=None, n_jobs=None, n_neighbors=3, p=2,\n",
       "                     weights='uniform')"
      ]
     },
     "execution_count": 37,
     "metadata": {},
     "output_type": "execute_result"
    },
    {
     "data": {
      "text/plain": [
       "KNeighborsClassifier(algorithm='auto', leaf_size=30, metric='minkowski',\n",
       "                     metric_params=None, n_jobs=None, n_neighbors=3, p=2,\n",
       "                     weights='uniform')"
      ]
     },
     "execution_count": 37,
     "metadata": {},
     "output_type": "execute_result"
    },
    {
     "data": {
      "text/plain": [
       "KNeighborsClassifier(algorithm='auto', leaf_size=30, metric='minkowski',\n",
       "                     metric_params=None, n_jobs=None, n_neighbors=3, p=2,\n",
       "                     weights='uniform')"
      ]
     },
     "execution_count": 37,
     "metadata": {},
     "output_type": "execute_result"
    },
    {
     "data": {
      "text/plain": [
       "KNeighborsClassifier(algorithm='auto', leaf_size=30, metric='minkowski',\n",
       "                     metric_params=None, n_jobs=None, n_neighbors=3, p=2,\n",
       "                     weights='uniform')"
      ]
     },
     "execution_count": 37,
     "metadata": {},
     "output_type": "execute_result"
    },
    {
     "data": {
      "text/plain": [
       "KNeighborsClassifier(algorithm='auto', leaf_size=30, metric='minkowski',\n",
       "                     metric_params=None, n_jobs=None, n_neighbors=3, p=2,\n",
       "                     weights='uniform')"
      ]
     },
     "execution_count": 37,
     "metadata": {},
     "output_type": "execute_result"
    },
    {
     "data": {
      "text/plain": [
       "KNeighborsClassifier(algorithm='auto', leaf_size=30, metric='minkowski',\n",
       "                     metric_params=None, n_jobs=None, n_neighbors=3, p=2,\n",
       "                     weights='uniform')"
      ]
     },
     "execution_count": 37,
     "metadata": {},
     "output_type": "execute_result"
    },
    {
     "data": {
      "text/plain": [
       "KNeighborsClassifier(algorithm='auto', leaf_size=30, metric='minkowski',\n",
       "                     metric_params=None, n_jobs=None, n_neighbors=3, p=2,\n",
       "                     weights='uniform')"
      ]
     },
     "execution_count": 37,
     "metadata": {},
     "output_type": "execute_result"
    },
    {
     "data": {
      "text/plain": [
       "KNeighborsClassifier(algorithm='auto', leaf_size=30, metric='minkowski',\n",
       "                     metric_params=None, n_jobs=None, n_neighbors=3, p=2,\n",
       "                     weights='uniform')"
      ]
     },
     "execution_count": 37,
     "metadata": {},
     "output_type": "execute_result"
    },
    {
     "data": {
      "text/plain": [
       "KNeighborsClassifier(algorithm='auto', leaf_size=30, metric='minkowski',\n",
       "                     metric_params=None, n_jobs=None, n_neighbors=3, p=2,\n",
       "                     weights='uniform')"
      ]
     },
     "execution_count": 37,
     "metadata": {},
     "output_type": "execute_result"
    }
   ],
   "source": [
    "# now iterate through and get predictions, saved to the correct row in yhat\n",
    "# NOTE: you can parallelize this using the cross_val_predict method\n",
    "for train, test in cv.split(X,y):\n",
    "    clf.fit(X[train],y[train])\n",
    "    yhat[test] = clf.predict(X[test])\n",
    "\n",
    "#total_accuracy = mt.accuracy_score(y, yhat)\n",
    "#print ('KNN accuracy', total_accuracy)"
   ]
  },
  {
   "cell_type": "markdown",
   "metadata": {},
   "source": [
    "#### KNN accuracy rise from 0.46 to 0.59"
   ]
  },
  {
   "cell_type": "code",
   "execution_count": 38,
   "metadata": {},
   "outputs": [
    {
     "name": "stdout",
     "output_type": "stream",
     "text": [
      "KNN accuracy 0.5926649305555556\n"
     ]
    }
   ],
   "source": [
    "total_accuracy = mt.accuracy_score(y, yhat)\n",
    "print ('KNN accuracy', total_accuracy)"
   ]
  },
  {
   "cell_type": "markdown",
   "metadata": {},
   "source": [
    "### KNN to take a PCA first"
   ]
  },
  {
   "cell_type": "code",
   "execution_count": 45,
   "metadata": {},
   "outputs": [
    {
     "name": "stdout",
     "output_type": "stream",
     "text": [
      "Wall time: 998 µs\n"
     ]
    }
   ],
   "source": [
    "%%time\n",
    "from sklearn.decomposition import PCA \n",
    "from sklearn.pipeline import Pipeline\n",
    "\n",
    "# setup pipeline to take PCA, then fit a KNN classifier\n",
    "clf_pipe = Pipeline(\n",
    "    [('PCA_Eric',PCA(n_components=50,svd_solver='randomized')),\n",
    "     ('CLF_Eric',KNeighborsClassifier(n_neighbors=1))]\n",
    ")"
   ]
  },
  {
   "cell_type": "code",
   "execution_count": 46,
   "metadata": {},
   "outputs": [
    {
     "data": {
      "text/plain": [
       "Pipeline(memory=None,\n",
       "         steps=[('PCA_Eric',\n",
       "                 PCA(copy=True, iterated_power='auto', n_components=50,\n",
       "                     random_state=None, svd_solver='randomized', tol=0.0,\n",
       "                     whiten=False)),\n",
       "                ('CLF_Eric',\n",
       "                 KNeighborsClassifier(algorithm='auto', leaf_size=30,\n",
       "                                      metric='minkowski', metric_params=None,\n",
       "                                      n_jobs=None, n_neighbors=1, p=2,\n",
       "                                      weights='uniform'))],\n",
       "         verbose=False)"
      ]
     },
     "execution_count": 46,
     "metadata": {},
     "output_type": "execute_result"
    },
    {
     "data": {
      "text/plain": [
       "Pipeline(memory=None,\n",
       "         steps=[('PCA_Eric',\n",
       "                 PCA(copy=True, iterated_power='auto', n_components=50,\n",
       "                     random_state=None, svd_solver='randomized', tol=0.0,\n",
       "                     whiten=False)),\n",
       "                ('CLF_Eric',\n",
       "                 KNeighborsClassifier(algorithm='auto', leaf_size=30,\n",
       "                                      metric='minkowski', metric_params=None,\n",
       "                                      n_jobs=None, n_neighbors=1, p=2,\n",
       "                                      weights='uniform'))],\n",
       "         verbose=False)"
      ]
     },
     "execution_count": 46,
     "metadata": {},
     "output_type": "execute_result"
    },
    {
     "data": {
      "text/plain": [
       "Pipeline(memory=None,\n",
       "         steps=[('PCA_Eric',\n",
       "                 PCA(copy=True, iterated_power='auto', n_components=50,\n",
       "                     random_state=None, svd_solver='randomized', tol=0.0,\n",
       "                     whiten=False)),\n",
       "                ('CLF_Eric',\n",
       "                 KNeighborsClassifier(algorithm='auto', leaf_size=30,\n",
       "                                      metric='minkowski', metric_params=None,\n",
       "                                      n_jobs=None, n_neighbors=1, p=2,\n",
       "                                      weights='uniform'))],\n",
       "         verbose=False)"
      ]
     },
     "execution_count": 46,
     "metadata": {},
     "output_type": "execute_result"
    },
    {
     "data": {
      "text/plain": [
       "Pipeline(memory=None,\n",
       "         steps=[('PCA_Eric',\n",
       "                 PCA(copy=True, iterated_power='auto', n_components=50,\n",
       "                     random_state=None, svd_solver='randomized', tol=0.0,\n",
       "                     whiten=False)),\n",
       "                ('CLF_Eric',\n",
       "                 KNeighborsClassifier(algorithm='auto', leaf_size=30,\n",
       "                                      metric='minkowski', metric_params=None,\n",
       "                                      n_jobs=None, n_neighbors=1, p=2,\n",
       "                                      weights='uniform'))],\n",
       "         verbose=False)"
      ]
     },
     "execution_count": 46,
     "metadata": {},
     "output_type": "execute_result"
    },
    {
     "data": {
      "text/plain": [
       "Pipeline(memory=None,\n",
       "         steps=[('PCA_Eric',\n",
       "                 PCA(copy=True, iterated_power='auto', n_components=50,\n",
       "                     random_state=None, svd_solver='randomized', tol=0.0,\n",
       "                     whiten=False)),\n",
       "                ('CLF_Eric',\n",
       "                 KNeighborsClassifier(algorithm='auto', leaf_size=30,\n",
       "                                      metric='minkowski', metric_params=None,\n",
       "                                      n_jobs=None, n_neighbors=1, p=2,\n",
       "                                      weights='uniform'))],\n",
       "         verbose=False)"
      ]
     },
     "execution_count": 46,
     "metadata": {},
     "output_type": "execute_result"
    },
    {
     "data": {
      "text/plain": [
       "Pipeline(memory=None,\n",
       "         steps=[('PCA_Eric',\n",
       "                 PCA(copy=True, iterated_power='auto', n_components=50,\n",
       "                     random_state=None, svd_solver='randomized', tol=0.0,\n",
       "                     whiten=False)),\n",
       "                ('CLF_Eric',\n",
       "                 KNeighborsClassifier(algorithm='auto', leaf_size=30,\n",
       "                                      metric='minkowski', metric_params=None,\n",
       "                                      n_jobs=None, n_neighbors=1, p=2,\n",
       "                                      weights='uniform'))],\n",
       "         verbose=False)"
      ]
     },
     "execution_count": 46,
     "metadata": {},
     "output_type": "execute_result"
    },
    {
     "data": {
      "text/plain": [
       "Pipeline(memory=None,\n",
       "         steps=[('PCA_Eric',\n",
       "                 PCA(copy=True, iterated_power='auto', n_components=50,\n",
       "                     random_state=None, svd_solver='randomized', tol=0.0,\n",
       "                     whiten=False)),\n",
       "                ('CLF_Eric',\n",
       "                 KNeighborsClassifier(algorithm='auto', leaf_size=30,\n",
       "                                      metric='minkowski', metric_params=None,\n",
       "                                      n_jobs=None, n_neighbors=1, p=2,\n",
       "                                      weights='uniform'))],\n",
       "         verbose=False)"
      ]
     },
     "execution_count": 46,
     "metadata": {},
     "output_type": "execute_result"
    },
    {
     "data": {
      "text/plain": [
       "Pipeline(memory=None,\n",
       "         steps=[('PCA_Eric',\n",
       "                 PCA(copy=True, iterated_power='auto', n_components=50,\n",
       "                     random_state=None, svd_solver='randomized', tol=0.0,\n",
       "                     whiten=False)),\n",
       "                ('CLF_Eric',\n",
       "                 KNeighborsClassifier(algorithm='auto', leaf_size=30,\n",
       "                                      metric='minkowski', metric_params=None,\n",
       "                                      n_jobs=None, n_neighbors=1, p=2,\n",
       "                                      weights='uniform'))],\n",
       "         verbose=False)"
      ]
     },
     "execution_count": 46,
     "metadata": {},
     "output_type": "execute_result"
    },
    {
     "data": {
      "text/plain": [
       "Pipeline(memory=None,\n",
       "         steps=[('PCA_Eric',\n",
       "                 PCA(copy=True, iterated_power='auto', n_components=50,\n",
       "                     random_state=None, svd_solver='randomized', tol=0.0,\n",
       "                     whiten=False)),\n",
       "                ('CLF_Eric',\n",
       "                 KNeighborsClassifier(algorithm='auto', leaf_size=30,\n",
       "                                      metric='minkowski', metric_params=None,\n",
       "                                      n_jobs=None, n_neighbors=1, p=2,\n",
       "                                      weights='uniform'))],\n",
       "         verbose=False)"
      ]
     },
     "execution_count": 46,
     "metadata": {},
     "output_type": "execute_result"
    },
    {
     "data": {
      "text/plain": [
       "Pipeline(memory=None,\n",
       "         steps=[('PCA_Eric',\n",
       "                 PCA(copy=True, iterated_power='auto', n_components=50,\n",
       "                     random_state=None, svd_solver='randomized', tol=0.0,\n",
       "                     whiten=False)),\n",
       "                ('CLF_Eric',\n",
       "                 KNeighborsClassifier(algorithm='auto', leaf_size=30,\n",
       "                                      metric='minkowski', metric_params=None,\n",
       "                                      n_jobs=None, n_neighbors=1, p=2,\n",
       "                                      weights='uniform'))],\n",
       "         verbose=False)"
      ]
     },
     "execution_count": 46,
     "metadata": {},
     "output_type": "execute_result"
    }
   ],
   "source": [
    "# now iterate through and get predictions, saved to the correct row in yhat\n",
    "for train, test in cv.split(X,y):\n",
    "    clf_pipe.fit(X[train],y[train])\n",
    "    yhat[test] = clf_pipe.predict(X[test])"
   ]
  },
  {
   "cell_type": "code",
   "execution_count": 47,
   "metadata": {},
   "outputs": [
    {
     "name": "stdout",
     "output_type": "stream",
     "text": [
      "KNN, pipeline accuracy 0.5968967013888888\n"
     ]
    }
   ],
   "source": [
    "\n",
    "total_accuracy = mt.accuracy_score(y, yhat)\n",
    "print ('KNN, pipeline accuracy', total_accuracy)"
   ]
  },
  {
   "cell_type": "markdown",
   "metadata": {},
   "source": [
    "#### Accuracy rise from 0.592 to 0.597"
   ]
  },
  {
   "cell_type": "markdown",
   "metadata": {},
   "source": [
    "#### Plot out accuracy for each class"
   ]
  },
  {
   "cell_type": "code",
   "execution_count": 51,
   "metadata": {
    "scrolled": true
   },
   "outputs": [
    {
     "data": {
      "image/png": "[encoded data removed]",
      "text/plain": [
       "<Figure size 432x288 with 1 Axes>"
      ]
     },
     "metadata": {
      "needs_background": "light"
     },
     "output_type": "display_data"
    }
   ],
   "source": [
    "def per_class_accuracy(y,yhat):\n",
    "    conf = mt.confusion_matrix(y,yhat)\n",
    "    norm_conf = conf.astype('float') / conf.sum(axis=1)[:, np.newaxis]\n",
    "    return np.diag(norm_conf)\n",
    "\n",
    "def plot_class_acc(ytrue,yhat, title=''):\n",
    "    acc_list = per_class_accuracy(ytrue,yhat)\n",
    "    plt.bar(range(len(acc_list)), acc_list)\n",
    "    plt.xlabel('Class value (one per face)')\n",
    "    plt.ylabel('Accuracy within class')\n",
    "    plt.title(title+\", Total Acc=%.1f\"%(100*mt.accuracy_score(ytrue,yhat)))\n",
    "    plt.grid()\n",
    "    plt.ylim([0,1])\n",
    "    plt.show()\n",
    "    \n",
    "plot_class_acc(y,yhat,title=\"KNN\")"
   ]
  },
  {
   "cell_type": "markdown",
   "metadata": {},
   "source": [
    "### Use PCA + RandomForestClassifier"
   ]
  },
  {
   "cell_type": "code",
   "execution_count": null,
   "metadata": {},
   "outputs": [],
   "source": [
    "#### Plot out accuracy for each class\n",
    "\n",
    "%%time\n",
    "from sklearn.ensemble import RandomForestClassifier\n",
    "\n",
    "clf_pipe = Pipeline(\n",
    "    [('PCA',PCA(n_components=50, svd_solver='randomized')),\n",
    "     ('CLF',RandomForestClassifier(max_depth=50, n_estimators=150, n_jobs=-1))]\n",
    ")\n",
    "\n",
    "# now iterate through and get predictions, saved to the correct row in yhat\n",
    "for train, test in cv.split(X,y):\n",
    "    clf_pipe.fit(X[train],y[train])\n",
    "    yhat[test] = clf_pipe.predict(X[test])\n",
    "    \n",
    "total_accuracy = mt.accuracy_score(y, yhat)\n",
    "print ('Pipeline accuracy', total_accuracy)\n",
    "plot_class_acc(y,yhat,title=\"Random Forest + PCA\")"
   ]
  },
  {
   "cell_type": "code",
   "execution_count": 53,
   "metadata": {
    "scrolled": true
   },
   "outputs": [
    {
     "name": "stdout",
     "output_type": "stream",
     "text": [
      "Accuracy 0.6786024305555556\n"
     ]
    },
    {
     "data": {
      "image/png": "[encoded data removed]",
      "text/plain": [
       "<Figure size 432x288 with 1 Axes>"
      ]
     },
     "metadata": {
      "needs_background": "light"
     },
     "output_type": "display_data"
    },
    {
     "name": "stdout",
     "output_type": "stream",
     "text": [
      "Wall time: 37.3 s\n"
     ]
    }
   ],
   "source": [
    "%%time\n",
    "from sklearn.ensemble import RandomForestClassifier\n",
    "\n",
    "clf = RandomForestClassifier(max_depth=50, n_estimators=150, n_jobs=-1, oob_score=True)\n",
    "\n",
    "# now iterate through and get predictions, saved to the correct row in yhat\n",
    "for train, test in cv.split(X,y):\n",
    "    clf.fit(X[train],y[train])\n",
    "    yhat[test] = clf.predict(X[test])\n",
    "    \n",
    "total_accuracy = mt.accuracy_score(y, yhat)\n",
    "print ('Accuracy', total_accuracy)\n",
    "plot_class_acc(y,yhat,title=\"Random Forest, Raw\")"
   ]
  },
  {
   "cell_type": "markdown",
   "metadata": {},
   "source": [
    "#### Accuracy rise from 0.597 to 0.678"
   ]
  },
  {
   "cell_type": "markdown",
   "metadata": {},
   "source": [
    "### Feature Importance Plot"
   ]
  },
  {
   "cell_type": "code",
   "execution_count": 54,
   "metadata": {},
   "outputs": [
    {
     "name": "stdout",
     "output_type": "stream",
     "text": [
      "RandomForestClassifier(bootstrap=True, ccp_alpha=0.0, class_weight=None,\n",
      "                       criterion='gini', max_depth=50, max_features='auto',\n",
      "                       max_leaf_nodes=None, max_samples=None,\n",
      "                       min_impurity_decrease=0.0, min_impurity_split=None,\n",
      "                       min_samples_leaf=1, min_samples_split=2,\n",
      "                       min_weight_fraction_leaf=0.0, n_estimators=150,\n",
      "                       n_jobs=-1, oob_score=True, random_state=None, verbose=0,\n",
      "                       warm_start=False)\n"
     ]
    },
    {
     "data": {
      "text/plain": [
       "<BarContainer object of 50 artists>"
      ]
     },
     "execution_count": 54,
     "metadata": {},
     "output_type": "execute_result"
    },
    {
     "data": {
      "image/png": "[encoded data removed]",
      "text/plain": [
       "<Figure size 432x288 with 1 Axes>"
      ]
     },
     "metadata": {
      "needs_background": "light"
     },
     "output_type": "display_data"
    },
    {
     "name": "stdout",
     "output_type": "stream",
     "text": [
      "Generalization score estimate from training data 0.7170584689572032\n"
     ]
    }
   ],
   "source": [
    "# now lets get access to the different properties of our RF\n",
    "\n",
    "print (clf)\n",
    "\n",
    "plt.barh(range(len(clf.feature_importances_)), clf.feature_importances_)\n",
    "plt.show()\n",
    "\n",
    "print ('Generalization score estimate from training data', clf.oob_score_)"
   ]
  },
  {
   "cell_type": "markdown",
   "metadata": {},
   "source": [
    "## Multi-classifier function1: \n",
    "- Stump\n",
    "- Decisiion Tree\n",
    "- Random Trees\n",
    "- Extra Random Trees\n",
    "- Boosted Tree"
   ]
  },
  {
   "cell_type": "code",
   "execution_count": 55,
   "metadata": {},
   "outputs": [
    {
     "name": "stdout",
     "output_type": "stream",
     "text": [
      "Stump 0.4411865615690724\n",
      "Tree 0.5530586507192014\n",
      "Random Trees 0.6817473750122114\n",
      "Extra Random Trees 0.6797929787682301\n",
      "Boosted Tree 0.6578728447793903\n",
      "Wall time: 1min 45s\n"
     ]
    }
   ],
   "source": [
    "%%time\n",
    "from sklearn.tree import DecisionTreeClassifier\n",
    "from sklearn.ensemble import RandomForestClassifier\n",
    "from sklearn.ensemble import ExtraTreesClassifier\n",
    "from sklearn.ensemble import GradientBoostingClassifier\n",
    "\n",
    "from sklearn.model_selection import cross_val_score\n",
    "\n",
    "num_estimators = 50\n",
    "# lets train some trees\n",
    "clf_array = [\n",
    "    ('Stump',              DecisionTreeClassifier(max_depth=1, min_samples_leaf=1)),\n",
    "    ('Tree',               DecisionTreeClassifier()),\n",
    "    ('Random Trees',       RandomForestClassifier(max_depth=50, n_estimators=num_estimators)),\n",
    "    ('Extra Random Trees', ExtraTreesClassifier(n_estimators=num_estimators,min_samples_split=2)),\n",
    "    ('Boosted Tree',       GradientBoostingClassifier(n_estimators=num_estimators)), #takes a long time\n",
    "    ]\n",
    "    \n",
    "for clf in clf_array:\n",
    "    acc = cross_val_score(clf[1],X,y)\n",
    "    print (clf[0], acc.mean())"
   ]
  },
  {
   "cell_type": "markdown",
   "metadata": {},
   "source": [
    "## PCA + Naive Bayes + CrossValidation (Stratified)"
   ]
  },
  {
   "cell_type": "code",
   "execution_count": 177,
   "metadata": {},
   "outputs": [],
   "source": [
    "# create cross validation iterator\n",
    "cv = StratifiedKFold(n_splits=10)"
   ]
  },
  {
   "cell_type": "code",
   "execution_count": 178,
   "metadata": {},
   "outputs": [
    {
     "data": {
      "text/plain": [
       "Pipeline(memory=None,\n",
       "         steps=[('PCA',\n",
       "                 PCA(copy=True, iterated_power='auto', n_components=50,\n",
       "                     random_state=None, svd_solver='randomized', tol=0.0,\n",
       "                     whiten=False)),\n",
       "                ('CLF', GaussianNB(priors=None, var_smoothing=1e-09))],\n",
       "         verbose=False)"
      ]
     },
     "execution_count": 178,
     "metadata": {},
     "output_type": "execute_result"
    },
    {
     "data": {
      "text/plain": [
       "Pipeline(memory=None,\n",
       "         steps=[('PCA',\n",
       "                 PCA(copy=True, iterated_power='auto', n_components=50,\n",
       "                     random_state=None, svd_solver='randomized', tol=0.0,\n",
       "                     whiten=False)),\n",
       "                ('CLF', GaussianNB(priors=None, var_smoothing=1e-09))],\n",
       "         verbose=False)"
      ]
     },
     "execution_count": 178,
     "metadata": {},
     "output_type": "execute_result"
    },
    {
     "data": {
      "text/plain": [
       "Pipeline(memory=None,\n",
       "         steps=[('PCA',\n",
       "                 PCA(copy=True, iterated_power='auto', n_components=50,\n",
       "                     random_state=None, svd_solver='randomized', tol=0.0,\n",
       "                     whiten=False)),\n",
       "                ('CLF', GaussianNB(priors=None, var_smoothing=1e-09))],\n",
       "         verbose=False)"
      ]
     },
     "execution_count": 178,
     "metadata": {},
     "output_type": "execute_result"
    },
    {
     "data": {
      "text/plain": [
       "Pipeline(memory=None,\n",
       "         steps=[('PCA',\n",
       "                 PCA(copy=True, iterated_power='auto', n_components=50,\n",
       "                     random_state=None, svd_solver='randomized', tol=0.0,\n",
       "                     whiten=False)),\n",
       "                ('CLF', GaussianNB(priors=None, var_smoothing=1e-09))],\n",
       "         verbose=False)"
      ]
     },
     "execution_count": 178,
     "metadata": {},
     "output_type": "execute_result"
    },
    {
     "data": {
      "text/plain": [
       "Pipeline(memory=None,\n",
       "         steps=[('PCA',\n",
       "                 PCA(copy=True, iterated_power='auto', n_components=50,\n",
       "                     random_state=None, svd_solver='randomized', tol=0.0,\n",
       "                     whiten=False)),\n",
       "                ('CLF', GaussianNB(priors=None, var_smoothing=1e-09))],\n",
       "         verbose=False)"
      ]
     },
     "execution_count": 178,
     "metadata": {},
     "output_type": "execute_result"
    },
    {
     "data": {
      "text/plain": [
       "Pipeline(memory=None,\n",
       "         steps=[('PCA',\n",
       "                 PCA(copy=True, iterated_power='auto', n_components=50,\n",
       "                     random_state=None, svd_solver='randomized', tol=0.0,\n",
       "                     whiten=False)),\n",
       "                ('CLF', GaussianNB(priors=None, var_smoothing=1e-09))],\n",
       "         verbose=False)"
      ]
     },
     "execution_count": 178,
     "metadata": {},
     "output_type": "execute_result"
    },
    {
     "data": {
      "text/plain": [
       "Pipeline(memory=None,\n",
       "         steps=[('PCA',\n",
       "                 PCA(copy=True, iterated_power='auto', n_components=50,\n",
       "                     random_state=None, svd_solver='randomized', tol=0.0,\n",
       "                     whiten=False)),\n",
       "                ('CLF', GaussianNB(priors=None, var_smoothing=1e-09))],\n",
       "         verbose=False)"
      ]
     },
     "execution_count": 178,
     "metadata": {},
     "output_type": "execute_result"
    },
    {
     "data": {
      "text/plain": [
       "Pipeline(memory=None,\n",
       "         steps=[('PCA',\n",
       "                 PCA(copy=True, iterated_power='auto', n_components=50,\n",
       "                     random_state=None, svd_solver='randomized', tol=0.0,\n",
       "                     whiten=False)),\n",
       "                ('CLF', GaussianNB(priors=None, var_smoothing=1e-09))],\n",
       "         verbose=False)"
      ]
     },
     "execution_count": 178,
     "metadata": {},
     "output_type": "execute_result"
    },
    {
     "data": {
      "text/plain": [
       "Pipeline(memory=None,\n",
       "         steps=[('PCA',\n",
       "                 PCA(copy=True, iterated_power='auto', n_components=50,\n",
       "                     random_state=None, svd_solver='randomized', tol=0.0,\n",
       "                     whiten=False)),\n",
       "                ('CLF', GaussianNB(priors=None, var_smoothing=1e-09))],\n",
       "         verbose=False)"
      ]
     },
     "execution_count": 178,
     "metadata": {},
     "output_type": "execute_result"
    },
    {
     "data": {
      "text/plain": [
       "Pipeline(memory=None,\n",
       "         steps=[('PCA',\n",
       "                 PCA(copy=True, iterated_power='auto', n_components=50,\n",
       "                     random_state=None, svd_solver='randomized', tol=0.0,\n",
       "                     whiten=False)),\n",
       "                ('CLF', GaussianNB(priors=None, var_smoothing=1e-09))],\n",
       "         verbose=False)"
      ]
     },
     "execution_count": 178,
     "metadata": {},
     "output_type": "execute_result"
    },
    {
     "name": "stdout",
     "output_type": "stream",
     "text": [
      "Pipeline accuracy 0.5065104166666666\n"
     ]
    },
    {
     "data": {
      "image/png": "[encoded data removed]",
      "text/plain": [
       "<Figure size 432x288 with 1 Axes>"
      ]
     },
     "metadata": {
      "needs_background": "light"
     },
     "output_type": "display_data"
    }
   ],
   "source": [
    "# from sklearn.svm import SVC\n",
    "# from sklearn.linear_model import LogisticRegression\n",
    "# from sklearn.linear_model import SGDClassifier\n",
    "from sklearn.naive_bayes import GaussianNB\n",
    "\n",
    "\n",
    "# setup pipeline to take PCA, then fit a different classifier\n",
    "clf_pipe = Pipeline(\n",
    "    [('PCA',PCA(n_components=50,svd_solver='randomized')),\n",
    "     ('CLF',GaussianNB())]\n",
    ")\n",
    "\n",
    "# now iterate through and get predictions, saved to the correct row in yhat\n",
    "for train, test in cv.split(X,y):\n",
    "    clf_pipe.fit(X[train],y[train])\n",
    "    yhat[test] = clf_pipe.predict(X[test])\n",
    "\n",
    "total_accuracy = mt.accuracy_score(y, yhat)\n",
    "print ('Pipeline accuracy', total_accuracy)\n",
    "plot_class_acc(y,yhat,title=\"Naive Bayes + PCA\")"
   ]
  },
  {
   "cell_type": "markdown",
   "metadata": {},
   "source": [
    "### A function to test the infreq class recall"
   ]
  },
  {
   "cell_type": "code",
   "execution_count": 180,
   "metadata": {},
   "outputs": [
    {
     "name": "stdout",
     "output_type": "stream",
     "text": [
      "Total Accuracy: 0.5065104166666666\n",
      "Number of infrequent class: 1 with average recall of: 0.37906976744186044\n",
      "Number of frequent class: 4 with average precision of: 0.5036651504819565\n"
     ]
    }
   ],
   "source": [
    "from sklearn import metrics as mt\n",
    "\n",
    "freq_infreq_threshold = 500\n",
    "\n",
    "# get various measures of performance\n",
    "total_accuracy = mt.accuracy_score(y, yhat)\n",
    "per_class_acc_list = per_class_accuracy(y,yhat)\n",
    "\n",
    "prec_for_freq_classes = []\n",
    "recall_for_infreq_classes = []\n",
    "rec_tot = []\n",
    "prec_tot = []\n",
    "\n",
    "for cls in np.unique(y):\n",
    "    idx = (y==cls) # get classes\n",
    "    ytmp_actual = np.zeros(y.shape) # make binary class problem\n",
    "    ytmp_actual[idx] = 1 # set the instances for this specific class\n",
    "    \n",
    "    ytmp_predicted = np.zeros(y.shape) # binary prediction array\n",
    "    ytmp_predicted[yhat==cls] = 1\n",
    "    \n",
    "    num_in_class = sum(idx)\n",
    "    \n",
    "    rec = mt.recall_score(ytmp_actual, ytmp_predicted)\n",
    "    prec = mt.precision_score(ytmp_actual, ytmp_predicted)\n",
    "    rec_tot.append(rec)\n",
    "    prec_tot.append(prec)\n",
    "    \n",
    "    if num_in_class < freq_infreq_threshold:\n",
    "        recall_for_infreq_classes.append(rec)\n",
    "    elif num_in_class >= freq_infreq_threshold:\n",
    "        prec_for_freq_classes.append(prec)\n",
    "        \n",
    "print ('Total Accuracy:',total_accuracy)\n",
    "print ('Number of infrequent class:',len(recall_for_infreq_classes), \n",
    "       'with average recall of:', np.mean(recall_for_infreq_classes))\n",
    "print ('Number of frequent class:',len(prec_for_freq_classes), \n",
    "       'with average precision of:',np.mean(prec_for_freq_classes))"
   ]
  },
  {
   "cell_type": "code",
   "execution_count": 181,
   "metadata": {},
   "outputs": [
    {
     "data": {
      "text/plain": [
       "<Figure size 1080x360 with 0 Axes>"
      ]
     },
     "execution_count": 181,
     "metadata": {},
     "output_type": "execute_result"
    },
    {
     "data": {
      "text/plain": [
       "{'whiskers': [<matplotlib.lines.Line2D at 0x13480f54648>,\n",
       "  <matplotlib.lines.Line2D at 0x13480f54b88>,\n",
       "  <matplotlib.lines.Line2D at 0x13480f60c88>,\n",
       "  <matplotlib.lines.Line2D at 0x13480f60d88>,\n",
       "  <matplotlib.lines.Line2D at 0x13480f70dc8>,\n",
       "  <matplotlib.lines.Line2D at 0x13480f788c8>,\n",
       "  <matplotlib.lines.Line2D at 0x13480f7d988>,\n",
       "  <matplotlib.lines.Line2D at 0x13480f85148>],\n",
       " 'caps': [<matplotlib.lines.Line2D at 0x13480f54f88>,\n",
       "  <matplotlib.lines.Line2D at 0x13480f54d08>,\n",
       "  <matplotlib.lines.Line2D at 0x13480f60e08>,\n",
       "  <matplotlib.lines.Line2D at 0x13480f68c48>,\n",
       "  <matplotlib.lines.Line2D at 0x13480f78f48>,\n",
       "  <matplotlib.lines.Line2D at 0x13480f78ec8>,\n",
       "  <matplotlib.lines.Line2D at 0x13480f85f08>,\n",
       "  <matplotlib.lines.Line2D at 0x13480f85a08>],\n",
       " 'boxes': [<matplotlib.lines.Line2D at 0x13480f4fe48>,\n",
       "  <matplotlib.lines.Line2D at 0x13480f59d48>,\n",
       "  <matplotlib.lines.Line2D at 0x13480f70cc8>,\n",
       "  <matplotlib.lines.Line2D at 0x13480f7dd88>],\n",
       " 'medians': [<matplotlib.lines.Line2D at 0x13480f59bc8>,\n",
       "  <matplotlib.lines.Line2D at 0x13480f68d48>,\n",
       "  <matplotlib.lines.Line2D at 0x13480f7dbc8>,\n",
       "  <matplotlib.lines.Line2D at 0x13480f8a2c8>],\n",
       " 'fliers': [<matplotlib.lines.Line2D at 0x13480f59fc8>,\n",
       "  <matplotlib.lines.Line2D at 0x13480f68dc8>,\n",
       "  <matplotlib.lines.Line2D at 0x13480f7dcc8>,\n",
       "  <matplotlib.lines.Line2D at 0x13480f8af08>],\n",
       " 'means': []}"
      ]
     },
     "execution_count": 181,
     "metadata": {},
     "output_type": "execute_result"
    },
    {
     "data": {
      "text/plain": [
       "(0, 1)"
      ]
     },
     "execution_count": 181,
     "metadata": {},
     "output_type": "execute_result"
    },
    {
     "data": {
      "image/png": "[encoded data removed]",
      "text/plain": [
       "<Figure size 1080x360 with 1 Axes>"
      ]
     },
     "metadata": {
      "needs_background": "light"
     },
     "output_type": "display_data"
    }
   ],
   "source": [
    "# But we can really summarize this data much better than this. \n",
    "# How about looking at more statistics of the precision and recall for each class?\n",
    "\n",
    "import seaborn as sns\n",
    "sns.set_palette(\"dark\")\n",
    "plt.figure(figsize=(15,5))\n",
    "plt.boxplot([ rec_tot, prec_tot, recall_for_infreq_classes,prec_for_freq_classes],\n",
    "            labels=['Recall, all faces','Precision, all faces','Recall Infreq. faces','Prec Freq. faces'])\n",
    "plt.ylim([0,1])\n",
    "plt.show()"
   ]
  },
  {
   "cell_type": "code",
   "execution_count": 182,
   "metadata": {},
   "outputs": [
    {
     "data": {
      "text/plain": [
       "<matplotlib.image.AxesImage at 0x134832b29c8>"
      ]
     },
     "execution_count": 182,
     "metadata": {},
     "output_type": "execute_result"
    },
    {
     "data": {
      "image/png": "[encoded data removed]",
      "text/plain": [
       "<Figure size 432x288 with 1 Axes>"
      ]
     },
     "metadata": {
      "needs_background": "light"
     },
     "output_type": "display_data"
    }
   ],
   "source": [
    "# how about plotting a confusion matrix?\n",
    "cm = mt.confusion_matrix(y, yhat)\n",
    "plt.imshow(cm,cmap=plt.get_cmap('Reds'),aspect='auto')\n",
    "plt.grid(False)"
   ]
  },
  {
   "cell_type": "markdown",
   "metadata": {},
   "source": [
    "### Still PCA + Naive_bayes Gassian, Calculate probability score"
   ]
  },
  {
   "cell_type": "code",
   "execution_count": 82,
   "metadata": {
    "scrolled": true
   },
   "outputs": [
    {
     "data": {
      "text/plain": [
       "Pipeline(memory=None,\n",
       "         steps=[('PCA',\n",
       "                 PCA(copy=True, iterated_power='auto', n_components=50,\n",
       "                     random_state=None, svd_solver='randomized', tol=0.0,\n",
       "                     whiten=False)),\n",
       "                ('CLF', GaussianNB(priors=None, var_smoothing=1e-09))],\n",
       "         verbose=False)"
      ]
     },
     "execution_count": 82,
     "metadata": {},
     "output_type": "execute_result"
    },
    {
     "data": {
      "text/plain": [
       "Pipeline(memory=None,\n",
       "         steps=[('PCA',\n",
       "                 PCA(copy=True, iterated_power='auto', n_components=50,\n",
       "                     random_state=None, svd_solver='randomized', tol=0.0,\n",
       "                     whiten=False)),\n",
       "                ('CLF', GaussianNB(priors=None, var_smoothing=1e-09))],\n",
       "         verbose=False)"
      ]
     },
     "execution_count": 82,
     "metadata": {},
     "output_type": "execute_result"
    },
    {
     "data": {
      "text/plain": [
       "Pipeline(memory=None,\n",
       "         steps=[('PCA',\n",
       "                 PCA(copy=True, iterated_power='auto', n_components=50,\n",
       "                     random_state=None, svd_solver='randomized', tol=0.0,\n",
       "                     whiten=False)),\n",
       "                ('CLF', GaussianNB(priors=None, var_smoothing=1e-09))],\n",
       "         verbose=False)"
      ]
     },
     "execution_count": 82,
     "metadata": {},
     "output_type": "execute_result"
    },
    {
     "data": {
      "text/plain": [
       "Pipeline(memory=None,\n",
       "         steps=[('PCA',\n",
       "                 PCA(copy=True, iterated_power='auto', n_components=50,\n",
       "                     random_state=None, svd_solver='randomized', tol=0.0,\n",
       "                     whiten=False)),\n",
       "                ('CLF', GaussianNB(priors=None, var_smoothing=1e-09))],\n",
       "         verbose=False)"
      ]
     },
     "execution_count": 82,
     "metadata": {},
     "output_type": "execute_result"
    },
    {
     "data": {
      "text/plain": [
       "Pipeline(memory=None,\n",
       "         steps=[('PCA',\n",
       "                 PCA(copy=True, iterated_power='auto', n_components=50,\n",
       "                     random_state=None, svd_solver='randomized', tol=0.0,\n",
       "                     whiten=False)),\n",
       "                ('CLF', GaussianNB(priors=None, var_smoothing=1e-09))],\n",
       "         verbose=False)"
      ]
     },
     "execution_count": 82,
     "metadata": {},
     "output_type": "execute_result"
    },
    {
     "data": {
      "text/plain": [
       "Pipeline(memory=None,\n",
       "         steps=[('PCA',\n",
       "                 PCA(copy=True, iterated_power='auto', n_components=50,\n",
       "                     random_state=None, svd_solver='randomized', tol=0.0,\n",
       "                     whiten=False)),\n",
       "                ('CLF', GaussianNB(priors=None, var_smoothing=1e-09))],\n",
       "         verbose=False)"
      ]
     },
     "execution_count": 82,
     "metadata": {},
     "output_type": "execute_result"
    },
    {
     "data": {
      "text/plain": [
       "Pipeline(memory=None,\n",
       "         steps=[('PCA',\n",
       "                 PCA(copy=True, iterated_power='auto', n_components=50,\n",
       "                     random_state=None, svd_solver='randomized', tol=0.0,\n",
       "                     whiten=False)),\n",
       "                ('CLF', GaussianNB(priors=None, var_smoothing=1e-09))],\n",
       "         verbose=False)"
      ]
     },
     "execution_count": 82,
     "metadata": {},
     "output_type": "execute_result"
    },
    {
     "data": {
      "text/plain": [
       "Pipeline(memory=None,\n",
       "         steps=[('PCA',\n",
       "                 PCA(copy=True, iterated_power='auto', n_components=50,\n",
       "                     random_state=None, svd_solver='randomized', tol=0.0,\n",
       "                     whiten=False)),\n",
       "                ('CLF', GaussianNB(priors=None, var_smoothing=1e-09))],\n",
       "         verbose=False)"
      ]
     },
     "execution_count": 82,
     "metadata": {},
     "output_type": "execute_result"
    },
    {
     "data": {
      "text/plain": [
       "Pipeline(memory=None,\n",
       "         steps=[('PCA',\n",
       "                 PCA(copy=True, iterated_power='auto', n_components=50,\n",
       "                     random_state=None, svd_solver='randomized', tol=0.0,\n",
       "                     whiten=False)),\n",
       "                ('CLF', GaussianNB(priors=None, var_smoothing=1e-09))],\n",
       "         verbose=False)"
      ]
     },
     "execution_count": 82,
     "metadata": {},
     "output_type": "execute_result"
    },
    {
     "data": {
      "text/plain": [
       "Pipeline(memory=None,\n",
       "         steps=[('PCA',\n",
       "                 PCA(copy=True, iterated_power='auto', n_components=50,\n",
       "                     random_state=None, svd_solver='randomized', tol=0.0,\n",
       "                     whiten=False)),\n",
       "                ('CLF', GaussianNB(priors=None, var_smoothing=1e-09))],\n",
       "         verbose=False)"
      ]
     },
     "execution_count": 82,
     "metadata": {},
     "output_type": "execute_result"
    },
    {
     "name": "stdout",
     "output_type": "stream",
     "text": [
      "Pipeline accuracy 0.5065104166666666\n"
     ]
    }
   ],
   "source": [
    "from sklearn.naive_bayes import GaussianNB\n",
    "\n",
    "\n",
    "# setup pipeline to take PCA, then fit a different classifier\n",
    "clf_pipe = Pipeline(\n",
    "    [('PCA',PCA(n_components=50,svd_solver='randomized')),\n",
    "     ('CLF',GaussianNB())]\n",
    ")\n",
    "\n",
    "\n",
    "yhat_score = np.zeros((y.shape[0],5))\n",
    "\n",
    "# now iterate through and get predictions, saved to the correct row in yhat\n",
    "for train, test in cv.split(X,y):\n",
    "    clf_pipe.fit(X[train],y[train])\n",
    "    yhat[test] = clf_pipe.predict(X[test])\n",
    "    yhat_score[test] = clf_pipe.predict_proba(X[test])\n",
    "\n",
    "total_accuracy = mt.accuracy_score(y, yhat)\n",
    "print ('Pipeline accuracy', total_accuracy)"
   ]
  },
  {
   "cell_type": "markdown",
   "metadata": {},
   "source": [
    "### Convert y from String to Numeric"
   ]
  },
  {
   "cell_type": "code",
   "execution_count": 109,
   "metadata": {},
   "outputs": [],
   "source": [
    "schoolData_SPG_new = schoolData_SPG_new_org\n",
    "#schoolData_SPG_new_org = schoolData_SPG_new\n",
    "schoolData_SPG_new= np.select(\n",
    "    [\n",
    "        schoolData_SPG_new == 'A', \n",
    "        schoolData_SPG_new == 'B',\n",
    "        schoolData_SPG_new == 'C',\n",
    "        schoolData_SPG_new == 'D',\n",
    "        schoolData_SPG_new == 'F',\n",
    "    ], \n",
    "    [\n",
    "        '0', \n",
    "        '1',\n",
    "        '2',\n",
    "        '3',\n",
    "        '4',\n",
    "    ],\n",
    "    default='NA'\n",
    ")"
   ]
  },
  {
   "cell_type": "code",
   "execution_count": 110,
   "metadata": {},
   "outputs": [],
   "source": [
    "schoolData_SPG_new = schoolData_SPG_new.astype(int)\n",
    "y=schoolData_SPG_new"
   ]
  },
  {
   "cell_type": "code",
   "execution_count": 114,
   "metadata": {},
   "outputs": [
    {
     "data": {
      "text/plain": [
       "array([0, 1, 2, 3, 4])"
      ]
     },
     "execution_count": 114,
     "metadata": {},
     "output_type": "execute_result"
    }
   ],
   "source": [
    "np.unique(y)"
   ]
  },
  {
   "cell_type": "code",
   "execution_count": 143,
   "metadata": {},
   "outputs": [
    {
     "data": {
      "text/plain": [
       "(9216,)"
      ]
     },
     "execution_count": 143,
     "metadata": {},
     "output_type": "execute_result"
    },
    {
     "data": {
      "text/plain": [
       "(9216, 5)"
      ]
     },
     "execution_count": 143,
     "metadata": {},
     "output_type": "execute_result"
    }
   ],
   "source": [
    "y.shape\n",
    "yhat_score.shape"
   ]
  },
  {
   "cell_type": "markdown",
   "metadata": {},
   "source": [
    "### Calculate ROC curves for all classes"
   ]
  },
  {
   "cell_type": "code",
   "execution_count": 123,
   "metadata": {},
   "outputs": [],
   "source": [
    "import seaborn as sns\n",
    "sns.set_palette(\"dark\")\n",
    "# code manipulated from http://scikit-learn.org/stable/auto_examples/plot_roc.html\n",
    "from sklearn.preprocessing import label_binarize\n",
    "\n",
    "# Compute ROC curve for a subset of interesting classes\n",
    "fpr = dict()\n",
    "tpr = dict()\n",
    "roc_auc = dict()\n",
    "for i in np.unique(y):\n",
    "    fpr[i], tpr[i], _ = mt.roc_curve(y, yhat_score[:, i], pos_label=i)\n",
    "    roc_auc[i] = mt.auc(fpr[i], tpr[i])"
   ]
  },
  {
   "cell_type": "code",
   "execution_count": 150,
   "metadata": {},
   "outputs": [
    {
     "data": {
      "text/plain": [
       "(9216,)"
      ]
     },
     "execution_count": 150,
     "metadata": {},
     "output_type": "execute_result"
    }
   ],
   "source": [
    "y.shape"
   ]
  },
  {
   "cell_type": "code",
   "execution_count": 149,
   "metadata": {},
   "outputs": [
    {
     "data": {
      "text/plain": [
       "(9216,)"
      ]
     },
     "execution_count": 149,
     "metadata": {},
     "output_type": "execute_result"
    }
   ],
   "source": [
    "yhat_score[:, i].shape"
   ]
  },
  {
   "cell_type": "code",
   "execution_count": 128,
   "metadata": {},
   "outputs": [
    {
     "data": {
      "text/plain": [
       "{0: 0.8589443653361377,\n",
       " 1: 0.7366682180263485,\n",
       " 2: 0.6712054892362087,\n",
       " 3: 0.7487627336317503,\n",
       " 4: 0.8703839088613492}"
      ]
     },
     "execution_count": 128,
     "metadata": {},
     "output_type": "execute_result"
    }
   ],
   "source": [
    "roc_auc"
   ]
  },
  {
   "cell_type": "code",
   "execution_count": 129,
   "metadata": {},
   "outputs": [
    {
     "data": {
      "text/plain": [
       "[<matplotlib.lines.Line2D at 0x134c61a6708>]"
      ]
     },
     "execution_count": 129,
     "metadata": {},
     "output_type": "execute_result"
    },
    {
     "data": {
      "text/plain": [
       "[<matplotlib.lines.Line2D at 0x134c608f508>]"
      ]
     },
     "execution_count": 129,
     "metadata": {},
     "output_type": "execute_result"
    },
    {
     "data": {
      "text/plain": [
       "[<matplotlib.lines.Line2D at 0x134c61bc688>]"
      ]
     },
     "execution_count": 129,
     "metadata": {},
     "output_type": "execute_result"
    },
    {
     "data": {
      "text/plain": [
       "[<matplotlib.lines.Line2D at 0x134c6164708>]"
      ]
     },
     "execution_count": 129,
     "metadata": {},
     "output_type": "execute_result"
    },
    {
     "data": {
      "text/plain": [
       "[<matplotlib.lines.Line2D at 0x134c61972c8>]"
      ]
     },
     "execution_count": 129,
     "metadata": {},
     "output_type": "execute_result"
    },
    {
     "data": {
      "text/plain": [
       "<matplotlib.legend.Legend at 0x134c61a4088>"
      ]
     },
     "execution_count": 129,
     "metadata": {},
     "output_type": "execute_result"
    },
    {
     "data": {
      "text/plain": [
       "Text(0.5, 0, 'False Positive Rate')"
      ]
     },
     "execution_count": 129,
     "metadata": {},
     "output_type": "execute_result"
    },
    {
     "data": {
      "text/plain": [
       "Text(0, 0.5, 'True Positive Rate')"
      ]
     },
     "execution_count": 129,
     "metadata": {},
     "output_type": "execute_result"
    },
    {
     "data": {
      "image/png": "[encoded data removed]",
      "text/plain": [
       "<Figure size 432x288 with 1 Axes>"
      ]
     },
     "metadata": {
      "needs_background": "light"
     },
     "output_type": "display_data"
    }
   ],
   "source": [
    "for i in np.random.permutation(5)[0:5]:\n",
    "    plt.plot(fpr[i], tpr[i], label='class {0} with {1} instances (area = {2:0.2f})'\n",
    "                                   ''.format(i, sum(y==i), roc_auc[i]))\n",
    "\n",
    "plt.legend(loc=\"lower right\")  \n",
    "plt.xlabel('False Positive Rate')\n",
    "plt.ylabel('True Positive Rate')\n",
    "plt.show()"
   ]
  },
  {
   "cell_type": "markdown",
   "metadata": {},
   "source": [
    "### Calculate ROC curve overall\n",
    "Have some issues"
   ]
  },
  {
   "cell_type": "code",
   "execution_count": 134,
   "metadata": {},
   "outputs": [],
   "source": [
    "one_hot_class_encoding = label_binarize(y,np.unique(y))"
   ]
  },
  {
   "cell_type": "code",
   "execution_count": 144,
   "metadata": {},
   "outputs": [
    {
     "data": {
      "text/plain": [
       "array([[1, 0, 0, 0, 0],\n",
       "       [0, 0, 1, 0, 0],\n",
       "       [0, 0, 1, 0, 0],\n",
       "       ...,\n",
       "       [0, 1, 0, 0, 0],\n",
       "       [0, 1, 0, 0, 0],\n",
       "       [0, 1, 0, 0, 0]])"
      ]
     },
     "execution_count": 144,
     "metadata": {},
     "output_type": "execute_result"
    }
   ],
   "source": [
    "one_hot_class_encoding"
   ]
  },
  {
   "cell_type": "code",
   "execution_count": 145,
   "metadata": {},
   "outputs": [
    {
     "data": {
      "text/plain": [
       "array([9.77676755e-01, 1.40731309e-07, 5.13326020e-07, ...,\n",
       "       3.68493847e-01, 1.33064474e-02, 1.29004901e-03])"
      ]
     },
     "execution_count": 145,
     "metadata": {},
     "output_type": "execute_result"
    }
   ],
   "source": [
    "yhat_score.ravel()"
   ]
  },
  {
   "cell_type": "code",
   "execution_count": 167,
   "metadata": {},
   "outputs": [
    {
     "ename": "ValueError",
     "evalue": "multilabel-indicator format is not supported",
     "output_type": "error",
     "traceback": [
      "\u001b[1;31m---------------------------------------------------------------------------\u001b[0m",
      "\u001b[1;31mValueError\u001b[0m                                Traceback (most recent call last)",
      "\u001b[1;32m<ipython-input-167-88edf0947d11>\u001b[0m in \u001b[0;36m<module>\u001b[1;34m\u001b[0m\n\u001b[0;32m      1\u001b[0m \u001b[1;31m# combined ROC over all classes\u001b[0m\u001b[1;33m\u001b[0m\u001b[1;33m\u001b[0m\u001b[1;33m\u001b[0m\u001b[0m\n\u001b[0;32m      2\u001b[0m \u001b[0mone_hot_class_encoding\u001b[0m \u001b[1;33m=\u001b[0m \u001b[0mlabel_binarize\u001b[0m\u001b[1;33m(\u001b[0m\u001b[0mschoolData_SPG_new_org\u001b[0m\u001b[1;33m,\u001b[0m\u001b[0mnp\u001b[0m\u001b[1;33m.\u001b[0m\u001b[0munique\u001b[0m\u001b[1;33m(\u001b[0m\u001b[0my\u001b[0m\u001b[1;33m)\u001b[0m\u001b[1;33m)\u001b[0m\u001b[1;33m\u001b[0m\u001b[1;33m\u001b[0m\u001b[0m\n\u001b[1;32m----> 3\u001b[1;33m \u001b[0mfpr\u001b[0m\u001b[1;33m[\u001b[0m\u001b[1;34m\"micro\"\u001b[0m\u001b[1;33m]\u001b[0m\u001b[1;33m,\u001b[0m \u001b[0mtpr\u001b[0m\u001b[1;33m[\u001b[0m\u001b[1;34m\"micro\"\u001b[0m\u001b[1;33m]\u001b[0m\u001b[1;33m,\u001b[0m \u001b[0m_\u001b[0m \u001b[1;33m=\u001b[0m \u001b[0mmt\u001b[0m\u001b[1;33m.\u001b[0m\u001b[0mroc_curve\u001b[0m\u001b[1;33m(\u001b[0m\u001b[0mone_hot_class_encoding\u001b[0m\u001b[1;33m,\u001b[0m \u001b[0myhat_score\u001b[0m\u001b[1;33m.\u001b[0m\u001b[0mravel\u001b[0m\u001b[1;33m(\u001b[0m\u001b[1;33m)\u001b[0m\u001b[1;33m)\u001b[0m\u001b[1;33m\u001b[0m\u001b[1;33m\u001b[0m\u001b[0m\n\u001b[0m\u001b[0;32m      4\u001b[0m \u001b[0mroc_auc\u001b[0m\u001b[1;33m[\u001b[0m\u001b[1;34m\"micro\"\u001b[0m\u001b[1;33m]\u001b[0m \u001b[1;33m=\u001b[0m \u001b[0mmt\u001b[0m\u001b[1;33m.\u001b[0m\u001b[0mauc\u001b[0m\u001b[1;33m(\u001b[0m\u001b[0mfpr\u001b[0m\u001b[1;33m[\u001b[0m\u001b[1;34m\"micro\"\u001b[0m\u001b[1;33m]\u001b[0m\u001b[1;33m,\u001b[0m \u001b[0mtpr\u001b[0m\u001b[1;33m[\u001b[0m\u001b[1;34m\"micro\"\u001b[0m\u001b[1;33m]\u001b[0m\u001b[1;33m)\u001b[0m\u001b[1;33m\u001b[0m\u001b[1;33m\u001b[0m\u001b[0m\n\u001b[0;32m      5\u001b[0m \u001b[1;33m\u001b[0m\u001b[0m\n",
      "\u001b[1;32m~\\Anaconda3\\envs\\ML7331\\lib\\site-packages\\sklearn\\metrics\\_ranking.py\u001b[0m in \u001b[0;36mroc_curve\u001b[1;34m(y_true, y_score, pos_label, sample_weight, drop_intermediate)\u001b[0m\n\u001b[0;32m    769\u001b[0m     \"\"\"\n\u001b[0;32m    770\u001b[0m     fps, tps, thresholds = _binary_clf_curve(\n\u001b[1;32m--> 771\u001b[1;33m         y_true, y_score, pos_label=pos_label, sample_weight=sample_weight)\n\u001b[0m\u001b[0;32m    772\u001b[0m \u001b[1;33m\u001b[0m\u001b[0m\n\u001b[0;32m    773\u001b[0m     \u001b[1;31m# Attempt to drop thresholds corresponding to points in between and\u001b[0m\u001b[1;33m\u001b[0m\u001b[1;33m\u001b[0m\u001b[1;33m\u001b[0m\u001b[0m\n",
      "\u001b[1;32m~\\Anaconda3\\envs\\ML7331\\lib\\site-packages\\sklearn\\metrics\\_ranking.py\u001b[0m in \u001b[0;36m_binary_clf_curve\u001b[1;34m(y_true, y_score, pos_label, sample_weight)\u001b[0m\n\u001b[0;32m    534\u001b[0m     if not (y_type == \"binary\" or\n\u001b[0;32m    535\u001b[0m             (y_type == \"multiclass\" and pos_label is not None)):\n\u001b[1;32m--> 536\u001b[1;33m         \u001b[1;32mraise\u001b[0m \u001b[0mValueError\u001b[0m\u001b[1;33m(\u001b[0m\u001b[1;34m\"{0} format is not supported\"\u001b[0m\u001b[1;33m.\u001b[0m\u001b[0mformat\u001b[0m\u001b[1;33m(\u001b[0m\u001b[0my_type\u001b[0m\u001b[1;33m)\u001b[0m\u001b[1;33m)\u001b[0m\u001b[1;33m\u001b[0m\u001b[1;33m\u001b[0m\u001b[0m\n\u001b[0m\u001b[0;32m    537\u001b[0m \u001b[1;33m\u001b[0m\u001b[0m\n\u001b[0;32m    538\u001b[0m     \u001b[0mcheck_consistent_length\u001b[0m\u001b[1;33m(\u001b[0m\u001b[0my_true\u001b[0m\u001b[1;33m,\u001b[0m \u001b[0my_score\u001b[0m\u001b[1;33m,\u001b[0m \u001b[0msample_weight\u001b[0m\u001b[1;33m)\u001b[0m\u001b[1;33m\u001b[0m\u001b[1;33m\u001b[0m\u001b[0m\n",
      "\u001b[1;31mValueError\u001b[0m: multilabel-indicator format is not supported"
     ]
    }
   ],
   "source": [
    "# combined ROC over all classes\n",
    "one_hot_class_encoding = label_binarize(y,np.unique(y))\n",
    "fpr[\"micro\"], tpr[\"micro\"], _ = mt.roc_curve(one_hot_class_encoding, yhat_score.ravel())\n",
    "roc_auc[\"micro\"] = mt.auc(fpr[\"micro\"], tpr[\"micro\"])\n",
    "\n",
    "plt.figure(figsize=(12,4))\n",
    "plt.plot(fpr[\"micro\"], tpr[\"micro\"],\n",
    "         label='micro-average ROC curve (area = {0:0.2f})'\n",
    "               ''.format(roc_auc[\"micro\"]))"
   ]
  },
  {
   "cell_type": "markdown",
   "metadata": {},
   "source": [
    "## Crossvalidation Function: StratifiedKFold, more measurements"
   ]
  },
  {
   "cell_type": "code",
   "execution_count": 152,
   "metadata": {},
   "outputs": [],
   "source": [
    "from sklearn.model_selection import GridSearchCV\n",
    "from sklearn.model_selection import cross_validate\n",
    "import time\n",
    "\n",
    "from sklearn.model_selection import StratifiedKFold\n",
    "cv = StratifiedKFold(n_splits=10,shuffle=True, random_state=42)\n",
    "\n",
    "def stratified_cross_validate(model, X, y, cv=cv):\n",
    "    start = time.time()\n",
    "    cv_results = cross_validate(model, X, y, cv=cv, scoring=\"accuracy\", n_jobs=-1)\n",
    "    elapsed_time = (time.time() - start) \n",
    "    print ('Fold Scores:')\n",
    "    print(' ')\n",
    "    print(cv_results['test_score'])\n",
    "    print(' ')\n",
    "    print('Mean Accuracy: ', cv_results['test_score'].mean())\n",
    "    print('Mean Fit Time: ', cv_results['fit_time'].mean())\n",
    "    print('Mean Score Time: ', cv_results['score_time'].mean())\n",
    "    print('CV Time: ', elapsed_time)\n",
    "    return"
   ]
  },
  {
   "cell_type": "markdown",
   "metadata": {},
   "source": [
    "## Function test multiple classifier\n",
    "- GaussianNB\n",
    "- MultinomialNB\n",
    "- SGDClassifier\n",
    "- RandomForestClassifier\n",
    "- LinearSVC\n",
    "- LogisticRegression"
   ]
  },
  {
   "cell_type": "code",
   "execution_count": 187,
   "metadata": {},
   "outputs": [],
   "source": [
    "# Sklearn Classifiers \n",
    "from sklearn.naive_bayes import MultinomialNB, GaussianNB \n",
    "from sklearn.linear_model import SGDClassifier\n",
    "from sklearn.ensemble import RandomForestClassifier\n",
    "from sklearn.svm import LinearSVC\n",
    "from sklearn.linear_model import LogisticRegression\n",
    "#from xgboost import XGBClassifier\n",
    "\n",
    "\n",
    "models = [\n",
    "    #XGBClassifier(),\n",
    "    GaussianNB(), \n",
    "    MultinomialNB(),\n",
    "    SGDClassifier(loss='hinge', penalty='l2',alpha=1e-3,max_iter=5, \n",
    "                  tol=None, n_jobs=-1, random_state=42),\n",
    "    #RandomForestClassifier(n_estimators=200, max_depth=3, \n",
    "    #                       n_jobs=-1, random_state=42),\n",
    "    RandomForestClassifier(n_estimators=200, max_depth=50, \n",
    "                           n_jobs=-1, random_state=42),\n",
    "    #LinearSVC(random_state=42),\n",
    "    #LogisticRegression(n_jobs=-1, random_state=42)\n",
    "]\n",
    "\n",
    "model_names = ['GaussianNB','MultinomialNB','SGDClassifier',\n",
    "               'RandomForestClassifier','LinearSVC','LogisticRegression']\n",
    "\n",
    "\n",
    "    \n",
    "def test_models(X, y):\n",
    "    for model, model_name in zip(models,model_names):\n",
    "        print(model_name)\n",
    "        print('--------------------------------')\n",
    "        stratified_cross_validate(model,X,y)\n",
    "        acc = cross_val_score(model,X,y)\n",
    "        print(acc.mean())\n",
    "        print(' ')"
   ]
  },
  {
   "cell_type": "code",
   "execution_count": 188,
   "metadata": {
    "scrolled": true
   },
   "outputs": [
    {
     "name": "stdout",
     "output_type": "stream",
     "text": [
      "GaussianNB\n",
      "--------------------------------\n",
      "Fold Scores:\n",
      " \n",
      "[0.51301518 0.52494577 0.52277657 0.53036876 0.52386117 0.54663774\n",
      " 0.51791531 0.52877307 0.55808903 0.52660152]\n",
      " \n",
      "Mean Accuracy:  0.529298414201295\n",
      "Mean Fit Time:  0.044236183166503906\n",
      "Mean Score Time:  0.0045849323272705075\n",
      "CV Time:  0.2608151435852051\n",
      "0.5252817426081922\n",
      " \n",
      "MultinomialNB\n",
      "--------------------------------\n",
      "Fold Scores:\n",
      " \n",
      "[nan nan nan nan nan nan nan nan nan nan]\n",
      " \n",
      "Mean Accuracy:  nan\n",
      "Mean Fit Time:  0.01815798282623291\n",
      "Mean Score Time:  0.0\n",
      "CV Time:  0.10870838165283203\n",
      "nan\n",
      " \n",
      "SGDClassifier\n",
      "--------------------------------\n",
      "Fold Scores:\n",
      " \n",
      "[0.56724512 0.57158351 0.55639913 0.5791757  0.57809111 0.50433839\n",
      " 0.53745928 0.53528773 0.54288817 0.56460369]\n",
      " \n",
      "Mean Accuracy:  0.5537071842593051\n",
      "Mean Fit Time:  0.1445650577545166\n",
      "Mean Score Time:  0.0011889219284057617\n",
      "CV Time:  0.5589373111724854\n",
      "0.5661859436479474\n",
      " \n",
      "RandomForestClassifier\n",
      "--------------------------------\n",
      "Fold Scores:\n",
      " \n",
      "[0.72234273 0.73752711 0.73644252 0.72451193 0.71691974 0.70715835\n",
      " 0.72095548 0.73724213 0.71878393 0.72421281]\n",
      " \n",
      "Mean Accuracy:  0.7246096740080221\n",
      "Mean Fit Time:  13.417803621292114\n",
      "Mean Score Time:  0.5957603216171264\n",
      "CV Time:  39.26089668273926\n",
      "0.6907544875786085\n",
      " \n"
     ]
    }
   ],
   "source": [
    "test_models(X,y)"
   ]
  },
  {
   "cell_type": "markdown",
   "metadata": {},
   "source": [
    "### RF hyperparameter changes the accuracy score a lot\n",
    "- MaxDepth\n",
    "- nEstimator "
   ]
  },
  {
   "cell_type": "markdown",
   "metadata": {},
   "source": [
    "## Scaling and PCA\n",
    "### All the Xs below are scaled"
   ]
  },
  {
   "cell_type": "code",
   "execution_count": 155,
   "metadata": {},
   "outputs": [],
   "source": [
    "from sklearn.preprocessing import StandardScaler\n",
    "# Scale the data \n",
    "ss = StandardScaler()\n",
    "X = ss.fit_transform(X)"
   ]
  },
  {
   "cell_type": "code",
   "execution_count": 156,
   "metadata": {},
   "outputs": [
    {
     "name": "stdout",
     "output_type": "stream",
     "text": [
      "Cumulative Explained variance at 200 components: 0.9999999999999997\n"
     ]
    },
    {
     "data": {
      "image/png": "[encoded data removed]",
      "text/plain": [
       "<Figure size 576x576 with 1 Axes>"
      ]
     },
     "metadata": {
      "needs_background": "light"
     },
     "output_type": "display_data"
    }
   ],
   "source": [
    "from sklearn.decomposition import PCA\n",
    "import matplotlib.pyplot as plt\n",
    "\n",
    "def plot_pca(X):\n",
    "    # Perform PCA on the data to reduce the number of initial features \n",
    "    # and to remove correlations that are common between pixel features \n",
    "    pca = PCA(n_components=X.shape[1])\n",
    "    pca.fit(X)\n",
    "\n",
    "    # Inspect the explained variances to determine how many components to use  \n",
    "    plt.subplots(figsize=(8, 8))\n",
    "    plt.plot(np.cumsum(pca.explained_variance_ratio_))\n",
    "    plt.xlabel('number of components')\n",
    "    plt.ylabel('cumulative explained variance');\n",
    "    print('Cumulative Explained variance at 200 components:',sum(pca.explained_variance_ratio_[0:199]) )\n",
    "    \n",
    "plot_pca(X)"
   ]
  },
  {
   "cell_type": "code",
   "execution_count": 162,
   "metadata": {},
   "outputs": [],
   "source": [
    "y=schoolData_SPG_new"
   ]
  },
  {
   "cell_type": "markdown",
   "metadata": {},
   "source": [
    "### Function to plot the current class distribution and counts"
   ]
  },
  {
   "cell_type": "code",
   "execution_count": 10,
   "metadata": {},
   "outputs": [],
   "source": [
    "import numpy as np\n",
    "import pandas as pd\n",
    "import matplotlib.pyplot as plt\n",
    "import seaborn as sns\n",
    "%matplotlib inline\n",
    "\n",
    "# Adapted from:\n",
    "# https://www.featureranking.com/tutorials/machine-learning-tutorials/information-gain-computation/\n",
    "def gini_index(y):\n",
    "    probs = pd.value_counts(y,normalize=True)\n",
    "    return 1 - np.sum(np.square(probs))\n",
    "\n",
    "def plot_class_dist(y):\n",
    "    fig, axarr = plt.subplots(1, 2, figsize=(18, 6))\n",
    "    class_ct = len(np.unique(y))\n",
    "    vc = pd.value_counts(y)\n",
    "    print('Total Records', len(y))\n",
    "    print('Total Classes:', class_ct)\n",
    "    print('Class Gini Index', gini_index(y))\n",
    "    print('Smallest Class Id:',vc.idxmin(),'Records:',vc.min())\n",
    "    print('Largest Class Id:',vc.idxmax(),'Records:',vc.max())\n",
    "    print('Accuracy when Guessing:', np.round( (1 / len(np.unique(y))) * 100, 2), '%')\n",
    "\n",
    "    sns.distplot(y, ax=axarr[0], bins=class_ct).set_title('LFW Class Distribution');\n",
    "    sns.distplot(y, ax=axarr[1], kde=False, bins=class_ct).set_title('LFW Class Counts');\n",
    "    \n",
    "\n",
    "#plot_class_dist(y)"
   ]
  },
  {
   "cell_type": "markdown",
   "metadata": {},
   "source": [
    "## Single Stratify Train/Test Split"
   ]
  },
  {
   "cell_type": "code",
   "execution_count": 169,
   "metadata": {},
   "outputs": [
    {
     "data": {
      "text/plain": [
       "LogisticRegression(C=1.0, class_weight=None, dual=False, fit_intercept=True,\n",
       "                   intercept_scaling=1, l1_ratio=None, max_iter=100,\n",
       "                   multi_class='auto', n_jobs=None, penalty='l2',\n",
       "                   random_state=42, solver='liblinear', tol=0.0001, verbose=0,\n",
       "                   warm_start=False)"
      ]
     },
     "execution_count": 169,
     "metadata": {},
     "output_type": "execute_result"
    },
    {
     "data": {
      "text/plain": [
       "(<Figure size 720x720 with 1 Axes>,\n",
       " <matplotlib.axes._subplots.AxesSubplot at 0x134801a91c8>)"
      ]
     },
     "execution_count": 169,
     "metadata": {},
     "output_type": "execute_result"
    },
    {
     "data": {
      "text/plain": [
       "<matplotlib.image.AxesImage at 0x134801761c8>"
      ]
     },
     "execution_count": 169,
     "metadata": {},
     "output_type": "execute_result"
    },
    {
     "data": {
      "text/plain": [
       "Text(0.5, 0, 'Predicted')"
      ]
     },
     "execution_count": 169,
     "metadata": {},
     "output_type": "execute_result"
    },
    {
     "data": {
      "text/plain": [
       "Text(0, 0.5, 'Expected')"
      ]
     },
     "execution_count": 169,
     "metadata": {},
     "output_type": "execute_result"
    },
    {
     "data": {
      "image/png": "[encoded data removed]",
      "text/plain": [
       "<Figure size 720x720 with 1 Axes>"
      ]
     },
     "metadata": {
      "needs_background": "light"
     },
     "output_type": "display_data"
    }
   ],
   "source": [
    "from sklearn.model_selection import train_test_split\n",
    "#from StrandSliceClassifier import StrandSliceClassifier\n",
    "from sklearn.linear_model import LogisticRegression\n",
    "\n",
    "# Break our data into 70% training and 30% test\n",
    "X_train, X_test, y_train, y_test = train_test_split(X, y, test_size=0.30, random_state=42, stratify=y)\n",
    "\n",
    "# Use StrandSliceClassifier to build a model and predict on the test set\n",
    "strand = LogisticRegression(solver='liblinear', random_state=42)\n",
    "strand.fit(X_train, y_train)\n",
    "y_pred = strand.predict(X_test)\n",
    "\n",
    "# Create a confusion matrix to see what classes StrandSliceClassifier is getting wrong \n",
    "from sklearn.metrics import confusion_matrix\n",
    "from matplotlib import pyplot as plt\n",
    "\n",
    "plt.subplots(figsize=(10, 10))\n",
    "cm = confusion_matrix(y_true=y_test, y_pred=y_pred)\n",
    "cm_normalized = cm.astype('float') / cm.sum(axis=1)[:, np.newaxis]\n",
    "plt.imshow(cm_normalized,cmap=plt.get_cmap('Blues'),aspect='auto')\n",
    "plt.xlabel('Predicted')\n",
    "plt.ylabel('Expected')\n",
    "plt.grid(False)"
   ]
  },
  {
   "cell_type": "code",
   "execution_count": 191,
   "metadata": {},
   "outputs": [
    {
     "data": {
      "text/plain": [
       "0.6003662212534265"
      ]
     },
     "execution_count": 191,
     "metadata": {},
     "output_type": "execute_result"
    }
   ],
   "source": [
    "cross_val_score(strand,X,y).mean()"
   ]
  },
  {
   "cell_type": "code",
   "execution_count": 170,
   "metadata": {},
   "outputs": [
    {
     "name": "stdout",
     "output_type": "stream",
     "text": [
      "Fold Scores:\n",
      " \n",
      "[0.5835141  0.57049892 0.61822126 0.5845987  0.59761388 0.59869848\n",
      " 0.57763301 0.58740499 0.6102063  0.61563518]\n",
      " \n",
      "Mean Accuracy:  0.5944024815052958\n",
      "Mean Fit Time:  1.0978695154190063\n",
      "Mean Score Time:  0.001194930076599121\n",
      "CV Time:  5.435153245925903\n"
     ]
    }
   ],
   "source": [
    "lr = LogisticRegression(n_jobs=-1, random_state=42, class_weight=\"balanced\")\n",
    "stratified_cross_validate(lr, X, y, cv)"
   ]
  },
  {
   "cell_type": "markdown",
   "metadata": {},
   "source": [
    "## Test Smote (with scaled Xs)"
   ]
  },
  {
   "cell_type": "code",
   "execution_count": 171,
   "metadata": {},
   "outputs": [
    {
     "name": "stdout",
     "output_type": "stream",
     "text": [
      "Total Records 19865\n",
      "Total Classes: 5\n",
      "Class Gini Index 0.7999999999999999\n",
      "Smallest Class Id: 4 Records: 3973\n",
      "Largest Class Id: 4 Records: 3973\n",
      "Accuracy when Guessing: 20.0 %\n"
     ]
    },
    {
     "data": {
      "image/png": "[encoded data removed]",
      "text/plain": [
       "<Figure size 1296x432 with 2 Axes>"
      ]
     },
     "metadata": {
      "needs_background": "light"
     },
     "output_type": "display_data"
    }
   ],
   "source": [
    "from imblearn.over_sampling import SMOTE\n",
    "\n",
    "# Oversample using SMOTE\n",
    "# Make all classes the same size as the majority class.\n",
    "# WARNING - This can exponentially increase the size of the input dataset.\n",
    "sm = SMOTE(sampling_strategy='not majority')\n",
    "X_sm, y_sm = sm.fit_sample(X, y)\n",
    "\n",
    "# Plot the new class distributions for y using the same funnction as above. \n",
    "plot_class_dist(y_sm)"
   ]
  },
  {
   "cell_type": "code",
   "execution_count": 172,
   "metadata": {},
   "outputs": [
    {
     "name": "stdout",
     "output_type": "stream",
     "text": [
      "Original Dataset Scaled\n",
      "----------------------------------------------------------------\n",
      "Fold Scores:\n",
      " \n",
      "[0.64099783 0.64967462 0.68763557 0.65618221 0.64533623 0.62255965\n",
      " 0.62106406 0.65689468 0.65038002 0.65038002]\n",
      " \n",
      "Mean Accuracy:  0.648110490106717\n",
      "Mean Fit Time:  0.9673942565917969\n",
      "Mean Score Time:  0.001096057891845703\n",
      "CV Time:  2.9937729835510254\n",
      "\n",
      "Oversample all Classes to Majority Dataset\n",
      "----------------------------------------------------------------\n",
      "Fold Scores:\n",
      " \n",
      "[0.70256668 0.72571716 0.71967791 0.70306995 0.70659285 0.70241692\n",
      " 0.69284995 0.6998993  0.6898288  0.68831823]\n",
      " \n",
      "Mean Accuracy:  0.703093775198407\n",
      "Mean Fit Time:  2.358337378501892\n",
      "Mean Score Time:  0.0014955997467041016\n",
      "CV Time:  6.842618703842163\n"
     ]
    }
   ],
   "source": [
    "lr = LogisticRegression(n_jobs=-1, random_state=42)\n",
    "\n",
    "print('Original Dataset Scaled')\n",
    "print('----------------------------------------------------------------')\n",
    "stratified_cross_validate(lr, X, y)\n",
    "print('\\nOversample all Classes to Majority Dataset')\n",
    "print('----------------------------------------------------------------')\n",
    "stratified_cross_validate(lr, X_sm, y_sm)"
   ]
  },
  {
   "cell_type": "markdown",
   "metadata": {},
   "source": [
    "## PCA of SMOTE"
   ]
  },
  {
   "cell_type": "code",
   "execution_count": 173,
   "metadata": {},
   "outputs": [
    {
     "name": "stdout",
     "output_type": "stream",
     "text": [
      "Cumulative Explained variance at 200 components: 1.0000000000000002\n"
     ]
    },
    {
     "data": {
      "image/png": "[encoded data removed]",
      "text/plain": [
       "<Figure size 576x576 with 1 Axes>"
      ]
     },
     "metadata": {
      "needs_background": "light"
     },
     "output_type": "display_data"
    }
   ],
   "source": [
    "plot_pca(X_sm)"
   ]
  },
  {
   "cell_type": "code",
   "execution_count": null,
   "metadata": {},
   "outputs": [],
   "source": [
    "# Convert X_sm to 200 principal components\n",
    "pca = PCA(n_components=40)\n",
    "X_sm_pca40 = pca.fit_transform(X_sm)\n",
    "\n",
    "cv = StratifiedKFold(n_splits=10, shuffle=True, random_state=42)\n",
    "print('Oversample all Classes to Majority Dataset @ 40 Principal Components')\n",
    "print('----------------------------------------------------------------')\n",
    "stratified_cross_validate(LogisticRegression(), X_sm_pca40, y_sm, cv)"
   ]
  },
  {
   "cell_type": "markdown",
   "metadata": {},
   "source": [
    "## Test all regressors with SMOTE data first 40 PCA components"
   ]
  },
  {
   "cell_type": "code",
   "execution_count": 193,
   "metadata": {},
   "outputs": [
    {
     "name": "stdout",
     "output_type": "stream",
     "text": [
      "GaussianNB\n",
      "--------------------------------\n",
      "Fold Scores:\n",
      " \n",
      "[0.57423251 0.57674887 0.55762456 0.55963764 0.5691998  0.57301108\n",
      " 0.54380665 0.56747231 0.56243706 0.51208459]\n",
      " \n",
      "Mean Accuracy:  0.5596255063755295\n",
      "Mean Fit Time:  0.0768932819366455\n",
      "Mean Score Time:  0.01376359462738037\n",
      "CV Time:  2.34732985496521\n",
      "0.5126604580921219\n",
      " \n",
      "MultinomialNB\n",
      "--------------------------------\n",
      "Fold Scores:\n",
      " \n",
      "[nan nan nan nan nan nan nan nan nan nan]\n",
      " \n",
      "Mean Accuracy:  nan\n",
      "Mean Fit Time:  0.036501383781433104\n",
      "Mean Score Time:  0.0\n",
      "CV Time:  0.18851542472839355\n",
      "nan\n",
      " \n",
      "SGDClassifier\n",
      "--------------------------------\n",
      "Fold Scores:\n",
      " \n",
      "[0.60442879 0.62304982 0.61248113 0.5953699  0.60342224 0.64249748\n",
      " 0.6102719  0.61782477 0.60624371 0.61782477]\n",
      " \n",
      "Mean Accuracy:  0.6133414525736522\n",
      "Mean Fit Time:  0.23485653400421141\n",
      "Mean Score Time:  0.0025923728942871095\n",
      "CV Time:  0.8277504444122314\n",
      "0.5764913163856028\n",
      " \n",
      "RandomForestClassifier\n",
      "--------------------------------\n",
      "Fold Scores:\n",
      " \n",
      "[0.86763966 0.88575742 0.86914947 0.8721691  0.87267237 0.87311178\n",
      " 0.87915408 0.87059416 0.87663646 0.86203424]\n",
      " \n",
      "Mean Accuracy:  0.8728918737148972\n",
      "Mean Fit Time:  51.904742574691774\n",
      "Mean Score Time:  0.7306568622589111\n",
      "CV Time:  146.5325767993927\n",
      "0.8225018877422603\n",
      " \n"
     ]
    }
   ],
   "source": [
    "# Compare the Oversampled, PCA dataset our baseline accuracy\n",
    "test_models(X_sm_pca40,y_sm)"
   ]
  }
 ],
 "metadata": {
  "kernelspec": {
   "display_name": "Python 3",
   "language": "python",
   "name": "python3"
  },
  "language_info": {
   "codemirror_mode": {
    "name": "ipython",
    "version": 3
   },
   "file_extension": ".py",
   "mimetype": "text/x-python",
   "name": "python",
   "nbconvert_exporter": "python",
   "pygments_lexer": "ipython3",
   "version": "3.7.7"
  }
 },
 "nbformat": 4,
 "nbformat_minor": 4
}
