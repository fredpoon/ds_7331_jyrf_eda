{
 "cells": [
  {
   "cell_type": "markdown",
   "metadata": {},
   "source": [
    "# Lab 2 - Classification\n",
    "#### Yang Zhang, Reannan McDaniel, Jonathon Roach, Fred Poon\n",
    "##### 07/03/2020\n",
    "##### Machine Learning 1 | MSDS_7331"
   ]
  },
  {
   "cell_type": "markdown",
   "metadata": {},
   "source": [
    "## Business Understanding\n",
    "For this analysis, our group will be working with North Carolina Public Schools Report Card and Statistical Profiles Data sets from the years 2014 to 2017. These data sets encompass information across 4 continuous years of educational attributes in North Carolina, USA.  The data is collected from the State of North Carolina at [http://ncpublicschools.org](http://ncpublicschools.org) and made available from the Belk Endowment Educational Attainment Data Repository for North Carolina Public Schools by Dr. Jake Drew. Among other reasons, the data was collected for evaluation of public-school performance for the purpose of efficiently allocating funds to various educational initiatives. Analyses of such data are important because high-impact educational initiatives that are well-funded contribute to increased graduation rates, increased achievement at the post-secondary level, less crime, and greater economic engagement among young people. For the purpose of this exercise, our focus is on predicting graduation rates using various school characteristics, such as type of school (elementary, middle, high, or some combination of the three), social demographics, economic demographics, and location between 2014 and 2017. The Belk Foundation's website says, \"Our goal is to empower today’s workforce by creating pathways to and through postsecondary education for underrepresented students\". -->\n",
    "\n",
    "For the sake of this analysis, we assume that better performing schools have better outcomes in postsecondary education. With North Carolina's rapidly changing demographics, it is important to take into consideration schools' unique needs when allocating funds to strategic investment initiatives. Here, we explore where funding can be best applied based on educational achievement data.\n",
    "\n",
    "We will explore through visual and mathematical modeling which features best predict the graduation rate. The analysis will come in a combination of classification models to predict. In this analysis we will observe:\n",
    "\n",
    "- What classification model provides the higher accuracy score?"
   ]
  },
  {
   "cell_type": "markdown",
   "metadata": {},
   "source": [
    "## Data Understanding"
   ]
  },
  {
   "cell_type": "markdown",
   "metadata": {},
   "source": [
    "Within the 259 variables in the The North Carolina Education dataset, we are interested in understanding how School Performance Grade or SPG Grade is calculated and what attributes have the most effect on the classification. It is important to understand what SPG Grade is and how it is calculated. SPG Grade is a letter grade of “A”-“F” that is comprised of SPG Score, a number grade of 0-100. The scoring is rubric is “A” = SPG Score of 85-100, “B” = 70-84, “C” = 55-69, “D” = 40-54, “F” = < 40. We also need to explain how SPG Score is generated. The school achievement score makes 80% of the SPG Score and it measures EOG (End of Grade)Reading and Math for grades 3-8, EOC (Education Outreach Committee) science, biology, math and english and ACT scores and Graduation Rates. EVAAS (Education Value-Added Assessment System) Growth Score makes up the remaining 20% of the SPG Score. This attribute includes education value added assessment system and composite index of growth. When evaluating SPG Grade, it is important to remove or make note of these variables in the list of dependent variables in the model due to the correlation will be skewed."
   ]
  },
  {
   "cell_type": "markdown",
   "metadata": {},
   "source": [
    "## Data Preparation 1 - The Variables\n",
    "Two separate tasks are performed for the education dataset: The first is a classification task for SPG Grade, the second is a regression task for graduation rate. Because the target variables are different, different scopes/subsets of data are used for these tasks. Below we are introducting the data preparation stages of the two tasks separately."
   ]
  },
  {
   "cell_type": "code",
   "execution_count": 3,
   "metadata": {},
   "outputs": [],
   "source": [
    "import pandas as pd  \n",
    "import numpy as np\n",
    "import matplotlib.pyplot as plt\n",
    "import seaborn as sns\n",
    "import warnings\n",
    "warnings.filterwarnings(\"ignore\")\n",
    "\n",
    "# For multiple line outputs\n",
    "from IPython.core.interactiveshell import InteractiveShell\n",
    "InteractiveShell.ast_node_interactivity = \"all\""
   ]
  },
  {
   "cell_type": "markdown",
   "metadata": {},
   "source": [
    "### Data Preparation for Classification Task\n",
    "#### Data Preparation Workflow\n",
    "- Data Merge\n",
    "- One Hot-encoding\n",
    "- Feature Selection\n",
    "- Data Balancing"
   ]
  },
  {
   "cell_type": "markdown",
   "metadata": {},
   "source": [
    "#### Data Merge\n",
    "\n",
    "We combined dataset of all public schools in north Carolina from year 2014-2017 together. We also add a variable \"Year\" to note the calendar year the data come from."
   ]
  },
  {
   "cell_type": "code",
   "execution_count": 9,
   "metadata": {},
   "outputs": [
    {
     "data": {
      "text/plain": [
       "(2426, 318)"
      ]
     },
     "execution_count": 9,
     "metadata": {},
     "output_type": "execute_result"
    },
    {
     "data": {
      "text/plain": [
       "(2432, 335)"
      ]
     },
     "execution_count": 9,
     "metadata": {},
     "output_type": "execute_result"
    },
    {
     "data": {
      "text/plain": [
       "(2430, 328)"
      ]
     },
     "execution_count": 9,
     "metadata": {},
     "output_type": "execute_result"
    },
    {
     "data": {
      "text/plain": [
       "(2443, 328)"
      ]
     },
     "execution_count": 9,
     "metadata": {},
     "output_type": "execute_result"
    },
    {
     "data": {
      "text/plain": [
       "0       2014\n",
       "1       2014\n",
       "2       2014\n",
       "3       2014\n",
       "4       2014\n",
       "        ... \n",
       "9726    2017\n",
       "9727    2017\n",
       "9728    2017\n",
       "9729    2017\n",
       "9730    2017\n",
       "Name: Year, Length: 9731, dtype: int64"
      ]
     },
     "execution_count": 9,
     "metadata": {},
     "output_type": "execute_result"
    }
   ],
   "source": [
    "# read in CSV\n",
    "df2014 = pd.read_csv('https://raw.githubusercontent.com/fredpoon/ds_7331_jyrf_eda/master/Data_Prep/PublicSchools2014_MLnew.csv')\n",
    "df2015 = pd.read_csv('https://raw.githubusercontent.com/fredpoon/ds_7331_jyrf_eda/master/Data_Prep/PublicSchools2015_MLnew.csv')\n",
    "df2016 = pd.read_csv('https://raw.githubusercontent.com/fredpoon/ds_7331_jyrf_eda/master/Data_Prep/PublicSchools2016_MLnew.csv')\n",
    "df2017 = pd.read_csv('https://raw.githubusercontent.com/fredpoon/ds_7331_jyrf_eda/master/Data_Prep/PublicSchools2017_MLnew.csv')\n",
    "\n",
    "df2014.shape\n",
    "df2015.shape\n",
    "df2016.shape\n",
    "df2017.shape\n",
    "\n",
    "\n",
    "df2014['Year'] = 2014\n",
    "df2015['Year'] = 2015 \n",
    "df2016['Year'] = 2016 \n",
    "df2017['Year'] = 2017 \n",
    "\n",
    "frames = [df2014, df2015, df2016, df2017]\n",
    "df_comb_test = pd.concat(frames,join='inner', ignore_index=True)\n",
    "\n",
    "df_comb_test['Year']"
   ]
  },
  {
   "cell_type": "markdown",
   "metadata": {},
   "source": [
    "#### One Hot-encoding\n",
    "\n",
    "A one-hot encoding procedure has been conducted to convert all of them into continuous variables. The procedure is shown below: 8 variables with more than 25 unique values are deleted. 38 new variables has been generated from one hot-encoding of categorical variables."
   ]
  },
  {
   "cell_type": "code",
   "execution_count": 10,
   "metadata": {},
   "outputs": [
    {
     "name": "stdout",
     "output_type": "stream",
     "text": [
      "*********After: Removing columns with >= uniqueThreshold unique values***********\n",
      "<class 'pandas.core.frame.DataFrame'>\n",
      "RangeIndex: 9731 entries, 0 to 9730\n",
      "Columns: 250 entries, szip_ad to Year\n",
      "dtypes: float64(237), int64(2), object(11)\n",
      "memory usage: 18.6+ MB\n",
      "\n",
      "Columns Deleted:  9\n"
     ]
    }
   ],
   "source": [
    "schoolData = df_comb_test\n",
    "\n",
    "#Locate the categorical variables in dataset\n",
    "sD_nominal = schoolData.loc[:, (schoolData.dtypes == object)]\n",
    "uniqueThreshold = 25\n",
    "\n",
    "#Delete categorical columns with > 25 unique values (Each unique value becomes a column during one-hot encoding)\n",
    "oneHotUniqueValueCounts = schoolData[sD_nominal.columns].apply(lambda x: x.nunique())\n",
    "oneHotUniqueValueCols = oneHotUniqueValueCounts[oneHotUniqueValueCounts >= uniqueThreshold].index\n",
    "schoolData.drop(oneHotUniqueValueCols, axis=1, inplace=True) \n",
    "\n",
    "#Review dataset contents one hot high unique value drops\n",
    "print('*********After: Removing columns with >= uniqueThreshold unique values***********')\n",
    "schoolData.info(verbose=False)\n",
    "print ('\\r\\nColumns Deleted: ', len(oneHotUniqueValueCols))"
   ]
  },
  {
   "cell_type": "markdown",
   "metadata": {},
   "source": [
    "\"SPG Grade\" is our response variable and \"SPG Score\" is the continous expression of it. \"SPG Score\" is a composite score calculated from schools' average scores based on multiple assessments. The \"SPG Grade\" is converted from \"SPG Score\" by ranges. We have to remove them from the original dataset.\n",
    "\n",
    "Per the analysis, we found that a few attributes were directly used to calculate our response variable. With this in mind, we'll remove these attributes from the dataset.  Features which are discarded include end-of-course, end-of-grade scores and any features related to EVAAS growth metrics. For example: EOG_XXX, EOC_XXX.\n",
    "\n",
    "After removing them, we display the information of the variables to make sure we don't have them in the dataset anymore. We end up with 148 features in total."
   ]
  },
  {
   "cell_type": "code",
   "execution_count": 11,
   "metadata": {},
   "outputs": [
    {
     "name": "stdout",
     "output_type": "stream",
     "text": [
      "<class 'pandas.core.frame.DataFrame'>\n",
      "RangeIndex: 9731 entries, 0 to 9730\n",
      "Data columns (total 107 columns):\n",
      " #   Column                               Dtype  \n",
      "---  ------                               -----  \n",
      " 0   szip_ad                              float64\n",
      " 1   category_cd                          object \n",
      " 2   calendar_type_txt                    object \n",
      " 3   sna_pgm_type_cd                      object \n",
      " 4   school_type_txt                      object \n",
      " 5   calendar_only_txt                    object \n",
      " 6   title1_type_cd                       object \n",
      " 7   esea_status                          object \n",
      " 8   student_num                          float64\n",
      " 9   lea_avg_student_num                  float64\n",
      " 10  st_avg_student_num                   float64\n",
      " 11  Grad_project_status                  object \n",
      " 12  Math I_Size                          float64\n",
      " 13  lea_total_expense_num                float64\n",
      " 14  lea_salary_expense_pct               float64\n",
      " 15  lea_services_expense_pct             float64\n",
      " 16  lea_supplies_expense_pct             float64\n",
      " 17  lea_instruct_equip_exp_pct           float64\n",
      " 18  lea_federal_perpupil_num             float64\n",
      " 19  lea_local_perpupil_num               float64\n",
      " 20  lea_state_perpupil_num               float64\n",
      " 21  pct_GCE_ALL                          float64\n",
      " 22  MathGr3-8_pTarget_PctMet             float64\n",
      " 23  SciGr5&8_pTarget_PctMet              float64\n",
      " 24  TotalTargets_pTarget_PctMet          float64\n",
      " 25  Category_Cd                          object \n",
      " 26  lea_sat_avg_score_num                float64\n",
      " 27  lea_sat_participation_pct            float64\n",
      " 28  lea_ap_participation_pct             float64\n",
      " 29  lea_ap_pct_3_or_above                float64\n",
      " 30  lea_ib_pct_4_or_above                float64\n",
      " 31  avg_daily_attend_pct                 float64\n",
      " 32  crime_per_c_num                      float64\n",
      " 33  short_susp_per_c_num                 float64\n",
      " 34  long_susp_per_c_num                  float64\n",
      " 35  expelled_per_c_num                   float64\n",
      " 36  stud_internet_comp_num               float64\n",
      " 37  lea_avg_daily_attend_pct             float64\n",
      " 38  lea_crime_per_c_num                  float64\n",
      " 39  lea_short_susp_per_c_num             float64\n",
      " 40  lea_long_susp_per_c_num              float64\n",
      " 41  lea_expelled_per_c_num               float64\n",
      " 42  lea_stud_internet_comp_num           float64\n",
      " 43  st_crime_per_c_num                   float64\n",
      " 44  flicensed_teach_pct                  float64\n",
      " 45  tchyrs_0thru3_pct                    float64\n",
      " 46  tchyrs_4thru10_pct                   float64\n",
      " 47  tchyrs_11plus_pct                    float64\n",
      " 48  nbpts_num                            float64\n",
      " 49  advance_dgr_pct                      float64\n",
      " 50  _1yr_tchr_trnovr_pct                 float64\n",
      " 51  lateral_teach_pct                    float64\n",
      " 52  lea_flicensed_teach_pct              float64\n",
      " 53  lea_tchyrs_0thru3_pct                float64\n",
      " 54  lea_tchyrs_4thru10_pct               float64\n",
      " 55  lea_tchyrs_11plus_pct                float64\n",
      " 56  lea_nbpts_num                        float64\n",
      " 57  lea_advance_dgr_pct                  float64\n",
      " 58  lea_1yr_tchr_trnovr_pct              float64\n",
      " 59  lea_emer_prov_teach_pct              float64\n",
      " 60  st_flicensed_teach_pct               float64\n",
      " 61  st_tchyrs_0thru3_pct                 float64\n",
      " 62  st_1yr_tchr_trnovr_pct               float64\n",
      " 63  st_emer_prov_teach_pct               float64\n",
      " 64  0-3 Years_LEA_Exp_Pct_Prin           float64\n",
      " 65  10+ Years_LEA_Exp_Pct_Prin           float64\n",
      " 66  4-10 Years_LEA_Exp_Pct_Prin          float64\n",
      " 67  Accomplished_TCHR_Standard 1_Pct     float64\n",
      " 68  Accomplished_TCHR_Standard 2_Pct     float64\n",
      " 69  Accomplished_TCHR_Standard 3_Pct     float64\n",
      " 70  Accomplished_TCHR_Standard 4_Pct     float64\n",
      " 71  Accomplished_TCHR_Standard 5_Pct     float64\n",
      " 72  Developing_TCHR_Standard 1_Pct       float64\n",
      " 73  Developing_TCHR_Standard 2_Pct       float64\n",
      " 74  Developing_TCHR_Standard 3_Pct       float64\n",
      " 75  Developing_TCHR_Standard 4_Pct       float64\n",
      " 76  Developing_TCHR_Standard 5_Pct       float64\n",
      " 77  Distinguished_TCHR_Standard 1_Pct    float64\n",
      " 78  Distinguished_TCHR_Standard 2_Pct    float64\n",
      " 79  Distinguished_TCHR_Standard 3_Pct    float64\n",
      " 80  Distinguished_TCHR_Standard 4_Pct    float64\n",
      " 81  Distinguished_TCHR_Standard 5_Pct    float64\n",
      " 82  Not Demostrated_TCHR_Standard 1_Pct  float64\n",
      " 83  Not Demostrated_TCHR_Standard 2_Pct  float64\n",
      " 84  Not Demostrated_TCHR_Standard 4_Pct  float64\n",
      " 85  Proficient_TCHR_Standard 1_Pct       float64\n",
      " 86  Proficient_TCHR_Standard 2_Pct       float64\n",
      " 87  Proficient_TCHR_Standard 3_Pct       float64\n",
      " 88  Proficient_TCHR_Standard 4_Pct       float64\n",
      " 89  Proficient_TCHR_Standard 5_Pct       float64\n",
      " 90  AsianFemalePct                       float64\n",
      " 91  AsianMalePct                         float64\n",
      " 92  BlackFemalePct                       float64\n",
      " 93  BlackMalePct                         float64\n",
      " 94  HispanicFemalePct                    float64\n",
      " 95  HispanicMalePct                      float64\n",
      " 96  IndianFemalePct                      float64\n",
      " 97  MinorityFemalePct                    float64\n",
      " 98  MinorityMalePct                      float64\n",
      " 99  PacificIslandFemalePct               float64\n",
      " 100 PacificIslandMalePct                 float64\n",
      " 101 PacificIslandPct                     float64\n",
      " 102 TwoOrMoreFemalePct                   float64\n",
      " 103 TwoOrMoreMalePct                     float64\n",
      " 104 TwoOrMorePct                         float64\n",
      " 105 unit_code                            int64  \n",
      " 106 Year                                 int64  \n",
      "dtypes: float64(96), int64(2), object(9)\n",
      "memory usage: 7.9+ MB\n",
      "Columns To One-Hot Encode:  20\n",
      "\n",
      "*********After: Adding New Columns Via One-Hot Encoding*************************\n",
      "<class 'pandas.core.frame.DataFrame'>\n",
      "RangeIndex: 9731 entries, 0 to 9730\n",
      "Columns: 145 entries, szip_ad to Category_Cd_T\n",
      "dtypes: float64(96), int64(2), uint8(47)\n",
      "memory usage: 7.7 MB\n",
      "\n",
      "New Columns Created Via One-Hot Encoding:  38\n"
     ]
    }
   ],
   "source": [
    "#Keep an original copy of the Data\n",
    "schoolData_org = schoolData\n",
    "\n",
    "#Pop out the SPG information from the Data\n",
    "schoolData_SPG = schoolData.pop('SPG Grade')\n",
    "schoolData_SPGScore = schoolData.pop('SPG Score')\n",
    "\n",
    "# Remove All the Columns that directly used to calculate SPG Grade and Score\n",
    "schoolData.drop(schoolData.iloc[:, 21:162], inplace=True, axis=1)\n",
    "schoolData.info(verbose=True)\n",
    "\n",
    "#Isolate remaining categorical variables\n",
    "begColumnCt = len(schoolData.columns)\n",
    "\n",
    "#one hot encode categorical variables\n",
    "schoolData = pd.get_dummies(data=schoolData,drop_first=True)\n",
    "\n",
    "#Determine change in column count\n",
    "endColumnCt = len(schoolData.columns)\n",
    "columnsAdded = endColumnCt - begColumnCt\n",
    "\n",
    "#Review dataset contents one hot high unique value drops\n",
    "print('Columns To One-Hot Encode: ', len(sD_nominal.columns))\n",
    "print('\\r\\n*********After: Adding New Columns Via One-Hot Encoding*************************')\n",
    "schoolData.info(verbose=False)\n",
    "print ('\\r\\nNew Columns Created Via One-Hot Encoding: ', columnsAdded)"
   ]
  },
  {
   "cell_type": "markdown",
   "metadata": {},
   "source": [
    "#### Feature Selection\n",
    "\n",
    "We original have 148 features in the data table. We don't want to include this many features for model feasibility. However, as we have a data size requirement, and we also want the constructing model to be high quality. We decide to conduct a feature selection process to choose the most important features to use.\n",
    "\n",
    "There are many ways to conduct feature selection. In this project we use random forest and plot out feature importances of all features. Note that the work below is not for feasible model construction (we didn't split train/test) but just for picking out the most important variables to use.  "
   ]
  },
  {
   "cell_type": "code",
   "execution_count": null,
   "metadata": {},
   "outputs": [],
   "source": [
    "# Random Forest apply to X with all variables\n",
    "from sklearn.ensemble import RandomForestClassifier\n",
    "clfa=RandomForestClassifier(n_estimators=100)\n",
    "clfa.fit(schoolData,schoolData_SPG)\n",
    "y_pred=clfa.predict(schoolData)\n",
    "\n",
    "#For feature importance from RandomForestClassifier()\n",
    "import eli5\n",
    "from eli5.sklearn import PermutationImportance\n",
    "perm = PermutationImportance(clfa, random_state=1).fit(schoolData,schoolData_SPG)\n",
    "eli5.show_weights(perm, feature_names = schoolData.columns.tolist(), top=50)"
   ]
  },
  {
   "cell_type": "markdown",
   "metadata": {},
   "source": [
    "To meet the data size requirement, we need to have as least 450,000/9371 = 48 attributes to use for the data. Above, we used RandomForestClassifer for the purpose of feature selection and each feature importance to identify which attributes to keep and/or remove from our dataset.\n",
    "\n",
    "To satisfy this we pick the first 50 attributes to use. Notice that in the below attributes list there are both continuous attributes and the categorical attributes after one-hot encoding. "
   ]
  },
  {
   "cell_type": "code",
   "execution_count": 12,
   "metadata": {},
   "outputs": [
    {
     "data": {
      "text/plain": [
       "(9731, 50)"
      ]
     },
     "execution_count": 12,
     "metadata": {},
     "output_type": "execute_result"
    }
   ],
   "source": [
    "#Pick and Choose variables\n",
    "schoolData_pick = schoolData[[\n",
    "'TotalTargets_pTarget_PctMet',\n",
    "'MinorityMalePct',\n",
    "'MinorityFemalePct',\n",
    "'short_susp_per_c_num',\n",
    "'avg_daily_attend_pct',\n",
    "'title1_type_cd_Y',\n",
    "'BlackMalePct',\n",
    "'AsianFemalePct',\n",
    "'BlackFemalePct',\n",
    "'HispanicMalePct',\n",
    "'MathGr3-8_pTarget_PctMet',\n",
    "'AsianMalePct',\n",
    "'SciGr5&8_pTarget_PctMet',\n",
    "'nbpts_num',\n",
    "'lea_sat_avg_score_num',\n",
    "'stud_internet_comp_num',\n",
    "'st_avg_student_num',\n",
    "'HispanicFemalePct',\n",
    "'Accomplished_TCHR_Standard 4_Pct',\n",
    "'Accomplished_TCHR_Standard 3_Pct',\n",
    "'Developing_TCHR_Standard 2_Pct',\n",
    "'Accomplished_TCHR_Standard 5_Pct',\n",
    "'10+ Years_LEA_Exp_Pct_Prin',\n",
    "'4-10 Years_LEA_Exp_Pct_Prin',\n",
    "'Accomplished_TCHR_Standard 1_Pct',\n",
    "'Accomplished_TCHR_Standard 2_Pct',\n",
    "'Developing_TCHR_Standard 1_Pct',\n",
    "'pct_GCE_ALL',\n",
    "'0-3 Years_LEA_Exp_Pct_Prin',\n",
    "'st_emer_prov_teach_pct',\n",
    "'lea_sat_participation_pct',\n",
    "'lea_ap_participation_pct',\n",
    "'lea_federal_perpupil_num',\n",
    "'lea_local_perpupil_num',\n",
    "'advance_dgr_pct',\n",
    "'Developing_TCHR_Standard 5_Pct',\n",
    "'lateral_teach_pct',\n",
    "'lea_flicensed_teach_pct',\n",
    "'Developing_TCHR_Standard 3_Pct',\n",
    "'lea_tchyrs_0thru3_pct',\n",
    "'lea_tchyrs_11plus_pct',\n",
    "'lea_nbpts_num',\n",
    "'lea_advance_dgr_pct',\n",
    "'lea_1yr_tchr_trnovr_pct',\n",
    "'lea_emer_prov_teach_pct',\n",
    "'st_flicensed_teach_pct',\n",
    "'st_tchyrs_0thru3_pct',\n",
    "'st_1yr_tchr_trnovr_pct',\n",
    "'lea_tchyrs_4thru10_pct',\n",
    "'Category_Cd_T',\n",
    "]]\n",
    "\n",
    "# Dataset Dimension with picked variables\n",
    "schoolData_pick.shape"
   ]
  },
  {
   "cell_type": "markdown",
   "metadata": {},
   "source": [
    "#### Data Balancing"
   ]
  },
  {
   "cell_type": "markdown",
   "metadata": {},
   "source": [
    "Before identifying the data balancing need, we first conducted a simplied procedure to our response variable (SPG_Grade). We investigate the current class of the SPG Grade and found that the class \"A\" and \"A+NG\" are identical so we merge the two.Notice that magnet schools in 2016-2017 are not required to report SPG score. Those schools with incomplete information are marked \"I\". the class \"I\" are removed from the dataset.\n",
    "\n",
    "The grade C is dominate the dataset with the largest propertion, followed by B or D. A and F are just a small propertion of the whole dataset. "
   ]
  },
  {
   "cell_type": "code",
   "execution_count": 13,
   "metadata": {},
   "outputs": [
    {
     "data": {
      "text/html": [
       "<div>\n",
       "<style scoped>\n",
       "    .dataframe tbody tr th:only-of-type {\n",
       "        vertical-align: middle;\n",
       "    }\n",
       "\n",
       "    .dataframe tbody tr th {\n",
       "        vertical-align: top;\n",
       "    }\n",
       "\n",
       "    .dataframe thead th {\n",
       "        text-align: right;\n",
       "    }\n",
       "</style>\n",
       "<table border=\"1\" class=\"dataframe\">\n",
       "  <thead>\n",
       "    <tr style=\"text-align: right;\">\n",
       "      <th></th>\n",
       "      <th>0</th>\n",
       "    </tr>\n",
       "  </thead>\n",
       "  <tbody>\n",
       "    <tr>\n",
       "      <th>count</th>\n",
       "      <td>9216</td>\n",
       "    </tr>\n",
       "    <tr>\n",
       "      <th>unique</th>\n",
       "      <td>5</td>\n",
       "    </tr>\n",
       "    <tr>\n",
       "      <th>top</th>\n",
       "      <td>C</td>\n",
       "    </tr>\n",
       "    <tr>\n",
       "      <th>freq</th>\n",
       "      <td>3973</td>\n",
       "    </tr>\n",
       "  </tbody>\n",
       "</table>\n",
       "</div>"
      ],
      "text/plain": [
       "           0\n",
       "count   9216\n",
       "unique     5\n",
       "top        C\n",
       "freq    3973"
      ]
     },
     "execution_count": 13,
     "metadata": {},
     "output_type": "execute_result"
    },
    {
     "data": {
      "text/plain": [
       "<seaborn.axisgrid.FacetGrid at 0x265eb303688>"
      ]
     },
     "execution_count": 13,
     "metadata": {},
     "output_type": "execute_result"
    },
    {
     "data": {
      "image/png": "[encoded data removed]",
      "text/plain": [
       "<Figure size 720x360 with 1 Axes>"
      ]
     },
     "metadata": {
      "needs_background": "light"
     },
     "output_type": "display_data"
    }
   ],
   "source": [
    "schoolData_SPG_org = schoolData_SPG\n",
    "schoolData_SPG = schoolData_SPG_org\n",
    "\n",
    "import numpy as np\n",
    "schoolData_SPG= np.select(\n",
    "    [\n",
    "        schoolData_SPG == 'A', \n",
    "        schoolData_SPG == 'B',\n",
    "        schoolData_SPG == 'C',\n",
    "        schoolData_SPG == 'D',\n",
    "        schoolData_SPG == 'F',\n",
    "        schoolData_SPG == 'A+NG',\n",
    "        schoolData_SPG == 'I'\n",
    "    ], \n",
    "    [\n",
    "        'A', \n",
    "        'B',\n",
    "        'C',\n",
    "        'D',\n",
    "        'F',\n",
    "        'A',\n",
    "        'NA'\n",
    "    ],\n",
    "    default='NA'\n",
    ")\n",
    "\n",
    "#Filter out the sample with \"NA\" on SPG Grade\n",
    "schoolData_SPG_new = schoolData_SPG[schoolData_SPG!='NA']\n",
    "schoolData_pick_new = schoolData_pick[schoolData_SPG!='NA']\n",
    "\n",
    "# Check if the levels of SPG Grade has been altered\n",
    "s = pd.DataFrame(schoolData_SPG_new)\n",
    "s.describe()\n",
    "\n",
    "#Factor Plot for SPG Grade\n",
    "s.columns=['SPG Grade']\n",
    "                        \n",
    "sns.factorplot(\"SPG Grade\", data=s, aspect=2,\n",
    "                       kind=\"count\", order=['A','B','C','D','F'])\n",
    "\n",
    "plt.show()"
   ]
  },
  {
   "cell_type": "markdown",
   "metadata": {},
   "source": [
    "To solve this problem, we are using the crieteria below. We conduct 3 seperate procedures: UnderSample all cases, UnderSample majority class, SMOTE Oversample.\n",
    "\n",
    "They produce 3 seperate sets of X and y from the original dataset. Those sets will be evaluate against each other and we will decide the best data balancing strategy to use."
   ]
  },
  {
   "cell_type": "code",
   "execution_count": 14,
   "metadata": {},
   "outputs": [],
   "source": [
    "from imblearn.under_sampling import RandomUnderSampler\n",
    "\n",
    "# Undersample the dataset using the RandomUnderSampler \n",
    "# Set all class sizes equal to the smallest class.\n",
    "us = RandomUnderSampler()\n",
    "X_us, y_us = us.fit_sample(schoolData_pick_new, pd.DataFrame(schoolData_SPG_new))\n",
    "\n",
    "# Undersample the dataset using the RandomUnderSampler \n",
    "# Undersample the majority class only\n",
    "us = RandomUnderSampler(sampling_strategy='majority')\n",
    "X_us_maj, y_us_maj = us.fit_sample(schoolData_pick_new, pd.DataFrame(schoolData_SPG_new))\n",
    "\n",
    "from imblearn.over_sampling import SMOTE\n",
    "\n",
    "# Oversample using SMOTE\n",
    "# Make all classes the same size as the majority class.\n",
    "# WARNING - This can exponentially increase the size of the input dataset.\n",
    "sm = SMOTE(sampling_strategy='not majority')\n",
    "X_sm, y_sm = sm.fit_sample(schoolData_pick_new, pd.DataFrame(schoolData_SPG_new))"
   ]
  },
  {
   "cell_type": "markdown",
   "metadata": {},
   "source": [
    "By comparing the results for the 3 different methods dealing with data imbalance, we run random forest with the datasets we generated. Accuracy are measured with the results of the variables. As shown the SMOTE strategy get the highest accuracy which is 20%+ than the undersample strategy. Due to the effectiveness of the SMOTE strategy, the dataset has been chosen for creating models in the next session, we also conduct modeling on the original data for benchmarking. "
   ]
  },
  {
   "cell_type": "code",
   "execution_count": 155,
   "metadata": {},
   "outputs": [
    {
     "data": {
      "text/plain": [
       "RandomForestClassifier(bootstrap=True, ccp_alpha=0.0, class_weight=None,\n",
       "                       criterion='gini', max_depth=None, max_features='auto',\n",
       "                       max_leaf_nodes=None, max_samples=None,\n",
       "                       min_impurity_decrease=0.0, min_impurity_split=None,\n",
       "                       min_samples_leaf=1, min_samples_split=2,\n",
       "                       min_weight_fraction_leaf=0.0, n_estimators=100,\n",
       "                       n_jobs=None, oob_score=False, random_state=None,\n",
       "                       verbose=0, warm_start=False)"
      ]
     },
     "execution_count": 155,
     "metadata": {},
     "output_type": "execute_result"
    },
    {
     "name": "stdout",
     "output_type": "stream",
     "text": [
      "Accuracy: 0.6697674418604651\n"
     ]
    }
   ],
   "source": [
    "#from sklearn.ensemble import RandomForestClassifier\n",
    "from sklearn import metrics\n",
    "from sklearn.model_selection import train_test_split\n",
    "#Training using Undersample Method1     \n",
    "\n",
    "X_train, X_test, y_train, y_test = train_test_split(X_us, y_us, test_size=0.2, random_state=42)\n",
    "\n",
    "clfus=RandomForestClassifier(n_estimators=100)\n",
    "clfus.fit(X_train,y_train)\n",
    "y_pred_us=clfus.predict(X_test)\n",
    "\n",
    "print(\"Accuracy:\",metrics.accuracy_score(y_test, y_pred_us))"
   ]
  },
  {
   "cell_type": "code",
   "execution_count": 157,
   "metadata": {},
   "outputs": [
    {
     "data": {
      "text/plain": [
       "RandomForestClassifier(bootstrap=True, ccp_alpha=0.0, class_weight=None,\n",
       "                       criterion='gini', max_depth=None, max_features='auto',\n",
       "                       max_leaf_nodes=None, max_samples=None,\n",
       "                       min_impurity_decrease=0.0, min_impurity_split=None,\n",
       "                       min_samples_leaf=1, min_samples_split=2,\n",
       "                       min_weight_fraction_leaf=0.0, n_estimators=100,\n",
       "                       n_jobs=None, oob_score=False, random_state=None,\n",
       "                       verbose=0, warm_start=False)"
      ]
     },
     "execution_count": 157,
     "metadata": {},
     "output_type": "execute_result"
    },
    {
     "name": "stdout",
     "output_type": "stream",
     "text": [
      "Accuracy: 0.7841409691629956\n"
     ]
    }
   ],
   "source": [
    "#Training using Undersample Method2\n",
    "\n",
    "X_train, X_test, y_train, y_test = train_test_split(X_us_maj, y_us_maj, test_size=0.2, random_state=42)\n",
    "    \n",
    "clfusm=RandomForestClassifier(n_estimators=100)\n",
    "clfusm.fit(X_train,y_train)\n",
    "y_pred_usm=clfusm.predict(X_test)\n",
    "    \n",
    "print(\"Accuracy:\",metrics.accuracy_score(y_test, y_pred_usm))"
   ]
  },
  {
   "cell_type": "code",
   "execution_count": 158,
   "metadata": {},
   "outputs": [
    {
     "data": {
      "text/plain": [
       "RandomForestClassifier(bootstrap=True, ccp_alpha=0.0, class_weight=None,\n",
       "                       criterion='gini', max_depth=None, max_features='auto',\n",
       "                       max_leaf_nodes=None, max_samples=None,\n",
       "                       min_impurity_decrease=0.0, min_impurity_split=None,\n",
       "                       min_samples_leaf=1, min_samples_split=2,\n",
       "                       min_weight_fraction_leaf=0.0, n_estimators=100,\n",
       "                       n_jobs=None, oob_score=False, random_state=None,\n",
       "                       verbose=0, warm_start=False)"
      ]
     },
     "execution_count": 158,
     "metadata": {},
     "output_type": "execute_result"
    },
    {
     "name": "stdout",
     "output_type": "stream",
     "text": [
      "Accuracy: 0.874653913918953\n"
     ]
    }
   ],
   "source": [
    "#Training using Oversample Method\n",
    "\n",
    "X_train, X_test, y_train, y_test = train_test_split(X_sm, y_sm, test_size=0.2, random_state=42)\n",
    "\n",
    "clfsm=RandomForestClassifier(n_estimators=100)\n",
    "clfsm.fit(X_train,y_train)\n",
    "y_pred_sm=clfsm.predict(X_test)\n",
    "\n",
    "print(\"Accuracy:\",metrics.accuracy_score(y_test, y_pred_sm))"
   ]
  },
  {
   "cell_type": "markdown",
   "metadata": {},
   "source": [
    "#### Data Scaling and Dimension Reduction\n",
    "\n",
    "By applying standard scalers to the dataset, we transformed the original features to the ranges between -1 and 1. An important usage of the scaled varaibles is for feature importance.\n",
    "\n",
    "A simple test of random forest has been conducted using random forest to see any impact to model accuracy. The resulted accuracy (0.878) is approximately the same (slightly higher) with unscaled data (0.875)."
   ]
  },
  {
   "cell_type": "code",
   "execution_count": 120,
   "metadata": {},
   "outputs": [],
   "source": [
    "from sklearn.preprocessing import StandardScaler\n",
    "# Scale the data \n",
    "ss = StandardScaler()\n",
    "X_sm_scal = ss.fit_transform(X_sm)\n",
    "X_sm_scal = pd.DataFrame(X_sm_scal)"
   ]
  },
  {
   "cell_type": "code",
   "execution_count": 159,
   "metadata": {},
   "outputs": [
    {
     "data": {
      "text/plain": [
       "RandomForestClassifier(bootstrap=True, ccp_alpha=0.0, class_weight=None,\n",
       "                       criterion='gini', max_depth=None, max_features='auto',\n",
       "                       max_leaf_nodes=None, max_samples=None,\n",
       "                       min_impurity_decrease=0.0, min_impurity_split=None,\n",
       "                       min_samples_leaf=1, min_samples_split=2,\n",
       "                       min_weight_fraction_leaf=0.0, n_estimators=100,\n",
       "                       n_jobs=None, oob_score=False, random_state=None,\n",
       "                       verbose=0, warm_start=False)"
      ]
     },
     "execution_count": 159,
     "metadata": {},
     "output_type": "execute_result"
    },
    {
     "name": "stdout",
     "output_type": "stream",
     "text": [
      "Accuracy: 0.876919204631261\n"
     ]
    }
   ],
   "source": [
    "#Training using Oversample Method\n",
    "\n",
    "X_train, X_test, y_train, y_test = train_test_split(X_sm_scal, y_sm, test_size=0.2, random_state=42)\n",
    "\n",
    "clfsm_scal=RandomForestClassifier(n_estimators=100)\n",
    "clfsm_scal.fit(X_train,y_train)\n",
    "y_pred_sm_scal=clfsm_scal.predict(X_test)\n",
    "\n",
    "print(\"Accuracy:\",metrics.accuracy_score(y_test, y_pred_sm_scal))"
   ]
  },
  {
   "cell_type": "markdown",
   "metadata": {},
   "source": [
    "A PCA step has been conducted on the scaled dataset and 50 PCA components are generated. By examining the plot below we identified that 40 components can already explain 98%+ of the variables. We experiment on just use 40 components to fit a random forest model as above and get a comparable accuracy (0.875).\n",
    "\n",
    "It indicates that only 40 variables (PCA components) are good representatives of the information. They can be used as a replacement for all 50 variables in the later modeling procedure."
   ]
  },
  {
   "cell_type": "code",
   "execution_count": 43,
   "metadata": {},
   "outputs": [
    {
     "name": "stdout",
     "output_type": "stream",
     "text": [
      "Cumulative Explained variance at 200 components: 1.0000000000000002\n"
     ]
    },
    {
     "data": {
      "image/png": "[encoded data removed]",
      "text/plain": [
       "<Figure size 576x576 with 1 Axes>"
      ]
     },
     "metadata": {
      "needs_background": "light"
     },
     "output_type": "display_data"
    }
   ],
   "source": [
    "def plot_pca(X):\n",
    "    # Perform PCA on the data to reduce the number of initial features \n",
    "    # and to remove correlations that are common between pixel features \n",
    "    pca = PCA(n_components=X.shape[1])\n",
    "    pca.fit(X)\n",
    "\n",
    "    # Inspect the explained variances to determine how many components to use  \n",
    "    plt.subplots(figsize=(8, 8))\n",
    "    plt.plot(np.cumsum(pca.explained_variance_ratio_))\n",
    "    plt.xlabel('number of components')\n",
    "    plt.ylabel('cumulative explained variance');\n",
    "    print('Cumulative Explained variance at 200 components:',sum(pca.explained_variance_ratio_[0:49]) )\n",
    "\n",
    "plot_pca(X_sm_scal)"
   ]
  },
  {
   "cell_type": "code",
   "execution_count": 160,
   "metadata": {},
   "outputs": [
    {
     "data": {
      "text/plain": [
       "RandomForestClassifier(bootstrap=True, ccp_alpha=0.0, class_weight=None,\n",
       "                       criterion='gini', max_depth=None, max_features='auto',\n",
       "                       max_leaf_nodes=None, max_samples=None,\n",
       "                       min_impurity_decrease=0.0, min_impurity_split=None,\n",
       "                       min_samples_leaf=1, min_samples_split=2,\n",
       "                       min_weight_fraction_leaf=0.0, n_estimators=100,\n",
       "                       n_jobs=None, oob_score=False, random_state=None,\n",
       "                       verbose=0, warm_start=False)"
      ]
     },
     "execution_count": 160,
     "metadata": {},
     "output_type": "execute_result"
    },
    {
     "name": "stdout",
     "output_type": "stream",
     "text": [
      "Accuracy: 0.8447017367228794\n"
     ]
    }
   ],
   "source": [
    "# Convert X_sm to 200 principal components\n",
    "pca = PCA(n_components=40)\n",
    "X_sm_pca40 = pca.fit_transform(X_sm_scal)\n",
    "\n",
    "#Training using Oversample Method\n",
    "X_train, X_test, y_train, y_test = train_test_split(X_sm_pca40, y_sm, test_size=0.2, random_state=42)\n",
    "\n",
    "clfsm=RandomForestClassifier(n_estimators=100)\n",
    "clfsm.fit(X_train,y_train)\n",
    "y_pred_sm=clfsm.predict(X_test)\n",
    "\n",
    "print(\"Accuracy:\",metrics.accuracy_score(y_test, y_pred_sm))"
   ]
  },
  {
   "cell_type": "markdown",
   "metadata": {},
   "source": [
    "### Data Preparation for Regression Task\n",
    "\n",
    "Now let's deal with the dataset for the regression task.\n",
    "\n",
    "For Education Dataset, we choose the Graduration Rate as our response variable for this regression task. Because only high school have valid graduration rate variables, we choose to start with 2014-2017 high school datasets below. One hot-encoding procedure has been conducted similiarly with the dataset above. "
   ]
  },
  {
   "cell_type": "markdown",
   "metadata": {},
   "source": [
    "Data Preparation Workflow\n",
    "- Data Merge\n",
    "- Feature Selection\n",
    "- Dimension Reduction"
   ]
  },
  {
   "cell_type": "markdown",
   "metadata": {},
   "source": [
    "#### Data Merge\n",
    "\n",
    "We combined dataset of all high schools in north Carolina from year 2014-2017 together. We also add a variable \"Year\" to note the calendar year the data come from."
   ]
  },
  {
   "cell_type": "code",
   "execution_count": 24,
   "metadata": {},
   "outputs": [
    {
     "data": {
      "text/plain": [
       "(476, 351)"
      ]
     },
     "execution_count": 24,
     "metadata": {},
     "output_type": "execute_result"
    },
    {
     "data": {
      "text/plain": [
       "(480, 412)"
      ]
     },
     "execution_count": 24,
     "metadata": {},
     "output_type": "execute_result"
    },
    {
     "data": {
      "text/plain": [
       "(478, 373)"
      ]
     },
     "execution_count": 24,
     "metadata": {},
     "output_type": "execute_result"
    },
    {
     "data": {
      "text/plain": [
       "(470, 403)"
      ]
     },
     "execution_count": 24,
     "metadata": {},
     "output_type": "execute_result"
    },
    {
     "data": {
      "text/plain": [
       "0       2014\n",
       "1       2014\n",
       "2       2014\n",
       "3       2014\n",
       "4       2014\n",
       "        ... \n",
       "1899    2017\n",
       "1900    2017\n",
       "1901    2017\n",
       "1902    2017\n",
       "1903    2017\n",
       "Name: Year, Length: 1904, dtype: int64"
      ]
     },
     "execution_count": 24,
     "metadata": {},
     "output_type": "execute_result"
    }
   ],
   "source": [
    "# read in CSV\n",
    "df2014 = pd.read_csv('C:/Users/taniat470s/Desktop/SMU_course/DS7331/EduData/EducationDataNC/2014/Machine Learning Datasets/PublicHighSchools2014_ML.csv')\n",
    "df2015 = pd.read_csv('C:/Users/taniat470s/Desktop/SMU_course/DS7331/EduData/EducationDataNC/2015/Machine Learning Datasets/PublicHighSchools2015_ML.csv')\n",
    "df2016 = pd.read_csv('C:/Users/taniat470s/Desktop/SMU_course/DS7331/EduData/EducationDataNC/2016/Machine Learning Datasets/PublicHighSchools2016_ML.csv')\n",
    "df2017 = pd.read_csv('C:/Users/taniat470s/Desktop/SMU_course/DS7331/EduData/EducationDataNC/2017/Machine Learning Datasets/PublicHighSchools2017_ML.csv')\n",
    "\n",
    "df2014.shape\n",
    "df2015.shape\n",
    "df2016.shape\n",
    "df2017.shape\n",
    "\n",
    "df2014['Year'] = 2014\n",
    "df2015['Year'] = 2015 \n",
    "df2016['Year'] = 2016 \n",
    "df2017['Year'] = 2017 \n",
    "\n",
    "frames = [df2014, df2015, df2016, df2017]\n",
    "df_comb_test = pd.concat(frames,join='inner', ignore_index=True)\n",
    "\n",
    "df_comb_test['Year']"
   ]
  },
  {
   "cell_type": "markdown",
   "metadata": {},
   "source": [
    "We remove the variables that are directly related to Graduation Rates as shown below:"
   ]
  },
  {
   "cell_type": "code",
   "execution_count": 25,
   "metadata": {},
   "outputs": [
    {
     "data": {
      "text/plain": [
       "Index(['GraduationRate_5yr_All', 'GraduationRate_4yr_Female',\n",
       "       'GraduationRate_5yr_Female', 'GraduationRate_4yr_Male',\n",
       "       'GraduationRate_5yr_Male', 'GraduationRate_4yr_AmericanIndian',\n",
       "       'GraduationRate_5yr_AmericanIndian', 'GraduationRate_4yr_Asian',\n",
       "       'GraduationRate_5yr_Asian', 'GraduationRate_4yr_Black',\n",
       "       'GraduationRate_5yr_Black', 'GraduationRate_4yr_Hispanic',\n",
       "       'GraduationRate_5yr_Hispanic', 'GraduationRate_4yr_TwoorMoreRaces',\n",
       "       'GraduationRate_5yr_TwoorMoreRaces', 'GraduationRate_4yr_White',\n",
       "       'GraduationRate_5yr_White', 'GraduationRate_4yr_EDS',\n",
       "       'GraduationRate_5yr_EDS', 'GraduationRate_4yr_LEP',\n",
       "       'GraduationRate_5yr_LEP', 'GraduationRate_4yr_SWD',\n",
       "       'GraduationRate_5yr_SWD', 'GraduationRate_4yr_AIG',\n",
       "       'GraduationRate_5yr_AIG'],\n",
       "      dtype='object')"
      ]
     },
     "execution_count": 25,
     "metadata": {},
     "output_type": "execute_result"
    }
   ],
   "source": [
    "schoolData = df_comb_test\n",
    "\n",
    "#Remove schools with graduation rates == 0 from the model\n",
    "schoolData = schoolData[schoolData['GraduationRate_5yr_All'] > 0]\n",
    "\n",
    "#Find Response Variable\n",
    "schoolData_GraduationRate_5yr = schoolData.GraduationRate_5yr_All\n",
    "\n",
    "# Remove any columns from the model's training data that are directly related to the graduation rate. \n",
    "GradRateCols = schoolData.columns[schoolData.columns.str.lower().str.contains('graduation')]\n",
    "GradRateCols"
   ]
  },
  {
   "cell_type": "code",
   "execution_count": 45,
   "metadata": {},
   "outputs": [],
   "source": [
    "#Delete the response variable and other graduation rate data columns from our training dataset\n",
    "X_predGradRate = schoolData.drop(GradRateCols, axis=1)\n",
    "\n",
    "Y_GradRate = schoolData_GraduationRate_5yr"
   ]
  },
  {
   "cell_type": "markdown",
   "metadata": {},
   "source": [
    "#### Feature Selection\n",
    "\n",
    "To test if there's redundant variables in the dataset, we decide to conduct a feature selection process to eliminate the least important features. \n",
    "\n",
    "There are many ways to conduct feature selection. In this project we use random forest and plot out feature importances of all features. Note that the work below is not for feasible model construction (we didn't split train/test) but just for picking out the most important variables to use.  \n",
    "\n",
    "Below is a benchmarking modeling we did using random forest regressor. The \"default\" MAE value is 4.91."
   ]
  },
  {
   "cell_type": "markdown",
   "metadata": {},
   "source": [
    "Below is a benchmarking modeling we did using random forest regressor. The \"default\" MAE value is 4.91."
   ]
  },
  {
   "cell_type": "code",
   "execution_count": 138,
   "metadata": {},
   "outputs": [
    {
     "data": {
      "text/plain": [
       "4.914862122261348"
      ]
     },
     "execution_count": 138,
     "metadata": {},
     "output_type": "execute_result"
    }
   ],
   "source": [
    "from sklearn.ensemble import RandomForestRegressor\n",
    "from sklearn.model_selection import cross_val_score\n",
    "from sklearn.model_selection import cross_val_predict\n",
    "\n",
    "rfr = RandomForestRegressor()\n",
    "#rfr.fit(X_predGradRate, Y_GradRate)\n",
    "\n",
    "scores = cross_val_score(rfr, X_predGradRate, Y_GradRate, cv=3, scoring='neg_mean_absolute_error')\n",
    "predictions = cross_val_predict(rfr, X_predGradRate, Y_GradRate, cv=3)\n",
    "\n",
    "#MAE\n",
    "np.sqrt(mean_squared_error(Y_GradRate, predictions))"
   ]
  },
  {
   "cell_type": "code",
   "execution_count": 131,
   "metadata": {},
   "outputs": [
    {
     "ename": "NameError",
     "evalue": "name 'imp_df' is not defined",
     "output_type": "error",
     "traceback": [
      "\u001b[1;31m---------------------------------------------------------------------------\u001b[0m",
      "\u001b[1;31mNameError\u001b[0m                                 Traceback (most recent call last)",
      "\u001b[1;32m<ipython-input-131-46f84e9b2451>\u001b[0m in \u001b[0;36m<module>\u001b[1;34m\u001b[0m\n\u001b[0;32m      1\u001b[0m \u001b[0mperm\u001b[0m \u001b[1;33m=\u001b[0m \u001b[0mPermutationImportance\u001b[0m\u001b[1;33m(\u001b[0m\u001b[0mrfr\u001b[0m\u001b[1;33m,\u001b[0m \u001b[0mcv\u001b[0m \u001b[1;33m=\u001b[0m \u001b[1;32mNone\u001b[0m\u001b[1;33m,\u001b[0m \u001b[0mrefit\u001b[0m \u001b[1;33m=\u001b[0m \u001b[1;32mTrue\u001b[0m\u001b[1;33m,\u001b[0m \u001b[0mn_iter\u001b[0m \u001b[1;33m=\u001b[0m \u001b[1;36m50\u001b[0m\u001b[1;33m)\u001b[0m\u001b[1;33m.\u001b[0m\u001b[0mfit\u001b[0m\u001b[1;33m(\u001b[0m\u001b[0mX_predGradRate\u001b[0m\u001b[1;33m,\u001b[0m\u001b[0mY_GradRate\u001b[0m\u001b[1;33m)\u001b[0m\u001b[1;33m\u001b[0m\u001b[1;33m\u001b[0m\u001b[0m\n\u001b[1;32m----> 2\u001b[1;33m \u001b[0mperm_imp_eli5\u001b[0m \u001b[1;33m=\u001b[0m \u001b[0mimp_df\u001b[0m\u001b[1;33m(\u001b[0m\u001b[0mX_predGradRate\u001b[0m\u001b[1;33m.\u001b[0m\u001b[0mcolumns\u001b[0m\u001b[1;33m,\u001b[0m \u001b[0mperm\u001b[0m\u001b[1;33m.\u001b[0m\u001b[0mfeature_importances_\u001b[0m\u001b[1;33m)\u001b[0m\u001b[1;33m\u001b[0m\u001b[1;33m\u001b[0m\u001b[0m\n\u001b[0m",
      "\u001b[1;31mNameError\u001b[0m: name 'imp_df' is not defined"
     ]
    }
   ],
   "source": [
    "#For feature importance from RandomForestRegressor()\n",
    "import eli5\n",
    "from eli5.sklearn import PermutationImportance\n",
    "perm = PermutationImportance(rfr, cv = None, refit = True, n_iter = 50).fit(X_predGradRate,Y_GradRate)"
   ]
  },
  {
   "cell_type": "code",
   "execution_count": 137,
   "metadata": {},
   "outputs": [
    {
     "data": {
      "text/html": [
       "\n",
       "    <style>\n",
       "    table.eli5-weights tr:hover {\n",
       "        filter: brightness(85%);\n",
       "    }\n",
       "</style>\n",
       "\n",
       "\n",
       "\n",
       "    \n",
       "\n",
       "    \n",
       "\n",
       "    \n",
       "\n",
       "    \n",
       "\n",
       "    \n",
       "\n",
       "    \n",
       "\n",
       "\n",
       "    \n",
       "\n",
       "    \n",
       "\n",
       "    \n",
       "\n",
       "    \n",
       "\n",
       "    \n",
       "\n",
       "    \n",
       "\n",
       "\n",
       "    \n",
       "\n",
       "    \n",
       "\n",
       "    \n",
       "\n",
       "    \n",
       "\n",
       "    \n",
       "        <table class=\"eli5-weights eli5-feature-importances\" style=\"border-collapse: collapse; border: none; margin-top: 0em; table-layout: auto;\">\n",
       "    <thead>\n",
       "    <tr style=\"border: none;\">\n",
       "        <th style=\"padding: 0 1em 0 0.5em; text-align: right; border: none;\">Weight</th>\n",
       "        <th style=\"padding: 0 0.5em 0 0.5em; text-align: left; border: none;\">Feature</th>\n",
       "    </tr>\n",
       "    </thead>\n",
       "    <tbody>\n",
       "    \n",
       "        <tr style=\"background-color: hsl(120, 100.00%, 80.00%); border: none;\">\n",
       "            <td style=\"padding: 0 1em 0 0.5em; text-align: right; border: none;\">\n",
       "                0.5750\n",
       "                \n",
       "                    &plusmn; 0.0428\n",
       "                \n",
       "            </td>\n",
       "            <td style=\"padding: 0 0.5em 0 0.5em; text-align: left; border: none;\">\n",
       "                SPG Score\n",
       "            </td>\n",
       "        </tr>\n",
       "    \n",
       "        <tr style=\"background-color: hsl(120, 100.00%, 95.43%); border: none;\">\n",
       "            <td style=\"padding: 0 1em 0 0.5em; text-align: right; border: none;\">\n",
       "                0.0698\n",
       "                \n",
       "                    &plusmn; 0.0054\n",
       "                \n",
       "            </td>\n",
       "            <td style=\"padding: 0 0.5em 0 0.5em; text-align: left; border: none;\">\n",
       "                short_susp_per_c_num\n",
       "            </td>\n",
       "        </tr>\n",
       "    \n",
       "        <tr style=\"background-color: hsl(120, 100.00%, 96.45%); border: none;\">\n",
       "            <td style=\"padding: 0 1em 0 0.5em; text-align: right; border: none;\">\n",
       "                0.0486\n",
       "                \n",
       "                    &plusmn; 0.0051\n",
       "                \n",
       "            </td>\n",
       "            <td style=\"padding: 0 0.5em 0 0.5em; text-align: left; border: none;\">\n",
       "                student_num\n",
       "            </td>\n",
       "        </tr>\n",
       "    \n",
       "        <tr style=\"background-color: hsl(120, 100.00%, 97.27%); border: none;\">\n",
       "            <td style=\"padding: 0 1em 0 0.5em; text-align: right; border: none;\">\n",
       "                0.0334\n",
       "                \n",
       "                    &plusmn; 0.0029\n",
       "                \n",
       "            </td>\n",
       "            <td style=\"padding: 0 0.5em 0 0.5em; text-align: left; border: none;\">\n",
       "                avg_daily_attend_pct\n",
       "            </td>\n",
       "        </tr>\n",
       "    \n",
       "        <tr style=\"background-color: hsl(120, 100.00%, 97.37%); border: none;\">\n",
       "            <td style=\"padding: 0 1em 0 0.5em; text-align: right; border: none;\">\n",
       "                0.0316\n",
       "                \n",
       "                    &plusmn; 0.0042\n",
       "                \n",
       "            </td>\n",
       "            <td style=\"padding: 0 0.5em 0 0.5em; text-align: left; border: none;\">\n",
       "                lea_local_perpupil_num\n",
       "            </td>\n",
       "        </tr>\n",
       "    \n",
       "        <tr style=\"background-color: hsl(120, 100.00%, 98.50%); border: none;\">\n",
       "            <td style=\"padding: 0 1em 0 0.5em; text-align: right; border: none;\">\n",
       "                0.0142\n",
       "                \n",
       "                    &plusmn; 0.0015\n",
       "                \n",
       "            </td>\n",
       "            <td style=\"padding: 0 0.5em 0 0.5em; text-align: left; border: none;\">\n",
       "                EOCSubjects_CACR_All\n",
       "            </td>\n",
       "        </tr>\n",
       "    \n",
       "        <tr style=\"background-color: hsl(120, 100.00%, 98.55%); border: none;\">\n",
       "            <td style=\"padding: 0 1em 0 0.5em; text-align: right; border: none;\">\n",
       "                0.0135\n",
       "                \n",
       "                    &plusmn; 0.0010\n",
       "                \n",
       "            </td>\n",
       "            <td style=\"padding: 0 0.5em 0 0.5em; text-align: left; border: none;\">\n",
       "                TotalTargets_pTarget_PctMet\n",
       "            </td>\n",
       "        </tr>\n",
       "    \n",
       "        <tr style=\"background-color: hsl(120, 100.00%, 98.92%); border: none;\">\n",
       "            <td style=\"padding: 0 1em 0 0.5em; text-align: right; border: none;\">\n",
       "                0.0089\n",
       "                \n",
       "                    &plusmn; 0.0009\n",
       "                \n",
       "            </td>\n",
       "            <td style=\"padding: 0 0.5em 0 0.5em; text-align: left; border: none;\">\n",
       "                BlackFemalePct\n",
       "            </td>\n",
       "        </tr>\n",
       "    \n",
       "        <tr style=\"background-color: hsl(120, 100.00%, 98.99%); border: none;\">\n",
       "            <td style=\"padding: 0 1em 0 0.5em; text-align: right; border: none;\">\n",
       "                0.0081\n",
       "                \n",
       "                    &plusmn; 0.0011\n",
       "                \n",
       "            </td>\n",
       "            <td style=\"padding: 0 0.5em 0 0.5em; text-align: left; border: none;\">\n",
       "                ACTWorkKeys_SilverPlus_Black\n",
       "            </td>\n",
       "        </tr>\n",
       "    \n",
       "        <tr style=\"background-color: hsl(120, 100.00%, 99.00%); border: none;\">\n",
       "            <td style=\"padding: 0 1em 0 0.5em; text-align: right; border: none;\">\n",
       "                0.0080\n",
       "                \n",
       "                    &plusmn; 0.0010\n",
       "                \n",
       "            </td>\n",
       "            <td style=\"padding: 0 0.5em 0 0.5em; text-align: left; border: none;\">\n",
       "                lea_avg_student_num\n",
       "            </td>\n",
       "        </tr>\n",
       "    \n",
       "        <tr style=\"background-color: hsl(120, 100.00%, 99.15%); border: none;\">\n",
       "            <td style=\"padding: 0 1em 0 0.5em; text-align: right; border: none;\">\n",
       "                0.0063\n",
       "                \n",
       "                    &plusmn; 0.0006\n",
       "                \n",
       "            </td>\n",
       "            <td style=\"padding: 0 0.5em 0 0.5em; text-align: left; border: none;\">\n",
       "                lea_short_susp_per_c_num\n",
       "            </td>\n",
       "        </tr>\n",
       "    \n",
       "        <tr style=\"background-color: hsl(120, 100.00%, 99.16%); border: none;\">\n",
       "            <td style=\"padding: 0 1em 0 0.5em; text-align: right; border: none;\">\n",
       "                0.0063\n",
       "                \n",
       "                    &plusmn; 0.0007\n",
       "                \n",
       "            </td>\n",
       "            <td style=\"padding: 0 0.5em 0 0.5em; text-align: left; border: none;\">\n",
       "                English II Score\n",
       "            </td>\n",
       "        </tr>\n",
       "    \n",
       "        <tr style=\"background-color: hsl(120, 100.00%, 99.16%); border: none;\">\n",
       "            <td style=\"padding: 0 1em 0 0.5em; text-align: right; border: none;\">\n",
       "                0.0062\n",
       "                \n",
       "                    &plusmn; 0.0006\n",
       "                \n",
       "            </td>\n",
       "            <td style=\"padding: 0 0.5em 0 0.5em; text-align: left; border: none;\">\n",
       "                ap_participation_pct\n",
       "            </td>\n",
       "        </tr>\n",
       "    \n",
       "        <tr style=\"background-color: hsl(120, 100.00%, 99.17%); border: none;\">\n",
       "            <td style=\"padding: 0 1em 0 0.5em; text-align: right; border: none;\">\n",
       "                0.0061\n",
       "                \n",
       "                    &plusmn; 0.0007\n",
       "                \n",
       "            </td>\n",
       "            <td style=\"padding: 0 0.5em 0 0.5em; text-align: left; border: none;\">\n",
       "                unit_code\n",
       "            </td>\n",
       "        </tr>\n",
       "    \n",
       "        <tr style=\"background-color: hsl(120, 100.00%, 99.19%); border: none;\">\n",
       "            <td style=\"padding: 0 1em 0 0.5em; text-align: right; border: none;\">\n",
       "                0.0059\n",
       "                \n",
       "                    &plusmn; 0.0008\n",
       "                \n",
       "            </td>\n",
       "            <td style=\"padding: 0 0.5em 0 0.5em; text-align: left; border: none;\">\n",
       "                lea_sat_avg_score_num\n",
       "            </td>\n",
       "        </tr>\n",
       "    \n",
       "        <tr style=\"background-color: hsl(120, 100.00%, 99.19%); border: none;\">\n",
       "            <td style=\"padding: 0 1em 0 0.5em; text-align: right; border: none;\">\n",
       "                0.0059\n",
       "                \n",
       "                    &plusmn; 0.0006\n",
       "                \n",
       "            </td>\n",
       "            <td style=\"padding: 0 0.5em 0 0.5em; text-align: left; border: none;\">\n",
       "                stud_internet_comp_num\n",
       "            </td>\n",
       "        </tr>\n",
       "    \n",
       "        <tr style=\"background-color: hsl(120, 100.00%, 99.19%); border: none;\">\n",
       "            <td style=\"padding: 0 1em 0 0.5em; text-align: right; border: none;\">\n",
       "                0.0059\n",
       "                \n",
       "                    &plusmn; 0.0005\n",
       "                \n",
       "            </td>\n",
       "            <td style=\"padding: 0 0.5em 0 0.5em; text-align: left; border: none;\">\n",
       "                lea_advance_dgr_pct\n",
       "            </td>\n",
       "        </tr>\n",
       "    \n",
       "        <tr style=\"background-color: hsl(120, 100.00%, 99.22%); border: none;\">\n",
       "            <td style=\"padding: 0 1em 0 0.5em; text-align: right; border: none;\">\n",
       "                0.0056\n",
       "                \n",
       "                    &plusmn; 0.0007\n",
       "                \n",
       "            </td>\n",
       "            <td style=\"padding: 0 0.5em 0 0.5em; text-align: left; border: none;\">\n",
       "                lea_long_susp_per_c_num\n",
       "            </td>\n",
       "        </tr>\n",
       "    \n",
       "        <tr style=\"background-color: hsl(120, 100.00%, 99.23%); border: none;\">\n",
       "            <td style=\"padding: 0 1em 0 0.5em; text-align: right; border: none;\">\n",
       "                0.0054\n",
       "                \n",
       "                    &plusmn; 0.0007\n",
       "                \n",
       "            </td>\n",
       "            <td style=\"padding: 0 0.5em 0 0.5em; text-align: left; border: none;\">\n",
       "                lea_tchyrs_0thru3_pct\n",
       "            </td>\n",
       "        </tr>\n",
       "    \n",
       "        <tr style=\"background-color: hsl(120, 100.00%, 99.24%); border: none;\">\n",
       "            <td style=\"padding: 0 1em 0 0.5em; text-align: right; border: none;\">\n",
       "                0.0054\n",
       "                \n",
       "                    &plusmn; 0.0007\n",
       "                \n",
       "            </td>\n",
       "            <td style=\"padding: 0 0.5em 0 0.5em; text-align: left; border: none;\">\n",
       "                sat_participation_pct\n",
       "            </td>\n",
       "        </tr>\n",
       "    \n",
       "        <tr style=\"background-color: hsl(120, 100.00%, 99.24%); border: none;\">\n",
       "            <td style=\"padding: 0 1em 0 0.5em; text-align: right; border: none;\">\n",
       "                0.0054\n",
       "                \n",
       "                    &plusmn; 0.0004\n",
       "                \n",
       "            </td>\n",
       "            <td style=\"padding: 0 0.5em 0 0.5em; text-align: left; border: none;\">\n",
       "                MinorityMalePct\n",
       "            </td>\n",
       "        </tr>\n",
       "    \n",
       "        <tr style=\"background-color: hsl(120, 100.00%, 99.24%); border: none;\">\n",
       "            <td style=\"padding: 0 1em 0 0.5em; text-align: right; border: none;\">\n",
       "                0.0054\n",
       "                \n",
       "                    &plusmn; 0.0005\n",
       "                \n",
       "            </td>\n",
       "            <td style=\"padding: 0 0.5em 0 0.5em; text-align: left; border: none;\">\n",
       "                BlackMalePct\n",
       "            </td>\n",
       "        </tr>\n",
       "    \n",
       "        <tr style=\"background-color: hsl(120, 100.00%, 99.25%); border: none;\">\n",
       "            <td style=\"padding: 0 1em 0 0.5em; text-align: right; border: none;\">\n",
       "                0.0053\n",
       "                \n",
       "                    &plusmn; 0.0006\n",
       "                \n",
       "            </td>\n",
       "            <td style=\"padding: 0 0.5em 0 0.5em; text-align: left; border: none;\">\n",
       "                lea_ap_pct_3_or_above\n",
       "            </td>\n",
       "        </tr>\n",
       "    \n",
       "        <tr style=\"background-color: hsl(120, 100.00%, 99.25%); border: none;\">\n",
       "            <td style=\"padding: 0 1em 0 0.5em; text-align: right; border: none;\">\n",
       "                0.0053\n",
       "                \n",
       "                    &plusmn; 0.0005\n",
       "                \n",
       "            </td>\n",
       "            <td style=\"padding: 0 0.5em 0 0.5em; text-align: left; border: none;\">\n",
       "                BlackPct\n",
       "            </td>\n",
       "        </tr>\n",
       "    \n",
       "        <tr style=\"background-color: hsl(120, 100.00%, 99.25%); border: none;\">\n",
       "            <td style=\"padding: 0 1em 0 0.5em; text-align: right; border: none;\">\n",
       "                0.0053\n",
       "                \n",
       "                    &plusmn; 0.0006\n",
       "                \n",
       "            </td>\n",
       "            <td style=\"padding: 0 0.5em 0 0.5em; text-align: left; border: none;\">\n",
       "                ACTSubtests_BenchmarksMet_EDS\n",
       "            </td>\n",
       "        </tr>\n",
       "    \n",
       "        <tr style=\"background-color: hsl(120, 100.00%, 99.26%); border: none;\">\n",
       "            <td style=\"padding: 0 1em 0 0.5em; text-align: right; border: none;\">\n",
       "                0.0052\n",
       "                \n",
       "                    &plusmn; 0.0006\n",
       "                \n",
       "            </td>\n",
       "            <td style=\"padding: 0 0.5em 0 0.5em; text-align: left; border: none;\">\n",
       "                ACTCompositeScore_UNCMin_Female\n",
       "            </td>\n",
       "        </tr>\n",
       "    \n",
       "        <tr style=\"background-color: hsl(120, 100.00%, 99.26%); border: none;\">\n",
       "            <td style=\"padding: 0 1em 0 0.5em; text-align: right; border: none;\">\n",
       "                0.0051\n",
       "                \n",
       "                    &plusmn; 0.0007\n",
       "                \n",
       "            </td>\n",
       "            <td style=\"padding: 0 0.5em 0 0.5em; text-align: left; border: none;\">\n",
       "                Biology Score\n",
       "            </td>\n",
       "        </tr>\n",
       "    \n",
       "        <tr style=\"background-color: hsl(120, 100.00%, 99.29%); border: none;\">\n",
       "            <td style=\"padding: 0 1em 0 0.5em; text-align: right; border: none;\">\n",
       "                0.0049\n",
       "                \n",
       "                    &plusmn; 0.0005\n",
       "                \n",
       "            </td>\n",
       "            <td style=\"padding: 0 0.5em 0 0.5em; text-align: left; border: none;\">\n",
       "                crime_per_c_num\n",
       "            </td>\n",
       "        </tr>\n",
       "    \n",
       "        <tr style=\"background-color: hsl(120, 100.00%, 99.30%); border: none;\">\n",
       "            <td style=\"padding: 0 1em 0 0.5em; text-align: right; border: none;\">\n",
       "                0.0048\n",
       "                \n",
       "                    &plusmn; 0.0006\n",
       "                \n",
       "            </td>\n",
       "            <td style=\"padding: 0 0.5em 0 0.5em; text-align: left; border: none;\">\n",
       "                EOCEnglish2_GLP_SWD\n",
       "            </td>\n",
       "        </tr>\n",
       "    \n",
       "        <tr style=\"background-color: hsl(120, 100.00%, 99.30%); border: none;\">\n",
       "            <td style=\"padding: 0 1em 0 0.5em; text-align: right; border: none;\">\n",
       "                0.0048\n",
       "                \n",
       "                    &plusmn; 0.0005\n",
       "                \n",
       "            </td>\n",
       "            <td style=\"padding: 0 0.5em 0 0.5em; text-align: left; border: none;\">\n",
       "                lea_avg_daily_attend_pct\n",
       "            </td>\n",
       "        </tr>\n",
       "    \n",
       "        <tr style=\"background-color: hsl(120, 100.00%, 99.30%); border: none;\">\n",
       "            <td style=\"padding: 0 1em 0 0.5em; text-align: right; border: none;\">\n",
       "                0.0048\n",
       "                \n",
       "                    &plusmn; 0.0005\n",
       "                \n",
       "            </td>\n",
       "            <td style=\"padding: 0 0.5em 0 0.5em; text-align: left; border: none;\">\n",
       "                EOCSubjects_CACR_Black\n",
       "            </td>\n",
       "        </tr>\n",
       "    \n",
       "        <tr style=\"background-color: hsl(120, 100.00%, 99.32%); border: none;\">\n",
       "            <td style=\"padding: 0 1em 0 0.5em; text-align: right; border: none;\">\n",
       "                0.0046\n",
       "                \n",
       "                    &plusmn; 0.0004\n",
       "                \n",
       "            </td>\n",
       "            <td style=\"padding: 0 0.5em 0 0.5em; text-align: left; border: none;\">\n",
       "                HispanicMalePct\n",
       "            </td>\n",
       "        </tr>\n",
       "    \n",
       "        <tr style=\"background-color: hsl(120, 100.00%, 99.32%); border: none;\">\n",
       "            <td style=\"padding: 0 1em 0 0.5em; text-align: right; border: none;\">\n",
       "                0.0046\n",
       "                \n",
       "                    &plusmn; 0.0005\n",
       "                \n",
       "            </td>\n",
       "            <td style=\"padding: 0 0.5em 0 0.5em; text-align: left; border: none;\">\n",
       "                lea_tchyrs_11plus_pct\n",
       "            </td>\n",
       "        </tr>\n",
       "    \n",
       "        <tr style=\"background-color: hsl(120, 100.00%, 99.32%); border: none;\">\n",
       "            <td style=\"padding: 0 1em 0 0.5em; text-align: right; border: none;\">\n",
       "                0.0046\n",
       "                \n",
       "                    &plusmn; 0.0005\n",
       "                \n",
       "            </td>\n",
       "            <td style=\"padding: 0 0.5em 0 0.5em; text-align: left; border: none;\">\n",
       "                MinorityPct\n",
       "            </td>\n",
       "        </tr>\n",
       "    \n",
       "        <tr style=\"background-color: hsl(120, 100.00%, 99.33%); border: none;\">\n",
       "            <td style=\"padding: 0 1em 0 0.5em; text-align: right; border: none;\">\n",
       "                0.0045\n",
       "                \n",
       "                    &plusmn; 0.0004\n",
       "                \n",
       "            </td>\n",
       "            <td style=\"padding: 0 0.5em 0 0.5em; text-align: left; border: none;\">\n",
       "                MinorityFemalePct\n",
       "            </td>\n",
       "        </tr>\n",
       "    \n",
       "        <tr style=\"background-color: hsl(120, 100.00%, 99.33%); border: none;\">\n",
       "            <td style=\"padding: 0 1em 0 0.5em; text-align: right; border: none;\">\n",
       "                0.0045\n",
       "                \n",
       "                    &plusmn; 0.0006\n",
       "                \n",
       "            </td>\n",
       "            <td style=\"padding: 0 0.5em 0 0.5em; text-align: left; border: none;\">\n",
       "                AsianMalePct\n",
       "            </td>\n",
       "        </tr>\n",
       "    \n",
       "        <tr style=\"background-color: hsl(120, 100.00%, 99.33%); border: none;\">\n",
       "            <td style=\"padding: 0 1em 0 0.5em; text-align: right; border: none;\">\n",
       "                0.0045\n",
       "                \n",
       "                    &plusmn; 0.0005\n",
       "                \n",
       "            </td>\n",
       "            <td style=\"padding: 0 0.5em 0 0.5em; text-align: left; border: none;\">\n",
       "                EOCEnglish2_CACR_Male\n",
       "            </td>\n",
       "        </tr>\n",
       "    \n",
       "        <tr style=\"background-color: hsl(120, 100.00%, 99.34%); border: none;\">\n",
       "            <td style=\"padding: 0 1em 0 0.5em; text-align: right; border: none;\">\n",
       "                0.0044\n",
       "                \n",
       "                    &plusmn; 0.0006\n",
       "                \n",
       "            </td>\n",
       "            <td style=\"padding: 0 0.5em 0 0.5em; text-align: left; border: none;\">\n",
       "                EOCEnglish2_CACR_EDS\n",
       "            </td>\n",
       "        </tr>\n",
       "    \n",
       "        <tr style=\"background-color: hsl(120, 100.00%, 99.34%); border: none;\">\n",
       "            <td style=\"padding: 0 1em 0 0.5em; text-align: right; border: none;\">\n",
       "                0.0044\n",
       "                \n",
       "                    &plusmn; 0.0007\n",
       "                \n",
       "            </td>\n",
       "            <td style=\"padding: 0 0.5em 0 0.5em; text-align: left; border: none;\">\n",
       "                ap_pct_3_or_above\n",
       "            </td>\n",
       "        </tr>\n",
       "    \n",
       "        <tr style=\"background-color: hsl(120, 100.00%, 99.37%); border: none;\">\n",
       "            <td style=\"padding: 0 1em 0 0.5em; text-align: right; border: none;\">\n",
       "                0.0042\n",
       "                \n",
       "                    &plusmn; 0.0004\n",
       "                \n",
       "            </td>\n",
       "            <td style=\"padding: 0 0.5em 0 0.5em; text-align: left; border: none;\">\n",
       "                F_Female_ENROLL_sch_pct\n",
       "            </td>\n",
       "        </tr>\n",
       "    \n",
       "        <tr style=\"background-color: hsl(120, 100.00%, 99.37%); border: none;\">\n",
       "            <td style=\"padding: 0 1em 0 0.5em; text-align: right; border: none;\">\n",
       "                0.0041\n",
       "                \n",
       "                    &plusmn; 0.0005\n",
       "                \n",
       "            </td>\n",
       "            <td style=\"padding: 0 0.5em 0 0.5em; text-align: left; border: none;\">\n",
       "                tchyrs_11plus_pct\n",
       "            </td>\n",
       "        </tr>\n",
       "    \n",
       "        <tr style=\"background-color: hsl(120, 100.00%, 99.37%); border: none;\">\n",
       "            <td style=\"padding: 0 1em 0 0.5em; text-align: right; border: none;\">\n",
       "                0.0041\n",
       "                \n",
       "                    &plusmn; 0.0004\n",
       "                \n",
       "            </td>\n",
       "            <td style=\"padding: 0 0.5em 0 0.5em; text-align: left; border: none;\">\n",
       "                cte_courses\n",
       "            </td>\n",
       "        </tr>\n",
       "    \n",
       "        <tr style=\"background-color: hsl(120, 100.00%, 99.38%); border: none;\">\n",
       "            <td style=\"padding: 0 1em 0 0.5em; text-align: right; border: none;\">\n",
       "                0.0040\n",
       "                \n",
       "                    &plusmn; 0.0004\n",
       "                \n",
       "            </td>\n",
       "            <td style=\"padding: 0 0.5em 0 0.5em; text-align: left; border: none;\">\n",
       "                lea_crime_per_c_num\n",
       "            </td>\n",
       "        </tr>\n",
       "    \n",
       "        <tr style=\"background-color: hsl(120, 100.00%, 99.38%); border: none;\">\n",
       "            <td style=\"padding: 0 1em 0 0.5em; text-align: right; border: none;\">\n",
       "                0.0040\n",
       "                \n",
       "                    &plusmn; 0.0004\n",
       "                \n",
       "            </td>\n",
       "            <td style=\"padding: 0 0.5em 0 0.5em; text-align: left; border: none;\">\n",
       "                ECODIS_Economically Disadvantaged_ENROLL_sch_pct\n",
       "            </td>\n",
       "        </tr>\n",
       "    \n",
       "        <tr style=\"background-color: hsl(120, 100.00%, 99.38%); border: none;\">\n",
       "            <td style=\"padding: 0 1em 0 0.5em; text-align: right; border: none;\">\n",
       "                0.0040\n",
       "                \n",
       "                    &plusmn; 0.0006\n",
       "                \n",
       "            </td>\n",
       "            <td style=\"padding: 0 0.5em 0 0.5em; text-align: left; border: none;\">\n",
       "                EOCBiology_CACR_EDS\n",
       "            </td>\n",
       "        </tr>\n",
       "    \n",
       "        <tr style=\"background-color: hsl(120, 100.00%, 99.39%); border: none;\">\n",
       "            <td style=\"padding: 0 1em 0 0.5em; text-align: right; border: none;\">\n",
       "                0.0040\n",
       "                \n",
       "                    &plusmn; 0.0004\n",
       "                \n",
       "            </td>\n",
       "            <td style=\"padding: 0 0.5em 0 0.5em; text-align: left; border: none;\">\n",
       "                IndianFemalePct\n",
       "            </td>\n",
       "        </tr>\n",
       "    \n",
       "        <tr style=\"background-color: hsl(120, 100.00%, 99.39%); border: none;\">\n",
       "            <td style=\"padding: 0 1em 0 0.5em; text-align: right; border: none;\">\n",
       "                0.0039\n",
       "                \n",
       "                    &plusmn; 0.0008\n",
       "                \n",
       "            </td>\n",
       "            <td style=\"padding: 0 0.5em 0 0.5em; text-align: left; border: none;\">\n",
       "                univ_college_courses\n",
       "            </td>\n",
       "        </tr>\n",
       "    \n",
       "        <tr style=\"background-color: hsl(120, 100.00%, 99.39%); border: none;\">\n",
       "            <td style=\"padding: 0 1em 0 0.5em; text-align: right; border: none;\">\n",
       "                0.0039\n",
       "                \n",
       "                    &plusmn; 0.0005\n",
       "                \n",
       "            </td>\n",
       "            <td style=\"padding: 0 0.5em 0 0.5em; text-align: left; border: none;\">\n",
       "                lea_salary_expense_pct\n",
       "            </td>\n",
       "        </tr>\n",
       "    \n",
       "        <tr style=\"background-color: hsl(120, 100.00%, 99.41%); border: none;\">\n",
       "            <td style=\"padding: 0 1em 0 0.5em; text-align: right; border: none;\">\n",
       "                0.0038\n",
       "                \n",
       "                    &plusmn; 0.0004\n",
       "                \n",
       "            </td>\n",
       "            <td style=\"padding: 0 0.5em 0 0.5em; text-align: left; border: none;\">\n",
       "                EVAAS Growth Score\n",
       "            </td>\n",
       "        </tr>\n",
       "    \n",
       "        <tr style=\"background-color: hsl(120, 100.00%, 99.43%); border: none;\">\n",
       "            <td style=\"padding: 0 1em 0 0.5em; text-align: right; border: none;\">\n",
       "                0.0036\n",
       "                \n",
       "                    &plusmn; 0.0008\n",
       "                \n",
       "            </td>\n",
       "            <td style=\"padding: 0 0.5em 0 0.5em; text-align: left; border: none;\">\n",
       "                lea_tchyrs_4thru10_pct\n",
       "            </td>\n",
       "        </tr>\n",
       "    \n",
       "        <tr style=\"background-color: hsl(120, 100.00%, 99.44%); border: none;\">\n",
       "            <td style=\"padding: 0 1em 0 0.5em; text-align: right; border: none;\">\n",
       "                0.0034\n",
       "                \n",
       "                    &plusmn; 0.0004\n",
       "                \n",
       "            </td>\n",
       "            <td style=\"padding: 0 0.5em 0 0.5em; text-align: left; border: none;\">\n",
       "                lea_cte_courses\n",
       "            </td>\n",
       "        </tr>\n",
       "    \n",
       "        <tr style=\"background-color: hsl(120, 100.00%, 99.45%); border: none;\">\n",
       "            <td style=\"padding: 0 1em 0 0.5em; text-align: right; border: none;\">\n",
       "                0.0034\n",
       "                \n",
       "                    &plusmn; 0.0003\n",
       "                \n",
       "            </td>\n",
       "            <td style=\"padding: 0 0.5em 0 0.5em; text-align: left; border: none;\">\n",
       "                EOCSubjects_CACR_EDS\n",
       "            </td>\n",
       "        </tr>\n",
       "    \n",
       "        <tr style=\"background-color: hsl(120, 100.00%, 99.45%); border: none;\">\n",
       "            <td style=\"padding: 0 1em 0 0.5em; text-align: right; border: none;\">\n",
       "                0.0033\n",
       "                \n",
       "                    &plusmn; 0.0003\n",
       "                \n",
       "            </td>\n",
       "            <td style=\"padding: 0 0.5em 0 0.5em; text-align: left; border: none;\">\n",
       "                lea_flicensed_teach_pct\n",
       "            </td>\n",
       "        </tr>\n",
       "    \n",
       "        <tr style=\"background-color: hsl(120, 100.00%, 99.46%); border: none;\">\n",
       "            <td style=\"padding: 0 1em 0 0.5em; text-align: right; border: none;\">\n",
       "                0.0033\n",
       "                \n",
       "                    &plusmn; 0.0004\n",
       "                \n",
       "            </td>\n",
       "            <td style=\"padding: 0 0.5em 0 0.5em; text-align: left; border: none;\">\n",
       "                lea_ap_participation_pct\n",
       "            </td>\n",
       "        </tr>\n",
       "    \n",
       "        <tr style=\"background-color: hsl(120, 100.00%, 99.46%); border: none;\">\n",
       "            <td style=\"padding: 0 1em 0 0.5em; text-align: right; border: none;\">\n",
       "                0.0033\n",
       "                \n",
       "                    &plusmn; 0.0003\n",
       "                \n",
       "            </td>\n",
       "            <td style=\"padding: 0 0.5em 0 0.5em; text-align: left; border: none;\">\n",
       "                HispanicFemalePct\n",
       "            </td>\n",
       "        </tr>\n",
       "    \n",
       "        <tr style=\"background-color: hsl(120, 100.00%, 99.46%); border: none;\">\n",
       "            <td style=\"padding: 0 1em 0 0.5em; text-align: right; border: none;\">\n",
       "                0.0033\n",
       "                \n",
       "                    &plusmn; 0.0003\n",
       "                \n",
       "            </td>\n",
       "            <td style=\"padding: 0 0.5em 0 0.5em; text-align: left; border: none;\">\n",
       "                lea_univ_college_courses\n",
       "            </td>\n",
       "        </tr>\n",
       "    \n",
       "        <tr style=\"background-color: hsl(120, 100.00%, 99.47%); border: none;\">\n",
       "            <td style=\"padding: 0 1em 0 0.5em; text-align: right; border: none;\">\n",
       "                0.0032\n",
       "                \n",
       "                    &plusmn; 0.0004\n",
       "                \n",
       "            </td>\n",
       "            <td style=\"padding: 0 0.5em 0 0.5em; text-align: left; border: none;\">\n",
       "                lea_stud_internet_comp_num\n",
       "            </td>\n",
       "        </tr>\n",
       "    \n",
       "        <tr style=\"background-color: hsl(120, 100.00%, 99.47%); border: none;\">\n",
       "            <td style=\"padding: 0 1em 0 0.5em; text-align: right; border: none;\">\n",
       "                0.0032\n",
       "                \n",
       "                    &plusmn; 0.0004\n",
       "                \n",
       "            </td>\n",
       "            <td style=\"padding: 0 0.5em 0 0.5em; text-align: left; border: none;\">\n",
       "                AsianFemalePct\n",
       "            </td>\n",
       "        </tr>\n",
       "    \n",
       "        <tr style=\"background-color: hsl(120, 100.00%, 99.49%); border: none;\">\n",
       "            <td style=\"padding: 0 1em 0 0.5em; text-align: right; border: none;\">\n",
       "                0.0030\n",
       "                \n",
       "                    &plusmn; 0.0003\n",
       "                \n",
       "            </td>\n",
       "            <td style=\"padding: 0 0.5em 0 0.5em; text-align: left; border: none;\">\n",
       "                lea_state_perpupil_num\n",
       "            </td>\n",
       "        </tr>\n",
       "    \n",
       "        <tr style=\"background-color: hsl(120, 100.00%, 99.49%); border: none;\">\n",
       "            <td style=\"padding: 0 1em 0 0.5em; text-align: right; border: none;\">\n",
       "                0.0030\n",
       "                \n",
       "                    &plusmn; 0.0004\n",
       "                \n",
       "            </td>\n",
       "            <td style=\"padding: 0 0.5em 0 0.5em; text-align: left; border: none;\">\n",
       "                lea_sat_participation_pct\n",
       "            </td>\n",
       "        </tr>\n",
       "    \n",
       "        <tr style=\"background-color: hsl(120, 100.00%, 99.50%); border: none;\">\n",
       "            <td style=\"padding: 0 1em 0 0.5em; text-align: right; border: none;\">\n",
       "                0.0030\n",
       "                \n",
       "                    &plusmn; 0.0006\n",
       "                \n",
       "            </td>\n",
       "            <td style=\"padding: 0 0.5em 0 0.5em; text-align: left; border: none;\">\n",
       "                EOCSubjects_CACR_SWD\n",
       "            </td>\n",
       "        </tr>\n",
       "    \n",
       "        <tr style=\"background-color: hsl(120, 100.00%, 99.50%); border: none;\">\n",
       "            <td style=\"padding: 0 1em 0 0.5em; text-align: right; border: none;\">\n",
       "                0.0029\n",
       "                \n",
       "                    &plusmn; 0.0003\n",
       "                \n",
       "            </td>\n",
       "            <td style=\"padding: 0 0.5em 0 0.5em; text-align: left; border: none;\">\n",
       "                EOCMathI_CACR_AIG\n",
       "            </td>\n",
       "        </tr>\n",
       "    \n",
       "        <tr style=\"background-color: hsl(120, 100.00%, 99.50%); border: none;\">\n",
       "            <td style=\"padding: 0 1em 0 0.5em; text-align: right; border: none;\">\n",
       "                0.0029\n",
       "                \n",
       "                    &plusmn; 0.0004\n",
       "                \n",
       "            </td>\n",
       "            <td style=\"padding: 0 0.5em 0 0.5em; text-align: left; border: none;\">\n",
       "                tchyrs_0thru3_pct\n",
       "            </td>\n",
       "        </tr>\n",
       "    \n",
       "        <tr style=\"background-color: hsl(120, 100.00%, 99.51%); border: none;\">\n",
       "            <td style=\"padding: 0 1em 0 0.5em; text-align: right; border: none;\">\n",
       "                0.0029\n",
       "                \n",
       "                    &plusmn; 0.0003\n",
       "                \n",
       "            </td>\n",
       "            <td style=\"padding: 0 0.5em 0 0.5em; text-align: left; border: none;\">\n",
       "                TwoOrMorePct\n",
       "            </td>\n",
       "        </tr>\n",
       "    \n",
       "        <tr style=\"background-color: hsl(120, 100.00%, 99.51%); border: none;\">\n",
       "            <td style=\"padding: 0 1em 0 0.5em; text-align: right; border: none;\">\n",
       "                0.0029\n",
       "                \n",
       "                    &plusmn; 0.0003\n",
       "                \n",
       "            </td>\n",
       "            <td style=\"padding: 0 0.5em 0 0.5em; text-align: left; border: none;\">\n",
       "                English II_Size\n",
       "            </td>\n",
       "        </tr>\n",
       "    \n",
       "        <tr style=\"background-color: hsl(120, 100.00%, 99.52%); border: none;\">\n",
       "            <td style=\"padding: 0 1em 0 0.5em; text-align: right; border: none;\">\n",
       "                0.0028\n",
       "                \n",
       "                    &plusmn; 0.0003\n",
       "                \n",
       "            </td>\n",
       "            <td style=\"padding: 0 0.5em 0 0.5em; text-align: left; border: none;\">\n",
       "                M_Male_ENROLL_sch_pct\n",
       "            </td>\n",
       "        </tr>\n",
       "    \n",
       "        <tr style=\"background-color: hsl(120, 100.00%, 99.52%); border: none;\">\n",
       "            <td style=\"padding: 0 1em 0 0.5em; text-align: right; border: none;\">\n",
       "                0.0028\n",
       "                \n",
       "                    &plusmn; 0.0003\n",
       "                \n",
       "            </td>\n",
       "            <td style=\"padding: 0 0.5em 0 0.5em; text-align: left; border: none;\">\n",
       "                EOCBiology_CACR_Male\n",
       "            </td>\n",
       "        </tr>\n",
       "    \n",
       "        <tr style=\"background-color: hsl(120, 100.00%, 99.52%); border: none;\">\n",
       "            <td style=\"padding: 0 1em 0 0.5em; text-align: right; border: none;\">\n",
       "                0.0028\n",
       "                \n",
       "                    &plusmn; 0.0005\n",
       "                \n",
       "            </td>\n",
       "            <td style=\"padding: 0 0.5em 0 0.5em; text-align: left; border: none;\">\n",
       "                ACT_pTarget_PctMet\n",
       "            </td>\n",
       "        </tr>\n",
       "    \n",
       "        <tr style=\"background-color: hsl(120, 100.00%, 99.52%); border: none;\">\n",
       "            <td style=\"padding: 0 1em 0 0.5em; text-align: right; border: none;\">\n",
       "                0.0028\n",
       "                \n",
       "                    &plusmn; 0.0003\n",
       "                \n",
       "            </td>\n",
       "            <td style=\"padding: 0 0.5em 0 0.5em; text-align: left; border: none;\">\n",
       "                Distinguished_TCHR_Standard 1_Pct\n",
       "            </td>\n",
       "        </tr>\n",
       "    \n",
       "        <tr style=\"background-color: hsl(120, 100.00%, 99.53%); border: none;\">\n",
       "            <td style=\"padding: 0 1em 0 0.5em; text-align: right; border: none;\">\n",
       "                0.0027\n",
       "                \n",
       "                    &plusmn; 0.0003\n",
       "                \n",
       "            </td>\n",
       "            <td style=\"padding: 0 0.5em 0 0.5em; text-align: left; border: none;\">\n",
       "                EOCBiology_CACR_White\n",
       "            </td>\n",
       "        </tr>\n",
       "    \n",
       "        <tr style=\"background-color: hsl(120, 100.00%, 99.54%); border: none;\">\n",
       "            <td style=\"padding: 0 1em 0 0.5em; text-align: right; border: none;\">\n",
       "                0.0026\n",
       "                \n",
       "                    &plusmn; 0.0002\n",
       "                \n",
       "            </td>\n",
       "            <td style=\"padding: 0 0.5em 0 0.5em; text-align: left; border: none;\">\n",
       "                Accomplished_TCHR_Standard 4_Pct\n",
       "            </td>\n",
       "        </tr>\n",
       "    \n",
       "        <tr style=\"background-color: hsl(120, 100.00%, 99.54%); border: none;\">\n",
       "            <td style=\"padding: 0 1em 0 0.5em; text-align: right; border: none;\">\n",
       "                0.0026\n",
       "                \n",
       "                    &plusmn; 0.0003\n",
       "                \n",
       "            </td>\n",
       "            <td style=\"padding: 0 0.5em 0 0.5em; text-align: left; border: none;\">\n",
       "                tchyrs_4thru10_pct\n",
       "            </td>\n",
       "        </tr>\n",
       "    \n",
       "        <tr style=\"background-color: hsl(120, 100.00%, 99.54%); border: none;\">\n",
       "            <td style=\"padding: 0 1em 0 0.5em; text-align: right; border: none;\">\n",
       "                0.0026\n",
       "                \n",
       "                    &plusmn; 0.0003\n",
       "                \n",
       "            </td>\n",
       "            <td style=\"padding: 0 0.5em 0 0.5em; text-align: left; border: none;\">\n",
       "                lea_nbpts_num\n",
       "            </td>\n",
       "        </tr>\n",
       "    \n",
       "        <tr style=\"background-color: hsl(120, 100.00%, 99.54%); border: none;\">\n",
       "            <td style=\"padding: 0 1em 0 0.5em; text-align: right; border: none;\">\n",
       "                0.0026\n",
       "                \n",
       "                    &plusmn; 0.0003\n",
       "                \n",
       "            </td>\n",
       "            <td style=\"padding: 0 0.5em 0 0.5em; text-align: left; border: none;\">\n",
       "                lea_emer_prov_teach_pct\n",
       "            </td>\n",
       "        </tr>\n",
       "    \n",
       "        <tr style=\"background-color: hsl(120, 100.00%, 99.54%); border: none;\">\n",
       "            <td style=\"padding: 0 1em 0 0.5em; text-align: right; border: none;\">\n",
       "                0.0026\n",
       "                \n",
       "                    &plusmn; 0.0004\n",
       "                \n",
       "            </td>\n",
       "            <td style=\"padding: 0 0.5em 0 0.5em; text-align: left; border: none;\">\n",
       "                _1yr_tchr_trnovr_pct\n",
       "            </td>\n",
       "        </tr>\n",
       "    \n",
       "        <tr style=\"background-color: hsl(120, 100.00%, 99.54%); border: none;\">\n",
       "            <td style=\"padding: 0 1em 0 0.5em; text-align: right; border: none;\">\n",
       "                0.0026\n",
       "                \n",
       "                    &plusmn; 0.0005\n",
       "                \n",
       "            </td>\n",
       "            <td style=\"padding: 0 0.5em 0 0.5em; text-align: left; border: none;\">\n",
       "                long_susp_per_c_num\n",
       "            </td>\n",
       "        </tr>\n",
       "    \n",
       "        <tr style=\"background-color: hsl(120, 100.00%, 99.55%); border: none;\">\n",
       "            <td style=\"padding: 0 1em 0 0.5em; text-align: right; border: none;\">\n",
       "                0.0026\n",
       "                \n",
       "                    &plusmn; 0.0003\n",
       "                \n",
       "            </td>\n",
       "            <td style=\"padding: 0 0.5em 0 0.5em; text-align: left; border: none;\">\n",
       "                ACTSubtests_BenchmarksMet_Black\n",
       "            </td>\n",
       "        </tr>\n",
       "    \n",
       "        <tr style=\"background-color: hsl(120, 100.00%, 99.55%); border: none;\">\n",
       "            <td style=\"padding: 0 1em 0 0.5em; text-align: right; border: none;\">\n",
       "                0.0025\n",
       "                \n",
       "                    &plusmn; 0.0003\n",
       "                \n",
       "            </td>\n",
       "            <td style=\"padding: 0 0.5em 0 0.5em; text-align: left; border: none;\">\n",
       "                ACTWorkKeys_SilverPlus_Female\n",
       "            </td>\n",
       "        </tr>\n",
       "    \n",
       "        <tr style=\"background-color: hsl(120, 100.00%, 99.55%); border: none;\">\n",
       "            <td style=\"padding: 0 1em 0 0.5em; text-align: right; border: none;\">\n",
       "                0.0025\n",
       "                \n",
       "                    &plusmn; 0.0003\n",
       "                \n",
       "            </td>\n",
       "            <td style=\"padding: 0 0.5em 0 0.5em; text-align: left; border: none;\">\n",
       "                flicensed_teach_pct\n",
       "            </td>\n",
       "        </tr>\n",
       "    \n",
       "        <tr style=\"background-color: hsl(120, 100.00%, 99.55%); border: none;\">\n",
       "            <td style=\"padding: 0 1em 0 0.5em; text-align: right; border: none;\">\n",
       "                0.0025\n",
       "                \n",
       "                    &plusmn; 0.0004\n",
       "                \n",
       "            </td>\n",
       "            <td style=\"padding: 0 0.5em 0 0.5em; text-align: left; border: none;\">\n",
       "                ACTEnglish_ACTBenchmark_EDS\n",
       "            </td>\n",
       "        </tr>\n",
       "    \n",
       "        <tr style=\"background-color: hsl(120, 100.00%, 99.55%); border: none;\">\n",
       "            <td style=\"padding: 0 1em 0 0.5em; text-align: right; border: none;\">\n",
       "                0.0025\n",
       "                \n",
       "                    &plusmn; 0.0003\n",
       "                \n",
       "            </td>\n",
       "            <td style=\"padding: 0 0.5em 0 0.5em; text-align: left; border: none;\">\n",
       "                lea_total_expense_num\n",
       "            </td>\n",
       "        </tr>\n",
       "    \n",
       "        <tr style=\"background-color: hsl(120, 100.00%, 99.56%); border: none;\">\n",
       "            <td style=\"padding: 0 1em 0 0.5em; text-align: right; border: none;\">\n",
       "                0.0025\n",
       "                \n",
       "                    &plusmn; 0.0003\n",
       "                \n",
       "            </td>\n",
       "            <td style=\"padding: 0 0.5em 0 0.5em; text-align: left; border: none;\">\n",
       "                EOCMathI_CACR_White\n",
       "            </td>\n",
       "        </tr>\n",
       "    \n",
       "        <tr style=\"background-color: hsl(120, 100.00%, 99.56%); border: none;\">\n",
       "            <td style=\"padding: 0 1em 0 0.5em; text-align: right; border: none;\">\n",
       "                0.0024\n",
       "                \n",
       "                    &plusmn; 0.0005\n",
       "                \n",
       "            </td>\n",
       "            <td style=\"padding: 0 0.5em 0 0.5em; text-align: left; border: none;\">\n",
       "                EOCEnglish2_CACR_Female\n",
       "            </td>\n",
       "        </tr>\n",
       "    \n",
       "        <tr style=\"background-color: hsl(120, 100.00%, 99.56%); border: none;\">\n",
       "            <td style=\"padding: 0 1em 0 0.5em; text-align: right; border: none;\">\n",
       "                0.0024\n",
       "                \n",
       "                    &plusmn; 0.0003\n",
       "                \n",
       "            </td>\n",
       "            <td style=\"padding: 0 0.5em 0 0.5em; text-align: left; border: none;\">\n",
       "                lea_federal_perpupil_num\n",
       "            </td>\n",
       "        </tr>\n",
       "    \n",
       "        <tr style=\"background-color: hsl(120, 100.00%, 99.56%); border: none;\">\n",
       "            <td style=\"padding: 0 1em 0 0.5em; text-align: right; border: none;\">\n",
       "                0.0024\n",
       "                \n",
       "                    &plusmn; 0.0004\n",
       "                \n",
       "            </td>\n",
       "            <td style=\"padding: 0 0.5em 0 0.5em; text-align: left; border: none;\">\n",
       "                EOCSubjects_CACR_AIG\n",
       "            </td>\n",
       "        </tr>\n",
       "    \n",
       "        <tr style=\"background-color: hsl(120, 100.00%, 99.57%); border: none;\">\n",
       "            <td style=\"padding: 0 1em 0 0.5em; text-align: right; border: none;\">\n",
       "                0.0024\n",
       "                \n",
       "                    &plusmn; 0.0003\n",
       "                \n",
       "            </td>\n",
       "            <td style=\"padding: 0 0.5em 0 0.5em; text-align: left; border: none;\">\n",
       "                sat_avg_score_num\n",
       "            </td>\n",
       "        </tr>\n",
       "    \n",
       "        <tr style=\"background-color: hsl(120, 100.00%, 99.58%); border: none;\">\n",
       "            <td style=\"padding: 0 1em 0 0.5em; text-align: right; border: none;\">\n",
       "                0.0023\n",
       "                \n",
       "                    &plusmn; 0.0002\n",
       "                \n",
       "            </td>\n",
       "            <td style=\"padding: 0 0.5em 0 0.5em; text-align: left; border: none;\">\n",
       "                EOCMathI_GLP_SWD\n",
       "            </td>\n",
       "        </tr>\n",
       "    \n",
       "        <tr style=\"background-color: hsl(120, 100.00%, 99.58%); border: none;\">\n",
       "            <td style=\"padding: 0 1em 0 0.5em; text-align: right; border: none;\">\n",
       "                0.0023\n",
       "                \n",
       "                    &plusmn; 0.0003\n",
       "                \n",
       "            </td>\n",
       "            <td style=\"padding: 0 0.5em 0 0.5em; text-align: left; border: none;\">\n",
       "                ACTReading_ACTBenchmark_Black\n",
       "            </td>\n",
       "        </tr>\n",
       "    \n",
       "        <tr style=\"background-color: hsl(120, 100.00%, 99.58%); border: none;\">\n",
       "            <td style=\"padding: 0 1em 0 0.5em; text-align: right; border: none;\">\n",
       "                0.0023\n",
       "                \n",
       "                    &plusmn; 0.0005\n",
       "                \n",
       "            </td>\n",
       "            <td style=\"padding: 0 0.5em 0 0.5em; text-align: left; border: none;\">\n",
       "                EOCMathI_CACR_Black\n",
       "            </td>\n",
       "        </tr>\n",
       "    \n",
       "        <tr style=\"background-color: hsl(120, 100.00%, 99.59%); border: none;\">\n",
       "            <td style=\"padding: 0 1em 0 0.5em; text-align: right; border: none;\">\n",
       "                0.0023\n",
       "                \n",
       "                    &plusmn; 0.0002\n",
       "                \n",
       "            </td>\n",
       "            <td style=\"padding: 0 0.5em 0 0.5em; text-align: left; border: none;\">\n",
       "                ACTSubtests_BenchmarksMet_Hispanic\n",
       "            </td>\n",
       "        </tr>\n",
       "    \n",
       "        <tr style=\"background-color: hsl(120, 100.00%, 99.59%); border: none;\">\n",
       "            <td style=\"padding: 0 1em 0 0.5em; text-align: right; border: none;\">\n",
       "                0.0023\n",
       "                \n",
       "                    &plusmn; 0.0003\n",
       "                \n",
       "            </td>\n",
       "            <td style=\"padding: 0 0.5em 0 0.5em; text-align: left; border: none;\">\n",
       "                EOCMathI_CACR_Hispanic\n",
       "            </td>\n",
       "        </tr>\n",
       "    \n",
       "        <tr style=\"background-color: hsl(120, 100.00%, 99.59%); border: none;\">\n",
       "            <td style=\"padding: 0 1em 0 0.5em; text-align: right; border: none;\">\n",
       "                0.0022\n",
       "                \n",
       "                    &plusmn; 0.0003\n",
       "                \n",
       "            </td>\n",
       "            <td style=\"padding: 0 0.5em 0 0.5em; text-align: left; border: none;\">\n",
       "                EOCSubjects_CACR_Hispanic\n",
       "            </td>\n",
       "        </tr>\n",
       "    \n",
       "        <tr style=\"background-color: hsl(120, 100.00%, 99.59%); border: none;\">\n",
       "            <td style=\"padding: 0 1em 0 0.5em; text-align: right; border: none;\">\n",
       "                0.0022\n",
       "                \n",
       "                    &plusmn; 0.0003\n",
       "                \n",
       "            </td>\n",
       "            <td style=\"padding: 0 0.5em 0 0.5em; text-align: left; border: none;\">\n",
       "                EOCMathI_CACR_EDS\n",
       "            </td>\n",
       "        </tr>\n",
       "    \n",
       "        <tr style=\"background-color: hsl(120, 100.00%, 99.60%); border: none;\">\n",
       "            <td style=\"padding: 0 1em 0 0.5em; text-align: right; border: none;\">\n",
       "                0.0022\n",
       "                \n",
       "                    &plusmn; 0.0002\n",
       "                \n",
       "            </td>\n",
       "            <td style=\"padding: 0 0.5em 0 0.5em; text-align: left; border: none;\">\n",
       "                4-10 Years_LEA_Exp_Pct_Prin\n",
       "            </td>\n",
       "        </tr>\n",
       "    \n",
       "        <tr style=\"background-color: hsl(120, 100.00%, 99.60%); border: none;\">\n",
       "            <td style=\"padding: 0 1em 0 0.5em; text-align: right; border: none;\">\n",
       "                0.0022\n",
       "                \n",
       "                    &plusmn; 0.0002\n",
       "                \n",
       "            </td>\n",
       "            <td style=\"padding: 0 0.5em 0 0.5em; text-align: left; border: none;\">\n",
       "                TwoOrMoreFemalePct\n",
       "            </td>\n",
       "        </tr>\n",
       "    \n",
       "        <tr style=\"background-color: hsl(120, 100.00%, 99.60%); border: none;\">\n",
       "            <td style=\"padding: 0 1em 0 0.5em; text-align: right; border: none;\">\n",
       "                0.0021\n",
       "                \n",
       "                    &plusmn; 0.0004\n",
       "                \n",
       "            </td>\n",
       "            <td style=\"padding: 0 0.5em 0 0.5em; text-align: left; border: none;\">\n",
       "                EOCEnglish2_CACR_Black\n",
       "            </td>\n",
       "        </tr>\n",
       "    \n",
       "        <tr style=\"background-color: hsl(120, 100.00%, 99.60%); border: none;\">\n",
       "            <td style=\"padding: 0 1em 0 0.5em; text-align: right; border: none;\">\n",
       "                0.0021\n",
       "                \n",
       "                    &plusmn; 0.0003\n",
       "                \n",
       "            </td>\n",
       "            <td style=\"padding: 0 0.5em 0 0.5em; text-align: left; border: none;\">\n",
       "                Math I_Size\n",
       "            </td>\n",
       "        </tr>\n",
       "    \n",
       "        <tr style=\"background-color: hsl(120, 100.00%, 99.60%); border: none;\">\n",
       "            <td style=\"padding: 0 1em 0 0.5em; text-align: right; border: none;\">\n",
       "                0.0021\n",
       "                \n",
       "                    &plusmn; 0.0003\n",
       "                \n",
       "            </td>\n",
       "            <td style=\"padding: 0 0.5em 0 0.5em; text-align: left; border: none;\">\n",
       "                lea_services_expense_pct\n",
       "            </td>\n",
       "        </tr>\n",
       "    \n",
       "        <tr style=\"background-color: hsl(120, 100.00%, 99.60%); border: none;\">\n",
       "            <td style=\"padding: 0 1em 0 0.5em; text-align: right; border: none;\">\n",
       "                0.0021\n",
       "                \n",
       "                    &plusmn; 0.0004\n",
       "                \n",
       "            </td>\n",
       "            <td style=\"padding: 0 0.5em 0 0.5em; text-align: left; border: none;\">\n",
       "                SPG Grade_B\n",
       "            </td>\n",
       "        </tr>\n",
       "    \n",
       "        <tr style=\"background-color: hsl(120, 100.00%, 99.61%); border: none;\">\n",
       "            <td style=\"padding: 0 1em 0 0.5em; text-align: right; border: none;\">\n",
       "                0.0021\n",
       "                \n",
       "                    &plusmn; 0.0002\n",
       "                \n",
       "            </td>\n",
       "            <td style=\"padding: 0 0.5em 0 0.5em; text-align: left; border: none;\">\n",
       "                lea_supplies_expense_pct\n",
       "            </td>\n",
       "        </tr>\n",
       "    \n",
       "        <tr style=\"background-color: hsl(120, 100.00%, 99.61%); border: none;\">\n",
       "            <td style=\"padding: 0 1em 0 0.5em; text-align: right; border: none;\">\n",
       "                0.0021\n",
       "                \n",
       "                    &plusmn; 0.0003\n",
       "                \n",
       "            </td>\n",
       "            <td style=\"padding: 0 0.5em 0 0.5em; text-align: left; border: none;\">\n",
       "                EOCSubjects_CACR_White\n",
       "            </td>\n",
       "        </tr>\n",
       "    \n",
       "        <tr style=\"background-color: hsl(120, 100.00%, 99.61%); border: none;\">\n",
       "            <td style=\"padding: 0 1em 0 0.5em; text-align: right; border: none;\">\n",
       "                0.0021\n",
       "                \n",
       "                    &plusmn; 0.0003\n",
       "                \n",
       "            </td>\n",
       "            <td style=\"padding: 0 0.5em 0 0.5em; text-align: left; border: none;\">\n",
       "                ACTWorkKeys_SilverPlus_Male\n",
       "            </td>\n",
       "        </tr>\n",
       "    \n",
       "        <tr style=\"background-color: hsl(120, 100.00%, 99.61%); border: none;\">\n",
       "            <td style=\"padding: 0 1em 0 0.5em; text-align: right; border: none;\">\n",
       "                0.0021\n",
       "                \n",
       "                    &plusmn; 0.0004\n",
       "                \n",
       "            </td>\n",
       "            <td style=\"padding: 0 0.5em 0 0.5em; text-align: left; border: none;\">\n",
       "                EOCBiology_CACR_Black\n",
       "            </td>\n",
       "        </tr>\n",
       "    \n",
       "        <tr style=\"background-color: hsl(120, 100.00%, 99.61%); border: none;\">\n",
       "            <td style=\"padding: 0 1em 0 0.5em; text-align: right; border: none;\">\n",
       "                0.0020\n",
       "                \n",
       "                    &plusmn; 0.0003\n",
       "                \n",
       "            </td>\n",
       "            <td style=\"padding: 0 0.5em 0 0.5em; text-align: left; border: none;\">\n",
       "                ACT WorkKeys Score\n",
       "            </td>\n",
       "        </tr>\n",
       "    \n",
       "        <tr style=\"background-color: hsl(120, 100.00%, 99.62%); border: none;\">\n",
       "            <td style=\"padding: 0 1em 0 0.5em; text-align: right; border: none;\">\n",
       "                0.0020\n",
       "                \n",
       "                    &plusmn; 0.0002\n",
       "                \n",
       "            </td>\n",
       "            <td style=\"padding: 0 0.5em 0 0.5em; text-align: left; border: none;\">\n",
       "                ACTWorkKeys_SilverPlus_EDS\n",
       "            </td>\n",
       "        </tr>\n",
       "    \n",
       "        <tr style=\"background-color: hsl(120, 100.00%, 99.62%); border: none;\">\n",
       "            <td style=\"padding: 0 1em 0 0.5em; text-align: right; border: none;\">\n",
       "                0.0020\n",
       "                \n",
       "                    &plusmn; 0.0002\n",
       "                \n",
       "            </td>\n",
       "            <td style=\"padding: 0 0.5em 0 0.5em; text-align: left; border: none;\">\n",
       "                ACTCompositeScore_UNCMin_Hispanic\n",
       "            </td>\n",
       "        </tr>\n",
       "    \n",
       "        <tr style=\"background-color: hsl(120, 100.00%, 99.63%); border: none;\">\n",
       "            <td style=\"padding: 0 1em 0 0.5em; text-align: right; border: none;\">\n",
       "                0.0020\n",
       "                \n",
       "                    &plusmn; 0.0002\n",
       "                \n",
       "            </td>\n",
       "            <td style=\"padding: 0 0.5em 0 0.5em; text-align: left; border: none;\">\n",
       "                nbpts_num\n",
       "            </td>\n",
       "        </tr>\n",
       "    \n",
       "        <tr style=\"background-color: hsl(120, 100.00%, 99.63%); border: none;\">\n",
       "            <td style=\"padding: 0 1em 0 0.5em; text-align: right; border: none;\">\n",
       "                0.0019\n",
       "                \n",
       "                    &plusmn; 0.0003\n",
       "                \n",
       "            </td>\n",
       "            <td style=\"padding: 0 0.5em 0 0.5em; text-align: left; border: none;\">\n",
       "                ACTWriting_ACTBenchmark_EDS\n",
       "            </td>\n",
       "        </tr>\n",
       "    \n",
       "        <tr style=\"background-color: hsl(120, 100.00%, 99.63%); border: none;\">\n",
       "            <td style=\"padding: 0 1em 0 0.5em; text-align: right; border: none;\">\n",
       "                0.0019\n",
       "                \n",
       "                    &plusmn; 0.0002\n",
       "                \n",
       "            </td>\n",
       "            <td style=\"padding: 0 0.5em 0 0.5em; text-align: left; border: none;\">\n",
       "                Proficient_TCHR_Standard 1_Pct\n",
       "            </td>\n",
       "        </tr>\n",
       "    \n",
       "        <tr style=\"background-color: hsl(120, 100.00%, 99.63%); border: none;\">\n",
       "            <td style=\"padding: 0 1em 0 0.5em; text-align: right; border: none;\">\n",
       "                0.0019\n",
       "                \n",
       "                    &plusmn; 0.0002\n",
       "                \n",
       "            </td>\n",
       "            <td style=\"padding: 0 0.5em 0 0.5em; text-align: left; border: none;\">\n",
       "                ACTCompositeScore_UNCMin_EDS\n",
       "            </td>\n",
       "        </tr>\n",
       "    \n",
       "        <tr style=\"background-color: hsl(120, 100.00%, 99.63%); border: none;\">\n",
       "            <td style=\"padding: 0 1em 0 0.5em; text-align: right; border: none;\">\n",
       "                0.0019\n",
       "                \n",
       "                    &plusmn; 0.0002\n",
       "                \n",
       "            </td>\n",
       "            <td style=\"padding: 0 0.5em 0 0.5em; text-align: left; border: none;\">\n",
       "                Biology_Size\n",
       "            </td>\n",
       "        </tr>\n",
       "    \n",
       "        <tr style=\"background-color: hsl(120, 100.00%, 99.63%); border: none;\">\n",
       "            <td style=\"padding: 0 1em 0 0.5em; text-align: right; border: none;\">\n",
       "                0.0019\n",
       "                \n",
       "                    &plusmn; 0.0002\n",
       "                \n",
       "            </td>\n",
       "            <td style=\"padding: 0 0.5em 0 0.5em; text-align: left; border: none;\">\n",
       "                10+ Years_LEA_Exp_Pct_Prin\n",
       "            </td>\n",
       "        </tr>\n",
       "    \n",
       "        <tr style=\"background-color: hsl(120, 100.00%, 99.64%); border: none;\">\n",
       "            <td style=\"padding: 0 1em 0 0.5em; text-align: right; border: none;\">\n",
       "                0.0018\n",
       "                \n",
       "                    &plusmn; 0.0002\n",
       "                \n",
       "            </td>\n",
       "            <td style=\"padding: 0 0.5em 0 0.5em; text-align: left; border: none;\">\n",
       "                ACTSubtests_BenchmarksMet_AIG\n",
       "            </td>\n",
       "        </tr>\n",
       "    \n",
       "        <tr style=\"background-color: hsl(120, 100.00%, 99.64%); border: none;\">\n",
       "            <td style=\"padding: 0 1em 0 0.5em; text-align: right; border: none;\">\n",
       "                0.0018\n",
       "                \n",
       "                    &plusmn; 0.0002\n",
       "                \n",
       "            </td>\n",
       "            <td style=\"padding: 0 0.5em 0 0.5em; text-align: left; border: none;\">\n",
       "                ACTCompositeScore_UNCMin_White\n",
       "            </td>\n",
       "        </tr>\n",
       "    \n",
       "        <tr style=\"background-color: hsl(120, 100.00%, 99.65%); border: none;\">\n",
       "            <td style=\"padding: 0 1em 0 0.5em; text-align: right; border: none;\">\n",
       "                0.0018\n",
       "                \n",
       "                    &plusmn; 0.0002\n",
       "                \n",
       "            </td>\n",
       "            <td style=\"padding: 0 0.5em 0 0.5em; text-align: left; border: none;\">\n",
       "                0-3 Years_LEA_Exp_Pct_Prin\n",
       "            </td>\n",
       "        </tr>\n",
       "    \n",
       "        <tr style=\"background-color: hsl(120, 100.00%, 99.65%); border: none;\">\n",
       "            <td style=\"padding: 0 1em 0 0.5em; text-align: right; border: none;\">\n",
       "                0.0018\n",
       "                \n",
       "                    &plusmn; 0.0003\n",
       "                \n",
       "            </td>\n",
       "            <td style=\"padding: 0 0.5em 0 0.5em; text-align: left; border: none;\">\n",
       "                SciGr11_pTarget_PctMet\n",
       "            </td>\n",
       "        </tr>\n",
       "    \n",
       "        <tr style=\"background-color: hsl(120, 100.00%, 99.65%); border: none;\">\n",
       "            <td style=\"padding: 0 1em 0 0.5em; text-align: right; border: none;\">\n",
       "                0.0018\n",
       "                \n",
       "                    &plusmn; 0.0002\n",
       "                \n",
       "            </td>\n",
       "            <td style=\"padding: 0 0.5em 0 0.5em; text-align: left; border: none;\">\n",
       "                advance_dgr_pct\n",
       "            </td>\n",
       "        </tr>\n",
       "    \n",
       "        <tr style=\"background-color: hsl(120, 100.00%, 99.65%); border: none;\">\n",
       "            <td style=\"padding: 0 1em 0 0.5em; text-align: right; border: none;\">\n",
       "                0.0018\n",
       "                \n",
       "                    &plusmn; 0.0002\n",
       "                \n",
       "            </td>\n",
       "            <td style=\"padding: 0 0.5em 0 0.5em; text-align: left; border: none;\">\n",
       "                ACTWriting_ACTBenchmark_Male\n",
       "            </td>\n",
       "        </tr>\n",
       "    \n",
       "        <tr style=\"background-color: hsl(120, 100.00%, 99.65%); border: none;\">\n",
       "            <td style=\"padding: 0 1em 0 0.5em; text-align: right; border: none;\">\n",
       "                0.0018\n",
       "                \n",
       "                    &plusmn; 0.0002\n",
       "                \n",
       "            </td>\n",
       "            <td style=\"padding: 0 0.5em 0 0.5em; text-align: left; border: none;\">\n",
       "                ACTEnglish_ACTBenchmark_Female\n",
       "            </td>\n",
       "        </tr>\n",
       "    \n",
       "        <tr style=\"background-color: hsl(120, 100.00%, 99.65%); border: none;\">\n",
       "            <td style=\"padding: 0 1em 0 0.5em; text-align: right; border: none;\">\n",
       "                0.0018\n",
       "                \n",
       "                    &plusmn; 0.0003\n",
       "                \n",
       "            </td>\n",
       "            <td style=\"padding: 0 0.5em 0 0.5em; text-align: left; border: none;\">\n",
       "                ACTWriting_ACTBenchmark_All\n",
       "            </td>\n",
       "        </tr>\n",
       "    \n",
       "        <tr style=\"background-color: hsl(120, 100.00%, 99.65%); border: none;\">\n",
       "            <td style=\"padding: 0 1em 0 0.5em; text-align: right; border: none;\">\n",
       "                0.0017\n",
       "                \n",
       "                    &plusmn; 0.0003\n",
       "                \n",
       "            </td>\n",
       "            <td style=\"padding: 0 0.5em 0 0.5em; text-align: left; border: none;\">\n",
       "                CurrentYearEOC_pTarget_PctMet\n",
       "            </td>\n",
       "        </tr>\n",
       "    \n",
       "        <tr style=\"background-color: hsl(120, 100.00%, 99.66%); border: none;\">\n",
       "            <td style=\"padding: 0 1em 0 0.5em; text-align: right; border: none;\">\n",
       "                0.0017\n",
       "                \n",
       "                    &plusmn; 0.0003\n",
       "                \n",
       "            </td>\n",
       "            <td style=\"padding: 0 0.5em 0 0.5em; text-align: left; border: none;\">\n",
       "                ACTWorkKeys_SilverPlus_White\n",
       "            </td>\n",
       "        </tr>\n",
       "    \n",
       "        <tr style=\"background-color: hsl(120, 100.00%, 99.66%); border: none;\">\n",
       "            <td style=\"padding: 0 1em 0 0.5em; text-align: right; border: none;\">\n",
       "                0.0017\n",
       "                \n",
       "                    &plusmn; 0.0002\n",
       "                \n",
       "            </td>\n",
       "            <td style=\"padding: 0 0.5em 0 0.5em; text-align: left; border: none;\">\n",
       "                ACTScience_ACTBenchmark_EDS\n",
       "            </td>\n",
       "        </tr>\n",
       "    \n",
       "        <tr style=\"background-color: hsl(120, 100.00%, 99.66%); border: none;\">\n",
       "            <td style=\"padding: 0 1em 0 0.5em; text-align: right; border: none;\">\n",
       "                0.0017\n",
       "                \n",
       "                    &plusmn; 0.0002\n",
       "                \n",
       "            </td>\n",
       "            <td style=\"padding: 0 0.5em 0 0.5em; text-align: left; border: none;\">\n",
       "                ACTMath_ACTBenchmark_AIG\n",
       "            </td>\n",
       "        </tr>\n",
       "    \n",
       "        <tr style=\"background-color: hsl(120, 100.00%, 99.66%); border: none;\">\n",
       "            <td style=\"padding: 0 1em 0 0.5em; text-align: right; border: none;\">\n",
       "                0.0017\n",
       "                \n",
       "                    &plusmn; 0.0002\n",
       "                \n",
       "            </td>\n",
       "            <td style=\"padding: 0 0.5em 0 0.5em; text-align: left; border: none;\">\n",
       "                ACTMath_ACTBenchmark_All\n",
       "            </td>\n",
       "        </tr>\n",
       "    \n",
       "        <tr style=\"background-color: hsl(120, 100.00%, 99.66%); border: none;\">\n",
       "            <td style=\"padding: 0 1em 0 0.5em; text-align: right; border: none;\">\n",
       "                0.0017\n",
       "                \n",
       "                    &plusmn; 0.0002\n",
       "                \n",
       "            </td>\n",
       "            <td style=\"padding: 0 0.5em 0 0.5em; text-align: left; border: none;\">\n",
       "                ACTScience_ACTBenchmark_All\n",
       "            </td>\n",
       "        </tr>\n",
       "    \n",
       "        <tr style=\"background-color: hsl(120, 100.00%, 99.67%); border: none;\">\n",
       "            <td style=\"padding: 0 1em 0 0.5em; text-align: right; border: none;\">\n",
       "                0.0016\n",
       "                \n",
       "                    &plusmn; 0.0002\n",
       "                \n",
       "            </td>\n",
       "            <td style=\"padding: 0 0.5em 0 0.5em; text-align: left; border: none;\">\n",
       "                lea_instruct_equip_exp_pct\n",
       "            </td>\n",
       "        </tr>\n",
       "    \n",
       "        <tr style=\"background-color: hsl(120, 100.00%, 99.67%); border: none;\">\n",
       "            <td style=\"padding: 0 1em 0 0.5em; text-align: right; border: none;\">\n",
       "                0.0016\n",
       "                \n",
       "                    &plusmn; 0.0002\n",
       "                \n",
       "            </td>\n",
       "            <td style=\"padding: 0 0.5em 0 0.5em; text-align: left; border: none;\">\n",
       "                Accomplished_TCHR_Standard 3_Pct\n",
       "            </td>\n",
       "        </tr>\n",
       "    \n",
       "        <tr style=\"background-color: hsl(120, 100.00%, 99.68%); border: none;\">\n",
       "            <td style=\"padding: 0 1em 0 0.5em; text-align: right; border: none;\">\n",
       "                0.0016\n",
       "                \n",
       "                    &plusmn; 0.0002\n",
       "                \n",
       "            </td>\n",
       "            <td style=\"padding: 0 0.5em 0 0.5em; text-align: left; border: none;\">\n",
       "                Accomplished_TCHR_Standard 1_Pct\n",
       "            </td>\n",
       "        </tr>\n",
       "    \n",
       "        <tr style=\"background-color: hsl(120, 100.00%, 99.68%); border: none;\">\n",
       "            <td style=\"padding: 0 1em 0 0.5em; text-align: right; border: none;\">\n",
       "                0.0016\n",
       "                \n",
       "                    &plusmn; 0.0002\n",
       "                \n",
       "            </td>\n",
       "            <td style=\"padding: 0 0.5em 0 0.5em; text-align: left; border: none;\">\n",
       "                EOCEnglish2_CACR_Hispanic\n",
       "            </td>\n",
       "        </tr>\n",
       "    \n",
       "        <tr style=\"background-color: hsl(120, 100.00%, 99.68%); border: none;\">\n",
       "            <td style=\"padding: 0 1em 0 0.5em; text-align: right; border: none;\">\n",
       "                0.0016\n",
       "                \n",
       "                    &plusmn; 0.0002\n",
       "                \n",
       "            </td>\n",
       "            <td style=\"padding: 0 0.5em 0 0.5em; text-align: left; border: none;\">\n",
       "                TwoOrMoreMalePct\n",
       "            </td>\n",
       "        </tr>\n",
       "    \n",
       "        <tr style=\"background-color: hsl(120, 100.00%, 99.68%); border: none;\">\n",
       "            <td style=\"padding: 0 1em 0 0.5em; text-align: right; border: none;\">\n",
       "                0.0016\n",
       "                \n",
       "                    &plusmn; 0.0002\n",
       "                \n",
       "            </td>\n",
       "            <td style=\"padding: 0 0.5em 0 0.5em; text-align: left; border: none;\">\n",
       "                ACTMath_ACTBenchmark_Hispanic\n",
       "            </td>\n",
       "        </tr>\n",
       "    \n",
       "        <tr style=\"background-color: hsl(120, 100.00%, 99.68%); border: none;\">\n",
       "            <td style=\"padding: 0 1em 0 0.5em; text-align: right; border: none;\">\n",
       "                0.0015\n",
       "                \n",
       "                    &plusmn; 0.0002\n",
       "                \n",
       "            </td>\n",
       "            <td style=\"padding: 0 0.5em 0 0.5em; text-align: left; border: none;\">\n",
       "                EOCEnglish2_CACR_White\n",
       "            </td>\n",
       "        </tr>\n",
       "    \n",
       "        <tr style=\"background-color: hsl(120, 100.00%, 99.68%); border: none;\">\n",
       "            <td style=\"padding: 0 1em 0 0.5em; text-align: right; border: none;\">\n",
       "                0.0015\n",
       "                \n",
       "                    &plusmn; 0.0002\n",
       "                \n",
       "            </td>\n",
       "            <td style=\"padding: 0 0.5em 0 0.5em; text-align: left; border: none;\">\n",
       "                EOCBiology_CACR_AIG\n",
       "            </td>\n",
       "        </tr>\n",
       "    \n",
       "        <tr style=\"background-color: hsl(120, 100.00%, 99.69%); border: none;\">\n",
       "            <td style=\"padding: 0 1em 0 0.5em; text-align: right; border: none;\">\n",
       "                0.0015\n",
       "                \n",
       "                    &plusmn; 0.0002\n",
       "                \n",
       "            </td>\n",
       "            <td style=\"padding: 0 0.5em 0 0.5em; text-align: left; border: none;\">\n",
       "                ACTWriting_ACTBenchmark_White\n",
       "            </td>\n",
       "        </tr>\n",
       "    \n",
       "        <tr style=\"background-color: hsl(120, 100.00%, 99.69%); border: none;\">\n",
       "            <td style=\"padding: 0 1em 0 0.5em; text-align: right; border: none;\">\n",
       "                0.0015\n",
       "                \n",
       "                    &plusmn; 0.0002\n",
       "                \n",
       "            </td>\n",
       "            <td style=\"padding: 0 0.5em 0 0.5em; text-align: left; border: none;\">\n",
       "                ACTReading_ACTBenchmark_EDS\n",
       "            </td>\n",
       "        </tr>\n",
       "    \n",
       "        <tr style=\"background-color: hsl(120, 100.00%, 99.69%); border: none;\">\n",
       "            <td style=\"padding: 0 1em 0 0.5em; text-align: right; border: none;\">\n",
       "                0.0015\n",
       "                \n",
       "                    &plusmn; 0.0002\n",
       "                \n",
       "            </td>\n",
       "            <td style=\"padding: 0 0.5em 0 0.5em; text-align: left; border: none;\">\n",
       "                lea_1yr_tchr_trnovr_pct\n",
       "            </td>\n",
       "        </tr>\n",
       "    \n",
       "        <tr style=\"background-color: hsl(120, 100.00%, 99.69%); border: none;\">\n",
       "            <td style=\"padding: 0 1em 0 0.5em; text-align: right; border: none;\">\n",
       "                0.0015\n",
       "                \n",
       "                    &plusmn; 0.0002\n",
       "                \n",
       "            </td>\n",
       "            <td style=\"padding: 0 0.5em 0 0.5em; text-align: left; border: none;\">\n",
       "                ACTWriting_ACTBenchmark_AIG\n",
       "            </td>\n",
       "        </tr>\n",
       "    \n",
       "        <tr style=\"background-color: hsl(120, 100.00%, 99.69%); border: none;\">\n",
       "            <td style=\"padding: 0 1em 0 0.5em; text-align: right; border: none;\">\n",
       "                0.0015\n",
       "                \n",
       "                    &plusmn; 0.0002\n",
       "                \n",
       "            </td>\n",
       "            <td style=\"padding: 0 0.5em 0 0.5em; text-align: left; border: none;\">\n",
       "                ACTEnglish_ACTBenchmark_Hispanic\n",
       "            </td>\n",
       "        </tr>\n",
       "    \n",
       "        <tr style=\"background-color: hsl(120, 100.00%, 99.69%); border: none;\">\n",
       "            <td style=\"padding: 0 1em 0 0.5em; text-align: right; border: none;\">\n",
       "                0.0015\n",
       "                \n",
       "                    &plusmn; 0.0002\n",
       "                \n",
       "            </td>\n",
       "            <td style=\"padding: 0 0.5em 0 0.5em; text-align: left; border: none;\">\n",
       "                Accomplished_TCHR_Standard 5_Pct\n",
       "            </td>\n",
       "        </tr>\n",
       "    \n",
       "        <tr style=\"background-color: hsl(120, 100.00%, 99.70%); border: none;\">\n",
       "            <td style=\"padding: 0 1em 0 0.5em; text-align: right; border: none;\">\n",
       "                0.0014\n",
       "                \n",
       "                    &plusmn; 0.0002\n",
       "                \n",
       "            </td>\n",
       "            <td style=\"padding: 0 0.5em 0 0.5em; text-align: left; border: none;\">\n",
       "                ACTMath_ACTBenchmark_Male\n",
       "            </td>\n",
       "        </tr>\n",
       "    \n",
       "        <tr style=\"background-color: hsl(120, 100.00%, 99.70%); border: none;\">\n",
       "            <td style=\"padding: 0 1em 0 0.5em; text-align: right; border: none;\">\n",
       "                0.0014\n",
       "                \n",
       "                    &plusmn; 0.0002\n",
       "                \n",
       "            </td>\n",
       "            <td style=\"padding: 0 0.5em 0 0.5em; text-align: left; border: none;\">\n",
       "                Accomplished_TCHR_Standard 2_Pct\n",
       "            </td>\n",
       "        </tr>\n",
       "    \n",
       "        <tr style=\"background-color: hsl(120, 100.00%, 99.70%); border: none;\">\n",
       "            <td style=\"padding: 0 1em 0 0.5em; text-align: right; border: none;\">\n",
       "                0.0014\n",
       "                \n",
       "                    &plusmn; 0.0002\n",
       "                \n",
       "            </td>\n",
       "            <td style=\"padding: 0 0.5em 0 0.5em; text-align: left; border: none;\">\n",
       "                ACTScience_ACTBenchmark_Male\n",
       "            </td>\n",
       "        </tr>\n",
       "    \n",
       "        <tr style=\"background-color: hsl(120, 100.00%, 99.71%); border: none;\">\n",
       "            <td style=\"padding: 0 1em 0 0.5em; text-align: right; border: none;\">\n",
       "                0.0014\n",
       "                \n",
       "                    &plusmn; 0.0003\n",
       "                \n",
       "            </td>\n",
       "            <td style=\"padding: 0 0.5em 0 0.5em; text-align: left; border: none;\">\n",
       "                ACTWorkKeys_pTarget_PctMet\n",
       "            </td>\n",
       "        </tr>\n",
       "    \n",
       "        <tr style=\"background-color: hsl(120, 100.00%, 99.71%); border: none;\">\n",
       "            <td style=\"padding: 0 1em 0 0.5em; text-align: right; border: none;\">\n",
       "                0.0014\n",
       "                \n",
       "                    &plusmn; 0.0002\n",
       "                \n",
       "            </td>\n",
       "            <td style=\"padding: 0 0.5em 0 0.5em; text-align: left; border: none;\">\n",
       "                EOCEnglish2_CACR_AIG\n",
       "            </td>\n",
       "        </tr>\n",
       "    \n",
       "        <tr style=\"background-color: hsl(120, 100.00%, 99.71%); border: none;\">\n",
       "            <td style=\"padding: 0 1em 0 0.5em; text-align: right; border: none;\">\n",
       "                0.0014\n",
       "                \n",
       "                    &plusmn; 0.0002\n",
       "                \n",
       "            </td>\n",
       "            <td style=\"padding: 0 0.5em 0 0.5em; text-align: left; border: none;\">\n",
       "                ACTEnglish_ACTBenchmark_Black\n",
       "            </td>\n",
       "        </tr>\n",
       "    \n",
       "        <tr style=\"background-color: hsl(120, 100.00%, 99.71%); border: none;\">\n",
       "            <td style=\"padding: 0 1em 0 0.5em; text-align: right; border: none;\">\n",
       "                0.0013\n",
       "                \n",
       "                    &plusmn; 0.0001\n",
       "                \n",
       "            </td>\n",
       "            <td style=\"padding: 0 0.5em 0 0.5em; text-align: left; border: none;\">\n",
       "                Distinguished_TCHR_Standard 4_Pct\n",
       "            </td>\n",
       "        </tr>\n",
       "    \n",
       "        <tr style=\"background-color: hsl(120, 100.00%, 99.71%); border: none;\">\n",
       "            <td style=\"padding: 0 1em 0 0.5em; text-align: right; border: none;\">\n",
       "                0.0013\n",
       "                \n",
       "                    &plusmn; 0.0002\n",
       "                \n",
       "            </td>\n",
       "            <td style=\"padding: 0 0.5em 0 0.5em; text-align: left; border: none;\">\n",
       "                EOCBiology_CACR_SWD\n",
       "            </td>\n",
       "        </tr>\n",
       "    \n",
       "        <tr style=\"background-color: hsl(120, 100.00%, 99.72%); border: none;\">\n",
       "            <td style=\"padding: 0 1em 0 0.5em; text-align: right; border: none;\">\n",
       "                0.0013\n",
       "                \n",
       "                    &plusmn; 0.0002\n",
       "                \n",
       "            </td>\n",
       "            <td style=\"padding: 0 0.5em 0 0.5em; text-align: left; border: none;\">\n",
       "                MathGr10_pTarget_PctMet\n",
       "            </td>\n",
       "        </tr>\n",
       "    \n",
       "        <tr style=\"background-color: hsl(120, 100.00%, 99.72%); border: none;\">\n",
       "            <td style=\"padding: 0 1em 0 0.5em; text-align: right; border: none;\">\n",
       "                0.0013\n",
       "                \n",
       "                    &plusmn; 0.0002\n",
       "                \n",
       "            </td>\n",
       "            <td style=\"padding: 0 0.5em 0 0.5em; text-align: left; border: none;\">\n",
       "                ACTWorkKeys_SilverPlus_AIG\n",
       "            </td>\n",
       "        </tr>\n",
       "    \n",
       "        <tr style=\"background-color: hsl(120, 100.00%, 99.72%); border: none;\">\n",
       "            <td style=\"padding: 0 1em 0 0.5em; text-align: right; border: none;\">\n",
       "                0.0013\n",
       "                \n",
       "                    &plusmn; 0.0002\n",
       "                \n",
       "            </td>\n",
       "            <td style=\"padding: 0 0.5em 0 0.5em; text-align: left; border: none;\">\n",
       "                ReadingGr10_pTarget_PctMet\n",
       "            </td>\n",
       "        </tr>\n",
       "    \n",
       "        <tr style=\"background-color: hsl(120, 100.00%, 99.72%); border: none;\">\n",
       "            <td style=\"padding: 0 1em 0 0.5em; text-align: right; border: none;\">\n",
       "                0.0013\n",
       "                \n",
       "                    &plusmn; 0.0002\n",
       "                \n",
       "            </td>\n",
       "            <td style=\"padding: 0 0.5em 0 0.5em; text-align: left; border: none;\">\n",
       "                Proficient_TCHR_Standard 2_Pct\n",
       "            </td>\n",
       "        </tr>\n",
       "    \n",
       "        <tr style=\"background-color: hsl(120, 100.00%, 99.72%); border: none;\">\n",
       "            <td style=\"padding: 0 1em 0 0.5em; text-align: right; border: none;\">\n",
       "                0.0013\n",
       "                \n",
       "                    &plusmn; 0.0002\n",
       "                \n",
       "            </td>\n",
       "            <td style=\"padding: 0 0.5em 0 0.5em; text-align: left; border: none;\">\n",
       "                Proficient_TCHR_Standard 4_Pct\n",
       "            </td>\n",
       "        </tr>\n",
       "    \n",
       "        <tr style=\"background-color: hsl(120, 100.00%, 99.73%); border: none;\">\n",
       "            <td style=\"padding: 0 1em 0 0.5em; text-align: right; border: none;\">\n",
       "                0.0012\n",
       "                \n",
       "                    &plusmn; 0.0002\n",
       "                \n",
       "            </td>\n",
       "            <td style=\"padding: 0 0.5em 0 0.5em; text-align: left; border: none;\">\n",
       "                ACTCompositeScore_UNCMin_Black\n",
       "            </td>\n",
       "        </tr>\n",
       "    \n",
       "        <tr style=\"background-color: hsl(120, 100.00%, 99.73%); border: none;\">\n",
       "            <td style=\"padding: 0 1em 0 0.5em; text-align: right; border: none;\">\n",
       "                0.0012\n",
       "                \n",
       "                    &plusmn; 0.0002\n",
       "                \n",
       "            </td>\n",
       "            <td style=\"padding: 0 0.5em 0 0.5em; text-align: left; border: none;\">\n",
       "                Proficient_TCHR_Standard 3_Pct\n",
       "            </td>\n",
       "        </tr>\n",
       "    \n",
       "        <tr style=\"background-color: hsl(120, 100.00%, 99.73%); border: none;\">\n",
       "            <td style=\"padding: 0 1em 0 0.5em; text-align: right; border: none;\">\n",
       "                0.0012\n",
       "                \n",
       "                    &plusmn; 0.0001\n",
       "                \n",
       "            </td>\n",
       "            <td style=\"padding: 0 0.5em 0 0.5em; text-align: left; border: none;\">\n",
       "                Proficient_TCHR_Standard 5_Pct\n",
       "            </td>\n",
       "        </tr>\n",
       "    \n",
       "        <tr style=\"background-color: hsl(120, 100.00%, 99.74%); border: none;\">\n",
       "            <td style=\"padding: 0 1em 0 0.5em; text-align: right; border: none;\">\n",
       "                0.0012\n",
       "                \n",
       "                    &plusmn; 0.0002\n",
       "                \n",
       "            </td>\n",
       "            <td style=\"padding: 0 0.5em 0 0.5em; text-align: left; border: none;\">\n",
       "                EOCSubjects_GLP_LEP\n",
       "            </td>\n",
       "        </tr>\n",
       "    \n",
       "        <tr style=\"background-color: hsl(120, 100.00%, 99.74%); border: none;\">\n",
       "            <td style=\"padding: 0 1em 0 0.5em; text-align: right; border: none;\">\n",
       "                0.0012\n",
       "                \n",
       "                    &plusmn; 0.0002\n",
       "                \n",
       "            </td>\n",
       "            <td style=\"padding: 0 0.5em 0 0.5em; text-align: left; border: none;\">\n",
       "                ACTMath_ACTBenchmark_EDS\n",
       "            </td>\n",
       "        </tr>\n",
       "    \n",
       "        <tr style=\"background-color: hsl(120, 100.00%, 99.74%); border: none;\">\n",
       "            <td style=\"padding: 0 1em 0 0.5em; text-align: right; border: none;\">\n",
       "                0.0012\n",
       "                \n",
       "                    &plusmn; 0.0002\n",
       "                \n",
       "            </td>\n",
       "            <td style=\"padding: 0 0.5em 0 0.5em; text-align: left; border: none;\">\n",
       "                Developing_TCHR_Standard 1_Pct\n",
       "            </td>\n",
       "        </tr>\n",
       "    \n",
       "        <tr style=\"background-color: hsl(120, 100.00%, 99.74%); border: none;\">\n",
       "            <td style=\"padding: 0 1em 0 0.5em; text-align: right; border: none;\">\n",
       "                0.0012\n",
       "                \n",
       "                    &plusmn; 0.0002\n",
       "                \n",
       "            </td>\n",
       "            <td style=\"padding: 0 0.5em 0 0.5em; text-align: left; border: none;\">\n",
       "                EOCSubjects_CACR_TwoorMoreRaces\n",
       "            </td>\n",
       "        </tr>\n",
       "    \n",
       "        <tr style=\"background-color: hsl(120, 100.00%, 99.74%); border: none;\">\n",
       "            <td style=\"padding: 0 1em 0 0.5em; text-align: right; border: none;\">\n",
       "                0.0012\n",
       "                \n",
       "                    &plusmn; 0.0001\n",
       "                \n",
       "            </td>\n",
       "            <td style=\"padding: 0 0.5em 0 0.5em; text-align: left; border: none;\">\n",
       "                EOCEnglish2_CACR_SWD\n",
       "            </td>\n",
       "        </tr>\n",
       "    \n",
       "        <tr style=\"background-color: hsl(120, 100.00%, 99.74%); border: none;\">\n",
       "            <td style=\"padding: 0 1em 0 0.5em; text-align: right; border: none;\">\n",
       "                0.0012\n",
       "                \n",
       "                    &plusmn; 0.0002\n",
       "                \n",
       "            </td>\n",
       "            <td style=\"padding: 0 0.5em 0 0.5em; text-align: left; border: none;\">\n",
       "                Distinguished_TCHR_Standard 2_Pct\n",
       "            </td>\n",
       "        </tr>\n",
       "    \n",
       "        <tr style=\"background-color: hsl(120, 100.00%, 99.74%); border: none;\">\n",
       "            <td style=\"padding: 0 1em 0 0.5em; text-align: right; border: none;\">\n",
       "                0.0012\n",
       "                \n",
       "                    &plusmn; 0.0001\n",
       "                \n",
       "            </td>\n",
       "            <td style=\"padding: 0 0.5em 0 0.5em; text-align: left; border: none;\">\n",
       "                EOCBiology_CACR_Hispanic\n",
       "            </td>\n",
       "        </tr>\n",
       "    \n",
       "        <tr style=\"background-color: hsl(120, 100.00%, 99.75%); border: none;\">\n",
       "            <td style=\"padding: 0 1em 0 0.5em; text-align: right; border: none;\">\n",
       "                0.0011\n",
       "                \n",
       "                    &plusmn; 0.0002\n",
       "                \n",
       "            </td>\n",
       "            <td style=\"padding: 0 0.5em 0 0.5em; text-align: left; border: none;\">\n",
       "                ACTSubtests_BenchmarksMet_TwoorMoreRaces\n",
       "            </td>\n",
       "        </tr>\n",
       "    \n",
       "        <tr style=\"background-color: hsl(120, 100.00%, 99.75%); border: none;\">\n",
       "            <td style=\"padding: 0 1em 0 0.5em; text-align: right; border: none;\">\n",
       "                0.0011\n",
       "                \n",
       "                    &plusmn; 0.0002\n",
       "                \n",
       "            </td>\n",
       "            <td style=\"padding: 0 0.5em 0 0.5em; text-align: left; border: none;\">\n",
       "                ACTScience_ACTBenchmark_Hispanic\n",
       "            </td>\n",
       "        </tr>\n",
       "    \n",
       "        <tr style=\"background-color: hsl(120, 100.00%, 99.76%); border: none;\">\n",
       "            <td style=\"padding: 0 1em 0 0.5em; text-align: right; border: none;\">\n",
       "                0.0010\n",
       "                \n",
       "                    &plusmn; 0.0002\n",
       "                \n",
       "            </td>\n",
       "            <td style=\"padding: 0 0.5em 0 0.5em; text-align: left; border: none;\">\n",
       "                ACTMath_ACTBenchmark_White\n",
       "            </td>\n",
       "        </tr>\n",
       "    \n",
       "        <tr style=\"background-color: hsl(120, 100.00%, 99.76%); border: none;\">\n",
       "            <td style=\"padding: 0 1em 0 0.5em; text-align: right; border: none;\">\n",
       "                0.0010\n",
       "                \n",
       "                    &plusmn; 0.0002\n",
       "                \n",
       "            </td>\n",
       "            <td style=\"padding: 0 0.5em 0 0.5em; text-align: left; border: none;\">\n",
       "                ACTWriting_ACTBenchmark_Black\n",
       "            </td>\n",
       "        </tr>\n",
       "    \n",
       "        <tr style=\"background-color: hsl(120, 100.00%, 99.76%); border: none;\">\n",
       "            <td style=\"padding: 0 1em 0 0.5em; text-align: right; border: none;\">\n",
       "                0.0010\n",
       "                \n",
       "                    &plusmn; 0.0002\n",
       "                \n",
       "            </td>\n",
       "            <td style=\"padding: 0 0.5em 0 0.5em; text-align: left; border: none;\">\n",
       "                ACTSubtests_BenchmarksMet_White\n",
       "            </td>\n",
       "        </tr>\n",
       "    \n",
       "        <tr style=\"background-color: hsl(120, 100.00%, 99.76%); border: none;\">\n",
       "            <td style=\"padding: 0 1em 0 0.5em; text-align: right; border: none;\">\n",
       "                0.0010\n",
       "                \n",
       "                    &plusmn; 0.0002\n",
       "                \n",
       "            </td>\n",
       "            <td style=\"padding: 0 0.5em 0 0.5em; text-align: left; border: none;\">\n",
       "                Distinguished_TCHR_Standard 3_Pct\n",
       "            </td>\n",
       "        </tr>\n",
       "    \n",
       "        <tr style=\"background-color: hsl(120, 100.00%, 99.77%); border: none;\">\n",
       "            <td style=\"padding: 0 1em 0 0.5em; text-align: right; border: none;\">\n",
       "                0.0010\n",
       "                \n",
       "                    &plusmn; 0.0001\n",
       "                \n",
       "            </td>\n",
       "            <td style=\"padding: 0 0.5em 0 0.5em; text-align: left; border: none;\">\n",
       "                Developing_TCHR_Standard 4_Pct\n",
       "            </td>\n",
       "        </tr>\n",
       "    \n",
       "        <tr style=\"background-color: hsl(120, 100.00%, 99.77%); border: none;\">\n",
       "            <td style=\"padding: 0 1em 0 0.5em; text-align: right; border: none;\">\n",
       "                0.0010\n",
       "                \n",
       "                    &plusmn; 0.0001\n",
       "                \n",
       "            </td>\n",
       "            <td style=\"padding: 0 0.5em 0 0.5em; text-align: left; border: none;\">\n",
       "                ACTWriting_ACTBenchmark_Hispanic\n",
       "            </td>\n",
       "        </tr>\n",
       "    \n",
       "        <tr style=\"background-color: hsl(120, 100.00%, 99.77%); border: none;\">\n",
       "            <td style=\"padding: 0 1em 0 0.5em; text-align: right; border: none;\">\n",
       "                0.0010\n",
       "                \n",
       "                    &plusmn; 0.0002\n",
       "                \n",
       "            </td>\n",
       "            <td style=\"padding: 0 0.5em 0 0.5em; text-align: left; border: none;\">\n",
       "                total_specialized_courses\n",
       "            </td>\n",
       "        </tr>\n",
       "    \n",
       "        <tr style=\"background-color: hsl(120, 100.00%, 99.78%); border: none;\">\n",
       "            <td style=\"padding: 0 1em 0 0.5em; text-align: right; border: none;\">\n",
       "                0.0009\n",
       "                \n",
       "                    &plusmn; 0.0001\n",
       "                \n",
       "            </td>\n",
       "            <td style=\"padding: 0 0.5em 0 0.5em; text-align: left; border: none;\">\n",
       "                ACTScience_ACTBenchmark_White\n",
       "            </td>\n",
       "        </tr>\n",
       "    \n",
       "        <tr style=\"background-color: hsl(120, 100.00%, 99.78%); border: none;\">\n",
       "            <td style=\"padding: 0 1em 0 0.5em; text-align: right; border: none;\">\n",
       "                0.0009\n",
       "                \n",
       "                    &plusmn; 0.0001\n",
       "                \n",
       "            </td>\n",
       "            <td style=\"padding: 0 0.5em 0 0.5em; text-align: left; border: none;\">\n",
       "                ACTCompositeScore_UNCMin_SWD\n",
       "            </td>\n",
       "        </tr>\n",
       "    \n",
       "        <tr style=\"background-color: hsl(120, 100.00%, 99.78%); border: none;\">\n",
       "            <td style=\"padding: 0 1em 0 0.5em; text-align: right; border: none;\">\n",
       "                0.0009\n",
       "                \n",
       "                    &plusmn; 0.0002\n",
       "                \n",
       "            </td>\n",
       "            <td style=\"padding: 0 0.5em 0 0.5em; text-align: left; border: none;\">\n",
       "                EOCSubjects_CACR_Asian\n",
       "            </td>\n",
       "        </tr>\n",
       "    \n",
       "        <tr style=\"background-color: hsl(120, 100.00%, 99.78%); border: none;\">\n",
       "            <td style=\"padding: 0 1em 0 0.5em; text-align: right; border: none;\">\n",
       "                0.0009\n",
       "                \n",
       "                    &plusmn; 0.0001\n",
       "                \n",
       "            </td>\n",
       "            <td style=\"padding: 0 0.5em 0 0.5em; text-align: left; border: none;\">\n",
       "                ACTEnglish_ACTBenchmark_SWD\n",
       "            </td>\n",
       "        </tr>\n",
       "    \n",
       "        <tr style=\"background-color: hsl(120, 100.00%, 99.79%); border: none;\">\n",
       "            <td style=\"padding: 0 1em 0 0.5em; text-align: right; border: none;\">\n",
       "                0.0009\n",
       "                \n",
       "                    &plusmn; 0.0001\n",
       "                \n",
       "            </td>\n",
       "            <td style=\"padding: 0 0.5em 0 0.5em; text-align: left; border: none;\">\n",
       "                EOCMathI_CACR_SWD\n",
       "            </td>\n",
       "        </tr>\n",
       "    \n",
       "        <tr style=\"background-color: hsl(120, 100.00%, 99.79%); border: none;\">\n",
       "            <td style=\"padding: 0 1em 0 0.5em; text-align: right; border: none;\">\n",
       "                0.0009\n",
       "                \n",
       "                    &plusmn; 0.0002\n",
       "                \n",
       "            </td>\n",
       "            <td style=\"padding: 0 0.5em 0 0.5em; text-align: left; border: none;\">\n",
       "                ACTReading_ACTBenchmark_Hispanic\n",
       "            </td>\n",
       "        </tr>\n",
       "    \n",
       "        <tr style=\"background-color: hsl(120, 100.00%, 99.79%); border: none;\">\n",
       "            <td style=\"padding: 0 1em 0 0.5em; text-align: right; border: none;\">\n",
       "                0.0008\n",
       "                \n",
       "                    &plusmn; 0.0002\n",
       "                \n",
       "            </td>\n",
       "            <td style=\"padding: 0 0.5em 0 0.5em; text-align: left; border: none;\">\n",
       "                EOCMathI_CACR_Asian\n",
       "            </td>\n",
       "        </tr>\n",
       "    \n",
       "        <tr style=\"background-color: hsl(120, 100.00%, 99.79%); border: none;\">\n",
       "            <td style=\"padding: 0 1em 0 0.5em; text-align: right; border: none;\">\n",
       "                0.0008\n",
       "                \n",
       "                    &plusmn; 0.0001\n",
       "                \n",
       "            </td>\n",
       "            <td style=\"padding: 0 0.5em 0 0.5em; text-align: left; border: none;\">\n",
       "                EOCSubjects_CACR_LEP\n",
       "            </td>\n",
       "        </tr>\n",
       "    \n",
       "        <tr style=\"background-color: hsl(120, 100.00%, 99.80%); border: none;\">\n",
       "            <td style=\"padding: 0 1em 0 0.5em; text-align: right; border: none;\">\n",
       "                0.0008\n",
       "                \n",
       "                    &plusmn; 0.0001\n",
       "                \n",
       "            </td>\n",
       "            <td style=\"padding: 0 0.5em 0 0.5em; text-align: left; border: none;\">\n",
       "                EOCBiology_GLP_SWD\n",
       "            </td>\n",
       "        </tr>\n",
       "    \n",
       "        <tr style=\"background-color: hsl(120, 100.00%, 99.80%); border: none;\">\n",
       "            <td style=\"padding: 0 1em 0 0.5em; text-align: right; border: none;\">\n",
       "                0.0008\n",
       "                \n",
       "                    &plusmn; 0.0002\n",
       "                \n",
       "            </td>\n",
       "            <td style=\"padding: 0 0.5em 0 0.5em; text-align: left; border: none;\">\n",
       "                ACTScience_ACTBenchmark_AIG\n",
       "            </td>\n",
       "        </tr>\n",
       "    \n",
       "        <tr style=\"background-color: hsl(120, 100.00%, 99.80%); border: none;\">\n",
       "            <td style=\"padding: 0 1em 0 0.5em; text-align: right; border: none;\">\n",
       "                0.0008\n",
       "                \n",
       "                    &plusmn; 0.0001\n",
       "                \n",
       "            </td>\n",
       "            <td style=\"padding: 0 0.5em 0 0.5em; text-align: left; border: none;\">\n",
       "                ACTMath_ACTBenchmark_Black\n",
       "            </td>\n",
       "        </tr>\n",
       "    \n",
       "        <tr style=\"background-color: hsl(120, 100.00%, 99.81%); border: none;\">\n",
       "            <td style=\"padding: 0 1em 0 0.5em; text-align: right; border: none;\">\n",
       "                0.0007\n",
       "                \n",
       "                    &plusmn; 0.0001\n",
       "                \n",
       "            </td>\n",
       "            <td style=\"padding: 0 0.5em 0 0.5em; text-align: left; border: none;\">\n",
       "                Developing_TCHR_Standard 2_Pct\n",
       "            </td>\n",
       "        </tr>\n",
       "    \n",
       "        <tr style=\"background-color: hsl(120, 100.00%, 99.81%); border: none;\">\n",
       "            <td style=\"padding: 0 1em 0 0.5em; text-align: right; border: none;\">\n",
       "                0.0007\n",
       "                \n",
       "                    &plusmn; 0.0001\n",
       "                \n",
       "            </td>\n",
       "            <td style=\"padding: 0 0.5em 0 0.5em; text-align: left; border: none;\">\n",
       "                ACTSubtests_BenchmarksMet_Asian\n",
       "            </td>\n",
       "        </tr>\n",
       "    \n",
       "        <tr style=\"background-color: hsl(120, 100.00%, 99.81%); border: none;\">\n",
       "            <td style=\"padding: 0 1em 0 0.5em; text-align: right; border: none;\">\n",
       "                0.0007\n",
       "                \n",
       "                    &plusmn; 0.0001\n",
       "                \n",
       "            </td>\n",
       "            <td style=\"padding: 0 0.5em 0 0.5em; text-align: left; border: none;\">\n",
       "                EOCMathI_GLP_LEP\n",
       "            </td>\n",
       "        </tr>\n",
       "    \n",
       "        <tr style=\"background-color: hsl(120, 100.00%, 99.82%); border: none;\">\n",
       "            <td style=\"padding: 0 1em 0 0.5em; text-align: right; border: none;\">\n",
       "                0.0007\n",
       "                \n",
       "                    &plusmn; 0.0001\n",
       "                \n",
       "            </td>\n",
       "            <td style=\"padding: 0 0.5em 0 0.5em; text-align: left; border: none;\">\n",
       "                EOCBiology_CACR_TwoorMoreRaces\n",
       "            </td>\n",
       "        </tr>\n",
       "    \n",
       "        <tr style=\"background-color: hsl(120, 100.00%, 99.82%); border: none;\">\n",
       "            <td style=\"padding: 0 1em 0 0.5em; text-align: right; border: none;\">\n",
       "                0.0007\n",
       "                \n",
       "                    &plusmn; 0.0001\n",
       "                \n",
       "            </td>\n",
       "            <td style=\"padding: 0 0.5em 0 0.5em; text-align: left; border: none;\">\n",
       "                PacificIslandPct\n",
       "            </td>\n",
       "        </tr>\n",
       "    \n",
       "        <tr style=\"background-color: hsl(120, 100.00%, 99.82%); border: none;\">\n",
       "            <td style=\"padding: 0 1em 0 0.5em; text-align: right; border: none;\">\n",
       "                0.0007\n",
       "                \n",
       "                    &plusmn; 0.0001\n",
       "                \n",
       "            </td>\n",
       "            <td style=\"padding: 0 0.5em 0 0.5em; text-align: left; border: none;\">\n",
       "                ACTScience_ACTBenchmark_Black\n",
       "            </td>\n",
       "        </tr>\n",
       "    \n",
       "        <tr style=\"background-color: hsl(120, 100.00%, 99.82%); border: none;\">\n",
       "            <td style=\"padding: 0 1em 0 0.5em; text-align: right; border: none;\">\n",
       "                0.0007\n",
       "                \n",
       "                    &plusmn; 0.0001\n",
       "                \n",
       "            </td>\n",
       "            <td style=\"padding: 0 0.5em 0 0.5em; text-align: left; border: none;\">\n",
       "                EOCMathI_CACR_TwoorMoreRaces\n",
       "            </td>\n",
       "        </tr>\n",
       "    \n",
       "        <tr style=\"background-color: hsl(120, 100.00%, 99.82%); border: none;\">\n",
       "            <td style=\"padding: 0 1em 0 0.5em; text-align: right; border: none;\">\n",
       "                0.0007\n",
       "                \n",
       "                    &plusmn; 0.0001\n",
       "                \n",
       "            </td>\n",
       "            <td style=\"padding: 0 0.5em 0 0.5em; text-align: left; border: none;\">\n",
       "                Distinguished_TCHR_Standard 5_Pct\n",
       "            </td>\n",
       "        </tr>\n",
       "    \n",
       "        <tr style=\"background-color: hsl(120, 100.00%, 99.83%); border: none;\">\n",
       "            <td style=\"padding: 0 1em 0 0.5em; text-align: right; border: none;\">\n",
       "                0.0007\n",
       "                \n",
       "                    &plusmn; 0.0001\n",
       "                \n",
       "            </td>\n",
       "            <td style=\"padding: 0 0.5em 0 0.5em; text-align: left; border: none;\">\n",
       "                lea_expelled_per_c_num\n",
       "            </td>\n",
       "        </tr>\n",
       "    \n",
       "        <tr style=\"background-color: hsl(120, 100.00%, 99.83%); border: none;\">\n",
       "            <td style=\"padding: 0 1em 0 0.5em; text-align: right; border: none;\">\n",
       "                0.0006\n",
       "                \n",
       "                    &plusmn; 0.0001\n",
       "                \n",
       "            </td>\n",
       "            <td style=\"padding: 0 0.5em 0 0.5em; text-align: left; border: none;\">\n",
       "                ACTScience_ACTBenchmark_TwoorMoreRaces\n",
       "            </td>\n",
       "        </tr>\n",
       "    \n",
       "        <tr style=\"background-color: hsl(120, 100.00%, 99.83%); border: none;\">\n",
       "            <td style=\"padding: 0 1em 0 0.5em; text-align: right; border: none;\">\n",
       "                0.0006\n",
       "                \n",
       "                    &plusmn; 0.0001\n",
       "                \n",
       "            </td>\n",
       "            <td style=\"padding: 0 0.5em 0 0.5em; text-align: left; border: none;\">\n",
       "                EOCEnglish2_CACR_TwoorMoreRaces\n",
       "            </td>\n",
       "        </tr>\n",
       "    \n",
       "        <tr style=\"background-color: hsl(120, 100.00%, 99.83%); border: none;\">\n",
       "            <td style=\"padding: 0 1em 0 0.5em; text-align: right; border: none;\">\n",
       "                0.0006\n",
       "                \n",
       "                    &plusmn; 0.0001\n",
       "                \n",
       "            </td>\n",
       "            <td style=\"padding: 0 0.5em 0 0.5em; text-align: left; border: none;\">\n",
       "                SPG Grade_D\n",
       "            </td>\n",
       "        </tr>\n",
       "    \n",
       "        <tr style=\"background-color: hsl(120, 100.00%, 99.84%); border: none;\">\n",
       "            <td style=\"padding: 0 1em 0 0.5em; text-align: right; border: none;\">\n",
       "                0.0006\n",
       "                \n",
       "                    &plusmn; 0.0002\n",
       "                \n",
       "            </td>\n",
       "            <td style=\"padding: 0 0.5em 0 0.5em; text-align: left; border: none;\">\n",
       "                st_avg_student_num\n",
       "            </td>\n",
       "        </tr>\n",
       "    \n",
       "        <tr style=\"background-color: hsl(120, 100.00%, 99.85%); border: none;\">\n",
       "            <td style=\"padding: 0 1em 0 0.5em; text-align: right; border: none;\">\n",
       "                0.0005\n",
       "                \n",
       "                    &plusmn; 0.0001\n",
       "                \n",
       "            </td>\n",
       "            <td style=\"padding: 0 0.5em 0 0.5em; text-align: left; border: none;\">\n",
       "                ACTCompositeScore_UNCMin_TwoorMoreRaces\n",
       "            </td>\n",
       "        </tr>\n",
       "    \n",
       "        <tr style=\"background-color: hsl(120, 100.00%, 99.85%); border: none;\">\n",
       "            <td style=\"padding: 0 1em 0 0.5em; text-align: right; border: none;\">\n",
       "                0.0005\n",
       "                \n",
       "                    &plusmn; 0.0001\n",
       "                \n",
       "            </td>\n",
       "            <td style=\"padding: 0 0.5em 0 0.5em; text-align: left; border: none;\">\n",
       "                ACTWorkKeys_SilverPlus_SWD\n",
       "            </td>\n",
       "        </tr>\n",
       "    \n",
       "        <tr style=\"background-color: hsl(120, 100.00%, 99.85%); border: none;\">\n",
       "            <td style=\"padding: 0 1em 0 0.5em; text-align: right; border: none;\">\n",
       "                0.0005\n",
       "                \n",
       "                    &plusmn; 0.0001\n",
       "                \n",
       "            </td>\n",
       "            <td style=\"padding: 0 0.5em 0 0.5em; text-align: left; border: none;\">\n",
       "                ACTCompositeScore_UNCMin_AIG\n",
       "            </td>\n",
       "        </tr>\n",
       "    \n",
       "        <tr style=\"background-color: hsl(120, 100.00%, 99.85%); border: none;\">\n",
       "            <td style=\"padding: 0 1em 0 0.5em; text-align: right; border: none;\">\n",
       "                0.0005\n",
       "                \n",
       "                    &plusmn; 0.0001\n",
       "                \n",
       "            </td>\n",
       "            <td style=\"padding: 0 0.5em 0 0.5em; text-align: left; border: none;\">\n",
       "                EOCMathI_CACR_LEP\n",
       "            </td>\n",
       "        </tr>\n",
       "    \n",
       "        <tr style=\"background-color: hsl(120, 100.00%, 99.86%); border: none;\">\n",
       "            <td style=\"padding: 0 1em 0 0.5em; text-align: right; border: none;\">\n",
       "                0.0005\n",
       "                \n",
       "                    &plusmn; 0.0001\n",
       "                \n",
       "            </td>\n",
       "            <td style=\"padding: 0 0.5em 0 0.5em; text-align: left; border: none;\">\n",
       "                PacificIslandFemalePct\n",
       "            </td>\n",
       "        </tr>\n",
       "    \n",
       "        <tr style=\"background-color: hsl(120, 100.00%, 99.86%); border: none;\">\n",
       "            <td style=\"padding: 0 1em 0 0.5em; text-align: right; border: none;\">\n",
       "                0.0005\n",
       "                \n",
       "                    &plusmn; 0.0001\n",
       "                \n",
       "            </td>\n",
       "            <td style=\"padding: 0 0.5em 0 0.5em; text-align: left; border: none;\">\n",
       "                PacificIslandMalePct\n",
       "            </td>\n",
       "        </tr>\n",
       "    \n",
       "        <tr style=\"background-color: hsl(120, 100.00%, 99.87%); border: none;\">\n",
       "            <td style=\"padding: 0 1em 0 0.5em; text-align: right; border: none;\">\n",
       "                0.0005\n",
       "                \n",
       "                    &plusmn; 0.0001\n",
       "                \n",
       "            </td>\n",
       "            <td style=\"padding: 0 0.5em 0 0.5em; text-align: left; border: none;\">\n",
       "                ACTWriting_ACTBenchmark_TwoorMoreRaces\n",
       "            </td>\n",
       "        </tr>\n",
       "    \n",
       "        <tr style=\"background-color: hsl(120, 100.00%, 99.87%); border: none;\">\n",
       "            <td style=\"padding: 0 1em 0 0.5em; text-align: right; border: none;\">\n",
       "                0.0005\n",
       "                \n",
       "                    &plusmn; 0.0001\n",
       "                \n",
       "            </td>\n",
       "            <td style=\"padding: 0 0.5em 0 0.5em; text-align: left; border: none;\">\n",
       "                ACTSubtests_BenchmarksMet_SWD\n",
       "            </td>\n",
       "        </tr>\n",
       "    \n",
       "        <tr style=\"background-color: hsl(120, 100.00%, 99.87%); border: none;\">\n",
       "            <td style=\"padding: 0 1em 0 0.5em; text-align: right; border: none;\">\n",
       "                0.0004\n",
       "                \n",
       "                    &plusmn; 0.0001\n",
       "                \n",
       "            </td>\n",
       "            <td style=\"padding: 0 0.5em 0 0.5em; text-align: left; border: none;\">\n",
       "                ACTWorkKeys_SilverPlus_AmericanIndian\n",
       "            </td>\n",
       "        </tr>\n",
       "    \n",
       "        <tr style=\"background-color: hsl(120, 100.00%, 99.87%); border: none;\">\n",
       "            <td style=\"padding: 0 1em 0 0.5em; text-align: right; border: none;\">\n",
       "                0.0004\n",
       "                \n",
       "                    &plusmn; 0.0001\n",
       "                \n",
       "            </td>\n",
       "            <td style=\"padding: 0 0.5em 0 0.5em; text-align: left; border: none;\">\n",
       "                ACTWriting_ACTBenchmark_LEP\n",
       "            </td>\n",
       "        </tr>\n",
       "    \n",
       "        <tr style=\"background-color: hsl(120, 100.00%, 99.87%); border: none;\">\n",
       "            <td style=\"padding: 0 1em 0 0.5em; text-align: right; border: none;\">\n",
       "                0.0004\n",
       "                \n",
       "                    &plusmn; 0.0001\n",
       "                \n",
       "            </td>\n",
       "            <td style=\"padding: 0 0.5em 0 0.5em; text-align: left; border: none;\">\n",
       "                ACTReading_ACTBenchmark_SWD\n",
       "            </td>\n",
       "        </tr>\n",
       "    \n",
       "        <tr style=\"background-color: hsl(120, 100.00%, 99.88%); border: none;\">\n",
       "            <td style=\"padding: 0 1em 0 0.5em; text-align: right; border: none;\">\n",
       "                0.0004\n",
       "                \n",
       "                    &plusmn; 0.0001\n",
       "                \n",
       "            </td>\n",
       "            <td style=\"padding: 0 0.5em 0 0.5em; text-align: left; border: none;\">\n",
       "                ACTSubtests_BenchmarksMet_AmericanIndian\n",
       "            </td>\n",
       "        </tr>\n",
       "    \n",
       "        <tr style=\"background-color: hsl(120, 100.00%, 99.88%); border: none;\">\n",
       "            <td style=\"padding: 0 1em 0 0.5em; text-align: right; border: none;\">\n",
       "                0.0004\n",
       "                \n",
       "                    &plusmn; 0.0001\n",
       "                \n",
       "            </td>\n",
       "            <td style=\"padding: 0 0.5em 0 0.5em; text-align: left; border: none;\">\n",
       "                ACTWorkKeys_SilverPlus_Hispanic\n",
       "            </td>\n",
       "        </tr>\n",
       "    \n",
       "        <tr style=\"background-color: hsl(120, 100.00%, 99.88%); border: none;\">\n",
       "            <td style=\"padding: 0 1em 0 0.5em; text-align: right; border: none;\">\n",
       "                0.0004\n",
       "                \n",
       "                    &plusmn; 0.0001\n",
       "                \n",
       "            </td>\n",
       "            <td style=\"padding: 0 0.5em 0 0.5em; text-align: left; border: none;\">\n",
       "                ACTMath_ACTBenchmark_TwoorMoreRaces\n",
       "            </td>\n",
       "        </tr>\n",
       "    \n",
       "        <tr style=\"background-color: hsl(120, 100.00%, 99.88%); border: none;\">\n",
       "            <td style=\"padding: 0 1em 0 0.5em; text-align: right; border: none;\">\n",
       "                0.0004\n",
       "                \n",
       "                    &plusmn; 0.0001\n",
       "                \n",
       "            </td>\n",
       "            <td style=\"padding: 0 0.5em 0 0.5em; text-align: left; border: none;\">\n",
       "                Developing_TCHR_Standard 3_Pct\n",
       "            </td>\n",
       "        </tr>\n",
       "    \n",
       "        <tr style=\"background-color: hsl(120, 100.00%, 99.88%); border: none;\">\n",
       "            <td style=\"padding: 0 1em 0 0.5em; text-align: right; border: none;\">\n",
       "                0.0004\n",
       "                \n",
       "                    &plusmn; 0.0001\n",
       "                \n",
       "            </td>\n",
       "            <td style=\"padding: 0 0.5em 0 0.5em; text-align: left; border: none;\">\n",
       "                Developing_TCHR_Standard 5_Pct\n",
       "            </td>\n",
       "        </tr>\n",
       "    \n",
       "        <tr style=\"background-color: hsl(120, 100.00%, 99.88%); border: none;\">\n",
       "            <td style=\"padding: 0 1em 0 0.5em; text-align: right; border: none;\">\n",
       "                0.0004\n",
       "                \n",
       "                    &plusmn; 0.0001\n",
       "                \n",
       "            </td>\n",
       "            <td style=\"padding: 0 0.5em 0 0.5em; text-align: left; border: none;\">\n",
       "                Grad_project_status_Y\n",
       "            </td>\n",
       "        </tr>\n",
       "    \n",
       "        <tr style=\"background-color: hsl(120, 100.00%, 99.89%); border: none;\">\n",
       "            <td style=\"padding: 0 1em 0 0.5em; text-align: right; border: none;\">\n",
       "                0.0003\n",
       "                \n",
       "                    &plusmn; 0.0001\n",
       "                \n",
       "            </td>\n",
       "            <td style=\"padding: 0 0.5em 0 0.5em; text-align: left; border: none;\">\n",
       "                Not Demostrated_TCHR_Standard 2_Pct\n",
       "            </td>\n",
       "        </tr>\n",
       "    \n",
       "        <tr style=\"background-color: hsl(120, 100.00%, 99.90%); border: none;\">\n",
       "            <td style=\"padding: 0 1em 0 0.5em; text-align: right; border: none;\">\n",
       "                0.0003\n",
       "                \n",
       "                    &plusmn; 0.0001\n",
       "                \n",
       "            </td>\n",
       "            <td style=\"padding: 0 0.5em 0 0.5em; text-align: left; border: none;\">\n",
       "                st_crime_per_c_num\n",
       "            </td>\n",
       "        </tr>\n",
       "    \n",
       "        <tr style=\"background-color: hsl(120, 100.00%, 99.90%); border: none;\">\n",
       "            <td style=\"padding: 0 1em 0 0.5em; text-align: right; border: none;\">\n",
       "                0.0003\n",
       "                \n",
       "                    &plusmn; 0.0001\n",
       "                \n",
       "            </td>\n",
       "            <td style=\"padding: 0 0.5em 0 0.5em; text-align: left; border: none;\">\n",
       "                EOCEnglish2_GLP_LEP\n",
       "            </td>\n",
       "        </tr>\n",
       "    \n",
       "        <tr style=\"background-color: hsl(120, 100.00%, 99.90%); border: none;\">\n",
       "            <td style=\"padding: 0 1em 0 0.5em; text-align: right; border: none;\">\n",
       "                0.0003\n",
       "                \n",
       "                    &plusmn; 0.0001\n",
       "                \n",
       "            </td>\n",
       "            <td style=\"padding: 0 0.5em 0 0.5em; text-align: left; border: none;\">\n",
       "                grade_range_cd_6-12\n",
       "            </td>\n",
       "        </tr>\n",
       "    \n",
       "        <tr style=\"background-color: hsl(120, 100.00%, 99.91%); border: none;\">\n",
       "            <td style=\"padding: 0 1em 0 0.5em; text-align: right; border: none;\">\n",
       "                0.0003\n",
       "                \n",
       "                    &plusmn; 0.0001\n",
       "                \n",
       "            </td>\n",
       "            <td style=\"padding: 0 0.5em 0 0.5em; text-align: left; border: none;\">\n",
       "                EOCSubjects_CACR_AmericanIndian\n",
       "            </td>\n",
       "        </tr>\n",
       "    \n",
       "        <tr style=\"background-color: hsl(120, 100.00%, 99.91%); border: none;\">\n",
       "            <td style=\"padding: 0 1em 0 0.5em; text-align: right; border: none;\">\n",
       "                0.0003\n",
       "                \n",
       "                    &plusmn; 0.0000\n",
       "                \n",
       "            </td>\n",
       "            <td style=\"padding: 0 0.5em 0 0.5em; text-align: left; border: none;\">\n",
       "                esea_status_P\n",
       "            </td>\n",
       "        </tr>\n",
       "    \n",
       "        <tr style=\"background-color: hsl(120, 100.00%, 99.92%); border: none;\">\n",
       "            <td style=\"padding: 0 1em 0 0.5em; text-align: right; border: none;\">\n",
       "                0.0002\n",
       "                \n",
       "                    &plusmn; 0.0001\n",
       "                \n",
       "            </td>\n",
       "            <td style=\"padding: 0 0.5em 0 0.5em; text-align: left; border: none;\">\n",
       "                EVAAS Growth Status_Met\n",
       "            </td>\n",
       "        </tr>\n",
       "    \n",
       "        <tr style=\"background-color: hsl(120, 100.00%, 99.92%); border: none;\">\n",
       "            <td style=\"padding: 0 1em 0 0.5em; text-align: right; border: none;\">\n",
       "                0.0002\n",
       "                \n",
       "                    &plusmn; 0.0000\n",
       "                \n",
       "            </td>\n",
       "            <td style=\"padding: 0 0.5em 0 0.5em; text-align: left; border: none;\">\n",
       "                expelled_per_c_num\n",
       "            </td>\n",
       "        </tr>\n",
       "    \n",
       "        <tr style=\"background-color: hsl(120, 100.00%, 99.92%); border: none;\">\n",
       "            <td style=\"padding: 0 1em 0 0.5em; text-align: right; border: none;\">\n",
       "                0.0002\n",
       "                \n",
       "                    &plusmn; 0.0000\n",
       "                \n",
       "            </td>\n",
       "            <td style=\"padding: 0 0.5em 0 0.5em; text-align: left; border: none;\">\n",
       "                ACTWriting_ACTBenchmark_SWD\n",
       "            </td>\n",
       "        </tr>\n",
       "    \n",
       "        <tr style=\"background-color: hsl(120, 100.00%, 99.92%); border: none;\">\n",
       "            <td style=\"padding: 0 1em 0 0.5em; text-align: right; border: none;\">\n",
       "                0.0002\n",
       "                \n",
       "                    &plusmn; 0.0000\n",
       "                \n",
       "            </td>\n",
       "            <td style=\"padding: 0 0.5em 0 0.5em; text-align: left; border: none;\">\n",
       "                EOCEnglish2_CACR_Asian\n",
       "            </td>\n",
       "        </tr>\n",
       "    \n",
       "        <tr style=\"background-color: hsl(120, 100.00%, 99.92%); border: none;\">\n",
       "            <td style=\"padding: 0 1em 0 0.5em; text-align: right; border: none;\">\n",
       "                0.0002\n",
       "                \n",
       "                    &plusmn; 0.0001\n",
       "                \n",
       "            </td>\n",
       "            <td style=\"padding: 0 0.5em 0 0.5em; text-align: left; border: none;\">\n",
       "                EOCBiology_CACR_LEP\n",
       "            </td>\n",
       "        </tr>\n",
       "    \n",
       "        <tr style=\"background-color: hsl(120, 100.00%, 99.92%); border: none;\">\n",
       "            <td style=\"padding: 0 1em 0 0.5em; text-align: right; border: none;\">\n",
       "                0.0002\n",
       "                \n",
       "                    &plusmn; 0.0001\n",
       "                \n",
       "            </td>\n",
       "            <td style=\"padding: 0 0.5em 0 0.5em; text-align: left; border: none;\">\n",
       "                grade_range_cd_9-12\n",
       "            </td>\n",
       "        </tr>\n",
       "    \n",
       "        <tr style=\"background-color: hsl(120, 100.00%, 99.93%); border: none;\">\n",
       "            <td style=\"padding: 0 1em 0 0.5em; text-align: right; border: none;\">\n",
       "                0.0002\n",
       "                \n",
       "                    &plusmn; 0.0000\n",
       "                \n",
       "            </td>\n",
       "            <td style=\"padding: 0 0.5em 0 0.5em; text-align: left; border: none;\">\n",
       "                EOCBiology_GLP_LEP\n",
       "            </td>\n",
       "        </tr>\n",
       "    \n",
       "        <tr style=\"background-color: hsl(120, 100.00%, 99.93%); border: none;\">\n",
       "            <td style=\"padding: 0 1em 0 0.5em; text-align: right; border: none;\">\n",
       "                0.0002\n",
       "                \n",
       "                    &plusmn; 0.0001\n",
       "                \n",
       "            </td>\n",
       "            <td style=\"padding: 0 0.5em 0 0.5em; text-align: left; border: none;\">\n",
       "                ACTScience_ACTBenchmark_SWD\n",
       "            </td>\n",
       "        </tr>\n",
       "    \n",
       "        <tr style=\"background-color: hsl(120, 100.00%, 99.93%); border: none;\">\n",
       "            <td style=\"padding: 0 1em 0 0.5em; text-align: right; border: none;\">\n",
       "                0.0002\n",
       "                \n",
       "                    &plusmn; 0.0001\n",
       "                \n",
       "            </td>\n",
       "            <td style=\"padding: 0 0.5em 0 0.5em; text-align: left; border: none;\">\n",
       "                SPG Grade_C\n",
       "            </td>\n",
       "        </tr>\n",
       "    \n",
       "        <tr style=\"background-color: hsl(120, 100.00%, 99.94%); border: none;\">\n",
       "            <td style=\"padding: 0 1em 0 0.5em; text-align: right; border: none;\">\n",
       "                0.0001\n",
       "                \n",
       "                    &plusmn; 0.0001\n",
       "                \n",
       "            </td>\n",
       "            <td style=\"padding: 0 0.5em 0 0.5em; text-align: left; border: none;\">\n",
       "                st_avg_daily_attend_pct\n",
       "            </td>\n",
       "        </tr>\n",
       "    \n",
       "        <tr style=\"background-color: hsl(120, 100.00%, 99.94%); border: none;\">\n",
       "            <td style=\"padding: 0 1em 0 0.5em; text-align: right; border: none;\">\n",
       "                0.0001\n",
       "                \n",
       "                    &plusmn; 0.0000\n",
       "                \n",
       "            </td>\n",
       "            <td style=\"padding: 0 0.5em 0 0.5em; text-align: left; border: none;\">\n",
       "                ACTCompositeScore_UNCMin_AmericanIndian\n",
       "            </td>\n",
       "        </tr>\n",
       "    \n",
       "        <tr style=\"background-color: hsl(120, 100.00%, 99.95%); border: none;\">\n",
       "            <td style=\"padding: 0 1em 0 0.5em; text-align: right; border: none;\">\n",
       "                0.0001\n",
       "                \n",
       "                    &plusmn; 0.0000\n",
       "                \n",
       "            </td>\n",
       "            <td style=\"padding: 0 0.5em 0 0.5em; text-align: left; border: none;\">\n",
       "                EOCBiology_CACR_Asian\n",
       "            </td>\n",
       "        </tr>\n",
       "    \n",
       "        <tr style=\"background-color: hsl(120, 100.00%, 99.95%); border: none;\">\n",
       "            <td style=\"padding: 0 1em 0 0.5em; text-align: right; border: none;\">\n",
       "                0.0001\n",
       "                \n",
       "                    &plusmn; 0.0000\n",
       "                \n",
       "            </td>\n",
       "            <td style=\"padding: 0 0.5em 0 0.5em; text-align: left; border: none;\">\n",
       "                ACTMath_ACTBenchmark_SWD\n",
       "            </td>\n",
       "        </tr>\n",
       "    \n",
       "        <tr style=\"background-color: hsl(120, 100.00%, 99.95%); border: none;\">\n",
       "            <td style=\"padding: 0 1em 0 0.5em; text-align: right; border: none;\">\n",
       "                0.0001\n",
       "                \n",
       "                    &plusmn; 0.0000\n",
       "                \n",
       "            </td>\n",
       "            <td style=\"padding: 0 0.5em 0 0.5em; text-align: left; border: none;\">\n",
       "                ACTSubtests_BenchmarksMet_LEP\n",
       "            </td>\n",
       "        </tr>\n",
       "    \n",
       "        <tr style=\"background-color: hsl(120, 100.00%, 99.95%); border: none;\">\n",
       "            <td style=\"padding: 0 1em 0 0.5em; text-align: right; border: none;\">\n",
       "                0.0001\n",
       "                \n",
       "                    &plusmn; 0.0001\n",
       "                \n",
       "            </td>\n",
       "            <td style=\"padding: 0 0.5em 0 0.5em; text-align: left; border: none;\">\n",
       "                Year\n",
       "            </td>\n",
       "        </tr>\n",
       "    \n",
       "        <tr style=\"background-color: hsl(120, 100.00%, 99.95%); border: none;\">\n",
       "            <td style=\"padding: 0 1em 0 0.5em; text-align: right; border: none;\">\n",
       "                0.0001\n",
       "                \n",
       "                    &plusmn; 0.0000\n",
       "                \n",
       "            </td>\n",
       "            <td style=\"padding: 0 0.5em 0 0.5em; text-align: left; border: none;\">\n",
       "                ACTCompositeScore_UNCMin_Asian\n",
       "            </td>\n",
       "        </tr>\n",
       "    \n",
       "        <tr style=\"background-color: hsl(120, 100.00%, 99.95%); border: none;\">\n",
       "            <td style=\"padding: 0 1em 0 0.5em; text-align: right; border: none;\">\n",
       "                0.0001\n",
       "                \n",
       "                    &plusmn; 0.0000\n",
       "                \n",
       "            </td>\n",
       "            <td style=\"padding: 0 0.5em 0 0.5em; text-align: left; border: none;\">\n",
       "                ACTWorkKeys_SilverPlus_TwoorMoreRaces\n",
       "            </td>\n",
       "        </tr>\n",
       "    \n",
       "        <tr style=\"background-color: hsl(120, 100.00%, 99.96%); border: none;\">\n",
       "            <td style=\"padding: 0 1em 0 0.5em; text-align: right; border: none;\">\n",
       "                0.0001\n",
       "                \n",
       "                    &plusmn; 0.0000\n",
       "                \n",
       "            </td>\n",
       "            <td style=\"padding: 0 0.5em 0 0.5em; text-align: left; border: none;\">\n",
       "                ACTCompositeScore_UNCMin_LEP\n",
       "            </td>\n",
       "        </tr>\n",
       "    \n",
       "        <tr style=\"background-color: hsl(120, 100.00%, 99.97%); border: none;\">\n",
       "            <td style=\"padding: 0 1em 0 0.5em; text-align: right; border: none;\">\n",
       "                0.0001\n",
       "                \n",
       "                    &plusmn; 0.0000\n",
       "                \n",
       "            </td>\n",
       "            <td style=\"padding: 0 0.5em 0 0.5em; text-align: left; border: none;\">\n",
       "                EOCMathI_CACR_AmericanIndian\n",
       "            </td>\n",
       "        </tr>\n",
       "    \n",
       "        <tr style=\"background-color: hsl(120, 100.00%, 99.97%); border: none;\">\n",
       "            <td style=\"padding: 0 1em 0 0.5em; text-align: right; border: none;\">\n",
       "                0.0001\n",
       "                \n",
       "                    &plusmn; 0.0000\n",
       "                \n",
       "            </td>\n",
       "            <td style=\"padding: 0 0.5em 0 0.5em; text-align: left; border: none;\">\n",
       "                EOCEnglish2_CACR_LEP\n",
       "            </td>\n",
       "        </tr>\n",
       "    \n",
       "        <tr style=\"background-color: hsl(120, 100.00%, 99.97%); border: none;\">\n",
       "            <td style=\"padding: 0 1em 0 0.5em; text-align: right; border: none;\">\n",
       "                0.0001\n",
       "                \n",
       "                    &plusmn; 0.0000\n",
       "                \n",
       "            </td>\n",
       "            <td style=\"padding: 0 0.5em 0 0.5em; text-align: left; border: none;\">\n",
       "                ACTEnglish_ACTBenchmark_LEP\n",
       "            </td>\n",
       "        </tr>\n",
       "    \n",
       "        <tr style=\"background-color: hsl(120, 100.00%, 99.97%); border: none;\">\n",
       "            <td style=\"padding: 0 1em 0 0.5em; text-align: right; border: none;\">\n",
       "                0.0000\n",
       "                \n",
       "                    &plusmn; 0.0000\n",
       "                \n",
       "            </td>\n",
       "            <td style=\"padding: 0 0.5em 0 0.5em; text-align: left; border: none;\">\n",
       "                EOCBiology_CACR_AmericanIndian\n",
       "            </td>\n",
       "        </tr>\n",
       "    \n",
       "        <tr style=\"background-color: hsl(120, 100.00%, 99.98%); border: none;\">\n",
       "            <td style=\"padding: 0 1em 0 0.5em; text-align: right; border: none;\">\n",
       "                0.0000\n",
       "                \n",
       "                    &plusmn; 0.0000\n",
       "                \n",
       "            </td>\n",
       "            <td style=\"padding: 0 0.5em 0 0.5em; text-align: left; border: none;\">\n",
       "                EOCEnglish2_CACR_AmericanIndian\n",
       "            </td>\n",
       "        </tr>\n",
       "    \n",
       "        <tr style=\"background-color: hsl(120, 100.00%, 99.98%); border: none;\">\n",
       "            <td style=\"padding: 0 1em 0 0.5em; text-align: right; border: none;\">\n",
       "                0.0000\n",
       "                \n",
       "                    &plusmn; 0.0000\n",
       "                \n",
       "            </td>\n",
       "            <td style=\"padding: 0 0.5em 0 0.5em; text-align: left; border: none;\">\n",
       "                EVAAS Growth Status_NotMet\n",
       "            </td>\n",
       "        </tr>\n",
       "    \n",
       "        <tr style=\"background-color: hsl(120, 100.00%, 99.98%); border: none;\">\n",
       "            <td style=\"padding: 0 1em 0 0.5em; text-align: right; border: none;\">\n",
       "                0.0000\n",
       "                \n",
       "                    &plusmn; 0.0000\n",
       "                \n",
       "            </td>\n",
       "            <td style=\"padding: 0 0.5em 0 0.5em; text-align: left; border: none;\">\n",
       "                ACTWorkKeys_SilverPlus_Asian\n",
       "            </td>\n",
       "        </tr>\n",
       "    \n",
       "        <tr style=\"background-color: hsl(120, 100.00%, 99.98%); border: none;\">\n",
       "            <td style=\"padding: 0 1em 0 0.5em; text-align: right; border: none;\">\n",
       "                0.0000\n",
       "                \n",
       "                    &plusmn; 0.0000\n",
       "                \n",
       "            </td>\n",
       "            <td style=\"padding: 0 0.5em 0 0.5em; text-align: left; border: none;\">\n",
       "                grade_range_cd_9-13\n",
       "            </td>\n",
       "        </tr>\n",
       "    \n",
       "        <tr style=\"background-color: hsl(120, 100.00%, 99.99%); border: none;\">\n",
       "            <td style=\"padding: 0 1em 0 0.5em; text-align: right; border: none;\">\n",
       "                0.0000\n",
       "                \n",
       "                    &plusmn; 0.0000\n",
       "                \n",
       "            </td>\n",
       "            <td style=\"padding: 0 0.5em 0 0.5em; text-align: left; border: none;\">\n",
       "                calendar_type_txt_Regular School, Year-Round Calendar\n",
       "            </td>\n",
       "        </tr>\n",
       "    \n",
       "        <tr style=\"background-color: hsl(120, 100.00%, 99.99%); border: none;\">\n",
       "            <td style=\"padding: 0 1em 0 0.5em; text-align: right; border: none;\">\n",
       "                0.0000\n",
       "                \n",
       "                    &plusmn; 0.0000\n",
       "                \n",
       "            </td>\n",
       "            <td style=\"padding: 0 0.5em 0 0.5em; text-align: left; border: none;\">\n",
       "                ACTMath_ACTBenchmark_AmericanIndian\n",
       "            </td>\n",
       "        </tr>\n",
       "    \n",
       "        <tr style=\"background-color: hsl(120, 100.00%, 99.99%); border: none;\">\n",
       "            <td style=\"padding: 0 1em 0 0.5em; text-align: right; border: none;\">\n",
       "                0.0000\n",
       "                \n",
       "                    &plusmn; 0.0000\n",
       "                \n",
       "            </td>\n",
       "            <td style=\"padding: 0 0.5em 0 0.5em; text-align: left; border: none;\">\n",
       "                ACTScience_ACTBenchmark_LEP\n",
       "            </td>\n",
       "        </tr>\n",
       "    \n",
       "        <tr style=\"background-color: hsl(120, 100.00%, 99.99%); border: none;\">\n",
       "            <td style=\"padding: 0 1em 0 0.5em; text-align: right; border: none;\">\n",
       "                0.0000\n",
       "                \n",
       "                    &plusmn; 0.0000\n",
       "                \n",
       "            </td>\n",
       "            <td style=\"padding: 0 0.5em 0 0.5em; text-align: left; border: none;\">\n",
       "                Not Demostrated_TCHR_Standard 1_Pct\n",
       "            </td>\n",
       "        </tr>\n",
       "    \n",
       "        <tr style=\"background-color: hsl(120, 100.00%, 99.99%); border: none;\">\n",
       "            <td style=\"padding: 0 1em 0 0.5em; text-align: right; border: none;\">\n",
       "                0.0000\n",
       "                \n",
       "                    &plusmn; 0.0000\n",
       "                \n",
       "            </td>\n",
       "            <td style=\"padding: 0 0.5em 0 0.5em; text-align: left; border: none;\">\n",
       "                ACTWriting_ACTBenchmark_AmericanIndian\n",
       "            </td>\n",
       "        </tr>\n",
       "    \n",
       "        <tr style=\"background-color: hsl(120, 100.00%, 99.99%); border: none;\">\n",
       "            <td style=\"padding: 0 1em 0 0.5em; text-align: right; border: none;\">\n",
       "                0.0000\n",
       "                \n",
       "                    &plusmn; 0.0000\n",
       "                \n",
       "            </td>\n",
       "            <td style=\"padding: 0 0.5em 0 0.5em; text-align: left; border: none;\">\n",
       "                ACTReading_ACTBenchmark_LEP\n",
       "            </td>\n",
       "        </tr>\n",
       "    \n",
       "        <tr style=\"background-color: hsl(120, 100.00%, 100.00%); border: none;\">\n",
       "            <td style=\"padding: 0 1em 0 0.5em; text-align: right; border: none;\">\n",
       "                0.0000\n",
       "                \n",
       "                    &plusmn; 0.0000\n",
       "                \n",
       "            </td>\n",
       "            <td style=\"padding: 0 0.5em 0 0.5em; text-align: left; border: none;\">\n",
       "                Not Demostrated_TCHR_Standard 4_Pct\n",
       "            </td>\n",
       "        </tr>\n",
       "    \n",
       "        <tr style=\"background-color: hsl(120, 100.00%, 100.00%); border: none;\">\n",
       "            <td style=\"padding: 0 1em 0 0.5em; text-align: right; border: none;\">\n",
       "                0.0000\n",
       "                \n",
       "                    &plusmn; 0.0000\n",
       "                \n",
       "            </td>\n",
       "            <td style=\"padding: 0 0.5em 0 0.5em; text-align: left; border: none;\">\n",
       "                ACTMath_ACTBenchmark_LEP\n",
       "            </td>\n",
       "        </tr>\n",
       "    \n",
       "        <tr style=\"background-color: hsl(120, 100.00%, 100.00%); border: none;\">\n",
       "            <td style=\"padding: 0 1em 0 0.5em; text-align: right; border: none;\">\n",
       "                0.0000\n",
       "                \n",
       "                    &plusmn; 0.0000\n",
       "                \n",
       "            </td>\n",
       "            <td style=\"padding: 0 0.5em 0 0.5em; text-align: left; border: none;\">\n",
       "                grade_range_cd_7-12\n",
       "            </td>\n",
       "        </tr>\n",
       "    \n",
       "        <tr style=\"background-color: hsl(120, 100.00%, 100.00%); border: none;\">\n",
       "            <td style=\"padding: 0 1em 0 0.5em; text-align: right; border: none;\">\n",
       "                0.0000\n",
       "                \n",
       "                    &plusmn; 0.0000\n",
       "                \n",
       "            </td>\n",
       "            <td style=\"padding: 0 0.5em 0 0.5em; text-align: left; border: none;\">\n",
       "                grade_range_cd_K-12\n",
       "            </td>\n",
       "        </tr>\n",
       "    \n",
       "        <tr style=\"background-color: hsl(120, 100.00%, 100.00%); border: none;\">\n",
       "            <td style=\"padding: 0 1em 0 0.5em; text-align: right; border: none;\">\n",
       "                0.0000\n",
       "                \n",
       "                    &plusmn; 0.0000\n",
       "                \n",
       "            </td>\n",
       "            <td style=\"padding: 0 0.5em 0 0.5em; text-align: left; border: none;\">\n",
       "                grade_range_cd_7-13\n",
       "            </td>\n",
       "        </tr>\n",
       "    \n",
       "        <tr style=\"background-color: hsl(120, 100.00%, 100.00%); border: none;\">\n",
       "            <td style=\"padding: 0 1em 0 0.5em; text-align: right; border: none;\">\n",
       "                0.0000\n",
       "                \n",
       "                    &plusmn; 0.0000\n",
       "                \n",
       "            </td>\n",
       "            <td style=\"padding: 0 0.5em 0 0.5em; text-align: left; border: none;\">\n",
       "                grade_range_cd_8-12\n",
       "            </td>\n",
       "        </tr>\n",
       "    \n",
       "        <tr style=\"background-color: hsl(120, 100.00%, 100.00%); border: none;\">\n",
       "            <td style=\"padding: 0 1em 0 0.5em; text-align: right; border: none;\">\n",
       "                0.0000\n",
       "                \n",
       "                    &plusmn; 0.0000\n",
       "                \n",
       "            </td>\n",
       "            <td style=\"padding: 0 0.5em 0 0.5em; text-align: left; border: none;\">\n",
       "                grade_range_cd_PK-12\n",
       "            </td>\n",
       "        </tr>\n",
       "    \n",
       "        <tr style=\"background-color: hsl(0, 100.00%, 100.00%); border: none;\">\n",
       "            <td style=\"padding: 0 1em 0 0.5em; text-align: right; border: none;\">\n",
       "                0\n",
       "                \n",
       "                    &plusmn; 0.0000\n",
       "                \n",
       "            </td>\n",
       "            <td style=\"padding: 0 0.5em 0 0.5em; text-align: left; border: none;\">\n",
       "                grade_range_cd_9-9\n",
       "            </td>\n",
       "        </tr>\n",
       "    \n",
       "        <tr style=\"background-color: hsl(0, 100.00%, 100.00%); border: none;\">\n",
       "            <td style=\"padding: 0 1em 0 0.5em; text-align: right; border: none;\">\n",
       "                0\n",
       "                \n",
       "                    &plusmn; 0.0000\n",
       "                \n",
       "            </td>\n",
       "            <td style=\"padding: 0 0.5em 0 0.5em; text-align: left; border: none;\">\n",
       "                grade_range_cd_6-13\n",
       "            </td>\n",
       "        </tr>\n",
       "    \n",
       "        <tr style=\"background-color: hsl(0, 100.00%, 100.00%); border: none;\">\n",
       "            <td style=\"padding: 0 1em 0 0.5em; text-align: right; border: none;\">\n",
       "                0\n",
       "                \n",
       "                    &plusmn; 0.0000\n",
       "                \n",
       "            </td>\n",
       "            <td style=\"padding: 0 0.5em 0 0.5em; text-align: left; border: none;\">\n",
       "                grade_range_cd_11-12\n",
       "            </td>\n",
       "        </tr>\n",
       "    \n",
       "        <tr style=\"background-color: hsl(0, 100.00%, 100.00%); border: none;\">\n",
       "            <td style=\"padding: 0 1em 0 0.5em; text-align: right; border: none;\">\n",
       "                0\n",
       "                \n",
       "                    &plusmn; 0.0000\n",
       "                \n",
       "            </td>\n",
       "            <td style=\"padding: 0 0.5em 0 0.5em; text-align: left; border: none;\">\n",
       "                grade_range_cd_9-11\n",
       "            </td>\n",
       "        </tr>\n",
       "    \n",
       "        <tr style=\"background-color: hsl(0, 100.00%, 100.00%); border: none;\">\n",
       "            <td style=\"padding: 0 1em 0 0.5em; text-align: right; border: none;\">\n",
       "                -0.0000\n",
       "                \n",
       "                    &plusmn; 0.0000\n",
       "                \n",
       "            </td>\n",
       "            <td style=\"padding: 0 0.5em 0 0.5em; text-align: left; border: none;\">\n",
       "                ACTWorkKeys_SilverPlus_LEP\n",
       "            </td>\n",
       "        </tr>\n",
       "    \n",
       "    \n",
       "    </tbody>\n",
       "</table>\n",
       "    \n",
       "\n",
       "    \n",
       "\n",
       "\n",
       "    \n",
       "\n",
       "    \n",
       "\n",
       "    \n",
       "\n",
       "    \n",
       "\n",
       "    \n",
       "\n",
       "    \n",
       "\n",
       "\n",
       "\n"
      ],
      "text/plain": [
       "<IPython.core.display.HTML object>"
      ]
     },
     "execution_count": 137,
     "metadata": {},
     "output_type": "execute_result"
    }
   ],
   "source": [
    "eli5.show_weights(perm, feature_names = X_predGradRate.columns.tolist(), top=263)"
   ]
  },
  {
   "cell_type": "markdown",
   "metadata": {},
   "source": [
    "By above weights information, we identified the variables with weight \"0\", which are with least feature importance. We are filtering out those variables as shown below: "
   ]
  },
  {
   "cell_type": "code",
   "execution_count": 140,
   "metadata": {},
   "outputs": [],
   "source": [
    "LightWeight_Cols = X_predGradRate[[\n",
    "'EOCBiology_CACR_AmericanIndian',\n",
    "'EOCEnglish2_CACR_AmericanIndian',\n",
    "'EVAAS Growth Status_NotMet',\n",
    "'ACTWorkKeys_SilverPlus_Asian',\n",
    "'grade_range_cd_9-13',\n",
    "'calendar_type_txt_Regular School, Year-Round Calendar',\n",
    "'ACTMath_ACTBenchmark_AmericanIndian',\n",
    "'ACTScience_ACTBenchmark_LEP',\n",
    "'Not Demostrated_TCHR_Standard 1_Pct',\n",
    "'ACTWriting_ACTBenchmark_AmericanIndian',\n",
    "'ACTReading_ACTBenchmark_LEP',\n",
    "'Not Demostrated_TCHR_Standard 4_Pct',\n",
    "'ACTMath_ACTBenchmark_LEP',\n",
    "'grade_range_cd_7-12',\n",
    "'grade_range_cd_K-12',\n",
    "'grade_range_cd_7-13',\n",
    "'grade_range_cd_8-12',\n",
    "'grade_range_cd_PK-12',\n",
    "'grade_range_cd_9-9',\n",
    "'grade_range_cd_6-13',\n",
    "'grade_range_cd_11-12',\n",
    "'grade_range_cd_9-11',\n",
    "'ACTWorkKeys_SilverPlus_LEP',\n",
    "]]\n",
    "#radRateCols = schoolData.columns[schoolData.columns.str.lower().str.contains('graduation')]\n",
    "#   X_predGradRate = schoolData.drop(GradRateCols, axis=1)"
   ]
  },
  {
   "cell_type": "code",
   "execution_count": 141,
   "metadata": {},
   "outputs": [],
   "source": [
    "X_predGradRate_pick = X_predGradRate.drop(LightWeight_Cols, axis=1)"
   ]
  },
  {
   "cell_type": "code",
   "execution_count": 143,
   "metadata": {},
   "outputs": [
    {
     "data": {
      "text/plain": [
       "(1811, 240)"
      ]
     },
     "execution_count": 143,
     "metadata": {},
     "output_type": "execute_result"
    }
   ],
   "source": [
    "X_predGradRate_pick.shape"
   ]
  },
  {
   "cell_type": "markdown",
   "metadata": {},
   "source": [
    "After variable elimination we have 240 features left, we did another modeling and the MAE is 4.93, which is similiar with before. We can assume the elimination is proper."
   ]
  },
  {
   "cell_type": "code",
   "execution_count": 144,
   "metadata": {},
   "outputs": [
    {
     "data": {
      "text/plain": [
       "4.9359213498656604"
      ]
     },
     "execution_count": 144,
     "metadata": {},
     "output_type": "execute_result"
    }
   ],
   "source": [
    "predictions = cross_val_predict(rfr, X_predGradRate_pick, Y_GradRate, cv=3)\n",
    "\n",
    "#MAE\n",
    "np.sqrt(mean_squared_error(Y_GradRate, predictions))"
   ]
  },
  {
   "cell_type": "markdown",
   "metadata": {},
   "source": [
    "#### Dimension Reduction\n",
    "\n",
    "A PCA step has been conducted on the scaled dataset and a total of 240 PCA components are generated. By examining the plot below we identified that 200 components can already explain 99%+ of the variables. We experiment on just use 200 components to fit a elastic net model that has an error similiar with all 240 variables.\n",
    "\n",
    "It indicates that only 200 variables (PCA components) are good representatives of the information. They can be used as a replacement for all 240 variables in the later modeling procedure."
   ]
  },
  {
   "cell_type": "code",
   "execution_count": 147,
   "metadata": {},
   "outputs": [
    {
     "name": "stdout",
     "output_type": "stream",
     "text": [
      "Cumulative Explained variance at 200 components: 0.9952688254101744\n"
     ]
    },
    {
     "data": {
      "image/png": "[encoded data removed]",
      "text/plain": [
       "<Figure size 576x576 with 1 Axes>"
      ]
     },
     "metadata": {
      "needs_background": "light"
     },
     "output_type": "display_data"
    }
   ],
   "source": [
    "X_predGradRate_scal = ss.fit_transform(X_predGradRate_pick)\n",
    "\n",
    "plot_pca(X_predGradRate_scal)"
   ]
  },
  {
   "cell_type": "code",
   "execution_count": 148,
   "metadata": {},
   "outputs": [],
   "source": [
    "# Convert X_sm to 200 principal components\n",
    "pca = PCA(n_components=200)\n",
    "X_predGradRate_pca200 = pca.fit_transform(X_predGradRate_scal)"
   ]
  },
  {
   "cell_type": "markdown",
   "metadata": {},
   "source": [
    "Only 200 variables (PCA components) give MAE of 5.3, which is slightly higher than using all 240 variables."
   ]
  },
  {
   "cell_type": "code",
   "execution_count": 149,
   "metadata": {},
   "outputs": [
    {
     "data": {
      "text/plain": [
       "5.3035661845480755"
      ]
     },
     "execution_count": 149,
     "metadata": {},
     "output_type": "execute_result"
    }
   ],
   "source": [
    "predictions = cross_val_predict(rfr, X_predGradRate_pca200, Y_GradRate, cv=3)\n",
    "np.sqrt(mean_squared_error(Y_GradRate, predictions))"
   ]
  },
  {
   "cell_type": "markdown",
   "metadata": {},
   "source": [
    "## Data Preparation 2 - The Dataset\n",
    "\n",
    "Below we describe the final dataset used for the classification and regression tasks. Only the features selected in the above process are listed and describled.\n",
    "\n",
    "In the following sessions, evaluation metrics are introduced specifically for the two tasks."
   ]
  },
  {
   "cell_type": "markdown",
   "metadata": {},
   "source": [
    "### Data Description for Classification Task\n",
    "\n",
    "The data set contains 9,731 records and 259 attributes that are comprised of factors, numbers, and characters. A data definition sheet can be found in Dr. Drew's github repository, [https://github.com/jakemdrew/EducationDataNC](https://github.com/jakemdrew/EducationDataNC/tree/master/Data%20Documentation). To scale the data to be more manageable, our data set includes 50 of the 259 attributes. \n",
    "\n",
    "These variables were chosen after initial EDA and correlation visuals were generated between SPG and all predictors. The data type, category and description are displayed in the following table.\n",
    "\n",
    "### Attributes\n",
    "| Attribute | DataType | Description |\n",
    "|:---|:---|:---|\n",
    "| SPG Grade                          | object  | School Performance Grade (Letter Grade - A-D, F) |\n",
    "| MinorityMalePct                    | float64 | Minority Male Perentage |\n",
    "| MinorityFemalePct                  | float64 | Minority Female Percentage |\n",
    "| short_susp_per_c_num               | float64 | Short term suspensions per 100 students at school level |\n",
    "| avg_daily_attend_pct               | float64 | Average daily attendance percentage at school level |\n",
    "| title1_type_cd_Y                   | uint8   | Title 1 Status |\n",
    "| BlackMalePct                       | float64 | Black Male Percentage |\n",
    "| AsianFemalePct                     | float64 | Asian Female Percentage |\n",
    "| BlackFemalePct                     | float64 | Black Female Percentage |\n",
    "| TotalTargets_pTarget_PctMet        | float64 | Percentage of total targets met |\n",
    "| HispanicMalePct                    | float64 | Hispanic Male Percentage |\n",
    "| MathGr3-8_pTarget_PctMet           | float64 | Percentage of students meeting Math target in grade levels 3 thru 8 |\n",
    "| AsianMalePct                       | float64 | Asian Male Percentage |\n",
    "| SciGr5&8_pTarget_PctMet            | float64 | Percentage of students meeting Science target in grade level 5 & 8 |\n",
    "| nbpts_num                          | float64 | Number of National Board Certified Staff at school level |\n",
    "| lea_sat_avg_score_num              | float64 | Average SAT score at LEA level |\n",
    "| stud_internet_comp_num             | float64 | Ratio of students to internet connected computer at school level |\n",
    "| st_avg_student_num                 | float64 | Average school size within the State |\n",
    "| HispanicFemalePct                  | float64 | Hispanic Female Percentage |\n",
    "| Accomplished_TCHR_Standard 4_Pct   | float64 | Percentage of accomplished teachers with teacher evaluation value of 4 |\n",
    "| Accomplished_TCHR_Standard 3_Pct   | float64 | Percentage of accomplished teachers with teacher evaluation value of 3 |\n",
    "| Developing_TCHR_Standard 2_Pct     | float64 | Percentage of developing teachers with teacher evaluation value of 2 |\n",
    "| Accomplished_TCHR_Standard 5_Pct   | float64 | Percentage of accomplished teachers with teacher evaluation value of 5 |\n",
    "| 10+ Years_LEA_Exp_Pct_Prin         | float64 | Percentage of principle with more than 10 years of experience at the LEA level |\n",
    "| 4-10 Years_LEA_Exp_Pct_Prin        | float64 | Percentage of principle with 4-10 years of experience at the LEA level |\n",
    "| Accomplished_TCHR_Standard 1_Pct   | float64 | Percentage of accomplished teachers with teacher evaluation value of 1 |\n",
    "| Accomplished_TCHR_Standard 2_Pct   | float64 | Percentage of accomplished teachers with teacher evaluation value of 2 |\n",
    "| Developing_TCHR_Standard 1_Pct     | float64 | Percentage of developing teachers with teacher evaluation value of 1 |\n",
    "| pct_GCE_ALL                        | float64 | Percentage of Third Grade Students Passed with Good Cause Exemption |\n",
    "| 0-3 Years_LEA_Exp_Pct_Prin         | float64 | Percentage of principle with 0-3 years of experience at the LEA level |\n",
    "| st_emer_prov_teach_pct             | float64 | Emerging teachers at State level |\n",
    "| lea_sat_participation_pct          | float64 | Percentage of HS students taking an SAT exam at the LEA level |\n",
    "| lea_ap_participation_pct           | float64 | Advanced Placement participation at LEA level |\n",
    "| lea_federal_perpupil_num           | float64 | Federal expense per pupil at LEA level |\n",
    "| lea_local_perpupil_num             | float64 | Local expense per pupil at LEA level |\n",
    "| advance_dgr_pct                    | float64 | Percent of teachers with masters or higher degree at school dgr |\n",
    "| Developing_TCHR_Standard 5_Pct     | float64 | Percentage of teacher with level 5 in Developing |\n",
    "| lateral_teach_pct                  | float64 | Lateral entry teacher percentage at school level |\n",
    "| lea_flicensed_teach_pct            | float64 | Average Percent of Teachers that meet NC fully licensed |\n",
    "| Developing_TCHR_Standard 3_Pct     | float64 | Percentage of teacher with level 3 in Developing |\n",
    "| lea_tchyrs_0thru3_pct              | float64 | LEA level Teacher experiences 0 to 3 years  |\n",
    "| lea_tchyrs_11plus_pct              | float64 | LEA level Teacher experiences over 11 years |\n",
    "| lea_nbpts_num                      | float64 | Average number of National Board Certified staff at LEA |\n",
    "| lea_advance_dgr_pct                | float64 | Average percent of teachers with masters or higher degree at LEA level |\n",
    "| lea_1yr_tchr_trnovr_pct            | float64 | One Year Teacher turnover percentage at school level |\n",
    "| lea_emer_prov_teach_pct            | float64 | Emerging teachers at LEA level |\n",
    "| st_flicensed_teach_pct             | float64 | Average Percent of Teachers that meet NC fully licensed |\n",
    "| st_tchyrs_0thru3_pct               | float64 | Percentage of teachers with 4-10 years of experience at the State level |\n",
    "| st_1yr_tchr_trnovr_pct             | float64 | Standardize One Year Teacher turnover percentage at school level |\n",
    "| lea_tchyrs_4thru10_pct             | float64 | Percentage of teachers with 4-10 years of experience at the LEA level |\n",
    "| Category_Cd_T                      | uint8   | School with Category code T (School has middle and high school grades) |"
   ]
  },
  {
   "cell_type": "markdown",
   "metadata": {},
   "source": [
    "#### Data Description for Regression Task\n",
    "\n",
    "The data set contains 1,811 records and 240 attributes that are comprised of factors, numbers, and characters. A data definition sheet can be found in Dr. Drew's github repository, [https://github.com/jakemdrew/EducationDataNC](https://github.com/jakemdrew/EducationDataNC/tree/master/Data%20Documentation). Because we need at least 40,000 records for this task, we are using all the attributes for this regression task. \n",
    "\n",
    "The data type, category and description are displayed in the following table.\n",
    "### Attributes\n",
    "| Attribute | DataType | Description |\n",
    "\n",
    "to be added!!!!!!!"
   ]
  },
  {
   "cell_type": "code",
   "execution_count": 151,
   "metadata": {
    "scrolled": true
   },
   "outputs": [
    {
     "data": {
      "text/html": [
       "<div>\n",
       "<style scoped>\n",
       "    .dataframe tbody tr th:only-of-type {\n",
       "        vertical-align: middle;\n",
       "    }\n",
       "\n",
       "    .dataframe tbody tr th {\n",
       "        vertical-align: top;\n",
       "    }\n",
       "\n",
       "    .dataframe thead th {\n",
       "        text-align: right;\n",
       "    }\n",
       "</style>\n",
       "<table border=\"1\" class=\"dataframe\">\n",
       "  <thead>\n",
       "    <tr style=\"text-align: right;\">\n",
       "      <th></th>\n",
       "      <th>student_num</th>\n",
       "      <th>lea_avg_student_num</th>\n",
       "      <th>st_avg_student_num</th>\n",
       "      <th>Biology_Size</th>\n",
       "      <th>English II_Size</th>\n",
       "      <th>Math I_Size</th>\n",
       "      <th>lea_total_expense_num</th>\n",
       "      <th>lea_salary_expense_pct</th>\n",
       "      <th>lea_services_expense_pct</th>\n",
       "      <th>lea_supplies_expense_pct</th>\n",
       "      <th>...</th>\n",
       "      <th>grade_range_cd_6-12</th>\n",
       "      <th>grade_range_cd_9-12</th>\n",
       "      <th>esea_status_P</th>\n",
       "      <th>Grad_project_status_Y</th>\n",
       "      <th>SPG Grade_B</th>\n",
       "      <th>SPG Grade_C</th>\n",
       "      <th>SPG Grade_D</th>\n",
       "      <th>EVAAS Growth Status_Met</th>\n",
       "      <th>unit_code</th>\n",
       "      <th>Year</th>\n",
       "    </tr>\n",
       "  </thead>\n",
       "  <tbody>\n",
       "    <tr>\n",
       "      <th>count</th>\n",
       "      <td>1811.000000</td>\n",
       "      <td>1811.000000</td>\n",
       "      <td>1811.000000</td>\n",
       "      <td>1811.000000</td>\n",
       "      <td>1811.000000</td>\n",
       "      <td>1811.000000</td>\n",
       "      <td>1811.000000</td>\n",
       "      <td>1811.000000</td>\n",
       "      <td>1811.000000</td>\n",
       "      <td>1811.000000</td>\n",
       "      <td>...</td>\n",
       "      <td>1811.000000</td>\n",
       "      <td>1811.000000</td>\n",
       "      <td>1811.000000</td>\n",
       "      <td>1811.000000</td>\n",
       "      <td>1811.000000</td>\n",
       "      <td>1811.000000</td>\n",
       "      <td>1811.000000</td>\n",
       "      <td>1811.000000</td>\n",
       "      <td>1811.000000</td>\n",
       "      <td>1811.000000</td>\n",
       "    </tr>\n",
       "    <tr>\n",
       "      <th>mean</th>\n",
       "      <td>877.722253</td>\n",
       "      <td>832.858642</td>\n",
       "      <td>832.726118</td>\n",
       "      <td>18.930425</td>\n",
       "      <td>19.615130</td>\n",
       "      <td>18.453341</td>\n",
       "      <td>9084.812656</td>\n",
       "      <td>0.669730</td>\n",
       "      <td>0.081085</td>\n",
       "      <td>0.081854</td>\n",
       "      <td>...</td>\n",
       "      <td>0.013805</td>\n",
       "      <td>0.813363</td>\n",
       "      <td>0.034787</td>\n",
       "      <td>0.406405</td>\n",
       "      <td>0.341248</td>\n",
       "      <td>0.402540</td>\n",
       "      <td>0.088349</td>\n",
       "      <td>0.321369</td>\n",
       "      <td>507337.515737</td>\n",
       "      <td>2015.493650</td>\n",
       "    </tr>\n",
       "    <tr>\n",
       "      <th>std</th>\n",
       "      <td>585.214712</td>\n",
       "      <td>348.911687</td>\n",
       "      <td>94.675672</td>\n",
       "      <td>5.208325</td>\n",
       "      <td>5.124998</td>\n",
       "      <td>5.340805</td>\n",
       "      <td>1172.136628</td>\n",
       "      <td>0.094682</td>\n",
       "      <td>0.016434</td>\n",
       "      <td>0.015835</td>\n",
       "      <td>...</td>\n",
       "      <td>0.116711</td>\n",
       "      <td>0.389728</td>\n",
       "      <td>0.183292</td>\n",
       "      <td>0.491298</td>\n",
       "      <td>0.474259</td>\n",
       "      <td>0.490545</td>\n",
       "      <td>0.283880</td>\n",
       "      <td>0.467131</td>\n",
       "      <td>278643.806890</td>\n",
       "      <td>1.113125</td>\n",
       "    </tr>\n",
       "    <tr>\n",
       "      <th>min</th>\n",
       "      <td>16.000000</td>\n",
       "      <td>105.000000</td>\n",
       "      <td>252.000000</td>\n",
       "      <td>0.000000</td>\n",
       "      <td>0.000000</td>\n",
       "      <td>0.000000</td>\n",
       "      <td>7282.190000</td>\n",
       "      <td>0.547000</td>\n",
       "      <td>0.047000</td>\n",
       "      <td>0.028000</td>\n",
       "      <td>...</td>\n",
       "      <td>0.000000</td>\n",
       "      <td>0.000000</td>\n",
       "      <td>0.000000</td>\n",
       "      <td>0.000000</td>\n",
       "      <td>0.000000</td>\n",
       "      <td>0.000000</td>\n",
       "      <td>0.000000</td>\n",
       "      <td>0.000000</td>\n",
       "      <td>10303.000000</td>\n",
       "      <td>2014.000000</td>\n",
       "    </tr>\n",
       "    <tr>\n",
       "      <th>25%</th>\n",
       "      <td>366.500000</td>\n",
       "      <td>598.000000</td>\n",
       "      <td>837.000000</td>\n",
       "      <td>16.000000</td>\n",
       "      <td>17.000000</td>\n",
       "      <td>16.000000</td>\n",
       "      <td>8362.900000</td>\n",
       "      <td>0.611000</td>\n",
       "      <td>0.069000</td>\n",
       "      <td>0.072000</td>\n",
       "      <td>...</td>\n",
       "      <td>0.000000</td>\n",
       "      <td>1.000000</td>\n",
       "      <td>0.000000</td>\n",
       "      <td>0.000000</td>\n",
       "      <td>0.000000</td>\n",
       "      <td>0.000000</td>\n",
       "      <td>0.000000</td>\n",
       "      <td>0.000000</td>\n",
       "      <td>280304.000000</td>\n",
       "      <td>2015.000000</td>\n",
       "    </tr>\n",
       "    <tr>\n",
       "      <th>50%</th>\n",
       "      <td>813.000000</td>\n",
       "      <td>812.000000</td>\n",
       "      <td>848.000000</td>\n",
       "      <td>19.000000</td>\n",
       "      <td>20.000000</td>\n",
       "      <td>19.000000</td>\n",
       "      <td>8821.640000</td>\n",
       "      <td>0.626000</td>\n",
       "      <td>0.081000</td>\n",
       "      <td>0.082000</td>\n",
       "      <td>...</td>\n",
       "      <td>0.000000</td>\n",
       "      <td>1.000000</td>\n",
       "      <td>0.000000</td>\n",
       "      <td>0.000000</td>\n",
       "      <td>0.000000</td>\n",
       "      <td>0.000000</td>\n",
       "      <td>0.000000</td>\n",
       "      <td>0.000000</td>\n",
       "      <td>490362.000000</td>\n",
       "      <td>2015.000000</td>\n",
       "    </tr>\n",
       "    <tr>\n",
       "      <th>75%</th>\n",
       "      <td>1236.500000</td>\n",
       "      <td>974.000000</td>\n",
       "      <td>853.000000</td>\n",
       "      <td>23.000000</td>\n",
       "      <td>23.000000</td>\n",
       "      <td>22.000000</td>\n",
       "      <td>9405.800000</td>\n",
       "      <td>0.655000</td>\n",
       "      <td>0.089000</td>\n",
       "      <td>0.092000</td>\n",
       "      <td>...</td>\n",
       "      <td>0.000000</td>\n",
       "      <td>1.000000</td>\n",
       "      <td>0.000000</td>\n",
       "      <td>1.000000</td>\n",
       "      <td>1.000000</td>\n",
       "      <td>1.000000</td>\n",
       "      <td>0.000000</td>\n",
       "      <td>1.000000</td>\n",
       "      <td>760369.000000</td>\n",
       "      <td>2016.000000</td>\n",
       "    </tr>\n",
       "    <tr>\n",
       "      <th>max</th>\n",
       "      <td>2966.000000</td>\n",
       "      <td>1852.000000</td>\n",
       "      <td>860.000000</td>\n",
       "      <td>32.000000</td>\n",
       "      <td>35.000000</td>\n",
       "      <td>37.000000</td>\n",
       "      <td>17801.850000</td>\n",
       "      <td>0.878000</td>\n",
       "      <td>0.153000</td>\n",
       "      <td>0.143000</td>\n",
       "      <td>...</td>\n",
       "      <td>1.000000</td>\n",
       "      <td>1.000000</td>\n",
       "      <td>1.000000</td>\n",
       "      <td>1.000000</td>\n",
       "      <td>1.000000</td>\n",
       "      <td>1.000000</td>\n",
       "      <td>1.000000</td>\n",
       "      <td>1.000000</td>\n",
       "      <td>995330.000000</td>\n",
       "      <td>2017.000000</td>\n",
       "    </tr>\n",
       "  </tbody>\n",
       "</table>\n",
       "<p>8 rows × 240 columns</p>\n",
       "</div>"
      ],
      "text/plain": [
       "       student_num  lea_avg_student_num  st_avg_student_num  Biology_Size  \\\n",
       "count  1811.000000          1811.000000         1811.000000   1811.000000   \n",
       "mean    877.722253           832.858642          832.726118     18.930425   \n",
       "std     585.214712           348.911687           94.675672      5.208325   \n",
       "min      16.000000           105.000000          252.000000      0.000000   \n",
       "25%     366.500000           598.000000          837.000000     16.000000   \n",
       "50%     813.000000           812.000000          848.000000     19.000000   \n",
       "75%    1236.500000           974.000000          853.000000     23.000000   \n",
       "max    2966.000000          1852.000000          860.000000     32.000000   \n",
       "\n",
       "       English II_Size  Math I_Size  lea_total_expense_num  \\\n",
       "count      1811.000000  1811.000000            1811.000000   \n",
       "mean         19.615130    18.453341            9084.812656   \n",
       "std           5.124998     5.340805            1172.136628   \n",
       "min           0.000000     0.000000            7282.190000   \n",
       "25%          17.000000    16.000000            8362.900000   \n",
       "50%          20.000000    19.000000            8821.640000   \n",
       "75%          23.000000    22.000000            9405.800000   \n",
       "max          35.000000    37.000000           17801.850000   \n",
       "\n",
       "       lea_salary_expense_pct  lea_services_expense_pct  \\\n",
       "count             1811.000000               1811.000000   \n",
       "mean                 0.669730                  0.081085   \n",
       "std                  0.094682                  0.016434   \n",
       "min                  0.547000                  0.047000   \n",
       "25%                  0.611000                  0.069000   \n",
       "50%                  0.626000                  0.081000   \n",
       "75%                  0.655000                  0.089000   \n",
       "max                  0.878000                  0.153000   \n",
       "\n",
       "       lea_supplies_expense_pct  ...  grade_range_cd_6-12  \\\n",
       "count               1811.000000  ...          1811.000000   \n",
       "mean                   0.081854  ...             0.013805   \n",
       "std                    0.015835  ...             0.116711   \n",
       "min                    0.028000  ...             0.000000   \n",
       "25%                    0.072000  ...             0.000000   \n",
       "50%                    0.082000  ...             0.000000   \n",
       "75%                    0.092000  ...             0.000000   \n",
       "max                    0.143000  ...             1.000000   \n",
       "\n",
       "       grade_range_cd_9-12  esea_status_P  Grad_project_status_Y  SPG Grade_B  \\\n",
       "count          1811.000000    1811.000000            1811.000000  1811.000000   \n",
       "mean              0.813363       0.034787               0.406405     0.341248   \n",
       "std               0.389728       0.183292               0.491298     0.474259   \n",
       "min               0.000000       0.000000               0.000000     0.000000   \n",
       "25%               1.000000       0.000000               0.000000     0.000000   \n",
       "50%               1.000000       0.000000               0.000000     0.000000   \n",
       "75%               1.000000       0.000000               1.000000     1.000000   \n",
       "max               1.000000       1.000000               1.000000     1.000000   \n",
       "\n",
       "       SPG Grade_C  SPG Grade_D  EVAAS Growth Status_Met      unit_code  \\\n",
       "count  1811.000000  1811.000000              1811.000000    1811.000000   \n",
       "mean      0.402540     0.088349                 0.321369  507337.515737   \n",
       "std       0.490545     0.283880                 0.467131  278643.806890   \n",
       "min       0.000000     0.000000                 0.000000   10303.000000   \n",
       "25%       0.000000     0.000000                 0.000000  280304.000000   \n",
       "50%       0.000000     0.000000                 0.000000  490362.000000   \n",
       "75%       1.000000     0.000000                 1.000000  760369.000000   \n",
       "max       1.000000     1.000000                 1.000000  995330.000000   \n",
       "\n",
       "              Year  \n",
       "count  1811.000000  \n",
       "mean   2015.493650  \n",
       "std       1.113125  \n",
       "min    2014.000000  \n",
       "25%    2015.000000  \n",
       "50%    2015.000000  \n",
       "75%    2016.000000  \n",
       "max    2017.000000  \n",
       "\n",
       "[8 rows x 240 columns]"
      ]
     },
     "execution_count": 151,
     "metadata": {},
     "output_type": "execute_result"
    },
    {
     "data": {
      "text/plain": [
       "(1811, 240)"
      ]
     },
     "execution_count": 151,
     "metadata": {},
     "output_type": "execute_result"
    }
   ],
   "source": [
    "X_predGradRate_pick.describe()\n",
    "X_predGradRate_pick.shape"
   ]
  },
  {
   "cell_type": "markdown",
   "metadata": {},
   "source": [
    "## Modeling and Evaluation\n",
    "### Model Evaluation 1: Evaluation Matrix"
   ]
  },
  {
   "cell_type": "markdown",
   "metadata": {},
   "source": [
    "#### Evaluation Matrix for classification task:\n",
    "- Accuracy\n",
    "- Accuracy of each class\n",
    "- Confusion Matrix\n",
    "- ROC curves of each class and all classes\n",
    "- Optional: Precision and Recall\n",
    "\n",
    "Below we demonstrate the usage of the matrix by results from the above Random Forest classifer and SMOTE data.\n",
    "\n",
    "Accuracy, Precision and Recall"
   ]
  },
  {
   "cell_type": "code",
   "execution_count": 76,
   "metadata": {},
   "outputs": [
    {
     "name": "stdout",
     "output_type": "stream",
     "text": [
      "Total Accuracy: 0.8751573118550214\n",
      "Recalls for each class: [0.9831121833534379, 0.8329177057356608, 0.7179802955665024, 0.875, 0.9728997289972899]\n",
      "Precisions for each class: [0.9588235294117647, 0.8267326732673267, 0.786774628879892, 0.8440925700365408, 0.953519256308101]\n"
     ]
    }
   ],
   "source": [
    "# Compare input and predictions\n",
    "y=y_test\n",
    "yhat=y_pred_sm\n",
    "\n",
    "# get various measures of performance\n",
    "total_accuracy = mt.accuracy_score(y, yhat)\n",
    "\n",
    "rec_tot = []\n",
    "prec_tot = []\n",
    "\n",
    "for cls in np.unique(y):\n",
    "    idx = (y==cls) # get classes\n",
    "    ytmp_actual = np.zeros(y.shape) # make binary class problem\n",
    "    ytmp_actual[idx] = 1 # set the instances for this specific class\n",
    "    \n",
    "    ytmp_predicted = np.zeros(y.shape) # binary prediction array\n",
    "    ytmp_predicted[yhat==cls] = 1\n",
    "    \n",
    "    #num_in_class = sum(idx)\n",
    "    \n",
    "    rec = mt.recall_score(ytmp_actual, ytmp_predicted)\n",
    "    prec = mt.precision_score(ytmp_actual, ytmp_predicted)\n",
    "    rec_tot.append(rec)\n",
    "    prec_tot.append(prec)\n",
    "\n",
    "print ('Total Accuracy:',total_accuracy)\n",
    "print ('Recalls for each class:',rec_tot)\n",
    "print ('Precisions for each class:',prec_tot)"
   ]
  },
  {
   "cell_type": "markdown",
   "metadata": {},
   "source": [
    "Accuracy Measurements and Plot for each class"
   ]
  },
  {
   "cell_type": "code",
   "execution_count": 78,
   "metadata": {},
   "outputs": [
    {
     "data": {
      "image/png": "[encoded data removed]",
      "text/plain": [
       "<Figure size 432x288 with 1 Axes>"
      ]
     },
     "metadata": {
      "needs_background": "light"
     },
     "output_type": "display_data"
    }
   ],
   "source": [
    "def per_class_accuracy(y,yhat):\n",
    "    conf = mt.confusion_matrix(y,yhat)\n",
    "    norm_conf = conf.astype('float') / conf.sum(axis=1)[:, np.newaxis]\n",
    "    return np.diag(norm_conf)\n",
    "\n",
    "def plot_class_acc(ytrue,yhat, title=''):\n",
    "    acc_list = per_class_accuracy(ytrue,yhat)\n",
    "    plt.bar(range(len(acc_list)), acc_list)\n",
    "    plt.xlabel('Class value (one per face)')\n",
    "    plt.ylabel('Accuracy within class')\n",
    "    plt.title(title+\", Total Acc=%.1f\"%(100*mt.accuracy_score(ytrue,yhat)))\n",
    "    plt.grid()\n",
    "    plt.ylim([0,1])\n",
    "    plt.show()\n",
    " \n",
    "\n",
    "plot_class_acc(y,yhat,title=\"Example\")"
   ]
  },
  {
   "cell_type": "markdown",
   "metadata": {},
   "source": [
    "Confusion Matrix"
   ]
  },
  {
   "cell_type": "code",
   "execution_count": 79,
   "metadata": {},
   "outputs": [
    {
     "data": {
      "text/plain": [
       "<matplotlib.image.AxesImage at 0x265edf3d6c8>"
      ]
     },
     "execution_count": 79,
     "metadata": {},
     "output_type": "execute_result"
    },
    {
     "data": {
      "image/png": "[encoded data removed]",
      "text/plain": [
       "<Figure size 432x288 with 1 Axes>"
      ]
     },
     "metadata": {
      "needs_background": "light"
     },
     "output_type": "display_data"
    }
   ],
   "source": [
    "# how about plotting a confusion matrix?\n",
    "cm = mt.confusion_matrix(y, yhat)\n",
    "plt.imshow(cm,cmap=plt.get_cmap('Reds'),aspect='auto')\n",
    "plt.grid(False)"
   ]
  },
  {
   "cell_type": "markdown",
   "metadata": {},
   "source": [
    "ROC curves of each class and overall ROC curve"
   ]
  },
  {
   "cell_type": "code",
   "execution_count": 81,
   "metadata": {},
   "outputs": [
    {
     "data": {
      "text/plain": [
       "array([[0.02, 0.29, 0.47, 0.22, 0.  ],\n",
       "       [0.02, 0.91, 0.06, 0.01, 0.  ],\n",
       "       [0.  , 0.01, 0.12, 0.28, 0.59],\n",
       "       ...,\n",
       "       [0.  , 0.02, 0.17, 0.81, 0.  ],\n",
       "       [0.  , 0.  , 0.  , 0.01, 0.99],\n",
       "       [0.07, 0.21, 0.52, 0.19, 0.01]])"
      ]
     },
     "execution_count": 81,
     "metadata": {},
     "output_type": "execute_result"
    }
   ],
   "source": [
    "# Probability Matrix\n",
    "yhat_score = clfsm.predict_proba(X_test)\n",
    "yhat_score"
   ]
  },
  {
   "cell_type": "code",
   "execution_count": 98,
   "metadata": {
    "scrolled": true
   },
   "outputs": [
    {
     "data": {
      "text/plain": [
       "[<matplotlib.lines.Line2D at 0x265edfb9148>]"
      ]
     },
     "execution_count": 98,
     "metadata": {},
     "output_type": "execute_result"
    },
    {
     "data": {
      "text/plain": [
       "[<matplotlib.lines.Line2D at 0x265edf9aac8>]"
      ]
     },
     "execution_count": 98,
     "metadata": {},
     "output_type": "execute_result"
    },
    {
     "data": {
      "text/plain": [
       "[<matplotlib.lines.Line2D at 0x265ebae5cc8>]"
      ]
     },
     "execution_count": 98,
     "metadata": {},
     "output_type": "execute_result"
    },
    {
     "data": {
      "text/plain": [
       "[<matplotlib.lines.Line2D at 0x265edfcb388>]"
      ]
     },
     "execution_count": 98,
     "metadata": {},
     "output_type": "execute_result"
    },
    {
     "data": {
      "text/plain": [
       "[<matplotlib.lines.Line2D at 0x265edfc9208>]"
      ]
     },
     "execution_count": 98,
     "metadata": {},
     "output_type": "execute_result"
    },
    {
     "data": {
      "text/plain": [
       "<matplotlib.legend.Legend at 0x265edfd1d08>"
      ]
     },
     "execution_count": 98,
     "metadata": {},
     "output_type": "execute_result"
    },
    {
     "data": {
      "text/plain": [
       "Text(0.5, 0, 'False Positive Rate')"
      ]
     },
     "execution_count": 98,
     "metadata": {},
     "output_type": "execute_result"
    },
    {
     "data": {
      "text/plain": [
       "Text(0, 0.5, 'True Positive Rate')"
      ]
     },
     "execution_count": 98,
     "metadata": {},
     "output_type": "execute_result"
    },
    {
     "data": {
      "image/png": "[encoded data removed]",
      "text/plain": [
       "<Figure size 432x288 with 1 Axes>"
      ]
     },
     "metadata": {
      "needs_background": "light"
     },
     "output_type": "display_data"
    }
   ],
   "source": [
    "# Compute ROC curve for a subset of interesting classes\n",
    "fpr = dict()\n",
    "tpr = dict()\n",
    "roc_auc = dict()\n",
    "for i in np.unique(y):\n",
    "    fpr[i], tpr[i], _ = mt.roc_curve(y, yhat_score[:, i], pos_label=i)\n",
    "    roc_auc[i] = mt.auc(fpr[i], tpr[i])\n",
    "    \n",
    "for i in np.random.permutation(5)[0:5]:\n",
    "    plt.plot(fpr[i], tpr[i], label='class {0} with {1} instances (area = {2:0.2f})'\n",
    "                                   ''.format(i, sum(y==i), roc_auc[i]))\n",
    "\n",
    "plt.legend(loc=\"lower right\")  \n",
    "plt.xlabel('False Positive Rate')\n",
    "plt.ylabel('True Positive Rate')\n",
    "plt.show()"
   ]
  },
  {
   "cell_type": "code",
   "execution_count": 100,
   "metadata": {},
   "outputs": [
    {
     "data": {
      "text/plain": [
       "array([[0, 0, 1, 0, 0],\n",
       "       [0, 1, 0, 0, 0],\n",
       "       [0, 0, 0, 0, 1],\n",
       "       ...,\n",
       "       [0, 0, 0, 1, 0],\n",
       "       [0, 0, 0, 0, 1],\n",
       "       [0, 0, 1, 0, 0]])"
      ]
     },
     "execution_count": 100,
     "metadata": {},
     "output_type": "execute_result"
    }
   ],
   "source": [
    "from sklearn.preprocessing import label_binarize\n",
    "one_hot_class_encoding = label_binarize(y,np.unique(y))\n",
    "one_hot_class_encoding"
   ]
  },
  {
   "cell_type": "code",
   "execution_count": 107,
   "metadata": {},
   "outputs": [],
   "source": [
    "fpr[\"micro\"], tpr[\"micro\"], _ = mt.roc_curve(one_hot_class_encoding.ravel(), yhat_score.ravel())\n",
    "roc_auc[\"micro\"] = mt.auc(fpr[\"micro\"], tpr[\"micro\"])"
   ]
  },
  {
   "cell_type": "code",
   "execution_count": 108,
   "metadata": {},
   "outputs": [
    {
     "data": {
      "text/plain": [
       "<Figure size 864x288 with 0 Axes>"
      ]
     },
     "execution_count": 108,
     "metadata": {},
     "output_type": "execute_result"
    },
    {
     "data": {
      "text/plain": [
       "[<matplotlib.lines.Line2D at 0x265ee066688>]"
      ]
     },
     "execution_count": 108,
     "metadata": {},
     "output_type": "execute_result"
    },
    {
     "data": {
      "image/png": "[encoded data removed]",
      "text/plain": [
       "<Figure size 864x288 with 1 Axes>"
      ]
     },
     "metadata": {
      "needs_background": "light"
     },
     "output_type": "display_data"
    }
   ],
   "source": [
    "plt.figure(figsize=(12,4))\n",
    "plt.plot(fpr[\"micro\"], tpr[\"micro\"],\n",
    "         label='micro-average ROC curve (area = {0:0.2f})'\n",
    "               ''.format(roc_auc[\"micro\"]))"
   ]
  },
  {
   "cell_type": "markdown",
   "metadata": {},
   "source": [
    "#### Evaluation Matrix for regression task:\n",
    "- MAE\n",
    "- RMSE \n",
    "- MAPE\n",
    "\n",
    "As shown below, MAE, RMSE and MAPE are chosen to evaluate the model performance. Below are the functions that will be used in model creation and evaluation sessions."
   ]
  },
  {
   "cell_type": "code",
   "execution_count": 53,
   "metadata": {},
   "outputs": [],
   "source": [
    "#Divide data into test and training splits\n",
    "from sklearn.model_selection import ShuffleSplit\n",
    "cv = ShuffleSplit(n_splits=10, test_size=0.10, random_state=42)"
   ]
  },
  {
   "cell_type": "code",
   "execution_count": 52,
   "metadata": {},
   "outputs": [],
   "source": [
    "#The below function reference to https://github.com/jakemdrew/DataMiningNotebooks/blob/master/07.%20Regression.ipynb\n",
    "#Use mean absolute error (MAE) to score the regression models created \n",
    "#(the scale of MAE is identical to the response variable)\n",
    "from sklearn.metrics import mean_absolute_error, make_scorer, mean_squared_error\n",
    "\n",
    "#Function for Root mean squared error\n",
    "def rmse(y_actual, y_predicted):\n",
    "    return np.sqrt(mean_squared_error(y_actual, y_predicted))\n",
    "\n",
    "#Function for Mean Absolute Percentage Error (MAPE) - Untested\n",
    "#Adapted from - https://stackoverflow.com/questions/42250958/how-to-optimize-mape-code-in-python\n",
    "def mape(y_actual, y_predicted): \n",
    "    mask = y_actual != 0\n",
    "    return (np.fabs(y_actual - y_predicted)/y_actual)[mask].mean() * 100\n",
    "\n",
    "#Create scorers for rmse and mape functions\n",
    "mae_scorer = make_scorer(score_func=mean_absolute_error, greater_is_better=False)\n",
    "rmse_scorer = make_scorer(score_func=rmse, greater_is_better=False)\n",
    "mape_scorer = make_scorer(score_func=mape, greater_is_better=False)\n",
    "\n",
    "#Make scorer array to pass into cross_validate() function for producing mutiple scores for each cv fold.\n",
    "errorScoring = {'MAE':  mae_scorer, \n",
    "                'RMSE': rmse_scorer,\n",
    "                'MAPE': mape_scorer\n",
    "               }"
   ]
  },
  {
   "cell_type": "code",
   "execution_count": 54,
   "metadata": {},
   "outputs": [],
   "source": [
    "from sklearn.model_selection import cross_validate\n",
    "\n",
    "def EvaluateRegressionEstimator(regEstimator, X, y, cv):\n",
    "    \n",
    "    scores = cross_validate(regEstimator, X, y, scoring=errorScoring, cv=cv, return_train_score=True)\n",
    "\n",
    "    #cross val score sign-flips the outputs of MAE\n",
    "    scores['test_MAE'] = scores['test_MAE'] * -1\n",
    "    scores['test_MAPE'] = scores['test_MAPE'] * -1\n",
    "    scores['test_RMSE'] = scores['test_RMSE'] * -1\n",
    "\n",
    "    #print mean MAE for all folds \n",
    "    maeAvg = scores['test_MAE'].mean()\n",
    "    print_str = \"The average MAE for all cv folds is: \\t\\t\\t {maeAvg:.5}\"\n",
    "    print(print_str.format(maeAvg=maeAvg))\n",
    "\n",
    "    #print mean test_MAPE for all folds\n",
    "    scores['test_MAPE'] = scores['test_MAPE']\n",
    "    mape_avg = scores['test_MAPE'].mean()\n",
    "    print_str = \"The average MAE percentage (MAPE) for all cv folds is: \\t {mape_avg:.5}\"\n",
    "    print(print_str.format(mape_avg=mape_avg))\n",
    "\n",
    "    #print mean MAE for all folds \n",
    "    RMSEavg = scores['test_RMSE'].mean()\n",
    "    print_str = \"The average RMSE for all cv folds is: \\t\\t\\t {RMSEavg:.5}\"\n",
    "    print(print_str.format(RMSEavg=RMSEavg))\n",
    "    print('*********************************************************')\n",
    "\n",
    "    print('Cross Validation Fold Mean Error Scores')\n",
    "    scoresResults = pd.DataFrame()\n",
    "    scoresResults['MAE'] = scores['test_MAE']\n",
    "    scoresResults['MAPE'] = scores['test_MAPE']\n",
    "    scoresResults['RMSE'] = scores['test_RMSE']\n",
    "    return scoresResults"
   ]
  },
  {
   "cell_type": "markdown",
   "metadata": {},
   "source": [
    "### Model Evaluation 2: Training/Testing Split"
   ]
  },
  {
   "cell_type": "markdown",
   "metadata": {},
   "source": [
    "To conduct cross-validation for our model robustness, we need to split the dataset into training and testing set. Below we show two criterias we use in later experiment for the splitting:\n",
    "- ShuffleSplit\n",
    "- Stratified Split\n",
    "\n",
    "In ShuffleSplit we use a proportion of 80/20 for the training/testing dataset.\n",
    "For stratified K fold splitting, we split the dataset to 10 folds, each contains 10% of the whole dataset.\n",
    "\n",
    "Both splits are set to the same random_state number."
   ]
  },
  {
   "cell_type": "markdown",
   "metadata": {},
   "source": [
    "#### For classification task:"
   ]
  },
  {
   "cell_type": "code",
   "execution_count": 152,
   "metadata": {},
   "outputs": [
    {
     "name": "stdout",
     "output_type": "stream",
     "text": [
      "ShuffleSplit(n_splits=3, random_state=42, test_size=0.2, train_size=None)\n"
     ]
    }
   ],
   "source": [
    "# Using ShuffleSplit for Training/Testing Split \n",
    "from sklearn.model_selection import ShuffleSplit\n",
    "\n",
    "num_cv_iterations = 3\n",
    "num_instances = len(schoolData_SPG)\n",
    "cv_object = ShuffleSplit(n_splits=num_cv_iterations,\n",
    "                         test_size  = 0.2,random_state=42)\n",
    "                         \n",
    "print(cv_object)"
   ]
  },
  {
   "cell_type": "code",
   "execution_count": 153,
   "metadata": {},
   "outputs": [
    {
     "name": "stdout",
     "output_type": "stream",
     "text": [
      "StratifiedKFold(n_splits=10, random_state=42, shuffle=False)\n"
     ]
    }
   ],
   "source": [
    "from sklearn.model_selection import StratifiedKFold\n",
    "from sklearn.preprocessing import StandardScaler\n",
    "import numpy as np\n",
    "from sklearn import metrics as mt\n",
    "\n",
    "# create cross validation iterator\n",
    "cv_stra = StratifiedKFold(n_splits=10,random_state=42)\n",
    "\n",
    "print(cv_stra)"
   ]
  },
  {
   "cell_type": "markdown",
   "metadata": {},
   "source": [
    "#### For regression task:"
   ]
  },
  {
   "cell_type": "code",
   "execution_count": 161,
   "metadata": {},
   "outputs": [
    {
     "name": "stdout",
     "output_type": "stream",
     "text": [
      "ShuffleSplit(n_splits=10, random_state=42, test_size=0.2, train_size=None)\n"
     ]
    }
   ],
   "source": [
    "# Using ShuffleSplit for Training/Testing Split \n",
    "from sklearn.model_selection import ShuffleSplit\n",
    "\n",
    "\n",
    "num_cv_iterations = 10\n",
    "num_instances = len(Y_GradRate)\n",
    "cv_object_reg = ShuffleSplit(n_splits=num_cv_iterations,\n",
    "                         test_size  = 0.2,random_state=42)\n",
    "                         \n",
    "print(cv_object_reg)"
   ]
  },
  {
   "cell_type": "markdown",
   "metadata": {},
   "source": [
    "### Model Evaluation 3: Model Creation"
   ]
  },
  {
   "cell_type": "markdown",
   "metadata": {},
   "source": [
    "### A. Classification Model (Add here!)"
   ]
  },
  {
   "cell_type": "markdown",
   "metadata": {},
   "source": [
    "### B. Regression Model (Add here!)"
   ]
  },
  {
   "cell_type": "markdown",
   "metadata": {},
   "source": [
    "#### Method1: Linear Regression"
   ]
  },
  {
   "cell_type": "code",
   "execution_count": 172,
   "metadata": {},
   "outputs": [],
   "source": [
    "#Make new estimator compatible for use with GridSearchCV() and cross_validate()\n",
    "# -  Cap predict function for LinearRegression between 0 and 100\n",
    "# -  See: Roll your own estimator links above for details. \n",
    "from sklearn.base import BaseEstimator, RegressorMixin\n",
    "from sklearn.linear_model import LinearRegression\n",
    "\n",
    "class CappedLinearRegression(LinearRegression):\n",
    "\n",
    "    def predict(self, X):\n",
    "        return np.clip(super(CappedLinearRegression, self).predict(X), 0, 100)"
   ]
  },
  {
   "cell_type": "markdown",
   "metadata": {},
   "source": [
    "Grid Search"
   ]
  },
  {
   "cell_type": "code",
   "execution_count": 173,
   "metadata": {},
   "outputs": [
    {
     "name": "stdout",
     "output_type": "stream",
     "text": [
      "Fitting 10 folds for each of 4 candidates, totalling 40 fits\n"
     ]
    },
    {
     "name": "stderr",
     "output_type": "stream",
     "text": [
      "[Parallel(n_jobs=1)]: Using backend SequentialBackend with 1 concurrent workers.\n",
      "[Parallel(n_jobs=1)]: Done  40 out of  40 | elapsed:    1.9s finished\n"
     ]
    },
    {
     "data": {
      "text/plain": [
       "GridSearchCV(cv=ShuffleSplit(n_splits=10, random_state=0, test_size=0.1, train_size=None),\n",
       "             error_score=nan,\n",
       "             estimator=CappedLinearRegression(copy_X=True, fit_intercept=True,\n",
       "                                              n_jobs=None, normalize=False),\n",
       "             iid='deprecated', n_jobs=None,\n",
       "             param_grid={'fit_intercept': (True, False),\n",
       "                         'normalize': (True, False)},\n",
       "             pre_dispatch='2*n_jobs', refit=True, return_train_score=False,\n",
       "             scoring=make_scorer(mean_absolute_error, greater_is_better=False),\n",
       "             verbose=1)"
      ]
     },
     "execution_count": 173,
     "metadata": {},
     "output_type": "execute_result"
    }
   ],
   "source": [
    "#Create a Linear Regression object and perform a grid search to find the best parameters\n",
    "linreg = CappedLinearRegression()\n",
    "parameters = {'normalize':(True,False), 'fit_intercept':(True,False)}\n",
    "\n",
    "#Create a grid search object using the  \n",
    "from sklearn.model_selection import GridSearchCV\n",
    "regGridSearch = GridSearchCV(estimator=linreg\n",
    "                   , verbose=1 # low verbosity\n",
    "                   , param_grid=parameters\n",
    "                   , cv=cv # KFolds = 10\n",
    "                   , scoring=mae_scorer)\n",
    "\n",
    "#Perform hyperparameter search to find the best combination of parameters for our data\n",
    "regGridSearch.fit(X_predGradRate_pick, Y_GradRate)"
   ]
  },
  {
   "cell_type": "code",
   "execution_count": 174,
   "metadata": {},
   "outputs": [
    {
     "data": {
      "text/plain": [
       "CappedLinearRegression(copy_X=True, fit_intercept=False, n_jobs=None,\n",
       "                       normalize=True)"
      ]
     },
     "execution_count": 174,
     "metadata": {},
     "output_type": "execute_result"
    }
   ],
   "source": [
    "#Print the parameterization of the best estimator\n",
    "regGridSearch.best_estimator_"
   ]
  },
  {
   "cell_type": "markdown",
   "metadata": {},
   "source": [
    "Cross Validation"
   ]
  },
  {
   "cell_type": "code",
   "execution_count": 175,
   "metadata": {},
   "outputs": [
    {
     "name": "stdout",
     "output_type": "stream",
     "text": [
      "The average MAE for all cv folds is: \t\t\t 3.781\n",
      "The average MAE percentage (MAPE) for all cv folds is: \t 4.3004\n",
      "The average RMSE for all cv folds is: \t\t\t 5.3113\n",
      "*********************************************************\n",
      "Cross Validation Fold Mean Error Scores\n"
     ]
    },
    {
     "data": {
      "text/html": [
       "<div>\n",
       "<style scoped>\n",
       "    .dataframe tbody tr th:only-of-type {\n",
       "        vertical-align: middle;\n",
       "    }\n",
       "\n",
       "    .dataframe tbody tr th {\n",
       "        vertical-align: top;\n",
       "    }\n",
       "\n",
       "    .dataframe thead th {\n",
       "        text-align: right;\n",
       "    }\n",
       "</style>\n",
       "<table border=\"1\" class=\"dataframe\">\n",
       "  <thead>\n",
       "    <tr style=\"text-align: right;\">\n",
       "      <th></th>\n",
       "      <th>MAE</th>\n",
       "      <th>MAPE</th>\n",
       "      <th>RMSE</th>\n",
       "    </tr>\n",
       "  </thead>\n",
       "  <tbody>\n",
       "    <tr>\n",
       "      <th>0</th>\n",
       "      <td>4.030202</td>\n",
       "      <td>4.602509</td>\n",
       "      <td>5.386333</td>\n",
       "    </tr>\n",
       "    <tr>\n",
       "      <th>1</th>\n",
       "      <td>3.732068</td>\n",
       "      <td>4.248927</td>\n",
       "      <td>5.141137</td>\n",
       "    </tr>\n",
       "    <tr>\n",
       "      <th>2</th>\n",
       "      <td>3.504560</td>\n",
       "      <td>4.024670</td>\n",
       "      <td>4.854603</td>\n",
       "    </tr>\n",
       "    <tr>\n",
       "      <th>3</th>\n",
       "      <td>3.914310</td>\n",
       "      <td>4.532407</td>\n",
       "      <td>5.538993</td>\n",
       "    </tr>\n",
       "    <tr>\n",
       "      <th>4</th>\n",
       "      <td>3.622144</td>\n",
       "      <td>4.070630</td>\n",
       "      <td>4.944082</td>\n",
       "    </tr>\n",
       "    <tr>\n",
       "      <th>5</th>\n",
       "      <td>3.818926</td>\n",
       "      <td>4.303090</td>\n",
       "      <td>5.190721</td>\n",
       "    </tr>\n",
       "    <tr>\n",
       "      <th>6</th>\n",
       "      <td>3.717176</td>\n",
       "      <td>4.225566</td>\n",
       "      <td>5.538340</td>\n",
       "    </tr>\n",
       "    <tr>\n",
       "      <th>7</th>\n",
       "      <td>3.969182</td>\n",
       "      <td>4.475840</td>\n",
       "      <td>5.374302</td>\n",
       "    </tr>\n",
       "    <tr>\n",
       "      <th>8</th>\n",
       "      <td>3.849019</td>\n",
       "      <td>4.381076</td>\n",
       "      <td>6.347365</td>\n",
       "    </tr>\n",
       "    <tr>\n",
       "      <th>9</th>\n",
       "      <td>3.652015</td>\n",
       "      <td>4.139020</td>\n",
       "      <td>4.796951</td>\n",
       "    </tr>\n",
       "  </tbody>\n",
       "</table>\n",
       "</div>"
      ],
      "text/plain": [
       "        MAE      MAPE      RMSE\n",
       "0  4.030202  4.602509  5.386333\n",
       "1  3.732068  4.248927  5.141137\n",
       "2  3.504560  4.024670  4.854603\n",
       "3  3.914310  4.532407  5.538993\n",
       "4  3.622144  4.070630  4.944082\n",
       "5  3.818926  4.303090  5.190721\n",
       "6  3.717176  4.225566  5.538340\n",
       "7  3.969182  4.475840  5.374302\n",
       "8  3.849019  4.381076  6.347365\n",
       "9  3.652015  4.139020  4.796951"
      ]
     },
     "execution_count": 175,
     "metadata": {},
     "output_type": "execute_result"
    }
   ],
   "source": [
    "#Create CappedLinearRegression predictions between 0 and 100% using the best parameters for our Linear Regression object\n",
    "regEstimator = regGridSearch.best_estimator_\n",
    "\n",
    "#Evaluate the regression estimator above using our pre-defined cross validation and scoring metrics. \n",
    "EvaluateRegressionEstimator(regEstimator, X_predGradRate_pick, Y_GradRate, cv_object_reg)"
   ]
  },
  {
   "cell_type": "code",
   "execution_count": 177,
   "metadata": {},
   "outputs": [],
   "source": [
    "regEstimator_linear = regEstimator"
   ]
  },
  {
   "cell_type": "markdown",
   "metadata": {},
   "source": [
    "- Linear regression errors can be used as a baseline to compare with results from other regressors."
   ]
  },
  {
   "cell_type": "markdown",
   "metadata": {},
   "source": [
    "#### Method2: Lasso Regression"
   ]
  },
  {
   "cell_type": "code",
   "execution_count": 184,
   "metadata": {},
   "outputs": [
    {
     "name": "stdout",
     "output_type": "stream",
     "text": [
      "Wall time: 997 µs\n"
     ]
    }
   ],
   "source": [
    "%%time\n",
    "#Create a regression object and perform a grid search to find the best parameters\n",
    "from sklearn.linear_model import Lasso\n",
    "\n",
    "reg = Lasso(fit_intercept=True, normalize=True,copy_X=True\n",
    "          , max_iter=10000, precompute=True, tol=0.0001, random_state=0)\n",
    "\n",
    "#Test parameters \n",
    "alpha = [0.001, 0.1, 1, 10, 20]\n",
    "selection = ['cyclic','random']\n",
    "warm_start = [True, False]\n",
    "parameters = {'alpha': alpha, 'selection': selection, 'warm_start': warm_start}"
   ]
  },
  {
   "cell_type": "code",
   "execution_count": 185,
   "metadata": {},
   "outputs": [
    {
     "name": "stdout",
     "output_type": "stream",
     "text": [
      "Fitting 3 folds for each of 20 candidates, totalling 60 fits\n"
     ]
    },
    {
     "name": "stderr",
     "output_type": "stream",
     "text": [
      "[Parallel(n_jobs=-1)]: Using backend LokyBackend with 4 concurrent workers.\n",
      "[Parallel(n_jobs=-1)]: Done  60 out of  60 | elapsed:    0.8s finished\n"
     ]
    },
    {
     "data": {
      "text/plain": [
       "RandomizedSearchCV(cv=3, error_score=nan,\n",
       "                   estimator=Lasso(alpha=1.0, copy_X=True, fit_intercept=True,\n",
       "                                   max_iter=10000, normalize=True,\n",
       "                                   positive=False, precompute=True,\n",
       "                                   random_state=0, selection='cyclic',\n",
       "                                   tol=0.0001, warm_start=False),\n",
       "                   iid='deprecated', n_iter=100, n_jobs=-1,\n",
       "                   param_distributions={'alpha': [0.001, 0.1, 1, 10, 20],\n",
       "                                        'selection': ['cyclic', 'random'],\n",
       "                                        'warm_start': [True, False]},\n",
       "                   pre_dispatch='2*n_jobs', random_state=42, refit=True,\n",
       "                   return_train_score=False, scoring=None, verbose=2)"
      ]
     },
     "execution_count": 185,
     "metadata": {},
     "output_type": "execute_result"
    }
   ],
   "source": [
    "# Random search of parameters, using 3 fold cross validation, \n",
    "# search across 100 different combinations, and use all available cores\n",
    "from sklearn.model_selection import RandomizedSearchCV\n",
    "regGridSearch = RandomizedSearchCV(estimator = reg, param_distributions = parameters, n_iter = 100, cv = 3, verbose=2, random_state=42, n_jobs = -1)\n",
    "# Fit the random search model\n",
    "regGridSearch.fit(X_predGradRate_pick, Y_GradRate)"
   ]
  },
  {
   "cell_type": "code",
   "execution_count": 186,
   "metadata": {},
   "outputs": [
    {
     "data": {
      "text/plain": [
       "Lasso(alpha=0.001, copy_X=True, fit_intercept=True, max_iter=10000,\n",
       "      normalize=True, positive=False, precompute=True, random_state=0,\n",
       "      selection='cyclic', tol=0.0001, warm_start=True)"
      ]
     },
     "execution_count": 186,
     "metadata": {},
     "output_type": "execute_result"
    }
   ],
   "source": [
    "#Print the parameterization of the best estimator\n",
    "regGridSearch.best_estimator_"
   ]
  },
  {
   "cell_type": "code",
   "execution_count": 187,
   "metadata": {},
   "outputs": [
    {
     "name": "stdout",
     "output_type": "stream",
     "text": [
      "The average MAE for all cv folds is: \t\t\t 3.7278\n",
      "The average MAE percentage (MAPE) for all cv folds is: \t 4.2409\n",
      "The average RMSE for all cv folds is: \t\t\t 5.0167\n",
      "*********************************************************\n",
      "Cross Validation Fold Mean Error Scores\n"
     ]
    },
    {
     "data": {
      "text/html": [
       "<div>\n",
       "<style scoped>\n",
       "    .dataframe tbody tr th:only-of-type {\n",
       "        vertical-align: middle;\n",
       "    }\n",
       "\n",
       "    .dataframe tbody tr th {\n",
       "        vertical-align: top;\n",
       "    }\n",
       "\n",
       "    .dataframe thead th {\n",
       "        text-align: right;\n",
       "    }\n",
       "</style>\n",
       "<table border=\"1\" class=\"dataframe\">\n",
       "  <thead>\n",
       "    <tr style=\"text-align: right;\">\n",
       "      <th></th>\n",
       "      <th>MAE</th>\n",
       "      <th>MAPE</th>\n",
       "      <th>RMSE</th>\n",
       "    </tr>\n",
       "  </thead>\n",
       "  <tbody>\n",
       "    <tr>\n",
       "      <th>0</th>\n",
       "      <td>3.958126</td>\n",
       "      <td>4.526061</td>\n",
       "      <td>5.281526</td>\n",
       "    </tr>\n",
       "    <tr>\n",
       "      <th>1</th>\n",
       "      <td>3.765460</td>\n",
       "      <td>4.282703</td>\n",
       "      <td>5.042052</td>\n",
       "    </tr>\n",
       "    <tr>\n",
       "      <th>2</th>\n",
       "      <td>3.597048</td>\n",
       "      <td>4.120673</td>\n",
       "      <td>4.910314</td>\n",
       "    </tr>\n",
       "    <tr>\n",
       "      <th>3</th>\n",
       "      <td>3.907647</td>\n",
       "      <td>4.526584</td>\n",
       "      <td>5.464033</td>\n",
       "    </tr>\n",
       "    <tr>\n",
       "      <th>4</th>\n",
       "      <td>3.682695</td>\n",
       "      <td>4.138153</td>\n",
       "      <td>4.865911</td>\n",
       "    </tr>\n",
       "    <tr>\n",
       "      <th>5</th>\n",
       "      <td>3.729186</td>\n",
       "      <td>4.191850</td>\n",
       "      <td>4.980548</td>\n",
       "    </tr>\n",
       "    <tr>\n",
       "      <th>6</th>\n",
       "      <td>3.463969</td>\n",
       "      <td>3.954264</td>\n",
       "      <td>4.648912</td>\n",
       "    </tr>\n",
       "    <tr>\n",
       "      <th>7</th>\n",
       "      <td>3.885060</td>\n",
       "      <td>4.373731</td>\n",
       "      <td>5.164967</td>\n",
       "    </tr>\n",
       "    <tr>\n",
       "      <th>8</th>\n",
       "      <td>3.660765</td>\n",
       "      <td>4.183670</td>\n",
       "      <td>5.136378</td>\n",
       "    </tr>\n",
       "    <tr>\n",
       "      <th>9</th>\n",
       "      <td>3.627640</td>\n",
       "      <td>4.111376</td>\n",
       "      <td>4.672744</td>\n",
       "    </tr>\n",
       "  </tbody>\n",
       "</table>\n",
       "</div>"
      ],
      "text/plain": [
       "        MAE      MAPE      RMSE\n",
       "0  3.958126  4.526061  5.281526\n",
       "1  3.765460  4.282703  5.042052\n",
       "2  3.597048  4.120673  4.910314\n",
       "3  3.907647  4.526584  5.464033\n",
       "4  3.682695  4.138153  4.865911\n",
       "5  3.729186  4.191850  4.980548\n",
       "6  3.463969  3.954264  4.648912\n",
       "7  3.885060  4.373731  5.164967\n",
       "8  3.660765  4.183670  5.136378\n",
       "9  3.627640  4.111376  4.672744"
      ]
     },
     "execution_count": 187,
     "metadata": {},
     "output_type": "execute_result"
    }
   ],
   "source": [
    "EvaluateRegressionEstimator(regGridSearch.best_estimator_, X_predGradRate_pick, Y_GradRate, cv_object_reg)"
   ]
  },
  {
   "cell_type": "code",
   "execution_count": 207,
   "metadata": {},
   "outputs": [],
   "source": [
    "regEstimator_lasso = Lasso(alpha=0.001, copy_X=True, fit_intercept=True, max_iter=10000,\n",
    "      normalize=True, positive=False, precompute=True, random_state=0,\n",
    "      selection='cyclic', tol=0.0001, warm_start=True)"
   ]
  },
  {
   "cell_type": "markdown",
   "metadata": {},
   "source": [
    "#### Method3: Ridge Regression"
   ]
  },
  {
   "cell_type": "code",
   "execution_count": 188,
   "metadata": {},
   "outputs": [
    {
     "name": "stdout",
     "output_type": "stream",
     "text": [
      "Fitting 10 folds for each of 36 candidates, totalling 360 fits\n"
     ]
    },
    {
     "name": "stderr",
     "output_type": "stream",
     "text": [
      "[Parallel(n_jobs=8)]: Using backend LokyBackend with 8 concurrent workers.\n",
      "[Parallel(n_jobs=8)]: Done  34 tasks      | elapsed:    1.9s\n",
      "[Parallel(n_jobs=8)]: Done 184 tasks      | elapsed:   52.6s\n",
      "[Parallel(n_jobs=8)]: Done 360 out of 360 | elapsed:   59.8s finished\n"
     ]
    },
    {
     "name": "stdout",
     "output_type": "stream",
     "text": [
      "Wall time: 1min\n"
     ]
    },
    {
     "data": {
      "text/plain": [
       "GridSearchCV(cv=ShuffleSplit(n_splits=10, random_state=0, test_size=0.1, train_size=None),\n",
       "             error_score=nan,\n",
       "             estimator=Ridge(alpha=1.0, copy_X=True, fit_intercept=True,\n",
       "                             max_iter=1000, normalize=True, random_state=0,\n",
       "                             solver='auto', tol=0.0001),\n",
       "             iid='deprecated', n_jobs=8,\n",
       "             param_grid={'alpha': [0.001, 0.1, 1, 5, 10, 20],\n",
       "                         'solver': ['svd', 'cholesky', 'lsqr', 'sparse_cg',\n",
       "                                    'sag', 'saga']},\n",
       "             pre_dispatch='2*n_jobs', refit=True, return_train_score=False,\n",
       "             scoring=make_scorer(mean_absolute_error, greater_is_better=False),\n",
       "             verbose=1)"
      ]
     },
     "execution_count": 188,
     "metadata": {},
     "output_type": "execute_result"
    }
   ],
   "source": [
    "%%time\n",
    "#Create a regression object and perform a grid search to find the best parameters\n",
    "from sklearn.linear_model import Ridge\n",
    "\n",
    "reg = Ridge(fit_intercept=True, normalize=True,copy_X=True\n",
    "          , max_iter=1000, tol=0.0001, random_state=0)\n",
    "\n",
    "#Test parameters \n",
    "alpha = [0.001, 0.1, 1, 5, 10, 20]\n",
    "solver = [ 'svd', 'cholesky', 'lsqr', 'sparse_cg', 'sag', 'saga']\n",
    "parameters = {'alpha': alpha, 'solver': solver}\n",
    "\n",
    "#Create a grid search object using the parameters above\n",
    "from sklearn.model_selection import GridSearchCV\n",
    "regGridSearch = GridSearchCV(estimator=reg\n",
    "                   , n_jobs=8 # jobs to run in parallel\n",
    "                   , verbose=1 # low verbosity\n",
    "                   , param_grid=parameters\n",
    "                   , cv=cv # KFolds = 10\n",
    "                   , scoring=mae_scorer)\n",
    "\n",
    "#Perform hyperparameter search to find the best combination of parameters for our data\n",
    "regGridSearch.fit(X_predGradRate_pick, Y_GradRate)"
   ]
  },
  {
   "cell_type": "code",
   "execution_count": 189,
   "metadata": {},
   "outputs": [
    {
     "data": {
      "text/plain": [
       "Ridge(alpha=0.1, copy_X=True, fit_intercept=True, max_iter=1000, normalize=True,\n",
       "      random_state=0, solver='lsqr', tol=0.0001)"
      ]
     },
     "execution_count": 189,
     "metadata": {},
     "output_type": "execute_result"
    }
   ],
   "source": [
    "#Display the best estimator parameters\n",
    "regGridSearch.best_estimator_"
   ]
  },
  {
   "cell_type": "code",
   "execution_count": 190,
   "metadata": {},
   "outputs": [
    {
     "name": "stdout",
     "output_type": "stream",
     "text": [
      "The average MAE for all cv folds is: \t\t\t 3.7776\n",
      "The average MAE percentage (MAPE) for all cv folds is: \t 4.2973\n",
      "The average RMSE for all cv folds is: \t\t\t 5.0698\n",
      "*********************************************************\n",
      "Cross Validation Fold Mean Error Scores\n"
     ]
    },
    {
     "data": {
      "text/html": [
       "<div>\n",
       "<style scoped>\n",
       "    .dataframe tbody tr th:only-of-type {\n",
       "        vertical-align: middle;\n",
       "    }\n",
       "\n",
       "    .dataframe tbody tr th {\n",
       "        vertical-align: top;\n",
       "    }\n",
       "\n",
       "    .dataframe thead th {\n",
       "        text-align: right;\n",
       "    }\n",
       "</style>\n",
       "<table border=\"1\" class=\"dataframe\">\n",
       "  <thead>\n",
       "    <tr style=\"text-align: right;\">\n",
       "      <th></th>\n",
       "      <th>MAE</th>\n",
       "      <th>MAPE</th>\n",
       "      <th>RMSE</th>\n",
       "    </tr>\n",
       "  </thead>\n",
       "  <tbody>\n",
       "    <tr>\n",
       "      <th>0</th>\n",
       "      <td>3.991388</td>\n",
       "      <td>4.569749</td>\n",
       "      <td>5.312759</td>\n",
       "    </tr>\n",
       "    <tr>\n",
       "      <th>1</th>\n",
       "      <td>3.832324</td>\n",
       "      <td>4.352253</td>\n",
       "      <td>5.107567</td>\n",
       "    </tr>\n",
       "    <tr>\n",
       "      <th>2</th>\n",
       "      <td>3.565917</td>\n",
       "      <td>4.084237</td>\n",
       "      <td>4.886201</td>\n",
       "    </tr>\n",
       "    <tr>\n",
       "      <th>3</th>\n",
       "      <td>3.981126</td>\n",
       "      <td>4.607789</td>\n",
       "      <td>5.539893</td>\n",
       "    </tr>\n",
       "    <tr>\n",
       "      <th>4</th>\n",
       "      <td>3.722056</td>\n",
       "      <td>4.186120</td>\n",
       "      <td>4.909159</td>\n",
       "    </tr>\n",
       "    <tr>\n",
       "      <th>5</th>\n",
       "      <td>3.791476</td>\n",
       "      <td>4.265086</td>\n",
       "      <td>5.052601</td>\n",
       "    </tr>\n",
       "    <tr>\n",
       "      <th>6</th>\n",
       "      <td>3.473170</td>\n",
       "      <td>3.963489</td>\n",
       "      <td>4.649137</td>\n",
       "    </tr>\n",
       "    <tr>\n",
       "      <th>7</th>\n",
       "      <td>4.006161</td>\n",
       "      <td>4.505586</td>\n",
       "      <td>5.271517</td>\n",
       "    </tr>\n",
       "    <tr>\n",
       "      <th>8</th>\n",
       "      <td>3.709190</td>\n",
       "      <td>4.242415</td>\n",
       "      <td>5.174782</td>\n",
       "    </tr>\n",
       "    <tr>\n",
       "      <th>9</th>\n",
       "      <td>3.703347</td>\n",
       "      <td>4.196511</td>\n",
       "      <td>4.794333</td>\n",
       "    </tr>\n",
       "  </tbody>\n",
       "</table>\n",
       "</div>"
      ],
      "text/plain": [
       "        MAE      MAPE      RMSE\n",
       "0  3.991388  4.569749  5.312759\n",
       "1  3.832324  4.352253  5.107567\n",
       "2  3.565917  4.084237  4.886201\n",
       "3  3.981126  4.607789  5.539893\n",
       "4  3.722056  4.186120  4.909159\n",
       "5  3.791476  4.265086  5.052601\n",
       "6  3.473170  3.963489  4.649137\n",
       "7  4.006161  4.505586  5.271517\n",
       "8  3.709190  4.242415  5.174782\n",
       "9  3.703347  4.196511  4.794333"
      ]
     },
     "execution_count": 190,
     "metadata": {},
     "output_type": "execute_result"
    }
   ],
   "source": [
    "#Create a regression estimator with best parameters for cross validation\n",
    "regEstimator = regGridSearch.best_estimator_\n",
    "\n",
    "#Evaluate the regression estimator above using our pre-defined cross validation and scoring metrics.\n",
    "EvaluateRegressionEstimator(regEstimator, X_predGradRate_pick, Y_GradRate, cv_object_reg)"
   ]
  },
  {
   "cell_type": "code",
   "execution_count": 196,
   "metadata": {},
   "outputs": [],
   "source": [
    "regEstimator_ridge = Ridge(alpha=0.1, copy_X=True, fit_intercept=True, max_iter=1000, normalize=True,\n",
    "      random_state=0, solver='lsqr', tol=0.0001)"
   ]
  },
  {
   "cell_type": "markdown",
   "metadata": {},
   "source": [
    "#### Method4: Elastic Net Regression"
   ]
  },
  {
   "cell_type": "code",
   "execution_count": 191,
   "metadata": {},
   "outputs": [
    {
     "name": "stdout",
     "output_type": "stream",
     "text": [
      "Fitting 10 folds for each of 96 candidates, totalling 960 fits\n"
     ]
    },
    {
     "name": "stderr",
     "output_type": "stream",
     "text": [
      "[Parallel(n_jobs=8)]: Using backend LokyBackend with 8 concurrent workers.\n",
      "[Parallel(n_jobs=8)]: Done  52 tasks      | elapsed:    1.1s\n",
      "[Parallel(n_jobs=8)]: Done 352 tasks      | elapsed:    6.2s\n",
      "[Parallel(n_jobs=8)]: Done 852 tasks      | elapsed:   14.4s\n"
     ]
    },
    {
     "name": "stdout",
     "output_type": "stream",
     "text": [
      "Wall time: 16.3 s\n"
     ]
    },
    {
     "name": "stderr",
     "output_type": "stream",
     "text": [
      "[Parallel(n_jobs=8)]: Done 960 out of 960 | elapsed:   15.9s finished\n"
     ]
    },
    {
     "data": {
      "text/plain": [
       "GridSearchCV(cv=ShuffleSplit(n_splits=10, random_state=0, test_size=0.1, train_size=None),\n",
       "             error_score=nan,\n",
       "             estimator=ElasticNet(alpha=1.0, copy_X=True, fit_intercept=True,\n",
       "                                  l1_ratio=0.5, max_iter=10000, normalize=True,\n",
       "                                  positive=False, precompute=True,\n",
       "                                  random_state=0, selection='cyclic',\n",
       "                                  tol=0.0001, warm_start=False),\n",
       "             iid='deprecated', n_jobs=8,\n",
       "             param_grid={'alpha': [0.001, 0.1, 1, 10],\n",
       "                         'l1_ratio': [0.001, 0.01, 0.1, 0.5, 0.75, 1],\n",
       "                         'selection': ['cyclic', 'random'],\n",
       "                         'warm_start': [True, False]},\n",
       "             pre_dispatch='2*n_jobs', refit=True, return_train_score=False,\n",
       "             scoring=make_scorer(mean_absolute_error, greater_is_better=False),\n",
       "             verbose=1)"
      ]
     },
     "execution_count": 191,
     "metadata": {},
     "output_type": "execute_result"
    }
   ],
   "source": [
    "%%time\n",
    "#Create a regression object and perform a grid search to find the best parameters\n",
    "from sklearn.linear_model import ElasticNet\n",
    "\n",
    "reg = ElasticNet(fit_intercept=True, normalize=True, precompute=True, copy_X=True\n",
    "          , max_iter=10000, tol=0.0001, random_state=0)\n",
    " \n",
    "#Test parameters\n",
    "l1_ratio = [0.001, 0.01, 0.1, 0.5, 0.75, 1]\n",
    "alpha = [0.001, 0.1, 1, 10]\n",
    "selection = ['cyclic','random']\n",
    "warm_start = [True, False]\n",
    "parameters = {'l1_ratio': l1_ratio, 'alpha': alpha, 'selection': selection, 'warm_start': warm_start}\n",
    "\n",
    "#Create a grid search object using the parameters above\n",
    "from sklearn.model_selection import GridSearchCV\n",
    "regGridSearch = GridSearchCV(estimator=reg\n",
    "                   , n_jobs=8 # jobs to run in parallel\n",
    "                   , verbose=1 # low verbosity\n",
    "                   , param_grid=parameters\n",
    "                   , cv=cv # KFolds = 10\n",
    "                   , scoring=mae_scorer)\n",
    "\n",
    "#Perform hyperparameter search to find the best combination of parameters for our data\n",
    "regGridSearch.fit(X_predGradRate_pick, Y_GradRate)"
   ]
  },
  {
   "cell_type": "code",
   "execution_count": 192,
   "metadata": {},
   "outputs": [
    {
     "data": {
      "text/plain": [
       "ElasticNet(alpha=0.001, copy_X=True, fit_intercept=True, l1_ratio=1,\n",
       "           max_iter=10000, normalize=True, positive=False, precompute=True,\n",
       "           random_state=0, selection='random', tol=0.0001, warm_start=True)"
      ]
     },
     "execution_count": 192,
     "metadata": {},
     "output_type": "execute_result"
    }
   ],
   "source": [
    "#Display the best estimator parameters\n",
    "regGridSearch.best_estimator_"
   ]
  },
  {
   "cell_type": "code",
   "execution_count": 193,
   "metadata": {
    "scrolled": true
   },
   "outputs": [
    {
     "name": "stdout",
     "output_type": "stream",
     "text": [
      "The average MAE for all cv folds is: \t\t\t 3.7278\n",
      "The average MAE percentage (MAPE) for all cv folds is: \t 4.241\n",
      "The average RMSE for all cv folds is: \t\t\t 5.0168\n",
      "*********************************************************\n",
      "Cross Validation Fold Mean Error Scores\n"
     ]
    },
    {
     "data": {
      "text/html": [
       "<div>\n",
       "<style scoped>\n",
       "    .dataframe tbody tr th:only-of-type {\n",
       "        vertical-align: middle;\n",
       "    }\n",
       "\n",
       "    .dataframe tbody tr th {\n",
       "        vertical-align: top;\n",
       "    }\n",
       "\n",
       "    .dataframe thead th {\n",
       "        text-align: right;\n",
       "    }\n",
       "</style>\n",
       "<table border=\"1\" class=\"dataframe\">\n",
       "  <thead>\n",
       "    <tr style=\"text-align: right;\">\n",
       "      <th></th>\n",
       "      <th>MAE</th>\n",
       "      <th>MAPE</th>\n",
       "      <th>RMSE</th>\n",
       "    </tr>\n",
       "  </thead>\n",
       "  <tbody>\n",
       "    <tr>\n",
       "      <th>0</th>\n",
       "      <td>3.958065</td>\n",
       "      <td>4.526038</td>\n",
       "      <td>5.281583</td>\n",
       "    </tr>\n",
       "    <tr>\n",
       "      <th>1</th>\n",
       "      <td>3.765588</td>\n",
       "      <td>4.282855</td>\n",
       "      <td>5.042087</td>\n",
       "    </tr>\n",
       "    <tr>\n",
       "      <th>2</th>\n",
       "      <td>3.597344</td>\n",
       "      <td>4.120997</td>\n",
       "      <td>4.910623</td>\n",
       "    </tr>\n",
       "    <tr>\n",
       "      <th>3</th>\n",
       "      <td>3.907880</td>\n",
       "      <td>4.526849</td>\n",
       "      <td>5.464369</td>\n",
       "    </tr>\n",
       "    <tr>\n",
       "      <th>4</th>\n",
       "      <td>3.682284</td>\n",
       "      <td>4.137743</td>\n",
       "      <td>4.865584</td>\n",
       "    </tr>\n",
       "    <tr>\n",
       "      <th>5</th>\n",
       "      <td>3.729408</td>\n",
       "      <td>4.192091</td>\n",
       "      <td>4.980690</td>\n",
       "    </tr>\n",
       "    <tr>\n",
       "      <th>6</th>\n",
       "      <td>3.463965</td>\n",
       "      <td>3.954278</td>\n",
       "      <td>4.648838</td>\n",
       "    </tr>\n",
       "    <tr>\n",
       "      <th>7</th>\n",
       "      <td>3.885004</td>\n",
       "      <td>4.373666</td>\n",
       "      <td>5.164939</td>\n",
       "    </tr>\n",
       "    <tr>\n",
       "      <th>8</th>\n",
       "      <td>3.660996</td>\n",
       "      <td>4.183964</td>\n",
       "      <td>5.136645</td>\n",
       "    </tr>\n",
       "    <tr>\n",
       "      <th>9</th>\n",
       "      <td>3.627731</td>\n",
       "      <td>4.111482</td>\n",
       "      <td>4.672796</td>\n",
       "    </tr>\n",
       "  </tbody>\n",
       "</table>\n",
       "</div>"
      ],
      "text/plain": [
       "        MAE      MAPE      RMSE\n",
       "0  3.958065  4.526038  5.281583\n",
       "1  3.765588  4.282855  5.042087\n",
       "2  3.597344  4.120997  4.910623\n",
       "3  3.907880  4.526849  5.464369\n",
       "4  3.682284  4.137743  4.865584\n",
       "5  3.729408  4.192091  4.980690\n",
       "6  3.463965  3.954278  4.648838\n",
       "7  3.885004  4.373666  5.164939\n",
       "8  3.660996  4.183964  5.136645\n",
       "9  3.627731  4.111482  4.672796"
      ]
     },
     "execution_count": 193,
     "metadata": {},
     "output_type": "execute_result"
    }
   ],
   "source": [
    "#Create a regression estimator with best parameters for cross validation\n",
    "regEstimator = regGridSearch.best_estimator_\n",
    "\n",
    "#Evaluate the regression estimator above using our pre-defined cross validation and scoring metrics.\n",
    "EvaluateRegressionEstimator(regEstimator, X_predGradRate_pick, Y_GradRate, cv_object_reg)"
   ]
  },
  {
   "cell_type": "code",
   "execution_count": 197,
   "metadata": {},
   "outputs": [],
   "source": [
    "regEstimator_elastic=ElasticNet(alpha=0.001, copy_X=True, fit_intercept=True, l1_ratio=1,\n",
    "           max_iter=10000, normalize=True, positive=False, precompute=True,\n",
    "           random_state=0, selection='random', tol=0.0001, warm_start=True)"
   ]
  },
  {
   "cell_type": "markdown",
   "metadata": {},
   "source": [
    "#### Method4: Random Forest Regression"
   ]
  },
  {
   "cell_type": "code",
   "execution_count": 198,
   "metadata": {},
   "outputs": [
    {
     "name": "stdout",
     "output_type": "stream",
     "text": [
      "Wall time: 0 ns\n"
     ]
    }
   ],
   "source": [
    "%%time\n",
    "#Create a Linear Regression object and perform a grid search to find the best parameters\n",
    "from sklearn.ensemble import RandomForestRegressor\n",
    "\n",
    "linreg = RandomForestRegressor()\n",
    "parameters = {'bootstrap': [True, False],\n",
    "               'max_depth': [10, 20, 30, 40, 50, 60, 70, 80, 90, 100, 110, None],\n",
    "               'max_features': ['auto', 'sqrt'],\n",
    "               'min_samples_leaf': [1, 2, 4],\n",
    "               'min_samples_split': [2, 5, 10],\n",
    "               'n_estimators': [130, 180, 230]}"
   ]
  },
  {
   "cell_type": "code",
   "execution_count": null,
   "metadata": {},
   "outputs": [],
   "source": [
    "# Random search of parameters, using 3 fold cross validation, \n",
    "# search across 100 different combinations, and use all available cores\n",
    "from sklearn.model_selection import RandomizedSearchCV\n",
    "regGridSearch = RandomizedSearchCV(estimator = reg, param_distributions = parameters, n_iter = 100, cv = 3, verbose=2, random_state=42, n_jobs = -1)\n",
    "# Fit the random search model\n",
    "regGridSearch.fit(X_predGradRate_pick, Y_GradRate)"
   ]
  },
  {
   "cell_type": "code",
   "execution_count": null,
   "metadata": {},
   "outputs": [],
   "source": [
    "#Display the best estimator parameters\n",
    "regGridSearch.best_estimator_"
   ]
  },
  {
   "cell_type": "code",
   "execution_count": 199,
   "metadata": {
    "scrolled": true
   },
   "outputs": [
    {
     "name": "stdout",
     "output_type": "stream",
     "text": [
      "The average MAE for all cv folds is: \t\t\t 3.5626\n",
      "The average MAE percentage (MAPE) for all cv folds is: \t 4.0712\n",
      "The average RMSE for all cv folds is: \t\t\t 4.7978\n",
      "*********************************************************\n",
      "Cross Validation Fold Mean Error Scores\n",
      "Wall time: 38.5 s\n"
     ]
    },
    {
     "data": {
      "text/html": [
       "<div>\n",
       "<style scoped>\n",
       "    .dataframe tbody tr th:only-of-type {\n",
       "        vertical-align: middle;\n",
       "    }\n",
       "\n",
       "    .dataframe tbody tr th {\n",
       "        vertical-align: top;\n",
       "    }\n",
       "\n",
       "    .dataframe thead th {\n",
       "        text-align: right;\n",
       "    }\n",
       "</style>\n",
       "<table border=\"1\" class=\"dataframe\">\n",
       "  <thead>\n",
       "    <tr style=\"text-align: right;\">\n",
       "      <th></th>\n",
       "      <th>MAE</th>\n",
       "      <th>MAPE</th>\n",
       "      <th>RMSE</th>\n",
       "    </tr>\n",
       "  </thead>\n",
       "  <tbody>\n",
       "    <tr>\n",
       "      <th>0</th>\n",
       "      <td>3.730118</td>\n",
       "      <td>4.301101</td>\n",
       "      <td>4.982039</td>\n",
       "    </tr>\n",
       "    <tr>\n",
       "      <th>1</th>\n",
       "      <td>3.677545</td>\n",
       "      <td>4.190858</td>\n",
       "      <td>4.739596</td>\n",
       "    </tr>\n",
       "    <tr>\n",
       "      <th>2</th>\n",
       "      <td>3.400732</td>\n",
       "      <td>3.917889</td>\n",
       "      <td>4.674852</td>\n",
       "    </tr>\n",
       "    <tr>\n",
       "      <th>3</th>\n",
       "      <td>3.746934</td>\n",
       "      <td>4.350831</td>\n",
       "      <td>5.297056</td>\n",
       "    </tr>\n",
       "    <tr>\n",
       "      <th>4</th>\n",
       "      <td>3.659453</td>\n",
       "      <td>4.149805</td>\n",
       "      <td>4.787459</td>\n",
       "    </tr>\n",
       "    <tr>\n",
       "      <th>5</th>\n",
       "      <td>3.361619</td>\n",
       "      <td>3.792805</td>\n",
       "      <td>4.586277</td>\n",
       "    </tr>\n",
       "    <tr>\n",
       "      <th>6</th>\n",
       "      <td>3.338955</td>\n",
       "      <td>3.818074</td>\n",
       "      <td>4.392172</td>\n",
       "    </tr>\n",
       "    <tr>\n",
       "      <th>7</th>\n",
       "      <td>3.775417</td>\n",
       "      <td>4.267467</td>\n",
       "      <td>5.010593</td>\n",
       "    </tr>\n",
       "    <tr>\n",
       "      <th>8</th>\n",
       "      <td>3.486633</td>\n",
       "      <td>4.002577</td>\n",
       "      <td>4.994766</td>\n",
       "    </tr>\n",
       "    <tr>\n",
       "      <th>9</th>\n",
       "      <td>3.448443</td>\n",
       "      <td>3.920145</td>\n",
       "      <td>4.513671</td>\n",
       "    </tr>\n",
       "  </tbody>\n",
       "</table>\n",
       "</div>"
      ],
      "text/plain": [
       "        MAE      MAPE      RMSE\n",
       "0  3.730118  4.301101  4.982039\n",
       "1  3.677545  4.190858  4.739596\n",
       "2  3.400732  3.917889  4.674852\n",
       "3  3.746934  4.350831  5.297056\n",
       "4  3.659453  4.149805  4.787459\n",
       "5  3.361619  3.792805  4.586277\n",
       "6  3.338955  3.818074  4.392172\n",
       "7  3.775417  4.267467  5.010593\n",
       "8  3.486633  4.002577  4.994766\n",
       "9  3.448443  3.920145  4.513671"
      ]
     },
     "execution_count": 199,
     "metadata": {},
     "output_type": "execute_result"
    }
   ],
   "source": [
    "%%time\n",
    "from sklearn.ensemble import RandomForestRegressor\n",
    "\n",
    "#regEstimator = regGridSearch.best_estimator_\n",
    "regEstimator = RandomForestRegressor(bootstrap=False, ccp_alpha=0.0, criterion='mse',\n",
    "                      max_depth=None, max_features='sqrt', max_leaf_nodes=None,\n",
    "                      max_samples=None, min_impurity_decrease=0.0,\n",
    "                      min_impurity_split=None, min_samples_leaf=1,\n",
    "                      min_samples_split=5, min_weight_fraction_leaf=0.0,\n",
    "                      n_estimators=180, n_jobs=None, oob_score=False,\n",
    "                      random_state=None, verbose=0, warm_start=False)\n",
    "\n",
    "#Evaluate the regression estimator above using our pre-defined cross validation and scoring metrics. \n",
    "EvaluateRegressionEstimator(regEstimator, X_predGradRate_pick, Y_GradRate, cv_object_reg)"
   ]
  },
  {
   "cell_type": "code",
   "execution_count": 203,
   "metadata": {},
   "outputs": [],
   "source": [
    "regEstimator_rf = RandomForestRegressor(bootstrap=False, ccp_alpha=0.0, criterion='mse',\n",
    "                      max_depth=None, max_features='sqrt', max_leaf_nodes=None,\n",
    "                      max_samples=None, min_impurity_decrease=0.0,\n",
    "                      min_impurity_split=None, min_samples_leaf=1,\n",
    "                      min_samples_split=5, min_weight_fraction_leaf=0.0,\n",
    "                      n_estimators=180, n_jobs=None, oob_score=False,\n",
    "                      random_state=None, verbose=0, warm_start=False)"
   ]
  },
  {
   "cell_type": "markdown",
   "metadata": {},
   "source": [
    "#### Method5: Multilayer Perceptron Regression"
   ]
  },
  {
   "cell_type": "code",
   "execution_count": null,
   "metadata": {},
   "outputs": [],
   "source": [
    "#Create a Linear Regression object and perform a grid search to find the best parameters\n",
    "from sklearn.neural_network import MLPRegressor\n",
    "\n",
    "linreg = MLPRegressor()\n",
    "parameters = { 'activation':['logistic']\n",
    "              ,'hidden_layer_sizes' : [200]\n",
    "              ,'solver': ['sgd','adam']\n",
    "              ,'alpha': [0.001]\n",
    "              ,'batch_size':['auto'] \n",
    "              ,'random_state': [0]\n",
    "              ,'learning_rate': ['constant', 'invscaling', 'adaptive']\n",
    "              ,'learning_rate_init':[0.001]\n",
    "              ,'power_t':[0.5]\n",
    "              ,'max_iter':[1000]\n",
    "             }\n",
    "\n",
    "# Random search of parameters, using 3 fold cross validation, \n",
    "regGridSearch = RandomizedSearchCV(estimator = reg, param_distributions = parameters, n_iter = 100, cv = 3, verbose=2, random_state=42, n_jobs = -1)\n",
    "# Fit the random search model\n",
    "regGridSearch.fit(X_predGradRate_pick, Y_GradRate)"
   ]
  },
  {
   "cell_type": "code",
   "execution_count": null,
   "metadata": {},
   "outputs": [],
   "source": [
    "#Display the best estimator parameters\n",
    "regGridSearch.best_estimator_"
   ]
  },
  {
   "cell_type": "code",
   "execution_count": 201,
   "metadata": {
    "scrolled": true
   },
   "outputs": [
    {
     "name": "stdout",
     "output_type": "stream",
     "text": [
      "The average MAE for all cv folds is: \t\t\t 5.7772\n",
      "The average MAE percentage (MAPE) for all cv folds is: \t 6.5397\n",
      "The average RMSE for all cv folds is: \t\t\t 7.1812\n",
      "*********************************************************\n",
      "Cross Validation Fold Mean Error Scores\n",
      "Wall time: 1min 23s\n"
     ]
    },
    {
     "data": {
      "text/html": [
       "<div>\n",
       "<style scoped>\n",
       "    .dataframe tbody tr th:only-of-type {\n",
       "        vertical-align: middle;\n",
       "    }\n",
       "\n",
       "    .dataframe tbody tr th {\n",
       "        vertical-align: top;\n",
       "    }\n",
       "\n",
       "    .dataframe thead th {\n",
       "        text-align: right;\n",
       "    }\n",
       "</style>\n",
       "<table border=\"1\" class=\"dataframe\">\n",
       "  <thead>\n",
       "    <tr style=\"text-align: right;\">\n",
       "      <th></th>\n",
       "      <th>MAE</th>\n",
       "      <th>MAPE</th>\n",
       "      <th>RMSE</th>\n",
       "    </tr>\n",
       "  </thead>\n",
       "  <tbody>\n",
       "    <tr>\n",
       "      <th>0</th>\n",
       "      <td>5.744976</td>\n",
       "      <td>6.513832</td>\n",
       "      <td>7.181451</td>\n",
       "    </tr>\n",
       "    <tr>\n",
       "      <th>1</th>\n",
       "      <td>5.997395</td>\n",
       "      <td>6.811153</td>\n",
       "      <td>7.314575</td>\n",
       "    </tr>\n",
       "    <tr>\n",
       "      <th>2</th>\n",
       "      <td>5.706905</td>\n",
       "      <td>6.502644</td>\n",
       "      <td>7.161170</td>\n",
       "    </tr>\n",
       "    <tr>\n",
       "      <th>3</th>\n",
       "      <td>5.709290</td>\n",
       "      <td>6.561662</td>\n",
       "      <td>7.293855</td>\n",
       "    </tr>\n",
       "    <tr>\n",
       "      <th>4</th>\n",
       "      <td>5.721912</td>\n",
       "      <td>6.463572</td>\n",
       "      <td>7.070936</td>\n",
       "    </tr>\n",
       "    <tr>\n",
       "      <th>5</th>\n",
       "      <td>5.635539</td>\n",
       "      <td>6.324577</td>\n",
       "      <td>7.019271</td>\n",
       "    </tr>\n",
       "    <tr>\n",
       "      <th>6</th>\n",
       "      <td>5.744937</td>\n",
       "      <td>6.538677</td>\n",
       "      <td>7.140355</td>\n",
       "    </tr>\n",
       "    <tr>\n",
       "      <th>7</th>\n",
       "      <td>5.822840</td>\n",
       "      <td>6.505928</td>\n",
       "      <td>7.229979</td>\n",
       "    </tr>\n",
       "    <tr>\n",
       "      <th>8</th>\n",
       "      <td>5.997360</td>\n",
       "      <td>6.766434</td>\n",
       "      <td>7.383345</td>\n",
       "    </tr>\n",
       "    <tr>\n",
       "      <th>9</th>\n",
       "      <td>5.690796</td>\n",
       "      <td>6.408039</td>\n",
       "      <td>7.016766</td>\n",
       "    </tr>\n",
       "  </tbody>\n",
       "</table>\n",
       "</div>"
      ],
      "text/plain": [
       "        MAE      MAPE      RMSE\n",
       "0  5.744976  6.513832  7.181451\n",
       "1  5.997395  6.811153  7.314575\n",
       "2  5.706905  6.502644  7.161170\n",
       "3  5.709290  6.561662  7.293855\n",
       "4  5.721912  6.463572  7.070936\n",
       "5  5.635539  6.324577  7.019271\n",
       "6  5.744937  6.538677  7.140355\n",
       "7  5.822840  6.505928  7.229979\n",
       "8  5.997360  6.766434  7.383345\n",
       "9  5.690796  6.408039  7.016766"
      ]
     },
     "execution_count": 201,
     "metadata": {},
     "output_type": "execute_result"
    }
   ],
   "source": [
    "%%time\n",
    "from sklearn.neural_network import MLPRegressor\n",
    "\n",
    "#regEstimator = regGridSearch.best_estimator_\n",
    "regEstimator = MLPRegressor(activation='logistic', alpha=0.001, hidden_layer_sizes=200,\n",
    "             learning_rate='adaptive', max_iter=1000, random_state=0,\n",
    "             solver='sgd')\n",
    "\n",
    "#Evaluate the regression estimator above using our pre-defined cross validation and scoring metrics. \n",
    "EvaluateRegressionEstimator(regEstimator, X_predGradRate_pick, Y_GradRate, cv_object_reg)"
   ]
  },
  {
   "cell_type": "code",
   "execution_count": 204,
   "metadata": {},
   "outputs": [],
   "source": [
    "regEstimator_mpr = MLPRegressor(activation='logistic', alpha=0.001, hidden_layer_sizes=200,\n",
    "             learning_rate='adaptive', max_iter=1000, random_state=0,\n",
    "             solver='sgd')"
   ]
  },
  {
   "cell_type": "markdown",
   "metadata": {},
   "source": [
    "#### Method7: ExtraTrees Regression"
   ]
  },
  {
   "cell_type": "code",
   "execution_count": null,
   "metadata": {},
   "outputs": [],
   "source": [
    "#Display the best estimator parameters\n",
    "regGridSearch.best_estimator_"
   ]
  },
  {
   "cell_type": "code",
   "execution_count": 202,
   "metadata": {},
   "outputs": [
    {
     "name": "stdout",
     "output_type": "stream",
     "text": [
      "The average MAE for all cv folds is: \t\t\t 3.5309\n",
      "The average MAE percentage (MAPE) for all cv folds is: \t 4.0723\n",
      "The average RMSE for all cv folds is: \t\t\t 4.9883\n",
      "*********************************************************\n",
      "Cross Validation Fold Mean Error Scores\n",
      "Wall time: 46min 4s\n"
     ]
    },
    {
     "data": {
      "text/html": [
       "<div>\n",
       "<style scoped>\n",
       "    .dataframe tbody tr th:only-of-type {\n",
       "        vertical-align: middle;\n",
       "    }\n",
       "\n",
       "    .dataframe tbody tr th {\n",
       "        vertical-align: top;\n",
       "    }\n",
       "\n",
       "    .dataframe thead th {\n",
       "        text-align: right;\n",
       "    }\n",
       "</style>\n",
       "<table border=\"1\" class=\"dataframe\">\n",
       "  <thead>\n",
       "    <tr style=\"text-align: right;\">\n",
       "      <th></th>\n",
       "      <th>MAE</th>\n",
       "      <th>MAPE</th>\n",
       "      <th>RMSE</th>\n",
       "    </tr>\n",
       "  </thead>\n",
       "  <tbody>\n",
       "    <tr>\n",
       "      <th>0</th>\n",
       "      <td>3.746927</td>\n",
       "      <td>4.353989</td>\n",
       "      <td>5.292765</td>\n",
       "    </tr>\n",
       "    <tr>\n",
       "      <th>1</th>\n",
       "      <td>3.561691</td>\n",
       "      <td>4.102180</td>\n",
       "      <td>4.884989</td>\n",
       "    </tr>\n",
       "    <tr>\n",
       "      <th>2</th>\n",
       "      <td>3.379538</td>\n",
       "      <td>3.917506</td>\n",
       "      <td>4.889207</td>\n",
       "    </tr>\n",
       "    <tr>\n",
       "      <th>3</th>\n",
       "      <td>3.701200</td>\n",
       "      <td>4.338272</td>\n",
       "      <td>5.443005</td>\n",
       "    </tr>\n",
       "    <tr>\n",
       "      <th>4</th>\n",
       "      <td>3.669059</td>\n",
       "      <td>4.192769</td>\n",
       "      <td>5.019663</td>\n",
       "    </tr>\n",
       "    <tr>\n",
       "      <th>5</th>\n",
       "      <td>3.306785</td>\n",
       "      <td>3.767323</td>\n",
       "      <td>4.687951</td>\n",
       "    </tr>\n",
       "    <tr>\n",
       "      <th>6</th>\n",
       "      <td>3.325578</td>\n",
       "      <td>3.833868</td>\n",
       "      <td>4.488795</td>\n",
       "    </tr>\n",
       "    <tr>\n",
       "      <th>7</th>\n",
       "      <td>3.648585</td>\n",
       "      <td>4.159992</td>\n",
       "      <td>5.081601</td>\n",
       "    </tr>\n",
       "    <tr>\n",
       "      <th>8</th>\n",
       "      <td>3.541158</td>\n",
       "      <td>4.122963</td>\n",
       "      <td>5.375220</td>\n",
       "    </tr>\n",
       "    <tr>\n",
       "      <th>9</th>\n",
       "      <td>3.428707</td>\n",
       "      <td>3.934209</td>\n",
       "      <td>4.719461</td>\n",
       "    </tr>\n",
       "  </tbody>\n",
       "</table>\n",
       "</div>"
      ],
      "text/plain": [
       "        MAE      MAPE      RMSE\n",
       "0  3.746927  4.353989  5.292765\n",
       "1  3.561691  4.102180  4.884989\n",
       "2  3.379538  3.917506  4.889207\n",
       "3  3.701200  4.338272  5.443005\n",
       "4  3.669059  4.192769  5.019663\n",
       "5  3.306785  3.767323  4.687951\n",
       "6  3.325578  3.833868  4.488795\n",
       "7  3.648585  4.159992  5.081601\n",
       "8  3.541158  4.122963  5.375220\n",
       "9  3.428707  3.934209  4.719461"
      ]
     },
     "execution_count": 202,
     "metadata": {},
     "output_type": "execute_result"
    }
   ],
   "source": [
    "%%time\n",
    "from sklearn.ensemble import ExtraTreesRegressor\n",
    "\n",
    "#regEstimator = regGridSearch.best_estimator_\n",
    "regEstimator = ExtraTreesRegressor(bootstrap=False, criterion='mae', max_depth=None,\n",
    "          max_features='auto', max_leaf_nodes=None,\n",
    "          min_impurity_decrease=0.0, min_impurity_split=None,\n",
    "          min_samples_leaf=10, min_samples_split=2,\n",
    "          min_weight_fraction_leaf=0.0, n_estimators=500, n_jobs=8,\n",
    "          oob_score=False, random_state=0, verbose=0, warm_start=False)\n",
    "\n",
    "\n",
    "#Evaluate the regression estimator above using our pre-defined cross validation and scoring metrics. \n",
    "EvaluateRegressionEstimator(regEstimator, X_predGradRate_pick, Y_GradRate, cv_object_reg)"
   ]
  },
  {
   "cell_type": "code",
   "execution_count": null,
   "metadata": {},
   "outputs": [],
   "source": [
    "#Display the best estimator parameters\n",
    "regGridSearch.best_estimator_"
   ]
  },
  {
   "cell_type": "code",
   "execution_count": 205,
   "metadata": {},
   "outputs": [],
   "source": [
    "regEstimator_ext = ExtraTreesRegressor(bootstrap=False, criterion='mae', max_depth=None,\n",
    "          max_features='auto', max_leaf_nodes=None,\n",
    "          min_impurity_decrease=0.0, min_impurity_split=None,\n",
    "          min_samples_leaf=10, min_samples_split=2,\n",
    "          min_weight_fraction_leaf=0.0, n_estimators=500, n_jobs=8,\n",
    "          oob_score=False, random_state=0, verbose=0, warm_start=False)"
   ]
  },
  {
   "cell_type": "markdown",
   "metadata": {},
   "source": [
    "#### Method7 Addition: Using PCA inputs for ExtraTrees Regression"
   ]
  },
  {
   "cell_type": "code",
   "execution_count": null,
   "metadata": {},
   "outputs": [],
   "source": [
    "#Evaluate the regression estimator above using our pre-defined cross validation and scoring metrics. \n",
    "EvaluateRegressionEstimator(regEstimator, X_predGradRate_pca200, Y_GradRate, cv_object_reg)"
   ]
  },
  {
   "cell_type": "markdown",
   "metadata": {},
   "source": [
    "### Model Evaluation 4: Model Evaluation"
   ]
  },
  {
   "cell_type": "markdown",
   "metadata": {},
   "source": [
    "#### A. Classification Model (Add here!)"
   ]
  },
  {
   "cell_type": "markdown",
   "metadata": {},
   "source": [
    "#### B. Regression Model (Add here!)"
   ]
  },
  {
   "cell_type": "markdown",
   "metadata": {},
   "source": [
    "One QC step is to print out the maximum value of predicted graduation rate and check if the number is over 100 (being unrealistic). The results below shows that linear, random forest, MLP, extra trees has maximum predictions all below or equal to 100. Lasso, ridge and elastic net has a maximum prediction value that's large than 100."
   ]
  },
  {
   "cell_type": "code",
   "execution_count": 218,
   "metadata": {},
   "outputs": [
    {
     "data": {
      "text/plain": [
       "CappedLinearRegression(copy_X=True, fit_intercept=False, n_jobs=None,\n",
       "                       normalize=True)"
      ]
     },
     "execution_count": 218,
     "metadata": {},
     "output_type": "execute_result"
    },
    {
     "name": "stdout",
     "output_type": "stream",
     "text": [
      "Linear Regressor Yhat Max:  100.0\n"
     ]
    },
    {
     "data": {
      "text/plain": [
       "Lasso(alpha=0.001, copy_X=True, fit_intercept=True, max_iter=10000,\n",
       "      normalize=True, positive=False, precompute=True, random_state=0,\n",
       "      selection='cyclic', tol=0.0001, warm_start=True)"
      ]
     },
     "execution_count": 218,
     "metadata": {},
     "output_type": "execute_result"
    },
    {
     "name": "stdout",
     "output_type": "stream",
     "text": [
      "Lasso Regressor Yhat Max:  106.56562315693725\n"
     ]
    },
    {
     "data": {
      "text/plain": [
       "Ridge(alpha=0.1, copy_X=True, fit_intercept=True, max_iter=1000, normalize=True,\n",
       "      random_state=0, solver='lsqr', tol=0.0001)"
      ]
     },
     "execution_count": 218,
     "metadata": {},
     "output_type": "execute_result"
    },
    {
     "name": "stdout",
     "output_type": "stream",
     "text": [
      "Ridge Regressor Yhat Max:  106.44221398895922\n"
     ]
    },
    {
     "data": {
      "text/plain": [
       "ElasticNet(alpha=0.001, copy_X=True, fit_intercept=True, l1_ratio=1,\n",
       "           max_iter=10000, normalize=True, positive=False, precompute=True,\n",
       "           random_state=0, selection='random', tol=0.0001, warm_start=True)"
      ]
     },
     "execution_count": 218,
     "metadata": {},
     "output_type": "execute_result"
    },
    {
     "name": "stdout",
     "output_type": "stream",
     "text": [
      "Elastic Net Regressor Yhat Max:  106.56096261148346\n"
     ]
    },
    {
     "data": {
      "text/plain": [
       "RandomForestRegressor(bootstrap=False, ccp_alpha=0.0, criterion='mse',\n",
       "                      max_depth=None, max_features='sqrt', max_leaf_nodes=None,\n",
       "                      max_samples=None, min_impurity_decrease=0.0,\n",
       "                      min_impurity_split=None, min_samples_leaf=1,\n",
       "                      min_samples_split=5, min_weight_fraction_leaf=0.0,\n",
       "                      n_estimators=180, n_jobs=None, oob_score=False,\n",
       "                      random_state=None, verbose=0, warm_start=False)"
      ]
     },
     "execution_count": 218,
     "metadata": {},
     "output_type": "execute_result"
    },
    {
     "name": "stdout",
     "output_type": "stream",
     "text": [
      "Random Forest Regressor Yhat Max:  100.0\n"
     ]
    },
    {
     "data": {
      "text/plain": [
       "MLPRegressor(activation='logistic', alpha=0.001, batch_size='auto', beta_1=0.9,\n",
       "             beta_2=0.999, early_stopping=False, epsilon=1e-08,\n",
       "             hidden_layer_sizes=200, learning_rate='adaptive',\n",
       "             learning_rate_init=0.001, max_fun=15000, max_iter=1000,\n",
       "             momentum=0.9, n_iter_no_change=10, nesterovs_momentum=True,\n",
       "             power_t=0.5, random_state=0, shuffle=True, solver='sgd',\n",
       "             tol=0.0001, validation_fraction=0.1, verbose=False,\n",
       "             warm_start=False)"
      ]
     },
     "execution_count": 218,
     "metadata": {},
     "output_type": "execute_result"
    },
    {
     "name": "stdout",
     "output_type": "stream",
     "text": [
      "Multilayer Perceptron Regressor Yhat Max:  90.53277406357853\n"
     ]
    },
    {
     "data": {
      "text/plain": [
       "ExtraTreesRegressor(bootstrap=False, ccp_alpha=0.0, criterion='mae',\n",
       "                    max_depth=None, max_features='auto', max_leaf_nodes=None,\n",
       "                    max_samples=None, min_impurity_decrease=0.0,\n",
       "                    min_impurity_split=None, min_samples_leaf=10,\n",
       "                    min_samples_split=2, min_weight_fraction_leaf=0.0,\n",
       "                    n_estimators=500, n_jobs=8, oob_score=False, random_state=0,\n",
       "                    verbose=0, warm_start=False)"
      ]
     },
     "execution_count": 218,
     "metadata": {},
     "output_type": "execute_result"
    },
    {
     "name": "stdout",
     "output_type": "stream",
     "text": [
      "ExtraTrees Regressor Yhat Max:  100.0\n"
     ]
    }
   ],
   "source": [
    "regEstimator_linear.fit(X_predGradRate_pick, Y_GradRate)\n",
    "yhat = regEstimator_linear.predict(X_predGradRate_pick)\n",
    "print(\"Linear Regressor Yhat Max: \", yhat.max())\n",
    "regEstimator_lasso.fit(X_predGradRate_pick, Y_GradRate)\n",
    "yhat = regEstimator_lasso.predict(X_predGradRate_pick)\n",
    "print(\"Lasso Regressor Yhat Max: \", yhat.max())\n",
    "regEstimator_ridge.fit(X_predGradRate_pick, Y_GradRate)\n",
    "yhat = regEstimator_ridge.predict(X_predGradRate_pick)\n",
    "print(\"Ridge Regressor Yhat Max: \", yhat.max())\n",
    "regEstimator_elastic.fit(X_predGradRate_pick, Y_GradRate)\n",
    "yhat = regEstimator_elastic.predict(X_predGradRate_pick)\n",
    "print(\"Elastic Net Regressor Yhat Max: \", yhat.max())\n",
    "regEstimator_rf.fit(X_predGradRate_pick, Y_GradRate)\n",
    "yhat = regEstimator_rf.predict(X_predGradRate_pick)\n",
    "print(\"Random Forest Regressor Yhat Max: \", yhat.max())\n",
    "regEstimator_mpr.fit(X_predGradRate_pick, Y_GradRate)\n",
    "yhat = regEstimator_mpr.predict(X_predGradRate_pick)\n",
    "print(\"Multilayer Perceptron Regressor Yhat Max: \", yhat.max())\n",
    "regEstimator_ext.fit(X_predGradRate_pick, Y_GradRate)\n",
    "yhat = regEstimator_ext.predict(X_predGradRate_pick)\n",
    "print(\"ExtraTrees Regressor Yhat Max: \", yhat.max())"
   ]
  },
  {
   "cell_type": "markdown",
   "metadata": {},
   "source": [
    "For model evaluation matrix, we use a combination of error measurements: MAE, MAPE and RMSE. The exact evaluation processes are done above with EvaluateRegressionEstimator function. A summary of the results are listed in the table below."
   ]
  },
  {
   "attachments": {
    "image.png": {
     "image/png": "[encoded data removed]"
    }
   },
   "cell_type": "markdown",
   "metadata": {},
   "source": [
    "![image.png](attachment:image.png)"
   ]
  },
  {
   "cell_type": "markdown",
   "metadata": {},
   "source": [
    "### Model Evaluation 5: Model Advantages and Comparison"
   ]
  },
  {
   "cell_type": "markdown",
   "metadata": {},
   "source": [
    "#### A. Classification Model (Add here!)"
   ]
  },
  {
   "cell_type": "markdown",
   "metadata": {},
   "source": [
    "#### B. Regression Model (Add here!)"
   ]
  },
  {
   "cell_type": "markdown",
   "metadata": {},
   "source": [
    "- Linear\n",
    "\n",
    "The strengths of linear regression are (1) the simple and more interpretable model (2) feature importance and the direction of the impact can be easily observed (3) it's usually very efficient. However linear regression has higher requirements for the input data. The data need to be normally distributed and it cannot model relationships that are not linear. \n",
    "\n",
    "\n",
    "- Lasso\n",
    "\n",
    "Lasso regression is a special type of linear regression that allow shrinkage. When the data is used on sparse matrix, shrinkage can allow data values to shrunk towards a central point.  The procedure can make the process more efficient especially when there are a large number of parameters. \n",
    "\n",
    "- Ridge\n",
    "\n",
    "Ridge regression is similiar to lasso, the only difference is ridge use “squared magnitude” of coefficient as penalty term while lasso use the absolute value. Ridge is also efficient especially when there are a large number of parameters. In our results, you can observe that Lasso and Ridge get similiar errors which are better than linear regression results.\n",
    "\n",
    "- Elastic net\n",
    "\n",
    "The elastic net regressor is a regularized regression method that combines L1 and L2 penalty terms linearly. It is a combined method of lasso and ridge methods above. From results you can see the error terms are similiar with lasso. It runs fast too.\n",
    "\n",
    "- Random forest\n",
    "\n",
    "The advantages of Random forest are that it reduces overfitting by averaging multiple trees. It in general reduces variance from outliers. The accuracy of it is good due to its unbiased nature and the capability of generalization. It also provides effectiveness to estimate the missing data. The drawback is the long running time.\n",
    "\n",
    "- Multilayer Perceptron\n",
    "\n",
    "Multilayer perceptron regressor is a type of Deep neural network that has several layers of input nodes connected inputs and outputs. Neural networks usually has the ability to learn and model non-linear and complex relationships. But it runs a long time. In our case this method doesn't give a good result. \n",
    "\n",
    "- ExtraTrees\n",
    "\n",
    "Extra tress is very similiar to random forest, in the way that it also build multiple tries and split randomly. However it differ itself from random tree by not replace its samples by bootstrap but do not do replacement. Its randomness comes from random splits, not like random forest which does best splits. It is also a time-consuming regressor. But its results are compariable to random forest.\n",
    "\n",
    "\n",
    "- Model Comparisons\n",
    "\n",
    "As stated above, we will be comparing our models based on the 3 error measurements: MAE, MAPE and RMSE. Extra Trees  yielded the lowest MAE of 3.56 and Random Forest Regression yielded to the lowest MAPE and RMSE.  Both models are reasonable choices.\n",
    "\n",
    "So our final winner is the Random Forest which is significantly better in MAPE and RMSE than all other regressors in use."
   ]
  },
  {
   "cell_type": "markdown",
   "metadata": {},
   "source": [
    "### Model Evaluation 6: Feature Importance"
   ]
  },
  {
   "cell_type": "markdown",
   "metadata": {},
   "source": [
    "#### A. Classification Model (Add here!)"
   ]
  },
  {
   "cell_type": "code",
   "execution_count": null,
   "metadata": {},
   "outputs": [],
   "source": []
  },
  {
   "cell_type": "markdown",
   "metadata": {},
   "source": [
    "#### B. Regression Model (Add here!)"
   ]
  },
  {
   "cell_type": "markdown",
   "metadata": {},
   "source": [
    "To get the correct weights for feature importances, we have to use the scaled data as inputs."
   ]
  },
  {
   "cell_type": "code",
   "execution_count": 164,
   "metadata": {},
   "outputs": [
    {
     "name": "stdout",
     "output_type": "stream",
     "text": [
      "Wall time: 6min 28s\n"
     ]
    },
    {
     "data": {
      "text/plain": [
       "ExtraTreesRegressor(bootstrap=False, ccp_alpha=0.0, criterion='mae',\n",
       "                    max_depth=None, max_features='auto', max_leaf_nodes=None,\n",
       "                    max_samples=None, min_impurity_decrease=0.0,\n",
       "                    min_impurity_split=None, min_samples_leaf=10,\n",
       "                    min_samples_split=4, min_weight_fraction_leaf=0.0,\n",
       "                    n_estimators=500, n_jobs=8, oob_score=False, random_state=0,\n",
       "                    verbose=0, warm_start=False)"
      ]
     },
     "execution_count": 164,
     "metadata": {},
     "output_type": "execute_result"
    }
   ],
   "source": [
    "%%time\n",
    "from sklearn.ensemble import ExtraTreesRegressor\n",
    "#Create a regression estimator with best parameters for cross validation\n",
    "regEstimator = ExtraTreesRegressor(bootstrap=False, criterion='mae', max_depth=None,\n",
    "          max_features='auto', max_leaf_nodes=None,\n",
    "          min_impurity_decrease=0.0, min_impurity_split=None,\n",
    "          min_samples_leaf=10, min_samples_split=4,\n",
    "          min_weight_fraction_leaf=0.0, n_estimators=500, n_jobs=8,\n",
    "          oob_score=False, random_state=0, verbose=0, warm_start=False)\n",
    "\n",
    "#Fit the model using all of the scaled training data\n",
    "regEstimator.fit(X_predGradRate_scal, Y_GradRate)"
   ]
  },
  {
   "cell_type": "code",
   "execution_count": 170,
   "metadata": {},
   "outputs": [],
   "source": [
    "#Load the model's coefficient weights and feature names into a dataframe sorted by weights\n",
    "weights = regEstimator.feature_importances_.ravel()\n",
    "feature_names = X_predGradRate_pick.columns.values\n",
    "linreg_ft_imp_df = pd.DataFrame({'feature_names':feature_names, 'weights':weights, 'absolute_weights': np.abs(weights)})\n",
    "linreg_ft_imp_df.sort_values(by='absolute_weights', inplace=True, ascending=False )"
   ]
  },
  {
   "cell_type": "code",
   "execution_count": 171,
   "metadata": {},
   "outputs": [
    {
     "data": {
      "text/plain": [
       "Text(0.5, 1.0, 'Top Feature Correlations')"
      ]
     },
     "execution_count": 171,
     "metadata": {},
     "output_type": "execute_result"
    },
    {
     "data": {
      "text/plain": [
       "Text(0, 0.5, 'Coefficient Magnitude\\n(z-score)')"
      ]
     },
     "execution_count": 171,
     "metadata": {},
     "output_type": "execute_result"
    },
    {
     "data": {
      "text/plain": [
       "Text(0.5, 0, 'Feature Names')"
      ]
     },
     "execution_count": 171,
     "metadata": {},
     "output_type": "execute_result"
    },
    {
     "data": {
      "image/png": "[encoded data removed]",
      "text/plain": [
       "<Figure size 1440x576 with 1 Axes>"
      ]
     },
     "metadata": {},
     "output_type": "display_data"
    }
   ],
   "source": [
    "# Examine categorical variables of interest  \n",
    "import matplotlib.pyplot as plt\n",
    "%matplotlib inline\n",
    "\n",
    "#Plot the model's feature importances\n",
    "# REFERENCE:  Eric Larson, https://github.com/eclarson/DataMiningNotebooks\n",
    "plt.style.use('ggplot')\n",
    "\n",
    "wt_plt_df = linreg_ft_imp_df.head(75)\n",
    "\n",
    "weights = pd.Series(wt_plt_df['weights'].values,index=wt_plt_df['feature_names'])\n",
    "ax = weights.plot(kind='bar', figsize=(20,8))\n",
    "\n",
    "ax.set_title(\"Top Feature Correlations\")\n",
    "ax.set_ylabel(\"Coefficient Magnitude\\n(z-score)\")\n",
    "ax.set_xlabel(\"Feature Names\")\n",
    "plt.show()"
   ]
  },
  {
   "cell_type": "markdown",
   "metadata": {},
   "source": [
    "### Exceptional Work\n",
    "<!-- Gridsearch -->"
   ]
  },
  {
   "cell_type": "markdown",
   "metadata": {},
   "source": [
    "### Deployment"
   ]
  },
  {
   "cell_type": "markdown",
   "metadata": {},
   "source": [
    "### Appendix"
   ]
  },
  {
   "cell_type": "code",
   "execution_count": null,
   "metadata": {},
   "outputs": [],
   "source": []
  },
  {
   "cell_type": "code",
   "execution_count": 1,
   "metadata": {},
   "outputs": [
    {
     "data": {
      "text/html": [
       "<div>\n",
       "<style scoped>\n",
       "    .dataframe tbody tr th:only-of-type {\n",
       "        vertical-align: middle;\n",
       "    }\n",
       "\n",
       "    .dataframe tbody tr th {\n",
       "        vertical-align: top;\n",
       "    }\n",
       "\n",
       "    .dataframe thead th {\n",
       "        text-align: right;\n",
       "    }\n",
       "</style>\n",
       "<table border=\"1\" class=\"dataframe\">\n",
       "  <thead>\n",
       "    <tr style=\"text-align: right;\">\n",
       "      <th></th>\n",
       "      <th>vphone_ad</th>\n",
       "      <th>street_ad</th>\n",
       "      <th>scity_ad</th>\n",
       "      <th>szip_ad</th>\n",
       "      <th>category_cd</th>\n",
       "      <th>url_ad</th>\n",
       "      <th>grade_range_cd</th>\n",
       "      <th>calendar_type_txt</th>\n",
       "      <th>sna_pgm_type_cd</th>\n",
       "      <th>school_type_txt</th>\n",
       "      <th>...</th>\n",
       "      <th>MinorityFemalePct</th>\n",
       "      <th>MinorityMalePct</th>\n",
       "      <th>PacificIslandFemalePct</th>\n",
       "      <th>PacificIslandMalePct</th>\n",
       "      <th>PacificIslandPct</th>\n",
       "      <th>TwoOrMoreFemalePct</th>\n",
       "      <th>TwoOrMoreMalePct</th>\n",
       "      <th>TwoOrMorePct</th>\n",
       "      <th>unit_code</th>\n",
       "      <th>Year</th>\n",
       "    </tr>\n",
       "  </thead>\n",
       "  <tbody>\n",
       "    <tr>\n",
       "      <th>0</th>\n",
       "      <td>(336)506-4001</td>\n",
       "      <td>1247 Jimmie Kerr Road</td>\n",
       "      <td>Graham</td>\n",
       "      <td>27253.0</td>\n",
       "      <td>H</td>\n",
       "      <td>http://amc.abss.k12.nc.us</td>\n",
       "      <td>9-12</td>\n",
       "      <td>Regular School, Traditional Calendar</td>\n",
       "      <td>R</td>\n",
       "      <td>Regular School</td>\n",
       "      <td>...</td>\n",
       "      <td>0.243243</td>\n",
       "      <td>0.067568</td>\n",
       "      <td>0.000000</td>\n",
       "      <td>0.000000</td>\n",
       "      <td>0.00000</td>\n",
       "      <td>0.000000</td>\n",
       "      <td>0.013514</td>\n",
       "      <td>0.013514</td>\n",
       "      <td>10303</td>\n",
       "      <td>2014</td>\n",
       "    </tr>\n",
       "    <tr>\n",
       "      <th>1</th>\n",
       "      <td>(336)578-1366</td>\n",
       "      <td>2518 NC 54</td>\n",
       "      <td>Graham</td>\n",
       "      <td>27253.0</td>\n",
       "      <td>E</td>\n",
       "      <td>http://awe.abss.k12.nc.us</td>\n",
       "      <td>PK-5</td>\n",
       "      <td>Regular School, Traditional Calendar</td>\n",
       "      <td>R</td>\n",
       "      <td>Regular School</td>\n",
       "      <td>...</td>\n",
       "      <td>0.157699</td>\n",
       "      <td>0.163265</td>\n",
       "      <td>0.000000</td>\n",
       "      <td>0.000000</td>\n",
       "      <td>0.00000</td>\n",
       "      <td>0.014842</td>\n",
       "      <td>0.020408</td>\n",
       "      <td>0.035250</td>\n",
       "      <td>10304</td>\n",
       "      <td>2014</td>\n",
       "    </tr>\n",
       "    <tr>\n",
       "      <th>2</th>\n",
       "      <td>(336)538-6030</td>\n",
       "      <td>2832 N NC 87</td>\n",
       "      <td>Elon</td>\n",
       "      <td>27244.0</td>\n",
       "      <td>E</td>\n",
       "      <td>http://aoe.abss.k12.nc.us</td>\n",
       "      <td>K-5</td>\n",
       "      <td>Regular School, Traditional Calendar</td>\n",
       "      <td>R</td>\n",
       "      <td>Regular School</td>\n",
       "      <td>...</td>\n",
       "      <td>0.094096</td>\n",
       "      <td>0.107011</td>\n",
       "      <td>0.001845</td>\n",
       "      <td>0.001845</td>\n",
       "      <td>0.00369</td>\n",
       "      <td>0.011070</td>\n",
       "      <td>0.012915</td>\n",
       "      <td>0.023985</td>\n",
       "      <td>10308</td>\n",
       "      <td>2014</td>\n",
       "    </tr>\n",
       "    <tr>\n",
       "      <th>3</th>\n",
       "      <td>(336)570-6195</td>\n",
       "      <td>2229 Broadview Drive</td>\n",
       "      <td>Burlington</td>\n",
       "      <td>27217.0</td>\n",
       "      <td>M</td>\n",
       "      <td>http://brm.abss.k12.nc.us/</td>\n",
       "      <td>6-8</td>\n",
       "      <td>Regular School, Traditional Calendar</td>\n",
       "      <td>R</td>\n",
       "      <td>Regular School</td>\n",
       "      <td>...</td>\n",
       "      <td>0.445980</td>\n",
       "      <td>0.463568</td>\n",
       "      <td>0.000000</td>\n",
       "      <td>0.000000</td>\n",
       "      <td>0.00000</td>\n",
       "      <td>0.011307</td>\n",
       "      <td>0.013819</td>\n",
       "      <td>0.025126</td>\n",
       "      <td>10310</td>\n",
       "      <td>2014</td>\n",
       "    </tr>\n",
       "    <tr>\n",
       "      <th>4</th>\n",
       "      <td>(336)538-8700</td>\n",
       "      <td>3720 Bonnar Bridge Parkway</td>\n",
       "      <td>Burlington</td>\n",
       "      <td>27215.0</td>\n",
       "      <td>E</td>\n",
       "      <td>http://hle.abss.k12.nc.us</td>\n",
       "      <td>K-5</td>\n",
       "      <td>Regular School, Traditional Calendar</td>\n",
       "      <td>R</td>\n",
       "      <td>Regular School</td>\n",
       "      <td>...</td>\n",
       "      <td>0.164134</td>\n",
       "      <td>0.173252</td>\n",
       "      <td>0.000000</td>\n",
       "      <td>0.000000</td>\n",
       "      <td>0.00000</td>\n",
       "      <td>0.019757</td>\n",
       "      <td>0.028875</td>\n",
       "      <td>0.048632</td>\n",
       "      <td>10312</td>\n",
       "      <td>2014</td>\n",
       "    </tr>\n",
       "  </tbody>\n",
       "</table>\n",
       "<p>5 rows × 259 columns</p>\n",
       "</div>"
      ],
      "text/plain": [
       "       vphone_ad                   street_ad    scity_ad  szip_ad category_cd  \\\n",
       "0  (336)506-4001       1247 Jimmie Kerr Road      Graham  27253.0           H   \n",
       "1  (336)578-1366                  2518 NC 54      Graham  27253.0           E   \n",
       "2  (336)538-6030                2832 N NC 87        Elon  27244.0           E   \n",
       "3  (336)570-6195        2229 Broadview Drive  Burlington  27217.0           M   \n",
       "4  (336)538-8700  3720 Bonnar Bridge Parkway  Burlington  27215.0           E   \n",
       "\n",
       "                       url_ad grade_range_cd  \\\n",
       "0   http://amc.abss.k12.nc.us           9-12   \n",
       "1   http://awe.abss.k12.nc.us           PK-5   \n",
       "2   http://aoe.abss.k12.nc.us            K-5   \n",
       "3  http://brm.abss.k12.nc.us/            6-8   \n",
       "4   http://hle.abss.k12.nc.us            K-5   \n",
       "\n",
       "                      calendar_type_txt sna_pgm_type_cd school_type_txt  ...  \\\n",
       "0  Regular School, Traditional Calendar               R  Regular School  ...   \n",
       "1  Regular School, Traditional Calendar               R  Regular School  ...   \n",
       "2  Regular School, Traditional Calendar               R  Regular School  ...   \n",
       "3  Regular School, Traditional Calendar               R  Regular School  ...   \n",
       "4  Regular School, Traditional Calendar               R  Regular School  ...   \n",
       "\n",
       "  MinorityFemalePct MinorityMalePct PacificIslandFemalePct  \\\n",
       "0          0.243243        0.067568               0.000000   \n",
       "1          0.157699        0.163265               0.000000   \n",
       "2          0.094096        0.107011               0.001845   \n",
       "3          0.445980        0.463568               0.000000   \n",
       "4          0.164134        0.173252               0.000000   \n",
       "\n",
       "  PacificIslandMalePct  PacificIslandPct  TwoOrMoreFemalePct  \\\n",
       "0             0.000000           0.00000            0.000000   \n",
       "1             0.000000           0.00000            0.014842   \n",
       "2             0.001845           0.00369            0.011070   \n",
       "3             0.000000           0.00000            0.011307   \n",
       "4             0.000000           0.00000            0.019757   \n",
       "\n",
       "   TwoOrMoreMalePct TwoOrMorePct unit_code  Year  \n",
       "0          0.013514     0.013514     10303  2014  \n",
       "1          0.020408     0.035250     10304  2014  \n",
       "2          0.012915     0.023985     10308  2014  \n",
       "3          0.013819     0.025126     10310  2014  \n",
       "4          0.028875     0.048632     10312  2014  \n",
       "\n",
       "[5 rows x 259 columns]"
      ]
     },
     "execution_count": 1,
     "metadata": {},
     "output_type": "execute_result"
    }
   ],
   "source": [
    "import pandas as pd\n",
    "import numpy as np\n",
    "import matplotlib.pyplot as plt\n",
    "import seaborn as sns\n",
    "import warnings\n",
    "warnings.filterwarnings(\"ignore\")\n",
    "\n",
    "# For multiple line outputs\n",
    "from IPython.core.interactiveshell import InteractiveShell\n",
    "InteractiveShell.ast_node_interactivity = \"all\"\n",
    "\n",
    "# read in the csv file\n",
    "schoolData = pd.read_csv('https://raw.githubusercontent.com/fredpoon/ds_7331_jyrf_eda/master/minilab_LR_SVM/PublicSchools2014to2017_YZ.csv') \n",
    "\n",
    "schoolData.head()"
   ]
  },
  {
   "cell_type": "code",
   "execution_count": 2,
   "metadata": {},
   "outputs": [
    {
     "name": "stdout",
     "output_type": "stream",
     "text": [
      "*********After: Removing columns with >= uniqueThreshold unique values***********\n",
      "<class 'pandas.core.frame.DataFrame'>\n",
      "RangeIndex: 9731 entries, 0 to 9730\n",
      "Columns: 250 entries, szip_ad to Year\n",
      "dtypes: float64(237), int64(2), object(11)\n",
      "memory usage: 18.6+ MB\n",
      "\n",
      "Columns Deleted:  9\n"
     ]
    }
   ],
   "source": [
    "#Locate the categorical variables in dataset\n",
    "sD_nominal = schoolData.loc[:, (schoolData.dtypes == object)]\n",
    "uniqueThreshold = 25\n",
    "\n",
    "#Delete categorical columns with > 25 unique values (Each unique value becomes a column during one-hot encoding)\n",
    "oneHotUniqueValueCounts = schoolData[sD_nominal.columns].apply(lambda x: x.nunique())\n",
    "oneHotUniqueValueCols = oneHotUniqueValueCounts[oneHotUniqueValueCounts >= uniqueThreshold].index\n",
    "schoolData.drop(oneHotUniqueValueCols, axis=1, inplace=True) \n",
    "\n",
    "#Review dataset contents one hot high unique value drops\n",
    "print('*********After: Removing columns with >= uniqueThreshold unique values***********')\n",
    "schoolData.info(verbose=False)\n",
    "print ('\\r\\nColumns Deleted: ', len(oneHotUniqueValueCols))"
   ]
  },
  {
   "cell_type": "code",
   "execution_count": 3,
   "metadata": {},
   "outputs": [
    {
     "name": "stdout",
     "output_type": "stream",
     "text": [
      "<class 'pandas.core.frame.DataFrame'>\n",
      "RangeIndex: 9731 entries, 0 to 9730\n",
      "Data columns (total 248 columns):\n",
      " #   Column                               Dtype  \n",
      "---  ------                               -----  \n",
      " 0   szip_ad                              float64\n",
      " 1   category_cd                          object \n",
      " 2   calendar_type_txt                    object \n",
      " 3   sna_pgm_type_cd                      object \n",
      " 4   school_type_txt                      object \n",
      " 5   calendar_only_txt                    object \n",
      " 6   title1_type_cd                       object \n",
      " 7   esea_status                          object \n",
      " 8   student_num                          float64\n",
      " 9   lea_avg_student_num                  float64\n",
      " 10  st_avg_student_num                   float64\n",
      " 11  Grad_project_status                  object \n",
      " 12  Math I_Size                          float64\n",
      " 13  lea_total_expense_num                float64\n",
      " 14  lea_salary_expense_pct               float64\n",
      " 15  lea_services_expense_pct             float64\n",
      " 16  lea_supplies_expense_pct             float64\n",
      " 17  lea_instruct_equip_exp_pct           float64\n",
      " 18  lea_federal_perpupil_num             float64\n",
      " 19  lea_local_perpupil_num               float64\n",
      " 20  lea_state_perpupil_num               float64\n",
      " 21  EVAAS Growth Status                  object \n",
      " 22  EVAAS Growth Score                   float64\n",
      " 23  Science Score                        float64\n",
      " 24  EOG/EOCSubjects_CACR_All             float64\n",
      " 25  EOGGr3_CACR_All                      float64\n",
      " 26  EOGGr4_CACR_All                      float64\n",
      " 27  EOGGr5_CACR_All                      float64\n",
      " 28  EOCMathI_CACR_AmericanIndian         float64\n",
      " 29  EOCSubjects_CACR_AmericanIndian      float64\n",
      " 30  EOG/EOCSubjects_CACR_AmericanIndian  float64\n",
      " 31  EOGGr3_CACR_AmericanIndian           float64\n",
      " 32  EOGGr4_CACR_AmericanIndian           float64\n",
      " 33  EOGGr5_CACR_AmericanIndian           float64\n",
      " 34  EOGMathGr3_CACR_AmericanIndian       float64\n",
      " 35  EOGMathGr3-8_CACR_AmericanIndian     float64\n",
      " 36  EOGMathGr4_CACR_AmericanIndian       float64\n",
      " 37  EOGMathGr5_CACR_AmericanIndian       float64\n",
      " 38  EOGReadingGr3-8_CACR_AmericanIndian  float64\n",
      " 39  EOGScienceGr5_CACR_AmericanIndian    float64\n",
      " 40  EOGScienceGr5&8_CACR_AmericanIndian  float64\n",
      " 41  EOGSubjects_CACR_AmericanIndian      float64\n",
      " 42  EOCMathI_CACR_Asian                  float64\n",
      " 43  EOCSubjects_CACR_Asian               float64\n",
      " 44  EOG/EOCSubjects_CACR_Asian           float64\n",
      " 45  EOGGr3_CACR_Asian                    float64\n",
      " 46  EOGGr4_CACR_Asian                    float64\n",
      " 47  EOGGr5_CACR_Asian                    float64\n",
      " 48  EOGMathGr3_CACR_Asian                float64\n",
      " 49  EOGMathGr3-8_CACR_Asian              float64\n",
      " 50  EOGMathGr4_CACR_Asian                float64\n",
      " 51  EOGMathGr5_CACR_Asian                float64\n",
      " 52  EOGScienceGr5&8_CACR_Asian           float64\n",
      " 53  EOGSubjects_CACR_Asian               float64\n",
      " 54  EOCMathI_CACR_Black                  float64\n",
      " 55  EOG/EOCSubjects_CACR_Black           float64\n",
      " 56  EOGGr3_CACR_Black                    float64\n",
      " 57  EOGGr4_CACR_Black                    float64\n",
      " 58  EOGGr5_CACR_Black                    float64\n",
      " 59  EOGMathGr3_CACR_Black                float64\n",
      " 60  EOGMathGr3-8_CACR_Black              float64\n",
      " 61  EOGMathGr4_CACR_Black                float64\n",
      " 62  EOGMathGr5_CACR_Black                float64\n",
      " 63  EOGReadingGr3_CACR_Black             float64\n",
      " 64  EOGReadingGr3-8_CACR_Black           float64\n",
      " 65  EOGReadingGr4_CACR_Black             float64\n",
      " 66  EOGReadingGr5_CACR_Black             float64\n",
      " 67  EOGScienceGr5_CACR_Black             float64\n",
      " 68  EOGScienceGr5&8_CACR_Black           float64\n",
      " 69  EOGSubjects_CACR_Black               float64\n",
      " 70  EOCMathI_CACR_Hispanic               float64\n",
      " 71  EOG/EOCSubjects_CACR_Hispanic        float64\n",
      " 72  EOGGr3_CACR_Hispanic                 float64\n",
      " 73  EOGGr4_CACR_Hispanic                 float64\n",
      " 74  EOGGr5_CACR_Hispanic                 float64\n",
      " 75  EOGMathGr3_CACR_Hispanic             float64\n",
      " 76  EOGMathGr3-8_CACR_Hispanic           float64\n",
      " 77  EOGMathGr4_CACR_Hispanic             float64\n",
      " 78  EOGMathGr5_CACR_Hispanic             float64\n",
      " 79  EOGReadingGr3_CACR_Hispanic          float64\n",
      " 80  EOGReadingGr3-8_CACR_Hispanic        float64\n",
      " 81  EOGReadingGr4_CACR_Hispanic          float64\n",
      " 82  EOGReadingGr5_CACR_Hispanic          float64\n",
      " 83  EOGScienceGr5&8_CACR_Hispanic        float64\n",
      " 84  EOGSubjects_CACR_Hispanic            float64\n",
      " 85  EOCMathI_CACR_TwoorMoreRaces         float64\n",
      " 86  EOCSubjects_CACR_TwoorMoreRaces      float64\n",
      " 87  EOG/EOCSubjects_CACR_TwoorMoreRaces  float64\n",
      " 88  EOGGr3_CACR_TwoorMoreRaces           float64\n",
      " 89  EOGGr4_CACR_TwoorMoreRaces           float64\n",
      " 90  EOGGr5_CACR_TwoorMoreRaces           float64\n",
      " 91  EOGMathGr3_CACR_TwoorMoreRaces       float64\n",
      " 92  EOGMathGr3-8_CACR_TwoorMoreRaces     float64\n",
      " 93  EOGMathGr4_CACR_TwoorMoreRaces       float64\n",
      " 94  EOGMathGr5_CACR_TwoorMoreRaces       float64\n",
      " 95  EOGReadingGr3-8_CACR_TwoorMoreRaces  float64\n",
      " 96  EOGScienceGr5&8_CACR_TwoorMoreRaces  float64\n",
      " 97  EOGSubjects_CACR_TwoorMoreRaces      float64\n",
      " 98  EOG/EOCSubjects_CACR_White           float64\n",
      " 99  EOGGr4_CACR_White                    float64\n",
      " 100 EOGMathGr3-8_CACR_White              float64\n",
      " 101 EOGScienceGr5&8_CACR_White           float64\n",
      " 102 EOCMathI_CACR_EDS                    float64\n",
      " 103 EOG/EOCSubjects_CACR_EDS             float64\n",
      " 104 EOGMathGr3-8_CACR_EDS                float64\n",
      " 105 EOGReadingGr3-8_CACR_EDS             float64\n",
      " 106 EOGReadingGr5_CACR_EDS               float64\n",
      " 107 EOGScienceGr5&8_CACR_EDS             float64\n",
      " 108 EOCMathI_CACR_LEP                    float64\n",
      " 109 EOCMathI_GLP_LEP                     float64\n",
      " 110 EOCSubjects_CACR_LEP                 float64\n",
      " 111 EOCSubjects_GLP_LEP                  float64\n",
      " 112 EOG/EOCSubjects_CACR_LEP             float64\n",
      " 113 EOGGr3_CACR_LEP                      float64\n",
      " 114 EOGGr4_CACR_LEP                      float64\n",
      " 115 EOGGr5_CACR_LEP                      float64\n",
      " 116 EOGMathGr3_CACR_LEP                  float64\n",
      " 117 EOGMathGr3-8_CACR_LEP                float64\n",
      " 118 EOGMathGr4_CACR_LEP                  float64\n",
      " 119 EOGMathGr5_CACR_LEP                  float64\n",
      " 120 EOGReadingGr3_CACR_LEP               float64\n",
      " 121 EOGReadingGr3-8_CACR_LEP             float64\n",
      " 122 EOGReadingGr3-8_GLP_LEP              float64\n",
      " 123 EOGReadingGr4_CACR_LEP               float64\n",
      " 124 EOGReadingGr4_GLP_LEP                float64\n",
      " 125 EOGReadingGr5_CACR_LEP               float64\n",
      " 126 EOGReadingGr5_GLP_LEP                float64\n",
      " 127 EOGScienceGr5_CACR_LEP               float64\n",
      " 128 EOGScienceGr5&8_CACR_LEP             float64\n",
      " 129 EOCMathI_CACR_SWD                    float64\n",
      " 130 EOCMathI_GLP_SWD                     float64\n",
      " 131 EOCSubjects_CACR_SWD                 float64\n",
      " 132 EOG/EOCSubjects_CACR_SWD             float64\n",
      " 133 EOGGr3_CACR_SWD                      float64\n",
      " 134 EOGGr4_CACR_SWD                      float64\n",
      " 135 EOGGr5_CACR_SWD                      float64\n",
      " 136 EOGMathGr3_CACR_SWD                  float64\n",
      " 137 EOGMathGr3_GLP_SWD                   float64\n",
      " 138 EOGMathGr3-8_CACR_SWD                float64\n",
      " 139 EOGMathGr4_CACR_SWD                  float64\n",
      " 140 EOGMathGr5_CACR_SWD                  float64\n",
      " 141 EOGReadingGr3_CACR_SWD               float64\n",
      " 142 EOGReadingGr3-8_CACR_SWD             float64\n",
      " 143 EOGReadingGr3-8_GLP_SWD              float64\n",
      " 144 EOGReadingGr4_CACR_SWD               float64\n",
      " 145 EOGReadingGr4_GLP_SWD                float64\n",
      " 146 EOGReadingGr5_CACR_SWD               float64\n",
      " 147 EOGReadingGr5_GLP_SWD                float64\n",
      " 148 EOGScienceGr5_CACR_SWD               float64\n",
      " 149 EOGScienceGr5&8_CACR_SWD             float64\n",
      " 150 EOGSubjects_CACR_SWD                 float64\n",
      " 151 EOCMathI_CACR_AIG                    float64\n",
      " 152 EOG/EOCSubjects_CACR_AIG             float64\n",
      " 153 EOGGr3_CACR_AIG                      float64\n",
      " 154 EOGGr4_CACR_AIG                      float64\n",
      " 155 EOGGr5_CACR_AIG                      float64\n",
      " 156 EOGMathGr3_CACR_AIG                  float64\n",
      " 157 EOGMathGr3-8_CACR_AIG                float64\n",
      " 158 EOGMathGr4_CACR_AIG                  float64\n",
      " 159 EOGMathGr5_CACR_AIG                  float64\n",
      " 160 EOGScienceGr5&8_CACR_AIG             float64\n",
      " 161 EOGSubjects_CACR_AIG                 float64\n",
      " 162 pct_GCE_ALL                          float64\n",
      " 163 MathGr3-8_pTarget_PctMet             float64\n",
      " 164 SciGr5&8_pTarget_PctMet              float64\n",
      " 165 TotalTargets_pTarget_PctMet          float64\n",
      " 166 Category_Cd                          object \n",
      " 167 lea_sat_avg_score_num                float64\n",
      " 168 lea_sat_participation_pct            float64\n",
      " 169 lea_ap_participation_pct             float64\n",
      " 170 lea_ap_pct_3_or_above                float64\n",
      " 171 lea_ib_pct_4_or_above                float64\n",
      " 172 avg_daily_attend_pct                 float64\n",
      " 173 crime_per_c_num                      float64\n",
      " 174 short_susp_per_c_num                 float64\n",
      " 175 long_susp_per_c_num                  float64\n",
      " 176 expelled_per_c_num                   float64\n",
      " 177 stud_internet_comp_num               float64\n",
      " 178 lea_avg_daily_attend_pct             float64\n",
      " 179 lea_crime_per_c_num                  float64\n",
      " 180 lea_short_susp_per_c_num             float64\n",
      " 181 lea_long_susp_per_c_num              float64\n",
      " 182 lea_expelled_per_c_num               float64\n",
      " 183 lea_stud_internet_comp_num           float64\n",
      " 184 st_crime_per_c_num                   float64\n",
      " 185 flicensed_teach_pct                  float64\n",
      " 186 tchyrs_0thru3_pct                    float64\n",
      " 187 tchyrs_4thru10_pct                   float64\n",
      " 188 tchyrs_11plus_pct                    float64\n",
      " 189 nbpts_num                            float64\n",
      " 190 advance_dgr_pct                      float64\n",
      " 191 _1yr_tchr_trnovr_pct                 float64\n",
      " 192 lateral_teach_pct                    float64\n",
      " 193 lea_flicensed_teach_pct              float64\n",
      " 194 lea_tchyrs_0thru3_pct                float64\n",
      " 195 lea_tchyrs_4thru10_pct               float64\n",
      " 196 lea_tchyrs_11plus_pct                float64\n",
      " 197 lea_nbpts_num                        float64\n",
      " 198 lea_advance_dgr_pct                  float64\n",
      " 199 lea_1yr_tchr_trnovr_pct              float64\n",
      " 200 lea_emer_prov_teach_pct              float64\n",
      " 201 st_flicensed_teach_pct               float64\n",
      " 202 st_tchyrs_0thru3_pct                 float64\n",
      " 203 st_1yr_tchr_trnovr_pct               float64\n",
      " 204 st_emer_prov_teach_pct               float64\n",
      " 205 0-3 Years_LEA_Exp_Pct_Prin           float64\n",
      " 206 10+ Years_LEA_Exp_Pct_Prin           float64\n",
      " 207 4-10 Years_LEA_Exp_Pct_Prin          float64\n",
      " 208 Accomplished_TCHR_Standard 1_Pct     float64\n",
      " 209 Accomplished_TCHR_Standard 2_Pct     float64\n",
      " 210 Accomplished_TCHR_Standard 3_Pct     float64\n",
      " 211 Accomplished_TCHR_Standard 4_Pct     float64\n",
      " 212 Accomplished_TCHR_Standard 5_Pct     float64\n",
      " 213 Developing_TCHR_Standard 1_Pct       float64\n",
      " 214 Developing_TCHR_Standard 2_Pct       float64\n",
      " 215 Developing_TCHR_Standard 3_Pct       float64\n",
      " 216 Developing_TCHR_Standard 4_Pct       float64\n",
      " 217 Developing_TCHR_Standard 5_Pct       float64\n",
      " 218 Distinguished_TCHR_Standard 1_Pct    float64\n",
      " 219 Distinguished_TCHR_Standard 2_Pct    float64\n",
      " 220 Distinguished_TCHR_Standard 3_Pct    float64\n",
      " 221 Distinguished_TCHR_Standard 4_Pct    float64\n",
      " 222 Distinguished_TCHR_Standard 5_Pct    float64\n",
      " 223 Not Demostrated_TCHR_Standard 1_Pct  float64\n",
      " 224 Not Demostrated_TCHR_Standard 2_Pct  float64\n",
      " 225 Not Demostrated_TCHR_Standard 4_Pct  float64\n",
      " 226 Proficient_TCHR_Standard 1_Pct       float64\n",
      " 227 Proficient_TCHR_Standard 2_Pct       float64\n",
      " 228 Proficient_TCHR_Standard 3_Pct       float64\n",
      " 229 Proficient_TCHR_Standard 4_Pct       float64\n",
      " 230 Proficient_TCHR_Standard 5_Pct       float64\n",
      " 231 AsianFemalePct                       float64\n",
      " 232 AsianMalePct                         float64\n",
      " 233 BlackFemalePct                       float64\n",
      " 234 BlackMalePct                         float64\n",
      " 235 HispanicFemalePct                    float64\n",
      " 236 HispanicMalePct                      float64\n",
      " 237 IndianFemalePct                      float64\n",
      " 238 MinorityFemalePct                    float64\n",
      " 239 MinorityMalePct                      float64\n",
      " 240 PacificIslandFemalePct               float64\n",
      " 241 PacificIslandMalePct                 float64\n",
      " 242 PacificIslandPct                     float64\n",
      " 243 TwoOrMoreFemalePct                   float64\n",
      " 244 TwoOrMoreMalePct                     float64\n",
      " 245 TwoOrMorePct                         float64\n",
      " 246 unit_code                            int64  \n",
      " 247 Year                                 int64  \n",
      "dtypes: float64(236), int64(2), object(10)\n",
      "memory usage: 18.4+ MB\n"
     ]
    }
   ],
   "source": [
    "#Keep an original copy of the Data\n",
    "schoolData_org = schoolData\n",
    "\n",
    "#Pop out the SPG information from the Data\n",
    "schoolData_SPG = schoolData.pop('SPG Grade')\n",
    "schoolData_SPGScore = schoolData.pop('SPG Score')\n",
    "\n",
    "schoolData.info(verbose=True)"
   ]
  },
  {
   "cell_type": "code",
   "execution_count": 4,
   "metadata": {},
   "outputs": [
    {
     "name": "stdout",
     "output_type": "stream",
     "text": [
      "<class 'pandas.core.frame.DataFrame'>\n",
      "RangeIndex: 9731 entries, 0 to 9730\n",
      "Data columns (total 107 columns):\n",
      " #   Column                               Dtype  \n",
      "---  ------                               -----  \n",
      " 0   szip_ad                              float64\n",
      " 1   category_cd                          object \n",
      " 2   calendar_type_txt                    object \n",
      " 3   sna_pgm_type_cd                      object \n",
      " 4   school_type_txt                      object \n",
      " 5   calendar_only_txt                    object \n",
      " 6   title1_type_cd                       object \n",
      " 7   esea_status                          object \n",
      " 8   student_num                          float64\n",
      " 9   lea_avg_student_num                  float64\n",
      " 10  st_avg_student_num                   float64\n",
      " 11  Grad_project_status                  object \n",
      " 12  Math I_Size                          float64\n",
      " 13  lea_total_expense_num                float64\n",
      " 14  lea_salary_expense_pct               float64\n",
      " 15  lea_services_expense_pct             float64\n",
      " 16  lea_supplies_expense_pct             float64\n",
      " 17  lea_instruct_equip_exp_pct           float64\n",
      " 18  lea_federal_perpupil_num             float64\n",
      " 19  lea_local_perpupil_num               float64\n",
      " 20  lea_state_perpupil_num               float64\n",
      " 21  pct_GCE_ALL                          float64\n",
      " 22  MathGr3-8_pTarget_PctMet             float64\n",
      " 23  SciGr5&8_pTarget_PctMet              float64\n",
      " 24  TotalTargets_pTarget_PctMet          float64\n",
      " 25  Category_Cd                          object \n",
      " 26  lea_sat_avg_score_num                float64\n",
      " 27  lea_sat_participation_pct            float64\n",
      " 28  lea_ap_participation_pct             float64\n",
      " 29  lea_ap_pct_3_or_above                float64\n",
      " 30  lea_ib_pct_4_or_above                float64\n",
      " 31  avg_daily_attend_pct                 float64\n",
      " 32  crime_per_c_num                      float64\n",
      " 33  short_susp_per_c_num                 float64\n",
      " 34  long_susp_per_c_num                  float64\n",
      " 35  expelled_per_c_num                   float64\n",
      " 36  stud_internet_comp_num               float64\n",
      " 37  lea_avg_daily_attend_pct             float64\n",
      " 38  lea_crime_per_c_num                  float64\n",
      " 39  lea_short_susp_per_c_num             float64\n",
      " 40  lea_long_susp_per_c_num              float64\n",
      " 41  lea_expelled_per_c_num               float64\n",
      " 42  lea_stud_internet_comp_num           float64\n",
      " 43  st_crime_per_c_num                   float64\n",
      " 44  flicensed_teach_pct                  float64\n",
      " 45  tchyrs_0thru3_pct                    float64\n",
      " 46  tchyrs_4thru10_pct                   float64\n",
      " 47  tchyrs_11plus_pct                    float64\n",
      " 48  nbpts_num                            float64\n",
      " 49  advance_dgr_pct                      float64\n",
      " 50  _1yr_tchr_trnovr_pct                 float64\n",
      " 51  lateral_teach_pct                    float64\n",
      " 52  lea_flicensed_teach_pct              float64\n",
      " 53  lea_tchyrs_0thru3_pct                float64\n",
      " 54  lea_tchyrs_4thru10_pct               float64\n",
      " 55  lea_tchyrs_11plus_pct                float64\n",
      " 56  lea_nbpts_num                        float64\n",
      " 57  lea_advance_dgr_pct                  float64\n",
      " 58  lea_1yr_tchr_trnovr_pct              float64\n",
      " 59  lea_emer_prov_teach_pct              float64\n",
      " 60  st_flicensed_teach_pct               float64\n",
      " 61  st_tchyrs_0thru3_pct                 float64\n",
      " 62  st_1yr_tchr_trnovr_pct               float64\n",
      " 63  st_emer_prov_teach_pct               float64\n",
      " 64  0-3 Years_LEA_Exp_Pct_Prin           float64\n",
      " 65  10+ Years_LEA_Exp_Pct_Prin           float64\n",
      " 66  4-10 Years_LEA_Exp_Pct_Prin          float64\n",
      " 67  Accomplished_TCHR_Standard 1_Pct     float64\n",
      " 68  Accomplished_TCHR_Standard 2_Pct     float64\n",
      " 69  Accomplished_TCHR_Standard 3_Pct     float64\n",
      " 70  Accomplished_TCHR_Standard 4_Pct     float64\n",
      " 71  Accomplished_TCHR_Standard 5_Pct     float64\n",
      " 72  Developing_TCHR_Standard 1_Pct       float64\n",
      " 73  Developing_TCHR_Standard 2_Pct       float64\n",
      " 74  Developing_TCHR_Standard 3_Pct       float64\n",
      " 75  Developing_TCHR_Standard 4_Pct       float64\n",
      " 76  Developing_TCHR_Standard 5_Pct       float64\n",
      " 77  Distinguished_TCHR_Standard 1_Pct    float64\n",
      " 78  Distinguished_TCHR_Standard 2_Pct    float64\n",
      " 79  Distinguished_TCHR_Standard 3_Pct    float64\n",
      " 80  Distinguished_TCHR_Standard 4_Pct    float64\n",
      " 81  Distinguished_TCHR_Standard 5_Pct    float64\n",
      " 82  Not Demostrated_TCHR_Standard 1_Pct  float64\n",
      " 83  Not Demostrated_TCHR_Standard 2_Pct  float64\n",
      " 84  Not Demostrated_TCHR_Standard 4_Pct  float64\n",
      " 85  Proficient_TCHR_Standard 1_Pct       float64\n",
      " 86  Proficient_TCHR_Standard 2_Pct       float64\n",
      " 87  Proficient_TCHR_Standard 3_Pct       float64\n",
      " 88  Proficient_TCHR_Standard 4_Pct       float64\n",
      " 89  Proficient_TCHR_Standard 5_Pct       float64\n",
      " 90  AsianFemalePct                       float64\n",
      " 91  AsianMalePct                         float64\n",
      " 92  BlackFemalePct                       float64\n",
      " 93  BlackMalePct                         float64\n",
      " 94  HispanicFemalePct                    float64\n",
      " 95  HispanicMalePct                      float64\n",
      " 96  IndianFemalePct                      float64\n",
      " 97  MinorityFemalePct                    float64\n",
      " 98  MinorityMalePct                      float64\n",
      " 99  PacificIslandFemalePct               float64\n",
      " 100 PacificIslandMalePct                 float64\n",
      " 101 PacificIslandPct                     float64\n",
      " 102 TwoOrMoreFemalePct                   float64\n",
      " 103 TwoOrMoreMalePct                     float64\n",
      " 104 TwoOrMorePct                         float64\n",
      " 105 unit_code                            int64  \n",
      " 106 Year                                 int64  \n",
      "dtypes: float64(96), int64(2), object(9)\n",
      "memory usage: 7.9+ MB\n"
     ]
    }
   ],
   "source": [
    "# Remove All the Columns that directly used to calculate SPG Grade and Score\n",
    "schoolData.drop(schoolData.iloc[:, 21:162], inplace=True, axis=1)\n",
    "schoolData.info(verbose=True)"
   ]
  },
  {
   "cell_type": "code",
   "execution_count": 5,
   "metadata": {},
   "outputs": [
    {
     "name": "stdout",
     "output_type": "stream",
     "text": [
      "Columns To One-Hot Encode:  20\n",
      "\n",
      "*********After: Adding New Columns Via One-Hot Encoding*************************\n",
      "<class 'pandas.core.frame.DataFrame'>\n",
      "RangeIndex: 9731 entries, 0 to 9730\n",
      "Columns: 145 entries, szip_ad to Category_Cd_T\n",
      "dtypes: float64(96), int64(2), uint8(47)\n",
      "memory usage: 7.7 MB\n",
      "\n",
      "New Columns Created Via One-Hot Encoding:  38\n"
     ]
    }
   ],
   "source": [
    "#Isolate remaining categorical variables\n",
    "begColumnCt = len(schoolData.columns)\n",
    "\n",
    "#one hot encode categorical variables\n",
    "schoolData = pd.get_dummies(data=schoolData,drop_first=True)\n",
    "\n",
    "#Determine change in column count\n",
    "endColumnCt = len(schoolData.columns)\n",
    "columnsAdded = endColumnCt - begColumnCt\n",
    "\n",
    "#Review dataset contents one hot high unique value drops\n",
    "print('Columns To One-Hot Encode: ', len(sD_nominal.columns))\n",
    "print('\\r\\n*********After: Adding New Columns Via One-Hot Encoding*************************')\n",
    "schoolData.info(verbose=False)\n",
    "print ('\\r\\nNew Columns Created Via One-Hot Encoding: ', columnsAdded)"
   ]
  },
  {
   "cell_type": "code",
   "execution_count": 6,
   "metadata": {},
   "outputs": [
    {
     "data": {
      "text/plain": [
       "RandomForestClassifier()"
      ]
     },
     "execution_count": 6,
     "metadata": {},
     "output_type": "execute_result"
    }
   ],
   "source": [
    "# Random Forest apply to X with all variables\n",
    "from sklearn.ensemble import RandomForestClassifier\n",
    "clfa=RandomForestClassifier(n_estimators=100)\n",
    "clfa.fit(schoolData,schoolData_SPG)\n",
    "y_pred=clfa.predict(schoolData)"
   ]
  },
  {
   "cell_type": "code",
   "execution_count": 7,
   "metadata": {},
   "outputs": [
    {
     "name": "stdout",
     "output_type": "stream",
     "text": [
      "Accuracy: 1.0\n"
     ]
    }
   ],
   "source": [
    "from sklearn import metrics\n",
    "print(\"Accuracy:\",metrics.accuracy_score(schoolData_SPG, y_pred))"
   ]
  },
  {
   "cell_type": "code",
   "execution_count": 8,
   "metadata": {},
   "outputs": [
    {
     "data": {
      "text/html": [
       "\n",
       "    <style>\n",
       "    table.eli5-weights tr:hover {\n",
       "        filter: brightness(85%);\n",
       "    }\n",
       "</style>\n",
       "\n",
       "\n",
       "\n",
       "    \n",
       "\n",
       "    \n",
       "\n",
       "    \n",
       "\n",
       "    \n",
       "\n",
       "    \n",
       "\n",
       "    \n",
       "\n",
       "\n",
       "    \n",
       "\n",
       "    \n",
       "\n",
       "    \n",
       "\n",
       "    \n",
       "\n",
       "    \n",
       "\n",
       "    \n",
       "\n",
       "\n",
       "    \n",
       "\n",
       "    \n",
       "\n",
       "    \n",
       "\n",
       "    \n",
       "\n",
       "    \n",
       "        <table class=\"eli5-weights eli5-feature-importances\" style=\"border-collapse: collapse; border: none; margin-top: 0em; table-layout: auto;\">\n",
       "    <thead>\n",
       "    <tr style=\"border: none;\">\n",
       "        <th style=\"padding: 0 1em 0 0.5em; text-align: right; border: none;\">Weight</th>\n",
       "        <th style=\"padding: 0 0.5em 0 0.5em; text-align: left; border: none;\">Feature</th>\n",
       "    </tr>\n",
       "    </thead>\n",
       "    <tbody>\n",
       "    \n",
       "        <tr style=\"background-color: hsl(120, 100.00%, 80.00%); border: none;\">\n",
       "            <td style=\"padding: 0 1em 0 0.5em; text-align: right; border: none;\">\n",
       "                0.0259\n",
       "                \n",
       "                    &plusmn; 0.0014\n",
       "                \n",
       "            </td>\n",
       "            <td style=\"padding: 0 0.5em 0 0.5em; text-align: left; border: none;\">\n",
       "                TotalTargets_pTarget_PctMet\n",
       "            </td>\n",
       "        </tr>\n",
       "    \n",
       "        <tr style=\"background-color: hsl(120, 100.00%, 93.85%); border: none;\">\n",
       "            <td style=\"padding: 0 1em 0 0.5em; text-align: right; border: none;\">\n",
       "                0.0048\n",
       "                \n",
       "                    &plusmn; 0.0004\n",
       "                \n",
       "            </td>\n",
       "            <td style=\"padding: 0 0.5em 0 0.5em; text-align: left; border: none;\">\n",
       "                MinorityFemalePct\n",
       "            </td>\n",
       "        </tr>\n",
       "    \n",
       "        <tr style=\"background-color: hsl(120, 100.00%, 94.34%); border: none;\">\n",
       "            <td style=\"padding: 0 1em 0 0.5em; text-align: right; border: none;\">\n",
       "                0.0043\n",
       "                \n",
       "                    &plusmn; 0.0011\n",
       "                \n",
       "            </td>\n",
       "            <td style=\"padding: 0 0.5em 0 0.5em; text-align: left; border: none;\">\n",
       "                MinorityMalePct\n",
       "            </td>\n",
       "        </tr>\n",
       "    \n",
       "        <tr style=\"background-color: hsl(120, 100.00%, 95.75%); border: none;\">\n",
       "            <td style=\"padding: 0 1em 0 0.5em; text-align: right; border: none;\">\n",
       "                0.0028\n",
       "                \n",
       "                    &plusmn; 0.0007\n",
       "                \n",
       "            </td>\n",
       "            <td style=\"padding: 0 0.5em 0 0.5em; text-align: left; border: none;\">\n",
       "                BlackMalePct\n",
       "            </td>\n",
       "        </tr>\n",
       "    \n",
       "        <tr style=\"background-color: hsl(120, 100.00%, 96.19%); border: none;\">\n",
       "            <td style=\"padding: 0 1em 0 0.5em; text-align: right; border: none;\">\n",
       "                0.0024\n",
       "                \n",
       "                    &plusmn; 0.0009\n",
       "                \n",
       "            </td>\n",
       "            <td style=\"padding: 0 0.5em 0 0.5em; text-align: left; border: none;\">\n",
       "                short_susp_per_c_num\n",
       "            </td>\n",
       "        </tr>\n",
       "    \n",
       "        <tr style=\"background-color: hsl(120, 100.00%, 98.06%); border: none;\">\n",
       "            <td style=\"padding: 0 1em 0 0.5em; text-align: right; border: none;\">\n",
       "                0.0009\n",
       "                \n",
       "                    &plusmn; 0.0007\n",
       "                \n",
       "            </td>\n",
       "            <td style=\"padding: 0 0.5em 0 0.5em; text-align: left; border: none;\">\n",
       "                AsianFemalePct\n",
       "            </td>\n",
       "        </tr>\n",
       "    \n",
       "        <tr style=\"background-color: hsl(120, 100.00%, 98.31%); border: none;\">\n",
       "            <td style=\"padding: 0 1em 0 0.5em; text-align: right; border: none;\">\n",
       "                0.0008\n",
       "                \n",
       "                    &plusmn; 0.0004\n",
       "                \n",
       "            </td>\n",
       "            <td style=\"padding: 0 0.5em 0 0.5em; text-align: left; border: none;\">\n",
       "                title1_type_cd_Y\n",
       "            </td>\n",
       "        </tr>\n",
       "    \n",
       "        <tr style=\"background-color: hsl(120, 100.00%, 98.75%); border: none;\">\n",
       "            <td style=\"padding: 0 1em 0 0.5em; text-align: right; border: none;\">\n",
       "                0.0005\n",
       "                \n",
       "                    &plusmn; 0.0001\n",
       "                \n",
       "            </td>\n",
       "            <td style=\"padding: 0 0.5em 0 0.5em; text-align: left; border: none;\">\n",
       "                avg_daily_attend_pct\n",
       "            </td>\n",
       "        </tr>\n",
       "    \n",
       "        <tr style=\"background-color: hsl(120, 100.00%, 98.86%); border: none;\">\n",
       "            <td style=\"padding: 0 1em 0 0.5em; text-align: right; border: none;\">\n",
       "                0.0004\n",
       "                \n",
       "                    &plusmn; 0.0002\n",
       "                \n",
       "            </td>\n",
       "            <td style=\"padding: 0 0.5em 0 0.5em; text-align: left; border: none;\">\n",
       "                MathGr3-8_pTarget_PctMet\n",
       "            </td>\n",
       "        </tr>\n",
       "    \n",
       "        <tr style=\"background-color: hsl(120, 100.00%, 99.10%); border: none;\">\n",
       "            <td style=\"padding: 0 1em 0 0.5em; text-align: right; border: none;\">\n",
       "                0.0003\n",
       "                \n",
       "                    &plusmn; 0.0002\n",
       "                \n",
       "            </td>\n",
       "            <td style=\"padding: 0 0.5em 0 0.5em; text-align: left; border: none;\">\n",
       "                BlackFemalePct\n",
       "            </td>\n",
       "        </tr>\n",
       "    \n",
       "        <tr style=\"background-color: hsl(120, 100.00%, 99.10%); border: none;\">\n",
       "            <td style=\"padding: 0 1em 0 0.5em; text-align: right; border: none;\">\n",
       "                0.0003\n",
       "                \n",
       "                    &plusmn; 0.0002\n",
       "                \n",
       "            </td>\n",
       "            <td style=\"padding: 0 0.5em 0 0.5em; text-align: left; border: none;\">\n",
       "                HispanicMalePct\n",
       "            </td>\n",
       "        </tr>\n",
       "    \n",
       "        <tr style=\"background-color: hsl(120, 100.00%, 99.19%); border: none;\">\n",
       "            <td style=\"padding: 0 1em 0 0.5em; text-align: right; border: none;\">\n",
       "                0.0003\n",
       "                \n",
       "                    &plusmn; 0.0002\n",
       "                \n",
       "            </td>\n",
       "            <td style=\"padding: 0 0.5em 0 0.5em; text-align: left; border: none;\">\n",
       "                SciGr5&amp;8_pTarget_PctMet\n",
       "            </td>\n",
       "        </tr>\n",
       "    \n",
       "        <tr style=\"background-color: hsl(120, 100.00%, 99.19%); border: none;\">\n",
       "            <td style=\"padding: 0 1em 0 0.5em; text-align: right; border: none;\">\n",
       "                0.0003\n",
       "                \n",
       "                    &plusmn; 0.0003\n",
       "                \n",
       "            </td>\n",
       "            <td style=\"padding: 0 0.5em 0 0.5em; text-align: left; border: none;\">\n",
       "                AsianMalePct\n",
       "            </td>\n",
       "        </tr>\n",
       "    \n",
       "        <tr style=\"background-color: hsl(120, 100.00%, 99.32%); border: none;\">\n",
       "            <td style=\"padding: 0 1em 0 0.5em; text-align: right; border: none;\">\n",
       "                0.0002\n",
       "                \n",
       "                    &plusmn; 0.0001\n",
       "                \n",
       "            </td>\n",
       "            <td style=\"padding: 0 0.5em 0 0.5em; text-align: left; border: none;\">\n",
       "                HispanicFemalePct\n",
       "            </td>\n",
       "        </tr>\n",
       "    \n",
       "        <tr style=\"background-color: hsl(120, 100.00%, 99.47%); border: none;\">\n",
       "            <td style=\"padding: 0 1em 0 0.5em; text-align: right; border: none;\">\n",
       "                0.0001\n",
       "                \n",
       "                    &plusmn; 0.0002\n",
       "                \n",
       "            </td>\n",
       "            <td style=\"padding: 0 0.5em 0 0.5em; text-align: left; border: none;\">\n",
       "                nbpts_num\n",
       "            </td>\n",
       "        </tr>\n",
       "    \n",
       "        <tr style=\"background-color: hsl(120, 100.00%, 99.71%); border: none;\">\n",
       "            <td style=\"padding: 0 1em 0 0.5em; text-align: right; border: none;\">\n",
       "                0.0001\n",
       "                \n",
       "                    &plusmn; 0.0001\n",
       "                \n",
       "            </td>\n",
       "            <td style=\"padding: 0 0.5em 0 0.5em; text-align: left; border: none;\">\n",
       "                lea_sat_participation_pct\n",
       "            </td>\n",
       "        </tr>\n",
       "    \n",
       "        <tr style=\"background-color: hsl(120, 100.00%, 99.78%); border: none;\">\n",
       "            <td style=\"padding: 0 1em 0 0.5em; text-align: right; border: none;\">\n",
       "                0.0000\n",
       "                \n",
       "                    &plusmn; 0.0001\n",
       "                \n",
       "            </td>\n",
       "            <td style=\"padding: 0 0.5em 0 0.5em; text-align: left; border: none;\">\n",
       "                lea_sat_avg_score_num\n",
       "            </td>\n",
       "        </tr>\n",
       "    \n",
       "        <tr style=\"background-color: hsl(120, 100.00%, 99.78%); border: none;\">\n",
       "            <td style=\"padding: 0 1em 0 0.5em; text-align: right; border: none;\">\n",
       "                0.0000\n",
       "                \n",
       "                    &plusmn; 0.0001\n",
       "                \n",
       "            </td>\n",
       "            <td style=\"padding: 0 0.5em 0 0.5em; text-align: left; border: none;\">\n",
       "                Accomplished_TCHR_Standard 4_Pct\n",
       "            </td>\n",
       "        </tr>\n",
       "    \n",
       "        <tr style=\"background-color: hsl(120, 100.00%, 99.78%); border: none;\">\n",
       "            <td style=\"padding: 0 1em 0 0.5em; text-align: right; border: none;\">\n",
       "                0.0000\n",
       "                \n",
       "                    &plusmn; 0.0001\n",
       "                \n",
       "            </td>\n",
       "            <td style=\"padding: 0 0.5em 0 0.5em; text-align: left; border: none;\">\n",
       "                TwoOrMorePct\n",
       "            </td>\n",
       "        </tr>\n",
       "    \n",
       "        <tr style=\"background-color: hsl(120, 100.00%, 99.78%); border: none;\">\n",
       "            <td style=\"padding: 0 1em 0 0.5em; text-align: right; border: none;\">\n",
       "                0.0000\n",
       "                \n",
       "                    &plusmn; 0.0001\n",
       "                \n",
       "            </td>\n",
       "            <td style=\"padding: 0 0.5em 0 0.5em; text-align: left; border: none;\">\n",
       "                lea_ap_participation_pct\n",
       "            </td>\n",
       "        </tr>\n",
       "    \n",
       "        <tr style=\"background-color: hsl(120, 100.00%, 99.78%); border: none;\">\n",
       "            <td style=\"padding: 0 1em 0 0.5em; text-align: right; border: none;\">\n",
       "                0.0000\n",
       "                \n",
       "                    &plusmn; 0.0001\n",
       "                \n",
       "            </td>\n",
       "            <td style=\"padding: 0 0.5em 0 0.5em; text-align: left; border: none;\">\n",
       "                lea_ap_pct_3_or_above\n",
       "            </td>\n",
       "        </tr>\n",
       "    \n",
       "        <tr style=\"background-color: hsl(120, 100.00%, 99.86%); border: none;\">\n",
       "            <td style=\"padding: 0 1em 0 0.5em; text-align: right; border: none;\">\n",
       "                0.0000\n",
       "                \n",
       "                    &plusmn; 0.0001\n",
       "                \n",
       "            </td>\n",
       "            <td style=\"padding: 0 0.5em 0 0.5em; text-align: left; border: none;\">\n",
       "                Proficient_TCHR_Standard 1_Pct\n",
       "            </td>\n",
       "        </tr>\n",
       "    \n",
       "        <tr style=\"background-color: hsl(120, 100.00%, 99.86%); border: none;\">\n",
       "            <td style=\"padding: 0 1em 0 0.5em; text-align: right; border: none;\">\n",
       "                0.0000\n",
       "                \n",
       "                    &plusmn; 0.0001\n",
       "                \n",
       "            </td>\n",
       "            <td style=\"padding: 0 0.5em 0 0.5em; text-align: left; border: none;\">\n",
       "                Proficient_TCHR_Standard 5_Pct\n",
       "            </td>\n",
       "        </tr>\n",
       "    \n",
       "        <tr style=\"background-color: hsl(120, 100.00%, 99.86%); border: none;\">\n",
       "            <td style=\"padding: 0 1em 0 0.5em; text-align: right; border: none;\">\n",
       "                0.0000\n",
       "                \n",
       "                    &plusmn; 0.0001\n",
       "                \n",
       "            </td>\n",
       "            <td style=\"padding: 0 0.5em 0 0.5em; text-align: left; border: none;\">\n",
       "                st_flicensed_teach_pct\n",
       "            </td>\n",
       "        </tr>\n",
       "    \n",
       "        <tr style=\"background-color: hsl(0, 100.00%, 100.00%); border: none;\">\n",
       "            <td style=\"padding: 0 1em 0 0.5em; text-align: right; border: none;\">\n",
       "                0\n",
       "                \n",
       "                    &plusmn; 0.0000\n",
       "                \n",
       "            </td>\n",
       "            <td style=\"padding: 0 0.5em 0 0.5em; text-align: left; border: none;\">\n",
       "                Developing_TCHR_Standard 2_Pct\n",
       "            </td>\n",
       "        </tr>\n",
       "    \n",
       "        <tr style=\"background-color: hsl(0, 100.00%, 100.00%); border: none;\">\n",
       "            <td style=\"padding: 0 1em 0 0.5em; text-align: right; border: none;\">\n",
       "                0\n",
       "                \n",
       "                    &plusmn; 0.0000\n",
       "                \n",
       "            </td>\n",
       "            <td style=\"padding: 0 0.5em 0 0.5em; text-align: left; border: none;\">\n",
       "                Developing_TCHR_Standard 1_Pct\n",
       "            </td>\n",
       "        </tr>\n",
       "    \n",
       "        <tr style=\"background-color: hsl(0, 100.00%, 100.00%); border: none;\">\n",
       "            <td style=\"padding: 0 1em 0 0.5em; text-align: right; border: none;\">\n",
       "                0\n",
       "                \n",
       "                    &plusmn; 0.0000\n",
       "                \n",
       "            </td>\n",
       "            <td style=\"padding: 0 0.5em 0 0.5em; text-align: left; border: none;\">\n",
       "                Accomplished_TCHR_Standard 5_Pct\n",
       "            </td>\n",
       "        </tr>\n",
       "    \n",
       "        <tr style=\"background-color: hsl(0, 100.00%, 100.00%); border: none;\">\n",
       "            <td style=\"padding: 0 1em 0 0.5em; text-align: right; border: none;\">\n",
       "                0\n",
       "                \n",
       "                    &plusmn; 0.0000\n",
       "                \n",
       "            </td>\n",
       "            <td style=\"padding: 0 0.5em 0 0.5em; text-align: left; border: none;\">\n",
       "                st_tchyrs_0thru3_pct\n",
       "            </td>\n",
       "        </tr>\n",
       "    \n",
       "        <tr style=\"background-color: hsl(0, 100.00%, 100.00%); border: none;\">\n",
       "            <td style=\"padding: 0 1em 0 0.5em; text-align: right; border: none;\">\n",
       "                0\n",
       "                \n",
       "                    &plusmn; 0.0000\n",
       "                \n",
       "            </td>\n",
       "            <td style=\"padding: 0 0.5em 0 0.5em; text-align: left; border: none;\">\n",
       "                Accomplished_TCHR_Standard 3_Pct\n",
       "            </td>\n",
       "        </tr>\n",
       "    \n",
       "        <tr style=\"background-color: hsl(0, 100.00%, 100.00%); border: none;\">\n",
       "            <td style=\"padding: 0 1em 0 0.5em; text-align: right; border: none;\">\n",
       "                0\n",
       "                \n",
       "                    &plusmn; 0.0000\n",
       "                \n",
       "            </td>\n",
       "            <td style=\"padding: 0 0.5em 0 0.5em; text-align: left; border: none;\">\n",
       "                Accomplished_TCHR_Standard 2_Pct\n",
       "            </td>\n",
       "        </tr>\n",
       "    \n",
       "        <tr style=\"background-color: hsl(0, 100.00%, 100.00%); border: none;\">\n",
       "            <td style=\"padding: 0 1em 0 0.5em; text-align: right; border: none;\">\n",
       "                0\n",
       "                \n",
       "                    &plusmn; 0.0000\n",
       "                \n",
       "            </td>\n",
       "            <td style=\"padding: 0 0.5em 0 0.5em; text-align: left; border: none;\">\n",
       "                Accomplished_TCHR_Standard 1_Pct\n",
       "            </td>\n",
       "        </tr>\n",
       "    \n",
       "        <tr style=\"background-color: hsl(0, 100.00%, 100.00%); border: none;\">\n",
       "            <td style=\"padding: 0 1em 0 0.5em; text-align: right; border: none;\">\n",
       "                0\n",
       "                \n",
       "                    &plusmn; 0.0000\n",
       "                \n",
       "            </td>\n",
       "            <td style=\"padding: 0 0.5em 0 0.5em; text-align: left; border: none;\">\n",
       "                st_1yr_tchr_trnovr_pct\n",
       "            </td>\n",
       "        </tr>\n",
       "    \n",
       "        <tr style=\"background-color: hsl(0, 100.00%, 100.00%); border: none;\">\n",
       "            <td style=\"padding: 0 1em 0 0.5em; text-align: right; border: none;\">\n",
       "                0\n",
       "                \n",
       "                    &plusmn; 0.0000\n",
       "                \n",
       "            </td>\n",
       "            <td style=\"padding: 0 0.5em 0 0.5em; text-align: left; border: none;\">\n",
       "                4-10 Years_LEA_Exp_Pct_Prin\n",
       "            </td>\n",
       "        </tr>\n",
       "    \n",
       "        <tr style=\"background-color: hsl(0, 100.00%, 100.00%); border: none;\">\n",
       "            <td style=\"padding: 0 1em 0 0.5em; text-align: right; border: none;\">\n",
       "                0\n",
       "                \n",
       "                    &plusmn; 0.0000\n",
       "                \n",
       "            </td>\n",
       "            <td style=\"padding: 0 0.5em 0 0.5em; text-align: left; border: none;\">\n",
       "                10+ Years_LEA_Exp_Pct_Prin\n",
       "            </td>\n",
       "        </tr>\n",
       "    \n",
       "        <tr style=\"background-color: hsl(0, 100.00%, 100.00%); border: none;\">\n",
       "            <td style=\"padding: 0 1em 0 0.5em; text-align: right; border: none;\">\n",
       "                0\n",
       "                \n",
       "                    &plusmn; 0.0000\n",
       "                \n",
       "            </td>\n",
       "            <td style=\"padding: 0 0.5em 0 0.5em; text-align: left; border: none;\">\n",
       "                0-3 Years_LEA_Exp_Pct_Prin\n",
       "            </td>\n",
       "        </tr>\n",
       "    \n",
       "        <tr style=\"background-color: hsl(0, 100.00%, 100.00%); border: none;\">\n",
       "            <td style=\"padding: 0 1em 0 0.5em; text-align: right; border: none;\">\n",
       "                0\n",
       "                \n",
       "                    &plusmn; 0.0000\n",
       "                \n",
       "            </td>\n",
       "            <td style=\"padding: 0 0.5em 0 0.5em; text-align: left; border: none;\">\n",
       "                lea_1yr_tchr_trnovr_pct\n",
       "            </td>\n",
       "        </tr>\n",
       "    \n",
       "        <tr style=\"background-color: hsl(0, 100.00%, 100.00%); border: none;\">\n",
       "            <td style=\"padding: 0 1em 0 0.5em; text-align: right; border: none;\">\n",
       "                0\n",
       "                \n",
       "                    &plusmn; 0.0000\n",
       "                \n",
       "            </td>\n",
       "            <td style=\"padding: 0 0.5em 0 0.5em; text-align: left; border: none;\">\n",
       "                crime_per_c_num\n",
       "            </td>\n",
       "        </tr>\n",
       "    \n",
       "        <tr style=\"background-color: hsl(0, 100.00%, 100.00%); border: none;\">\n",
       "            <td style=\"padding: 0 1em 0 0.5em; text-align: right; border: none;\">\n",
       "                0\n",
       "                \n",
       "                    &plusmn; 0.0000\n",
       "                \n",
       "            </td>\n",
       "            <td style=\"padding: 0 0.5em 0 0.5em; text-align: left; border: none;\">\n",
       "                lea_federal_perpupil_num\n",
       "            </td>\n",
       "        </tr>\n",
       "    \n",
       "        <tr style=\"background-color: hsl(0, 100.00%, 100.00%); border: none;\">\n",
       "            <td style=\"padding: 0 1em 0 0.5em; text-align: right; border: none;\">\n",
       "                0\n",
       "                \n",
       "                    &plusmn; 0.0000\n",
       "                \n",
       "            </td>\n",
       "            <td style=\"padding: 0 0.5em 0 0.5em; text-align: left; border: none;\">\n",
       "                lea_local_perpupil_num\n",
       "            </td>\n",
       "        </tr>\n",
       "    \n",
       "        <tr style=\"background-color: hsl(0, 100.00%, 100.00%); border: none;\">\n",
       "            <td style=\"padding: 0 1em 0 0.5em; text-align: right; border: none;\">\n",
       "                0\n",
       "                \n",
       "                    &plusmn; 0.0000\n",
       "                \n",
       "            </td>\n",
       "            <td style=\"padding: 0 0.5em 0 0.5em; text-align: left; border: none;\">\n",
       "                _1yr_tchr_trnovr_pct\n",
       "            </td>\n",
       "        </tr>\n",
       "    \n",
       "        <tr style=\"background-color: hsl(0, 100.00%, 100.00%); border: none;\">\n",
       "            <td style=\"padding: 0 1em 0 0.5em; text-align: right; border: none;\">\n",
       "                0\n",
       "                \n",
       "                    &plusmn; 0.0000\n",
       "                \n",
       "            </td>\n",
       "            <td style=\"padding: 0 0.5em 0 0.5em; text-align: left; border: none;\">\n",
       "                lea_emer_prov_teach_pct\n",
       "            </td>\n",
       "        </tr>\n",
       "    \n",
       "        <tr style=\"background-color: hsl(0, 100.00%, 100.00%); border: none;\">\n",
       "            <td style=\"padding: 0 1em 0 0.5em; text-align: right; border: none;\">\n",
       "                0\n",
       "                \n",
       "                    &plusmn; 0.0000\n",
       "                \n",
       "            </td>\n",
       "            <td style=\"padding: 0 0.5em 0 0.5em; text-align: left; border: none;\">\n",
       "                st_emer_prov_teach_pct\n",
       "            </td>\n",
       "        </tr>\n",
       "    \n",
       "        <tr style=\"background-color: hsl(0, 100.00%, 100.00%); border: none;\">\n",
       "            <td style=\"padding: 0 1em 0 0.5em; text-align: right; border: none;\">\n",
       "                0\n",
       "                \n",
       "                    &plusmn; 0.0000\n",
       "                \n",
       "            </td>\n",
       "            <td style=\"padding: 0 0.5em 0 0.5em; text-align: left; border: none;\">\n",
       "                lea_advance_dgr_pct\n",
       "            </td>\n",
       "        </tr>\n",
       "    \n",
       "        <tr style=\"background-color: hsl(0, 100.00%, 100.00%); border: none;\">\n",
       "            <td style=\"padding: 0 1em 0 0.5em; text-align: right; border: none;\">\n",
       "                0\n",
       "                \n",
       "                    &plusmn; 0.0000\n",
       "                \n",
       "            </td>\n",
       "            <td style=\"padding: 0 0.5em 0 0.5em; text-align: left; border: none;\">\n",
       "                lea_nbpts_num\n",
       "            </td>\n",
       "        </tr>\n",
       "    \n",
       "        <tr style=\"background-color: hsl(0, 100.00%, 100.00%); border: none;\">\n",
       "            <td style=\"padding: 0 1em 0 0.5em; text-align: right; border: none;\">\n",
       "                0\n",
       "                \n",
       "                    &plusmn; 0.0000\n",
       "                \n",
       "            </td>\n",
       "            <td style=\"padding: 0 0.5em 0 0.5em; text-align: left; border: none;\">\n",
       "                Developing_TCHR_Standard 4_Pct\n",
       "            </td>\n",
       "        </tr>\n",
       "    \n",
       "        <tr style=\"background-color: hsl(0, 100.00%, 100.00%); border: none;\">\n",
       "            <td style=\"padding: 0 1em 0 0.5em; text-align: right; border: none;\">\n",
       "                0\n",
       "                \n",
       "                    &plusmn; 0.0000\n",
       "                \n",
       "            </td>\n",
       "            <td style=\"padding: 0 0.5em 0 0.5em; text-align: left; border: none;\">\n",
       "                lea_flicensed_teach_pct\n",
       "            </td>\n",
       "        </tr>\n",
       "    \n",
       "        <tr style=\"background-color: hsl(0, 100.00%, 100.00%); border: none;\">\n",
       "            <td style=\"padding: 0 1em 0 0.5em; text-align: right; border: none;\">\n",
       "                0\n",
       "                \n",
       "                    &plusmn; 0.0000\n",
       "                \n",
       "            </td>\n",
       "            <td style=\"padding: 0 0.5em 0 0.5em; text-align: left; border: none;\">\n",
       "                lea_tchyrs_0thru3_pct\n",
       "            </td>\n",
       "        </tr>\n",
       "    \n",
       "        <tr style=\"background-color: hsl(0, 100.00%, 100.00%); border: none;\">\n",
       "            <td style=\"padding: 0 1em 0 0.5em; text-align: right; border: none;\">\n",
       "                0\n",
       "                \n",
       "                    &plusmn; 0.0000\n",
       "                \n",
       "            </td>\n",
       "            <td style=\"padding: 0 0.5em 0 0.5em; text-align: left; border: none;\">\n",
       "                lea_tchyrs_4thru10_pct\n",
       "            </td>\n",
       "        </tr>\n",
       "    \n",
       "        <tr style=\"background-color: hsl(0, 100.00%, 100.00%); border: none;\">\n",
       "            <td style=\"padding: 0 1em 0 0.5em; text-align: right; border: none;\">\n",
       "                0\n",
       "                \n",
       "                    &plusmn; 0.0000\n",
       "                \n",
       "            </td>\n",
       "            <td style=\"padding: 0 0.5em 0 0.5em; text-align: left; border: none;\">\n",
       "                lea_tchyrs_11plus_pct\n",
       "            </td>\n",
       "        </tr>\n",
       "    \n",
       "        <tr style=\"background-color: hsl(0, 100.00%, 100.00%); border: none;\">\n",
       "            <td style=\"padding: 0 1em 0 0.5em; text-align: right; border: none;\">\n",
       "                0\n",
       "                \n",
       "                    &plusmn; 0.0000\n",
       "                \n",
       "            </td>\n",
       "            <td style=\"padding: 0 0.5em 0 0.5em; text-align: left; border: none;\">\n",
       "                lea_ib_pct_4_or_above\n",
       "            </td>\n",
       "        </tr>\n",
       "    \n",
       "    \n",
       "        \n",
       "            <tr style=\"background-color: hsl(0, 100.00%, 100.00%); border: none;\">\n",
       "                <td colspan=\"2\" style=\"padding: 0 0.5em 0 0.5em; text-align: center; border: none; white-space: nowrap;\">\n",
       "                    <i>&hellip; 95 more &hellip;</i>\n",
       "                </td>\n",
       "            </tr>\n",
       "        \n",
       "    \n",
       "    </tbody>\n",
       "</table>\n",
       "    \n",
       "\n",
       "    \n",
       "\n",
       "\n",
       "    \n",
       "\n",
       "    \n",
       "\n",
       "    \n",
       "\n",
       "    \n",
       "\n",
       "    \n",
       "\n",
       "    \n",
       "\n",
       "\n",
       "\n"
      ],
      "text/plain": [
       "<IPython.core.display.HTML object>"
      ]
     },
     "execution_count": 8,
     "metadata": {},
     "output_type": "execute_result"
    }
   ],
   "source": [
    "#For feature importance from RandomForestClassifier()\n",
    "import eli5\n",
    "from eli5.sklearn import PermutationImportance\n",
    "perm = PermutationImportance(clfa, random_state=1).fit(schoolData,schoolData_SPG)\n",
    "eli5.show_weights(perm, feature_names = schoolData.columns.tolist(), top=50)"
   ]
  },
  {
   "cell_type": "code",
   "execution_count": 21,
   "metadata": {},
   "outputs": [
    {
     "data": {
      "text/plain": [
       "(9731, 50)"
      ]
     },
     "execution_count": 21,
     "metadata": {},
     "output_type": "execute_result"
    }
   ],
   "source": [
    "#Pick and Choose variables\n",
    "schoolData_pick = schoolData[[\n",
    "'TotalTargets_pTarget_PctMet',\n",
    "'MinorityMalePct',\n",
    "'MinorityFemalePct',\n",
    "'short_susp_per_c_num',\n",
    "'avg_daily_attend_pct',\n",
    "'title1_type_cd_Y',\n",
    "'BlackMalePct',\n",
    "'AsianFemalePct',\n",
    "'BlackFemalePct',\n",
    "'HispanicMalePct',\n",
    "'MathGr3-8_pTarget_PctMet',\n",
    "'AsianMalePct',\n",
    "'SciGr5&8_pTarget_PctMet',\n",
    "'nbpts_num',\n",
    "'lea_sat_avg_score_num',\n",
    "'stud_internet_comp_num',\n",
    "'st_avg_student_num',\n",
    "'HispanicFemalePct',\n",
    "'Accomplished_TCHR_Standard 4_Pct',\n",
    "'Accomplished_TCHR_Standard 3_Pct',\n",
    "'Developing_TCHR_Standard 2_Pct',\n",
    "'Accomplished_TCHR_Standard 5_Pct',\n",
    "'10+ Years_LEA_Exp_Pct_Prin',\n",
    "'4-10 Years_LEA_Exp_Pct_Prin',\n",
    "'Accomplished_TCHR_Standard 1_Pct',\n",
    "'Accomplished_TCHR_Standard 2_Pct',\n",
    "'Developing_TCHR_Standard 1_Pct',\n",
    "'pct_GCE_ALL',\n",
    "'0-3 Years_LEA_Exp_Pct_Prin',\n",
    "'st_emer_prov_teach_pct',\n",
    "'lea_sat_participation_pct',\n",
    "'lea_ap_participation_pct',\n",
    "'lea_federal_perpupil_num',\n",
    "'lea_local_perpupil_num',\n",
    "'advance_dgr_pct',\n",
    "'Developing_TCHR_Standard 5_Pct',\n",
    "'lateral_teach_pct',\n",
    "'lea_flicensed_teach_pct',\n",
    "'Developing_TCHR_Standard 3_Pct',\n",
    "'lea_tchyrs_0thru3_pct',\n",
    "'lea_tchyrs_11plus_pct',\n",
    "'lea_nbpts_num',\n",
    "'lea_advance_dgr_pct',\n",
    "'lea_1yr_tchr_trnovr_pct',\n",
    "'lea_emer_prov_teach_pct',\n",
    "'st_flicensed_teach_pct',\n",
    "'st_tchyrs_0thru3_pct',\n",
    "'st_1yr_tchr_trnovr_pct',\n",
    "'lea_tchyrs_4thru10_pct',\n",
    "'Category_Cd_T',\n",
    "]]\n",
    "\n",
    "# Dataset Dimension with picked variables\n",
    "schoolData_pick.shape"
   ]
  },
  {
   "cell_type": "code",
   "execution_count": 22,
   "metadata": {},
   "outputs": [
    {
     "name": "stdout",
     "output_type": "stream",
     "text": [
      "ShuffleSplit(n_splits=3, random_state=None, test_size=0.2, train_size=None)\n"
     ]
    }
   ],
   "source": [
    "# Using ShuffleSplit for Training/Testing Split \n",
    "from sklearn.model_selection import ShuffleSplit\n",
    "# set seed\n",
    "np.random.seed(17)\n",
    "\n",
    "num_cv_iterations = 3\n",
    "num_instances = len(schoolData_SPG)\n",
    "cv_object = ShuffleSplit(n_splits=num_cv_iterations,\n",
    "                         test_size  = 0.2)\n",
    "                         \n",
    "print(cv_object)"
   ]
  },
  {
   "cell_type": "code",
   "execution_count": 25,
   "metadata": {},
   "outputs": [
    {
     "data": {
      "text/plain": [
       "RandomForestClassifier()"
      ]
     },
     "execution_count": 25,
     "metadata": {},
     "output_type": "execute_result"
    },
    {
     "data": {
      "text/plain": [
       "RandomForestClassifier()"
      ]
     },
     "execution_count": 25,
     "metadata": {},
     "output_type": "execute_result"
    },
    {
     "name": "stdout",
     "output_type": "stream",
     "text": [
      "Model with Selective Variables Accuracy: 0.6959424756034925\n",
      "Model with All Variables Accuracy: 0.7123780174627632\n"
     ]
    }
   ],
   "source": [
    "# Split X and Y into Training and Testing dataset\n",
    "for train_indices, test_indices in cv_object.split(schoolData_pick,schoolData_SPG): \n",
    "\n",
    "    Xsel_train = schoolData_pick.values[train_indices]\n",
    "    ysel_train = schoolData_SPG.values[train_indices]\n",
    "    Xall_train = schoolData.values[train_indices]\n",
    "    \n",
    "    Xsel_test = schoolData_pick.values[test_indices]\n",
    "    ysel_test = schoolData_SPG.values[test_indices]\n",
    "    Xall_test = schoolData.values[test_indices]\n",
    "    \n",
    "# Random Forest fitting with selective variables\n",
    "clf_rf=RandomForestClassifier(n_estimators=100)\n",
    "clf_rf.fit(Xsel_train,ysel_train)\n",
    "y_pred_rf=clf_rf.predict(Xsel_test)\n",
    "\n",
    "# Random Forest fitting with all variables\n",
    "clf_rf_all=RandomForestClassifier(n_estimators=100)\n",
    "clf_rf_all.fit(Xall_train,ysel_train)\n",
    "y_pred_rf_all=clf_rf_all.predict(Xall_test)\n",
    "\n",
    "print(\"Model with Selective Variables Accuracy:\",metrics.accuracy_score(ysel_test, y_pred_rf))\n",
    "print(\"Model with All Variables Accuracy:\",metrics.accuracy_score(ysel_test, y_pred_rf_all))"
   ]
  },
  {
   "cell_type": "code",
   "execution_count": 26,
   "metadata": {},
   "outputs": [
    {
     "data": {
      "text/html": [
       "<div>\n",
       "<style scoped>\n",
       "    .dataframe tbody tr th:only-of-type {\n",
       "        vertical-align: middle;\n",
       "    }\n",
       "\n",
       "    .dataframe tbody tr th {\n",
       "        vertical-align: top;\n",
       "    }\n",
       "\n",
       "    .dataframe thead th {\n",
       "        text-align: right;\n",
       "    }\n",
       "</style>\n",
       "<table border=\"1\" class=\"dataframe\">\n",
       "  <thead>\n",
       "    <tr style=\"text-align: right;\">\n",
       "      <th></th>\n",
       "      <th>0</th>\n",
       "    </tr>\n",
       "  </thead>\n",
       "  <tbody>\n",
       "    <tr>\n",
       "      <th>count</th>\n",
       "      <td>9216</td>\n",
       "    </tr>\n",
       "    <tr>\n",
       "      <th>unique</th>\n",
       "      <td>5</td>\n",
       "    </tr>\n",
       "    <tr>\n",
       "      <th>top</th>\n",
       "      <td>C</td>\n",
       "    </tr>\n",
       "    <tr>\n",
       "      <th>freq</th>\n",
       "      <td>3973</td>\n",
       "    </tr>\n",
       "  </tbody>\n",
       "</table>\n",
       "</div>"
      ],
      "text/plain": [
       "           0\n",
       "count   9216\n",
       "unique     5\n",
       "top        C\n",
       "freq    3973"
      ]
     },
     "execution_count": 26,
     "metadata": {},
     "output_type": "execute_result"
    }
   ],
   "source": [
    "schoolData_SPG_org = schoolData_SPG\n",
    "schoolData_SPG = schoolData_SPG_org\n",
    "\n",
    "schoolData_SPG= np.select(\n",
    "    [\n",
    "        schoolData_SPG == 'A', \n",
    "        schoolData_SPG == 'B',\n",
    "        schoolData_SPG == 'C',\n",
    "        schoolData_SPG == 'D',\n",
    "        schoolData_SPG == 'F',\n",
    "        schoolData_SPG == 'A+NG',\n",
    "        schoolData_SPG == 'I'\n",
    "    ], \n",
    "    [\n",
    "        'A', \n",
    "        'B',\n",
    "        'C',\n",
    "        'D',\n",
    "        'F',\n",
    "        'A',\n",
    "        'NA'\n",
    "    ],\n",
    "    default='NA'\n",
    ")\n",
    "\n",
    "#Filter out the sample with \"NA\" on SPG Grade\n",
    "schoolData_SPG_new = schoolData_SPG[schoolData_SPG!='NA']\n",
    "schoolData_pick_new = schoolData_pick[schoolData_SPG!='NA']\n",
    "\n",
    "# Check if the levels of SPG Grade has been altered\n",
    "s = pd.DataFrame(schoolData_SPG_new)\n",
    "s.describe()"
   ]
  },
  {
   "cell_type": "code",
   "execution_count": 27,
   "metadata": {},
   "outputs": [
    {
     "data": {
      "text/plain": [
       "<seaborn.axisgrid.FacetGrid at 0x138643310>"
      ]
     },
     "execution_count": 27,
     "metadata": {},
     "output_type": "execute_result"
    },
    {
     "data": {
      "image/png": "[encoded data removed]",
      "text/plain": [
       "<Figure size 720x360 with 1 Axes>"
      ]
     },
     "metadata": {
      "needs_background": "light"
     },
     "output_type": "display_data"
    }
   ],
   "source": [
    "#Factor Plot for SPG Grade\n",
    "s.columns=['SPG Grade']\n",
    "                        \n",
    "sns.factorplot(\"SPG Grade\", data=s, aspect=2,\n",
    "                       kind=\"count\", order=['A','B','C','D','F'])\n",
    "\n",
    "plt.show()"
   ]
  },
  {
   "cell_type": "code",
   "execution_count": 28,
   "metadata": {},
   "outputs": [
    {
     "data": {
      "text/plain": [
       "RandomForestClassifier()"
      ]
     },
     "execution_count": 28,
     "metadata": {},
     "output_type": "execute_result"
    },
    {
     "name": "stdout",
     "output_type": "stream",
     "text": [
      "Accuracy: 0.8708784293984395\n"
     ]
    }
   ],
   "source": [
    "from imblearn.over_sampling import SMOTE\n",
    "\n",
    "# Oversample using SMOTE\n",
    "# Make all classes the same size as the majority class.\n",
    "# WARNING - This can exponentially increase the size of the input dataset.\n",
    "sm = SMOTE(sampling_strategy='not majority')\n",
    "X_sm, y_sm = sm.fit_sample(schoolData_pick_new, pd.DataFrame(schoolData_SPG_new))\n",
    "\n",
    "#Training using Oversample Method\n",
    "for train_indices, test_indices in cv_object.split(X_sm,y_sm): \n",
    "\n",
    "    X_train = X_sm.values[train_indices]\n",
    "    y_train = y_sm.values[train_indices]\n",
    "    \n",
    "    X_test = X_sm.values[test_indices]\n",
    "    y_test = y_sm.values[test_indices]\n",
    "\n",
    "clfsm=RandomForestClassifier(n_estimators=100)\n",
    "clfsm.fit(X_train,y_train)\n",
    "y_pred_sm=clfsm.predict(X_test)\n",
    "\n",
    "print(\"Accuracy:\",metrics.accuracy_score(y_test, y_pred_sm))"
   ]
  },
  {
   "cell_type": "code",
   "execution_count": 33,
   "metadata": {},
   "outputs": [
    {
     "data": {
      "text/plain": [
       "{'C': 100, 'penalty': 'l1', 'solver': 'liblinear'}"
      ]
     },
     "execution_count": 33,
     "metadata": {},
     "output_type": "execute_result"
    }
   ],
   "source": [
    "grid.best_params_"
   ]
  },
  {
   "cell_type": "code",
   "execution_count": 35,
   "metadata": {},
   "outputs": [
    {
     "data": {
      "text/plain": [
       "LogisticRegression(C=100, penalty='l1', solver='liblinear')"
      ]
     },
     "execution_count": 35,
     "metadata": {},
     "output_type": "execute_result"
    },
    {
     "data": {
      "text/plain": [
       "0.653662219984898"
      ]
     },
     "execution_count": 35,
     "metadata": {},
     "output_type": "execute_result"
    }
   ],
   "source": [
    "from sklearn.metrics import accuracy_score\n",
    "\n",
    "log_reg_mod = LogisticRegression(C=100, penalty='l1', solver='liblinear')\n",
    "\n",
    "log_reg_mod.fit(X_train, y_train)\n",
    "pred = log_reg_mod.predict(X_test)\n",
    "\n",
    "accuracy_score(y_test, pred)"
   ]
  },
  {
   "cell_type": "code",
   "execution_count": 40,
   "metadata": {},
   "outputs": [
    {
     "data": {
      "text/plain": [
       "array([[628,  92,   8,   5,   0],\n",
       "       [144, 433, 195,  19,   2],\n",
       "       [ 14, 178, 399, 214,  19],\n",
       "       [  1,  25, 148, 441, 213],\n",
       "       [  0,   0,   5,  94, 696]])"
      ]
     },
     "execution_count": 40,
     "metadata": {},
     "output_type": "execute_result"
    }
   ],
   "source": [
    "from sklearn.metrics import confusion_matrix\n",
    "\n",
    "confusion_matrix(y_test, pred)"
   ]
  },
  {
   "cell_type": "code",
   "execution_count": 42,
   "metadata": {},
   "outputs": [
    {
     "data": {
      "text/plain": [
       "KNeighborsClassifier(metric='euclidean', n_neighbors=1)"
      ]
     },
     "execution_count": 42,
     "metadata": {},
     "output_type": "execute_result"
    },
    {
     "name": "stdout",
     "output_type": "stream",
     "text": [
      "Accuracy Score with 1 neighbors is 0.747294236093632\n"
     ]
    },
    {
     "data": {
      "text/plain": [
       "KNeighborsClassifier(metric='euclidean', n_neighbors=2)"
      ]
     },
     "execution_count": 42,
     "metadata": {},
     "output_type": "execute_result"
    },
    {
     "name": "stdout",
     "output_type": "stream",
     "text": [
      "Accuracy Score with 2 neighbors is 0.6911653662219985\n"
     ]
    },
    {
     "data": {
      "text/plain": [
       "KNeighborsClassifier(metric='euclidean', n_neighbors=3)"
      ]
     },
     "execution_count": 42,
     "metadata": {},
     "output_type": "execute_result"
    },
    {
     "name": "stdout",
     "output_type": "stream",
     "text": [
      "Accuracy Score with 3 neighbors is 0.6906619682859301\n"
     ]
    },
    {
     "data": {
      "text/plain": [
       "KNeighborsClassifier(metric='euclidean', n_neighbors=4)"
      ]
     },
     "execution_count": 42,
     "metadata": {},
     "output_type": "execute_result"
    },
    {
     "name": "stdout",
     "output_type": "stream",
     "text": [
      "Accuracy Score with 4 neighbors is 0.6682607601308834\n"
     ]
    },
    {
     "data": {
      "text/plain": [
       "KNeighborsClassifier(metric='euclidean')"
      ]
     },
     "execution_count": 42,
     "metadata": {},
     "output_type": "execute_result"
    },
    {
     "name": "stdout",
     "output_type": "stream",
     "text": [
      "Accuracy Score with 5 neighbors is 0.6647369745784042\n"
     ]
    },
    {
     "data": {
      "text/plain": [
       "KNeighborsClassifier(metric='euclidean', n_neighbors=6)"
      ]
     },
     "execution_count": 42,
     "metadata": {},
     "output_type": "execute_result"
    },
    {
     "name": "stdout",
     "output_type": "stream",
     "text": [
      "Accuracy Score with 6 neighbors is 0.647118046816008\n"
     ]
    },
    {
     "data": {
      "text/plain": [
       "KNeighborsClassifier(metric='euclidean', n_neighbors=7)"
      ]
     },
     "execution_count": 42,
     "metadata": {},
     "output_type": "execute_result"
    },
    {
     "name": "stdout",
     "output_type": "stream",
     "text": [
      "Accuracy Score with 7 neighbors is 0.6448527561037\n"
     ]
    },
    {
     "data": {
      "text/plain": [
       "KNeighborsClassifier(metric='euclidean', n_neighbors=8)"
      ]
     },
     "execution_count": 42,
     "metadata": {},
     "output_type": "execute_result"
    },
    {
     "name": "stdout",
     "output_type": "stream",
     "text": [
      "Accuracy Score with 8 neighbors is 0.6337780015101938\n"
     ]
    },
    {
     "data": {
      "text/plain": [
       "KNeighborsClassifier(metric='euclidean', n_neighbors=9)"
      ]
     },
     "execution_count": 42,
     "metadata": {},
     "output_type": "execute_result"
    },
    {
     "name": "stdout",
     "output_type": "stream",
     "text": [
      "Accuracy Score with 9 neighbors is 0.6224515479486534\n"
     ]
    },
    {
     "data": {
      "text/plain": [
       "KNeighborsClassifier(metric='euclidean', n_neighbors=10)"
      ]
     },
     "execution_count": 42,
     "metadata": {},
     "output_type": "execute_result"
    },
    {
     "name": "stdout",
     "output_type": "stream",
     "text": [
      "Accuracy Score with 10 neighbors is 0.6146488799395923\n"
     ]
    },
    {
     "data": {
      "text/plain": [
       "KNeighborsClassifier(metric='euclidean', n_neighbors=11)"
      ]
     },
     "execution_count": 42,
     "metadata": {},
     "output_type": "execute_result"
    },
    {
     "name": "stdout",
     "output_type": "stream",
     "text": [
      "Accuracy Score with 11 neighbors is 0.607853007802668\n"
     ]
    },
    {
     "data": {
      "text/plain": [
       "KNeighborsClassifier(metric='euclidean', n_neighbors=12)"
      ]
     },
     "execution_count": 42,
     "metadata": {},
     "output_type": "execute_result"
    },
    {
     "name": "stdout",
     "output_type": "stream",
     "text": [
      "Accuracy Score with 12 neighbors is 0.6035741253460861\n"
     ]
    },
    {
     "data": {
      "text/plain": [
       "KNeighborsClassifier(metric='euclidean', n_neighbors=13)"
      ]
     },
     "execution_count": 42,
     "metadata": {},
     "output_type": "execute_result"
    },
    {
     "name": "stdout",
     "output_type": "stream",
     "text": [
      "Accuracy Score with 13 neighbors is 0.5977850490812988\n"
     ]
    },
    {
     "data": {
      "text/plain": [
       "KNeighborsClassifier(metric='euclidean', n_neighbors=14)"
      ]
     },
     "execution_count": 42,
     "metadata": {},
     "output_type": "execute_result"
    },
    {
     "name": "stdout",
     "output_type": "stream",
     "text": [
      "Accuracy Score with 14 neighbors is 0.5922476717845457\n"
     ]
    },
    {
     "data": {
      "text/plain": [
       "KNeighborsClassifier(metric='euclidean', n_neighbors=15)"
      ]
     },
     "execution_count": 42,
     "metadata": {},
     "output_type": "execute_result"
    },
    {
     "name": "stdout",
     "output_type": "stream",
     "text": [
      "Accuracy Score with 15 neighbors is 0.591492574880443\n"
     ]
    },
    {
     "data": {
      "text/plain": [
       "KNeighborsClassifier(metric='euclidean', n_neighbors=16)"
      ]
     },
     "execution_count": 42,
     "metadata": {},
     "output_type": "execute_result"
    },
    {
     "name": "stdout",
     "output_type": "stream",
     "text": [
      "Accuracy Score with 16 neighbors is 0.5859551975836899\n"
     ]
    },
    {
     "data": {
      "text/plain": [
       "KNeighborsClassifier(metric='euclidean', n_neighbors=17)"
      ]
     },
     "execution_count": 42,
     "metadata": {},
     "output_type": "execute_result"
    },
    {
     "name": "stdout",
     "output_type": "stream",
     "text": [
      "Accuracy Score with 17 neighbors is 0.5814246161590737\n"
     ]
    },
    {
     "data": {
      "text/plain": [
       "KNeighborsClassifier(metric='euclidean', n_neighbors=18)"
      ]
     },
     "execution_count": 42,
     "metadata": {},
     "output_type": "execute_result"
    },
    {
     "name": "stdout",
     "output_type": "stream",
     "text": [
      "Accuracy Score with 18 neighbors is 0.577397432670526\n"
     ]
    },
    {
     "data": {
      "text/plain": [
       "KNeighborsClassifier(metric='euclidean', n_neighbors=19)"
      ]
     },
     "execution_count": 42,
     "metadata": {},
     "output_type": "execute_result"
    },
    {
     "name": "stdout",
     "output_type": "stream",
     "text": [
      "Accuracy Score with 19 neighbors is 0.5728668512459099\n"
     ]
    },
    {
     "data": {
      "text/plain": [
       "KNeighborsClassifier(metric='euclidean', n_neighbors=20)"
      ]
     },
     "execution_count": 42,
     "metadata": {},
     "output_type": "execute_result"
    },
    {
     "name": "stdout",
     "output_type": "stream",
     "text": [
      "Accuracy Score with 20 neighbors is 0.5678328718852252\n"
     ]
    }
   ],
   "source": [
    "from sklearn.neighbors import KNeighborsClassifier\n",
    "\n",
    "for i in range(1,21):\n",
    "    clf = KNeighborsClassifier(n_neighbors=i, weights='uniform', metric='euclidean')\n",
    "    clf.fit(X_train, y_train)\n",
    "    y_hat = clf.predict(X_test)\n",
    "    print('Accuracy Score with ' + str(i) + ' neighbors is ' + str(accuracy_score(y_test, y_hat)))\n",
    "\n"
   ]
  },
  {
   "cell_type": "markdown",
   "metadata": {},
   "source": [
    "KNN's accuracy isn't terrible, and it's generally better than logistic regression, regardless of the fact that we haven't tuned the model or scaled the data. Furthermore, we're still using the balanced data. What if knn has better performance on data that are not balanced? Would training one model on balanced data and another on unbalanced data impact our ability to ensemble the models later?"
   ]
  },
  {
   "cell_type": "code",
   "execution_count": 46,
   "metadata": {},
   "outputs": [
    {
     "name": "stdout",
     "output_type": "stream",
     "text": [
      "Fitting 3 folds for each of 40 candidates, totalling 120 fits\n"
     ]
    },
    {
     "name": "stderr",
     "output_type": "stream",
     "text": [
      "[Parallel(n_jobs=-1)]: Using backend LokyBackend with 8 concurrent workers.\n",
      "[Parallel(n_jobs=-1)]: Done  34 tasks      | elapsed:   43.5s\n",
      "[Parallel(n_jobs=-1)]: Done 120 out of 120 | elapsed:  2.6min finished\n"
     ]
    },
    {
     "data": {
      "text/plain": [
       "GridSearchCV(cv=3, estimator=KNeighborsClassifier(), n_jobs=-1,\n",
       "             param_grid={'metric': ['euclidean', 'manhattan'],\n",
       "                         'n_neighbors': [1, 2, 3, 4, 5, 6, 7, 8, 9, 10],\n",
       "                         'weights': ['uniform', 'distance']},\n",
       "             verbose=1)"
      ]
     },
     "execution_count": 46,
     "metadata": {},
     "output_type": "execute_result"
    }
   ],
   "source": [
    "#let's see what scaling and tuning does to the overall accuracy\n",
    "\n",
    "from sklearn.preprocessing import StandardScaler\n",
    "\n",
    "ss = StandardScaler()\n",
    "\n",
    "X_train_scaled = ss.fit_transform(X_train)\n",
    "X_test_scaled = ss.fit_transform(X_test)\n",
    "\n",
    "#Now let's do a grid search with KNN\n",
    "\n",
    "param_grid_knn = {'n_neighbors': [1,2,3,4,5,6,7,8,9,10],\n",
    "                 'weights': ['uniform', 'distance'],\n",
    "                 'metric': ['euclidean', 'manhattan']}\n",
    "\n",
    "grid_knn = GridSearchCV(KNeighborsClassifier(), param_grid_knn, verbose=1, cv=3, n_jobs=-1)\n",
    "\n",
    "grid_knn.fit(X_train_scaled, y_train)"
   ]
  },
  {
   "cell_type": "code",
   "execution_count": 48,
   "metadata": {},
   "outputs": [
    {
     "name": "stdout",
     "output_type": "stream",
     "text": [
      "{'metric': 'euclidean', 'n_neighbors': 1, 'weights': 'uniform'}\n",
      "0.834067275842156\n"
     ]
    }
   ],
   "source": [
    "print(grid_knn.best_params_)\n",
    "print(grid_knn.best_score_)"
   ]
  },
  {
   "cell_type": "code",
   "execution_count": 84,
   "metadata": {},
   "outputs": [
    {
     "data": {
      "text/plain": [
       "KNeighborsClassifier(metric='euclidean', n_neighbors=1)"
      ]
     },
     "execution_count": 84,
     "metadata": {},
     "output_type": "execute_result"
    },
    {
     "name": "stdout",
     "output_type": "stream",
     "text": [
      "0.8504908129876667\n",
      "0.8455155824406418\n",
      "0.8504908129876667\n",
      "[[730   3   0   0   0]\n",
      " [ 40 659  86   8   0]\n",
      " [ 14 182 473 146   9]\n",
      " [  2   9  59 723  35]\n",
      " [  0   1   0   0 794]]\n"
     ]
    }
   ],
   "source": [
    "from sklearn.metrics import precision_score\n",
    "from sklearn.metrics import recall_score\n",
    "from sklearn.metrics import precision_recall_curve\n",
    "\n",
    "knn_mod = KNeighborsClassifier(n_neighbors=1, weights='uniform', metric='euclidean')\n",
    "\n",
    "knn_mod.fit(X_train_scaled, y_train)\n",
    "\n",
    "pred_knn = knn_mod.predict(X_test_scaled)\n",
    "\n",
    "print(accuracy_score(y_test, pred_knn))\n",
    "print(precision_score(y_test, pred_knn, average='weighted'))\n",
    "print(recall_score(y_test, pred_knn, average='weighted'))\n",
    "print(confusion_matrix(y_test, pred_knn))\n",
    "\n"
   ]
  },
  {
   "cell_type": "markdown",
   "metadata": {},
   "source": [
    "KNN seems to be a solid algorithm for this problem. How about naive Bayes?"
   ]
  },
  {
   "cell_type": "code",
   "execution_count": 55,
   "metadata": {},
   "outputs": [
    {
     "data": {
      "text/plain": [
       "MultinomialNB(alpha=0)"
      ]
     },
     "execution_count": 55,
     "metadata": {},
     "output_type": "execute_result"
    },
    {
     "data": {
      "text/plain": [
       "BernoulliNB(alpha=0)"
      ]
     },
     "execution_count": 55,
     "metadata": {},
     "output_type": "execute_result"
    },
    {
     "name": "stdout",
     "output_type": "stream",
     "text": [
      "MNB Accuracy Score with alpha=0 is 0.3621948150012585\n",
      "BNB Accuracy Score with alpha=0 and binarize=0.0 is 0.4319154291467405\n"
     ]
    },
    {
     "data": {
      "text/plain": [
       "MultinomialNB(alpha=0)"
      ]
     },
     "execution_count": 55,
     "metadata": {},
     "output_type": "execute_result"
    },
    {
     "data": {
      "text/plain": [
       "BernoulliNB(alpha=0, binarize=0.02)"
      ]
     },
     "execution_count": 55,
     "metadata": {},
     "output_type": "execute_result"
    },
    {
     "name": "stdout",
     "output_type": "stream",
     "text": [
      "MNB Accuracy Score with alpha=0 is 0.3621948150012585\n",
      "BNB Accuracy Score with alpha=0 and binarize=0.02 is 0.45255474452554745\n"
     ]
    },
    {
     "data": {
      "text/plain": [
       "MultinomialNB(alpha=0)"
      ]
     },
     "execution_count": 55,
     "metadata": {},
     "output_type": "execute_result"
    },
    {
     "data": {
      "text/plain": [
       "BernoulliNB(alpha=0, binarize=0.04)"
      ]
     },
     "execution_count": 55,
     "metadata": {},
     "output_type": "execute_result"
    },
    {
     "name": "stdout",
     "output_type": "stream",
     "text": [
      "MNB Accuracy Score with alpha=0 is 0.3621948150012585\n",
      "BNB Accuracy Score with alpha=0 and binarize=0.04 is 0.47646614648879937\n"
     ]
    },
    {
     "data": {
      "text/plain": [
       "MultinomialNB(alpha=0.001)"
      ]
     },
     "execution_count": 55,
     "metadata": {},
     "output_type": "execute_result"
    },
    {
     "data": {
      "text/plain": [
       "BernoulliNB(alpha=0.001)"
      ]
     },
     "execution_count": 55,
     "metadata": {},
     "output_type": "execute_result"
    },
    {
     "name": "stdout",
     "output_type": "stream",
     "text": [
      "MNB Accuracy Score with alpha=0.001 is 0.3621948150012585\n",
      "BNB Accuracy Score with alpha=0.001 and binarize=0.0 is 0.4319154291467405\n"
     ]
    },
    {
     "data": {
      "text/plain": [
       "MultinomialNB(alpha=0.001)"
      ]
     },
     "execution_count": 55,
     "metadata": {},
     "output_type": "execute_result"
    },
    {
     "data": {
      "text/plain": [
       "BernoulliNB(alpha=0.001, binarize=0.02)"
      ]
     },
     "execution_count": 55,
     "metadata": {},
     "output_type": "execute_result"
    },
    {
     "name": "stdout",
     "output_type": "stream",
     "text": [
      "MNB Accuracy Score with alpha=0.001 is 0.3621948150012585\n",
      "BNB Accuracy Score with alpha=0.001 and binarize=0.02 is 0.45255474452554745\n"
     ]
    },
    {
     "data": {
      "text/plain": [
       "MultinomialNB(alpha=0.001)"
      ]
     },
     "execution_count": 55,
     "metadata": {},
     "output_type": "execute_result"
    },
    {
     "data": {
      "text/plain": [
       "BernoulliNB(alpha=0.001, binarize=0.04)"
      ]
     },
     "execution_count": 55,
     "metadata": {},
     "output_type": "execute_result"
    },
    {
     "name": "stdout",
     "output_type": "stream",
     "text": [
      "MNB Accuracy Score with alpha=0.001 is 0.3621948150012585\n",
      "BNB Accuracy Score with alpha=0.001 and binarize=0.04 is 0.47621444752076514\n"
     ]
    },
    {
     "data": {
      "text/plain": [
       "MultinomialNB(alpha=1)"
      ]
     },
     "execution_count": 55,
     "metadata": {},
     "output_type": "execute_result"
    },
    {
     "data": {
      "text/plain": [
       "BernoulliNB(alpha=1)"
      ]
     },
     "execution_count": 55,
     "metadata": {},
     "output_type": "execute_result"
    },
    {
     "name": "stdout",
     "output_type": "stream",
     "text": [
      "MNB Accuracy Score with alpha=1 is 0.3621948150012585\n",
      "BNB Accuracy Score with alpha=1 and binarize=0.0 is 0.4311603322426378\n"
     ]
    },
    {
     "data": {
      "text/plain": [
       "MultinomialNB(alpha=1)"
      ]
     },
     "execution_count": 55,
     "metadata": {},
     "output_type": "execute_result"
    },
    {
     "data": {
      "text/plain": [
       "BernoulliNB(alpha=1, binarize=0.02)"
      ]
     },
     "execution_count": 55,
     "metadata": {},
     "output_type": "execute_result"
    },
    {
     "name": "stdout",
     "output_type": "stream",
     "text": [
      "MNB Accuracy Score with alpha=1 is 0.3621948150012585\n",
      "BNB Accuracy Score with alpha=1 and binarize=0.02 is 0.4523030455575132\n"
     ]
    },
    {
     "data": {
      "text/plain": [
       "MultinomialNB(alpha=1)"
      ]
     },
     "execution_count": 55,
     "metadata": {},
     "output_type": "execute_result"
    },
    {
     "data": {
      "text/plain": [
       "BernoulliNB(alpha=1, binarize=0.04)"
      ]
     },
     "execution_count": 55,
     "metadata": {},
     "output_type": "execute_result"
    },
    {
     "name": "stdout",
     "output_type": "stream",
     "text": [
      "MNB Accuracy Score with alpha=1 is 0.3621948150012585\n",
      "BNB Accuracy Score with alpha=1 and binarize=0.04 is 0.4757110495846967\n"
     ]
    }
   ],
   "source": [
    "from sklearn.naive_bayes import BernoulliNB\n",
    "from sklearn.naive_bayes import MultinomialNB\n",
    "\n",
    "alphas = [0, .001, 1]\n",
    "binarize = [0.0, 0.02, 0.04]\n",
    "\n",
    "for alph in alphas:\n",
    "    for binar in binarize:\n",
    "        clf_mnb = MultinomialNB(alpha=alph)\n",
    "        clf_bnb = BernoulliNB(alpha=alph, binarize=binar)\n",
    "        clf_mnb.fit(X_train, y_train)\n",
    "        y_hat_mnb = clf_mnb.predict(X_test)\n",
    "        clf_bnb.fit(X_train, y_train)\n",
    "        y_hat_bnb = clf_bnb.predict(X_test)\n",
    "        print('MNB Accuracy Score with alpha=' + str(alph) + ' is ' + str(accuracy_score(y_test, y_hat_mnb)))\n",
    "        print('BNB Accuracy Score with alpha=' + str(alph) + ' and binarize=' + str(binar) +  ' is ' + str(accuracy_score(y_test, y_hat_bnb)))\n",
    "        \n"
   ]
  },
  {
   "cell_type": "code",
   "execution_count": 68,
   "metadata": {},
   "outputs": [
    {
     "name": "stdout",
     "output_type": "stream",
     "text": [
      "Fitting 5 folds for each of 32 candidates, totalling 160 fits\n"
     ]
    },
    {
     "name": "stderr",
     "output_type": "stream",
     "text": [
      "[Parallel(n_jobs=-1)]: Using backend LokyBackend with 8 concurrent workers.\n",
      "[Parallel(n_jobs=-1)]: Done  25 tasks      | elapsed:  1.9min\n",
      "[Parallel(n_jobs=-1)]: Done 160 out of 160 | elapsed:  9.0min finished\n"
     ]
    },
    {
     "data": {
      "text/plain": [
       "GridSearchCV(estimator=SVC(), n_jobs=-1,\n",
       "             param_grid={'C': [0.1, 1, 10, 100], 'gamma': [1, 0.1, 0.01, 0.001],\n",
       "                         'kernel': ['rbf', 'sigmoid']},\n",
       "             verbose=2)"
      ]
     },
     "execution_count": 68,
     "metadata": {},
     "output_type": "execute_result"
    }
   ],
   "source": [
    "from sklearn.svm import SVC\n",
    "\n",
    "param_grid_svm = {'C': [0.1, 1, 10, 100], 'gamma': [1, 0.1, 0.01, 0.001], \n",
    "             'kernel': ['rbf', 'sigmoid']}\n",
    "\n",
    "grid_svm = GridSearchCV(SVC(), param_grid_svm, refit=True, verbose=2, n_jobs=-1)\n",
    "grid_svm.fit(X_train_scaled, y_train)"
   ]
  },
  {
   "cell_type": "code",
   "execution_count": 69,
   "metadata": {},
   "outputs": [
    {
     "name": "stdout",
     "output_type": "stream",
     "text": [
      "{'C': 10, 'gamma': 0.1, 'kernel': 'rbf'}\n",
      "0.8800652725930533\n"
     ]
    }
   ],
   "source": [
    "print(grid_svm.best_params_)\n",
    "print(grid_svm.best_score_)"
   ]
  },
  {
   "cell_type": "code",
   "execution_count": 85,
   "metadata": {},
   "outputs": [
    {
     "data": {
      "text/plain": [
       "SVC(C=10, gamma=0.1)"
      ]
     },
     "execution_count": 85,
     "metadata": {},
     "output_type": "execute_result"
    },
    {
     "name": "stdout",
     "output_type": "stream",
     "text": [
      "0.8847218726403222\n",
      "0.884125774836915\n",
      "0.8847218726403222\n",
      "[[728   2   3   0   0]\n",
      " [ 22 644 127   0   0]\n",
      " [  1 105 621  96   1]\n",
      " [  0   4  79 734  11]\n",
      " [  0   1   0   6 788]]\n"
     ]
    }
   ],
   "source": [
    "svm_mod = SVC(C=10, gamma=0.1, kernel='rbf')\n",
    "\n",
    "svm_mod.fit(X_train_scaled, y_train)\n",
    "\n",
    "pred_svm = svm_mod.predict(X_test_scaled)\n",
    "\n",
    "print(accuracy_score(y_test, pred_svm))\n",
    "print(precision_score(y_test, pred_svm, average='weighted'))\n",
    "print(recall_score(y_test, pred_svm, average='weighted'))\n",
    "print(confusion_matrix(y_test, pred_svm))"
   ]
  },
  {
   "cell_type": "code",
   "execution_count": 70,
   "metadata": {},
   "outputs": [
    {
     "data": {
      "text/plain": [
       "GridSearchCV(estimator=DecisionTreeClassifier(), n_jobs=-1,\n",
       "             param_grid={'criterion': ['gini', 'entropy'],\n",
       "                         'max_depth': [4, 5, 6, 7, 8, 9, 10, 11, 12, 15, 20, 30,\n",
       "                                       40, 50, 70, 90, 120, 150]})"
      ]
     },
     "execution_count": 70,
     "metadata": {},
     "output_type": "execute_result"
    }
   ],
   "source": [
    "from sklearn.tree import DecisionTreeClassifier\n",
    "\n",
    "param_grid_tree = {'criterion':['gini','entropy'],'max_depth':[4,5,6,7,8,9,10,11,12,15,20,30,40,50,70,90,120,150]}\n",
    "\n",
    "grid_tree = GridSearchCV(DecisionTreeClassifier(), param_grid_tree, n_jobs=-1)\n",
    "grid_tree.fit(X_train, y_train)\n"
   ]
  },
  {
   "cell_type": "code",
   "execution_count": 71,
   "metadata": {},
   "outputs": [
    {
     "name": "stdout",
     "output_type": "stream",
     "text": [
      "{'criterion': 'entropy', 'max_depth': 70}\n",
      "0.7610115826584585\n"
     ]
    }
   ],
   "source": [
    "print(grid_tree.best_params_)\n",
    "print(grid_tree.best_score_)"
   ]
  },
  {
   "cell_type": "code",
   "execution_count": 73,
   "metadata": {},
   "outputs": [
    {
     "data": {
      "text/plain": [
       "DecisionTreeClassifier(criterion='entropy', max_depth=70)"
      ]
     },
     "execution_count": 73,
     "metadata": {},
     "output_type": "execute_result"
    },
    {
     "name": "stdout",
     "output_type": "stream",
     "text": [
      "0.7621444752076516\n",
      "[[686  42   4   1   0]\n",
      " [ 73 559 147  13   1]\n",
      " [ 12 171 480 150  11]\n",
      " [  3  19 147 575  84]\n",
      " [  0   1   8  58 728]]\n"
     ]
    }
   ],
   "source": [
    "tree_mod = DecisionTreeClassifier(criterion='entropy', max_depth=70)\n",
    "\n",
    "tree_mod.fit(X_train, y_train)\n",
    "\n",
    "pred_tree = tree_mod.predict(X_test)\n",
    "\n",
    "print(accuracy_score(y_test, pred_tree))\n",
    "print(confusion_matrix(y_test, pred_tree))"
   ]
  },
  {
   "cell_type": "markdown",
   "metadata": {},
   "source": [
    "I'm leaning toward using SVM, decision tree, and knn as my weak learners in the ensemble. In order to make that work, I'll need to re-train the decision tree on scaled data and see if it generates the same results."
   ]
  },
  {
   "cell_type": "code",
   "execution_count": 74,
   "metadata": {},
   "outputs": [
    {
     "data": {
      "text/plain": [
       "GridSearchCV(estimator=DecisionTreeClassifier(), n_jobs=-1,\n",
       "             param_grid={'criterion': ['gini', 'entropy'],\n",
       "                         'max_depth': [4, 5, 6, 7, 8, 9, 10, 11, 12, 15, 20, 30,\n",
       "                                       40, 50, 70, 90, 120, 150]})"
      ]
     },
     "execution_count": 74,
     "metadata": {},
     "output_type": "execute_result"
    }
   ],
   "source": [
    "param_grid_tree = {'criterion':['gini','entropy'],'max_depth':[4,5,6,7,8,9,10,11,12,15,20,30,40,50,70,90,120,150]}\n",
    "\n",
    "grid_tree = GridSearchCV(DecisionTreeClassifier(), param_grid_tree, n_jobs=-1)\n",
    "grid_tree.fit(X_train_scaled, y_train)"
   ]
  },
  {
   "cell_type": "code",
   "execution_count": 75,
   "metadata": {},
   "outputs": [
    {
     "name": "stdout",
     "output_type": "stream",
     "text": [
      "{'criterion': 'entropy', 'max_depth': 40}\n",
      "0.7615149449730186\n"
     ]
    }
   ],
   "source": [
    "print(grid_tree.best_params_)\n",
    "print(grid_tree.best_score_)"
   ]
  },
  {
   "cell_type": "code",
   "execution_count": 86,
   "metadata": {},
   "outputs": [
    {
     "data": {
      "text/plain": [
       "DecisionTreeClassifier(criterion='entropy', max_depth=40)"
      ]
     },
     "execution_count": 86,
     "metadata": {},
     "output_type": "execute_result"
    },
    {
     "name": "stdout",
     "output_type": "stream",
     "text": [
      "0.7420085577649131\n",
      "0.737149652825186\n",
      "0.7420085577649131\n",
      "[[672  57   3   1   0]\n",
      " [ 82 552 150   9   0]\n",
      " [ 20 181 443 171   9]\n",
      " [  3  20 142 568  95]\n",
      " [  2   0   8  72 713]]\n"
     ]
    }
   ],
   "source": [
    "tree_mod = DecisionTreeClassifier(criterion='entropy', max_depth=40)\n",
    "\n",
    "tree_mod.fit(X_train_scaled, y_train)\n",
    "\n",
    "pred_tree = tree_mod.predict(X_test_scaled)\n",
    "\n",
    "print(accuracy_score(y_test, pred_tree))\n",
    "print(precision_score(y_test, pred_tree, average='weighted'))\n",
    "print(recall_score(y_test, pred_tree, average='weighted'))\n",
    "print(confusion_matrix(y_test, pred_tree))"
   ]
  },
  {
   "cell_type": "markdown",
   "metadata": {},
   "source": [
    "Perfect. Let's now ensemble the models and see if that yields something even more accurate."
   ]
  },
  {
   "cell_type": "code",
   "execution_count": 87,
   "metadata": {},
   "outputs": [
    {
     "data": {
      "text/plain": [
       "VotingClassifier(estimators=[('KNN',\n",
       "                              KNeighborsClassifier(metric='euclidean',\n",
       "                                                   n_neighbors=1)),\n",
       "                             ('SVM', SVC(C=10, gamma=0.1)),\n",
       "                             ('DecisionTree',\n",
       "                              DecisionTreeClassifier(criterion='entropy',\n",
       "                                                     max_depth=40))])"
      ]
     },
     "execution_count": 87,
     "metadata": {},
     "output_type": "execute_result"
    },
    {
     "name": "stdout",
     "output_type": "stream",
     "text": [
      "0.8726403221746791\n",
      "0.8691490858545052\n",
      "0.8726403221746791\n",
      "[[732   1   0   0   0]\n",
      " [ 44 652  96   1   0]\n",
      " [ 15 145 559 103   2]\n",
      " [  1   4  77 732  14]\n",
      " [  0   1   0   2 792]]\n"
     ]
    }
   ],
   "source": [
    "from sklearn.ensemble import VotingClassifier\n",
    "\n",
    "mod_voting_hard = VotingClassifier(estimators=[('KNN', knn_mod),\n",
    "                                               ('SVM', svm_mod),\n",
    "                                               ('DecisionTree', tree_mod)], voting='hard')\n",
    "\n",
    "mod_voting_hard.fit(X_train_scaled, y_train)\n",
    "\n",
    "pred_voting_hard = mod_voting_hard.predict(X_test_scaled)\n",
    "\n",
    "print(accuracy_score(y_test, pred_voting_hard))\n",
    "print(precision_score(y_test, pred_voting_hard, average='weighted'))\n",
    "print(recall_score(y_test, pred_voting_hard, average='weighted'))\n",
    "print(confusion_matrix(y_test, pred_voting_hard))"
   ]
  },
  {
   "cell_type": "markdown",
   "metadata": {},
   "source": [
    "Sadly, this isn't any better than our SVM (possibly even worse). What if we optimized random forests and replaced the decision tree weak learner?"
   ]
  },
  {
   "cell_type": "code",
   "execution_count": 90,
   "metadata": {},
   "outputs": [
    {
     "name": "stdout",
     "output_type": "stream",
     "text": [
      "Fitting 5 folds for each of 10 candidates, totalling 50 fits\n"
     ]
    },
    {
     "name": "stderr",
     "output_type": "stream",
     "text": [
      "[Parallel(n_jobs=-1)]: Using backend LokyBackend with 8 concurrent workers.\n",
      "[Parallel(n_jobs=-1)]: Done  25 tasks      | elapsed: 10.8min\n",
      "[Parallel(n_jobs=-1)]: Done  50 out of  50 | elapsed: 16.6min finished\n"
     ]
    },
    {
     "data": {
      "text/plain": [
       "RandomizedSearchCV(estimator=RandomForestClassifier(), n_jobs=-1,\n",
       "                   param_distributions={'bootstrap': [True, False],\n",
       "                                        'max_depth': [10, 20, 30, 40, 50, 60,\n",
       "                                                      70, 80, 90, 100, None],\n",
       "                                        'max_features': ['auto', 'sqrt'],\n",
       "                                        'min_samples_leaf': [1, 2, 4],\n",
       "                                        'min_samples_split': [2, 5, 10],\n",
       "                                        'n_estimators': [200, 400, 600, 800,\n",
       "                                                         1000, 1200, 1400, 1600,\n",
       "                                                         1800, 2000]},\n",
       "                   verbose=2)"
      ]
     },
     "execution_count": 90,
     "metadata": {},
     "output_type": "execute_result"
    }
   ],
   "source": [
    "from sklearn.model_selection import RandomizedSearchCV\n",
    "\n",
    "param_grid_rf = {'bootstrap': [True, False],\n",
    " 'max_depth': [10, 20, 30, 40, 50, 60, 70, 80, 90, 100, None],\n",
    " 'max_features': ['auto', 'sqrt'],\n",
    " 'min_samples_leaf': [1, 2, 4],\n",
    " 'min_samples_split': [2, 5, 10],\n",
    " 'n_estimators': [200, 400, 600, 800, 1000, 1200, 1400, 1600, 1800, 2000]}\n",
    "\n",
    "#Have to do random search since grid search takes forever\n",
    "grid_rf = RandomizedSearchCV(RandomForestClassifier(), param_grid_rf, refit=True, verbose=2, n_jobs=-1)\n",
    "grid_rf.fit(X_train_scaled, y_train)"
   ]
  },
  {
   "cell_type": "code",
   "execution_count": 91,
   "metadata": {},
   "outputs": [
    {
     "name": "stdout",
     "output_type": "stream",
     "text": [
      "{'n_estimators': 1400, 'min_samples_split': 2, 'min_samples_leaf': 2, 'max_features': 'auto', 'max_depth': 60, 'bootstrap': False}\n",
      "0.873458174525199\n"
     ]
    }
   ],
   "source": [
    "print(grid_rf.best_params_)\n",
    "print(grid_rf.best_score_)"
   ]
  },
  {
   "cell_type": "code",
   "execution_count": 92,
   "metadata": {},
   "outputs": [
    {
     "data": {
      "text/plain": [
       "RandomForestClassifier(bootstrap=False, max_depth=60, min_samples_leaf=2,\n",
       "                       n_estimators=1400)"
      ]
     },
     "execution_count": 92,
     "metadata": {},
     "output_type": "execute_result"
    },
    {
     "name": "stdout",
     "output_type": "stream",
     "text": [
      "0.8708784293984395\n",
      "0.8678152924289253\n",
      "0.8708784293984395\n",
      "[[729   4   0   0   0]\n",
      " [ 43 677  72   1   0]\n",
      " [  0 120 571 131   2]\n",
      " [  0   3  80 703  42]\n",
      " [  0   1   2  12 780]]\n"
     ]
    }
   ],
   "source": [
    "\n",
    "rf_mod = RandomForestClassifier(n_estimators=1400, min_samples_split=2, min_samples_leaf=2, max_features='auto', max_depth=60, bootstrap=False)\n",
    "\n",
    "rf_mod.fit(X_train_scaled, y_train)\n",
    "\n",
    "pred_rf = rf_mod.predict(X_test_scaled)\n",
    "\n",
    "print(accuracy_score(y_test, pred_rf))\n",
    "print(precision_score(y_test, pred_rf, average='weighted'))\n",
    "print(recall_score(y_test, pred_rf, average='weighted'))\n",
    "print(confusion_matrix(y_test, pred_rf))\n"
   ]
  },
  {
   "cell_type": "markdown",
   "metadata": {},
   "source": [
    "### Our Accuracy - add to RF section\n",
    "\n",
    "After we address the data imbalance issue using UnderSample (2 method types) and SMOTE, we ran several classier methods to obtain the best accuracy.  \n",
    "Random Forest is a method used in prediction of classification models. The algorithm corrects for overfitting in our multiclass training dataset while generating an accuracy outcome. Random Forest can rank attributes by importance. Our accuracy with Random Forest using UnderSampling for all cases is poor accuracy at 66.9%. When accuracy is ran with UnderSample Major cases the accuracy improves to 77.7%, but still low. The accuracy score increase to 87.5% using SMOTE - more than 20% higher than the UnderSampling for all cases. The accuracy can be understand that using Random Forest our classification model can predict SPG Grade with an accuracy of 87.5%."
   ]
  },
  {
   "cell_type": "code",
   "execution_count": 93,
   "metadata": {},
   "outputs": [
    {
     "data": {
      "text/plain": [
       "VotingClassifier(estimators=[('KNN',\n",
       "                              KNeighborsClassifier(metric='euclidean',\n",
       "                                                   n_neighbors=1)),\n",
       "                             ('SVM', SVC(C=10, gamma=0.1)),\n",
       "                             ('RandomForest',\n",
       "                              RandomForestClassifier(bootstrap=False,\n",
       "                                                     max_depth=60,\n",
       "                                                     min_samples_leaf=2,\n",
       "                                                     n_estimators=1400))])"
      ]
     },
     "execution_count": 93,
     "metadata": {},
     "output_type": "execute_result"
    },
    {
     "name": "stdout",
     "output_type": "stream",
     "text": [
      "0.8874905612886987\n",
      "0.884766552352281\n",
      "0.8874905612886987\n",
      "[[732   1   0   0   0]\n",
      " [ 34 666  93   0   0]\n",
      " [  5 116 591 110   2]\n",
      " [  1   4  67 743  13]\n",
      " [  0   1   0   0 794]]\n"
     ]
    }
   ],
   "source": [
    "mod_voting_hard_2 = VotingClassifier(estimators=[('KNN', knn_mod),\n",
    "                                               ('SVM', svm_mod),\n",
    "                                               ('RandomForest', rf_mod)], voting='hard')\n",
    "\n",
    "mod_voting_hard_2.fit(X_train_scaled, y_train)\n",
    "\n",
    "pred_voting_hard_2 = mod_voting_hard_2.predict(X_test_scaled)\n",
    "\n",
    "print(accuracy_score(y_test, pred_voting_hard_2))\n",
    "print(precision_score(y_test, pred_voting_hard_2, average='weighted'))\n",
    "print(recall_score(y_test, pred_voting_hard_2, average='weighted'))\n",
    "print(confusion_matrix(y_test, pred_voting_hard_2))"
   ]
  },
  {
   "cell_type": "markdown",
   "metadata": {},
   "source": [
    "Interesting...it seems like we're hitting a wall at 88%-89% accuracy. Not bad, all things considered, but I have one more idea: what if we use all our classifiers, regardless of their overall performance? Let's add logistic regression and naive Bayes to the mix to see if that improves the accuracy."
   ]
  },
  {
   "cell_type": "code",
   "execution_count": 94,
   "metadata": {},
   "outputs": [
    {
     "name": "stdout",
     "output_type": "stream",
     "text": [
      "Fitting 5 folds for each of 12 candidates, totalling 60 fits\n",
      "[CV] C=0.1, penalty=l1, solver=liblinear .............................\n"
     ]
    },
    {
     "name": "stderr",
     "output_type": "stream",
     "text": [
      "[Parallel(n_jobs=1)]: Using backend SequentialBackend with 1 concurrent workers.\n"
     ]
    },
    {
     "name": "stdout",
     "output_type": "stream",
     "text": [
      "[CV] .............. C=0.1, penalty=l1, solver=liblinear, total=   2.0s\n",
      "[CV] C=0.1, penalty=l1, solver=liblinear .............................\n"
     ]
    },
    {
     "name": "stderr",
     "output_type": "stream",
     "text": [
      "[Parallel(n_jobs=1)]: Done   1 out of   1 | elapsed:    2.0s remaining:    0.0s\n"
     ]
    },
    {
     "name": "stdout",
     "output_type": "stream",
     "text": [
      "[CV] .............. C=0.1, penalty=l1, solver=liblinear, total=   2.0s\n",
      "[CV] C=0.1, penalty=l1, solver=liblinear .............................\n",
      "[CV] .............. C=0.1, penalty=l1, solver=liblinear, total=   1.6s\n",
      "[CV] C=0.1, penalty=l1, solver=liblinear .............................\n",
      "[CV] .............. C=0.1, penalty=l1, solver=liblinear, total=   1.6s\n",
      "[CV] C=0.1, penalty=l1, solver=liblinear .............................\n",
      "[CV] .............. C=0.1, penalty=l1, solver=liblinear, total=   1.7s\n",
      "[CV] C=0.1, penalty=l1, solver=lbfgs .................................\n",
      "[CV] .................. C=0.1, penalty=l1, solver=lbfgs, total=   0.0s\n",
      "[CV] C=0.1, penalty=l1, solver=lbfgs .................................\n",
      "[CV] .................. C=0.1, penalty=l1, solver=lbfgs, total=   0.0s\n",
      "[CV] C=0.1, penalty=l1, solver=lbfgs .................................\n",
      "[CV] .................. C=0.1, penalty=l1, solver=lbfgs, total=   0.0s\n",
      "[CV] C=0.1, penalty=l1, solver=lbfgs .................................\n",
      "[CV] .................. C=0.1, penalty=l1, solver=lbfgs, total=   0.0s\n",
      "[CV] C=0.1, penalty=l1, solver=lbfgs .................................\n",
      "[CV] .................. C=0.1, penalty=l1, solver=lbfgs, total=   0.0s\n",
      "[CV] C=0.1, penalty=l2, solver=liblinear .............................\n",
      "[CV] .............. C=0.1, penalty=l2, solver=liblinear, total=   1.4s\n",
      "[CV] C=0.1, penalty=l2, solver=liblinear .............................\n",
      "[CV] .............. C=0.1, penalty=l2, solver=liblinear, total=   1.4s\n",
      "[CV] C=0.1, penalty=l2, solver=liblinear .............................\n",
      "[CV] .............. C=0.1, penalty=l2, solver=liblinear, total=   1.4s\n",
      "[CV] C=0.1, penalty=l2, solver=liblinear .............................\n",
      "[CV] .............. C=0.1, penalty=l2, solver=liblinear, total=   1.4s\n",
      "[CV] C=0.1, penalty=l2, solver=liblinear .............................\n",
      "[CV] .............. C=0.1, penalty=l2, solver=liblinear, total=   1.4s\n",
      "[CV] C=0.1, penalty=l2, solver=lbfgs .................................\n",
      "[CV] .................. C=0.1, penalty=l2, solver=lbfgs, total=   0.4s\n",
      "[CV] C=0.1, penalty=l2, solver=lbfgs .................................\n",
      "[CV] .................. C=0.1, penalty=l2, solver=lbfgs, total=   0.4s\n",
      "[CV] C=0.1, penalty=l2, solver=lbfgs .................................\n",
      "[CV] .................. C=0.1, penalty=l2, solver=lbfgs, total=   0.4s\n",
      "[CV] C=0.1, penalty=l2, solver=lbfgs .................................\n",
      "[CV] .................. C=0.1, penalty=l2, solver=lbfgs, total=   0.4s\n",
      "[CV] C=0.1, penalty=l2, solver=lbfgs .................................\n",
      "[CV] .................. C=0.1, penalty=l2, solver=lbfgs, total=   0.4s\n",
      "[CV] C=10, penalty=l1, solver=liblinear ..............................\n",
      "[CV] ............... C=10, penalty=l1, solver=liblinear, total=  14.0s\n",
      "[CV] C=10, penalty=l1, solver=liblinear ..............................\n",
      "[CV] ............... C=10, penalty=l1, solver=liblinear, total=  12.8s\n",
      "[CV] C=10, penalty=l1, solver=liblinear ..............................\n",
      "[CV] ............... C=10, penalty=l1, solver=liblinear, total=  13.5s\n",
      "[CV] C=10, penalty=l1, solver=liblinear ..............................\n",
      "[CV] ............... C=10, penalty=l1, solver=liblinear, total=  13.2s\n",
      "[CV] C=10, penalty=l1, solver=liblinear ..............................\n",
      "[CV] ............... C=10, penalty=l1, solver=liblinear, total=  12.6s\n",
      "[CV] C=10, penalty=l1, solver=lbfgs ..................................\n",
      "[CV] ................... C=10, penalty=l1, solver=lbfgs, total=   0.0s\n",
      "[CV] C=10, penalty=l1, solver=lbfgs ..................................\n",
      "[CV] ................... C=10, penalty=l1, solver=lbfgs, total=   0.0s\n",
      "[CV] C=10, penalty=l1, solver=lbfgs ..................................\n",
      "[CV] ................... C=10, penalty=l1, solver=lbfgs, total=   0.0s\n",
      "[CV] C=10, penalty=l1, solver=lbfgs ..................................\n",
      "[CV] ................... C=10, penalty=l1, solver=lbfgs, total=   0.0s\n",
      "[CV] C=10, penalty=l1, solver=lbfgs ..................................\n",
      "[CV] ................... C=10, penalty=l1, solver=lbfgs, total=   0.0s\n",
      "[CV] C=10, penalty=l2, solver=liblinear ..............................\n",
      "[CV] ............... C=10, penalty=l2, solver=liblinear, total=   2.5s\n",
      "[CV] C=10, penalty=l2, solver=liblinear ..............................\n",
      "[CV] ............... C=10, penalty=l2, solver=liblinear, total=   2.5s\n",
      "[CV] C=10, penalty=l2, solver=liblinear ..............................\n",
      "[CV] ............... C=10, penalty=l2, solver=liblinear, total=   2.7s\n",
      "[CV] C=10, penalty=l2, solver=liblinear ..............................\n",
      "[CV] ............... C=10, penalty=l2, solver=liblinear, total=   2.4s\n",
      "[CV] C=10, penalty=l2, solver=liblinear ..............................\n",
      "[CV] ............... C=10, penalty=l2, solver=liblinear, total=   2.5s\n",
      "[CV] C=10, penalty=l2, solver=lbfgs ..................................\n",
      "[CV] ................... C=10, penalty=l2, solver=lbfgs, total=   0.4s\n",
      "[CV] C=10, penalty=l2, solver=lbfgs ..................................\n",
      "[CV] ................... C=10, penalty=l2, solver=lbfgs, total=   0.4s\n",
      "[CV] C=10, penalty=l2, solver=lbfgs ..................................\n",
      "[CV] ................... C=10, penalty=l2, solver=lbfgs, total=   0.4s\n",
      "[CV] C=10, penalty=l2, solver=lbfgs ..................................\n",
      "[CV] ................... C=10, penalty=l2, solver=lbfgs, total=   0.4s\n",
      "[CV] C=10, penalty=l2, solver=lbfgs ..................................\n",
      "[CV] ................... C=10, penalty=l2, solver=lbfgs, total=   0.4s\n",
      "[CV] C=100, penalty=l1, solver=liblinear .............................\n",
      "[CV] .............. C=100, penalty=l1, solver=liblinear, total=  27.0s\n",
      "[CV] C=100, penalty=l1, solver=liblinear .............................\n",
      "[CV] .............. C=100, penalty=l1, solver=liblinear, total=  41.1s\n",
      "[CV] C=100, penalty=l1, solver=liblinear .............................\n",
      "[CV] .............. C=100, penalty=l1, solver=liblinear, total= 1.7min\n",
      "[CV] C=100, penalty=l1, solver=liblinear .............................\n",
      "[CV] .............. C=100, penalty=l1, solver=liblinear, total=  19.8s\n",
      "[CV] C=100, penalty=l1, solver=liblinear .............................\n",
      "[CV] .............. C=100, penalty=l1, solver=liblinear, total=  55.7s\n",
      "[CV] C=100, penalty=l1, solver=lbfgs .................................\n",
      "[CV] .................. C=100, penalty=l1, solver=lbfgs, total=   0.0s\n",
      "[CV] C=100, penalty=l1, solver=lbfgs .................................\n",
      "[CV] .................. C=100, penalty=l1, solver=lbfgs, total=   0.0s\n",
      "[CV] C=100, penalty=l1, solver=lbfgs .................................\n",
      "[CV] .................. C=100, penalty=l1, solver=lbfgs, total=   0.0s\n",
      "[CV] C=100, penalty=l1, solver=lbfgs .................................\n",
      "[CV] .................. C=100, penalty=l1, solver=lbfgs, total=   0.0s\n",
      "[CV] C=100, penalty=l1, solver=lbfgs .................................\n",
      "[CV] .................. C=100, penalty=l1, solver=lbfgs, total=   0.0s\n",
      "[CV] C=100, penalty=l2, solver=liblinear .............................\n",
      "[CV] .............. C=100, penalty=l2, solver=liblinear, total=   4.5s\n",
      "[CV] C=100, penalty=l2, solver=liblinear .............................\n",
      "[CV] .............. C=100, penalty=l2, solver=liblinear, total=   4.6s\n",
      "[CV] C=100, penalty=l2, solver=liblinear .............................\n",
      "[CV] .............. C=100, penalty=l2, solver=liblinear, total=   5.1s\n",
      "[CV] C=100, penalty=l2, solver=liblinear .............................\n",
      "[CV] .............. C=100, penalty=l2, solver=liblinear, total=   4.8s\n",
      "[CV] C=100, penalty=l2, solver=liblinear .............................\n",
      "[CV] .............. C=100, penalty=l2, solver=liblinear, total=   4.5s\n",
      "[CV] C=100, penalty=l2, solver=lbfgs .................................\n",
      "[CV] .................. C=100, penalty=l2, solver=lbfgs, total=   0.5s\n",
      "[CV] C=100, penalty=l2, solver=lbfgs .................................\n",
      "[CV] .................. C=100, penalty=l2, solver=lbfgs, total=   0.4s\n",
      "[CV] C=100, penalty=l2, solver=lbfgs .................................\n",
      "[CV] .................. C=100, penalty=l2, solver=lbfgs, total=   0.4s\n",
      "[CV] C=100, penalty=l2, solver=lbfgs .................................\n",
      "[CV] .................. C=100, penalty=l2, solver=lbfgs, total=   0.4s\n",
      "[CV] C=100, penalty=l2, solver=lbfgs .................................\n",
      "[CV] .................. C=100, penalty=l2, solver=lbfgs, total=   0.4s\n"
     ]
    },
    {
     "name": "stderr",
     "output_type": "stream",
     "text": [
      "[Parallel(n_jobs=1)]: Done  60 out of  60 | elapsed:  6.2min finished\n"
     ]
    },
    {
     "data": {
      "text/plain": [
       "GridSearchCV(estimator=LogisticRegression(),\n",
       "             param_grid={'C': [0.1, 10, 100], 'penalty': ['l1', 'l2'],\n",
       "                         'solver': ['liblinear', 'lbfgs']},\n",
       "             verbose=2)"
      ]
     },
     "execution_count": 94,
     "metadata": {},
     "output_type": "execute_result"
    }
   ],
   "source": [
    "grid_logReg = GridSearchCV(LogisticRegression(), param_grid, refit=True, verbose=2)\n",
    "grid_logReg.fit(X_train_scaled, y_train)"
   ]
  },
  {
   "cell_type": "code",
   "execution_count": 95,
   "metadata": {},
   "outputs": [
    {
     "name": "stdout",
     "output_type": "stream",
     "text": [
      "{'C': 100, 'penalty': 'l2', 'solver': 'lbfgs'}\n",
      "0.706770457717823\n"
     ]
    }
   ],
   "source": [
    "print(grid_logReg.best_params_)\n",
    "print(grid_logReg.best_score_)"
   ]
  },
  {
   "cell_type": "code",
   "execution_count": 96,
   "metadata": {},
   "outputs": [
    {
     "data": {
      "text/plain": [
       "LogisticRegression(C=100)"
      ]
     },
     "execution_count": 96,
     "metadata": {},
     "output_type": "execute_result"
    },
    {
     "name": "stdout",
     "output_type": "stream",
     "text": [
      "0.7032469166876416\n",
      "0.6989958237918358\n",
      "0.7032469166876416\n",
      "[[652  75   5   1   0]\n",
      " [133 527 123  10   0]\n",
      " [ 12 183 471 151   7]\n",
      " [  1  12 173 490 152]\n",
      " [  0   1   3 137 654]]\n"
     ]
    }
   ],
   "source": [
    "\n",
    "mod_logReg = LogisticRegression(C=100, penalty='l2', solver='lbfgs')\n",
    "\n",
    "mod_logReg.fit(X_train_scaled, y_train)\n",
    "\n",
    "pred_logReg = mod_logReg.predict(X_test_scaled)\n",
    "\n",
    "print(accuracy_score(y_test, pred_logReg))\n",
    "print(precision_score(y_test, pred_logReg, average='weighted'))\n",
    "print(recall_score(y_test, pred_logReg, average='weighted'))\n",
    "print(confusion_matrix(y_test, pred_logReg))\n"
   ]
  },
  {
   "cell_type": "code",
   "execution_count": 98,
   "metadata": {},
   "outputs": [
    {
     "data": {
      "text/plain": [
       "VotingClassifier(estimators=[('KNN',\n",
       "                              KNeighborsClassifier(metric='euclidean',\n",
       "                                                   n_neighbors=1)),\n",
       "                             ('SVM', SVC(C=10, gamma=0.1)),\n",
       "                             ('RandomForest',\n",
       "                              RandomForestClassifier(bootstrap=False,\n",
       "                                                     max_depth=60,\n",
       "                                                     min_samples_leaf=2,\n",
       "                                                     n_estimators=1400)),\n",
       "                             ('LogisticRegression', LogisticRegression(C=100))])"
      ]
     },
     "execution_count": 98,
     "metadata": {},
     "output_type": "execute_result"
    },
    {
     "name": "stdout",
     "output_type": "stream",
     "text": [
      "0.8804429901837403\n",
      "0.8786124949321178\n",
      "0.8804429901837403\n",
      "[[732   1   0   0   0]\n",
      " [ 53 681  59   0   0]\n",
      " [  1 152 581  88   2]\n",
      " [  0   5  89 723  11]\n",
      " [  0   1   1  12 781]]\n"
     ]
    }
   ],
   "source": [
    "mod_voting_hard_3 = VotingClassifier(estimators=[('KNN', knn_mod),\n",
    "                                               ('SVM', svm_mod),\n",
    "                                               ('RandomForest', rf_mod),\n",
    "                                               ('LogisticRegression', mod_logReg)], voting='hard')\n",
    "\n",
    "mod_voting_hard_3.fit(X_train_scaled, y_train)\n",
    "\n",
    "pred_voting_hard_3 = mod_voting_hard_3.predict(X_test_scaled)\n",
    "\n",
    "print(accuracy_score(y_test, pred_voting_hard_3))\n",
    "print(precision_score(y_test, pred_voting_hard_3, average='weighted'))\n",
    "print(recall_score(y_test, pred_voting_hard_3, average='weighted'))\n",
    "print(confusion_matrix(y_test, pred_voting_hard_3))"
   ]
  }
 ],
 "metadata": {
  "kernelspec": {
   "display_name": "Python 3",
   "language": "python",
   "name": "python3"
  },
  "language_info": {
   "codemirror_mode": {
    "name": "ipython",
    "version": 3
   },
   "file_extension": ".py",
   "mimetype": "text/x-python",
   "name": "python",
   "nbconvert_exporter": "python",
   "pygments_lexer": "ipython3",
   "version": "3.8.3"
  }
 },
 "nbformat": 4,
 "nbformat_minor": 4
}
