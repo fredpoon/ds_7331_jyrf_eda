{
 "cells": [
  {
   "cell_type": "markdown",
   "metadata": {},
   "source": [
    "### Data Meaning Type\n",
    "\n",
    "The data set contains 9,731 records and 259 attributes that are comprised of factors, numbers, and characters. A data definition sheet can be found in Dr. Drew's github repository, [https://github.com/jakemdrew/EducationDataNC](https://github.com/jakemdrew/EducationDataNC/tree/master/Data%20Documentation). To scale the data to be more manageable, our data set includes 20 of the 259 variables. These variables were chosen after initial EDA and correlation visuals were generated between SPG and all predictors. The data type, category and description are displayed in the following table.\n",
    "\n",
    "### Attributes\n",
    "| Attribute | DataType | Description |\n",
    "|---|---|---|\n",
    "| SPG Score | float64 | School Performance Grade (number) |\n",
    "| SPG Grade | object | School Performance Grade (Letter Grade) |\n",
    "| avg_daily_attend_pct | float64 | Average daily attendance percentage |\n",
    "| category_cd | object | Category Code of the school level E=Elementary, M=Middle, H=High School, I=Elem/Mid Combo, A=All Schools |\n",
    "| category_cd_modified | object | New attribute - simplified category_cd to distinguish between school types vs combined school levels |\n",
    "| crime_per_c_num | float64 | Number of crimes or acts of violence per 100 students at the school level |\n",
    "| ___**EVAAS Growth Status**___ | object | ___**Moved to Appendix**___ |\n",
    "| ___**lea_federal_perpupil_num**___ | float64 | Federal expense per pupil at LEA level |\n",
    "| Majority_Minority | object | New Feature - classifying students into either majority or minority category |\n",
    "| MinorityFemalePct | float64 | Percentage of femail minorities at the school level |\n",
    "| MinorityMalePct | float64 | Percentage of male minorities at the school |\n",
    "| MinorityOverallPct |  | New Feature |\n",
    "| ___**Proficient_TCHR_Standard 1_Pct**___| float64 |  |\n",
    "| school_type_txt | object | Description of school type |\n",
    "| ___**Science Score**___ | float64 | Science score at the school level |\n",
    "| short_susp_per_c_num | float64 | Short term suspensions per 100 students at the school level|\n",
    "| SPG_Met | object | New Feature |\n",
    "| student_num | float64 | School size or number of students at the school level |\n",
    "| tchyrs_0thru3_pct | float64 | Percentage of teachers with 0-3 years of teaching experience |\n",
    "| Year | int64 | School Year |"
   ]
  }
 ],
 "metadata": {
  "language_info": {
   "codemirror_mode": {
    "name": "ipython",
    "version": 3
   },
   "file_extension": ".py",
   "mimetype": "text/x-python",
   "name": "python",
   "nbconvert_exporter": "python",
   "pygments_lexer": "ipython3",
   "version": 3
  },
  "orig_nbformat": 2
 },
 "nbformat": 4,
 "nbformat_minor": 2
}