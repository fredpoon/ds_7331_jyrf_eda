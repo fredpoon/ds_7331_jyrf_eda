{
 "cells": [
  {
   "cell_type": "markdown",
   "metadata": {},
   "source": [
    "# Lab 2 - Classification\n",
    "#### Yang Zhang, Reannan McDaniel, Jonathon Roach, Fred Poon\n",
    "##### 06/28/2020\n",
    "##### Machine Learning 1 | MSDS_7331"
   ]
  },
  {
   "cell_type": "markdown",
   "metadata": {},
   "source": [
    "## Business Understanding\n",
    "For this analysis, our group will be working with North Carolina Public Schools Report Card and Statistical Profiles Data sets from the years 2014 to 2017. These data sets encompass information across 4 continuous years of educational attributes in North Carolina, USA.  The data is collected from the State of North Carolina at [http://ncpublicschools.org](http://ncpublicschools.org) and made available from the Belk Endowment Educational Attainment Data Repository for North Carolina Public Schools by Dr. Jake Drew. Among other reasons, the data was collected for evaluation of public-school performance for the purpose of efficiently allocating funds to various educational initiatives. Analyses of such data are important because high-impact educational initiatives that are well-funded contribute to increased graduation rates, increased achievement at the post-secondary level, less crime, and greater economic engagement among young people. For the purpose of this exercise, our focus is on predicting graduation rates using various school characteristics, such as type of school (elementary, middle, high, or some combination of the three), social demographics, economic demographics, and location between 2014 and 2017. The Belk Foundation's website says, \"Our goal is to empower today’s workforce by creating pathways to and through postsecondary education for underrepresented students\". -->\n",
    "\n",
    "For the sake of this analysis, we assume that better performing schools have better outcomes in postsecondary education. With North Carolina's rapidly changing demographics, it is important to take into consideration schools' unique needs when allocating funds to strategic investment initiatives. Here, we explore where funding can be best applied based on educational achievement data.\n",
    "\n",
    "We will explore through visual and mathematical modeling which features best predict the graduation rate. The analysis will come in a combination of classification models to predict. In this analysis we will observe:\n",
    "\n",
    "- What classification model provides the higher accuracy score?"
   ]
  },
  {
   "cell_type": "markdown",
   "metadata": {},
   "source": [
    "## Data Understanding"
   ]
  },
  {
   "cell_type": "markdown",
   "metadata": {},
   "source": [
    "## Data Preparation\n",
    "### Data Preparation 1 - The Variables\n",
    "Define and prepare your class variables. Use proper variable representations (int, float, one-hot, etc.). Use pre-processing methods (as needed) for dimensionality reduction, scaling, etc. Remove variables that are not needed/useful for the analysis."
   ]
  },
  {
   "cell_type": "markdown",
   "metadata": {},
   "source": [
    "#### Data Preparation for Classification Task"
   ]
  },
  {
   "cell_type": "code",
   "execution_count": 3,
   "metadata": {},
   "outputs": [],
   "source": [
    "import pandas as pd  \n",
    "import numpy as np\n",
    "import matplotlib.pyplot as plt\n",
    "import seaborn as sns\n",
    "import warnings\n",
    "warnings.filterwarnings(\"ignore\")\n",
    "\n",
    "# For multiple line outputs\n",
    "from IPython.core.interactiveshell import InteractiveShell\n",
    "InteractiveShell.ast_node_interactivity = \"all\""
   ]
  },
  {
   "cell_type": "markdown",
   "metadata": {},
   "source": [
    "#### Data Preparation Workflow\n",
    "- Data Merge\n",
    "- One Hot-encoding\n",
    "- Feature Selection\n",
    "- Data Balancing\n",
    "- *Train/Test spliting"
   ]
  },
  {
   "cell_type": "markdown",
   "metadata": {},
   "source": [
    "#### Data Merge"
   ]
  },
  {
   "cell_type": "code",
   "execution_count": 9,
   "metadata": {},
   "outputs": [
    {
     "data": {
      "text/plain": [
       "(2426, 318)"
      ]
     },
     "execution_count": 9,
     "metadata": {},
     "output_type": "execute_result"
    },
    {
     "data": {
      "text/plain": [
       "(2432, 335)"
      ]
     },
     "execution_count": 9,
     "metadata": {},
     "output_type": "execute_result"
    },
    {
     "data": {
      "text/plain": [
       "(2430, 328)"
      ]
     },
     "execution_count": 9,
     "metadata": {},
     "output_type": "execute_result"
    },
    {
     "data": {
      "text/plain": [
       "(2443, 328)"
      ]
     },
     "execution_count": 9,
     "metadata": {},
     "output_type": "execute_result"
    },
    {
     "data": {
      "text/plain": [
       "0       2014\n",
       "1       2014\n",
       "2       2014\n",
       "3       2014\n",
       "4       2014\n",
       "        ... \n",
       "9726    2017\n",
       "9727    2017\n",
       "9728    2017\n",
       "9729    2017\n",
       "9730    2017\n",
       "Name: Year, Length: 9731, dtype: int64"
      ]
     },
     "execution_count": 9,
     "metadata": {},
     "output_type": "execute_result"
    }
   ],
   "source": [
    "# read in CSV\n",
    "df2014 = pd.read_csv('https://raw.githubusercontent.com/fredpoon/ds_7331_jyrf_eda/master/Data_Prep/PublicSchools2014_MLnew.csv')\n",
    "df2015 = pd.read_csv('https://raw.githubusercontent.com/fredpoon/ds_7331_jyrf_eda/master/Data_Prep/PublicSchools2015_MLnew.csv')\n",
    "df2016 = pd.read_csv('https://raw.githubusercontent.com/fredpoon/ds_7331_jyrf_eda/master/Data_Prep/PublicSchools2016_MLnew.csv')\n",
    "df2017 = pd.read_csv('https://raw.githubusercontent.com/fredpoon/ds_7331_jyrf_eda/master/Data_Prep/PublicSchools2017_MLnew.csv')\n",
    "\n",
    "df2014.shape\n",
    "df2015.shape\n",
    "df2016.shape\n",
    "df2017.shape\n",
    "\n",
    "\n",
    "df2014['Year'] = 2014\n",
    "df2015['Year'] = 2015 \n",
    "df2016['Year'] = 2016 \n",
    "df2017['Year'] = 2017 \n",
    "\n",
    "frames = [df2014, df2015, df2016, df2017]\n",
    "df_comb_test = pd.concat(frames,join='inner', ignore_index=True)\n",
    "\n",
    "df_comb_test['Year']"
   ]
  },
  {
   "cell_type": "markdown",
   "metadata": {},
   "source": [
    "#### One Hot-encoding"
   ]
  },
  {
   "cell_type": "code",
   "execution_count": 10,
   "metadata": {},
   "outputs": [
    {
     "name": "stdout",
     "output_type": "stream",
     "text": [
      "*********After: Removing columns with >= uniqueThreshold unique values***********\n",
      "<class 'pandas.core.frame.DataFrame'>\n",
      "RangeIndex: 9731 entries, 0 to 9730\n",
      "Columns: 250 entries, szip_ad to Year\n",
      "dtypes: float64(237), int64(2), object(11)\n",
      "memory usage: 18.6+ MB\n",
      "\r\n",
      "Columns Deleted:  9\n"
     ]
    }
   ],
   "source": [
    "schoolData = df_comb_test\n",
    "\n",
    "#Locate the categorical variables in dataset\n",
    "sD_nominal = schoolData.loc[:, (schoolData.dtypes == object)]\n",
    "uniqueThreshold = 25\n",
    "\n",
    "#Delete categorical columns with > 25 unique values (Each unique value becomes a column during one-hot encoding)\n",
    "oneHotUniqueValueCounts = schoolData[sD_nominal.columns].apply(lambda x: x.nunique())\n",
    "oneHotUniqueValueCols = oneHotUniqueValueCounts[oneHotUniqueValueCounts >= uniqueThreshold].index\n",
    "schoolData.drop(oneHotUniqueValueCols, axis=1, inplace=True) \n",
    "\n",
    "#Review dataset contents one hot high unique value drops\n",
    "print('*********After: Removing columns with >= uniqueThreshold unique values***********')\n",
    "schoolData.info(verbose=False)\n",
    "print ('\\r\\nColumns Deleted: ', len(oneHotUniqueValueCols))"
   ]
  },
  {
   "cell_type": "code",
   "execution_count": 11,
   "metadata": {},
   "outputs": [
    {
     "name": "stdout",
     "output_type": "stream",
     "text": [
      "<class 'pandas.core.frame.DataFrame'>\n",
      "RangeIndex: 9731 entries, 0 to 9730\n",
      "Data columns (total 107 columns):\n",
      " #   Column                               Dtype  \n",
      "---  ------                               -----  \n",
      " 0   szip_ad                              float64\n",
      " 1   category_cd                          object \n",
      " 2   calendar_type_txt                    object \n",
      " 3   sna_pgm_type_cd                      object \n",
      " 4   school_type_txt                      object \n",
      " 5   calendar_only_txt                    object \n",
      " 6   title1_type_cd                       object \n",
      " 7   esea_status                          object \n",
      " 8   student_num                          float64\n",
      " 9   lea_avg_student_num                  float64\n",
      " 10  st_avg_student_num                   float64\n",
      " 11  Grad_project_status                  object \n",
      " 12  Math I_Size                          float64\n",
      " 13  lea_total_expense_num                float64\n",
      " 14  lea_salary_expense_pct               float64\n",
      " 15  lea_services_expense_pct             float64\n",
      " 16  lea_supplies_expense_pct             float64\n",
      " 17  lea_instruct_equip_exp_pct           float64\n",
      " 18  lea_federal_perpupil_num             float64\n",
      " 19  lea_local_perpupil_num               float64\n",
      " 20  lea_state_perpupil_num               float64\n",
      " 21  pct_GCE_ALL                          float64\n",
      " 22  MathGr3-8_pTarget_PctMet             float64\n",
      " 23  SciGr5&8_pTarget_PctMet              float64\n",
      " 24  TotalTargets_pTarget_PctMet          float64\n",
      " 25  Category_Cd                          object \n",
      " 26  lea_sat_avg_score_num                float64\n",
      " 27  lea_sat_participation_pct            float64\n",
      " 28  lea_ap_participation_pct             float64\n",
      " 29  lea_ap_pct_3_or_above                float64\n",
      " 30  lea_ib_pct_4_or_above                float64\n",
      " 31  avg_daily_attend_pct                 float64\n",
      " 32  crime_per_c_num                      float64\n",
      " 33  short_susp_per_c_num                 float64\n",
      " 34  long_susp_per_c_num                  float64\n",
      " 35  expelled_per_c_num                   float64\n",
      " 36  stud_internet_comp_num               float64\n",
      " 37  lea_avg_daily_attend_pct             float64\n",
      " 38  lea_crime_per_c_num                  float64\n",
      " 39  lea_short_susp_per_c_num             float64\n",
      " 40  lea_long_susp_per_c_num              float64\n",
      " 41  lea_expelled_per_c_num               float64\n",
      " 42  lea_stud_internet_comp_num           float64\n",
      " 43  st_crime_per_c_num                   float64\n",
      " 44  flicensed_teach_pct                  float64\n",
      " 45  tchyrs_0thru3_pct                    float64\n",
      " 46  tchyrs_4thru10_pct                   float64\n",
      " 47  tchyrs_11plus_pct                    float64\n",
      " 48  nbpts_num                            float64\n",
      " 49  advance_dgr_pct                      float64\n",
      " 50  _1yr_tchr_trnovr_pct                 float64\n",
      " 51  lateral_teach_pct                    float64\n",
      " 52  lea_flicensed_teach_pct              float64\n",
      " 53  lea_tchyrs_0thru3_pct                float64\n",
      " 54  lea_tchyrs_4thru10_pct               float64\n",
      " 55  lea_tchyrs_11plus_pct                float64\n",
      " 56  lea_nbpts_num                        float64\n",
      " 57  lea_advance_dgr_pct                  float64\n",
      " 58  lea_1yr_tchr_trnovr_pct              float64\n",
      " 59  lea_emer_prov_teach_pct              float64\n",
      " 60  st_flicensed_teach_pct               float64\n",
      " 61  st_tchyrs_0thru3_pct                 float64\n",
      " 62  st_1yr_tchr_trnovr_pct               float64\n",
      " 63  st_emer_prov_teach_pct               float64\n",
      " 64  0-3 Years_LEA_Exp_Pct_Prin           float64\n",
      " 65  10+ Years_LEA_Exp_Pct_Prin           float64\n",
      " 66  4-10 Years_LEA_Exp_Pct_Prin          float64\n",
      " 67  Accomplished_TCHR_Standard 1_Pct     float64\n",
      " 68  Accomplished_TCHR_Standard 2_Pct     float64\n",
      " 69  Accomplished_TCHR_Standard 3_Pct     float64\n",
      " 70  Accomplished_TCHR_Standard 4_Pct     float64\n",
      " 71  Accomplished_TCHR_Standard 5_Pct     float64\n",
      " 72  Developing_TCHR_Standard 1_Pct       float64\n",
      " 73  Developing_TCHR_Standard 2_Pct       float64\n",
      " 74  Developing_TCHR_Standard 3_Pct       float64\n",
      " 75  Developing_TCHR_Standard 4_Pct       float64\n",
      " 76  Developing_TCHR_Standard 5_Pct       float64\n",
      " 77  Distinguished_TCHR_Standard 1_Pct    float64\n",
      " 78  Distinguished_TCHR_Standard 2_Pct    float64\n",
      " 79  Distinguished_TCHR_Standard 3_Pct    float64\n",
      " 80  Distinguished_TCHR_Standard 4_Pct    float64\n",
      " 81  Distinguished_TCHR_Standard 5_Pct    float64\n",
      " 82  Not Demostrated_TCHR_Standard 1_Pct  float64\n",
      " 83  Not Demostrated_TCHR_Standard 2_Pct  float64\n",
      " 84  Not Demostrated_TCHR_Standard 4_Pct  float64\n",
      " 85  Proficient_TCHR_Standard 1_Pct       float64\n",
      " 86  Proficient_TCHR_Standard 2_Pct       float64\n",
      " 87  Proficient_TCHR_Standard 3_Pct       float64\n",
      " 88  Proficient_TCHR_Standard 4_Pct       float64\n",
      " 89  Proficient_TCHR_Standard 5_Pct       float64\n",
      " 90  AsianFemalePct                       float64\n",
      " 91  AsianMalePct                         float64\n",
      " 92  BlackFemalePct                       float64\n",
      " 93  BlackMalePct                         float64\n",
      " 94  HispanicFemalePct                    float64\n",
      " 95  HispanicMalePct                      float64\n",
      " 96  IndianFemalePct                      float64\n",
      " 97  MinorityFemalePct                    float64\n",
      " 98  MinorityMalePct                      float64\n",
      " 99  PacificIslandFemalePct               float64\n",
      " 100 PacificIslandMalePct                 float64\n",
      " 101 PacificIslandPct                     float64\n",
      " 102 TwoOrMoreFemalePct                   float64\n",
      " 103 TwoOrMoreMalePct                     float64\n",
      " 104 TwoOrMorePct                         float64\n",
      " 105 unit_code                            int64  \n",
      " 106 Year                                 int64  \n",
      "dtypes: float64(96), int64(2), object(9)\n",
      "memory usage: 7.9+ MB\n",
      "Columns To One-Hot Encode:  20\n",
      "\r\n",
      "*********After: Adding New Columns Via One-Hot Encoding*************************\n",
      "<class 'pandas.core.frame.DataFrame'>\n",
      "RangeIndex: 9731 entries, 0 to 9730\n",
      "Columns: 145 entries, szip_ad to Category_Cd_T\n",
      "dtypes: float64(96), int64(2), uint8(47)\n",
      "memory usage: 7.7 MB\n",
      "\r\n",
      "New Columns Created Via One-Hot Encoding:  38\n"
     ]
    }
   ],
   "source": [
    "#Keep an original copy of the Data\n",
    "schoolData_org = schoolData\n",
    "\n",
    "#Pop out the SPG information from the Data\n",
    "schoolData_SPG = schoolData.pop('SPG Grade')\n",
    "schoolData_SPGScore = schoolData.pop('SPG Score')\n",
    "\n",
    "# Remove All the Columns that directly used to calculate SPG Grade and Score\n",
    "schoolData.drop(schoolData.iloc[:, 21:162], inplace=True, axis=1)\n",
    "schoolData.info(verbose=True)\n",
    "\n",
    "#Isolate remaining categorical variables\n",
    "begColumnCt = len(schoolData.columns)\n",
    "\n",
    "#one hot encode categorical variables\n",
    "schoolData = pd.get_dummies(data=schoolData,drop_first=True)\n",
    "\n",
    "#Determine change in column count\n",
    "endColumnCt = len(schoolData.columns)\n",
    "columnsAdded = endColumnCt - begColumnCt\n",
    "\n",
    "#Review dataset contents one hot high unique value drops\n",
    "print('Columns To One-Hot Encode: ', len(sD_nominal.columns))\n",
    "print('\\r\\n*********After: Adding New Columns Via One-Hot Encoding*************************')\n",
    "schoolData.info(verbose=False)\n",
    "print ('\\r\\nNew Columns Created Via One-Hot Encoding: ', columnsAdded)"
   ]
  },
  {
   "cell_type": "markdown",
   "metadata": {},
   "source": [
    "#### Feature Selection"
   ]
  },
  {
   "cell_type": "code",
   "execution_count": null,
   "metadata": {},
   "outputs": [],
   "source": [
    "# Random Forest apply to X with all variables\n",
    "from sklearn.ensemble import RandomForestClassifier\n",
    "clfa=RandomForestClassifier(n_estimators=100)\n",
    "clfa.fit(schoolData,schoolData_SPG)\n",
    "y_pred=clfa.predict(schoolData)\n",
    "\n",
    "#For feature importance from RandomForestClassifier()\n",
    "import eli5\n",
    "from eli5.sklearn import PermutationImportance\n",
    "perm = PermutationImportance(clfa, random_state=1).fit(schoolData,schoolData_SPG)\n",
    "eli5.show_weights(perm, feature_names = schoolData.columns.tolist(), top=50)"
   ]
  },
  {
   "cell_type": "code",
   "execution_count": 12,
   "metadata": {},
   "outputs": [
    {
     "data": {
      "text/plain": [
       "(9731, 50)"
      ]
     },
     "execution_count": 12,
     "metadata": {},
     "output_type": "execute_result"
    }
   ],
   "source": [
    "#Pick and Choose variables\n",
    "schoolData_pick = schoolData[[\n",
    "'TotalTargets_pTarget_PctMet',\n",
    "'MinorityMalePct',\n",
    "'MinorityFemalePct',\n",
    "'short_susp_per_c_num',\n",
    "'avg_daily_attend_pct',\n",
    "'title1_type_cd_Y',\n",
    "'BlackMalePct',\n",
    "'AsianFemalePct',\n",
    "'BlackFemalePct',\n",
    "'HispanicMalePct',\n",
    "'MathGr3-8_pTarget_PctMet',\n",
    "'AsianMalePct',\n",
    "'SciGr5&8_pTarget_PctMet',\n",
    "'nbpts_num',\n",
    "'lea_sat_avg_score_num',\n",
    "'stud_internet_comp_num',\n",
    "'st_avg_student_num',\n",
    "'HispanicFemalePct',\n",
    "'Accomplished_TCHR_Standard 4_Pct',\n",
    "'Accomplished_TCHR_Standard 3_Pct',\n",
    "'Developing_TCHR_Standard 2_Pct',\n",
    "'Accomplished_TCHR_Standard 5_Pct',\n",
    "'10+ Years_LEA_Exp_Pct_Prin',\n",
    "'4-10 Years_LEA_Exp_Pct_Prin',\n",
    "'Accomplished_TCHR_Standard 1_Pct',\n",
    "'Accomplished_TCHR_Standard 2_Pct',\n",
    "'Developing_TCHR_Standard 1_Pct',\n",
    "'pct_GCE_ALL',\n",
    "'0-3 Years_LEA_Exp_Pct_Prin',\n",
    "'st_emer_prov_teach_pct',\n",
    "'lea_sat_participation_pct',\n",
    "'lea_ap_participation_pct',\n",
    "'lea_federal_perpupil_num',\n",
    "'lea_local_perpupil_num',\n",
    "'advance_dgr_pct',\n",
    "'Developing_TCHR_Standard 5_Pct',\n",
    "'lateral_teach_pct',\n",
    "'lea_flicensed_teach_pct',\n",
    "'Developing_TCHR_Standard 3_Pct',\n",
    "'lea_tchyrs_0thru3_pct',\n",
    "'lea_tchyrs_11plus_pct',\n",
    "'lea_nbpts_num',\n",
    "'lea_advance_dgr_pct',\n",
    "'lea_1yr_tchr_trnovr_pct',\n",
    "'lea_emer_prov_teach_pct',\n",
    "'st_flicensed_teach_pct',\n",
    "'st_tchyrs_0thru3_pct',\n",
    "'st_1yr_tchr_trnovr_pct',\n",
    "'lea_tchyrs_4thru10_pct',\n",
    "'Category_Cd_T',\n",
    "]]\n",
    "\n",
    "# Dataset Dimension with picked variables\n",
    "schoolData_pick.shape"
   ]
  },
  {
   "cell_type": "markdown",
   "metadata": {},
   "source": [
    "#### Train/Test Split"
   ]
  },
  {
   "cell_type": "code",
   "execution_count": 57,
   "metadata": {},
   "outputs": [
    {
     "name": "stdout",
     "output_type": "stream",
     "text": [
      "ShuffleSplit(n_splits=3, random_state=42, test_size=0.2, train_size=None)\n"
     ]
    }
   ],
   "source": [
    "# Using ShuffleSplit for Training/Testing Split \n",
    "from sklearn.model_selection import ShuffleSplit\n",
    "# set seed\n",
    "np.random.seed(17)\n",
    "\n",
    "num_cv_iterations = 3\n",
    "num_instances = len(schoolData_SPG)\n",
    "cv_object = ShuffleSplit(n_splits=num_cv_iterations,\n",
    "                         test_size  = 0.2,random_state=42)\n",
    "                         \n",
    "print(cv_object)"
   ]
  },
  {
   "cell_type": "code",
   "execution_count": 59,
   "metadata": {},
   "outputs": [
    {
     "name": "stdout",
     "output_type": "stream",
     "text": [
      "StratifiedKFold(n_splits=10, random_state=42, shuffle=False)\n"
     ]
    }
   ],
   "source": [
    "from sklearn.model_selection import StratifiedKFold\n",
    "from sklearn.preprocessing import StandardScaler\n",
    "import numpy as np\n",
    "from sklearn import metrics as mt\n",
    "\n",
    "# create cross validation iterator\n",
    "cv_stra = StratifiedKFold(n_splits=10,random_state=42)\n",
    "\n",
    "print(cv_stra)"
   ]
  },
  {
   "cell_type": "markdown",
   "metadata": {},
   "source": [
    "#### Data Balancing"
   ]
  },
  {
   "cell_type": "code",
   "execution_count": 13,
   "metadata": {},
   "outputs": [
    {
     "data": {
      "text/html": [
       "<div>\n",
       "<style scoped>\n",
       "    .dataframe tbody tr th:only-of-type {\n",
       "        vertical-align: middle;\n",
       "    }\n",
       "\n",
       "    .dataframe tbody tr th {\n",
       "        vertical-align: top;\n",
       "    }\n",
       "\n",
       "    .dataframe thead th {\n",
       "        text-align: right;\n",
       "    }\n",
       "</style>\n",
       "<table border=\"1\" class=\"dataframe\">\n",
       "  <thead>\n",
       "    <tr style=\"text-align: right;\">\n",
       "      <th></th>\n",
       "      <th>0</th>\n",
       "    </tr>\n",
       "  </thead>\n",
       "  <tbody>\n",
       "    <tr>\n",
       "      <th>count</th>\n",
       "      <td>9216</td>\n",
       "    </tr>\n",
       "    <tr>\n",
       "      <th>unique</th>\n",
       "      <td>5</td>\n",
       "    </tr>\n",
       "    <tr>\n",
       "      <th>top</th>\n",
       "      <td>C</td>\n",
       "    </tr>\n",
       "    <tr>\n",
       "      <th>freq</th>\n",
       "      <td>3973</td>\n",
       "    </tr>\n",
       "  </tbody>\n",
       "</table>\n",
       "</div>"
      ],
      "text/plain": [
       "           0\n",
       "count   9216\n",
       "unique     5\n",
       "top        C\n",
       "freq    3973"
      ]
     },
     "execution_count": 13,
     "metadata": {},
     "output_type": "execute_result"
    },
    {
     "data": {
      "text/plain": [
       "<seaborn.axisgrid.FacetGrid at 0x265eb303688>"
      ]
     },
     "execution_count": 13,
     "metadata": {},
     "output_type": "execute_result"
    },
    {
     "data": {
      "image/png": "[encoded data removed]",
      "text/plain": [
       "<Figure size 720x360 with 1 Axes>"
      ]
     },
     "metadata": {
      "needs_background": "light"
     },
     "output_type": "display_data"
    }
   ],
   "source": [
    "schoolData_SPG_org = schoolData_SPG\n",
    "schoolData_SPG = schoolData_SPG_org\n",
    "\n",
    "import numpy as np\n",
    "schoolData_SPG= np.select(\n",
    "    [\n",
    "        schoolData_SPG == 'A', \n",
    "        schoolData_SPG == 'B',\n",
    "        schoolData_SPG == 'C',\n",
    "        schoolData_SPG == 'D',\n",
    "        schoolData_SPG == 'F',\n",
    "        schoolData_SPG == 'A+NG',\n",
    "        schoolData_SPG == 'I'\n",
    "    ], \n",
    "    [\n",
    "        'A', \n",
    "        'B',\n",
    "        'C',\n",
    "        'D',\n",
    "        'F',\n",
    "        'A',\n",
    "        'NA'\n",
    "    ],\n",
    "    default='NA'\n",
    ")\n",
    "\n",
    "#Filter out the sample with \"NA\" on SPG Grade\n",
    "schoolData_SPG_new = schoolData_SPG[schoolData_SPG!='NA']\n",
    "schoolData_pick_new = schoolData_pick[schoolData_SPG!='NA']\n",
    "\n",
    "# Check if the levels of SPG Grade has been altered\n",
    "s = pd.DataFrame(schoolData_SPG_new)\n",
    "s.describe()\n",
    "\n",
    "#Factor Plot for SPG Grade\n",
    "s.columns=['SPG Grade']\n",
    "                        \n",
    "sns.factorplot(\"SPG Grade\", data=s, aspect=2,\n",
    "                       kind=\"count\", order=['A','B','C','D','F'])\n",
    "\n",
    "plt.show()"
   ]
  },
  {
   "cell_type": "code",
   "execution_count": 14,
   "metadata": {},
   "outputs": [],
   "source": [
    "from imblearn.under_sampling import RandomUnderSampler\n",
    "\n",
    "# Undersample the dataset using the RandomUnderSampler \n",
    "# Set all class sizes equal to the smallest class.\n",
    "us = RandomUnderSampler()\n",
    "X_us, y_us = us.fit_sample(schoolData_pick_new, pd.DataFrame(schoolData_SPG_new))\n",
    "\n",
    "# Undersample the dataset using the RandomUnderSampler \n",
    "# Undersample the majority class only\n",
    "us = RandomUnderSampler(sampling_strategy='majority')\n",
    "X_us_maj, y_us_maj = us.fit_sample(schoolData_pick_new, pd.DataFrame(schoolData_SPG_new))\n",
    "\n",
    "from imblearn.over_sampling import SMOTE\n",
    "\n",
    "# Oversample using SMOTE\n",
    "# Make all classes the same size as the majority class.\n",
    "# WARNING - This can exponentially increase the size of the input dataset.\n",
    "sm = SMOTE(sampling_strategy='not majority')\n",
    "X_sm, y_sm = sm.fit_sample(schoolData_pick_new, pd.DataFrame(schoolData_SPG_new))"
   ]
  },
  {
   "cell_type": "code",
   "execution_count": 20,
   "metadata": {},
   "outputs": [
    {
     "data": {
      "text/plain": [
       "RandomForestClassifier(bootstrap=True, ccp_alpha=0.0, class_weight=None,\n",
       "                       criterion='gini', max_depth=None, max_features='auto',\n",
       "                       max_leaf_nodes=None, max_samples=None,\n",
       "                       min_impurity_decrease=0.0, min_impurity_split=None,\n",
       "                       min_samples_leaf=1, min_samples_split=2,\n",
       "                       min_weight_fraction_leaf=0.0, n_estimators=100,\n",
       "                       n_jobs=None, oob_score=False, random_state=None,\n",
       "                       verbose=0, warm_start=False)"
      ]
     },
     "execution_count": 20,
     "metadata": {},
     "output_type": "execute_result"
    },
    {
     "name": "stdout",
     "output_type": "stream",
     "text": [
      "Accuracy: 0.6790697674418604\n"
     ]
    }
   ],
   "source": [
    "#from sklearn.ensemble import RandomForestClassifier\n",
    "from sklearn import metrics\n",
    "#Training using Undersample Method1 \n",
    "for train_indices, test_indices in cv_object.split(X_us,y_us): \n",
    "\n",
    "    X_train = X_us.values[train_indices]\n",
    "    y_train = y_us.values[train_indices]\n",
    "    \n",
    "    X_test = X_us.values[test_indices]\n",
    "    y_test = y_us.values[test_indices]\n",
    "    \n",
    "\n",
    "clfus=RandomForestClassifier(n_estimators=100)\n",
    "clfus.fit(X_train,y_train)\n",
    "y_pred_us=clfus.predict(X_test)\n",
    "\n",
    "print(\"Accuracy:\",metrics.accuracy_score(y_test, y_pred_us))"
   ]
  },
  {
   "cell_type": "code",
   "execution_count": 21,
   "metadata": {},
   "outputs": [
    {
     "data": {
      "text/plain": [
       "RandomForestClassifier(bootstrap=True, ccp_alpha=0.0, class_weight=None,\n",
       "                       criterion='gini', max_depth=None, max_features='auto',\n",
       "                       max_leaf_nodes=None, max_samples=None,\n",
       "                       min_impurity_decrease=0.0, min_impurity_split=None,\n",
       "                       min_samples_leaf=1, min_samples_split=2,\n",
       "                       min_weight_fraction_leaf=0.0, n_estimators=100,\n",
       "                       n_jobs=None, oob_score=False, random_state=None,\n",
       "                       verbose=0, warm_start=False)"
      ]
     },
     "execution_count": 21,
     "metadata": {},
     "output_type": "execute_result"
    },
    {
     "name": "stdout",
     "output_type": "stream",
     "text": [
      "Accuracy: 0.7770925110132159\n"
     ]
    }
   ],
   "source": [
    "#Training using Undersample Method2\n",
    "for train_indices, test_indices in cv_object.split(X_us_maj,y_us_maj): \n",
    "\n",
    "    X_train = X_us_maj.values[train_indices]\n",
    "    y_train = y_us_maj.values[train_indices]\n",
    "    \n",
    "    X_test = X_us_maj.values[test_indices]\n",
    "    y_test = y_us_maj.values[test_indices]\n",
    "    \n",
    "clfusm=RandomForestClassifier(n_estimators=100)\n",
    "clfusm.fit(X_train,y_train)\n",
    "y_pred_usm=clfusm.predict(X_test)\n",
    "    \n",
    "print(\"Accuracy:\",metrics.accuracy_score(y_test, y_pred_usm))"
   ]
  },
  {
   "cell_type": "code",
   "execution_count": 22,
   "metadata": {},
   "outputs": [
    {
     "data": {
      "text/plain": [
       "RandomForestClassifier(bootstrap=True, ccp_alpha=0.0, class_weight=None,\n",
       "                       criterion='gini', max_depth=None, max_features='auto',\n",
       "                       max_leaf_nodes=None, max_samples=None,\n",
       "                       min_impurity_decrease=0.0, min_impurity_split=None,\n",
       "                       min_samples_leaf=1, min_samples_split=2,\n",
       "                       min_weight_fraction_leaf=0.0, n_estimators=100,\n",
       "                       n_jobs=None, oob_score=False, random_state=None,\n",
       "                       verbose=0, warm_start=False)"
      ]
     },
     "execution_count": 22,
     "metadata": {},
     "output_type": "execute_result"
    },
    {
     "name": "stdout",
     "output_type": "stream",
     "text": [
      "Accuracy: 0.8756607097910899\n"
     ]
    }
   ],
   "source": [
    "#Training using Oversample Method\n",
    "for train_indices, test_indices in cv_object.split(X_sm,y_sm): \n",
    "\n",
    "    X_train = X_sm.values[train_indices]\n",
    "    y_train = y_sm.values[train_indices]\n",
    "    \n",
    "    X_test = X_sm.values[test_indices]\n",
    "    y_test = y_sm.values[test_indices]\n",
    "\n",
    "clfsm=RandomForestClassifier(n_estimators=100)\n",
    "clfsm.fit(X_train,y_train)\n",
    "y_pred_sm=clfsm.predict(X_test)\n",
    "\n",
    "print(\"Accuracy:\",metrics.accuracy_score(y_test, y_pred_sm))"
   ]
  },
  {
   "cell_type": "code",
   "execution_count": 41,
   "metadata": {},
   "outputs": [],
   "source": [
    "from sklearn.preprocessing import StandardScaler\n",
    "# Scale the data \n",
    "ss = StandardScaler()\n",
    "X_sm_scal = ss.fit_transform(X_sm)"
   ]
  },
  {
   "cell_type": "code",
   "execution_count": 43,
   "metadata": {},
   "outputs": [
    {
     "name": "stdout",
     "output_type": "stream",
     "text": [
      "Cumulative Explained variance at 200 components: 1.0000000000000002\n"
     ]
    },
    {
     "data": {
      "image/png": "[encoded data removed]",
      "text/plain": [
       "<Figure size 576x576 with 1 Axes>"
      ]
     },
     "metadata": {
      "needs_background": "light"
     },
     "output_type": "display_data"
    }
   ],
   "source": [
    "def plot_pca(X):\n",
    "    # Perform PCA on the data to reduce the number of initial features \n",
    "    # and to remove correlations that are common between pixel features \n",
    "    pca = PCA(n_components=X.shape[1])\n",
    "    pca.fit(X)\n",
    "\n",
    "    # Inspect the explained variances to determine how many components to use  \n",
    "    plt.subplots(figsize=(8, 8))\n",
    "    plt.plot(np.cumsum(pca.explained_variance_ratio_))\n",
    "    plt.xlabel('number of components')\n",
    "    plt.ylabel('cumulative explained variance');\n",
    "    print('Cumulative Explained variance at 200 components:',sum(pca.explained_variance_ratio_[0:199]) )\n",
    "\n",
    "plot_pca(X_sm_scal)"
   ]
  },
  {
   "cell_type": "code",
   "execution_count": 63,
   "metadata": {},
   "outputs": [
    {
     "data": {
      "text/plain": [
       "RandomForestClassifier(bootstrap=True, ccp_alpha=0.0, class_weight=None,\n",
       "                       criterion='gini', max_depth=None, max_features='auto',\n",
       "                       max_leaf_nodes=None, max_samples=None,\n",
       "                       min_impurity_decrease=0.0, min_impurity_split=None,\n",
       "                       min_samples_leaf=1, min_samples_split=2,\n",
       "                       min_weight_fraction_leaf=0.0, n_estimators=100,\n",
       "                       n_jobs=None, oob_score=False, random_state=None,\n",
       "                       verbose=0, warm_start=False)"
      ]
     },
     "execution_count": 63,
     "metadata": {},
     "output_type": "execute_result"
    },
    {
     "name": "stdout",
     "output_type": "stream",
     "text": [
      "Accuracy: 0.8751573118550214\n"
     ]
    }
   ],
   "source": [
    "# Convert X_sm to 200 principal components\n",
    "pca = PCA(n_components=40)\n",
    "X_sm_pca40 = pca.fit_transform(X_sm_scal)\n",
    "\n",
    "#Training using Oversample Method\n",
    "for train_indices, test_indices in cv_object.split(X_sm_pca40,y_sm): \n",
    "\n",
    "    X_train = X_sm.values[train_indices]\n",
    "    y_train = y_sm.values[train_indices]\n",
    "    \n",
    "    X_test = X_sm.values[test_indices]\n",
    "    y_test = y_sm.values[test_indices]\n",
    "\n",
    "clfsm=RandomForestClassifier(n_estimators=100)\n",
    "clfsm.fit(X_train,y_train)\n",
    "y_pred_sm=clfsm.predict(X_test)\n",
    "\n",
    "print(\"Accuracy:\",metrics.accuracy_score(y_test, y_pred_sm))"
   ]
  },
  {
   "cell_type": "markdown",
   "metadata": {},
   "source": [
    "#### Data Preparation for Regression Task\n",
    "\n",
    "For Education Dataset, we choose the Graduration Rate as our response variable for a regression task. Because only high school have valid graduration rate variables, we choose to start with 2014-2017 high school datasets below. One hot-encoding procedure has been conducted similiarly with the dataset above. "
   ]
  },
  {
   "cell_type": "markdown",
   "metadata": {},
   "source": [
    "Data Preparation Workflow\n",
    "- Data Merge\n",
    "- Feature Selection"
   ]
  },
  {
   "cell_type": "code",
   "execution_count": 24,
   "metadata": {},
   "outputs": [
    {
     "data": {
      "text/plain": [
       "(476, 351)"
      ]
     },
     "execution_count": 24,
     "metadata": {},
     "output_type": "execute_result"
    },
    {
     "data": {
      "text/plain": [
       "(480, 412)"
      ]
     },
     "execution_count": 24,
     "metadata": {},
     "output_type": "execute_result"
    },
    {
     "data": {
      "text/plain": [
       "(478, 373)"
      ]
     },
     "execution_count": 24,
     "metadata": {},
     "output_type": "execute_result"
    },
    {
     "data": {
      "text/plain": [
       "(470, 403)"
      ]
     },
     "execution_count": 24,
     "metadata": {},
     "output_type": "execute_result"
    },
    {
     "data": {
      "text/plain": [
       "0       2014\n",
       "1       2014\n",
       "2       2014\n",
       "3       2014\n",
       "4       2014\n",
       "        ... \n",
       "1899    2017\n",
       "1900    2017\n",
       "1901    2017\n",
       "1902    2017\n",
       "1903    2017\n",
       "Name: Year, Length: 1904, dtype: int64"
      ]
     },
     "execution_count": 24,
     "metadata": {},
     "output_type": "execute_result"
    }
   ],
   "source": [
    "# read in CSV\n",
    "df2014 = pd.read_csv('C:/Users/taniat470s/Desktop/SMU_course/DS7331/EduData/EducationDataNC/2014/Machine Learning Datasets/PublicHighSchools2014_ML.csv')\n",
    "df2015 = pd.read_csv('C:/Users/taniat470s/Desktop/SMU_course/DS7331/EduData/EducationDataNC/2015/Machine Learning Datasets/PublicHighSchools2015_ML.csv')\n",
    "df2016 = pd.read_csv('C:/Users/taniat470s/Desktop/SMU_course/DS7331/EduData/EducationDataNC/2016/Machine Learning Datasets/PublicHighSchools2016_ML.csv')\n",
    "df2017 = pd.read_csv('C:/Users/taniat470s/Desktop/SMU_course/DS7331/EduData/EducationDataNC/2017/Machine Learning Datasets/PublicHighSchools2017_ML.csv')\n",
    "\n",
    "df2014.shape\n",
    "df2015.shape\n",
    "df2016.shape\n",
    "df2017.shape\n",
    "\n",
    "df2014['Year'] = 2014\n",
    "df2015['Year'] = 2015 \n",
    "df2016['Year'] = 2016 \n",
    "df2017['Year'] = 2017 \n",
    "\n",
    "frames = [df2014, df2015, df2016, df2017]\n",
    "df_comb_test = pd.concat(frames,join='inner', ignore_index=True)\n",
    "\n",
    "df_comb_test['Year']"
   ]
  },
  {
   "cell_type": "code",
   "execution_count": 25,
   "metadata": {},
   "outputs": [
    {
     "data": {
      "text/plain": [
       "Index(['GraduationRate_5yr_All', 'GraduationRate_4yr_Female',\n",
       "       'GraduationRate_5yr_Female', 'GraduationRate_4yr_Male',\n",
       "       'GraduationRate_5yr_Male', 'GraduationRate_4yr_AmericanIndian',\n",
       "       'GraduationRate_5yr_AmericanIndian', 'GraduationRate_4yr_Asian',\n",
       "       'GraduationRate_5yr_Asian', 'GraduationRate_4yr_Black',\n",
       "       'GraduationRate_5yr_Black', 'GraduationRate_4yr_Hispanic',\n",
       "       'GraduationRate_5yr_Hispanic', 'GraduationRate_4yr_TwoorMoreRaces',\n",
       "       'GraduationRate_5yr_TwoorMoreRaces', 'GraduationRate_4yr_White',\n",
       "       'GraduationRate_5yr_White', 'GraduationRate_4yr_EDS',\n",
       "       'GraduationRate_5yr_EDS', 'GraduationRate_4yr_LEP',\n",
       "       'GraduationRate_5yr_LEP', 'GraduationRate_4yr_SWD',\n",
       "       'GraduationRate_5yr_SWD', 'GraduationRate_4yr_AIG',\n",
       "       'GraduationRate_5yr_AIG'],\n",
       "      dtype='object')"
      ]
     },
     "execution_count": 25,
     "metadata": {},
     "output_type": "execute_result"
    }
   ],
   "source": [
    "schoolData = df_comb_test\n",
    "\n",
    "#Remove schools with graduation rates == 0 from the model\n",
    "schoolData = schoolData[schoolData['GraduationRate_5yr_All'] > 0]\n",
    "\n",
    "#Find Response Variable\n",
    "schoolData_GraduationRate_5yr = schoolData.GraduationRate_5yr_All\n",
    "\n",
    "# Remove any columns from the model's training data that are directly related to the graduation rate. \n",
    "GradRateCols = schoolData.columns[schoolData.columns.str.lower().str.contains('graduation')]\n",
    "GradRateCols"
   ]
  },
  {
   "cell_type": "code",
   "execution_count": 45,
   "metadata": {},
   "outputs": [],
   "source": [
    "#Delete the response variable and other graduation rate data columns from our training dataset\n",
    "X_predGradRate = schoolData.drop(GradRateCols, axis=1)\n",
    "\n",
    "Y_GradRate = schoolData_GraduationRate_5yr"
   ]
  },
  {
   "cell_type": "code",
   "execution_count": 55,
   "metadata": {},
   "outputs": [
    {
     "name": "stdout",
     "output_type": "stream",
     "text": [
      "The average MAE for all cv folds is: \t\t\t 3.7469\n",
      "The average MAE percentage (MAPE) for all cv folds is: \t 4.2349\n",
      "The average RMSE for all cv folds is: \t\t\t 4.8868\n",
      "*********************************************************\n",
      "Cross Validation Fold Mean Error Scores\n"
     ]
    },
    {
     "data": {
      "text/html": [
       "<div>\n",
       "<style scoped>\n",
       "    .dataframe tbody tr th:only-of-type {\n",
       "        vertical-align: middle;\n",
       "    }\n",
       "\n",
       "    .dataframe tbody tr th {\n",
       "        vertical-align: top;\n",
       "    }\n",
       "\n",
       "    .dataframe thead th {\n",
       "        text-align: right;\n",
       "    }\n",
       "</style>\n",
       "<table border=\"1\" class=\"dataframe\">\n",
       "  <thead>\n",
       "    <tr style=\"text-align: right;\">\n",
       "      <th></th>\n",
       "      <th>MAE</th>\n",
       "      <th>MAPE</th>\n",
       "      <th>RMSE</th>\n",
       "    </tr>\n",
       "  </thead>\n",
       "  <tbody>\n",
       "    <tr>\n",
       "      <th>0</th>\n",
       "      <td>4.000730</td>\n",
       "      <td>4.577567</td>\n",
       "      <td>5.373892</td>\n",
       "    </tr>\n",
       "    <tr>\n",
       "      <th>1</th>\n",
       "      <td>4.054610</td>\n",
       "      <td>4.493058</td>\n",
       "      <td>5.112391</td>\n",
       "    </tr>\n",
       "    <tr>\n",
       "      <th>2</th>\n",
       "      <td>3.554386</td>\n",
       "      <td>4.005055</td>\n",
       "      <td>4.854953</td>\n",
       "    </tr>\n",
       "    <tr>\n",
       "      <th>3</th>\n",
       "      <td>3.675547</td>\n",
       "      <td>4.189348</td>\n",
       "      <td>5.019531</td>\n",
       "    </tr>\n",
       "    <tr>\n",
       "      <th>4</th>\n",
       "      <td>3.380067</td>\n",
       "      <td>3.855515</td>\n",
       "      <td>4.487842</td>\n",
       "    </tr>\n",
       "    <tr>\n",
       "      <th>5</th>\n",
       "      <td>3.712535</td>\n",
       "      <td>4.209166</td>\n",
       "      <td>4.779840</td>\n",
       "    </tr>\n",
       "    <tr>\n",
       "      <th>6</th>\n",
       "      <td>3.732916</td>\n",
       "      <td>4.207476</td>\n",
       "      <td>5.045214</td>\n",
       "    </tr>\n",
       "    <tr>\n",
       "      <th>7</th>\n",
       "      <td>3.747741</td>\n",
       "      <td>4.267060</td>\n",
       "      <td>4.794589</td>\n",
       "    </tr>\n",
       "    <tr>\n",
       "      <th>8</th>\n",
       "      <td>3.823305</td>\n",
       "      <td>4.293651</td>\n",
       "      <td>4.712894</td>\n",
       "    </tr>\n",
       "    <tr>\n",
       "      <th>9</th>\n",
       "      <td>3.787541</td>\n",
       "      <td>4.250614</td>\n",
       "      <td>4.686826</td>\n",
       "    </tr>\n",
       "  </tbody>\n",
       "</table>\n",
       "</div>"
      ],
      "text/plain": [
       "        MAE      MAPE      RMSE\n",
       "0  4.000730  4.577567  5.373892\n",
       "1  4.054610  4.493058  5.112391\n",
       "2  3.554386  4.005055  4.854953\n",
       "3  3.675547  4.189348  5.019531\n",
       "4  3.380067  3.855515  4.487842\n",
       "5  3.712535  4.209166  4.779840\n",
       "6  3.732916  4.207476  5.045214\n",
       "7  3.747741  4.267060  4.794589\n",
       "8  3.823305  4.293651  4.712894\n",
       "9  3.787541  4.250614  4.686826"
      ]
     },
     "execution_count": 55,
     "metadata": {},
     "output_type": "execute_result"
    }
   ],
   "source": [
    "from sklearn.linear_model import ElasticNet\n",
    "\n",
    "regEstimator = ElasticNet(alpha=0.001, copy_X=True, fit_intercept=True, l1_ratio=1,\n",
    "           max_iter=10000, normalize=True, positive=False, precompute=True,\n",
    "           random_state=0, selection='random', tol=0.0001, warm_start=True)\n",
    "\n",
    "cv_shuf = ShuffleSplit(n_splits=10, test_size=0.10, random_state=42)\n",
    "\n",
    "#Evaluate the regression estimator above using our pre-defined cross validation and scoring metrics.\n",
    "EvaluateRegressionEstimator(regEstimator, X_predGradRate, Y_GradRate, cv_shuf)"
   ]
  },
  {
   "cell_type": "code",
   "execution_count": 46,
   "metadata": {},
   "outputs": [
    {
     "data": {
      "text/plain": [
       "263"
      ]
     },
     "execution_count": 46,
     "metadata": {},
     "output_type": "execute_result"
    }
   ],
   "source": [
    "X_predGradRate.shape[1]"
   ]
  },
  {
   "cell_type": "code",
   "execution_count": 47,
   "metadata": {},
   "outputs": [
    {
     "name": "stdout",
     "output_type": "stream",
     "text": [
      "Cumulative Explained variance at 200 components: 0.9896395173771044\n"
     ]
    },
    {
     "data": {
      "image/png": "[encoded data removed]",
      "text/plain": [
       "<Figure size 576x576 with 1 Axes>"
      ]
     },
     "metadata": {
      "needs_background": "light"
     },
     "output_type": "display_data"
    }
   ],
   "source": [
    "X_predGradRate_scal = ss.fit_transform(X_predGradRate)\n",
    "\n",
    "plot_pca(X_predGradRate_scal)"
   ]
  },
  {
   "cell_type": "code",
   "execution_count": 49,
   "metadata": {},
   "outputs": [],
   "source": [
    "# Convert X_sm to 200 principal components\n",
    "pca = PCA(n_components=200)\n",
    "X_predGradRate_pca200 = pca.fit_transform(X_predGradRate_scal)"
   ]
  },
  {
   "cell_type": "code",
   "execution_count": 56,
   "metadata": {},
   "outputs": [
    {
     "name": "stdout",
     "output_type": "stream",
     "text": [
      "The average MAE for all cv folds is: \t\t\t 3.8874\n",
      "The average MAE percentage (MAPE) for all cv folds is: \t 4.3916\n",
      "The average RMSE for all cv folds is: \t\t\t 5.0879\n",
      "*********************************************************\n",
      "Cross Validation Fold Mean Error Scores\n"
     ]
    },
    {
     "data": {
      "text/html": [
       "<div>\n",
       "<style scoped>\n",
       "    .dataframe tbody tr th:only-of-type {\n",
       "        vertical-align: middle;\n",
       "    }\n",
       "\n",
       "    .dataframe tbody tr th {\n",
       "        vertical-align: top;\n",
       "    }\n",
       "\n",
       "    .dataframe thead th {\n",
       "        text-align: right;\n",
       "    }\n",
       "</style>\n",
       "<table border=\"1\" class=\"dataframe\">\n",
       "  <thead>\n",
       "    <tr style=\"text-align: right;\">\n",
       "      <th></th>\n",
       "      <th>MAE</th>\n",
       "      <th>MAPE</th>\n",
       "      <th>RMSE</th>\n",
       "    </tr>\n",
       "  </thead>\n",
       "  <tbody>\n",
       "    <tr>\n",
       "      <th>0</th>\n",
       "      <td>4.096475</td>\n",
       "      <td>4.691322</td>\n",
       "      <td>5.511115</td>\n",
       "    </tr>\n",
       "    <tr>\n",
       "      <th>1</th>\n",
       "      <td>4.278014</td>\n",
       "      <td>4.729761</td>\n",
       "      <td>5.430965</td>\n",
       "    </tr>\n",
       "    <tr>\n",
       "      <th>2</th>\n",
       "      <td>3.762334</td>\n",
       "      <td>4.229568</td>\n",
       "      <td>5.131549</td>\n",
       "    </tr>\n",
       "    <tr>\n",
       "      <th>3</th>\n",
       "      <td>3.823241</td>\n",
       "      <td>4.354770</td>\n",
       "      <td>5.180339</td>\n",
       "    </tr>\n",
       "    <tr>\n",
       "      <th>4</th>\n",
       "      <td>3.391845</td>\n",
       "      <td>3.869740</td>\n",
       "      <td>4.616668</td>\n",
       "    </tr>\n",
       "    <tr>\n",
       "      <th>5</th>\n",
       "      <td>3.789780</td>\n",
       "      <td>4.294546</td>\n",
       "      <td>4.961250</td>\n",
       "    </tr>\n",
       "    <tr>\n",
       "      <th>6</th>\n",
       "      <td>3.902012</td>\n",
       "      <td>4.395352</td>\n",
       "      <td>5.177966</td>\n",
       "    </tr>\n",
       "    <tr>\n",
       "      <th>7</th>\n",
       "      <td>3.831644</td>\n",
       "      <td>4.377025</td>\n",
       "      <td>4.933422</td>\n",
       "    </tr>\n",
       "    <tr>\n",
       "      <th>8</th>\n",
       "      <td>4.084981</td>\n",
       "      <td>4.568718</td>\n",
       "      <td>5.041283</td>\n",
       "    </tr>\n",
       "    <tr>\n",
       "      <th>9</th>\n",
       "      <td>3.913243</td>\n",
       "      <td>4.404916</td>\n",
       "      <td>4.893997</td>\n",
       "    </tr>\n",
       "  </tbody>\n",
       "</table>\n",
       "</div>"
      ],
      "text/plain": [
       "        MAE      MAPE      RMSE\n",
       "0  4.096475  4.691322  5.511115\n",
       "1  4.278014  4.729761  5.430965\n",
       "2  3.762334  4.229568  5.131549\n",
       "3  3.823241  4.354770  5.180339\n",
       "4  3.391845  3.869740  4.616668\n",
       "5  3.789780  4.294546  4.961250\n",
       "6  3.902012  4.395352  5.177966\n",
       "7  3.831644  4.377025  4.933422\n",
       "8  4.084981  4.568718  5.041283\n",
       "9  3.913243  4.404916  4.893997"
      ]
     },
     "execution_count": 56,
     "metadata": {},
     "output_type": "execute_result"
    }
   ],
   "source": [
    "#Evaluate the regression estimator above using our pre-defined cross validation and scoring metrics.\n",
    "EvaluateRegressionEstimator(regEstimator, X_predGradRate_pca200, Y_GradRate, cv_shuf)"
   ]
  },
  {
   "cell_type": "markdown",
   "metadata": {},
   "source": [
    "### Data Preparation 2 - The Dataset\n",
    "Describe the final dataset that is used for classification/regression (include a description of any newly formed variables you created).Choose and explain your evaluation metrics that you will use (i.e., accuracy,"
   ]
  },
  {
   "cell_type": "markdown",
   "metadata": {},
   "source": [
    "#### Data Description for Classification Task\n",
    "\n",
    "The data set contains 9,731 records and 259 attributes that are comprised of factors, numbers, and characters. A data definition sheet can be found in Dr. Drew's github repository, [https://github.com/jakemdrew/EducationDataNC](https://github.com/jakemdrew/EducationDataNC/tree/master/Data%20Documentation). To scale the data to be more manageable, our data set includes 50 of the 259 attributes. \n",
    "\n",
    "These variables were chosen after initial EDA and correlation visuals were generated between SPG and all predictors. The data type, category and description are displayed in the following table.\n",
    "\n",
    "### Attributes\n",
    "| Attribute | DataType | Description |\n",
    "|:---|:---|:---|\n",
    "| SPG Grade                          | object  | School Performance Grade (Letter Grade - A-D, F) |\n",
    "| MinorityMalePct                    | float64 | Minority Male Perentage |\n",
    "| MinorityFemalePct                  | float64 | Minority Female Percentage |\n",
    "| short_susp_per_c_num               | float64 | Short term suspensions per 100 students at school level |\n",
    "| avg_daily_attend_pct               | float64 | Average daily attendance percentage at school level |\n",
    "| title1_type_cd_Y                   | uint8   | Title 1 Status |\n",
    "| BlackMalePct                       | float64 | Black Male Percentage |\n",
    "| AsianFemalePct                     | float64 | Asian Female Percentage |\n",
    "| BlackFemalePct                     | float64 | Black Female Percentage |\n",
    "| TotalTargets_pTarget_PctMet        | float64 | Percentage of total targets met |\n",
    "| HispanicMalePct                    | float64 | Hispanic Male Percentage |\n",
    "| MathGr3-8_pTarget_PctMet           | float64 | Percentage of students meeting Math target in grade levels 3 thru 8 |\n",
    "| AsianMalePct                       | float64 | Asian Male Percentage |\n",
    "| SciGr5&8_pTarget_PctMet            | float64 | Percentage of students meeting Science target in grade level 5 & 8 |\n",
    "| nbpts_num                          | float64 | Number of National Board Certified Staff at school level |\n",
    "| lea_sat_avg_score_num              | float64 | Average SAT score at LEA level |\n",
    "| stud_internet_comp_num             | float64 | Ratio of students to internet connected computer at school level |\n",
    "| st_avg_student_num                 | float64 | Average school size within the State |\n",
    "| HispanicFemalePct                  | float64 | Hispanic Female Percentage |\n",
    "| Accomplished_TCHR_Standard 4_Pct   | float64 | Percentage of accomplished teachers with teacher evaluation value of 4 |\n",
    "| Accomplished_TCHR_Standard 3_Pct   | float64 | Percentage of accomplished teachers with teacher evaluation value of 3 |\n",
    "| Developing_TCHR_Standard 2_Pct     | float64 | Percentage of developing teachers with teacher evaluation value of 2 |\n",
    "| Accomplished_TCHR_Standard 5_Pct   | float64 | Percentage of accomplished teachers with teacher evaluation value of 5 |\n",
    "| 10+ Years_LEA_Exp_Pct_Prin         | float64 | Percentage of principle with more than 10 years of experience at the LEA level |\n",
    "| 4-10 Years_LEA_Exp_Pct_Prin        | float64 | Percentage of principle with 4-10 years of experience at the LEA level |\n",
    "| Accomplished_TCHR_Standard 1_Pct   | float64 | Percentage of accomplished teachers with teacher evaluation value of 1 |\n",
    "| Accomplished_TCHR_Standard 2_Pct   | float64 | Percentage of accomplished teachers with teacher evaluation value of 2 |\n",
    "| Developing_TCHR_Standard 1_Pct     | float64 | Percentage of developing teachers with teacher evaluation value of 1 |\n",
    "| pct_GCE_ALL                        | float64 | Percentage of Third Grade Students Passed with Good Cause Exemption |\n",
    "| 0-3 Years_LEA_Exp_Pct_Prin         | float64 | Percentage of principle with 0-3 years of experience at the LEA level |\n",
    "| st_emer_prov_teach_pct             | float64 | Emerging teachers at State level |\n",
    "| lea_sat_participation_pct          | float64 | Percentage of HS students taking an SAT exam at the LEA level |\n",
    "| lea_ap_participation_pct           | float64 | Advanced Placement participation at LEA level |\n",
    "| lea_federal_perpupil_num           | float64 | Federal expense per pupil at LEA level |\n",
    "| lea_local_perpupil_num             | float64 | Local expense per pupil at LEA level |\n",
    "| advance_dgr_pct                    | float64 | Percent of teachers with masters or higher degree at school dgr |\n",
    "| Developing_TCHR_Standard 5_Pct     | float64 | Percentage of teacher with level 5 in Developing |\n",
    "| lateral_teach_pct                  | float64 | Lateral entry teacher percentage at school level |\n",
    "| lea_flicensed_teach_pct            | float64 | Average Percent of Teachers that meet NC fully licensed |\n",
    "| Developing_TCHR_Standard 3_Pct     | float64 | Percentage of teacher with level 3 in Developing |\n",
    "| lea_tchyrs_0thru3_pct              | float64 | LEA level Teacher experiences 0 to 3 years  |\n",
    "| lea_tchyrs_11plus_pct              | float64 | LEA level Teacher experiences over 11 years |\n",
    "| lea_nbpts_num                      | float64 | Average number of National Board Certified staff at LEA |\n",
    "| lea_advance_dgr_pct                | float64 | Average percent of teachers with masters or higher degree at LEA level |\n",
    "| lea_1yr_tchr_trnovr_pct            | float64 | One Year Teacher turnover percentage at school level |\n",
    "| lea_emer_prov_teach_pct            | float64 | Emerging teachers at LEA level |\n",
    "| st_flicensed_teach_pct             | float64 | Average Percent of Teachers that meet NC fully licensed |\n",
    "| st_tchyrs_0thru3_pct               | float64 | Percentage of teachers with 4-10 years of experience at the State level |\n",
    "| st_1yr_tchr_trnovr_pct             | float64 | Standardize One Year Teacher turnover percentage at school level |\n",
    "| lea_tchyrs_4thru10_pct             | float64 | Percentage of teachers with 4-10 years of experience at the LEA level |\n",
    "| Category_Cd_T                      | uint8   | School with Category code T (School has middle and high school grades) |"
   ]
  },
  {
   "cell_type": "markdown",
   "metadata": {},
   "source": [
    "For classification task:\n",
    "- Accuracy\n",
    "- Accuracy of each class\n",
    "- Confusion Matrix\n",
    "- ROC curves of each class and all classes\n",
    "- Optional: Precision and Recall"
   ]
  },
  {
   "cell_type": "code",
   "execution_count": 76,
   "metadata": {},
   "outputs": [
    {
     "name": "stdout",
     "output_type": "stream",
     "text": [
      "Total Accuracy: 0.8751573118550214\n",
      "Recalls for each class: [0.9831121833534379, 0.8329177057356608, 0.7179802955665024, 0.875, 0.9728997289972899]\n",
      "Precisions for each class: [0.9588235294117647, 0.8267326732673267, 0.786774628879892, 0.8440925700365408, 0.953519256308101]\n"
     ]
    }
   ],
   "source": [
    "# Compare input and predictions\n",
    "y=y_test\n",
    "yhat=y_pred_sm\n",
    "\n",
    "# get various measures of performance\n",
    "total_accuracy = mt.accuracy_score(y, yhat)\n",
    "\n",
    "rec_tot = []\n",
    "prec_tot = []\n",
    "\n",
    "for cls in np.unique(y):\n",
    "    idx = (y==cls) # get classes\n",
    "    ytmp_actual = np.zeros(y.shape) # make binary class problem\n",
    "    ytmp_actual[idx] = 1 # set the instances for this specific class\n",
    "    \n",
    "    ytmp_predicted = np.zeros(y.shape) # binary prediction array\n",
    "    ytmp_predicted[yhat==cls] = 1\n",
    "    \n",
    "    #num_in_class = sum(idx)\n",
    "    \n",
    "    rec = mt.recall_score(ytmp_actual, ytmp_predicted)\n",
    "    prec = mt.precision_score(ytmp_actual, ytmp_predicted)\n",
    "    rec_tot.append(rec)\n",
    "    prec_tot.append(prec)\n",
    "\n",
    "print ('Total Accuracy:',total_accuracy)\n",
    "print ('Recalls for each class:',rec_tot)\n",
    "print ('Precisions for each class:',prec_tot)"
   ]
  },
  {
   "cell_type": "code",
   "execution_count": 78,
   "metadata": {},
   "outputs": [
    {
     "data": {
      "image/png": "[encoded data removed]",
      "text/plain": [
       "<Figure size 432x288 with 1 Axes>"
      ]
     },
     "metadata": {
      "needs_background": "light"
     },
     "output_type": "display_data"
    }
   ],
   "source": [
    "def per_class_accuracy(y,yhat):\n",
    "    conf = mt.confusion_matrix(y,yhat)\n",
    "    norm_conf = conf.astype('float') / conf.sum(axis=1)[:, np.newaxis]\n",
    "    return np.diag(norm_conf)\n",
    "\n",
    "def plot_class_acc(ytrue,yhat, title=''):\n",
    "    acc_list = per_class_accuracy(ytrue,yhat)\n",
    "    plt.bar(range(len(acc_list)), acc_list)\n",
    "    plt.xlabel('Class value (one per face)')\n",
    "    plt.ylabel('Accuracy within class')\n",
    "    plt.title(title+\", Total Acc=%.1f\"%(100*mt.accuracy_score(ytrue,yhat)))\n",
    "    plt.grid()\n",
    "    plt.ylim([0,1])\n",
    "    plt.show()\n",
    " \n",
    "\n",
    "plot_class_acc(y,yhat,title=\"Example\")"
   ]
  },
  {
   "cell_type": "code",
   "execution_count": 79,
   "metadata": {},
   "outputs": [
    {
     "data": {
      "text/plain": [
       "<matplotlib.image.AxesImage at 0x265edf3d6c8>"
      ]
     },
     "execution_count": 79,
     "metadata": {},
     "output_type": "execute_result"
    },
    {
     "data": {
      "image/png": "[encoded data removed]",
      "text/plain": [
       "<Figure size 432x288 with 1 Axes>"
      ]
     },
     "metadata": {
      "needs_background": "light"
     },
     "output_type": "display_data"
    }
   ],
   "source": [
    "# how about plotting a confusion matrix?\n",
    "cm = mt.confusion_matrix(y, yhat)\n",
    "plt.imshow(cm,cmap=plt.get_cmap('Reds'),aspect='auto')\n",
    "plt.grid(False)"
   ]
  },
  {
   "cell_type": "code",
   "execution_count": 81,
   "metadata": {},
   "outputs": [
    {
     "data": {
      "text/plain": [
       "array([[0.02, 0.29, 0.47, 0.22, 0.  ],\n",
       "       [0.02, 0.91, 0.06, 0.01, 0.  ],\n",
       "       [0.  , 0.01, 0.12, 0.28, 0.59],\n",
       "       ...,\n",
       "       [0.  , 0.02, 0.17, 0.81, 0.  ],\n",
       "       [0.  , 0.  , 0.  , 0.01, 0.99],\n",
       "       [0.07, 0.21, 0.52, 0.19, 0.01]])"
      ]
     },
     "execution_count": 81,
     "metadata": {},
     "output_type": "execute_result"
    }
   ],
   "source": [
    "yhat_score = clfsm.predict_proba(X_test)\n",
    "yhat_score"
   ]
  },
  {
   "cell_type": "code",
   "execution_count": 94,
   "metadata": {},
   "outputs": [],
   "source": [
    "y_test_num= np.select(\n",
    "    [\n",
    "        y_test == 'A', \n",
    "        y_test == 'B',\n",
    "        y_test == 'C',\n",
    "        y_test == 'D',\n",
    "        y_test == 'F',\n",
    "    ], \n",
    "    [\n",
    "        '0', \n",
    "        '1',\n",
    "        '2',\n",
    "        '3',\n",
    "        '4',\n",
    "    ],\n",
    "    default='NA'\n",
    ")\n",
    "\n",
    "y_test_num = y_test_num.astype(int)"
   ]
  },
  {
   "cell_type": "code",
   "execution_count": 97,
   "metadata": {},
   "outputs": [],
   "source": [
    "y=y_test_num"
   ]
  },
  {
   "cell_type": "code",
   "execution_count": 98,
   "metadata": {
    "scrolled": true
   },
   "outputs": [
    {
     "data": {
      "text/plain": [
       "[<matplotlib.lines.Line2D at 0x265edfb9148>]"
      ]
     },
     "execution_count": 98,
     "metadata": {},
     "output_type": "execute_result"
    },
    {
     "data": {
      "text/plain": [
       "[<matplotlib.lines.Line2D at 0x265edf9aac8>]"
      ]
     },
     "execution_count": 98,
     "metadata": {},
     "output_type": "execute_result"
    },
    {
     "data": {
      "text/plain": [
       "[<matplotlib.lines.Line2D at 0x265ebae5cc8>]"
      ]
     },
     "execution_count": 98,
     "metadata": {},
     "output_type": "execute_result"
    },
    {
     "data": {
      "text/plain": [
       "[<matplotlib.lines.Line2D at 0x265edfcb388>]"
      ]
     },
     "execution_count": 98,
     "metadata": {},
     "output_type": "execute_result"
    },
    {
     "data": {
      "text/plain": [
       "[<matplotlib.lines.Line2D at 0x265edfc9208>]"
      ]
     },
     "execution_count": 98,
     "metadata": {},
     "output_type": "execute_result"
    },
    {
     "data": {
      "text/plain": [
       "<matplotlib.legend.Legend at 0x265edfd1d08>"
      ]
     },
     "execution_count": 98,
     "metadata": {},
     "output_type": "execute_result"
    },
    {
     "data": {
      "text/plain": [
       "Text(0.5, 0, 'False Positive Rate')"
      ]
     },
     "execution_count": 98,
     "metadata": {},
     "output_type": "execute_result"
    },
    {
     "data": {
      "text/plain": [
       "Text(0, 0.5, 'True Positive Rate')"
      ]
     },
     "execution_count": 98,
     "metadata": {},
     "output_type": "execute_result"
    },
    {
     "data": {
      "image/png": "[encoded data removed]",
      "text/plain": [
       "<Figure size 432x288 with 1 Axes>"
      ]
     },
     "metadata": {
      "needs_background": "light"
     },
     "output_type": "display_data"
    }
   ],
   "source": [
    "# Compute ROC curve for a subset of interesting classes\n",
    "fpr = dict()\n",
    "tpr = dict()\n",
    "roc_auc = dict()\n",
    "for i in np.unique(y):\n",
    "    fpr[i], tpr[i], _ = mt.roc_curve(y, yhat_score[:, i], pos_label=i)\n",
    "    roc_auc[i] = mt.auc(fpr[i], tpr[i])\n",
    "    \n",
    "for i in np.random.permutation(5)[0:5]:\n",
    "    plt.plot(fpr[i], tpr[i], label='class {0} with {1} instances (area = {2:0.2f})'\n",
    "                                   ''.format(i, sum(y==i), roc_auc[i]))\n",
    "\n",
    "plt.legend(loc=\"lower right\")  \n",
    "plt.xlabel('False Positive Rate')\n",
    "plt.ylabel('True Positive Rate')\n",
    "plt.show()"
   ]
  },
  {
   "cell_type": "code",
   "execution_count": 100,
   "metadata": {},
   "outputs": [
    {
     "data": {
      "text/plain": [
       "array([[0, 0, 1, 0, 0],\n",
       "       [0, 1, 0, 0, 0],\n",
       "       [0, 0, 0, 0, 1],\n",
       "       ...,\n",
       "       [0, 0, 0, 1, 0],\n",
       "       [0, 0, 0, 0, 1],\n",
       "       [0, 0, 1, 0, 0]])"
      ]
     },
     "execution_count": 100,
     "metadata": {},
     "output_type": "execute_result"
    }
   ],
   "source": [
    "from sklearn.preprocessing import label_binarize\n",
    "one_hot_class_encoding = label_binarize(y,np.unique(y))\n",
    "one_hot_class_encoding"
   ]
  },
  {
   "cell_type": "code",
   "execution_count": 107,
   "metadata": {},
   "outputs": [],
   "source": [
    "fpr[\"micro\"], tpr[\"micro\"], _ = mt.roc_curve(one_hot_class_encoding.ravel(), yhat_score.ravel())\n",
    "roc_auc[\"micro\"] = mt.auc(fpr[\"micro\"], tpr[\"micro\"])"
   ]
  },
  {
   "cell_type": "code",
   "execution_count": 108,
   "metadata": {},
   "outputs": [
    {
     "data": {
      "text/plain": [
       "<Figure size 864x288 with 0 Axes>"
      ]
     },
     "execution_count": 108,
     "metadata": {},
     "output_type": "execute_result"
    },
    {
     "data": {
      "text/plain": [
       "[<matplotlib.lines.Line2D at 0x265ee066688>]"
      ]
     },
     "execution_count": 108,
     "metadata": {},
     "output_type": "execute_result"
    },
    {
     "data": {
      "image/png": "[encoded data removed]",
      "text/plain": [
       "<Figure size 864x288 with 1 Axes>"
      ]
     },
     "metadata": {
      "needs_background": "light"
     },
     "output_type": "display_data"
    }
   ],
   "source": [
    "plt.figure(figsize=(12,4))\n",
    "plt.plot(fpr[\"micro\"], tpr[\"micro\"],\n",
    "         label='micro-average ROC curve (area = {0:0.2f})'\n",
    "               ''.format(roc_auc[\"micro\"]))"
   ]
  },
  {
   "cell_type": "markdown",
   "metadata": {},
   "source": [
    "#### Data Description for Regression Task\n",
    "\n",
    "The data set contains 1,811 records and 263 attributes that are comprised of factors, numbers, and characters. A data definition sheet can be found in Dr. Drew's github repository, [https://github.com/jakemdrew/EducationDataNC](https://github.com/jakemdrew/EducationDataNC/tree/master/Data%20Documentation). Because we need at least 40,000 records for this task, we are using all the attributes for this regression task. \n",
    "\n",
    "The data type, category and description are displayed in the following table.\n",
    "### Attributes\n",
    "| Attribute | DataType | Description |"
   ]
  },
  {
   "cell_type": "code",
   "execution_count": 8,
   "metadata": {},
   "outputs": [
    {
     "data": {
      "text/html": [
       "<div>\n",
       "<style scoped>\n",
       "    .dataframe tbody tr th:only-of-type {\n",
       "        vertical-align: middle;\n",
       "    }\n",
       "\n",
       "    .dataframe tbody tr th {\n",
       "        vertical-align: top;\n",
       "    }\n",
       "\n",
       "    .dataframe thead th {\n",
       "        text-align: right;\n",
       "    }\n",
       "</style>\n",
       "<table border=\"1\" class=\"dataframe\">\n",
       "  <thead>\n",
       "    <tr style=\"text-align: right;\">\n",
       "      <th></th>\n",
       "      <th>student_num</th>\n",
       "      <th>lea_avg_student_num</th>\n",
       "      <th>st_avg_student_num</th>\n",
       "      <th>Biology_Size</th>\n",
       "      <th>English II_Size</th>\n",
       "      <th>Math I_Size</th>\n",
       "      <th>lea_total_expense_num</th>\n",
       "      <th>lea_salary_expense_pct</th>\n",
       "      <th>lea_services_expense_pct</th>\n",
       "      <th>lea_supplies_expense_pct</th>\n",
       "      <th>...</th>\n",
       "      <th>calendar_type_txt_Regular School, Year-Round Calendar</th>\n",
       "      <th>esea_status_P</th>\n",
       "      <th>Grad_project_status_Y</th>\n",
       "      <th>SPG Grade_B</th>\n",
       "      <th>SPG Grade_C</th>\n",
       "      <th>SPG Grade_D</th>\n",
       "      <th>EVAAS Growth Status_Met</th>\n",
       "      <th>EVAAS Growth Status_NotMet</th>\n",
       "      <th>unit_code</th>\n",
       "      <th>Year</th>\n",
       "    </tr>\n",
       "  </thead>\n",
       "  <tbody>\n",
       "    <tr>\n",
       "      <th>count</th>\n",
       "      <td>1811.000000</td>\n",
       "      <td>1811.000000</td>\n",
       "      <td>1811.000000</td>\n",
       "      <td>1811.000000</td>\n",
       "      <td>1811.000000</td>\n",
       "      <td>1811.000000</td>\n",
       "      <td>1811.000000</td>\n",
       "      <td>1811.000000</td>\n",
       "      <td>1811.000000</td>\n",
       "      <td>1811.000000</td>\n",
       "      <td>...</td>\n",
       "      <td>1811.000000</td>\n",
       "      <td>1811.000000</td>\n",
       "      <td>1811.000000</td>\n",
       "      <td>1811.000000</td>\n",
       "      <td>1811.000000</td>\n",
       "      <td>1811.000000</td>\n",
       "      <td>1811.000000</td>\n",
       "      <td>1811.000000</td>\n",
       "      <td>1811.000000</td>\n",
       "      <td>1811.000000</td>\n",
       "    </tr>\n",
       "    <tr>\n",
       "      <th>mean</th>\n",
       "      <td>877.722253</td>\n",
       "      <td>832.858642</td>\n",
       "      <td>832.726118</td>\n",
       "      <td>18.930425</td>\n",
       "      <td>19.615130</td>\n",
       "      <td>18.453341</td>\n",
       "      <td>9084.812656</td>\n",
       "      <td>0.669730</td>\n",
       "      <td>0.081085</td>\n",
       "      <td>0.081854</td>\n",
       "      <td>...</td>\n",
       "      <td>0.014909</td>\n",
       "      <td>0.034787</td>\n",
       "      <td>0.406405</td>\n",
       "      <td>0.341248</td>\n",
       "      <td>0.402540</td>\n",
       "      <td>0.088349</td>\n",
       "      <td>0.321369</td>\n",
       "      <td>0.317504</td>\n",
       "      <td>507337.515737</td>\n",
       "      <td>2015.493650</td>\n",
       "    </tr>\n",
       "    <tr>\n",
       "      <th>std</th>\n",
       "      <td>585.214712</td>\n",
       "      <td>348.911687</td>\n",
       "      <td>94.675672</td>\n",
       "      <td>5.208325</td>\n",
       "      <td>5.124998</td>\n",
       "      <td>5.340805</td>\n",
       "      <td>1172.136628</td>\n",
       "      <td>0.094682</td>\n",
       "      <td>0.016434</td>\n",
       "      <td>0.015835</td>\n",
       "      <td>...</td>\n",
       "      <td>0.121222</td>\n",
       "      <td>0.183292</td>\n",
       "      <td>0.491298</td>\n",
       "      <td>0.474259</td>\n",
       "      <td>0.490545</td>\n",
       "      <td>0.283880</td>\n",
       "      <td>0.467131</td>\n",
       "      <td>0.465634</td>\n",
       "      <td>278643.806890</td>\n",
       "      <td>1.113125</td>\n",
       "    </tr>\n",
       "    <tr>\n",
       "      <th>min</th>\n",
       "      <td>16.000000</td>\n",
       "      <td>105.000000</td>\n",
       "      <td>252.000000</td>\n",
       "      <td>0.000000</td>\n",
       "      <td>0.000000</td>\n",
       "      <td>0.000000</td>\n",
       "      <td>7282.190000</td>\n",
       "      <td>0.547000</td>\n",
       "      <td>0.047000</td>\n",
       "      <td>0.028000</td>\n",
       "      <td>...</td>\n",
       "      <td>0.000000</td>\n",
       "      <td>0.000000</td>\n",
       "      <td>0.000000</td>\n",
       "      <td>0.000000</td>\n",
       "      <td>0.000000</td>\n",
       "      <td>0.000000</td>\n",
       "      <td>0.000000</td>\n",
       "      <td>0.000000</td>\n",
       "      <td>10303.000000</td>\n",
       "      <td>2014.000000</td>\n",
       "    </tr>\n",
       "    <tr>\n",
       "      <th>25%</th>\n",
       "      <td>366.500000</td>\n",
       "      <td>598.000000</td>\n",
       "      <td>837.000000</td>\n",
       "      <td>16.000000</td>\n",
       "      <td>17.000000</td>\n",
       "      <td>16.000000</td>\n",
       "      <td>8362.900000</td>\n",
       "      <td>0.611000</td>\n",
       "      <td>0.069000</td>\n",
       "      <td>0.072000</td>\n",
       "      <td>...</td>\n",
       "      <td>0.000000</td>\n",
       "      <td>0.000000</td>\n",
       "      <td>0.000000</td>\n",
       "      <td>0.000000</td>\n",
       "      <td>0.000000</td>\n",
       "      <td>0.000000</td>\n",
       "      <td>0.000000</td>\n",
       "      <td>0.000000</td>\n",
       "      <td>280304.000000</td>\n",
       "      <td>2015.000000</td>\n",
       "    </tr>\n",
       "    <tr>\n",
       "      <th>50%</th>\n",
       "      <td>813.000000</td>\n",
       "      <td>812.000000</td>\n",
       "      <td>848.000000</td>\n",
       "      <td>19.000000</td>\n",
       "      <td>20.000000</td>\n",
       "      <td>19.000000</td>\n",
       "      <td>8821.640000</td>\n",
       "      <td>0.626000</td>\n",
       "      <td>0.081000</td>\n",
       "      <td>0.082000</td>\n",
       "      <td>...</td>\n",
       "      <td>0.000000</td>\n",
       "      <td>0.000000</td>\n",
       "      <td>0.000000</td>\n",
       "      <td>0.000000</td>\n",
       "      <td>0.000000</td>\n",
       "      <td>0.000000</td>\n",
       "      <td>0.000000</td>\n",
       "      <td>0.000000</td>\n",
       "      <td>490362.000000</td>\n",
       "      <td>2015.000000</td>\n",
       "    </tr>\n",
       "    <tr>\n",
       "      <th>75%</th>\n",
       "      <td>1236.500000</td>\n",
       "      <td>974.000000</td>\n",
       "      <td>853.000000</td>\n",
       "      <td>23.000000</td>\n",
       "      <td>23.000000</td>\n",
       "      <td>22.000000</td>\n",
       "      <td>9405.800000</td>\n",
       "      <td>0.655000</td>\n",
       "      <td>0.089000</td>\n",
       "      <td>0.092000</td>\n",
       "      <td>...</td>\n",
       "      <td>0.000000</td>\n",
       "      <td>0.000000</td>\n",
       "      <td>1.000000</td>\n",
       "      <td>1.000000</td>\n",
       "      <td>1.000000</td>\n",
       "      <td>0.000000</td>\n",
       "      <td>1.000000</td>\n",
       "      <td>1.000000</td>\n",
       "      <td>760369.000000</td>\n",
       "      <td>2016.000000</td>\n",
       "    </tr>\n",
       "    <tr>\n",
       "      <th>max</th>\n",
       "      <td>2966.000000</td>\n",
       "      <td>1852.000000</td>\n",
       "      <td>860.000000</td>\n",
       "      <td>32.000000</td>\n",
       "      <td>35.000000</td>\n",
       "      <td>37.000000</td>\n",
       "      <td>17801.850000</td>\n",
       "      <td>0.878000</td>\n",
       "      <td>0.153000</td>\n",
       "      <td>0.143000</td>\n",
       "      <td>...</td>\n",
       "      <td>1.000000</td>\n",
       "      <td>1.000000</td>\n",
       "      <td>1.000000</td>\n",
       "      <td>1.000000</td>\n",
       "      <td>1.000000</td>\n",
       "      <td>1.000000</td>\n",
       "      <td>1.000000</td>\n",
       "      <td>1.000000</td>\n",
       "      <td>995330.000000</td>\n",
       "      <td>2017.000000</td>\n",
       "    </tr>\n",
       "  </tbody>\n",
       "</table>\n",
       "<p>8 rows × 263 columns</p>\n",
       "</div>"
      ],
      "text/plain": [
       "       student_num  lea_avg_student_num  st_avg_student_num  Biology_Size  \\\n",
       "count  1811.000000          1811.000000         1811.000000   1811.000000   \n",
       "mean    877.722253           832.858642          832.726118     18.930425   \n",
       "std     585.214712           348.911687           94.675672      5.208325   \n",
       "min      16.000000           105.000000          252.000000      0.000000   \n",
       "25%     366.500000           598.000000          837.000000     16.000000   \n",
       "50%     813.000000           812.000000          848.000000     19.000000   \n",
       "75%    1236.500000           974.000000          853.000000     23.000000   \n",
       "max    2966.000000          1852.000000          860.000000     32.000000   \n",
       "\n",
       "       English II_Size  Math I_Size  lea_total_expense_num  \\\n",
       "count      1811.000000  1811.000000            1811.000000   \n",
       "mean         19.615130    18.453341            9084.812656   \n",
       "std           5.124998     5.340805            1172.136628   \n",
       "min           0.000000     0.000000            7282.190000   \n",
       "25%          17.000000    16.000000            8362.900000   \n",
       "50%          20.000000    19.000000            8821.640000   \n",
       "75%          23.000000    22.000000            9405.800000   \n",
       "max          35.000000    37.000000           17801.850000   \n",
       "\n",
       "       lea_salary_expense_pct  lea_services_expense_pct  \\\n",
       "count             1811.000000               1811.000000   \n",
       "mean                 0.669730                  0.081085   \n",
       "std                  0.094682                  0.016434   \n",
       "min                  0.547000                  0.047000   \n",
       "25%                  0.611000                  0.069000   \n",
       "50%                  0.626000                  0.081000   \n",
       "75%                  0.655000                  0.089000   \n",
       "max                  0.878000                  0.153000   \n",
       "\n",
       "       lea_supplies_expense_pct  ...  \\\n",
       "count               1811.000000  ...   \n",
       "mean                   0.081854  ...   \n",
       "std                    0.015835  ...   \n",
       "min                    0.028000  ...   \n",
       "25%                    0.072000  ...   \n",
       "50%                    0.082000  ...   \n",
       "75%                    0.092000  ...   \n",
       "max                    0.143000  ...   \n",
       "\n",
       "       calendar_type_txt_Regular School, Year-Round Calendar  esea_status_P  \\\n",
       "count                                        1811.000000        1811.000000   \n",
       "mean                                            0.014909           0.034787   \n",
       "std                                             0.121222           0.183292   \n",
       "min                                             0.000000           0.000000   \n",
       "25%                                             0.000000           0.000000   \n",
       "50%                                             0.000000           0.000000   \n",
       "75%                                             0.000000           0.000000   \n",
       "max                                             1.000000           1.000000   \n",
       "\n",
       "       Grad_project_status_Y  SPG Grade_B  SPG Grade_C  SPG Grade_D  \\\n",
       "count            1811.000000  1811.000000  1811.000000  1811.000000   \n",
       "mean                0.406405     0.341248     0.402540     0.088349   \n",
       "std                 0.491298     0.474259     0.490545     0.283880   \n",
       "min                 0.000000     0.000000     0.000000     0.000000   \n",
       "25%                 0.000000     0.000000     0.000000     0.000000   \n",
       "50%                 0.000000     0.000000     0.000000     0.000000   \n",
       "75%                 1.000000     1.000000     1.000000     0.000000   \n",
       "max                 1.000000     1.000000     1.000000     1.000000   \n",
       "\n",
       "       EVAAS Growth Status_Met  EVAAS Growth Status_NotMet      unit_code  \\\n",
       "count              1811.000000                 1811.000000    1811.000000   \n",
       "mean                  0.321369                    0.317504  507337.515737   \n",
       "std                   0.467131                    0.465634  278643.806890   \n",
       "min                   0.000000                    0.000000   10303.000000   \n",
       "25%                   0.000000                    0.000000  280304.000000   \n",
       "50%                   0.000000                    0.000000  490362.000000   \n",
       "75%                   1.000000                    1.000000  760369.000000   \n",
       "max                   1.000000                    1.000000  995330.000000   \n",
       "\n",
       "              Year  \n",
       "count  1811.000000  \n",
       "mean   2015.493650  \n",
       "std       1.113125  \n",
       "min    2014.000000  \n",
       "25%    2015.000000  \n",
       "50%    2015.000000  \n",
       "75%    2016.000000  \n",
       "max    2017.000000  \n",
       "\n",
       "[8 rows x 263 columns]"
      ]
     },
     "execution_count": 8,
     "metadata": {},
     "output_type": "execute_result"
    },
    {
     "data": {
      "text/plain": [
       "(1811, 263)"
      ]
     },
     "execution_count": 8,
     "metadata": {},
     "output_type": "execute_result"
    }
   ],
   "source": [
    "X_schoolData.describe()\n",
    "X_schoolData.shape"
   ]
  },
  {
   "cell_type": "markdown",
   "metadata": {},
   "source": [
    "For regression task:\n",
    "- Matrix of MAE, RMSE and MAPE"
   ]
  },
  {
   "cell_type": "code",
   "execution_count": 53,
   "metadata": {},
   "outputs": [],
   "source": [
    "#Divide data into test and training splits\n",
    "from sklearn.model_selection import ShuffleSplit\n",
    "cv = ShuffleSplit(n_splits=10, test_size=0.10, random_state=42)"
   ]
  },
  {
   "cell_type": "code",
   "execution_count": 52,
   "metadata": {},
   "outputs": [],
   "source": [
    "#The below function reference to https://github.com/jakemdrew/DataMiningNotebooks/blob/master/07.%20Regression.ipynb\n",
    "#Use mean absolute error (MAE) to score the regression models created \n",
    "#(the scale of MAE is identical to the response variable)\n",
    "from sklearn.metrics import mean_absolute_error, make_scorer, mean_squared_error\n",
    "\n",
    "#Function for Root mean squared error\n",
    "def rmse(y_actual, y_predicted):\n",
    "    return np.sqrt(mean_squared_error(y_actual, y_predicted))\n",
    "\n",
    "#Function for Mean Absolute Percentage Error (MAPE) - Untested\n",
    "#Adapted from - https://stackoverflow.com/questions/42250958/how-to-optimize-mape-code-in-python\n",
    "def mape(y_actual, y_predicted): \n",
    "    mask = y_actual != 0\n",
    "    return (np.fabs(y_actual - y_predicted)/y_actual)[mask].mean() * 100\n",
    "\n",
    "#Create scorers for rmse and mape functions\n",
    "mae_scorer = make_scorer(score_func=mean_absolute_error, greater_is_better=False)\n",
    "rmse_scorer = make_scorer(score_func=rmse, greater_is_better=False)\n",
    "mape_scorer = make_scorer(score_func=mape, greater_is_better=False)\n",
    "\n",
    "#Make scorer array to pass into cross_validate() function for producing mutiple scores for each cv fold.\n",
    "errorScoring = {'MAE':  mae_scorer, \n",
    "                'RMSE': rmse_scorer,\n",
    "                'MAPE': mape_scorer\n",
    "               }"
   ]
  },
  {
   "cell_type": "code",
   "execution_count": 54,
   "metadata": {},
   "outputs": [],
   "source": [
    "from sklearn.model_selection import cross_validate\n",
    "\n",
    "def EvaluateRegressionEstimator(regEstimator, X, y, cv):\n",
    "    \n",
    "    scores = cross_validate(regEstimator, X, y, scoring=errorScoring, cv=cv, return_train_score=True)\n",
    "\n",
    "    #cross val score sign-flips the outputs of MAE\n",
    "    scores['test_MAE'] = scores['test_MAE'] * -1\n",
    "    scores['test_MAPE'] = scores['test_MAPE'] * -1\n",
    "    scores['test_RMSE'] = scores['test_RMSE'] * -1\n",
    "\n",
    "    #print mean MAE for all folds \n",
    "    maeAvg = scores['test_MAE'].mean()\n",
    "    print_str = \"The average MAE for all cv folds is: \\t\\t\\t {maeAvg:.5}\"\n",
    "    print(print_str.format(maeAvg=maeAvg))\n",
    "\n",
    "    #print mean test_MAPE for all folds\n",
    "    scores['test_MAPE'] = scores['test_MAPE']\n",
    "    mape_avg = scores['test_MAPE'].mean()\n",
    "    print_str = \"The average MAE percentage (MAPE) for all cv folds is: \\t {mape_avg:.5}\"\n",
    "    print(print_str.format(mape_avg=mape_avg))\n",
    "\n",
    "    #print mean MAE for all folds \n",
    "    RMSEavg = scores['test_RMSE'].mean()\n",
    "    print_str = \"The average RMSE for all cv folds is: \\t\\t\\t {RMSEavg:.5}\"\n",
    "    print(print_str.format(RMSEavg=RMSEavg))\n",
    "    print('*********************************************************')\n",
    "\n",
    "    print('Cross Validation Fold Mean Error Scores')\n",
    "    scoresResults = pd.DataFrame()\n",
    "    scoresResults['MAE'] = scores['test_MAE']\n",
    "    scoresResults['MAPE'] = scores['test_MAPE']\n",
    "    scoresResults['RMSE'] = scores['test_RMSE']\n",
    "    return scoresResults"
   ]
  },
  {
   "cell_type": "markdown",
   "metadata": {},
   "source": [
    "### Exceptional Work\n",
    "<!-- Gridsearch -->"
   ]
  },
  {
   "cell_type": "markdown",
   "metadata": {},
   "source": [
    "## Modeling and Evaluation\n",
    "### Model Evaluation 1"
   ]
  },
  {
   "cell_type": "markdown",
   "metadata": {},
   "source": [
    "### Model Evaluation 2"
   ]
  },
  {
   "cell_type": "markdown",
   "metadata": {},
   "source": [
    "### Model Evaluation 3"
   ]
  },
  {
   "cell_type": "markdown",
   "metadata": {},
   "source": [
    "### Model Evaluation 4"
   ]
  },
  {
   "cell_type": "markdown",
   "metadata": {},
   "source": [
    "### Model Evaluation 5"
   ]
  },
  {
   "cell_type": "markdown",
   "metadata": {},
   "source": [
    "### Model Evaluation 6"
   ]
  },
  {
   "cell_type": "markdown",
   "metadata": {},
   "source": [
    "### Deployment"
   ]
  },
  {
   "cell_type": "markdown",
   "metadata": {},
   "source": [
    "### Appendix"
   ]
  }
 ],
 "metadata": {
  "kernelspec": {
   "display_name": "Python 3",
   "language": "python",
   "name": "python3"
  },
  "language_info": {
   "codemirror_mode": {
    "name": "ipython",
    "version": 3
   },
   "file_extension": ".py",
   "mimetype": "text/x-python",
   "name": "python",
   "nbconvert_exporter": "python",
   "pygments_lexer": "ipython3",
   "version": "3.7.7"
  }
 },
 "nbformat": 4,
 "nbformat_minor": 4
}
